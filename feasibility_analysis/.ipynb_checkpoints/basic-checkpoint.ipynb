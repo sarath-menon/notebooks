{
 "cells": [
  {
   "cell_type": "code",
   "execution_count": 1,
   "id": "4620466c-3e09-458f-8049-98bacd40bab5",
   "metadata": {},
   "outputs": [
    {
     "name": "stderr",
     "output_type": "stream",
     "text": [
      "\u001b[32m\u001b[1m  Activating\u001b[22m\u001b[39m project at `~/Documents/eth_courses/notebooks/feasibility_analysis`\n"
     ]
    }
   ],
   "source": [
    "import Pkg; Pkg.activate(@__DIR__); Pkg.instantiate()"
   ]
  },
  {
   "cell_type": "code",
   "execution_count": 2,
   "id": "6ad857ab-2f4d-4f16-9677-26ec42d2850e",
   "metadata": {},
   "outputs": [],
   "source": [
    "using LinearAlgebra"
   ]
  },
  {
   "cell_type": "markdown",
   "id": "1e4af6ca-f1e9-45a7-8acf-917a8471a060",
   "metadata": {},
   "source": [
    "# Data"
   ]
  },
  {
   "cell_type": "code",
   "execution_count": 54,
   "id": "6f80d6ac-639f-42dc-9b34-e9fe6d873a35",
   "metadata": {},
   "outputs": [
    {
     "data": {
      "text/plain": [
       "9.81"
      ]
     },
     "execution_count": 54,
     "metadata": {},
     "output_type": "execute_result"
    }
   ],
   "source": [
    "# for vel of 61 m/s\n",
    "cessna  = (;ld_ratio=11.2, mass=1338.9, vel = 61.0)\n",
    "quadcopter  = (;ld_ratio=1.25, mass=160.0, vel = 45.0, η_p=0.6, n_motor=8)\n",
    "battery = (; mass=2, V = 51.8, Ah = 7.2, Ah_reality_factor=0.95, C_rate=50, η_c = 0.85, price=497)\n",
    "environment = (;headwind = 30)\n",
    "\n",
    "cost_table = (;electricity_per_kWh=0.1)\n",
    "\n",
    "\n",
    "const g = 9.81"
   ]
  },
  {
   "cell_type": "markdown",
   "id": "3b3ebf0f-d7e8-42f1-a6ac-dab4e1a2f1f3",
   "metadata": {},
   "source": [
    "## Functions"
   ]
  },
  {
   "cell_type": "code",
   "execution_count": 4,
   "id": "65958b93-87b0-4f35-bcb2-973eb28e0cc2",
   "metadata": {},
   "outputs": [
    {
     "data": {
      "text/plain": [
       "power_req_per_motor (generic function with 1 method)"
      ]
     },
     "execution_count": 4,
     "metadata": {},
     "output_type": "execute_result"
    }
   ],
   "source": [
    "lift_drag_ratio(;C_L, C_D) = C_L/ C_D\n",
    "\n",
    "thrust_req(v) = (v.mass) / v.ld_ratio # [kg]\n",
    "power_req(v) =  (thrust_req(v) * v.vel) / 370.0 # [W]\n",
    "power_available(v) = power_req(v) * v.η_p\n",
    "\n",
    "actual_power_req(v) = power_req(v) / v.η_p\n",
    "\n",
    "power_req_per_motor(vehicle ;n_motor) =  power_req(vehicle) / n_motor # [W]"
   ]
  },
  {
   "cell_type": "markdown",
   "id": "857423fb-cddd-453c-9b7b-4ad107b6287a",
   "metadata": {},
   "source": [
    "## Cessna"
   ]
  },
  {
   "cell_type": "code",
   "execution_count": 5,
   "id": "ef908a6a-bdb2-4a56-8064-cce667dbb122",
   "metadata": {},
   "outputs": [
    {
     "data": {
      "text/plain": [
       "19.708711389961394"
      ]
     },
     "execution_count": 5,
     "metadata": {},
     "output_type": "execute_result"
    }
   ],
   "source": [
    "thrust_req(cessna) # [kg]\n",
    "power_req(cessna) # [Watt]"
   ]
  },
  {
   "cell_type": "markdown",
   "id": "e0a02890-729f-4127-bccf-d3b75d5e9ee1",
   "metadata": {},
   "source": [
    "# D'Andrea Model"
   ]
  },
  {
   "cell_type": "code",
   "execution_count": 28,
   "id": "efb73317-0f25-4dfc-9e29-0121889bfa5b",
   "metadata": {},
   "outputs": [
    {
     "name": "stdout",
     "output_type": "stream",
     "text": [
      "thrust_req(quadcopter) = 128.0\n",
      "power_req(quadcopter) = 27.166153846153847\n",
      "actual_power_req(quadcopter) = 41.79408284023668\n"
     ]
    },
    {
     "data": {
      "text/plain": [
       "41.79408284023668"
      ]
     },
     "execution_count": 28,
     "metadata": {},
     "output_type": "execute_result"
    }
   ],
   "source": [
    "@show thrust_req(quadcopter) # [kg]\n",
    "@show power_req(quadcopter) # [kW]\n",
    "@show actual_power_req(quadcopter) # [kW]"
   ]
  },
  {
   "cell_type": "markdown",
   "id": "1fb34cae-a194-44a9-80e2-e115ce636663",
   "metadata": {},
   "source": [
    "## Battery"
   ]
  },
  {
   "cell_type": "code",
   "execution_count": 29,
   "id": "456f75fa-659f-46cc-9c10-899e1155469b",
   "metadata": {},
   "outputs": [
    {
     "data": {
      "text/plain": [
       "specific_energy (generic function with 1 method)"
      ]
     },
     "execution_count": 29,
     "metadata": {},
     "output_type": "execute_result"
    }
   ],
   "source": [
    "watt_hours(b) = b.Ah * b.V\n",
    "Ah_reality(b) = b.Ah * b.Ah_reality_factor\n",
    "max_continuous_discharge_rate(b) = b.C_rate * b.Ah\n",
    "specific_energy(b) = watt_hours(b) / (b.mass * 1000) "
   ]
  },
  {
   "cell_type": "code",
   "execution_count": 30,
   "id": "e1112323-717f-45fb-a410-c141410d2e1e",
   "metadata": {},
   "outputs": [
    {
     "name": "stdout",
     "output_type": "stream",
     "text": [
      "Ah_reality(battery) = 6.84\n",
      "max_continuous_discharge_rate(battery) = 360.0\n",
      "specific_energy(battery) = 0.18647999999999998\n"
     ]
    },
    {
     "data": {
      "text/plain": [
       "0.18647999999999998"
      ]
     },
     "execution_count": 30,
     "metadata": {},
     "output_type": "execute_result"
    }
   ],
   "source": [
    "@show Ah_reality(battery)\n",
    "@show max_continuous_discharge_rate(battery) # [A]\n",
    "@show specific_energy(battery) # [kW h/kg]"
   ]
  },
  {
   "cell_type": "code",
   "execution_count": 31,
   "id": "a8e94563-2be7-4e36-8b5b-dbf6f2db4e5a",
   "metadata": {},
   "outputs": [
    {
     "data": {
      "text/plain": [
       "0.5594399999999999"
      ]
     },
     "execution_count": 31,
     "metadata": {},
     "output_type": "execute_result"
    }
   ],
   "source": [
    "energy_15_min = specific_energy(battery)*4\n",
    "energy_20_min = specific_energy(battery)*3\n"
   ]
  },
  {
   "cell_type": "markdown",
   "id": "d6de92fa-9604-4722-b08a-04defefc0bd2",
   "metadata": {},
   "source": [
    "## Worst case energy requirement"
   ]
  },
  {
   "cell_type": "code",
   "execution_count": 32,
   "id": "e97eabff-d529-4660-b976-321073499ee7",
   "metadata": {},
   "outputs": [
    {
     "data": {
      "text/plain": [
       "energy_req (generic function with 1 method)"
      ]
     },
     "execution_count": 32,
     "metadata": {},
     "output_type": "execute_result"
    }
   ],
   "source": [
    "ν(v,env) = env.headwind / v.vel \n",
    "\n",
    "energy_req_per_km(v,env) = (v.mass / (370 * v.ld_ratio * v.η_p) ) # [kW.h / kg]\n",
    "energy_req(v,env, t_flight) =   (v.vel*t_flight) / (1- ν(v,env)) *  energy_req_per_km(v,env)"
   ]
  },
  {
   "cell_type": "code",
   "execution_count": 33,
   "id": "a9974b93-ce1b-469b-b80e-25d054a69b1f",
   "metadata": {},
   "outputs": [
    {
     "name": "stdout",
     "output_type": "stream",
     "text": [
      "energy_req(quadcopter, environment, 0.25) = 17.96257796257796\n"
     ]
    },
    {
     "data": {
      "text/plain": [
       "17.96257796257796"
      ]
     },
     "execution_count": 33,
     "metadata": {},
     "output_type": "execute_result"
    }
   ],
   "source": [
    "@show energy_req(quadcopter,environment, 0.25) "
   ]
  },
  {
   "cell_type": "code",
   "execution_count": 34,
   "id": "fb1b668a-2ae2-406e-b82d-34d3ea2d9cf3",
   "metadata": {},
   "outputs": [
    {
     "data": {
      "text/plain": [
       "get_battery_cost (generic function with 1 method)"
      ]
     },
     "execution_count": 34,
     "metadata": {},
     "output_type": "execute_result"
    }
   ],
   "source": [
    "get_n_batteries(v,env, b, t_flight) = ceil(Int,energy_req(quadcopter,environment, t_flight)  / (energy_20_min*b.mass))  \n",
    "\n",
    "get_battery_cost(v,env, b, t_flight) = get_n_batteries(v,env, b, t_flight) * b.price"
   ]
  },
  {
   "cell_type": "code",
   "execution_count": 35,
   "id": "d028b06a-3987-4252-87ce-c15710b364fb",
   "metadata": {},
   "outputs": [
    {
     "name": "stdout",
     "output_type": "stream",
     "text": [
      "get_n_batteries(quadcopter, environment, battery, 0.25) = 17\n",
      "get_battery_cost(quadcopter, environment, battery, 0.25) = 8449\n"
     ]
    },
    {
     "data": {
      "text/plain": [
       "8449"
      ]
     },
     "execution_count": 35,
     "metadata": {},
     "output_type": "execute_result"
    }
   ],
   "source": [
    "@show get_n_batteries(quadcopter,environment, battery, 0.25)\n",
    "@show get_battery_cost(quadcopter,environment, battery, 0.25) #[$]"
   ]
  },
  {
   "cell_type": "markdown",
   "id": "bb774045-cc3d-4ace-86eb-ec719ccec2aa",
   "metadata": {},
   "source": [
    "### Average cost per kilometer"
   ]
  },
  {
   "cell_type": "code",
   "execution_count": 36,
   "id": "5f8825a7-3531-480e-b7dd-60d91f3d33e7",
   "metadata": {},
   "outputs": [
    {
     "data": {
      "text/plain": [
       "avg_cost_per_kilometer (generic function with 1 method)"
      ]
     },
     "execution_count": 36,
     "metadata": {},
     "output_type": "execute_result"
    }
   ],
   "source": [
    "avg_cost_per_kilometer(v,env,b, ct) = (ct.electricity_per_kWh /  b.η_c) *  energy_req_per_km(v,env)"
   ]
  },
  {
   "cell_type": "code",
   "execution_count": 37,
   "id": "b9c9cbe5-abe2-460d-802a-d254fc1a3e1f",
   "metadata": {},
   "outputs": [
    {
     "name": "stdout",
     "output_type": "stream",
     "text": [
      "energy_req_per_km(quadcopter, environment) = 0.5322245322245323\n",
      "avg_cost_per_kilometer(quadcopter, environment, battery, cost_table) = 0.06261465084994498\n"
     ]
    },
    {
     "data": {
      "text/plain": [
       "0.06261465084994498"
      ]
     },
     "execution_count": 37,
     "metadata": {},
     "output_type": "execute_result"
    }
   ],
   "source": [
    "@show energy_req_per_km(quadcopter,environment)\n",
    "@show avg_cost_per_kilometer(quadcopter,environment,battery, cost_table) #[$]"
   ]
  },
  {
   "cell_type": "markdown",
   "id": "8a6a3db8-476a-4b87-bb36-8bef87897b6c",
   "metadata": {},
   "source": [
    "# Multicopter first principles"
   ]
  },
  {
   "cell_type": "code",
   "execution_count": 38,
   "id": "28b4d2df-4657-4bd5-8c56-1463d7bea0db",
   "metadata": {},
   "outputs": [
    {
     "data": {
      "text/plain": [
       "kWh_kg (generic function with 1 method)"
      ]
     },
     "execution_count": 38,
     "metadata": {},
     "output_type": "execute_result"
    }
   ],
   "source": [
    "sim = (;t_flight=15/60, t_reserve=5/60)\n",
    "\n",
    "kWh_kg(b) = watt_hours(b) / (battery.mass * 1000.0)"
   ]
  },
  {
   "cell_type": "markdown",
   "id": "b4b6ed3c-719f-4a6d-b8f8-ddf7891d5066",
   "metadata": {},
   "source": [
    "## Hover"
   ]
  },
  {
   "cell_type": "code",
   "execution_count": 55,
   "id": "0835ee47-4648-475b-8e76-36df38cc984a",
   "metadata": {},
   "outputs": [
    {
     "data": {
      "text/plain": [
       "thrust_kg_req_per_motor (generic function with 1 method)"
      ]
     },
     "execution_count": 55,
     "metadata": {},
     "output_type": "execute_result"
    }
   ],
   "source": [
    "f_z(v) = v.mass*g\n",
    "f_y(v) = v.vel * 0.1\n",
    "\n",
    "# f_net(v) = norm([f_z(v) ,f_y(v)])\n",
    "f_net(v) = f_z(v) * 0.9\n",
    "power_req(v) = (f_net(v) * v.vel) / (3600.0 * v.η_p)\n",
    "\n",
    "thrust_kg_req(v) = f_net(v) / g\n",
    "thrust_kg_req_per_motor(v) = thrust_kg_req(v) / v.n_motor"
   ]
  },
  {
   "cell_type": "code",
   "execution_count": 56,
   "id": "68c38a19-4274-45cf-99d8-295c423a28c7",
   "metadata": {},
   "outputs": [
    {
     "name": "stdout",
     "output_type": "stream",
     "text": [
      "f_net(quadcopter) = 1412.64\n",
      "power_req(quadcopter) = 29.43\n"
     ]
    }
   ],
   "source": [
    "@show f_net(quadcopter); #[N]\n",
    "@show power_req(quadcopter); #[kW]\n"
   ]
  },
  {
   "cell_type": "code",
   "execution_count": 57,
   "id": "88ece471-62f1-44cf-98b8-00712508b8d6",
   "metadata": {},
   "outputs": [
    {
     "name": "stdout",
     "output_type": "stream",
     "text": [
      "thrust_kg_req(quadcopter) = 144.0\n",
      "thrust_kg_req_per_motor(quadcopter) = 18.0\n"
     ]
    }
   ],
   "source": [
    "@show thrust_kg_req(quadcopter); #[kg]\n",
    "@show thrust_kg_req_per_motor(quadcopter); #[kg]\n"
   ]
  },
  {
   "cell_type": "markdown",
   "id": "2a3a769d-4782-4222-b902-957e05b3cf49",
   "metadata": {},
   "source": [
    "### Worst case energy required"
   ]
  },
  {
   "cell_type": "code",
   "execution_count": 58,
   "id": "90478a58-9591-47cc-baf1-86857bb57450",
   "metadata": {},
   "outputs": [
    {
     "name": "stdout",
     "output_type": "stream",
     "text": [
      "worst_case_energy_req(quadcopter) = 21.639705882352942\n",
      "total_battery_mass = 39\n",
      "n_batteries = 19.5\n",
      "avg_cost_per_km(quadcopter, environment, battery, cost_table) = 0.07694117647058825\n",
      "worst_case_cost_per_km(quadcopter, environment, battery, cost_table) = 0.2262975778546713\n"
     ]
    },
    {
     "data": {
      "text/plain": [
       "0.2262975778546713"
      ]
     },
     "execution_count": 58,
     "metadata": {},
     "output_type": "execute_result"
    }
   ],
   "source": [
    "let \n",
    "airspeed_headwind_ratio = 0.66\n",
    "\n",
    "# battery if fully discharged in given (flight time + reserve time)\n",
    "battery_kWh = kWh_kg(battery) / (sim.t_flight + sim.t_reserve)\n",
    "\n",
    "energy_req(v) = (power_req(v) * sim.t_flight) \n",
    "worst_case_energy_req(v) = energy_req(v) /(1-airspeed_headwind_ratio)\n",
    "\n",
    "avg_cost_per_km(v,env, b, ct) =  (ct.electricity_per_kWh /  b.η_c) * (energy_req(v) / (v.vel* sim.t_flight)) # [kW.h / kg]\n",
    "worst_case_cost_per_km(v,env, b, ct) =  (ct.electricity_per_kWh /  b.η_c) * (worst_case_energy_req(v) / (v.vel* sim.t_flight)) # [kW.h / kg]\n",
    "    \n",
    "@show worst_case_energy_req(quadcopter)\n",
    "\n",
    "total_battery_mass = ceil(Int, worst_case_energy_req(quadcopter) / battery_kWh )\n",
    "n_batteries =  total_battery_mass/battery.mass\n",
    "\n",
    "@show total_battery_mass\n",
    "@show n_batteries \n",
    "@show avg_cost_per_km(quadcopter,environment,battery, cost_table)\n",
    "@show worst_case_cost_per_km(quadcopter,environment,battery, cost_table) \n",
    "\n",
    "end"
   ]
  },
  {
   "cell_type": "markdown",
   "id": "e2dbdc9f-296d-408e-875b-ff1449872c22",
   "metadata": {},
   "source": [
    "### Power at hover - momentum theory "
   ]
  },
  {
   "cell_type": "code",
   "execution_count": 49,
   "id": "ec962871-3d7e-4425-ad0e-ae45f7c15a68",
   "metadata": {},
   "outputs": [
    {
     "name": "stdout",
     "output_type": "stream",
     "text": [
      "power_req_momentum(quadcopter, propeller_radius) = 26.305854529892798\n"
     ]
    },
    {
     "data": {
      "text/plain": [
       "26.305854529892798"
      ]
     },
     "execution_count": 49,
     "metadata": {},
     "output_type": "execute_result"
    }
   ],
   "source": [
    "# const ρ = 1.293\n",
    "# induced_vel_momentum(v, r) = sqrt((v.mass * g) / ( 2 * ρ * π * r^2 *  v.n_motor))\n",
    "\n",
    "# power_req_momentum(v, r) = (v.n_motor * thrust_kg_req_per_motor(v)* g * induced_vel_momentum(v, r)) / (v.η_p * 1000.0)\n",
    "\n",
    "# let\n",
    "# propeller_radius = 0.406\n",
    "# @show power_req_momentum(quadcopter, propeller_radius)\n",
    "# end"
   ]
  },
  {
   "cell_type": "markdown",
   "id": "4b77e2a4-fb3f-48ad-9e04-23c2c7933bd6",
   "metadata": {},
   "source": [
    "### For specific motor - TMotor U13"
   ]
  },
  {
   "cell_type": "code",
   "execution_count": 50,
   "id": "624b1dbb-a1fc-40be-a7a7-70c48c3e2f11",
   "metadata": {},
   "outputs": [
    {
     "data": {
      "text/plain": [
       "electrical_power_req (generic function with 1 method)"
      ]
     },
     "execution_count": 50,
     "metadata": {},
     "output_type": "execute_result"
    }
   ],
   "source": [
    "electrical_power_req(v, power_for_thrust, airspeed_headwind_ratio) = (v.n_motor * power_for_thrust * sim.t_flight) / (1-airspeed_headwind_ratio)"
   ]
  },
  {
   "cell_type": "code",
   "execution_count": 53,
   "id": "34c0a1f8-3867-4a8e-8c6a-781f8af3a0a6",
   "metadata": {},
   "outputs": [
    {
     "name": "stdout",
     "output_type": "stream",
     "text": [
      "electrical_power_req(quadcopter, power_for_thrust, airspeed_headwind_ratio) = 20.294117647058826\n",
      "total_battery_mass = 37\n",
      "n_batteries = 18.5\n"
     ]
    },
    {
     "data": {
      "text/plain": [
       "18.5"
      ]
     },
     "execution_count": 53,
     "metadata": {},
     "output_type": "execute_result"
    }
   ],
   "source": [
    "let\n",
    "\n",
    "# consider energy for 20 min (5 min reserve)\n",
    "battery_kWh = kWh_kg(battery) * 3\n",
    "    \n",
    "power_for_thrust = 3.45\n",
    "airspeed_headwind_ratio = 0.66\n",
    "    \n",
    "total_battery_mass = ceil(Int, electrical_power_req(quadcopter, power_for_thrust,airspeed_headwind_ratio) /  battery_kWh)\n",
    "n_batteries = total_battery_mass / battery.mass\n",
    "\n",
    "@show electrical_power_req(quadcopter, power_for_thrust, airspeed_headwind_ratio); #[kW]\n",
    "@show total_battery_mass\n",
    "@show n_batteries\n",
    "    \n",
    "end"
   ]
  },
  {
   "cell_type": "code",
   "execution_count": null,
   "id": "1575028a-aebd-446e-b311-e5dc719c9a84",
   "metadata": {},
   "outputs": [],
   "source": []
  }
 ],
 "metadata": {
  "kernelspec": {
   "display_name": "control_precompiled 1.9.1",
   "language": "julia",
   "name": "control_precompiled-1.9"
  },
  "language_info": {
   "file_extension": ".jl",
   "mimetype": "application/julia",
   "name": "julia",
   "version": "1.9.1"
  }
 },
 "nbformat": 4,
 "nbformat_minor": 5
}
