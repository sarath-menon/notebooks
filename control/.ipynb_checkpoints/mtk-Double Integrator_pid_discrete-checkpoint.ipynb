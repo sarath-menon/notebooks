{
 "cells": [
  {
   "cell_type": "code",
   "execution_count": 1,
   "id": "4c5cf368-9233-40a5-9331-f27c49662bb2",
   "metadata": {},
   "outputs": [
    {
     "name": "stderr",
     "output_type": "stream",
     "text": [
      "\u001b[32m\u001b[1m  Activating\u001b[22m\u001b[39m project at `~/Documents/eth_courses/notebooks/control`\n"
     ]
    }
   ],
   "source": [
    "import Pkg; Pkg.activate(@__DIR__); Pkg.instantiate()"
   ]
  },
  {
   "cell_type": "code",
   "execution_count": 2,
   "id": "237bedc0-7840-448a-a899-c27b3a70048a",
   "metadata": {},
   "outputs": [],
   "source": [
    "using ModelingToolkit, DifferentialEquations\n",
    "using GLMakie\n",
    "using ForwardDiff"
   ]
  },
  {
   "cell_type": "markdown",
   "id": "4d12c316-e1a3-4126-b452-f2791a0823cf",
   "metadata": {},
   "source": [
    "## Plant"
   ]
  },
  {
   "cell_type": "code",
   "execution_count": 3,
   "id": "17493764-384a-4575-bade-ef454e9cd114",
   "metadata": {},
   "outputs": [
    {
     "data": {
      "text/plain": [
       "Plant (generic function with 1 method)"
      ]
     },
     "execution_count": 3,
     "metadata": {},
     "output_type": "execute_result"
    }
   ],
   "source": [
    "@variables t\n",
    "D = Differential(t)\n",
    "\n",
    "# first order system\n",
    "\n",
    "function Plant(;name)\n",
    "    sts = @variables (x(t))[1:2, 1:1]=0 (y(t))[1:2]=0 u(t)=0\n",
    "\n",
    "    A = [0 1; 0 0];\n",
    "    B = [0;1];\n",
    "    \n",
    "    eqn1 = D.(x) ~ A*x + B*u\n",
    "\n",
    "    eqn2 = y .~ x\n",
    "    \n",
    "    eqns = vcat(eqn1, eqn2)\n",
    "    \n",
    "    ODESystem(eqns, t; name)\n",
    "end"
   ]
  },
  {
   "cell_type": "markdown",
   "id": "539e6a11-c1bf-4c5b-9620-982df099d97b",
   "metadata": {},
   "source": [
    "## Controller"
   ]
  },
  {
   "cell_type": "markdown",
   "id": "db8910ba-c57b-455f-b92f-bb42057d5512",
   "metadata": {},
   "source": [
    "### Zero order hold for digital controller"
   ]
  },
  {
   "cell_type": "code",
   "execution_count": 4,
   "id": "1571f769-d4cd-4a75-9038-575585c0e820",
   "metadata": {},
   "outputs": [
    {
     "data": {
      "text/plain": [
       "Controller_Zero_Order_Hold (generic function with 1 method)"
      ]
     },
     "execution_count": 4,
     "metadata": {},
     "output_type": "execute_result"
    }
   ],
   "source": [
    "# force control input to be constant over sampling time, actual control law applied inside callback\n",
    "function Controller_Zero_Order_Hold(;name)\n",
    "    sts = @variables u(t)=0  (r(t))[1:2]=0\n",
    "\n",
    "    eqn1 = D(u) ~ 0 \n",
    "    eqn2 = D.(r) .~ 0 \n",
    "\n",
    "    eqns = vcat(eqn1, eqn2)\n",
    "    \n",
    "    ODESystem(eqns, t; name)\n",
    "end"
   ]
  },
  {
   "cell_type": "markdown",
   "id": "8962ef16-128d-4154-91ad-97dee9e99ae9",
   "metadata": {},
   "source": [
    "### Digital controller"
   ]
  },
  {
   "cell_type": "code",
   "execution_count": 138,
   "id": "f36cc944-d21c-44a1-a1dc-8473b763cd7f",
   "metadata": {},
   "outputs": [
    {
     "data": {
      "text/plain": [
       "PID2"
      ]
     },
     "execution_count": 138,
     "metadata": {},
     "output_type": "execute_result"
    }
   ],
   "source": [
    "mutable struct PID2\n",
    "    kp::Float64 # proportional gain\n",
    "    ki::Float64 # integral gain\n",
    "    kd::Float64 # derivative gain\n",
    "\n",
    "    k_aw::Float64 # integral antiwindup gain\n",
    "\n",
    "    Ts::Float64 # sampling time\n",
    "    \n",
    "    error_integral::Float64 # integral accumulated over time\n",
    "    prev_error::Float64 # error from prvious time step\n",
    "\n",
    "    function PID2(;kp=kp, ki=ki, kd=kd, k_aw=k_aw, Ts=Ts)\n",
    "        new( kp, ki, kd, k_aw, Ts, 0., 0.)\n",
    "    end\n",
    "    \n",
    "end\n",
    "\n",
    "PID = PID2"
   ]
  },
  {
   "cell_type": "code",
   "execution_count": 130,
   "id": "d1582137-9048-4237-a1d3-9adaf97a8807",
   "metadata": {},
   "outputs": [
    {
     "data": {
      "text/plain": [
       "pid_controller (generic function with 2 methods)"
      ]
     },
     "execution_count": 130,
     "metadata": {},
     "output_type": "execute_result"
    }
   ],
   "source": [
    "function pid_controller(pid::PID; e, umin, umax )\n",
    "    # parameters\n",
    "    kp, ki, kd = pid.kp, pid.ki, pid.kd\n",
    "    h, k_aw = pid.Ts, pid.k_aw\n",
    "\n",
    "    # compute error terms\n",
    "    e_dot = (e - pid.prev_error) / h\n",
    "    \n",
    "    e_integral = pid.error_integral\n",
    "    \n",
    "    # compute the control action \n",
    "    u = kp * e +  kd * e_dot +  ki * e_integral\n",
    "\n",
    "    # limit output to actuator limits \n",
    "    u_sat = clamp(u, umin, umax )\n",
    "\n",
    "    # update integral state \n",
    "    pid.error_integral += e*h + k_aw*(u_sat - u)\n",
    "\n",
    "    # update derivative state \n",
    "    pid.prev_error = e\n",
    "\n",
    "    return u_sat\n",
    "end"
   ]
  },
  {
   "cell_type": "code",
   "execution_count": 131,
   "id": "d4e96b39-f9e5-444a-9a76-1c0184703e31",
   "metadata": {},
   "outputs": [
    {
     "data": {
      "text/plain": [
       "digital_controller (generic function with 1 method)"
      ]
     },
     "execution_count": 131,
     "metadata": {},
     "output_type": "execute_result"
    }
   ],
   "source": [
    "state_indices = Dict(:control=>3, :reference=>4)\n",
    "\n",
    "callback_params = (;state_indices=state_indices, controller_params=controller_params)\n",
    "\n",
    "function digital_controller(int; params = callback_params, pid=pid_1)\n",
    "\n",
    "    controller_params = params.controller_params\n",
    "    state_indices = params.state_indices\n",
    "\n",
    "    # parameters\n",
    "    kp, kd = controller_params.kp, controller_params.kd\n",
    "\n",
    "    ## find index of variable controller.u in the state vector\n",
    "    # controller_index = indexof(controller.u, states(sys))\n",
    "    # r_index = indexof(controller.r[1], states(sys))\n",
    "\n",
    "    controller_index = state_indices[:control]\n",
    "    r_index = state_indices[:reference]\n",
    "\n",
    "    # get plant output\n",
    "    y = @view int.u[1:2]\n",
    "\n",
    "    # get reference \n",
    "    r = reference_generator(int.t)\n",
    "    r_dot = ForwardDiff.derivative(reference_generator, int.t)\n",
    "    \n",
    "    e = r -  y[1]\n",
    "\n",
    "    # compute the control action \n",
    "    # u = kp * error +  kd * error_dot\n",
    "    u = pid_controller(pid; e=e, umin=-5, umax=5 )\n",
    "\n",
    "    # set the control input\n",
    "    int.u[controller_index] = u\n",
    "    int.u[r_index: r_index+1] = [r, r_dot]\n",
    "end"
   ]
  },
  {
   "cell_type": "markdown",
   "id": "361c4352-4a24-4a02-b8a0-1077ac54aed3",
   "metadata": {},
   "source": [
    "## Reference generator"
   ]
  },
  {
   "cell_type": "code",
   "execution_count": 132,
   "id": "52c82c79-5209-4de8-84ae-0973a3f27835",
   "metadata": {},
   "outputs": [
    {
     "data": {
      "text/plain": [
       "reference_generator (generic function with 1 method)"
      ]
     },
     "execution_count": 132,
     "metadata": {},
     "output_type": "execute_result"
    }
   ],
   "source": [
    "function reference_generator(t)\n",
    "    return sin(t)\n",
    "end"
   ]
  },
  {
   "cell_type": "markdown",
   "id": "e9945854-1505-40cf-adfb-d868016266e8",
   "metadata": {},
   "source": [
    "## System building"
   ]
  },
  {
   "cell_type": "code",
   "execution_count": 133,
   "id": "5a7f4a01-fd60-423e-b26b-1c4f1cc41a2e",
   "metadata": {},
   "outputs": [
    {
     "data": {
      "text/plain": [
       "indexof (generic function with 1 method)"
      ]
     },
     "execution_count": 133,
     "metadata": {},
     "output_type": "execute_result"
    }
   ],
   "source": [
    "@named plant = Plant()\n",
    "@named controller = Controller_Zero_Order_Hold()\n",
    "\n",
    "eqn1 = plant.u ~ controller.u\n",
    "\n",
    "eqns = vcat(eqn1)\n",
    "\n",
    "# connect the subsystems\n",
    "@named model = ODESystem(eqns,\n",
    "    systems=[plant, controller])\n",
    "\n",
    "sys = structural_simplify(model)\n",
    "\n",
    "indexof(sym,syms) = findfirst(isequal(sym),syms)"
   ]
  },
  {
   "cell_type": "markdown",
   "id": "069095ad-a265-423a-8da0-3d774b206598",
   "metadata": {},
   "source": [
    "## Simulation"
   ]
  },
  {
   "cell_type": "code",
   "execution_count": 156,
   "id": "60126201-5bd1-4bf7-9338-50c296fa015b",
   "metadata": {
    "scrolled": true
   },
   "outputs": [
    {
     "name": "stdout",
     "output_type": "stream",
     "text": [
      "  0.001347 seconds (3.06 k allocations: 380.953 KiB)\n"
     ]
    }
   ],
   "source": [
    "# controller parameters\n",
    "controller_params = (;kp=0.5, kd=15.5);\n",
    "pid_1 =  PID(;kp=5., ki=0.00, kd=18.5, k_aw=0.0, Ts=0.01)\n",
    "\n",
    "control_callback = PeriodicCallback(digital_controller, 0.01, initial_affect=true)\n",
    "\n",
    "# sim parameters\n",
    "tspan = (0.0, 10.0)\n",
    "\n",
    "prob = ODEProblem(sys, [], tspan) \n",
    "@time sol = solve(prob, Tsit5(), abstol=1e-8, reltol=1e-8, callback=control_callback , save_everystep = false);"
   ]
  },
  {
   "cell_type": "markdown",
   "id": "7c19c48d-9dd3-4c7d-9079-6982c0381ecc",
   "metadata": {},
   "source": [
    "### Plotting"
   ]
  },
  {
   "cell_type": "code",
   "execution_count": 157,
   "id": "42f6f86e-0fda-458a-8d57-60a38c0fd7c2",
   "metadata": {},
   "outputs": [
    {
     "data": {
      "image/png": "[encoded data removed]"
     },
     "metadata": {},
     "output_type": "display_data"
    },
    {
     "data": {
      "text/plain": [
       "GLMakie.Screen(...)"
      ]
     },
     "execution_count": 157,
     "metadata": {},
     "output_type": "execute_result"
    }
   ],
   "source": [
    "fig = Figure()\n",
    "ax = Axis(fig[1, 1])\n",
    "\n",
    "lines!(ax, sol.t, sol[plant.y[1]])\n",
    "lines!(ax, sol.t, sol[controller.r[1]])\n",
    "\n",
    "# lines!(ax, sol.t, sol[controller.u])\n",
    "\n",
    "display(fig)"
   ]
  },
  {
   "cell_type": "code",
   "execution_count": null,
   "id": "ddba33b5-3b87-4688-b42d-7f07471a00f1",
   "metadata": {},
   "outputs": [],
   "source": []
  },
  {
   "cell_type": "code",
   "execution_count": null,
   "id": "744f14a5-6df8-4e4e-9585-04cb8f14cfa8",
   "metadata": {},
   "outputs": [],
   "source": []
  }
 ],
 "metadata": {
  "kernelspec": {
   "display_name": "control_precompiled 1.9.1",
   "language": "julia",
   "name": "control_precompiled-1.9"
  },
  "language_info": {
   "file_extension": ".jl",
   "mimetype": "application/julia",
   "name": "julia",
   "version": "1.9.1"
  }
 },
 "nbformat": 4,
 "nbformat_minor": 5
}
