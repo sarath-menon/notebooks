{
 "cells": [
  {
   "cell_type": "code",
   "execution_count": 1,
   "id": "4c5cf368-9233-40a5-9331-f27c49662bb2",
   "metadata": {},
   "outputs": [
    {
     "name": "stderr",
     "output_type": "stream",
     "text": [
      "\u001b[32m\u001b[1m  Activating\u001b[22m\u001b[39m project at `~/Documents/eth_courses/notebooks/control`\n"
     ]
    }
   ],
   "source": [
    "import Pkg; Pkg.activate(@__DIR__); Pkg.instantiate()"
   ]
  },
  {
   "cell_type": "code",
   "execution_count": 8,
   "id": "237bedc0-7840-448a-a899-c27b3a70048a",
   "metadata": {},
   "outputs": [],
   "source": [
    "using ModelingToolkit, DifferentialEquations\n",
    "using GLMakie"
   ]
  },
  {
   "cell_type": "markdown",
   "id": "4d12c316-e1a3-4126-b452-f2791a0823cf",
   "metadata": {},
   "source": [
    "### system"
   ]
  },
  {
   "cell_type": "code",
   "execution_count": 655,
   "id": "17493764-384a-4575-bade-ef454e9cd114",
   "metadata": {},
   "outputs": [
    {
     "data": {
      "text/plain": [
       "Feedback (generic function with 1 method)"
      ]
     },
     "execution_count": 655,
     "metadata": {},
     "output_type": "execute_result"
    }
   ],
   "source": [
    "@variables t\n",
    "D = Differential(t)\n",
    "\n",
    "# first order system\n",
    "\n",
    "function Plant(;name)\n",
    "    sts = @variables (x(t))[1:2, 1:1]=0 (y(t))[1:2]=0 u(t)=0\n",
    "\n",
    "    A = [0 1; 0 0];\n",
    "    B = [0;1];\n",
    "    \n",
    "    eqn1 = D.(x) ~ A*x + B*u\n",
    "\n",
    "    eqn2 = y .~ x\n",
    "    \n",
    "    eqns = vcat(eqn1, eqn2)\n",
    "    \n",
    "    ODESystem(eqns, t; name)\n",
    "end\n",
    "\n",
    "# feedback connection from output to reference\n",
    "function Feedback(;name)\n",
    "    sts = @variables (y(t))[1:2]=0 (r(t))[1:2]=0 (e(t))[1:2]=0\n",
    "    eqs = e .~ r - y\n",
    "    ODESystem(eqs, t; name)\n",
    "end\n"
   ]
  },
  {
   "cell_type": "markdown",
   "id": "539e6a11-c1bf-4c5b-9620-982df099d97b",
   "metadata": {},
   "source": [
    "## Controller"
   ]
  },
  {
   "cell_type": "code",
   "execution_count": 656,
   "id": "1571f769-d4cd-4a75-9038-575585c0e820",
   "metadata": {},
   "outputs": [
    {
     "data": {
      "text/plain": [
       "Controller_Zero_Order_Hold (generic function with 1 method)"
      ]
     },
     "execution_count": 656,
     "metadata": {},
     "output_type": "execute_result"
    }
   ],
   "source": [
    "# force control input to be constant over sampling time, actual control law applied inside callback\n",
    "function Controller_Zero_Order_Hold(;name)\n",
    "    sts = @variables u(t)=0 e(t)=0\n",
    "    eqs= [\n",
    "        D(u) ~ 0 \n",
    "    ]\n",
    "    ODESystem(eqs, t, sts, []; name)\n",
    "end"
   ]
  },
  {
   "cell_type": "code",
   "execution_count": 815,
   "id": "d4e96b39-f9e5-444a-9a76-1c0184703e31",
   "metadata": {},
   "outputs": [
    {
     "data": {
      "text/plain": [
       "digital_controller (generic function with 2 methods)"
      ]
     },
     "execution_count": 815,
     "metadata": {},
     "output_type": "execute_result"
    }
   ],
   "source": [
    "function digital_controller(int; controller_params=controller_params)\n",
    "\n",
    "    # parameters\n",
    "    kp, kd = controller_params.kp, controller_params.kd\n",
    "\n",
    "    # get the error term from feedback system\n",
    "    error = prob.f.observed(feedback.e, int.u, int.p, int.t)\n",
    "\n",
    "    # output\n",
    "    y = prob.f.observed(plant.y, int.u, int.p, int.t)\n",
    "\n",
    "    # compute the control action \n",
    "    error_dot = cos(int.t) -  y[2]\n",
    "    u = kp * error[1] +  kd * error_dot\n",
    "\n",
    "    # find index of variable controller.u in the state vector\n",
    "    i = indexof(controller.u, states(sys))\n",
    "\n",
    "    # set the control input\n",
    "    int.u[i] = u\n",
    "end"
   ]
  },
  {
   "cell_type": "markdown",
   "id": "361c4352-4a24-4a02-b8a0-1077ac54aed3",
   "metadata": {},
   "source": [
    "## Reference generator"
   ]
  },
  {
   "cell_type": "code",
   "execution_count": 860,
   "id": "52c82c79-5209-4de8-84ae-0973a3f27835",
   "metadata": {},
   "outputs": [
    {
     "data": {
      "text/plain": [
       "reference_generator (generic function with 1 method)"
      ]
     },
     "execution_count": 860,
     "metadata": {},
     "output_type": "execute_result"
    }
   ],
   "source": [
    "function reference_generator(t)\n",
    "    return sin(t)\n",
    "end"
   ]
  },
  {
   "cell_type": "markdown",
   "id": "e9945854-1505-40cf-adfb-d868016266e8",
   "metadata": {},
   "source": [
    "## System building"
   ]
  },
  {
   "cell_type": "code",
   "execution_count": 861,
   "id": "5a7f4a01-fd60-423e-b26b-1c4f1cc41a2e",
   "metadata": {},
   "outputs": [
    {
     "data": {
      "text/plain": [
       "indexof (generic function with 1 method)"
      ]
     },
     "execution_count": 861,
     "metadata": {},
     "output_type": "execute_result"
    }
   ],
   "source": [
    "@named plant = Plant()\n",
    "@named controller = Controller_Zero_Order_Hold()\n",
    "@named feedback = Feedback()\n",
    "\n",
    "eqn1 = plant.u ~ controller.u\n",
    "eqn2 = feedback.y .~ plant.y\n",
    "eqn3 = controller.e .~ feedback.e\n",
    "eqn4 = feedback.r[1] .~ reference_generator(t)\n",
    "\n",
    "eqns = vcat(eqn1, eqn2, eqn3, eqn4)\n",
    "\n",
    "# connect the subsystems\n",
    "@named model = ODESystem(eqns,\n",
    "    systems=[plant, controller, feedback])\n",
    "\n",
    "sys = structural_simplify(model)\n",
    "\n",
    "indexof(sym,syms) = findfirst(isequal(sym),syms)"
   ]
  },
  {
   "cell_type": "code",
   "execution_count": 894,
   "id": "60126201-5bd1-4bf7-9338-50c296fa015b",
   "metadata": {},
   "outputs": [
    {
     "name": "stdout",
     "output_type": "stream",
     "text": [
      "  0.090938 seconds (237.39 k allocations: 18.317 MiB)\n"
     ]
    }
   ],
   "source": [
    "# controller parameters\n",
    "controller_params = (;kp=0.5, kd=25.5);\n",
    "\n",
    "control_callback = PeriodicCallback(digital_controller, 0.01, initial_affect=true)\n",
    "\n",
    "# sim parameters\n",
    "tspan = (0.0, 10.0)\n",
    "\n",
    "prob = ODEProblem(sys, [], tspan) \n",
    "@time sol = solve(prob, Tsit5(); callback=control_callback);"
   ]
  },
  {
   "cell_type": "markdown",
   "id": "7c19c48d-9dd3-4c7d-9079-6982c0381ecc",
   "metadata": {},
   "source": [
    "## Plotting"
   ]
  },
  {
   "cell_type": "code",
   "execution_count": 895,
   "id": "42f6f86e-0fda-458a-8d57-60a38c0fd7c2",
   "metadata": {},
   "outputs": [
    {
     "data": {
      "image/png": "[encoded data removed]"
     },
     "metadata": {},
     "output_type": "display_data"
    },
    {
     "data": {
      "text/plain": [
       "GLMakie.Screen(...)"
      ]
     },
     "execution_count": 895,
     "metadata": {},
     "output_type": "execute_result"
    }
   ],
   "source": [
    "fig = Figure()\n",
    "ax = Axis(fig[1, 1])\n",
    "\n",
    "lines!(ax, sol.t, sol[plant.y[1]])\n",
    "\n",
    "#lines!(ax, sol.t, sol[controller.u])\n",
    "lines!(ax, sol.t, sol[feedback.r[1]])\n",
    "\n",
    "display(fig)"
   ]
  },
  {
   "cell_type": "code",
   "execution_count": null,
   "id": "ddba33b5-3b87-4688-b42d-7f07471a00f1",
   "metadata": {},
   "outputs": [],
   "source": []
  },
  {
   "cell_type": "code",
   "execution_count": null,
   "id": "744f14a5-6df8-4e4e-9585-04cb8f14cfa8",
   "metadata": {},
   "outputs": [],
   "source": []
  }
 ],
 "metadata": {
  "kernelspec": {
   "display_name": "control_precompiled 1.9.1",
   "language": "julia",
   "name": "control_precompiled-1.9"
  },
  "language_info": {
   "file_extension": ".jl",
   "mimetype": "application/julia",
   "name": "julia",
   "version": "1.9.1"
  }
 },
 "nbformat": 4,
 "nbformat_minor": 5
}
