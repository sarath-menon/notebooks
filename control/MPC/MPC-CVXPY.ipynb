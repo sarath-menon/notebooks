{
 "cells": [
  {
   "cell_type": "code",
   "execution_count": 7,
   "id": "adf87f54-b458-41ac-8d7e-0625863c871a",
   "metadata": {},
   "outputs": [
    {
     "name": "stderr",
     "output_type": "stream",
     "text": [
      "\u001b[32m\u001b[1m  Activating\u001b[22m\u001b[39m project at `~/Documents/eth_courses/notebooks/control/MPC`\n"
     ]
    }
   ],
   "source": [
    "import Pkg; Pkg.activate(@__DIR__); Pkg.instantiate();"
   ]
  },
  {
   "cell_type": "code",
   "execution_count": 8,
   "id": "613f6bc6-cd3e-425a-9bc6-c4a213dfb4c6",
   "metadata": {},
   "outputs": [],
   "source": [
    "using PyCall\n",
    "import Random\n",
    "using LinearAlgebra\n",
    "\n",
    "# SOlvers,\n",
    "import  OSQP\n",
    "\n",
    "cvx = pyimport(\"cvxpy\");\n",
    "cvxpygen = pyimport(\"cvxpygen\");\n",
    "cpg = pyimport(\"cvxpygen.cpg\");\n",
    "np = pyimport(\"numpy\");\n",
    "sparse = pyimport(\"scipy.sparse\");\n",
    "\n",
    "# operator overloading for matrix multiplication in cvx\n",
    "Base.:*(A::Array ,B::PyObject) = cvx.matmul(A,B)"
   ]
  },
  {
   "cell_type": "markdown",
   "id": "2cb2c1db-4b91-48c3-a185-b98167fc329a",
   "metadata": {},
   "source": [
    "## Generate data"
   ]
  },
  {
   "cell_type": "code",
   "execution_count": 9,
   "id": "28c1c08d-2b81-4805-b087-ec05f7fa7d64",
   "metadata": {},
   "outputs": [
    {
     "data": {
      "text/plain": [
       "10"
      ]
     },
     "execution_count": 9,
     "metadata": {},
     "output_type": "execute_result"
    }
   ],
   "source": [
    "nx = 4\n",
    "nu = 1\n",
    "\n",
    "Q = diagm(ones(nx))\n",
    "Q = Q'*Q + I\n",
    "Q_n = zeros(nx)\n",
    "\n",
    "R = diagm(ones(nu))\n",
    "\n",
    "# Double integrator in discrtee time\n",
    "h = 0.1   # time step\n",
    "A = [1 h; 0 1]\n",
    "B = [0.5*h*h; h]\n",
    "\n",
    "# prediction horizon\n",
    "N = 10"
   ]
  },
  {
   "cell_type": "markdown",
   "id": "1d423da5-1fa6-4401-9463-d4bb0f1af077",
   "metadata": {},
   "source": [
    "# Using Cvxpy"
   ]
  },
  {
   "cell_type": "code",
   "execution_count": 74,
   "id": "951ef324-2939-482d-b69c-2ecdbbc35274",
   "metadata": {},
   "outputs": [
    {
     "data": {
      "text/plain": [
       "PyObject Variable((1, 10))"
      ]
     },
     "execution_count": 74,
     "metadata": {},
     "output_type": "execute_result"
    }
   ],
   "source": [
    "# Define and solve the cvxXPY problem.\n",
    "x = cvx.Variable((nx,N))\n",
    "u = cvx.Variable((nu,N))\n",
    "\n",
    "# # define cost\n",
    "# cost = (1/2) * cvx.quad_form(x, Q) + (1/2) * cvx.quad_form(u, R) + Q_n*x\n",
    "\n",
    "# # constrains\n",
    "# constrains_vec = []\n",
    "# push!(constrains_vec, A * x<= b)\n",
    "# push!(constrains_vec, x >= 1)\n",
    "# push!(constrains_vec, x <= 10)\n",
    "# push!(constrains_vec, u <= 1)\n",
    "\n",
    "# prob = cvx.Problem(cvx.Minimize(cost),constrains_vec)\n",
    "\n",
    "# prob.solve(solver=cvx.OSQP)\n",
    "\n",
    "# # Print result.\n",
    "# print(\"\\nThe optimal value is: \", prob.value)"
   ]
  },
  {
   "cell_type": "code",
   "execution_count": 78,
   "id": "f0b5aa83-5278-409f-9b20-f6bbd13fd03b",
   "metadata": {},
   "outputs": [
    {
     "ename": "LoadError",
     "evalue": "MethodError: no method matching getindex(::PyObject, ::Colon, ::Int64)\n\n\u001b[0mClosest candidates are:\n\u001b[0m  getindex(::PyObject, \u001b[91m::Integer\u001b[39m, ::Integer)\n\u001b[0m\u001b[90m   @\u001b[39m \u001b[35mPyCall\u001b[39m \u001b[90m\u001b[4mdeprecated.jl:103\u001b[24m\u001b[39m\n\u001b[0m  getindex(::PyObject, \u001b[91m::Integer...\u001b[39m)\n\u001b[0m\u001b[90m   @\u001b[39m \u001b[35mPyCall\u001b[39m \u001b[90m\u001b[4mdeprecated.jl:103\u001b[24m\u001b[39m\n\u001b[0m  getindex(::PyObject, \u001b[91m::Integer\u001b[39m)\n\u001b[0m\u001b[90m   @\u001b[39m \u001b[35mPyCall\u001b[39m \u001b[90m\u001b[4mdeprecated.jl:103\u001b[24m\u001b[39m\n\u001b[0m  ...\n",
     "output_type": "error",
     "traceback": [
      "MethodError: no method matching getindex(::PyObject, ::Colon, ::Int64)\n\n\u001b[0mClosest candidates are:\n\u001b[0m  getindex(::PyObject, \u001b[91m::Integer\u001b[39m, ::Integer)\n\u001b[0m\u001b[90m   @\u001b[39m \u001b[35mPyCall\u001b[39m \u001b[90m\u001b[4mdeprecated.jl:103\u001b[24m\u001b[39m\n\u001b[0m  getindex(::PyObject, \u001b[91m::Integer...\u001b[39m)\n\u001b[0m\u001b[90m   @\u001b[39m \u001b[35mPyCall\u001b[39m \u001b[90m\u001b[4mdeprecated.jl:103\u001b[24m\u001b[39m\n\u001b[0m  getindex(::PyObject, \u001b[91m::Integer\u001b[39m)\n\u001b[0m\u001b[90m   @\u001b[39m \u001b[35mPyCall\u001b[39m \u001b[90m\u001b[4mdeprecated.jl:103\u001b[24m\u001b[39m\n\u001b[0m  ...\n",
      "",
      "Stacktrace:",
      " [1] top-level scope",
      "   @ In[78]:1"
     ]
    }
   ],
   "source": [
    "x[:, 2]"
   ]
  },
  {
   "cell_type": "markdown",
   "id": "6549471f-6860-4bde-b4b4-da02fbbb2029",
   "metadata": {},
   "source": [
    "# Code generation"
   ]
  },
  {
   "cell_type": "code",
   "execution_count": null,
   "id": "e8f5ea06-3827-49ff-9ef8-39c563d33c21",
   "metadata": {},
   "outputs": [],
   "source": []
  }
 ],
 "metadata": {
  "kernelspec": {
   "display_name": "control_precompiled 1.9.1",
   "language": "julia",
   "name": "control_precompiled-1.9"
  },
  "language_info": {
   "file_extension": ".jl",
   "mimetype": "application/julia",
   "name": "julia",
   "version": "1.9.1"
  }
 },
 "nbformat": 4,
 "nbformat_minor": 5
}
