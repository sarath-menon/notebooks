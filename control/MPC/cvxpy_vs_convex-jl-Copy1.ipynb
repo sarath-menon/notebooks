{
 "cells": [
  {
   "cell_type": "code",
   "execution_count": 1,
   "id": "adf87f54-b458-41ac-8d7e-0625863c871a",
   "metadata": {},
   "outputs": [
    {
     "name": "stderr",
     "output_type": "stream",
     "text": [
      "\u001b[32m\u001b[1m  Activating\u001b[22m\u001b[39m project at `~/Documents/eth_courses/notebooks/control/MPC`\n"
     ]
    }
   ],
   "source": [
    "import Pkg; Pkg.activate(@__DIR__); Pkg.instantiate();"
   ]
  },
  {
   "cell_type": "code",
   "execution_count": 112,
   "id": "613f6bc6-cd3e-425a-9bc6-c4a213dfb4c6",
   "metadata": {},
   "outputs": [],
   "source": [
    "using PyCall\n",
    "import Random\n",
    "using Convex\n",
    "using LinearAlgebra\n",
    "\n",
    "# SOlvers,\n",
    "import ECOS, OSQP\n",
    "\n",
    "cvx = pyimport(\"cvxpy\");\n",
    "cvxpygen = pyimport(\"cvxpygen\");\n",
    "cpg = pyimport(\"cvxpygen.cpg\");\n",
    "np = pyimport(\"numpy\");\n",
    "\n",
    "# operator overloading for matrix multiplication in cvx\n",
    "Base.:*(A::Array ,B::PyObject) = cvx.matmul(A,B)"
   ]
  },
  {
   "cell_type": "markdown",
   "id": "2cb2c1db-4b91-48c3-a185-b98167fc329a",
   "metadata": {},
   "source": [
    "## Generate data"
   ]
  },
  {
   "cell_type": "code",
   "execution_count": 145,
   "id": "28c1c08d-2b81-4805-b087-ec05f7fa7d64",
   "metadata": {},
   "outputs": [],
   "source": [
    "nx = 4\n",
    "\n",
    "Q = rand(nx,nx)\n",
    "Q = Q'*Q + I\n",
    "\n",
    "Q_n = rand(nx)\n",
    "\n",
    "# System\n",
    "A = collect(I(nx))\n",
    "b = [10; 10; 10; 10];"
   ]
  },
  {
   "cell_type": "markdown",
   "id": "1d423da5-1fa6-4401-9463-d4bb0f1af077",
   "metadata": {},
   "source": [
    "# Using Cvxpy"
   ]
  },
  {
   "cell_type": "code",
   "execution_count": 101,
   "id": "951ef324-2939-482d-b69c-2ecdbbc35274",
   "metadata": {},
   "outputs": [
    {
     "name": "stdout",
     "output_type": "stream",
     "text": [
      "\n",
      "The optimal value is: 7.160964158433265"
     ]
    }
   ],
   "source": [
    "\n",
    "# Define and solve the cvxXPY problem.\n",
    "x = cvx.Variable(nx)\n",
    "\n",
    "# define cost\n",
    "cost = (1/2) * cvx.quad_form(x, Q) + Q_n*x\n",
    "\n",
    "# constrains\n",
    "constrains_vec = []\n",
    "push!(constrains_vec, A * x<= b)\n",
    "push!(constrains_vec, x >= 1)\n",
    "push!(constrains_vec, x <= 10)\n",
    "\n",
    "prob = cvx.Problem(cvx.Minimize(cost),constrains_vec)\n",
    "\n",
    "prob.solve(solver=cvx.OSQP)\n",
    "\n",
    "# Print result.\n",
    "print(\"\\nThe optimal value is: \", prob.value)"
   ]
  },
  {
   "cell_type": "markdown",
   "id": "9bb0cc80-96e6-4be3-b808-bda1330656be",
   "metadata": {},
   "source": [
    "# Using Convex.jl"
   ]
  },
  {
   "cell_type": "code",
   "execution_count": 106,
   "id": "68adf9da-4463-405e-83be-78f1f0749a0c",
   "metadata": {},
   "outputs": [
    {
     "name": "stdout",
     "output_type": "stream",
     "text": [
      "7.160964149343695\n"
     ]
    }
   ],
   "source": [
    "x = Variable(nx)\n",
    "\n",
    "cost = (1/2) * Convex.quadform(x,Q)+ dot(Q_n,x)\n",
    "\n",
    "# objective \n",
    "p = minimize(cost) # or c' * x\n",
    "\n",
    "# constrains\n",
    "p.constraints += A * x <= b;\n",
    "p.constraints += [x >= 1; x <= 10];\n",
    "\n",
    "solve!(p, ECOS.Optimizer; silent_solver = true)\n",
    "\n",
    "println(p.optval)"
   ]
  },
  {
   "cell_type": "markdown",
   "id": "6549471f-6860-4bde-b4b4-da02fbbb2029",
   "metadata": {},
   "source": [
    "# Code generation"
   ]
  },
  {
   "cell_type": "code",
   "execution_count": 201,
   "id": "ce466cf6-07c1-44ae-a605-f3a41c3551a7",
   "metadata": {
    "scrolled": true
   },
   "outputs": [
    {
     "name": "stdout",
     "output_type": "stream",
     "text": [
      "-- The C compiler identification is AppleClang 12.0.0.12000032\n",
      "-- The CXX compiler identification is AppleClang 12.0.0.12000032\n",
      "-- Detecting C compiler ABI info\n",
      "-- Detecting C compiler ABI info - done\n",
      "-- Check for working C compiler: /Library/Developer/CommandLineTools/usr/bin/cc - skipped\n",
      "-- Detecting C compile features\n",
      "-- Detecting C compile features - done\n",
      "-- Detecting CXX compiler ABI info\n",
      "-- Detecting CXX compiler ABI info - done\n",
      "-- Check for working CXX compiler: /Library/Developer/CommandLineTools/usr/bin/c++ - skipped\n",
      "-- Detecting CXX compile features\n",
      "-- Detecting CXX compile features - done\n",
      "-- Setting build type to 'Release' as none was specified.\n",
      "-- Single precision floats (32bit) are OFF\n",
      "-- Long integers (64bit) are OFF\n",
      "-- COMPILER_OPTS = -DUSE_LAPACK -DCTRLC\n",
      "-- Configuring done (1.3s)\n",
      "-- Generating done (0.1s)\n",
      "-- Build files have been written to: /Users/sarathmenon/Documents/eth_courses/notebooks/control/MPC/nonneg_LS/c/build\n",
      "[  0%] Building C object CMakeFiles/cpg.dir/src/cpg_workspace.c.o\n",
      "[  3%] Building C object CMakeFiles/cpg.dir/src/cpg_solve.c.o\n",
      "[  6%] Building C object CMakeFiles/cpg.dir/solver_code/src/aa.c.o\n",
      "[ 10%] Building C object CMakeFiles/cpg.dir/solver_code/src/cones.c.o\n",
      "[ 13%] Building C object CMakeFiles/cpg.dir/solver_code/src/ctrlc.c.o\n",
      "[ 17%] Building C object CMakeFiles/cpg.dir/solver_code/src/linalg.c.o\n",
      "[ 20%] Building C object CMakeFiles/cpg.dir/solver_code/src/normalize.c.o\n",
      "[ 24%] Building C object CMakeFiles/cpg.dir/solver_code/src/rw.c.o\n",
      "[ 27%] Building C object CMakeFiles/cpg.dir/solver_code/src/scs.c.o\n",
      "[ 31%] Building C object CMakeFiles/cpg.dir/solver_code/src/scs_version.c.o\n",
      "[ 34%] Building C object CMakeFiles/cpg.dir/solver_code/src/util.c.o\n",
      "[ 37%] Building C object CMakeFiles/cpg.dir/solver_code/linsys/csparse.c.o\n",
      "[ 41%] Building C object CMakeFiles/cpg.dir/solver_code/linsys/scs_matrix.c.o\n",
      "[ 44%] Building C object CMakeFiles/cpg.dir/solver_code/linsys/cpu/direct/private.c.o\n",
      "[ 48%] Building C object CMakeFiles/cpg.dir/solver_code/linsys/external/qdldl/qdldl.c.o\n",
      "[ 51%] Building C object CMakeFiles/cpg.dir/solver_code/linsys/external/amd/SuiteSparse_config.c.o\n",
      "[ 55%] Building C object CMakeFiles/cpg.dir/solver_code/linsys/external/amd/amd_1.c.o\n",
      "[ 58%] Building C object CMakeFiles/cpg.dir/solver_code/linsys/external/amd/amd_2.c.o\n",
      "[ 62%] Building C object CMakeFiles/cpg.dir/solver_code/linsys/external/amd/amd_aat.c.o\n",
      "[ 65%] Building C object CMakeFiles/cpg.dir/solver_code/linsys/external/amd/amd_control.c.o\n",
      "[ 68%] Building C object CMakeFiles/cpg.dir/solver_code/linsys/external/amd/amd_defaults.c.o\n",
      "[ 72%] Building C object CMakeFiles/cpg.dir/solver_code/linsys/external/amd/amd_dump.c.o\n",
      "[ 75%] Building C object CMakeFiles/cpg.dir/solver_code/linsys/external/amd/amd_global.c.o\n",
      "[ 79%] Building C object CMakeFiles/cpg.dir/solver_code/linsys/external/amd/amd_info.c.o\n",
      "[ 82%] Building C object CMakeFiles/cpg.dir/solver_code/linsys/external/amd/amd_order.c.o\n",
      "[ 86%] Building C object CMakeFiles/cpg.dir/solver_code/linsys/external/amd/amd_post_tree.c.o\n",
      "[ 89%] Building C object CMakeFiles/cpg.dir/solver_code/linsys/external/amd/amd_postorder.c.o\n",
      "[ 93%] Building C object CMakeFiles/cpg.dir/solver_code/linsys/external/amd/amd_preprocess.c.o\n",
      "[ 96%] Building C object CMakeFiles/cpg.dir/solver_code/linsys/external/amd/amd_valid.c.o\n",
      "[100%] Linking C static library out/libcpg.a\n",
      "[100%] Built target cpg\n",
      "Generating code with CVXPYgen ...\n",
      "CVXPYgen finished generating code.\n",
      "Compiling python wrapper with CVXPYgen ... \n",
      "CVXPYgen finished compiling python wrapper.\n"
     ]
    },
    {
     "name": "stderr",
     "output_type": "stream",
     "text": [
      "/usr/local/lib/python3.11/site-packages/setuptools/__init__.py:84: _DeprecatedInstaller: setuptools.installer and fetch_build_eggs are deprecated.\n",
      "!!\n",
      "\n",
      "        ********************************************************************************\n",
      "        Requirements should be satisfied by a PEP 517 installer.\n",
      "        If you are using pip, you can try `pip install --use-pep517`.\n",
      "        ********************************************************************************\n",
      "\n",
      "!!\n",
      "  dist.fetch_build_eggs(dist.setup_requires)\n",
      "/Library/Developer/CommandLineTools/usr/bin/ranlib: file: out/libcpg.a(ctrlc.c.o) has no symbols\n",
      "/Library/Developer/CommandLineTools/usr/bin/ranlib: file: out/libcpg.a(amd_dump.c.o) has no symbols\n",
      "/Library/Developer/CommandLineTools/usr/bin/ranlib: file: out/libcpg.a(amd_global.c.o) has no symbols\n",
      "/Library/Developer/CommandLineTools/usr/bin/ranlib: file: out/libcpg.a(ctrlc.c.o) has no symbols\n",
      "/Library/Developer/CommandLineTools/usr/bin/ranlib: file: out/libcpg.a(amd_dump.c.o) has no symbols\n",
      "/Library/Developer/CommandLineTools/usr/bin/ranlib: file: out/libcpg.a(amd_global.c.o) has no symbols\n",
      "clang: error: no such file or directory: '/Users/sarathmenon/Documents/eth_courses/notebooks/control/MPC/nonneg_LS/c/build/out/libcpg.a'\n",
      "error: command '/usr/bin/clang++' failed with exit code 1\n"
     ]
    }
   ],
   "source": [
    "let\n",
    "\n",
    "n = 4\n",
    "\n",
    "# System\n",
    "A_val = collect(I(4))\n",
    "b_val = [10; 10; 10; 10];\n",
    "    \n",
    "x = cvx.Variable(n, name=\"x\")\n",
    "A = cvx.Parameter((n, n), name=\"A\")\n",
    "b = cvx.Parameter(n, name=\"b\")\n",
    "\n",
    "# cost function\n",
    "cost = cvx.sum_squares(cvx.matmul(A, x) - b)\n",
    "\n",
    "# constrains\n",
    "constrains_vec = []\n",
    "push!(constrains_vec, cvx.matmul(A, x) <= b)\n",
    "push!(constrains_vec, x >= 1)\n",
    "push!(constrains_vec, x <= 10)\n",
    "\n",
    "    \n",
    "problem = cvx.Problem(cvx.Minimize(cost), [x >= 0])\n",
    "cpg.generate_code(problem, code_dir=\"MPC_Code\", solver=\"OSQP\")\n",
    "\n",
    "# A.value = np.array([1 0 0 0; 0 1 0 0 ; 0 0 1 0; 0 0 0 1])\n",
    "# b.value = np.array(b_val)\n",
    "end"
   ]
  },
  {
   "cell_type": "code",
   "execution_count": 187,
   "id": "ba2bdbd8-4df5-438d-8fdb-343329b7072d",
   "metadata": {},
   "outputs": [
    {
     "data": {
      "text/plain": [
       "4×4 Matrix{Int64}:\n",
       " 1  0  0  0\n",
       " 0  1  0  0\n",
       " 0  0  1  0\n",
       " 0  0  0  1"
      ]
     },
     "execution_count": 187,
     "metadata": {},
     "output_type": "execute_result"
    }
   ],
   "source": []
  },
  {
   "cell_type": "code",
   "execution_count": null,
   "id": "e8f5ea06-3827-49ff-9ef8-39c563d33c21",
   "metadata": {},
   "outputs": [],
   "source": []
  }
 ],
 "metadata": {
  "kernelspec": {
   "display_name": "control_precompiled 1.9.1",
   "language": "julia",
   "name": "control_precompiled-1.9"
  },
  "language_info": {
   "file_extension": ".jl",
   "mimetype": "application/julia",
   "name": "julia",
   "version": "1.9.1"
  }
 },
 "nbformat": 4,
 "nbformat_minor": 5
}
