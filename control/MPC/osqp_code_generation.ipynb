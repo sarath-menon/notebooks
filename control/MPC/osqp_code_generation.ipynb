{
 "cells": [
  {
   "cell_type": "code",
   "execution_count": 1,
   "id": "34107475-69e1-4fc6-a802-c0d51fa374d3",
   "metadata": {},
   "outputs": [
    {
     "name": "stderr",
     "output_type": "stream",
     "text": [
      "\u001b[32m\u001b[1m  Activating\u001b[22m\u001b[39m project at `~/Documents/eth_courses/notebooks/control/MPC`\n"
     ]
    }
   ],
   "source": [
    "import Pkg; Pkg.activate(@__DIR__); Pkg.instantiate();"
   ]
  },
  {
   "cell_type": "code",
   "execution_count": 4,
   "id": "35d982e8-c2a0-4ed6-aadc-e2541250f7cc",
   "metadata": {},
   "outputs": [
    {
     "data": {
      "text/plain": [
       "PyObject <module 'numpy' from '/usr/local/opt/python@3.11/Frameworks/Python.framework/Versions/3.11/lib/python3.11/site-packages/numpy/__init__.py'>"
      ]
     },
     "execution_count": 4,
     "metadata": {},
     "output_type": "execute_result"
    }
   ],
   "source": [
    "using PyCall\n",
    "using LinearAlgebra\n",
    "\n",
    "osqp = pyimport(\"osqp\")\n",
    "np = pyimport(\"numpy\")\n"
   ]
  },
  {
   "cell_type": "markdown",
   "id": "f34ba660-0002-480a-b15b-b3019c188dae",
   "metadata": {},
   "source": [
    "## Generate data"
   ]
  },
  {
   "cell_type": "code",
   "execution_count": 5,
   "id": "70b79c88-2d74-4f10-8c19-203cb653e028",
   "metadata": {},
   "outputs": [],
   "source": [
    "# Define problem data\n",
    "P = sparse.csc_matrix([[4, 1], [1, 2]])\n",
    "q = np.array([1, 1])\n",
    "A = sparse.csc_matrix([[1, 1], [1, 0], [0, 1]])\n",
    "l = np.array([1, 0, 0])\n",
    "u = np.array([1, 0.7, 0.7])\n"
   ]
  },
  {
   "cell_type": "code",
   "execution_count": null,
   "id": "405155bc-021f-4be4-9aad-51bb3e6b0ef3",
   "metadata": {},
   "outputs": [],
   "source": [
    "nx = 4\n",
    "\n",
    "Q = rand(nx,nx)\n",
    "Q = Q'*Q + I\n",
    "\n",
    "Q_n = rand(nx)\n",
    "\n",
    "# System\n",
    "A = collect(I(4))\n",
    "b = [10; 10; 10; 10];"
   ]
  },
  {
   "cell_type": "markdown",
   "id": "0be1c56b-beed-4caa-ade5-1c63923f6ee5",
   "metadata": {},
   "source": [
    "## Code generation"
   ]
  },
  {
   "cell_type": "markdown",
   "id": "d1ee4ebf-921d-4596-840f-ffe5d1d77936",
   "metadata": {},
   "source": [
    "### Setup"
   ]
  },
  {
   "cell_type": "code",
   "execution_count": 6,
   "id": "04a45caf-0d1f-4a6c-881b-e41173eb394a",
   "metadata": {
    "scrolled": true
   },
   "outputs": [
    {
     "ename": "LoadError",
     "evalue": "UndefVarError: `P` not defined",
     "output_type": "error",
     "traceback": [
      "UndefVarError: `P` not defined",
      "",
      "Stacktrace:",
      " [1] top-level scope",
      "   @ In[6]:5"
     ]
    }
   ],
   "source": [
    "# Create an OSQP object\n",
    "prob = osqp.OSQP()\n",
    "\n",
    "# Setup workspace and change alpha parameter\n",
    "prob.setup(Q, Q_n, A, l, u, alpha=1.0)"
   ]
  },
  {
   "cell_type": "markdown",
   "id": "7d21a39f-620c-46de-9613-3dfdbd4a9f50",
   "metadata": {},
   "source": [
    "### Generate code"
   ]
  },
  {
   "cell_type": "code",
   "execution_count": 14,
   "id": "52287d8c-3a0d-4900-9e34-5e4a27ce7746",
   "metadata": {},
   "outputs": [
    {
     "name": "stdout",
     "output_type": "stream",
     "text": [
      "Getting workspace from OSQP object... \t\t\t\t[done]\n",
      "Creating target directories... \t\t\t\t\t[done]\n",
      "Copying OSQP sources... \t\t\t\t\t[done]\n",
      "Generating customized code... \t\t\t\t\t[done]\n",
      "Compiling Python wrapper... \t\t\t\t\t[done]\n",
      "Copying code-generated Python solver to current directory... \t[done]\n"
     ]
    },
    {
     "name": "stderr",
     "output_type": "stream",
     "text": [
      "/usr/local/lib/python3.11/site-packages/setuptools/__init__.py:85: _DeprecatedInstaller: setuptools.installer and fetch_build_eggs are deprecated. Requirements should be satisfied by a PEP 517 installer. If you are using pip, you can try `pip install --use-pep517`.\n",
      "  dist.fetch_build_eggs(dist.setup_requires)\n"
     ]
    }
   ],
   "source": [
    " prob.codegen(\"out\")"
   ]
  },
  {
   "cell_type": "code",
   "execution_count": null,
   "id": "3eedaa29-11b1-4880-ae05-9b7de7adba13",
   "metadata": {},
   "outputs": [],
   "source": []
  }
 ],
 "metadata": {
  "kernelspec": {
   "display_name": "control_precompiled 1.9.1",
   "language": "julia",
   "name": "control_precompiled-1.9"
  },
  "language_info": {
   "file_extension": ".jl",
   "mimetype": "application/julia",
   "name": "julia",
   "version": "1.9.1"
  }
 },
 "nbformat": 4,
 "nbformat_minor": 5
}
