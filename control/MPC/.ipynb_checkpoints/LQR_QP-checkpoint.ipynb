{
 "cells": [
  {
   "cell_type": "code",
   "execution_count": 2,
   "id": "a6e9332c",
   "metadata": {},
   "outputs": [
    {
     "name": "stderr",
     "output_type": "stream",
     "text": [
      "\u001b[32m\u001b[1m  Activating\u001b[22m\u001b[39m project at `~/Documents/eth_courses/notebooks/control/MPC`\n"
     ]
    }
   ],
   "source": [
    "import Pkg; Pkg.activate(@__DIR__); Pkg.instantiate()"
   ]
  },
  {
   "cell_type": "code",
   "execution_count": 3,
   "id": "c2fd7493",
   "metadata": {},
   "outputs": [],
   "source": [
    "# using Pkg\n",
    "# Pkg.update()\n",
    "# Pkg.add(\"BlockArrays\")"
   ]
  },
  {
   "cell_type": "code",
   "execution_count": 4,
   "id": "4958f435",
   "metadata": {},
   "outputs": [],
   "source": [
    "using LinearAlgebra\n",
    "using GLMakie\n",
    "using SparseArrays\n",
    "\n",
    "import Convex as cvx \n",
    "import OSQP\n",
    "import ECOS\n",
    "\n",
    "GLMakie.activate!(inline=true)"
   ]
  },
  {
   "cell_type": "markdown",
   "id": "c57640cf",
   "metadata": {},
   "source": [
    "### Dynamics"
   ]
  },
  {
   "cell_type": "code",
   "execution_count": 28,
   "id": "1c2b9cef",
   "metadata": {},
   "outputs": [
    {
     "data": {
      "text/plain": [
       "2-element Vector{Float64}:\n",
       " 1.0\n",
       " 0.0"
      ]
     },
     "execution_count": 28,
     "metadata": {},
     "output_type": "execute_result"
    }
   ],
   "source": [
    "# Double integrator in discrtee time\n",
    "h = 0.1   # time step\n",
    "A = [1 h; 0 1]\n",
    "B = [0.5*h*h; h]\n",
    "\n",
    "n = 2     # number of state\n",
    "m = 1     # number of controls\n",
    "\n",
    "Tfinal = 100.0 # final time\n",
    "N = Int(Tfinal/h)+1    # number of time steps\n",
    "\n",
    "# Initial conditions\n",
    "x0 = [1.0; 0]"
   ]
  },
  {
   "cell_type": "code",
   "execution_count": 29,
   "id": "645497e9-9b48-4510-a1b7-e302ac11bdd8",
   "metadata": {},
   "outputs": [
    {
     "data": {
      "text/plain": [
       "plot_result (generic function with 1 method)"
      ]
     },
     "execution_count": 29,
     "metadata": {},
     "output_type": "execute_result"
    }
   ],
   "source": [
    "function plot_result(t_vec, xhist, uhist)\n",
    "    fig = Figure(resolution = (1000, 400))\n",
    "\n",
    "    ax1 = Axis(fig[1, 1], title=\"States\", xlabel = \"time\")\n",
    "    ax2 = Axis(fig[1, 2], title=\"Control input\", xlabel = \"time\")\n",
    "    \n",
    "    \n",
    "    # t_vec = range(0,h*(N-1), step=h)\n",
    "    lines!(ax1, t_vec ,xhist[1,:])\n",
    "    \n",
    "    lines!(ax1,t_vec,xhist[2,:])\n",
    "    \n",
    "    lines!(ax2, t_vec, uhist)\n",
    "    display(fig)\n",
    "\n",
    "end"
   ]
  },
  {
   "cell_type": "markdown",
   "id": "51b4992d",
   "metadata": {},
   "source": [
    "# Unconstrained LQR"
   ]
  },
  {
   "cell_type": "markdown",
   "id": "6c679f0a-452f-4831-8c24-4f5fa5244a9c",
   "metadata": {},
   "source": [
    "## Method 1: Solving KKT System"
   ]
  },
  {
   "cell_type": "markdown",
   "id": "a4ee7f55",
   "metadata": {},
   "source": [
    "### Controller"
   ]
  },
  {
   "cell_type": "code",
   "execution_count": 30,
   "id": "e88530b6",
   "metadata": {},
   "outputs": [],
   "source": [
    "# Cost weights\n",
    "Q = sparse(1.0*I(2))\n",
    "R = sparse(0.1*I(1))\n",
    "Qn = sparse(1.0*I(2))\n",
    "\n",
    "# Cost\n",
    "H = blockdiag(R, kron(I(N-2), blockdiag(Q,R)), Qn);\n",
    "\n",
    "# Constraints\n",
    "C = kron(I(N-1), [B -I(2)])\n",
    "\n",
    "for k = 1:N-2\n",
    "    C[(k*n).+(1:n), (k*(n+m)-n).+(1:n)] .= A\n",
    "end\n",
    "d = [-A*x0; zeros(size(C,1)-n)];"
   ]
  },
  {
   "cell_type": "code",
   "execution_count": 31,
   "id": "18f66b72",
   "metadata": {},
   "outputs": [
    {
     "data": {
      "text/plain": [
       "J (generic function with 1 method)"
      ]
     },
     "execution_count": 31,
     "metadata": {},
     "output_type": "execute_result"
    }
   ],
   "source": [
    "#Cost function\n",
    "function J(xhist,uhist)\n",
    "    cost = 0.5*xhist[:,end]'*Qn*xhist[:,end]\n",
    "    for k = 1:(N-1)\n",
    "        cost = cost + 0.5*xhist[:,k]'*Q*xhist[:,k] + 0.5*(uhist[k]'*R*uhist[k])[1]\n",
    "    end\n",
    "    return cost\n",
    "end"
   ]
  },
  {
   "cell_type": "code",
   "execution_count": 32,
   "id": "d5af17c0",
   "metadata": {},
   "outputs": [
    {
     "data": {
      "image/png": "[encoded data removed]"
     },
     "metadata": {},
     "output_type": "display_data"
    },
    {
     "data": {
      "text/plain": [
       "GLMakie.Screen(...)"
      ]
     },
     "execution_count": 32,
     "metadata": {},
     "output_type": "execute_result"
    }
   ],
   "source": [
    "\n",
    "# Solve the linear system\n",
    "y = [H C'; C zeros(size(C,1),size(C,1))]\\[zeros(size(H,1)); d]\n",
    "\n",
    "# Get state history\n",
    "z = y[1:size(H,1)]   # states and controls [u0,x1,u1,...,xN]\n",
    "Z = reshape(z,n+m,N-1)\n",
    "xhist = Z[m+1:end,:]\n",
    "xhist = [x0 xhist]\n",
    "\n",
    "# Get control history\n",
    "uhist = Z[1,:];\n",
    "uhist = [0; uhist]\n",
    "\n",
    "t_vec = range(0,Tfinal, step=h)\n",
    "\n",
    "plot_result(t_vec, xhist, uhist)\n",
    "# print(\"Cost:\", J(xhist,uhist))"
   ]
  },
  {
   "cell_type": "markdown",
   "id": "b8e76da8-0947-4b19-b164-4f3d5cca35d4",
   "metadata": {},
   "source": [
    "## Method 2: using Convex.jl (manually enter matrices)"
   ]
  },
  {
   "cell_type": "markdown",
   "id": "39f07434",
   "metadata": {},
   "source": [
    "### Dynamics"
   ]
  },
  {
   "cell_type": "code",
   "execution_count": 33,
   "id": "7125eaab",
   "metadata": {},
   "outputs": [
    {
     "data": {
      "text/plain": [
       "2-element Vector{Float64}:\n",
       " 1.0\n",
       " 0.0"
      ]
     },
     "execution_count": 33,
     "metadata": {},
     "output_type": "execute_result"
    }
   ],
   "source": [
    "# Discrete dynamics\n",
    "h = 0.1   # time step\n",
    "A = [1 h;\n",
    "    0 1]\n",
    "B = [0.5*h*h;\n",
    "    h]\n",
    "\n",
    "n = 2     # number of state\n",
    "m = 1     # number of controls\n",
    "Tfinal = 100.0 # final time\n",
    "N = Int(Tfinal/h)   # number of time steps\n",
    "t_vec = range(0,Tfinal, step=h)\n",
    "\n",
    "# Initial conditions\n",
    "x0 = [1.0; 0]"
   ]
  },
  {
   "cell_type": "markdown",
   "id": "19905a7a",
   "metadata": {},
   "source": [
    "### Controller"
   ]
  },
  {
   "cell_type": "code",
   "execution_count": 34,
   "id": "d4f51b14",
   "metadata": {
    "scrolled": true
   },
   "outputs": [],
   "source": [
    "# Cost weights\n",
    "Q = 1.0 * sparse(I(2))\n",
    "R = 0.1* sparse(I(1))\n",
    "Qn = 2.0* sparse(I(2))\n",
    "\n",
    "Q_n = size(Q,1)\n",
    "A_n = size(A,1)\n",
    "\n",
    "# Cost (lecture 4 - 15)\n",
    "Q_block = kron(I(N-1), Q)\n",
    "Qn_block = Qn\n",
    "R_block = kron(I(N), R)\n",
    "\n",
    "H̄ = blockdiag(Q_block, Qn_block, R_block)\n",
    "H̄ = Matrix(H̄)\n",
    "H̄ = H̄'*H̄ + I # create PSD matrix \n",
    "\n",
    "# Dynamics constrains\n",
    "G_eq_left_block = blockdiag(kron(I(N), 1.0*sparse(I(2))))\n",
    "\n",
    "# Add A matrix blocks to lower diagonal of G_eq (lecture 4 - 13)\n",
    "for k = 1:N-1\n",
    "    i = (Q_n*k) + 1\n",
    "    j = Q_n*(k-1) +1\n",
    "    \n",
    "    G_eq_left_block[i:i+(A_n-1), j:j+(A_n-1)] .= -A\n",
    "end\n",
    "\n",
    "G_eq_right_block = blockdiag(kron(I(N), sparse(-B)));\n",
    "\n",
    "G_eq = hcat(G_eq_left_block, G_eq_right_block);\n",
    "  \n",
    "E_eq = [A; repeat(zeros(n, n), N-1)];\n"
   ]
  },
  {
   "cell_type": "markdown",
   "id": "4709a423",
   "metadata": {},
   "source": [
    "### Solving"
   ]
  },
  {
   "cell_type": "code",
   "execution_count": 35,
   "id": "ab7d12b4",
   "metadata": {},
   "outputs": [],
   "source": [
    "z = cvx.Variable(size(A,1)*N + N)\n",
    "# z = [z, x0]\n",
    "\n",
    "# NOTE: quadform(x,Q) = x'*Q*x \n",
    "cost = 0.5*cvx.quadform(z,H̄) \n",
    "\n",
    "prob = cvx.minimize(cost)\n",
    "\n",
    "# dynamics constraint\n",
    "prob.constraints += (G_eq*z == E_eq*x0)\n",
    "\n",
    "cvx.solve!(prob, ECOS.Optimizer; silent_solver = true)\n",
    "\n",
    "z_val= z.value::Matrix; # This will always be a matrix\n",
    "z_val= vec(z.value); # convert to vector easily "
   ]
  },
  {
   "cell_type": "code",
   "execution_count": 36,
   "id": "c75ae266",
   "metadata": {},
   "outputs": [
    {
     "data": {
      "image/png": "[encoded data removed]"
     },
     "metadata": {},
     "output_type": "display_data"
    },
    {
     "data": {
      "text/plain": [
       "GLMakie.Screen(...)"
      ]
     },
     "execution_count": 36,
     "metadata": {},
     "output_type": "execute_result"
    }
   ],
   "source": [
    "xhist = z_val[1:2*N]\n",
    "xhist = reshape(xhist, 2,N)\n",
    "\n",
    "# Get control history\n",
    "uhist = z_val[2*N+1:end];\n",
    "\n",
    "# append initial state and initial control input\n",
    "xhist = [x0 xhist]\n",
    "uhist = [0; uhist]\n",
    "\n",
    "plot_result(t_vec, xhist, uhist)\n",
    "# print(\"Cost:\", J(xhist,uhist))"
   ]
  },
  {
   "cell_type": "markdown",
   "id": "415d227f",
   "metadata": {},
   "source": [
    "## Constrained LQR "
   ]
  },
  {
   "cell_type": "code",
   "execution_count": 41,
   "id": "3b23d815-cfc0-450c-80ea-cbf521d8b577",
   "metadata": {},
   "outputs": [],
   "source": [
    "# state constrain\n",
    "b_x = 5;\n",
    "\n",
    "# control constrain (Lecture 4- 14)\n",
    "b_u = 0.1;\n",
    "\n",
    "A_x = 1.0*sparse(I(n))\n",
    "A_u = 1.0*sparse(I(m))\n",
    "\n",
    "A_block = kron(I(N-1), A_x)\n",
    "A_u_block = kron(I(N), A_u)\n",
    "\n",
    "G_ineq = blockdiag(sparse(zeros(n,n)), A_block, A_u_block);\n",
    "\n",
    "w_in = [repeat(ones(n,1)*b_x, N) ; repeat(ones(m,1)*b_u, N)];\n",
    "\n",
    "E_in = [-A_x; repeat(zeros(n, n), N-1); repeat(zeros(1, 2), N)];"
   ]
  },
  {
   "cell_type": "code",
   "execution_count": 42,
   "id": "e57a6165",
   "metadata": {},
   "outputs": [],
   "source": [
    "# state constrain\n",
    "b_x = 5;\n",
    "\n",
    "# control constrain \n",
    "b_u = 0.1;\n",
    "\n",
    "A_x = 1.0*sparse(I(n))\n",
    "A_u = 1.0*sparse(I(m))\n",
    "\n",
    "G_in = blockdiag(sparse(zeros(n,n)), kron(I(N-1), A_x), kron(I(N), A_u));\n",
    "\n",
    "w_in = [repeat(ones(n,1)*b_x, N) ; repeat(ones(m,1)*b_u, N)];\n",
    "E_in = [-A_x; repeat(zeros(n, n), N-1); repeat(zeros(1, 2), N)];"
   ]
  },
  {
   "cell_type": "markdown",
   "id": "3a08145c",
   "metadata": {},
   "source": [
    "## Solving using convex.jl"
   ]
  },
  {
   "cell_type": "code",
   "execution_count": 43,
   "id": "33e35c8c",
   "metadata": {},
   "outputs": [],
   "source": [
    "z = cvx.Variable(size(A,1)*N + N)\n",
    "\n",
    "# NOTE: quadform(x,Q) = x'*Q*x \n",
    "cost = 0.5*cvx.quadform(z,H̄) \n",
    "\n",
    "prob = cvx.minimize(cost)\n",
    "\n",
    "# dynamics constraint\n",
    "prob.constraints += (G_eq*z == E_eq*x0)\n",
    "\n",
    "# state, control constrains\n",
    "prob.constraints += (G_ineq*z <= w_in + E_in*x0)\n",
    "\n",
    "cvx.solve!(prob, ECOS.Optimizer; silent_solver = true)\n",
    "\n",
    "z_val= z.value::Matrix; # This will always be a matrix\n",
    "z_val= vec(z.value); # convert to vector easily "
   ]
  },
  {
   "cell_type": "code",
   "execution_count": 44,
   "id": "2c891444",
   "metadata": {},
   "outputs": [
    {
     "data": {
      "image/png": "[encoded data removed]"
     },
     "metadata": {},
     "output_type": "display_data"
    },
    {
     "data": {
      "text/plain": [
       "GLMakie.Screen(...)"
      ]
     },
     "execution_count": 44,
     "metadata": {},
     "output_type": "execute_result"
    }
   ],
   "source": [
    "xhist = z_val[1:2*N]\n",
    "xhist = reshape(xhist, 2,N)\n",
    "# xhist = [x0 xhist]\n",
    "\n",
    "# Get control history\n",
    "uhist = z_val[2*N+1:end];\n",
    "\n",
    "# append initial state and initial control input\n",
    "xhist = [x0 xhist]\n",
    "uhist = [0; uhist]\n",
    "\n",
    "plot_result(t_vec, xhist, uhist)"
   ]
  },
  {
   "cell_type": "markdown",
   "id": "69ebbb65-4d2f-4ccb-8a16-f8db2a30e92e",
   "metadata": {},
   "source": [
    "## Method 3: using Convex.jl (disciplined convex programming)"
   ]
  },
  {
   "cell_type": "code",
   "execution_count": null,
   "id": "8664e702-4920-4140-ad45-a079ccc4af0d",
   "metadata": {},
   "outputs": [],
   "source": []
  }
 ],
 "metadata": {
  "kernelspec": {
   "display_name": "control_precompiled 1.9.1",
   "language": "julia",
   "name": "control_precompiled-1.9"
  },
  "language_info": {
   "file_extension": ".jl",
   "mimetype": "application/julia",
   "name": "julia",
   "version": "1.9.1"
  }
 },
 "nbformat": 4,
 "nbformat_minor": 5
}
