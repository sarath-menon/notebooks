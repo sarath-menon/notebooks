{
 "cells": [
  {
   "cell_type": "code",
   "execution_count": 1,
   "id": "adf87f54-b458-41ac-8d7e-0625863c871a",
   "metadata": {},
   "outputs": [
    {
     "name": "stderr",
     "output_type": "stream",
     "text": [
      "\u001b[32m\u001b[1m  Activating\u001b[22m\u001b[39m project at `~/Documents/eth_courses/notebooks/control/MPC`\n"
     ]
    }
   ],
   "source": [
    "import Pkg; Pkg.activate(@__DIR__); Pkg.instantiate();"
   ]
  },
  {
   "cell_type": "code",
   "execution_count": 112,
   "id": "613f6bc6-cd3e-425a-9bc6-c4a213dfb4c6",
   "metadata": {},
   "outputs": [],
   "source": [
    "using PyCall\n",
    "import Random\n",
    "using LinearAlgebra\n",
    "\n",
    "# SOlvers,\n",
    "import ECOS, OSQP\n",
    "\n",
    "cvx = pyimport(\"cvxpy\");\n",
    "cvxpygen = pyimport(\"cvxpygen\");\n",
    "cpg = pyimport(\"cvxpygen.cpg\");\n",
    "np = pyimport(\"numpy\");\n",
    "\n",
    "# operator overloading for matrix multiplication in cvx\n",
    "Base.:*(A::Array ,B::PyObject) = cvx.matmul(A,B)"
   ]
  },
  {
   "cell_type": "markdown",
   "id": "2cb2c1db-4b91-48c3-a185-b98167fc329a",
   "metadata": {},
   "source": [
    "## Generate data"
   ]
  },
  {
   "cell_type": "code",
   "execution_count": 145,
   "id": "28c1c08d-2b81-4805-b087-ec05f7fa7d64",
   "metadata": {},
   "outputs": [],
   "source": [
    "nx = 4\n",
    "\n",
    "Q = rand(nx,nx)\n",
    "Q = Q'*Q + I\n",
    "\n",
    "Q_n = rand(nx)\n",
    "\n",
    "# System\n",
    "A = collect(I(nx))\n",
    "b = [10; 10; 10; 10];"
   ]
  },
  {
   "cell_type": "markdown",
   "id": "1d423da5-1fa6-4401-9463-d4bb0f1af077",
   "metadata": {},
   "source": [
    "# Using Cvxpy"
   ]
  },
  {
   "cell_type": "code",
   "execution_count": 101,
   "id": "951ef324-2939-482d-b69c-2ecdbbc35274",
   "metadata": {},
   "outputs": [
    {
     "name": "stdout",
     "output_type": "stream",
     "text": [
      "\n",
      "The optimal value is: 7.160964158433265"
     ]
    }
   ],
   "source": [
    "\n",
    "# Define and solve the cvxXPY problem.\n",
    "x = cvx.Variable(nx)\n",
    "\n",
    "# define cost\n",
    "cost = (1/2) * cvx.quad_form(x, Q) + Q_n*x\n",
    "\n",
    "# constrains\n",
    "constrains_vec = []\n",
    "push!(constrains_vec, A * x<= b)\n",
    "push!(constrains_vec, x >= 1)\n",
    "push!(constrains_vec, x <= 10)\n",
    "\n",
    "prob = cvx.Problem(cvx.Minimize(cost),constrains_vec)\n",
    "\n",
    "prob.solve(solver=cvx.OSQP)\n",
    "\n",
    "# Print result.\n",
    "print(\"\\nThe optimal value is: \", prob.value)"
   ]
  },
  {
   "cell_type": "markdown",
   "id": "9bb0cc80-96e6-4be3-b808-bda1330656be",
   "metadata": {},
   "source": [
    "# Using Convex.jl"
   ]
  },
  {
   "cell_type": "code",
   "execution_count": 106,
   "id": "68adf9da-4463-405e-83be-78f1f0749a0c",
   "metadata": {},
   "outputs": [
    {
     "name": "stdout",
     "output_type": "stream",
     "text": [
      "7.160964149343695\n"
     ]
    }
   ],
   "source": [
    "x = Variable(nx)\n",
    "\n",
    "cost = (1/2) * Convex.quadform(x,Q)+ dot(Q_n,x)\n",
    "\n",
    "# objective \n",
    "p = minimize(cost) # or c' * x\n",
    "\n",
    "# constrains\n",
    "p.constraints += A * x <= b;\n",
    "p.constraints += [x >= 1; x <= 10];\n",
    "\n",
    "solve!(p, ECOS.Optimizer; silent_solver = true)\n",
    "\n",
    "println(p.optval)"
   ]
  },
  {
   "cell_type": "markdown",
   "id": "6549471f-6860-4bde-b4b4-da02fbbb2029",
   "metadata": {},
   "source": [
    "# Code generation"
   ]
  },
  {
   "cell_type": "code",
   "execution_count": 164,
   "id": "ce466cf6-07c1-44ae-a605-f3a41c3551a7",
   "metadata": {
    "scrolled": true
   },
   "outputs": [
    {
     "data": {
      "text/plain": [
       "PyObject Problem(Minimize(Expression(CONVEX, NONNEGATIVE, ())), [Inequality(Constant(CONSTANT, ZERO, ()))])"
      ]
     },
     "execution_count": 164,
     "metadata": {},
     "output_type": "execute_result"
    }
   ],
   "source": [
    "let\n",
    "\n",
    "n = 4\n",
    "\n",
    "# System\n",
    "A_val = collect(I(4))\n",
    "b_val = [10; 10; 10; 10];\n",
    "    \n",
    "x = cvx.Variable(n, name=\"x\")\n",
    "A = cvx.Parameter((n, n), name=\"A\")\n",
    "b = cvx.Parameter(n, name=\"b\")\n",
    "\n",
    "cost = cvx.sum_squares(cvx.matmul(A, x) - b)\n",
    "    \n",
    "problem = cvx.Problem(cvx.Minimize(cost), [x >= 0])\n",
    "# cpg.generate_code(problem, code_dir=\"nonneg_LS\", solver=\"SCS\")\n",
    "\n",
    "    \n",
    "end"
   ]
  },
  {
   "cell_type": "code",
   "execution_count": 159,
   "id": "e0f4d96a-e36c-465e-8308-b352b5e0b852",
   "metadata": {},
   "outputs": [
    {
     "data": {
      "text/plain": [
       "PyObject Parameter((4, 4))"
      ]
     },
     "execution_count": 159,
     "metadata": {},
     "output_type": "execute_result"
    }
   ],
   "source": [
    "let\n",
    "n=4\n",
    "A = cvx.Parameter((n, n), name=\"A\")\n",
    "A\n",
    "end"
   ]
  },
  {
   "cell_type": "code",
   "execution_count": null,
   "id": "ba2bdbd8-4df5-438d-8fdb-343329b7072d",
   "metadata": {},
   "outputs": [],
   "source": []
  }
 ],
 "metadata": {
  "kernelspec": {
   "display_name": "control_precompiled 1.9.1",
   "language": "julia",
   "name": "control_precompiled-1.9"
  },
  "language_info": {
   "file_extension": ".jl",
   "mimetype": "application/julia",
   "name": "julia",
   "version": "1.9.1"
  }
 },
 "nbformat": 4,
 "nbformat_minor": 5
}
