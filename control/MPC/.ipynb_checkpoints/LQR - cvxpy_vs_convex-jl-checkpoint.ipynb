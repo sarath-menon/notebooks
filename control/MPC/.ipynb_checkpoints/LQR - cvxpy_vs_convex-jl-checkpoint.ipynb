{
 "cells": [
  {
   "cell_type": "code",
   "execution_count": 1,
   "id": "adf87f54-b458-41ac-8d7e-0625863c871a",
   "metadata": {},
   "outputs": [
    {
     "name": "stderr",
     "output_type": "stream",
     "text": [
      "\u001b[32m\u001b[1m  Activating\u001b[22m\u001b[39m project at `~/Documents/eth_courses/notebooks/control/MPC`\n"
     ]
    }
   ],
   "source": [
    "import Pkg; Pkg.activate(@__DIR__); Pkg.instantiate();"
   ]
  },
  {
   "cell_type": "code",
   "execution_count": 244,
   "id": "613f6bc6-cd3e-425a-9bc6-c4a213dfb4c6",
   "metadata": {},
   "outputs": [],
   "source": [
    "using PyCall\n",
    "import Random\n",
    "using Convex\n",
    "using LinearAlgebra\n",
    "\n",
    "# SOlvers,\n",
    "import ECOS, OSQP\n",
    "\n",
    "cvx = pyimport(\"cvxpy\");\n",
    "cvxpygen = pyimport(\"cvxpygen\");\n",
    "cpg = pyimport(\"cvxpygen.cpg\");\n",
    "np = pyimport(\"numpy\");\n",
    "sparse = pyimport(\"scipy.sparse\");\n",
    "\n",
    "# operator overloading for matrix multiplication in cvx\n",
    "Base.:*(A::Array ,B::PyObject) = cvx.matmul(A,B)"
   ]
  },
  {
   "cell_type": "markdown",
   "id": "2cb2c1db-4b91-48c3-a185-b98167fc329a",
   "metadata": {},
   "source": [
    "## Generate data"
   ]
  },
  {
   "cell_type": "code",
   "execution_count": 248,
   "id": "28c1c08d-2b81-4805-b087-ec05f7fa7d64",
   "metadata": {},
   "outputs": [],
   "source": [
    "nx = 4\n",
    "nu = 1\n",
    "\n",
    "Q = diagm(ones(nx))\n",
    "Q = Q'*Q + I\n",
    "Q_n = zeros(nx)\n",
    "\n",
    "R = diagm(ones(nu))\n",
    "\n",
    "# System\n",
    "A = collect(I(nx))\n",
    "b = [10.; 10.; 10.; 10.];"
   ]
  },
  {
   "cell_type": "markdown",
   "id": "1d423da5-1fa6-4401-9463-d4bb0f1af077",
   "metadata": {},
   "source": [
    "# Using Cvxpy"
   ]
  },
  {
   "cell_type": "code",
   "execution_count": 254,
   "id": "951ef324-2939-482d-b69c-2ecdbbc35274",
   "metadata": {},
   "outputs": [
    {
     "name": "stdout",
     "output_type": "stream",
     "text": [
      "\n",
      "The optimal value is: 4.000000000000002"
     ]
    }
   ],
   "source": [
    "\n",
    "# Define and solve the cvxXPY problem.\n",
    "x = cvx.Variable(nx)\n",
    "u = cvx.Variable(nu)\n",
    "\n",
    "# define cost\n",
    "cost = (1/2) * cvx.quad_form(x, Q) + (1/2) * cvx.quad_form(u, R) + Q_n*x\n",
    "\n",
    "# constrains\n",
    "constrains_vec = []\n",
    "push!(constrains_vec, A * x<= b)\n",
    "push!(constrains_vec, x >= 1)\n",
    "push!(constrains_vec, x <= 10)\n",
    "push!(constrains_vec, u <= 1)\n",
    "\n",
    "prob = cvx.Problem(cvx.Minimize(cost),constrains_vec)\n",
    "\n",
    "prob.solve(solver=cvx.OSQP)\n",
    "\n",
    "# Print result.\n",
    "print(\"\\nThe optimal value is: \", prob.value)"
   ]
  },
  {
   "cell_type": "markdown",
   "id": "9bb0cc80-96e6-4be3-b808-bda1330656be",
   "metadata": {},
   "source": [
    "# Using Convex.jl"
   ]
  },
  {
   "cell_type": "code",
   "execution_count": 258,
   "id": "68adf9da-4463-405e-83be-78f1f0749a0c",
   "metadata": {},
   "outputs": [
    {
     "name": "stdout",
     "output_type": "stream",
     "text": [
      "3.999999973274034\n"
     ]
    }
   ],
   "source": [
    "x = Variable(nx)\n",
    "u = Variable(nu)\n",
    "\n",
    "cost = (1/2)*Convex.quadform(x,Q) + (1/2)*Convex.quadform(u,R) + dot(Q_n,x)\n",
    "\n",
    "# objective \n",
    "p = minimize(cost) # or c' * x\n",
    "\n",
    "# constrains\n",
    "p.constraints += A * x <= b;\n",
    "p.constraints += [x >= 1; x <= 10];\n",
    "p.constraints += [u <= 1];\n",
    "\n",
    "solve!(p, ECOS.Optimizer; silent_solver = true)\n",
    "\n",
    "println(p.optval)"
   ]
  },
  {
   "cell_type": "markdown",
   "id": "6549471f-6860-4bde-b4b4-da02fbbb2029",
   "metadata": {},
   "source": [
    "# Code generation"
   ]
  },
  {
   "cell_type": "markdown",
   "id": "3599e1b0-944b-44d2-b005-cc0df8fdd295",
   "metadata": {},
   "source": [
    "## OSQP"
   ]
  },
  {
   "cell_type": "code",
   "execution_count": 247,
   "id": "976b51dd-44ec-4899-9daa-b1d59946ae8a",
   "metadata": {},
   "outputs": [
    {
     "data": {
      "text/plain": [
       "PyObject <4x4 sparse matrix of type '<class 'numpy.float64'>'\n",
       "\twith 4 stored elements in Compressed Sparse Column format>"
      ]
     },
     "execution_count": 247,
     "metadata": {},
     "output_type": "execute_result"
    }
   ],
   "source": [
    "let \n",
    "\n",
    "# System\n",
    "A_val = collect(I(4))\n",
    "b_val = [10; 10; 10; 10];\n",
    "\n",
    "Q_val = diagm(ones(nx))\n",
    "Q_val = Q_val'*Q_val + I\n",
    "\n",
    "Q_n_val = zeros(nx)\n",
    "    \n",
    "# Define problem data\n",
    "P = sparse.csc_matrix(Q)\n",
    "q = np.array(Q_n_val)\n",
    "    \n",
    "A = sparse.csc_matrix([A_val)\n",
    "\n",
    "# constrains\n",
    "\n",
    "# l = np.array([1, 0, 0])\n",
    "# u = np.array([1, 0.7, 0.7])\n",
    "\n",
    "\n",
    "end\n"
   ]
  },
  {
   "cell_type": "markdown",
   "id": "4ad9899b-3a37-4040-b935-d2911b4b2764",
   "metadata": {},
   "source": [
    "### Cvxpygen"
   ]
  },
  {
   "cell_type": "code",
   "execution_count": 242,
   "id": "ce466cf6-07c1-44ae-a605-f3a41c3551a7",
   "metadata": {
    "scrolled": true
   },
   "outputs": [
    {
     "ename": "LoadError",
     "evalue": "PyError ($(Expr(:escape, :(ccall(#= /Users/sarathmenon/.julia/packages/PyCall/ilqDX/src/pyfncall.jl:43 =# @pysym(:PyObject_Call), PyPtr, (PyPtr, PyPtr, PyPtr), o, pyargsptr, kw))))) <class 'IndexError'>\nIndexError('list index out of range')\n  File \"/usr/local/opt/python@3.11/Frameworks/Python.framework/Versions/3.11/lib/python3.11/site-packages/cvxpygen/cpg.py\", line 155, in generate_code\n    for dual_id in dual_id_maps[0].keys():\n                   ~~~~~~~~~~~~^^^\n",
     "output_type": "error",
     "traceback": [
      "PyError ($(Expr(:escape, :(ccall(#= /Users/sarathmenon/.julia/packages/PyCall/ilqDX/src/pyfncall.jl:43 =# @pysym(:PyObject_Call), PyPtr, (PyPtr, PyPtr, PyPtr), o, pyargsptr, kw))))) <class 'IndexError'>\nIndexError('list index out of range')\n  File \"/usr/local/opt/python@3.11/Frameworks/Python.framework/Versions/3.11/lib/python3.11/site-packages/cvxpygen/cpg.py\", line 155, in generate_code\n    for dual_id in dual_id_maps[0].keys():\n                   ~~~~~~~~~~~~^^^\n",
      "",
      "Stacktrace:",
      "  [1] pyerr_check",
      "    @ ~/.julia/packages/PyCall/ilqDX/src/exception.jl:75 [inlined]",
      "  [2] pyerr_check",
      "    @ ~/.julia/packages/PyCall/ilqDX/src/exception.jl:79 [inlined]",
      "  [3] _handle_error(msg::String)",
      "    @ PyCall ~/.julia/packages/PyCall/ilqDX/src/exception.jl:96",
      "  [4] macro expansion",
      "    @ ~/.julia/packages/PyCall/ilqDX/src/exception.jl:110 [inlined]",
      "  [5] #107",
      "    @ ~/.julia/packages/PyCall/ilqDX/src/pyfncall.jl:43 [inlined]",
      "  [6] disable_sigint",
      "    @ ./c.jl:473 [inlined]",
      "  [7] __pycall!",
      "    @ ~/.julia/packages/PyCall/ilqDX/src/pyfncall.jl:42 [inlined]",
      "  [8] _pycall!(ret::PyObject, o::PyObject, args::Tuple{PyObject}, nargs::Int64, kw::PyObject)",
      "    @ PyCall ~/.julia/packages/PyCall/ilqDX/src/pyfncall.jl:29",
      "  [9] _pycall!",
      "    @ ~/.julia/packages/PyCall/ilqDX/src/pyfncall.jl:11 [inlined]",
      " [10] (::PyObject)(args::PyObject; kwargs::Base.Pairs{Symbol, String, Tuple{Symbol}, NamedTuple{(:code_dir,), Tuple{String}}})",
      "    @ PyCall ~/.julia/packages/PyCall/ilqDX/src/pyfncall.jl:86",
      " [11] top-level scope",
      "    @ In[242]:40"
     ]
    }
   ],
   "source": [
    "let\n",
    "\n",
    "n = 4\n",
    "\n",
    "# System\n",
    "A_val = collect(I(4))\n",
    "b_val = [10; 10; 10; 10];\n",
    "\n",
    "Q_val = diagm(ones(nx))\n",
    "Q_val = Q_val'*Q_val + I\n",
    "\n",
    "Q_n_val = zeros(nx)\n",
    "\n",
    "    \n",
    "x = cvx.Variable(n, name=\"x\")\n",
    "A = cvx.Parameter((n, n), name=\"A\")\n",
    "b = cvx.Parameter(n, name=\"b\")\n",
    "\n",
    "Q = cvx.Parameter((n, n), name=\"Q\", symmetric=true)\n",
    "Q_n = cvx.Parameter(n, name=\"Q_n\")\n",
    "    \n",
    "# cost function\n",
    "cost = (1/2) * cvx.quad_form(x, Q) + cvx.matmul(Q_n, x)\n",
    "\n",
    "# constrains\n",
    "constrains_vec = []\n",
    "push!(constrains_vec, cvx.matmul(A, x) <= b)\n",
    "push!(constrains_vec, x >= 1)\n",
    "push!(constrains_vec, x <= 10)\n",
    "\n",
    "problem = cvx.Problem(cvx.Minimize(cost), constrains_vec)\n",
    "\n",
    "# assign values\n",
    "A.value = np.array([1 0 0 0; 0 1 0 0 ; 0 0 1 0; 0 0 0 1])\n",
    "b.value = np.array(b_val)\n",
    "Q.value = np.array(Q_val)\n",
    "Q_n.value = np.array(Q_n_val)\n",
    "\n",
    "# generate code\n",
    "cpg.generate_code(problem, code_dir=\"MPC_Code\")\n",
    "    \n",
    "end"
   ]
  },
  {
   "cell_type": "code",
   "execution_count": null,
   "id": "e8f5ea06-3827-49ff-9ef8-39c563d33c21",
   "metadata": {},
   "outputs": [],
   "source": []
  }
 ],
 "metadata": {
  "kernelspec": {
   "display_name": "control_precompiled 1.9.1",
   "language": "julia",
   "name": "control_precompiled-1.9"
  },
  "language_info": {
   "file_extension": ".jl",
   "mimetype": "application/julia",
   "name": "julia",
   "version": "1.9.1"
  }
 },
 "nbformat": 4,
 "nbformat_minor": 5
}
