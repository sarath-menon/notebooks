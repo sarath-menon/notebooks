{
 "cells": [
  {
   "cell_type": "code",
   "execution_count": 52,
   "metadata": {},
   "outputs": [],
   "source": [
    "import cvxpy as cp\n",
    "import numpy as np\n",
    "\n",
    "import matplotlib.pyplot as plt"
   ]
  },
  {
   "cell_type": "markdown",
   "metadata": {},
   "source": [
    "## Dynamics"
   ]
  },
  {
   "cell_type": "code",
   "execution_count": 212,
   "metadata": {},
   "outputs": [],
   "source": [
    "# Double integrator in discrtee time\n",
    "h = 0.1   # time step\n",
    "Ad = np.array([[1, h],\n",
    "              [0, 1]])\n",
    "\n",
    "Bd = np.array([[0.5*h*h],[h]])\n",
    "\n",
    "nx = 2     # number of state\n",
    "nu = 1     # number of controls\n",
    "\n",
    "N = 10\n",
    "\n",
    "# Initial conditions\n",
    "x0 = [1.0, 0]\n",
    "\n",
    "# Final condition\n",
    "xf = [4.0, 0]\n",
    "\n",
    "x_max = [10.0, 10.0]\n",
    "x_min = [-10.0, -10.0]\n",
    "\n",
    "u_max = 5\n",
    "u_min = -5"
   ]
  },
  {
   "cell_type": "code",
   "execution_count": 412,
   "metadata": {},
   "outputs": [],
   "source": [
    "\n",
    "\n",
    "# define variables\n",
    "U = cp.Variable((nu, N), name='U')\n",
    "X = cp.Variable((nx, N+1), name='X')\n",
    "\n",
    "# controller parameters\n",
    "Q = cp.Parameter((nx, nx), name='Q', symmetric=True)\n",
    "Q_n = cp.Parameter((nx, nx), name='Q_n', symmetric=True)\n",
    "\n",
    "R = cp.Parameter((nu, nu), name='R', symmetric=True)\n",
    "\n",
    "A = cp.Parameter((nx, nx), name='A')\n",
    "B = cp.Parameter((nx, nu), name='B')\n",
    "\n",
    "x_init = cp.Parameter(nx, name='x_init')\n",
    "x_final = cp.Parameter(nx, name='x_final')\n",
    "\n",
    "Q = np.diag([1.0, 1.0])\n",
    "Q_n = Q\n",
    "\n",
    "\n",
    "R = np.diag([0.1])"
   ]
  },
  {
   "cell_type": "markdown",
   "metadata": {},
   "source": [
    "## Objective"
   ]
  },
  {
   "cell_type": "code",
   "execution_count": 413,
   "metadata": {},
   "outputs": [],
   "source": [
    "# create cost \n",
    "cost = 0 \n",
    "for k in range(N-1):\n",
    "    xk = X[:,k]\n",
    "    uk = U[:,k]\n",
    "    cost += cp.quad_form(xk - x_final, Q) + cp.quad_form(uk, R)\n",
    "\n",
    "x_f = X[:,N]\n",
    "cost += cp.quad_form(x_f - x_final, Q_n)\n",
    "\n",
    "# define objective\n",
    "objective = cp.Minimize(cp.sum(cost))"
   ]
  },
  {
   "cell_type": "markdown",
   "metadata": {},
   "source": [
    "## Constraints"
   ]
  },
  {
   "cell_type": "code",
   "execution_count": 414,
   "metadata": {},
   "outputs": [],
   "source": [
    "constraints = []\n",
    "\n",
    "# initial condition constraint \n",
    "constraints += [X[:,0] == x_init]\n",
    "\n",
    "# dynamics constraint\n",
    "for k in range(N):\n",
    "    constraints += [X[:,k+1] == A@X[:,k] + B@U[:,k]]\n",
    "\n",
    "# # final condition constraint\n",
    "# constraints +=  [X[:,N] == x_final]\n",
    "\n",
    "\n",
    "for k in range((N)):\n",
    "    # state constraints \n",
    "    xk = X[:,k]\n",
    "    constraints += [xk <= x_max]\n",
    "    constraints += [xk >= x_min]\n",
    "\n",
    "    # control constraints \n",
    "    uk = U[:,k]\n",
    "    constraints += [uk <= u_max]\n",
    "    constraints += [uk >= u_min]"
   ]
  },
  {
   "cell_type": "code",
   "execution_count": 415,
   "metadata": {},
   "outputs": [],
   "source": [
    "# define problem\n",
    "problem = cp.Problem(objective, constraints)"
   ]
  },
  {
   "cell_type": "code",
   "execution_count": 416,
   "metadata": {},
   "outputs": [],
   "source": [
    "# cost\n",
    "# Q.value = np.eye(nx)\n",
    "# Q_n.value = np.eye(nx)\n",
    "# R.value = np.eye(nu)\n",
    "\n",
    "A.value = Ad\n",
    "B.value = Bd\n",
    "\n",
    "x_init.value = x0\n",
    "x_final.value = xf\n",
    "\n",
    "val = problem.solve(solver=cp.OSQP)"
   ]
  },
  {
   "cell_type": "code",
   "execution_count": 417,
   "metadata": {},
   "outputs": [
    {
     "data": {
      "image/png": "[encoded data removed]",
      "text/plain": [
       "<Figure size 640x480 with 1 Axes>"
      ]
     },
     "metadata": {},
     "output_type": "display_data"
    }
   ],
   "source": [
    "plt.stem(X.value[0, :])\n",
    "plt.show()"
   ]
  },
  {
   "cell_type": "code",
   "execution_count": 418,
   "metadata": {},
   "outputs": [
    {
     "data": {
      "image/png": "[encoded data removed]",
      "text/plain": [
       "<Figure size 640x480 with 1 Axes>"
      ]
     },
     "metadata": {},
     "output_type": "display_data"
    }
   ],
   "source": [
    "plt.stem(U.value[0, :])\n",
    "plt.show()"
   ]
  },
  {
   "cell_type": "markdown",
   "metadata": {},
   "source": [
    "## Code generation"
   ]
  },
  {
   "cell_type": "markdown",
   "metadata": {},
   "source": [
    "Generating C source for the problem is as easy as:"
   ]
  },
  {
   "cell_type": "code",
   "execution_count": 419,
   "metadata": {},
   "outputs": [
    {
     "name": "stdout",
     "output_type": "stream",
     "text": [
      "Generating code with CVXPYgen ...\n",
      "-----------------------------------------------------------------\n",
      "           OSQP v0.6.3  -  Operator Splitting QP Solver\n",
      "              (c) Bartolomeo Stellato,  Goran Banjac\n",
      "        University of Oxford  -  Stanford University 2021\n",
      "-----------------------------------------------------------------\n",
      "problem:  variables n = 61, constraints m = 111\n",
      "          nnz(P) + nnz(A) = 229\n",
      "settings: linear system solver = qdldl,\n",
      "          eps_abs = 1.0e-03, eps_rel = 1.0e-03,\n",
      "          eps_prim_inf = 1.0e-04, eps_dual_inf = 1.0e-04,\n",
      "          rho = 1.00e-01 (adaptive),\n",
      "          sigma = 1.00e-06, alpha = 1.60, max_iter = 4000\n",
      "          check_termination: on (interval 25),\n",
      "          scaling: on, scaled_termination: off\n",
      "          warm start: on, polish: off, time_limit: off\n",
      "\n",
      "Getting workspace from OSQP object... \t\t\t\t[done]\n",
      "Creating target directories... \t\t\t\t\t[done]\n",
      "Copying OSQP sources... \t\t\t\t\t[done]\n",
      "Generating customized code... \t\t\t\t\t[done]\n",
      "Creating project...\n",
      "-- The C compiler identification is AppleClang 12.0.0.12000032\n",
      "-- The CXX compiler identification is AppleClang 12.0.0.12000032\n",
      "-- Detecting C compiler ABI info\n",
      "-- Detecting C compiler ABI info - done\n",
      "-- Check for working C compiler: /Library/Developer/CommandLineTools/usr/bin/cc - skipped\n",
      "-- Detecting C compile features\n",
      "-- Detecting C compile features - done\n",
      "-- Detecting CXX compiler ABI info\n",
      "-- Detecting CXX compiler ABI info - done\n",
      "-- Check for working CXX compiler: /Library/Developer/CommandLineTools/usr/bin/c++ - skipped\n",
      "-- Detecting CXX compile features\n",
      "-- Detecting CXX compile features - done\n",
      "-- We are on a Darwin system\n",
      "-- Embedded is 2 -DDFLOAT:BOOL=OFF -DDLONG:BOOL=ON\n",
      "-- Passing EMBEDDED flag to compiler\n",
      "-- Disabling printing for embedded\n",
      "-- Printing is OFF\n",
      "-- Disabling profiling for embedded\n",
      "-- Profiling is OFF\n",
      "-- Floats are OFF\n",
      "-- Long integers (64bit) are ON\n",
      "-- Configuring done (1.3s)\n",
      "-- Generating done (0.0s)\n",
      "-- Build files have been written to: /Users/sarathmenon/Documents/eth_courses/notebooks/control/MPC/MPC_code/c/solver_code/build\n",
      "[done]\n",
      "Compiling Python wrapper... \t\t\t\t\t"
     ]
    },
    {
     "name": "stderr",
     "output_type": "stream",
     "text": [
      "/usr/local/lib/python3.11/site-packages/setuptools/__init__.py:84: _DeprecatedInstaller: setuptools.installer and fetch_build_eggs are deprecated.\n",
      "!!\n",
      "\n",
      "        ********************************************************************************\n",
      "        Requirements should be satisfied by a PEP 517 installer.\n",
      "        If you are using pip, you can try `pip install --use-pep517`.\n",
      "        ********************************************************************************\n",
      "\n",
      "!!\n",
      "  dist.fetch_build_eggs(dist.setup_requires)\n"
     ]
    },
    {
     "name": "stdout",
     "output_type": "stream",
     "text": [
      "[done]\n",
      "Copying code-generated Python solver to current directory... \t[done]\n",
      "CVXPYgen finished generating code.\n",
      "Compiling python wrapper with CVXPYgen ... \n"
     ]
    },
    {
     "name": "stderr",
     "output_type": "stream",
     "text": [
      "/usr/local/lib/python3.11/site-packages/setuptools/__init__.py:84: _DeprecatedInstaller: setuptools.installer and fetch_build_eggs are deprecated.\n",
      "!!\n",
      "\n",
      "        ********************************************************************************\n",
      "        Requirements should be satisfied by a PEP 517 installer.\n",
      "        If you are using pip, you can try `pip install --use-pep517`.\n",
      "        ********************************************************************************\n",
      "\n",
      "!!\n",
      "  dist.fetch_build_eggs(dist.setup_requires)\n"
     ]
    },
    {
     "name": "stdout",
     "output_type": "stream",
     "text": [
      "-- The C compiler identification is AppleClang 12.0.0.12000032\n",
      "-- The CXX compiler identification is AppleClang 12.0.0.12000032\n",
      "-- Detecting C compiler ABI info\n",
      "-- Detecting C compiler ABI info - done\n",
      "-- Check for working C compiler: /Library/Developer/CommandLineTools/usr/bin/cc - skipped\n",
      "-- Detecting C compile features\n",
      "-- Detecting C compile features - done\n",
      "-- Detecting CXX compiler ABI info\n",
      "-- Detecting CXX compiler ABI info - done\n",
      "-- Check for working CXX compiler: /Library/Developer/CommandLineTools/usr/bin/c++ - skipped\n",
      "-- Detecting CXX compile features\n",
      "-- Detecting CXX compile features - done\n",
      "-- We are on a Darwin system\n",
      "-- Embedded is 2\n",
      "-- Passing EMBEDDED flag to compiler\n",
      "-- Disabling printing for embedded\n",
      "-- Printing is OFF\n",
      "-- Disabling profiling for embedded\n",
      "-- Profiling is OFF\n",
      "-- Floats are OFF\n",
      "-- Long integers (64bit) are ON\n",
      "-- Configuring done (0.7s)\n",
      "-- Generating done (0.1s)\n",
      "-- Build files have been written to: /Users/sarathmenon/Documents/eth_courses/notebooks/control/MPC/MPC_code/c/build\n",
      "[  7%] \u001b[32mBuilding C object CMakeFiles/cpg.dir/src/cpg_workspace.c.o\u001b[0m\n",
      "[ 14%] \u001b[32mBuilding C object CMakeFiles/cpg.dir/src/cpg_solve.c.o\u001b[0m\n",
      "[ 21%] \u001b[32mBuilding C object CMakeFiles/cpg.dir/solver_code/src/osqp/auxil.c.o\u001b[0m\n",
      "[ 28%] \u001b[32mBuilding C object CMakeFiles/cpg.dir/solver_code/src/osqp/error.c.o\u001b[0m\n",
      "[ 35%] \u001b[32mBuilding C object CMakeFiles/cpg.dir/solver_code/src/osqp/lin_alg.c.o\u001b[0m\n",
      "[ 42%] \u001b[32mBuilding C object CMakeFiles/cpg.dir/solver_code/src/osqp/osqp.c.o\u001b[0m\n",
      "[ 50%] \u001b[32mBuilding C object CMakeFiles/cpg.dir/solver_code/src/osqp/proj.c.o\u001b[0m\n",
      "[ 57%] \u001b[32mBuilding C object CMakeFiles/cpg.dir/solver_code/src/osqp/scaling.c.o\u001b[0m\n",
      "[ 64%] \u001b[32mBuilding C object CMakeFiles/cpg.dir/solver_code/src/osqp/util.c.o\u001b[0m\n",
      "[ 71%] \u001b[32mBuilding C object CMakeFiles/cpg.dir/solver_code/src/osqp/kkt.c.o\u001b[0m\n",
      "[ 78%] \u001b[32mBuilding C object CMakeFiles/cpg.dir/solver_code/src/osqp/workspace.c.o\u001b[0m\n",
      "[ 85%] \u001b[32mBuilding C object CMakeFiles/cpg.dir/solver_code/src/osqp/qdldl.c.o\u001b[0m\n",
      "[ 92%] \u001b[32mBuilding C object CMakeFiles/cpg.dir/solver_code/src/osqp/qdldl_interface.c.o\u001b[0m\n",
      "[100%] \u001b[32m\u001b[1mLinking C static library out/libcpg.a\u001b[0m\n",
      "[100%] Built target cpg\n",
      "CVXPYgen finished compiling python wrapper.\n"
     ]
    }
   ],
   "source": [
    "from cvxpygen import cpg\n",
    "\n",
    "cpg.generate_code(problem, code_dir='MPC_code')"
   ]
  },
  {
   "cell_type": "markdown",
   "metadata": {},
   "source": [
    "Now, you can use a python wrapper around the generated code as a custom CVXPY solve method."
   ]
  },
  {
   "cell_type": "code",
   "execution_count": 91,
   "metadata": {},
   "outputs": [
    {
     "ename": "ValueError",
     "evalue": "operands could not be broadcast together with shapes (2,2) (6,6) ",
     "output_type": "error",
     "traceback": [
      "\u001b[0;31m---------------------------------------------------------------------------\u001b[0m",
      "\u001b[0;31mValueError\u001b[0m                                Traceback (most recent call last)",
      "Cell \u001b[0;32mIn[91], line 11\u001b[0m\n\u001b[1;32m      8\u001b[0m     prob \u001b[38;5;241m=\u001b[39m pickle\u001b[38;5;241m.\u001b[39mload(f)\n\u001b[1;32m     10\u001b[0m \u001b[38;5;66;03m# assign parameter values\u001b[39;00m\n\u001b[0;32m---> 11\u001b[0m prob\u001b[38;5;241m.\u001b[39mparam_dict[\u001b[38;5;124m'\u001b[39m\u001b[38;5;124mA\u001b[39m\u001b[38;5;124m'\u001b[39m]\u001b[38;5;241m.\u001b[39mvalue \u001b[38;5;241m=\u001b[39m \u001b[43mnp\u001b[49m\u001b[38;5;241;43m.\u001b[39;49m\u001b[43meye\u001b[49m\u001b[43m(\u001b[49m\u001b[43mn\u001b[49m\u001b[43m)\u001b[49m\u001b[38;5;241;43m+\u001b[39;49m\u001b[43mtd\u001b[49m\u001b[38;5;241;43m*\u001b[39;49m\u001b[43mA_cont\u001b[49m\n\u001b[1;32m     12\u001b[0m prob\u001b[38;5;241m.\u001b[39mparam_dict[\u001b[38;5;124m'\u001b[39m\u001b[38;5;124mB\u001b[39m\u001b[38;5;124m'\u001b[39m]\u001b[38;5;241m.\u001b[39mvalue \u001b[38;5;241m=\u001b[39m td\u001b[38;5;241m*\u001b[39mB_cont\n\u001b[1;32m     13\u001b[0m prob\u001b[38;5;241m.\u001b[39mparam_dict[\u001b[38;5;124m'\u001b[39m\u001b[38;5;124mPsqrt\u001b[39m\u001b[38;5;124m'\u001b[39m]\u001b[38;5;241m.\u001b[39mvalue \u001b[38;5;241m=\u001b[39m np\u001b[38;5;241m.\u001b[39meye(n)\n",
      "\u001b[0;31mValueError\u001b[0m: operands could not be broadcast together with shapes (2,2) (6,6) "
     ]
    }
   ],
   "source": [
    "from MPC_code.cpg_solver import cpg_solve\n",
    "import numpy as np\n",
    "import pickle\n",
    "import time\n",
    "\n",
    "# load the serialized problem formulation\n",
    "with open('MPC_code/problem.pickle', 'rb') as f:\n",
    "    prob = pickle.load(f)\n",
    "\n",
    "# assign parameter values\n",
    "prob.param_dict['A'].value = np.eye(n)+td*A_cont\n",
    "prob.param_dict['B'].value = td*B_cont\n",
    "prob.param_dict['Psqrt'].value = np.eye(n)\n",
    "prob.param_dict['Qsqrt'].value = np.eye(n)\n",
    "prob.param_dict['Rsqrt'].value = np.sqrt(0.1)*np.eye(m)\n",
    "prob.param_dict['x_init'].value = np.array([2, 2, 2, -1, -1, 1])\n",
    "\n",
    "# solve problem conventionally\n",
    "t0 = time.time()\n",
    "# CVXPY chooses eps_abs=eps_rel=1e-5, max_iter=10000, polish=True by default,\n",
    "# however, we choose the OSQP default values here, as they are used for code generation as well\n",
    "val = prob.solve(eps_abs=1e-3, eps_rel=1e-3, max_iter=4000, polish=False)\n",
    "t1 = time.time()\n",
    "print('\\nCVXPY\\nSolve time: %.3f ms' % (1000 * (t1 - t0)))\n",
    "print('Objective function value: %.6f\\n' % val)\n",
    "\n",
    "# solve problem with C code via python wrapper\n",
    "prob.register_solve('CPG', cpg_solve)\n",
    "t0 = time.time()\n",
    "val = prob.solve(method='CPG')\n",
    "t1 = time.time()\n",
    "print('\\nCVXPYgen\\nSolve time: %.3f ms' % (1000 * (t1 - t0)))\n",
    "print('Objective function value: %.6f\\n' % val)"
   ]
  },
  {
   "cell_type": "markdown",
   "metadata": {},
   "source": [
    "\\[1\\] Wang, Yang, and Stephen Boyd. \"Fast model predictive control using online optimization.\" IEEE Transactions on control systems technology 18.2 (2009): 267-278.\n",
    "\n",
    "\\[2\\] Hovgaard, T. G., Larsen, L. F., Jørgensen, J. B., and Boyd, S.  \"MPC for wind power gradients—utilizing forecasts, rotor inertia, and central energy storage.\" 2013 European Control Conference (ECC). IEEE, 2013."
   ]
  }
 ],
 "metadata": {
  "kernelspec": {
   "display_name": "Python 3 (ipykernel)",
   "language": "python",
   "name": "python3"
  },
  "language_info": {
   "codemirror_mode": {
    "name": "ipython",
    "version": 3
   },
   "file_extension": ".py",
   "mimetype": "text/x-python",
   "name": "python",
   "nbconvert_exporter": "python",
   "pygments_lexer": "ipython3",
   "version": "3.11.4"
  }
 },
 "nbformat": 4,
 "nbformat_minor": 4
}
