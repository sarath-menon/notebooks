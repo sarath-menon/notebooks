{
 "cells": [
  {
   "cell_type": "code",
   "execution_count": 1,
   "id": "b514aab6-48cc-4bf3-8569-5c305b186edc",
   "metadata": {},
   "outputs": [
    {
     "name": "stderr",
     "output_type": "stream",
     "text": [
      "\u001b[32m\u001b[1m  Activating\u001b[22m\u001b[39m project at `~/Documents/eth_courses/notebooks/control/MPC`\n"
     ]
    }
   ],
   "source": [
    "import Pkg; Pkg.activate(@__DIR__); Pkg.instantiate();"
   ]
  },
  {
   "cell_type": "code",
   "execution_count": 2,
   "id": "354d3aa4-06fb-4c0a-bec6-c1757b1a11d8",
   "metadata": {},
   "outputs": [],
   "source": [
    "# Make the Convex.jl module available\n",
    "using Convex, OSQP\n",
    "using LinearAlgebra\n",
    "\n",
    "# SOlvers,\n",
    "import ECOS\n",
    "import OSQP\n",
    "import Random\n",
    "\n",
    "Random.seed!(1234);"
   ]
  },
  {
   "cell_type": "code",
   "execution_count": 3,
   "id": "23a82f84-bfe0-4b09-bdbc-25298d3d10b8",
   "metadata": {
    "scrolled": true
   },
   "outputs": [],
   "source": [
    "x = Variable(4)\n",
    "c = [1; 2; 3; 4]\n",
    "A = I(4)\n",
    "b = [10; 10; 10; 10];"
   ]
  },
  {
   "cell_type": "markdown",
   "id": "6b94c740-29a1-4e49-8fa4-f963366d9414",
   "metadata": {},
   "source": [
    "# Linear Program"
   ]
  },
  {
   "cell_type": "code",
   "execution_count": 28,
   "id": "8eb9f9c0-f9cf-4a0a-a5af-91fc82c76c09",
   "metadata": {},
   "outputs": [],
   "source": [
    "# objective \n",
    "p = minimize(c' * x) # or c' * x\n",
    "\n",
    "# constrains\n",
    "p.constraints += A * x <= b;\n",
    "p.constraints += [x >= 1; x <= 10; x[2] <= 5; x[1] + x[4] - x[2] <= 10];"
   ]
  },
  {
   "cell_type": "markdown",
   "id": "8a7300b1-82f1-4b1d-9c03-dac2f1a53c18",
   "metadata": {},
   "source": [
    "### Solution"
   ]
  },
  {
   "cell_type": "code",
   "execution_count": 29,
   "id": "2a99f2f8-800b-4378-96c6-96ac87818626",
   "metadata": {},
   "outputs": [
    {
     "name": "stdout",
     "output_type": "stream",
     "text": [
      "10.0\n",
      "[1.0, 1.0, 1.0, 1.0]\n"
     ]
    }
   ],
   "source": [
    "solve!(p, OSQP.Optimizer; silent_solver = true)\n",
    "\n",
    "println(round(p.optval, digits = 2))\n",
    "println(round.(evaluate(x), digits = 2))"
   ]
  },
  {
   "cell_type": "markdown",
   "id": "2897625e-0401-4766-988d-657522418160",
   "metadata": {},
   "source": [
    "# QP"
   ]
  },
  {
   "cell_type": "markdown",
   "id": "e4ac989e-300f-4fab-8561-44e6a6dfa770",
   "metadata": {},
   "source": [
    "### Variables"
   ]
  },
  {
   "cell_type": "code",
   "execution_count": 21,
   "id": "b40b7f18-539b-4cb5-8623-fe34ccd9505b",
   "metadata": {},
   "outputs": [
    {
     "data": {
      "text/plain": [
       "4-element Vector{Float64}:\n",
       " 0.5537328501220405\n",
       " 0.48893368361747347\n",
       " 0.4915807452133494\n",
       " 0.9327827434839276"
      ]
     },
     "execution_count": 21,
     "metadata": {},
     "output_type": "execute_result"
    }
   ],
   "source": [
    "nx = 4\n",
    "\n",
    "x = Variable(nx)\n",
    "\n",
    "Q = rand(nx,nx)\n",
    "Q = Q'*Q + I\n",
    "\n",
    "Q_n = rand(nx)"
   ]
  },
  {
   "cell_type": "markdown",
   "id": "8a94583c-82ae-4b44-9d17-8094afec5eb7",
   "metadata": {},
   "source": [
    "### Objective"
   ]
  },
  {
   "cell_type": "code",
   "execution_count": 29,
   "id": "6ca54d4a-99fc-45d4-80fa-e1b0f9c90e82",
   "metadata": {},
   "outputs": [],
   "source": [
    "cost = (1/2) * Convex.quadform(x,Q)\n",
    "# cost = (1/2) * Convex.quadform(x,Q) + dot(Q_n,x)\n",
    "\n",
    "# objective\n",
    "p = minimize(cost) # or c' * x\n",
    "\n",
    "# constrains\n",
    "p.constraints += A * x <= b;\n",
    "p.constraints += [x >= 1; x <= 10];"
   ]
  },
  {
   "cell_type": "code",
   "execution_count": 30,
   "id": "351d6f7e-54dd-4c55-9807-ea05a1680b3a",
   "metadata": {},
   "outputs": [
    {
     "name": "stdout",
     "output_type": "stream",
     "text": [
      "5.0661\n"
     ]
    }
   ],
   "source": [
    "solve!(p, ECOS.Optimizer; silent_solver = true)\n",
    "\n",
    "println(round(p.optval, digits = 4))"
   ]
  },
  {
   "cell_type": "code",
   "execution_count": null,
   "id": "541ad08c-92e4-4d81-a025-25dde24787b9",
   "metadata": {},
   "outputs": [],
   "source": []
  }
 ],
 "metadata": {
  "kernelspec": {
   "display_name": "control_precompiled 1.9.1",
   "language": "julia",
   "name": "control_precompiled-1.9"
  },
  "language_info": {
   "file_extension": ".jl",
   "mimetype": "application/julia",
   "name": "julia",
   "version": "1.9.1"
  }
 },
 "nbformat": 4,
 "nbformat_minor": 5
}
