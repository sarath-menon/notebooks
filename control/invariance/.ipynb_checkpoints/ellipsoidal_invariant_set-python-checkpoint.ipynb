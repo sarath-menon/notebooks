{
 "cells": [
  {
   "cell_type": "code",
   "execution_count": 113,
   "id": "878d46bc-67b6-413e-ba12-f91885e0b457",
   "metadata": {},
   "outputs": [],
   "source": [
    "import cvxpy as cvx\n",
    "import numpy as np\n",
    "from scipy.linalg import null_space\n",
    "\n",
    "import matplotlib.pyplot as plt"
   ]
  },
  {
   "cell_type": "markdown",
   "id": "7b93ce78-48b9-4453-877d-2c0ff500e371",
   "metadata": {},
   "source": [
    "## External volume inscribed ellipsoid"
   ]
  },
  {
   "cell_type": "code",
   "execution_count": 86,
   "id": "4e1bb4a7-3322-4fb3-8fe3-5160a47f4ee0",
   "metadata": {},
   "outputs": [
    {
     "name": "stdout",
     "output_type": "stream",
     "text": [
      "status: optimal\n",
      "optimal value 1.9746065752535804\n",
      "optimal var [[ 2.42822318 -0.05575317]\n",
      " [-0.05575317  2.96796993]] [[-0.3392984 ]\n",
      " [-0.05615506]]\n"
     ]
    },
    {
     "data": {
      "image/png": "[encoded data removed]",
      "text/plain": [
       "<Figure size 640x480 with 1 Axes>"
      ]
     },
     "metadata": {},
     "output_type": "display_data"
    }
   ],
   "source": [
    "# Generate data\n",
    "x = np.matrix('''0.55  0.0;\n",
    "      0.25  0.35;\n",
    "     -0.2   0.2;\n",
    "     -0.25 -0.1;\n",
    "     -0.0  -0.3;\n",
    "      0.4  -0.2''').T\n",
    "n, m = x.shape\n",
    "\n",
    "# Create and solve the model\n",
    "A = cvx.Variable((n,n), symmetric=True)\n",
    "b = cvx.Variable((n,1))\n",
    "# b = cvx.Variable(n)\n",
    "\n",
    "obj = cvx.Maximize(cvx.log_det(A))\n",
    "constrs = [cvx.norm(A@x + b@np.ones((1, m)),2, axis=0) <= 1]\n",
    "prob = cvx.Problem(obj, constrs)\n",
    "prob.solve(solver=cvx.SCS, verbose=False)\n",
    "\n",
    "print(\"status:\", prob.status)\n",
    "print(\"optimal value\", prob.value)\n",
    "print(\"optimal var\", A.value, b.value)\n",
    "\n",
    "\n",
    "# Plot the results\n",
    "noangles = 200;\n",
    "angles = np.linspace(0, 2*np.pi, noangles)\n",
    "bx = np.vstack((np.cos(angles)- b.value[0], np.sin(angles) - b.value[1]))\n",
    "ellipse  = np.linalg.solve(A.value, bx)\n",
    "\n",
    "plt.figure()\n",
    "plt.plot(x[0], x[1], 'ro')\n",
    "plt.plot(ellipse[0], ellipse[1], 'b.')\n",
    "plt.show()"
   ]
  },
  {
   "cell_type": "markdown",
   "id": "7dfa4ee6-78e0-48bf-bc3e-5b7f695aba2a",
   "metadata": {},
   "source": [
    "## Maximum volume inscribed ellipsoid"
   ]
  },
  {
   "cell_type": "code",
   "execution_count": 209,
   "id": "fb3bbaae-3938-4de6-820d-8d76a4fa1a7e",
   "metadata": {},
   "outputs": [],
   "source": [
    "# problem data\n",
    "n = 2;\n",
    "px = np.array([0, .5, 2, 3, 1]);\n",
    "py = np.array([0, 1, 1.5, .5, -.5]);\n",
    "m = px.shape[0];\n",
    "\n",
    "pxint = np.sum(px)/m;\n",
    "pyint = np.sum(py)/m;\n",
    "\n",
    "px = np.hstack((px, px[0]));\n",
    "py = np.hstack((py, py[0]));\n"
   ]
  },
  {
   "cell_type": "code",
   "execution_count": 225,
   "id": "479ce5b1-8f4a-4719-95e3-9f2171032b87",
   "metadata": {},
   "outputs": [
    {
     "data": {
      "text/plain": [
       "(5, 1)"
      ]
     },
     "execution_count": 225,
     "metadata": {},
     "output_type": "execute_result"
    }
   ],
   "source": [
    "A = np.array([[-0.8944,    0.4472],\n",
    "[-0.3162,    0.9487],\n",
    "[0.7071 ,   0.7071],\n",
    "[0.4472 ,  -0.8944],\n",
    "[-0.4472 ,  -0.8944]])\n",
    "\n",
    "A.shape\n",
    "\n",
    "b = np.array([0.0000, 0.7906, 2.4749, 0.8944, 0])\n",
    "b = b.reshape(b.size,1)\n",
    "b.shape"
   ]
  },
  {
   "cell_type": "code",
   "execution_count": 1,
   "id": "8380d6a4-2aa4-4fea-8e30-315d3af4f96b",
   "metadata": {},
   "outputs": [
    {
     "ename": "NameError",
     "evalue": "name 'cvx' is not defined",
     "output_type": "error",
     "traceback": [
      "\u001b[0;31m---------------------------------------------------------------------------\u001b[0m",
      "\u001b[0;31mNameError\u001b[0m                                 Traceback (most recent call last)",
      "Cell \u001b[0;32mIn[1], line 2\u001b[0m\n\u001b[1;32m      1\u001b[0m \u001b[38;5;66;03m# Create and solve the model\u001b[39;00m\n\u001b[0;32m----> 2\u001b[0m B \u001b[38;5;241m=\u001b[39m \u001b[43mcvx\u001b[49m\u001b[38;5;241m.\u001b[39mVariable((n,n), symmetric\u001b[38;5;241m=\u001b[39m\u001b[38;5;28;01mTrue\u001b[39;00m)\n\u001b[1;32m      3\u001b[0m d \u001b[38;5;241m=\u001b[39m cvx\u001b[38;5;241m.\u001b[39mVariable((n,\u001b[38;5;241m1\u001b[39m))\n\u001b[1;32m      5\u001b[0m obj \u001b[38;5;241m=\u001b[39m cvx\u001b[38;5;241m.\u001b[39mMaximize(cvx\u001b[38;5;241m.\u001b[39mlog_det(B))\n",
      "\u001b[0;31mNameError\u001b[0m: name 'cvx' is not defined"
     ]
    }
   ],
   "source": [
    "# Create and solve the model\n",
    "B = cvx.Variable((n,n), symmetric=True)\n",
    "d = cvx.Variable((n,1))\n",
    "\n",
    "obj = cvx.Maximize(cvx.log_det(B))\n",
    "\n",
    "constrs = []\n",
    "for i in range(m):\n",
    "    constrs += [cvx.norm(B@A[i,:].T, 2 ) + A[i,:]@d <= b[i]]\n",
    "    print(\"size:\",B@A[i,:].T)\n",
    "    \n",
    "prob = cvx.Problem(obj, constrs)\n",
    "prob.solve(solver=cvx.SCS, verbose=False)\n",
    "\n",
    "print(\"status:\", prob.status)\n",
    "print(\"optimal value\", prob.value)\n",
    "print(\"optimal var\", B.value, d.value)\n",
    "\n",
    "\n",
    "# Plot the results\n",
    "noangles = 200;\n",
    "angles = np.linspace(0, 2*np.pi, noangles)\n",
    "\n",
    "ellipse_inner  = np.matmul(B.value , np.vstack(( np.cos(angles) , np.sin(angles)))) + d.value * np.ones((1, noangles));\n",
    "\n",
    "plt.figure()\n",
    "plt.plot(px,py)\n",
    "plt.plot(ellipse_inner[0], ellipse_inner[1], 'b.')\n",
    "plt.show()\n"
   ]
  },
  {
   "cell_type": "code",
   "execution_count": null,
   "id": "81562d9a-3c80-496d-8774-8033a7c813b7",
   "metadata": {},
   "outputs": [],
   "source": []
  }
 ],
 "metadata": {
  "kernelspec": {
   "display_name": "Python 3 (ipykernel)",
   "language": "python",
   "name": "python3"
  },
  "language_info": {
   "codemirror_mode": {
    "name": "ipython",
    "version": 3
   },
   "file_extension": ".py",
   "mimetype": "text/x-python",
   "name": "python",
   "nbconvert_exporter": "python",
   "pygments_lexer": "ipython3",
   "version": "3.11.4"
  }
 },
 "nbformat": 4,
 "nbformat_minor": 5
}
