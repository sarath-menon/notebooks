{
 "cells": [
  {
   "cell_type": "code",
   "execution_count": 1,
   "id": "88a3855d-7d3a-4418-8b17-bdc473f1c424",
   "metadata": {},
   "outputs": [
    {
     "name": "stderr",
     "output_type": "stream",
     "text": [
      "\u001b[32m\u001b[1m  Activating\u001b[22m\u001b[39m project at `~/Documents/eth_courses/notebooks/control/invariance`\n"
     ]
    }
   ],
   "source": [
    "import Pkg; Pkg.activate(@__DIR__);"
   ]
  },
  {
   "cell_type": "code",
   "execution_count": 2,
   "id": "4c7b522f-6c7d-43d3-a10f-e6ea48febb65",
   "metadata": {},
   "outputs": [],
   "source": [
    "\n",
    "# Load Dependencies\n",
    "using Plots\n",
    "using LazySets\n",
    "using LinearAlgebra: I\n",
    "using InvariantSets, Polyhedra, CDDLib\n",
    "using MathematicalSystems\n",
    "using ControlSystems"
   ]
  },
  {
   "cell_type": "markdown",
   "id": "5223e3a1-81be-4f6a-bf66-aaffec007675",
   "metadata": {},
   "source": [
    "# Quadcopter"
   ]
  },
  {
   "cell_type": "code",
   "execution_count": 3,
   "id": "44469dcd-f4ad-4e17-a7d8-d29e520d32d1",
   "metadata": {},
   "outputs": [
    {
     "data": {
      "text/plain": [
       "4"
      ]
     },
     "execution_count": 3,
     "metadata": {},
     "output_type": "execute_result"
    }
   ],
   "source": [
    "# Discrete time model of a quadcopter\n",
    "A = [1       0       0   0   0   0   0.1     0       0    0       0       0;\n",
    "      0       1       0   0   0   0   0       0.1     0    0       0       0;\n",
    "      0       0       1   0   0   0   0       0       0.1  0       0       0;\n",
    "      0.0488  0       0   1   0   0   0.0016  0       0    0.0992  0       0;\n",
    "      0      -0.0488  0   0   1   0   0      -0.0016  0    0       0.0992  0;\n",
    "      0       0       0   0   0   1   0       0       0    0       0       0.0992;\n",
    "      0       0       0   0   0   0   1       0       0    0       0       0;\n",
    "      0       0       0   0   0   0   0       1       0    0       0       0;\n",
    "      0       0       0   0   0   0   0       0       1    0       0       0;\n",
    "      0.9734  0       0   0   0   0   0.0488  0       0    0.9846  0       0;\n",
    "      0      -0.9734  0   0   0   0   0      -0.0488  0    0       0.9846  0;\n",
    "      0       0       0   0   0   0   0       0       0    0       0       0.9846] \n",
    "B = [0      -0.0726  0       0.0726;\n",
    "     -0.0726  0       0.0726  0;\n",
    "     -0.0152  0.0152 -0.0152  0.0152;\n",
    "      0      -0.0006 -0.0000  0.0006;\n",
    "      0.0006  0      -0.0006  0;\n",
    "      0.0106  0.0106  0.0106  0.0106;\n",
    "      0      -1.4512  0       1.4512;\n",
    "     -1.4512  0       1.4512  0;\n",
    "     -0.3049  0.3049 -0.3049  0.3049;\n",
    "      0      -0.0236  0       0.0236;\n",
    "      0.0236  0      -0.0236  0;\n",
    "      0.2107  0.2107  0.2107  0.2107] \n",
    "\n",
    "C = ones(12)\n",
    "\n",
    "\n",
    "nx = 12\n",
    "nu = 4\n",
    "    "
   ]
  },
  {
   "cell_type": "markdown",
   "id": "70445576-382c-46ff-bc3a-e2fedf321d6f",
   "metadata": {},
   "source": [
    "## Controller"
   ]
  },
  {
   "cell_type": "code",
   "execution_count": 4,
   "id": "ef735f31-a107-47aa-b788-bd4affb75b0d",
   "metadata": {},
   "outputs": [
    {
     "data": {
      "text/plain": [
       "4×12 Matrix{Float64}:\n",
       " -5.09962e-14  -0.286741     -0.0153056  …   0.0334519    0.0468176\n",
       " -0.286741     -1.96843e-14   0.0153056      3.76281e-15  0.0468176\n",
       " -3.04239e-14   0.286741     -0.0153056     -0.0334519    0.0468176\n",
       "  0.286741      1.16735e-14   0.0153056     -2.32078e-15  0.0468176"
      ]
     },
     "execution_count": 4,
     "metadata": {},
     "output_type": "execute_result"
    }
   ],
   "source": [
    "Q = I(nx)\n",
    "R = I(nu) * 1000\n",
    "K = lqr(Discrete,A,B,Q,R)"
   ]
  },
  {
   "cell_type": "markdown",
   "id": "a0a86864-dc63-42af-9f8b-da93155d3b72",
   "metadata": {},
   "source": [
    "## Compute control invariant set"
   ]
  },
  {
   "cell_type": "code",
   "execution_count": null,
   "id": "97650866-1759-4704-b428-7b9e2a7cf1a5",
   "metadata": {},
   "outputs": [],
   "source": [
    "# Half-space representation\n",
    "X = Hyperrectangle(low=ones(nx)*-1, high=ones(nx))\n",
    "U = Hyperrectangle(low=ones(nu)*-1, high=ones(nu))\n",
    "\n",
    "autSys = @system x⁺ = A*x  x∈X\n",
    "ctrlSys = @system x⁺ = A*x + B*u x∈X u∈U\n",
    "\n",
    "MIL = maximum_invariant_set(ctrlSys, K)"
   ]
  },
  {
   "cell_type": "code",
   "execution_count": 19,
   "id": "c8bd9eeb-9876-4ada-915f-42badc388cdc",
   "metadata": {},
   "outputs": [
    {
     "data": {
      "text/plain": [
       "12-element Vector{Float64}:\n",
       "  7.63503192956167e-15\n",
       " -3.16554942365047\n",
       " -8.965461466340162e-15\n",
       " -1.1550585691324856e-14\n",
       " -0.24364149043438768\n",
       " -4.004144118266519e-14\n",
       "  4.2733659930934946e-14\n",
       " -0.7354144413070689\n",
       " -7.64660416525997e-15\n",
       " -7.9975534257469e-15\n",
       "  0.37311294461395733\n",
       " -9.55505799931698e-14"
      ]
     },
     "execution_count": 19,
     "metadata": {},
     "output_type": "execute_result"
    }
   ],
   "source": [
    "MIL.constraints[134].a"
   ]
  },
  {
   "cell_type": "code",
   "execution_count": null,
   "id": "16e29f0a-6ad0-4601-b134-e0c95ae8a793",
   "metadata": {},
   "outputs": [],
   "source": []
  }
 ],
 "metadata": {
  "kernelspec": {
   "display_name": "control_precompiled 1.9.1",
   "language": "julia",
   "name": "control_precompiled-1.9"
  },
  "language_info": {
   "file_extension": ".jl",
   "mimetype": "application/julia",
   "name": "julia",
   "version": "1.9.1"
  }
 },
 "nbformat": 4,
 "nbformat_minor": 5
}
