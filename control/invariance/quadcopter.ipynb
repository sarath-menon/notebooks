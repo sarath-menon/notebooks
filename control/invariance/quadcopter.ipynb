{
 "cells": [
  {
   "cell_type": "code",
   "execution_count": 1,
   "id": "88a3855d-7d3a-4418-8b17-bdc473f1c424",
   "metadata": {},
   "outputs": [
    {
     "name": "stderr",
     "output_type": "stream",
     "text": [
      "\u001b[32m\u001b[1m  Activating\u001b[22m\u001b[39m project at `~/Documents/eth_courses/notebooks/control/invariance`\n"
     ]
    }
   ],
   "source": [
    "import Pkg; Pkg.activate(@__DIR__);"
   ]
  },
  {
   "cell_type": "code",
   "execution_count": 2,
   "id": "4c7b522f-6c7d-43d3-a10f-e6ea48febb65",
   "metadata": {},
   "outputs": [],
   "source": [
    "\n",
    "# Load Dependencies\n",
    "using Plots\n",
    "using LazySets\n",
    "using LinearAlgebra: I\n",
    "using InvariantSets, Polyhedra, CDDLib\n",
    "using MathematicalSystems\n",
    "using ControlSystems"
   ]
  },
  {
   "cell_type": "markdown",
   "id": "5223e3a1-81be-4f6a-bf66-aaffec007675",
   "metadata": {},
   "source": [
    "# Quadcopter"
   ]
  },
  {
   "cell_type": "code",
   "execution_count": 3,
   "id": "44469dcd-f4ad-4e17-a7d8-d29e520d32d1",
   "metadata": {},
   "outputs": [
    {
     "data": {
      "text/plain": [
       "4"
      ]
     },
     "execution_count": 3,
     "metadata": {},
     "output_type": "execute_result"
    }
   ],
   "source": [
    "# Discrete time model of a quadcopter\n",
    "A = [1       0       0   0   0   0   0.1     0       0    0       0       0;\n",
    "      0       1       0   0   0   0   0       0.1     0    0       0       0;\n",
    "      0       0       1   0   0   0   0       0       0.1  0       0       0;\n",
    "      0.0488  0       0   1   0   0   0.0016  0       0    0.0992  0       0;\n",
    "      0      -0.0488  0   0   1   0   0      -0.0016  0    0       0.0992  0;\n",
    "      0       0       0   0   0   1   0       0       0    0       0       0.0992;\n",
    "      0       0       0   0   0   0   1       0       0    0       0       0;\n",
    "      0       0       0   0   0   0   0       1       0    0       0       0;\n",
    "      0       0       0   0   0   0   0       0       1    0       0       0;\n",
    "      0.9734  0       0   0   0   0   0.0488  0       0    0.9846  0       0;\n",
    "      0      -0.9734  0   0   0   0   0      -0.0488  0    0       0.9846  0;\n",
    "      0       0       0   0   0   0   0       0       0    0       0       0.9846] \n",
    "B = [0      -0.0726  0       0.0726;\n",
    "     -0.0726  0       0.0726  0;\n",
    "     -0.0152  0.0152 -0.0152  0.0152;\n",
    "      0      -0.0006 -0.0000  0.0006;\n",
    "      0.0006  0      -0.0006  0;\n",
    "      0.0106  0.0106  0.0106  0.0106;\n",
    "      0      -1.4512  0       1.4512;\n",
    "     -1.4512  0       1.4512  0;\n",
    "     -0.3049  0.3049 -0.3049  0.3049;\n",
    "      0      -0.0236  0       0.0236;\n",
    "      0.0236  0      -0.0236  0;\n",
    "      0.2107  0.2107  0.2107  0.2107] \n",
    "\n",
    "C = ones(12)\n",
    "\n",
    "\n",
    "nx = 12\n",
    "nu = 4\n",
    "    "
   ]
  },
  {
   "cell_type": "markdown",
   "id": "70445576-382c-46ff-bc3a-e2fedf321d6f",
   "metadata": {},
   "source": [
    "## Controller"
   ]
  },
  {
   "cell_type": "code",
   "execution_count": 4,
   "id": "ef735f31-a107-47aa-b788-bd4affb75b0d",
   "metadata": {},
   "outputs": [
    {
     "data": {
      "text/plain": [
       "4×12 Matrix{Float64}:\n",
       " -5.09962e-14  -0.286741     -0.0153056  …   0.0334519    0.0468176\n",
       " -0.286741     -1.96843e-14   0.0153056      3.76281e-15  0.0468176\n",
       " -3.04239e-14   0.286741     -0.0153056     -0.0334519    0.0468176\n",
       "  0.286741      1.16735e-14   0.0153056     -2.32078e-15  0.0468176"
      ]
     },
     "execution_count": 4,
     "metadata": {},
     "output_type": "execute_result"
    }
   ],
   "source": [
    "Q = I(nx)\n",
    "R = I(nu) * 1000\n",
    "K = lqr(Discrete,A,B,Q,R)"
   ]
  },
  {
   "cell_type": "markdown",
   "id": "a0a86864-dc63-42af-9f8b-da93155d3b72",
   "metadata": {},
   "source": [
    "## Compute control invariant set"
   ]
  },
  {
   "cell_type": "code",
   "execution_count": 5,
   "id": "97650866-1759-4704-b428-7b9e2a7cf1a5",
   "metadata": {},
   "outputs": [
    {
     "name": "stdout",
     "output_type": "stream",
     "text": [
      "Convergence at iteration : 34\n"
     ]
    },
    {
     "data": {
      "text/plain": [
       "HPolytope{Float64, Vector{Float64}}(LazySets.HalfSpace{Float64, Vector{Float64}}[LazySets.HalfSpace{Float64, Vector{Float64}}([1.4894195331916327e-13, 2.040397697840599e-14, -5.63590119169587e-16, 2.668263811403526e-14, -5.72812298477516e-17, 0.6121105490059671, 4.093995717839787e-14, 2.4798559409171865e-15, -7.354903912292069e-16, 2.703076503344348e-14, -5.014890628410855e-16, 1.1842337856628466], 1.0), LazySets.HalfSpace{Float64, Vector{Float64}}([-1.4894195331916327e-13, -2.040397697840599e-14, 5.63590119169587e-16, -2.668263811403526e-14, 5.72812298477516e-17, -0.6121105490059671, -4.093995717839787e-14, -2.4798559409171865e-15, 7.354903912292069e-16, -2.703076503344348e-14, 5.014890628410855e-16, -1.1842337856628466], 1.0), LazySets.HalfSpace{Float64, Vector{Float64}}([1.4716533291330148e-13, 2.077959712046758e-14, -5.469611443405493e-16, 2.6354780856116428e-14, -8.509428054661565e-17, 0.6280440002753512, 4.041193782066253e-14, 2.5525248866440163e-15, -7.050555031581402e-16, 2.671012851558972e-14, -5.69705249986014e-16, 1.18836996529061], 1.0), LazySets.HalfSpace{Float64, Vector{Float64}}([-1.4716533291330148e-13, -2.077959712046758e-14, 5.469611443405493e-16, -2.6354780856116428e-14, 8.509428054661565e-17, -0.6280440002753512, -4.041193782066253e-14, -2.5525248866440163e-15, 7.050555031581402e-16, -2.671012851558972e-14, 5.69705249986014e-16, -1.18836996529061], 1.0), LazySets.HalfSpace{Float64, Vector{Float64}}([1.4513119893958744e-13, 2.1150282851160548e-14, -5.296535927366359e-16, 2.5981933552020715e-14, -1.1710618952284833e-16, 0.6440236407448934, 3.981113289240103e-14, 2.6225389017302575e-15, -6.742618550939267e-16, 2.6343917922594364e-14, -6.437864665719241e-16, 1.1911025912375381], 1.0), LazySets.HalfSpace{Float64, Vector{Float64}}([-1.4513119893958744e-13, -2.1150282851160548e-14, 5.296535927366359e-16, -2.5981933552020715e-14, 1.1710618952284833e-16, -0.6440236407448934, -3.981113289240103e-14, -2.6225389017302575e-15, 6.742618550939267e-16, -2.6343917922594364e-14, 6.437864665719241e-16, -1.1911025912375381], 1.0), LazySets.HalfSpace{Float64, Vector{Float64}}([1.4283129785438967e-13, 2.150877841986102e-14, -5.116984303293534e-16, 2.5562929068218814e-14, -1.532404940174922e-16, 0.6600300568469256, 3.9135472837618466e-14, 2.6878651463627924e-15, -6.43181163271235e-16, 2.5930765175316354e-14, -7.232442029637024e-16, 1.1923474444823199], 1.0), LazySets.HalfSpace{Float64, Vector{Float64}}([-1.4283129785438967e-13, -2.150877841986102e-14, 5.116984303293534e-16, -2.5562929068218814e-14, 1.532404940174922e-16, -0.6600300568469256, -3.9135472837618466e-14, -2.6878651463627924e-15, 6.43181163271235e-16, -2.5930765175316354e-14, 7.232442029637024e-16, -1.1923474444823199], 1.0), LazySets.HalfSpace{Float64, Vector{Float64}}([1.4025785430228713e-13, 2.1846428588761868e-14, -4.93130237481776e-16, 2.509668633933345e-14, -1.9329114055840406e-16, 0.6760426853351247, 3.8383091355464146e-14, 2.7462305849507e-15, -6.118881957535802e-16, 2.546937033355816e-14, -8.073557111818436e-16, 1.1920175328537383], 1.0), LazySets.HalfSpace{Float64, Vector{Float64}}([-1.4025785430228713e-13, -2.1846428588761868e-14, 4.93130237481776e-16, -2.509668633933345e-14, 1.9329114055840406e-16, -0.6760426853351247, -3.8383091355464146e-14, -2.7462305849507e-15, 6.118881957535802e-16, -2.546937033355816e-14, 8.073557111818436e-16, -1.1920175328537383], 1.0)  …  LazySets.HalfSpace{Float64, Vector{Float64}}([0.0, 0.0, -1.0, 0.0, 0.0, 0.0, 0.0, 0.0, 0.0, 0.0, 0.0, 0.0], 1.0), LazySets.HalfSpace{Float64, Vector{Float64}}([0.0, 0.0, 0.0, -1.0, 0.0, 0.0, 0.0, 0.0, 0.0, 0.0, 0.0, 0.0], 1.0), LazySets.HalfSpace{Float64, Vector{Float64}}([0.0, 0.0, 0.0, 0.0, -1.0, 0.0, 0.0, 0.0, 0.0, 0.0, 0.0, 0.0], 1.0), LazySets.HalfSpace{Float64, Vector{Float64}}([0.0, 0.0, 0.0, 0.0, 0.0, -1.0, 0.0, 0.0, 0.0, 0.0, 0.0, 0.0], 1.0), LazySets.HalfSpace{Float64, Vector{Float64}}([0.0, 0.0, 0.0, 0.0, 0.0, 0.0, -1.0, 0.0, 0.0, 0.0, 0.0, 0.0], 1.0), LazySets.HalfSpace{Float64, Vector{Float64}}([0.0, 0.0, 0.0, 0.0, 0.0, 0.0, 0.0, -1.0, 0.0, 0.0, 0.0, 0.0], 1.0), LazySets.HalfSpace{Float64, Vector{Float64}}([0.0, 0.0, 0.0, 0.0, 0.0, 0.0, 0.0, 0.0, -1.0, 0.0, 0.0, 0.0], 1.0), LazySets.HalfSpace{Float64, Vector{Float64}}([0.0, 0.0, 0.0, 0.0, 0.0, 0.0, 0.0, 0.0, 0.0, -1.0, 0.0, 0.0], 1.0), LazySets.HalfSpace{Float64, Vector{Float64}}([0.0, 0.0, 0.0, 0.0, 0.0, 0.0, 0.0, 0.0, 0.0, 0.0, -1.0, 0.0], 1.0), LazySets.HalfSpace{Float64, Vector{Float64}}([0.0, 0.0, 0.0, 0.0, 0.0, 0.0, 0.0, 0.0, 0.0, 0.0, 0.0, -1.0], 1.0)])"
      ]
     },
     "execution_count": 5,
     "metadata": {},
     "output_type": "execute_result"
    }
   ],
   "source": [
    "# Half-space representation\n",
    "X = Hyperrectangle(low=ones(nx)*-1, high=ones(nx))\n",
    "U = Hyperrectangle(low=ones(nu)*-1, high=ones(nu))\n",
    "\n",
    "autSys = @system x⁺ = A*x  x∈X\n",
    "ctrlSys = @system x⁺ = A*x + B*u x∈X u∈U\n",
    "\n",
    "MIL = maximum_invariant_set(ctrlSys, K)"
   ]
  },
  {
   "cell_type": "code",
   "execution_count": 19,
   "id": "c8bd9eeb-9876-4ada-915f-42badc388cdc",
   "metadata": {},
   "outputs": [
    {
     "data": {
      "text/plain": [
       "12-element Vector{Float64}:\n",
       "  7.63503192956167e-15\n",
       " -3.16554942365047\n",
       " -8.965461466340162e-15\n",
       " -1.1550585691324856e-14\n",
       " -0.24364149043438768\n",
       " -4.004144118266519e-14\n",
       "  4.2733659930934946e-14\n",
       " -0.7354144413070689\n",
       " -7.64660416525997e-15\n",
       " -7.9975534257469e-15\n",
       "  0.37311294461395733\n",
       " -9.55505799931698e-14"
      ]
     },
     "execution_count": 19,
     "metadata": {},
     "output_type": "execute_result"
    }
   ],
   "source": [
    "MIL.constraints[134].a"
   ]
  },
  {
   "cell_type": "code",
   "execution_count": null,
   "id": "16e29f0a-6ad0-4601-b134-e0c95ae8a793",
   "metadata": {},
   "outputs": [],
   "source": []
  }
 ],
 "metadata": {
  "kernelspec": {
   "display_name": "control_precompiled 1.9.1",
   "language": "julia",
   "name": "control_precompiled-1.9"
  },
  "language_info": {
   "file_extension": ".jl",
   "mimetype": "application/julia",
   "name": "julia",
   "version": "1.9.1"
  }
 },
 "nbformat": 4,
 "nbformat_minor": 5
}
