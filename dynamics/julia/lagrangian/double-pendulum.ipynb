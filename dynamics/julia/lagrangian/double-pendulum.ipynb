{
 "cells": [
  {
   "cell_type": "code",
   "execution_count": 1,
   "id": "321bbf89",
   "metadata": {},
   "outputs": [
    {
     "name": "stderr",
     "output_type": "stream",
     "text": [
      "\u001b[32m\u001b[1m  Activating\u001b[22m\u001b[39m new project at `~/Documents/eth_courses/notebooks/dynamics/julia/lagrangian`\n",
      "\u001b[32m\u001b[1m  No Changes\u001b[22m\u001b[39m to `~/Documents/eth_courses/notebooks/dynamics/julia/lagrangian/Project.toml`\n",
      "\u001b[32m\u001b[1m  No Changes\u001b[22m\u001b[39m to `~/Documents/eth_courses/notebooks/dynamics/julia/lagrangian/Manifest.toml`\n"
     ]
    }
   ],
   "source": [
    "import Pkg; Pkg.activate(@__DIR__); Pkg.instantiate()"
   ]
  },
  {
   "cell_type": "code",
   "execution_count": 8,
   "id": "929635b1",
   "metadata": {},
   "outputs": [],
   "source": [
    "using LinearAlgebra\n",
    "using DifferentialEquations\n",
    "using ForwardDiff\n",
    "using GLMakie\n",
    "using Rotations"
   ]
  },
  {
   "cell_type": "code",
   "execution_count": 16,
   "id": "46a52a72-c6d6-40d2-a7aa-334380dbcee4",
   "metadata": {},
   "outputs": [
    {
     "data": {
      "text/plain": [
       "A_R_B (generic function with 1 method)"
      ]
     },
     "execution_count": 16,
     "metadata": {},
     "output_type": "execute_result"
    }
   ],
   "source": [
    "# Rotation matrices \n",
    "B_R_P(ϕ) = RotZ(ϕ)\n",
    "A_R_B(β) = RotX(π/2 - β) "
   ]
  },
  {
   "cell_type": "code",
   "execution_count": 28,
   "id": "3c48fba0",
   "metadata": {},
   "outputs": [
    {
     "data": {
      "text/plain": [
       "kinematics (generic function with 1 method)"
      ]
     },
     "execution_count": 28,
     "metadata": {},
     "output_type": "execute_result"
    }
   ],
   "source": [
    "function kinematics(q)\n",
    "\n",
    "    ϕ = q[1]\n",
    "    ϕ̇ = q[1]\n",
    "\n",
    "    #Parameters\n",
    "    g = 9.81\n",
    "    L=0.25\n",
    "    β = π/6 \n",
    "    M = 0.5\n",
    "    m = 0.2\n",
    "    Ω = 0.3\n",
    "\n",
    "\n",
    "    # angular velocities\n",
    "\n",
    "    # plate\n",
    "    B_omega  = [0; 0 ;ϕ̇]\n",
    "    A_omega  = [0; 0 ;Ω]\n",
    "\n",
    "    I_omega_p = A_omega + A_R_B(β)  * B_omega\n",
    "    I_omega_p\n",
    "\n",
    "    # rod\n",
    "    I_omega_rod1 = [0; 0 ;Ω]\n",
    "    B_omega_rod2 = [0; 0 ;ϕ̇]\n",
    "    I_omega_rod2 = I_omega_rod1 + A_R_B(β)  * B_omega_rod2\n",
    "\n",
    "    # linear velocities \n",
    "\n",
    "    # plate\n",
    "    I_v_ba = [L*Ω; 0 ;0]\n",
    "    I_r_pb = A_R_B(β) *  B_R_P(ϕ) * [0; L/2; L/2] \n",
    "    I_v_po =  I_v_ba  + cross(I_omega_p,I_r_pb)\n",
    "\n",
    "    # rods\n",
    "    I_v_rod1 = [(L/2)*Ω; 0 ;0]\n",
    "    I_v_rod2 = [Ω* (L + (L/2* cos(β))); 0; 0]\n",
    "    \n",
    "    r = [I_v_po;\n",
    "         I_v_rod1;\n",
    "         I_v_rod2;\n",
    "         I_omega_p;\n",
    "         I_omega_rod1;\n",
    "         I_omega_rod2]\n",
    "end"
   ]
  },
  {
   "cell_type": "code",
   "execution_count": 31,
   "id": "79b4e934-561c-4807-ac52-33e7343d2e96",
   "metadata": {},
   "outputs": [
    {
     "data": {
      "text/plain": [
       "(18,)"
      ]
     },
     "execution_count": 31,
     "metadata": {},
     "output_type": "execute_result"
    }
   ],
   "source": [
    "size(kinematics([0,0]))"
   ]
  },
  {
   "cell_type": "code",
   "execution_count": 29,
   "id": "f1087e4f",
   "metadata": {},
   "outputs": [
    {
     "data": {
      "text/plain": [
       "potential (generic function with 1 method)"
      ]
     },
     "execution_count": 29,
     "metadata": {},
     "output_type": "execute_result"
    }
   ],
   "source": [
    "function potential(q)\n",
    "    \n",
    "    r = kinematics(q)\n",
    "    y1 = r[2]\n",
    "    y2 = r[5]\n",
    "    \n",
    "    U = m*g*y1 + m*g*y2\n",
    "end"
   ]
  },
  {
   "cell_type": "code",
   "execution_count": null,
   "id": "21ab5555",
   "metadata": {},
   "outputs": [],
   "source": [
    "function kinetic(q,q̇)\n",
    "    \n",
    "    K = ForwardDiff.jacobian(kinematics,q)\n",
    "    ṙ = K*q̇\n",
    "    \n",
    "    T = 0.5*ṙ'*Diagonal([M; M; M;m;m;m;m;m;m; J; m; m; J])*ṙ\n",
    "end"
   ]
  },
  {
   "cell_type": "code",
   "execution_count": null,
   "id": "25cab4c6",
   "metadata": {},
   "outputs": [],
   "source": [
    "function Lagrangian(q,q̇)\n",
    "    return kinetic(q,q̇) - potential(q)\n",
    "end"
   ]
  },
  {
   "cell_type": "code",
   "execution_count": null,
   "id": "3c21e8d1",
   "metadata": {},
   "outputs": [],
   "source": [
    "function D1L(q,q̇)\n",
    "    return ForwardDiff.gradient(dq->Lagrangian(dq,q̇),q)\n",
    "end\n",
    "\n",
    "function D2L(q,q̇)\n",
    "    return ForwardDiff.gradient(dq̇->Lagrangian(q,dq̇),q̇)\n",
    "end\n",
    "\n",
    "function D2D2L(q,q̇)\n",
    "    return ForwardDiff.jacobian(dq̇->D2L(q,dq̇),q̇)\n",
    "end\n",
    "\n",
    "function D1D2L(q,q̇)\n",
    "    return ForwardDiff.jacobian(dq->D2L(dq,q̇),q)\n",
    "end"
   ]
  },
  {
   "cell_type": "code",
   "execution_count": null,
   "id": "8962529f",
   "metadata": {},
   "outputs": [],
   "source": [
    "function dynamics(x,τ)\n",
    "    q = x[1:2]\n",
    "    q̇ = x[3:4]\n",
    "    \n",
    "    #Forced Euler-Lagrange Equation\n",
    "    q̈ = D2D2L(q,q̇)\\(D1L(q,q̇) - D1D2L(q,q̇)*q̇ + τ)\n",
    "    \n",
    "    ẋ = [q̇; q̈]\n",
    "end"
   ]
  },
  {
   "cell_type": "code",
   "execution_count": null,
   "id": "cb374202",
   "metadata": {},
   "outputs": [],
   "source": [
    "function controller(x)\n",
    "    q = x[1:2]\n",
    "    q̇ = x[3:4]\n",
    "    \n",
    "    kp = 100.0\n",
    "    kd = 10.0\n",
    "    \n",
    "    u = -kp*(q-[pi; 0.0]) - kd*q̇\n",
    "end"
   ]
  },
  {
   "cell_type": "code",
   "execution_count": null,
   "id": "a7054ffa",
   "metadata": {},
   "outputs": [],
   "source": [
    "#Simulate\n",
    "x0 = randn(4)\n",
    "\n",
    "function f(x,p,t)\n",
    "    #u = zeros(2)\n",
    "    u = controller(x)\n",
    "    dynamics(x, u)\n",
    "end\n",
    "\n",
    "tspan = (0.0,10.0)\n",
    "prob = ODEProblem(f,x0,tspan)\n",
    "sol = solve(prob,Tsit5(),abstol=1e-6,reltol=1e-6);"
   ]
  },
  {
   "cell_type": "code",
   "execution_count": null,
   "id": "9f07b6dc",
   "metadata": {},
   "outputs": [],
   "source": [
    "plot(sol,idxs=(0,1))\n",
    "plot!(sol,idxs=(0,2))"
   ]
  },
  {
   "cell_type": "code",
   "execution_count": null,
   "id": "5815ea2f",
   "metadata": {},
   "outputs": [],
   "source": [
    "function y(q)\n",
    "    #We're going to apply a force in the x-direction at the end of the 2nd link\n",
    "    return ℓ*sin(q[1]) + ℓ*sin(q[1]+q[2])\n",
    "end\n",
    "\n",
    "function Y(q)\n",
    "    ForwardDiff.gradient(dq->y(dq),q)'\n",
    "end"
   ]
  },
  {
   "cell_type": "code",
   "execution_count": null,
   "id": "9d331737",
   "metadata": {},
   "outputs": [],
   "source": [
    "function dynamics(x,F)\n",
    "    q = x[1:2]\n",
    "    q̇ = x[3:4]\n",
    "    \n",
    "    #damping constant\n",
    "    c = 10.0\n",
    "    \n",
    "    #Forced Euler-Lagrange Equation\n",
    "    q̈ = D2D2L(q,q̇)\\(D1L(q,q̇) - D1D2L(q,q̇)*q̇ - c*q̇ + Y(q)'*F)\n",
    "    \n",
    "    ẋ = [q̇; q̈]\n",
    "end"
   ]
  },
  {
   "cell_type": "code",
   "execution_count": null,
   "id": "2f16add4",
   "metadata": {},
   "outputs": [],
   "source": [
    "#Simulate\n",
    "x0 = zeros(4)\n",
    "\n",
    "function f(x,p,t)\n",
    "    F = 100.0\n",
    "    dynamics(x, F)\n",
    "end\n",
    "\n",
    "tspan = (0.0,10.0)\n",
    "prob = ODEProblem(f,x0,tspan)\n",
    "sol = solve(prob,Tsit5(),abstol=1e-6,reltol=1e-6);"
   ]
  },
  {
   "cell_type": "code",
   "execution_count": null,
   "id": "967b7f60",
   "metadata": {},
   "outputs": [],
   "source": [
    "plot(sol,idxs=(0,1))\n",
    "plot!(sol,idxs=(0,2))"
   ]
  },
  {
   "cell_type": "code",
   "execution_count": null,
   "id": "0286ff0a",
   "metadata": {},
   "outputs": [],
   "source": []
  }
 ],
 "metadata": {
  "kernelspec": {
   "display_name": "control_precompiled 1.9.1",
   "language": "julia",
   "name": "control_precompiled-1.9"
  },
  "language_info": {
   "file_extension": ".jl",
   "mimetype": "application/julia",
   "name": "julia",
   "version": "1.9.1"
  }
 },
 "nbformat": 4,
 "nbformat_minor": 5
}
