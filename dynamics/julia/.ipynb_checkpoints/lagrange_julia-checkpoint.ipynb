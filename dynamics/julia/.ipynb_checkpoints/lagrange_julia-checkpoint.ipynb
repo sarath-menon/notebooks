{
 "cells": [
  {
   "cell_type": "code",
   "execution_count": null,
   "id": "bcd93b50",
   "metadata": {},
   "outputs": [],
   "source": []
  }
 ],
 "metadata": {
  "kernelspec": {
   "display_name": "Julia 1.8.5",
   "language": "julia",
   "name": "julia-1.8"
  }
 },
 "nbformat": 4,
 "nbformat_minor": 5
}
