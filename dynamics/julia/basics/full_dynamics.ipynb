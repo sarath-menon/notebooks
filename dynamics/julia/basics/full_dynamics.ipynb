{
 "cells": [
  {
   "cell_type": "code",
   "execution_count": 1,
   "id": "77d2604d",
   "metadata": {
    "scrolled": true
   },
   "outputs": [
    {
     "name": "stderr",
     "output_type": "stream",
     "text": [
      "\u001b[32m\u001b[1m  Activating\u001b[22m\u001b[39m project at `~/Documents/eth_courses/notebooks/dynamics/julia/basics`\n"
     ]
    }
   ],
   "source": [
    "import Pkg; Pkg.activate(@__DIR__); Pkg.instantiate();"
   ]
  },
  {
   "cell_type": "code",
   "execution_count": 66,
   "id": "34f143a8",
   "metadata": {
    "scrolled": true
   },
   "outputs": [
    {
     "data": {
      "text/plain": [
       "ReferenceFrameRotations.Quaternion"
      ]
     },
     "execution_count": 66,
     "metadata": {},
     "output_type": "execute_result"
    }
   ],
   "source": [
    "using ModelingToolkit\n",
    "using OrdinaryDiffEq, DiffEqCallbacks\n",
    "using ReferenceFrameRotations, LinearAlgebra\n",
    "using StaticArrays\n",
    "using Rotations\n",
    "\n",
    "using GLMakie\n",
    "using BenchmarkTools\n",
    "GLMakie.activate!(inline=true)\n",
    "\n",
    "Quaternion = ReferenceFrameRotations.Quaternion"
   ]
  },
  {
   "cell_type": "code",
   "execution_count": 67,
   "id": "5f5eb86c-df37-4370-92b0-78f329f8387f",
   "metadata": {},
   "outputs": [
    {
     "data": {
      "text/plain": [
       "plot_position_attitude (generic function with 1 method)"
      ]
     },
     "execution_count": 67,
     "metadata": {},
     "output_type": "execute_result"
    }
   ],
   "source": [
    "function plot_position_attitude(sol::ODESolution)\n",
    "    fig = Figure(resolution = (1000, 700))\n",
    "    \n",
    "    ax1 = Axis(fig[1, 1], title=\"Position\")\n",
    "    ax2 = Axis(fig[1, 2], title=\"Velocity\")\n",
    "    # ax3 = Axis(fig[2, 1], title=\"Attitude (quaternion)\")\n",
    "    # ax4 = Axis(fig[2, 2], title=\"Angular velocity\")\n",
    "\n",
    "    ax4 = Axis(fig[2, 1], title=\"roll angle\")\n",
    "    ax5 = Axis(fig[2, 2], title=\"pitch angle\")\n",
    "    ax6 = Axis(fig[2, 3], title=\"yaw angle\")\n",
    "    \n",
    "    lines!(ax1, sol.t, sol[plant.r[1]])\n",
    "    lines!(ax1, sol.t, sol[plant.r[2]])\n",
    "    lines!(ax1, sol.t, sol[plant.r[3]])\n",
    "\n",
    "    lines!(ax2, sol.t, sol[plant.ṙ[1]])\n",
    "    lines!(ax2, sol.t, sol[plant.ṙ[2]])\n",
    "    lines!(ax2, sol.t, sol[plant.ṙ[3]])\n",
    "    \n",
    "    # lines!(ax3, sol.t, sol[plant.q[1]])\n",
    "    # lines!(ax3, sol.t, sol[plant.q[2]])\n",
    "    # lines!(ax3, sol.t, sol[plant.q[3]])\n",
    "    # lines!(ax3, sol.t, sol[plant.q[4]])\n",
    "\n",
    "    # convert quaternion attitude representation to euler angles \n",
    "    p_vec = Float64[]\n",
    "    q_vec = Float64[]\n",
    "    r_vec = Float64[]\n",
    "    \n",
    "    for i in 1:length(sol.t)\n",
    "        quat_vec =  QuatRotation(sol.u[i][7:10],false)\n",
    "        r,q,p = Rotations.params(RotZYX(quat_vec))\n",
    "    \n",
    "        push!(p_vec ,p)\n",
    "        push!(q_vec ,q)\n",
    "        push!(r_vec ,r)\n",
    "    end\n",
    "\n",
    "    lines!(ax4, sol.t, p_vec)\n",
    "    lines!(ax5, sol.t, q_vec)\n",
    "    lines!(ax6, sol.t, r_vec)\n",
    "\n",
    "    # lines!(ax4, sol.t, sol[plant.ω[1]])\n",
    "    # lines!(ax4, sol.t, sol[plant.ω[2]])\n",
    "    # lines!(ax4, sol.t, sol[plant.ω[3]])\n",
    "    \n",
    "    display(fig)\n",
    "end"
   ]
  },
  {
   "cell_type": "markdown",
   "id": "42d88d54",
   "metadata": {},
   "source": [
    "## Full attitude dynamics "
   ]
  },
  {
   "cell_type": "code",
   "execution_count": 68,
   "id": "05cc3970-7f65-4289-a91f-6cc1b025451c",
   "metadata": {},
   "outputs": [
    {
     "data": {
      "text/plain": [
       "quaternion_integrator (generic function with 1 method)"
      ]
     },
     "execution_count": 68,
     "metadata": {},
     "output_type": "execute_result"
    }
   ],
   "source": [
    "function quaternion_integrator(q0, ω, dt)\n",
    "    q_exp = exp( QuatRotation(0, ω[1]*dt/2, ω[2]*dt/2, ω[3]*dt/2, false).q);\n",
    "    q_exp_q = QuatRotation(q_exp.s, q_exp.v1, q_exp.v2, q_exp.v3, false)\n",
    "    \n",
    "    q1 = q_exp_q * q0;\n",
    "\n",
    "    return q1\n",
    "end"
   ]
  },
  {
   "cell_type": "code",
   "execution_count": 69,
   "id": "639982cb",
   "metadata": {},
   "outputs": [
    {
     "data": {
      "text/plain": [
       "RigidBody (generic function with 1 method)"
      ]
     },
     "execution_count": 69,
     "metadata": {},
     "output_type": "execute_result"
    }
   ],
   "source": [
    "function RigidBody(;name, m, I_xx,I_yy,I_zz)\n",
    "\n",
    "    # translation\n",
    "    @variables t (r(t))[1:3]=0 (ṙ(t))[1:3]=0 \n",
    "    \n",
    "    # rotation\n",
    "    @variables (q(t))[1:4]=0 (ω(t))[1:3]=0 \n",
    "    \n",
    "    # external force, torque\n",
    "    @variables (f(t))[1:3]=0 (τ(t))[1:3] \n",
    "    \n",
    "    @parameters m=m I_xx=I_xx I_yy=I_yy I_zz=I_yy\n",
    "    \n",
    "    D = Differential(t)\n",
    "    \n",
    "    translational_kinematics = D.(r) .~ ṙ\n",
    "    \n",
    "    translational_dynamics = D.(ṙ) .~ f / m\n",
    "    \n",
    "    rotation_kinematics = D.(q) .~ 0  # implemented in callback\n",
    "    \n",
    "    rotation_dynamics = [\n",
    "        D.(ω[1]) .~ (τ[1] - (I_yy-I_zz )*ω[2]*ω[3]) / I_xx ,\n",
    "        D.(ω[2]) .~ (τ[2] - (I_zz-I_xx )*ω[1]*ω[3]) / I_yy ,\n",
    "        D.(ω[3]) .~ (τ[3] - (I_xx-I_yy )*ω[1]*ω[2]) / I_zz ,\n",
    "        ]\n",
    "    \n",
    "    # eqns = vcat(translational_kinematics,translational_dynamics, rotation_kinematics, rotation_dynamics, external_force ,external_torque)\n",
    "    eqns = vcat(translational_kinematics,translational_dynamics, rotation_kinematics, rotation_dynamics)\n",
    "    \n",
    "    ODESystem(eqns, t; name)\n",
    "    \n",
    "    # sys = structural_simplify(model);\n",
    "\n",
    "end"
   ]
  },
  {
   "cell_type": "markdown",
   "id": "7c230def-7c2f-43f8-ba63-725d2d04a267",
   "metadata": {},
   "source": [
    "### Callback (for quaternion integration)"
   ]
  },
  {
   "cell_type": "code",
   "execution_count": 70,
   "id": "8db6eb59-b382-4375-9ac0-ba3127f63cd5",
   "metadata": {},
   "outputs": [],
   "source": [
    "function digital_controller(int)\n",
    "\n",
    "    r =  @view int.u[1:3]\n",
    "    ṙ =  @view int.u[4:6]\n",
    "    \n",
    "    q0_vec = @view int.u[7:10]\n",
    "    ω = @view int.u[11:13]\n",
    "\n",
    "    q0 = QuatRotation(q0_vec, false);\n",
    "    \n",
    "    dt = 0.01\n",
    "    \n",
    "    q1 = quaternion_integrator(q0, ω, dt)\n",
    "\n",
    "    # set attitude\n",
    "    int.u[7:10] = [q1.q.s, q1.q.v1, q1.q.v2, q1.q.v3]\n",
    "\n",
    "end \n",
    "\n",
    "control_callback = PeriodicCallback(digital_controller, 0.01, initial_affect=true);"
   ]
  },
  {
   "cell_type": "markdown",
   "id": "d56290f9-124c-4aa5-a8ed-4b6fe65fe1ee",
   "metadata": {},
   "source": [
    "## System building"
   ]
  },
  {
   "cell_type": "code",
   "execution_count": 63,
   "id": "49533672-f3dd-4e77-89d5-30e95ab55430",
   "metadata": {},
   "outputs": [],
   "source": [
    "@named plant = RigidBody(;name=:rb1, m=0.7, I_xx=0.3, I_yy=0.3, I_zz=0.7);\n",
    "\n",
    "eqn1 = plant.f .~ [0,0,0]\n",
    "eqn2 = plant.τ .~ [0.0,0.0,0.]\n",
    "\n",
    "eqns = vcat(eqn1,eqn2)\n",
    "\n",
    "# connect the subsystems\n",
    "@named model = ODESystem(eqns,\n",
    "    systems=[plant])\n",
    "\n",
    "sys = structural_simplify(model);\n"
   ]
  },
  {
   "cell_type": "code",
   "execution_count": 65,
   "id": "f011a5be",
   "metadata": {},
   "outputs": [
    {
     "name": "stdout",
     "output_type": "stream",
     "text": [
      "  0.000977 seconds (3.06 k allocations: 522.938 KiB)\n"
     ]
    },
    {
     "data": {
      "image/png": "[encoded data removed]"
     },
     "metadata": {},
     "output_type": "display_data"
    },
    {
     "data": {
      "text/plain": [
       "GLMakie.Screen(...)"
      ]
     },
     "execution_count": 65,
     "metadata": {},
     "output_type": "execute_result"
    }
   ],
   "source": [
    "# sim\n",
    "tspan = (0.0, 10.0)\n",
    "\n",
    "control_callback = PeriodicCallback(digital_controller, 0.01, initial_affect=true);\n",
    "\n",
    "# initial conditions\n",
    "r₀ = [0.,0.,0.]\n",
    "ṙ₀ = [0.,0.,0.]\n",
    "q₀ = [1., 0.,0.,0.]\n",
    "ω₀ = [0.,0.5,0.]\n",
    "\n",
    "X₀ = vcat(r₀, ṙ₀, q₀, ω₀)\n",
    "\n",
    "prob = ODEProblem(sys, X₀, tspan, callback=control_callback) \n",
    "@time sol = solve(prob, Tsit5(), abstol=1e-8, reltol=1e-8 , save_everystep = false);\n",
    "\n",
    "plot_position_attitude(sol)"
   ]
  },
  {
   "cell_type": "code",
   "execution_count": null,
   "id": "d9cf7abf-4d2b-47a5-98c5-3d52986a47ff",
   "metadata": {},
   "outputs": [],
   "source": []
  }
 ],
 "metadata": {
  "kernelspec": {
   "display_name": "control_precompiled 1.9.1",
   "language": "julia",
   "name": "control_precompiled-1.9"
  },
  "language_info": {
   "file_extension": ".jl",
   "mimetype": "application/julia",
   "name": "julia",
   "version": "1.9.1"
  }
 },
 "nbformat": 4,
 "nbformat_minor": 5
}
