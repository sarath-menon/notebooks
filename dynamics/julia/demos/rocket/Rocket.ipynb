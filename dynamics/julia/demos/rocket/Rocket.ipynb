{
 "cells": [
  {
   "cell_type": "code",
   "execution_count": 1,
   "id": "3e1970aa",
   "metadata": {},
   "outputs": [
    {
     "name": "stderr",
     "output_type": "stream",
     "text": [
      "\u001b[32m\u001b[1m  Activating\u001b[22m\u001b[39m project at `~/Downloads/notebooks/dynamics_tutorial/plain_samples/rocket`\n",
      "\u001b[32m\u001b[1mPrecompiling\u001b[22m\u001b[39m project...\n",
      "\u001b[32m  ✓ \u001b[39mPackageCompiler\n",
      "  1 dependency successfully precompiled in 5 seconds. 8 already precompiled.\n"
     ]
    }
   ],
   "source": [
    "import Pkg; Pkg.activate(@__DIR__); Pkg.instantiate()"
   ]
  },
  {
   "cell_type": "code",
   "execution_count": 4,
   "id": "6e01a6c1",
   "metadata": {},
   "outputs": [],
   "source": [
    "using ModelingToolkit, LinearAlgebra\n",
    "using GLMakie\n",
    "using ControlSystemsBase\n",
    "using DifferentialEquations\n",
    "# using Plots"
   ]
  },
  {
   "cell_type": "markdown",
   "id": "9efbb1e9-b362-427f-b158-88c44081a86c",
   "metadata": {},
   "source": [
    "## Utilities"
   ]
  },
  {
   "cell_type": "code",
   "execution_count": 5,
   "id": "f275e598-e840-427e-a6e2-49898b7b5a09",
   "metadata": {},
   "outputs": [],
   "source": [
    "# create custom rotation matrix\n",
    "R_2D(θ::Float64) = [cos(θ) -sin(θ); sin(θ) cos(θ)];\n"
   ]
  },
  {
   "cell_type": "markdown",
   "id": "23946202-914d-49a5-b1c6-f37f68ab55bc",
   "metadata": {},
   "source": [
    "## Dynamics using DifferentialEquationsjl"
   ]
  },
  {
   "cell_type": "code",
   "execution_count": 6,
   "id": "8928819e",
   "metadata": {},
   "outputs": [
    {
     "data": {
      "text/plain": [
       "rocket (generic function with 1 method)"
      ]
     },
     "execution_count": 6,
     "metadata": {},
     "output_type": "execute_result"
    }
   ],
   "source": [
    "#Define the problem\n",
    "function rocket(dx, X, params, t)\n",
    "\n",
    "    # g = params[\"g\"]\n",
    "    m, g, l, I_zz = params\n",
    "    g_vec = [0;g]\n",
    "    \n",
    "#     # control input [T, phi]\n",
    "#     u = [9.81,0.0]\n",
    "#     # control variables\n",
    "#     T = u[1];\n",
    "#     ϕ = u[2];\n",
    "    \n",
    "    # compute control action\n",
    "    U = [0,0]\n",
    "    T = U[1];\n",
    "    ϕ = U[2];\n",
    "\n",
    "    # get the state\n",
    "    x = X[1]\n",
    "    z = X[2]\n",
    "    θ = X[3]\n",
    "    ẋ = X[4]\n",
    "    ż = X[5]\n",
    "    θ̇ = X[6]\n",
    "    \n",
    "    # disturbance moddel\n",
    "    C_D = 0.75;\n",
    "    v_wind = 0.2;\n",
    "    A_ref = 0.54 \n",
    "    f_wind = C_D *  A_ref * [cos(θ); 0] * v_wind\n",
    "    \n",
    "#     println(\"Wind:\", f_wind)\n",
    "    \n",
    "    \n",
    "    # translation E.O.M\n",
    "    f = [T*sin(ϕ); T*cos(ϕ)]\n",
    "    (ẍ, z̈) = R_2D(θ)*f + g_vec \n",
    "\n",
    "    # rotational E.O.M\n",
    "    θ̈ = -(l*T*sin(ϕ)) / I_zz\n",
    "    \n",
    "#     # first order response of gimbal\n",
    "#     ϕ̇ = -(1 / 0.05) * (ϕ_desired - ϕ)\n",
    "    \n",
    "    # prevent rocket from going into ground (negative z coordinate)\n",
    "    if z<0\n",
    "        z = 0\n",
    "    end\n",
    "    \n",
    "    dx[1], dx[2], dx[3] = ẋ, ż, θ̇\n",
    "    dx[4], dx[5], dx[6] = ẍ, z̈, θ̈\n",
    "end"
   ]
  },
  {
   "cell_type": "code",
   "execution_count": 10,
   "id": "be4b6757",
   "metadata": {},
   "outputs": [
    {
     "data": {
      "image/png": "[encoded data removed]"
     },
     "execution_count": 10,
     "metadata": {},
     "output_type": "execute_result"
    }
   ],
   "source": [
    "# parameters [m, g, l, I_zz]\n",
    "params = [1.0, -9.81, 0.5, 0.3]\n",
    "\n",
    "#Initial Conditions\n",
    "u₀ = [2,10,0,0,0,0];\n",
    "tspan = (0.0, 10);\n",
    "\n",
    "#Pass to solvers\n",
    "prob = ODEProblem(rocket, u₀, tspan, params);\n",
    "sol = solve(prob, Tsit5(), abstol=1e-8, reltol=1e-8);\n",
    "\n",
    "rocket_plot_normal(sol)"
   ]
  },
  {
   "cell_type": "markdown",
   "id": "e514b6db",
   "metadata": {},
   "source": [
    "### Plotting"
   ]
  },
  {
   "cell_type": "code",
   "execution_count": 9,
   "id": "7f3ec687",
   "metadata": {},
   "outputs": [
    {
     "data": {
      "text/plain": [
       "rocket_plot_lsim (generic function with 1 method)"
      ]
     },
     "execution_count": 9,
     "metadata": {},
     "output_type": "execute_result"
    }
   ],
   "source": [
    "function rocket_plot_normal(sol::ODESolution)\n",
    "    fig = Figure(resolution=(600, 400))\n",
    "\n",
    "    x_ax = Axis(fig[1, 1], title=\"x\")\n",
    "    z_ax = Axis(fig[2, 1], title=\"z\")\n",
    "    theta_ax = Axis(fig[3, 1], title=\"theta\")\n",
    "\n",
    "    lines!(x_ax, sol.t, sol[1, :])\n",
    "    lines!(z_ax, sol.t, sol[2, :])\n",
    "    lines!(theta_ax, sol.t[:], sol[3, :])\n",
    "\n",
    "    x_ax.ylabel = \"x [m]\"\n",
    "    z_ax.ylabel = \"z [m]\"\n",
    "    theta_ax.ylabel = \"θ [rad]\"\n",
    "\n",
    "    rowgap!(fig.layout, 1)\n",
    "\n",
    "    fig\n",
    "end\n",
    "\n",
    "function rocket_plot(sol::ODESolution)\n",
    "    fig = Figure(resolution=(600, 400))\n",
    "\n",
    "    x_ax = Axis(fig[1, 1], title=\"x\")\n",
    "    z_ax = Axis(fig[2, 1], title=\"z\")\n",
    "    theta_ax = Axis(fig[3, 1], title=\"theta\")\n",
    "\n",
    "    lines!(x_ax, sol.t, sol[x])\n",
    "    lines!(z_ax, sol.t, sol[z])\n",
    "    lines!(theta_ax, sol.t[:], sol[θ])\n",
    "\n",
    "    x_ax.ylabel = \"x [m]\"\n",
    "    z_ax.ylabel = \"z [m]\"\n",
    "    theta_ax.ylabel = \"θ [rad]\"\n",
    "    theta_ax.ylabel = \"Thrust [N]\"\n",
    "\n",
    "    rowgap!(fig.layout, 1)\n",
    "\n",
    "    fig\n",
    "end\n",
    "\n",
    "function rocket_plot_lsim(t, x, uout)\n",
    "    fig = Figure(resolution=(600, 600), title=\"LQR controller on nominal system\")\n",
    "\n",
    "    x_ax = Axis(fig[1, 1], title=\"x\")\n",
    "    z_ax = Axis(fig[2, 1], title=\"z\")\n",
    "    theta_ax = Axis(fig[3, 1], title=\"theta\")\n",
    "    u1_ax = Axis(fig[4, 1], title=\"Thrust force\")\n",
    "\n",
    "    lines!(x_ax, collect(t), x[1,:])\n",
    "    lines!(z_ax, collect(t), x[2,:])\n",
    "    lines!(theta_ax, collect(t), x[3,:])\n",
    "    \n",
    "    lines!(u1_ax, collect(t), uout[1,:])\n",
    "\n",
    "    x_ax.ylabel = \"x [m]\"\n",
    "    z_ax.ylabel = \"z [m]\"\n",
    "    theta_ax.ylabel = \"θ [rad]\"\n",
    "\n",
    "    rowgap!(fig.layout, 1)\n",
    "\n",
    "    fig\n",
    "end"
   ]
  },
  {
   "cell_type": "markdown",
   "id": "cf8acfca",
   "metadata": {},
   "source": [
    "# Using modelling toolkit"
   ]
  },
  {
   "cell_type": "code",
   "execution_count": 77,
   "id": "bb6a07b1",
   "metadata": {},
   "outputs": [],
   "source": [
    "# define parameters and variables\n",
    "@parameters l, I_zz, m\n",
    "\n",
    "# state variables\n",
    "@variables t, x(t), z(t), θ(t)\n",
    "\n",
    "# control input\n",
    "@variables T(t)=0 [input=true] ϕ(t)=0 [input=true] \n",
    "\n",
    "@constants g=-9.81\n",
    "\n",
    "# define operators\n",
    "D = Differential(t)\n",
    "\n",
    "# dynamics equations\n",
    "# gravity \n",
    "g_vec = [0;g]\n",
    "\n",
    "# create custom rotation matrix\n",
    "R_2D(θ::Real) = [cos(θ) -sin(θ); sin(θ) cos(θ)];\n",
    "\n",
    "# disturbance moddel\n",
    "C_D = 0.75;\n",
    "C_M = 0.15 ;\n",
    "\n",
    "v_wind = 0.2;\n",
    "A_ref = 0.54 \n",
    "f_wind = C_D *  A_ref * [cos(θ); 0] * v_wind\n",
    "tau_wind = C_M *  A_ref * l * cos(θ) * v_wind\n",
    "\n",
    "# force\n",
    "f = [0; T*cos(ϕ)]\n",
    "\n",
    "# translation E.O.M\n",
    "# (ẍ, z̈) = (1/m)* R_2D(θ)*f + g_vec + f_wind\n",
    "(ẍ, z̈) = (1/m)* R_2D(θ)*f + g_vec \n",
    "\n",
    "# rotational E.O.M\n",
    "# θ̈ = -(l*T*sin(ϕ)) / I_zz + tau_wind\n",
    "θ̈ = -(l*T*sin(ϕ)) / I_zz \n",
    "\n",
    "\n",
    "eqs = [D(D(x)) ~ ẍ, D(D(z)) ~ z̈, D(D(θ)) ~ θ̈]\n",
    "\n",
    "# create ODESystem and simplify\n",
    "@named sys_unsimplified = ODESystem(eqs)\n",
    "sys = structural_simplify(sys_unsimplified );"
   ]
  },
  {
   "cell_type": "code",
   "execution_count": 78,
   "id": "22cab059",
   "metadata": {},
   "outputs": [
    {
     "data": {
      "image/png": "[encoded data removed]"
     },
     "execution_count": 78,
     "metadata": {},
     "output_type": "execute_result"
    }
   ],
   "source": [
    "# initial conditions\n",
    "u₀ = Dict(\n",
    "    x => 2.0,\n",
    "    z => 10.0,\n",
    "    θ => 0.0,\n",
    "    D(x) => 0.0,\n",
    "    D(z) => 0.0,\n",
    "    D(θ) => 0.0,\n",
    ")\n",
    "\n",
    "# parameter values\n",
    "params = Dict(\n",
    "    l => 0.5,\n",
    "    I_zz =>0.3 ,\n",
    "    m => 1.0,\n",
    ")\n",
    "\n",
    "\n",
    "#Pass to solver\n",
    "tspan = (0.0, 10.0)\n",
    "prob = ODEProblem(sys, u₀, tspan, params, jac=true)\n",
    "sol = solve(prob, Tsit5(), reltol=1e-8, abstol=1e-8);\n",
    "\n",
    "#plotting\n",
    "rocket_plot(sol)"
   ]
  },
  {
   "cell_type": "markdown",
   "id": "6067d371",
   "metadata": {},
   "source": [
    "# Linearization"
   ]
  },
  {
   "cell_type": "code",
   "execution_count": 82,
   "id": "643a9f61",
   "metadata": {},
   "outputs": [
    {
     "data": {
      "text/plain": [
       "1×6 Matrix{Int64}:\n",
       " 1  1  0  0  0  1"
      ]
     },
     "execution_count": 82,
     "metadata": {},
     "output_type": "execute_result"
    }
   ],
   "source": [
    "# vector of nonlinear eqns of motion\n",
    "nonlinear_eq_vec = [D(x),\n",
    "                    D(z), \n",
    "                    D(θ), \n",
    "                    equations(sys_unsimplified)[1].rhs,\n",
    "                    equations(sys_unsimplified)[2].rhs,\n",
    "                    equations(sys_unsimplified)[3].rhs]\n",
    "\n",
    "state_vec = [x, z, θ, D(x), D(z), D(θ)]\n",
    "control_vec = [T, ϕ]\n",
    "\n",
    "# Calculate A,B matrices\n",
    "A = Symbolics.jacobian(nonlinear_eq_vec, state_vec)\n",
    "B = Symbolics.jacobian(nonlinear_eq_vec, control_vec)\n",
    "\n",
    "\n",
    "# Linearize around equilibrium point\n",
    "\n",
    "x₀ = Dict(\n",
    "    D(θ) => 0.0,\n",
    "    θ => 0.0,\n",
    "    D(x) => 0.0,\n",
    "    x => 0.0,\n",
    "    D(z) => 0.0,\n",
    "    z => 0.0\n",
    ")\n",
    "\n",
    "u₀ = Dict(\n",
    "    T => 9.81,\n",
    "    ϕ => 0.0\n",
    ")\n",
    "\n",
    "A = substitute(A, u₀);\n",
    "A = substitute(A, x₀);\n",
    "B = substitute(B, u₀);\n",
    "B = substitute(B, x₀);\n",
    "\n",
    "function convert_to_numeric(A::Array{Num})\n",
    "    A_num = [i.val for i in A]\n",
    "    A_num = convert(Array{Float64}, A_num)\n",
    "    \n",
    "    return A_num\n",
    "end\n",
    "\n",
    "# Assume that all states are measurable\n",
    "C = [1 1 0 0 0 1]"
   ]
  },
  {
   "cell_type": "code",
   "execution_count": 93,
   "id": "65c59866",
   "metadata": {},
   "outputs": [
    {
     "data": {
      "text/plain": [
       "1×4 Matrix{Int64}:\n",
       " 1  1  1  1"
      ]
     },
     "execution_count": 93,
     "metadata": {},
     "output_type": "execute_result"
    }
   ],
   "source": [
    "# vector of nonlinear eqns of motion\n",
    "nonlinear_eq_vec = [D(z), \n",
    "                    D(θ), \n",
    "                    equations(sys_unsimplified)[2].rhs,\n",
    "                    equations(sys_unsimplified)[3].rhs]\n",
    "\n",
    "state_vec = [z, θ, D(z), D(θ)]\n",
    "control_vec = [T, ϕ]\n",
    "\n",
    "# Calculate A,B matrices\n",
    "A = Symbolics.jacobian(nonlinear_eq_vec, state_vec)\n",
    "B = Symbolics.jacobian(nonlinear_eq_vec, control_vec)\n",
    "\n",
    "\n",
    "# Linearize around equilibrium point\n",
    "\n",
    "x₀ = Dict(\n",
    "    D(θ) => 0.0,\n",
    "    θ => 0.0,\n",
    "    D(z) => 0.0,\n",
    "    z => 0.0\n",
    ")\n",
    "\n",
    "u₀ = Dict(\n",
    "    T => 9.81,\n",
    "    ϕ => 0.0\n",
    ")\n",
    "\n",
    "A = substitute(A, u₀);\n",
    "A = substitute(A, x₀);\n",
    "B = substitute(B, u₀);\n",
    "B = substitute(B, x₀);\n",
    "\n",
    "function convert_to_numeric(A::Array{Num})\n",
    "    A_num = [i.val for i in A]\n",
    "    A_num = convert(Array{Float64}, A_num)\n",
    "    \n",
    "    return A_num\n",
    "end\n",
    "\n",
    "# Assume that all states are measurable\n",
    "C = [1 1 1 1]"
   ]
  },
  {
   "cell_type": "code",
   "execution_count": 92,
   "id": "640c4e95",
   "metadata": {},
   "outputs": [
    {
     "data": {
      "text/plain": [
       "StateSpace{Discrete{Float64}, Float64}\n",
       "A = \n",
       " 0.0  0.0  1.0  0.0\n",
       " 0.0  0.0  0.0  1.0\n",
       " 0.0  0.0  0.0  0.0\n",
       " 0.0  0.0  0.0  0.0\n",
       "B = \n",
       " 0.0    0.0\n",
       " 0.0    0.0\n",
       " 1.0    0.0\n",
       " 0.0  -16.35\n",
       "C = \n",
       " 1.0  1.0  1.0  1.0\n",
       "D = \n",
       " 0.0  0.0\n",
       "\n",
       "Sample Time: 0.1 (seconds)\n",
       "Discrete-time state-space model"
      ]
     },
     "execution_count": 92,
     "metadata": {},
     "output_type": "execute_result"
    }
   ],
   "source": [
    "# Substitute parameters\n",
    "A = substitute(A, params)\n",
    "B = substitute(B, params)\n",
    "\n",
    "A = convert_to_numeric(A)\n",
    "B = convert_to_numeric(B)\n",
    "\n",
    "Ts = 0.1\n",
    "sys_d = ss(A, B, C, 0, Ts)"
   ]
  },
  {
   "cell_type": "code",
   "execution_count": 95,
   "id": "2d19e8ac",
   "metadata": {},
   "outputs": [
    {
     "data": {
      "text/latex": [
       "$$ \\begin{equation}\n",
       "\\left[\n",
       "\\begin{array}{cc}\n",
       "0 & 0 \\\\\n",
       "0 & 0 \\\\\n",
       "\\frac{1}{m} & 0 \\\\\n",
       "0 & \\frac{ - 9.81 l}{I_{zz}} \\\\\n",
       "\\end{array}\n",
       "\\right]\n",
       "\\end{equation}\n",
       " $$"
      ],
      "text/plain": [
       "4×2 Matrix{Num}:\n",
       " 0          0\n",
       " 0          0\n",
       " 1.0 / m    0.0\n",
       " 0.0      (-9.81l) / I_zz"
      ]
     },
     "execution_count": 95,
     "metadata": {},
     "output_type": "execute_result"
    }
   ],
   "source": [
    "B"
   ]
  },
  {
   "cell_type": "markdown",
   "id": "99a65260",
   "metadata": {},
   "source": [
    "### LQR Controller"
   ]
  },
  {
   "cell_type": "code",
   "execution_count": 72,
   "id": "44578085",
   "metadata": {},
   "outputs": [
    {
     "data": {
      "text/plain": [
       "2×6 Matrix{Float64}:\n",
       " 5.50064e-30  3.45523e-34  -1.82538e-14  …  -6.25707e-18  7.22081e-16\n",
       " 1.38571e-16  7.89842e-31  -0.00364568       2.49926e-17  3.46746e-15"
      ]
     },
     "execution_count": 72,
     "metadata": {},
     "output_type": "execute_result"
    }
   ],
   "source": [
    "# Design controller\n",
    "Q       = Diagonal([1,1,5,3,3,5]) # Weighting matrix for state\n",
    "R       = Diagonal([10,2]) # Weighting matrix for input\n",
    "\n",
    "# Compute LQR gain matrix\n",
    "K      = lqr(Discrete, A,B,Q,R) # lqr(sys,Q,R) can also be used"
   ]
  },
  {
   "cell_type": "code",
   "execution_count": 141,
   "id": "aff7335a",
   "metadata": {},
   "outputs": [
    {
     "data": {
      "text/plain": [
       "CairoMakie.Screen{PDF}\n"
      ]
     },
     "execution_count": 141,
     "metadata": {},
     "output_type": "execute_result"
    }
   ],
   "source": [
    "# Simulation\n",
    "u(x,t)  = -K*x  # Form control law (u is a function of t and x), a constant input disturbance is affecting the system from t≧2.5\n",
    "t       = 0:Ts:5              # Time vector\n",
    "x0      = [2,10,0.1,0,0,0]               # Initial condition\n",
    "\n",
    "y, t, x, uout = lsim(sys_d,u,t,x0=x0)\n",
    "fig = rocket_plot_lsim(t, x, uout)\n",
    "save(\"lqr.pdf\", fig) "
   ]
  },
  {
   "cell_type": "markdown",
   "id": "110cec6a",
   "metadata": {},
   "source": [
    "## Uncertainity modelling"
   ]
  },
  {
   "cell_type": "code",
   "execution_count": 41,
   "id": "84f97173",
   "metadata": {},
   "outputs": [
    {
     "data": {
      "text/plain": [
       "1.0 ± 0.1 Particles{Float64, 2000}\n"
      ]
     },
     "execution_count": 41,
     "metadata": {},
     "output_type": "execute_result"
    }
   ],
   "source": [
    "# Create an uncertain Gaussian parameter\n",
    "ω = 1 ± 0.1 \n",
    "\n",
    "# # Create an uncertain uniform parameter\n",
    "# ζ = 0.3..0.4 "
   ]
  },
  {
   "cell_type": "code",
   "execution_count": 126,
   "id": "ba1d53bc",
   "metadata": {},
   "outputs": [
    {
     "data": {
      "text/plain": [
       "2×51 Matrix{Float64}:\n",
       " -1.5581e-15   2.39217e-7  -1.16878e-17  …  2.34551e-58  -1.16826e-68\n",
       " -4.58422e-5  -1.1692e-17  -3.44358e-7      3.13443e-68  -3.3764e-58"
      ]
     },
     "execution_count": 126,
     "metadata": {},
     "output_type": "execute_result"
    }
   ],
   "source": [
    "uout"
   ]
  },
  {
   "cell_type": "code",
   "execution_count": null,
   "id": "989304a3",
   "metadata": {},
   "outputs": [],
   "source": []
  }
 ],
 "metadata": {
  "kernelspec": {
   "display_name": "control_precompiled 1.9.1",
   "language": "julia",
   "name": "control_precompiled-1.9"
  },
  "language_info": {
   "file_extension": ".jl",
   "mimetype": "application/julia",
   "name": "julia",
   "version": "1.9.1"
  }
 },
 "nbformat": 4,
 "nbformat_minor": 5
}
