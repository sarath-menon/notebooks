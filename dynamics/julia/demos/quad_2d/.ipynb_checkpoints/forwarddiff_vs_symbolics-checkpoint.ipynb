{
 "cells": [
  {
   "cell_type": "code",
   "execution_count": 1,
   "id": "cd027c90-4b52-4a17-8647-1e031d588ee2",
   "metadata": {},
   "outputs": [
    {
     "name": "stderr",
     "output_type": "stream",
     "text": [
      "\u001b[32m\u001b[1m  Activating\u001b[22m\u001b[39m project at `~/Documents/eth_courses/notebooks/dynamics/julia/demos/quad_2d`\n"
     ]
    }
   ],
   "source": [
    "import Pkg; Pkg.activate(@__DIR__); Pkg.instantiate()"
   ]
  },
  {
   "cell_type": "code",
   "execution_count": 2,
   "id": "7eeb153d-0db0-474c-93b8-3f6ae067bb9b",
   "metadata": {},
   "outputs": [],
   "source": [
    "# Pkg.add(\"BenchmarkTools\");"
   ]
  },
  {
   "cell_type": "code",
   "execution_count": 18,
   "id": "4a9b3714-32ad-4d6c-856d-b439f653c224",
   "metadata": {},
   "outputs": [
    {
     "data": {
      "text/plain": [
       "linearize_system (generic function with 1 method)"
      ]
     },
     "execution_count": 18,
     "metadata": {},
     "output_type": "execute_result"
    }
   ],
   "source": [
    "using Revise\n",
    "using ModelingToolkit, LinearAlgebra\n",
    "using GLMakie\n",
    "using ForwardDiff\n",
    "using DifferentialEquations\n",
    "using StaticArrays\n",
    "using BenchmarkTools\n",
    "\n",
    "include(\"utilities.jl\")\n",
    "include(\"types.jl\")\n",
    "include(\"linearize.jl\")"
   ]
  },
  {
   "cell_type": "markdown",
   "id": "d9710790-e685-4532-b5d8-7d20e2e09159",
   "metadata": {},
   "source": [
    "## Forward-diff demo"
   ]
  },
  {
   "cell_type": "code",
   "execution_count": 45,
   "id": "d42e3e46-c5d1-4ea9-805c-59bb4b3df8e0",
   "metadata": {},
   "outputs": [
    {
     "name": "stdout",
     "output_type": "stream",
     "text": [
      "ẋ Analytical: -0.479425538604203\n",
      "ẋ Forward-diff: [-0.0, -0.0, -0.479425538604203]\n"
     ]
    }
   ],
   "source": [
    "let\n",
    "\n",
    "x(r, ω, t) = 1 * cos(1*t)\n",
    "x(var) = x(var[1],var[2], var[3])\n",
    "\n",
    "ẋ_fdiff =  ForwardDiff.gradient(x, [1, 1, 0.5])\n",
    "\n",
    "# compare with analytical derivative\n",
    "ẋ(r, ω, t) = -r * sin(ω*t) * ω\n",
    "\n",
    "ẋ_analytical = ẋ(1, 1, 0.5)\n",
    "\n",
    "# show results \n",
    "println(\"ẋ Analytical: $(ẋ_analytical)\")\n",
    "println(\"ẋ Forward-diff: $(ẋ_fdiff)\")\n",
    "\n",
    "end"
   ]
  },
  {
   "cell_type": "markdown",
   "id": "34f8ab59-600b-472c-8bdb-bf07570c2fcb",
   "metadata": {},
   "source": [
    "## Symbolics.jl function generation demo (theta_dot for 2d quadcopter differential flataness)"
   ]
  },
  {
   "cell_type": "code",
   "execution_count": 125,
   "id": "93778084-7f02-4fc0-a9c1-56c04375d2eb",
   "metadata": {},
   "outputs": [
    {
     "name": "stdout",
     "output_type": "stream",
     "text": [
      "θ: 0.04010658647214026\n",
      "θ̇: -0.002169918550128466\n"
     ]
    }
   ],
   "source": [
    "# let \n",
    "    \n",
    "function get_θ̇()\n",
    "    @variables t \n",
    "    D = Differential(t)\n",
    "    \n",
    "    @parameters ω m r y₀ z₀\n",
    "    \n",
    "    @constants g=-9.81\n",
    "\n",
    "    y = r*cos(ω*t) + y₀\n",
    "    z = r*sin(ω*t) + z₀\n",
    "\n",
    "    ẏ = D(y)\n",
    "    ż = D(z)\n",
    "\n",
    "    ÿ = D(ẏ)\n",
    "    z̈ = D(ż)\n",
    "    \n",
    "    θ = expand_derivatives(atan(-m*ÿ, m*(z̈ -g)))\n",
    "        \n",
    "    θ̇ = expand_derivatives(D(θ))\n",
    "\n",
    "     # build functions for θ and θ̇\n",
    "    f_θ_expr = build_function(θ, [y₀,z₀,r,ω,m,g,t])\n",
    "    f_θ̇_expr = build_function(θ̇, [y₀,z₀,r,ω,m,g,t])\n",
    "        \n",
    "    Base.remove_linenums!(f_θ_expr)\n",
    "    Base.remove_linenums!(f_θ̇_expr)\n",
    "        \n",
    "     f_θ = eval(f_θ_expr)\n",
    "     f_θ̇ = eval(f_θ̇_expr)\n",
    "\n",
    "#     # # to build C function\n",
    "#     # build_function(ÿ, [y,ω], target=Symbolics.CTarget())\n",
    "    \n",
    "     return f_θ, f_θ̇\n",
    "end\n",
    "\n",
    "let \n",
    "\n",
    "(f_θ, f_θ̇) = get_θ̇()\n",
    "\n",
    "params = (; ω=0.2*π, m=1.0 ,g=-9.81, r=1.0, y₀=2, z₀=2)\n",
    "\n",
    "t::Float64 = 0.2\n",
    "    \n",
    "θ::Float64= f_θ(SA_F64[params.y₀, params.z₀, params.r, params.ω, params.m, params.g, t])\n",
    "θ̇::Float64 = f_θ̇(SA_F64[params.y₀, params.z₀, params.r, params.ω, params.m, params.g, t])\n",
    "\n",
    "println(\"θ: \", θ);\n",
    "println(\"θ̇: \", θ̇);\n",
    "        \n",
    "end"
   ]
  },
  {
   "cell_type": "markdown",
   "id": "6d280369-3f46-4e61-b6f2-028a35ef1476",
   "metadata": {},
   "source": [
    "### Verification of f_θ "
   ]
  },
  {
   "cell_type": "code",
   "execution_count": 80,
   "id": "94ee94eb-99f6-4c44-a5bf-dbad1f736dcc",
   "metadata": {},
   "outputs": [
    {
     "name": "stdout",
     "output_type": "stream",
     "text": [
      "θ_analytical: 0.04010658647214026\n",
      "θ_symbolics: 0.04010658647214026\n"
     ]
    }
   ],
   "source": [
    "let\n",
    "\n",
    "t::Float64 = 0.2\n",
    "params = (; ω=0.2*π, m=1.0 ,g=-9.81, r=1.0, y₀=2, z₀=2)\n",
    "\n",
    "y(r,ω,t) = r*cos(ω*t)\n",
    "z(r,ω,t) = r*sin(ω*t)\n",
    "    \n",
    "ÿ(r,ω,t) = -y(r,ω,t) * (ω^2)\n",
    "z̈(r,ω,t) = -z(r,ω,t) * (ω^2)\n",
    "\n",
    "# Analytical output \n",
    "\n",
    "θ_analytical::Float64 =  atan(-params.m * ÿ(params.r, params.ω, t) , params.m * (z̈(params.r, params.ω, t)  + 9.81))\n",
    "\n",
    "# Output from symbolics.jl\n",
    "(f_θ, f_θ̇) = get_θ̇()\n",
    "θ_symbolics::Float64= f_θ(SA_F64[params.y₀, params.z₀, params.r, params.ω, params.m, params.g, t])\n",
    "\n",
    "# show results \n",
    "println(\"θ_analytical: \", θ_analytical)\n",
    "println(\"θ_symbolics: \", θ_symbolics)\n",
    "\n",
    "end"
   ]
  },
  {
   "cell_type": "markdown",
   "id": "d404c4d6-b772-4ee1-9b85-786c2f12aeb5",
   "metadata": {},
   "source": [
    "## Forwardfiff for (theta_dot for 2d quadcopter differential flataness)"
   ]
  },
  {
   "cell_type": "code",
   "execution_count": 49,
   "id": "80ef51a3-aaaf-4690-99de-597d0d4ea5c7",
   "metadata": {},
   "outputs": [
    {
     "ename": "LoadError",
     "evalue": "BoundsError: attempt to access NTuple{5, Float64} at index [7]",
     "output_type": "error",
     "traceback": [
      "BoundsError: attempt to access NTuple{5, Float64} at index [7]",
      "",
      "Stacktrace:",
      " [1] getindex(t::Tuple, i::Int64)",
      "   @ Base ~/sys_control.so:-1",
      " [2] getindex",
      "   @ ~/.julia/packages/StaticArrays/O6dgq/src/SArray.jl:62 [inlined]",
      " [3] (::var\"#157#158\")(ˍ₋arg1::SVector{5, Float64})",
      "   @ Main ./none:0",
      " [4] top-level scope",
      "   @ In[49]:29"
     ]
    }
   ],
   "source": [
    "let\n",
    "\n",
    "using ForwardDiff\n",
    "\n",
    "params = (; ω=0.2*π, m=1.0 ,g=-9.81, r=1.0)\n",
    "    \n",
    "y(r::Real,ω::Real,t::Real) = (r*cos(ω*t)) \n",
    "z(r::Real,ω::Real,t::Real) = (r*sin(ω*t)) \n",
    "    \n",
    "ÿ(r::Real,ω::Real,t::Real) = -y(r,ω,t) * (ω^2)\n",
    "z̈(r::Real,ω::Real,t::Real) = -z(r,ω,t) * (ω^2)\n",
    "    \n",
    "function θ(t::Real, params)\n",
    "        m::Float64 = params.m\n",
    "        r::Float64 = params.r\n",
    "        ω::Float64 = params.ω\n",
    "        g::Float64 = params.g\n",
    "        \n",
    "        return atan(-m * ÿ(r,ω,t), m*(z̈(r,ω,t) -g))\n",
    "end   \n",
    "\n",
    "θ(var::Real) = θ(var, params)\n",
    "\n",
    "# result from forwarddiff.jl\n",
    "θ̇_fdiff =  ForwardDiff.derivative(θ, 0.2)\n",
    "\n",
    "# result from symbolics.jl\n",
    "(f_θ, f_θ̇) = get_θ̇()\n",
    "θ_symbolics::Float64=  f_θ̇(SA_F64[params.r, params.ω, params.m, params.g, 0.2])\n",
    "\n",
    "# show results \n",
    "println(\"θ_forwarddiff: \", θ̇_fdiff)\n",
    "println(\"θ_symbolics: \", θ_symbolics)\n",
    "    \n",
    "end"
   ]
  },
  {
   "cell_type": "markdown",
   "id": "17386e96-2f0a-4c6c-bdfe-5246e05d7376",
   "metadata": {},
   "source": [
    "## Benchmarking "
   ]
  },
  {
   "cell_type": "markdown",
   "id": "1aacb1d8-c752-4dac-8302-a017dade3b55",
   "metadata": {},
   "source": [
    "### Symbolics.jl generated"
   ]
  },
  {
   "cell_type": "code",
   "execution_count": 529,
   "id": "94750ec7-b7a9-4311-8533-3e97e555c08c",
   "metadata": {},
   "outputs": [
    {
     "name": "stdout",
     "output_type": "stream",
     "text": [
      "  0.023545 seconds (43.67 k allocations: 2.766 MiB, 99.91% compilation time)\n",
      "elapsed time (ns):  23544527\n",
      "gc time (ns):       0\n",
      "bytes allocated:    2900702\n",
      "pool allocs:        43648\n",
      "non-pool GC allocs: 18\n",
      "minor collections:  0\n",
      "full collections:   0\n"
     ]
    },
    {
     "data": {
      "text/plain": [
       "-0.002169918550128466"
      ]
     },
     "execution_count": 529,
     "metadata": {},
     "output_type": "execute_result"
    }
   ],
   "source": [
    "let \n",
    "\n",
    "(f_θ, f_θ̇) = get_θ̇()\n",
    "\n",
    "params = (; ω=0.2*π, m=1.0 ,g=-9.81, r=1.0)\n",
    "    \n",
    "@timev f_θ̇(SA_F64[params.r, params.ω, params.m, params.g, 0.2])\n",
    "        \n",
    "end"
   ]
  },
  {
   "cell_type": "markdown",
   "id": "fb163074-5202-48f7-bea5-5e863ec3cef7",
   "metadata": {},
   "source": [
    "### Forwarddiff.jl"
   ]
  },
  {
   "cell_type": "code",
   "execution_count": 40,
   "id": "b8e193a1-db94-4737-8bcd-dfff24a58a83",
   "metadata": {},
   "outputs": [
    {
     "name": "stdout",
     "output_type": "stream",
     "text": [
      "  0.173887 seconds (39.10 k allocations: 2.597 MiB, 99.93% compilation time)\n",
      "elapsed time (ns):  173887269\n",
      "gc time (ns):       0\n",
      "bytes allocated:    2722947\n",
      "pool allocs:        39099\n",
      "non-pool GC allocs: 5\n",
      "minor collections:  0\n",
      "full collections:   0\n"
     ]
    },
    {
     "data": {
      "text/plain": [
       "-0.002169918550128466"
      ]
     },
     "execution_count": 40,
     "metadata": {},
     "output_type": "execute_result"
    }
   ],
   "source": [
    "let \n",
    "\n",
    "params = (; ω=0.2*π, m=1.0 ,g=-9.81, r=1.0)\n",
    "    \n",
    "y(r::Real,ω::Real,t::Real) = r*cos(ω*t)\n",
    "z(r::Real,ω::Real,t::Real) = r*sin(ω*t) \n",
    "    \n",
    "ÿ(r::Real,ω::Real,t::Real) = -y(r,ω,t) * (ω^2)\n",
    "z̈(r::Real,ω::Real,t::Real) = -z(r,ω,t) * (ω^2)\n",
    "    \n",
    "function θ(t::Real, params)\n",
    "        m::Float64 = params.m\n",
    "        r::Float64 = params.r\n",
    "        ω::Float64 = params.ω\n",
    "        g::Float64 = params.g\n",
    "        \n",
    "        return atan(-m * ÿ(r,ω,t), m*(z̈(r,ω,t) -g))\n",
    "end   \n",
    "\n",
    "θ(var::Real) = θ(var, params)\n",
    "\n",
    "@timev ForwardDiff.derivative(θ, 0.2);  \n",
    "    \n",
    "end"
   ]
  },
  {
   "cell_type": "code",
   "execution_count": 126,
   "id": "26f21884-e313-4597-ae1b-f18333557ee9",
   "metadata": {},
   "outputs": [
    {
     "data": {
      "text/plain": [
       "-0.002169918550128466"
      ]
     },
     "execution_count": 126,
     "metadata": {},
     "output_type": "execute_result"
    }
   ],
   "source": [
    "let \n",
    "\n",
    "params = (; ω=0.2*π, m=1.0 ,g=-9.81, r=1.0)\n",
    "    \n",
    "ÿ(r::Real,ω::Real,t::Real) = -r*cos(ω*t) * (ω^2)\n",
    "z̈(r::Real,ω::Real,t::Real) = -r*sin(ω*t) * (ω^2)\n",
    "    \n",
    "function θ(t::Real, params)\n",
    "        m::Float64 = params.m\n",
    "        r::Float64 = params.r\n",
    "        ω::Float64 = params.ω\n",
    "        g::Float64 = params.g\n",
    "        \n",
    "        return atan(-m * ÿ(r,ω,t), m*(z̈(r,ω,t) -g))\n",
    "end   \n",
    "\n",
    "θ(var::Real) = θ(var, params)\n",
    "\n",
    "ForwardDiff.derivative(θ, 0.2);  \n",
    "    \n",
    "end"
   ]
  },
  {
   "cell_type": "code",
   "execution_count": null,
   "id": "70c07aef-49e5-4f12-834d-4dfe58976c4f",
   "metadata": {},
   "outputs": [],
   "source": []
  }
 ],
 "metadata": {
  "kernelspec": {
   "display_name": "control_precompiled_2_threads 1.9.1",
   "language": "julia",
   "name": "control_precompiled_2_threads-1.9"
  },
  "language_info": {
   "file_extension": ".jl",
   "mimetype": "application/julia",
   "name": "julia",
   "version": "1.9.1"
  }
 },
 "nbformat": 4,
 "nbformat_minor": 5
}
