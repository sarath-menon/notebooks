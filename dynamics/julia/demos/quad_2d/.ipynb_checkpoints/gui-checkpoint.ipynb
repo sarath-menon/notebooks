{
 "cells": [
  {
   "cell_type": "code",
   "execution_count": 1,
   "id": "27788a81-597a-4ac0-8398-ad8c7fad8bda",
   "metadata": {},
   "outputs": [
    {
     "name": "stderr",
     "output_type": "stream",
     "text": [
      "\u001b[32m\u001b[1m  Activating\u001b[22m\u001b[39m project at `~/Documents/eth_courses/notebooks/dynamics/julia/demos/quad_2d`\n"
     ]
    }
   ],
   "source": [
    "import Pkg; Pkg.activate(@__DIR__); Pkg.instantiate();"
   ]
  },
  {
   "cell_type": "code",
   "execution_count": 75,
   "id": "79228a35-aa4c-4a31-9bdf-affac591ce19",
   "metadata": {},
   "outputs": [],
   "source": [
    "using GLMakie\n",
    "using Colors\n",
    "using GeometryBasics\n",
    "using Rotations\n",
    "using FileIO\n",
    "\n",
    "include(\"gui_utilities.jl\")\n",
    "\n",
    "GLMakie.activate!(inline=false)"
   ]
  },
  {
   "cell_type": "code",
   "execution_count": 76,
   "id": "a12ecd6f-8571-490c-87a1-f2f27ef9b4b3",
   "metadata": {},
   "outputs": [],
   "source": [
    "# Pkg.add(\"FileIO\")"
   ]
  },
  {
   "cell_type": "markdown",
   "id": "d699b578-d71b-45c7-b7f3-a6f67755e9fc",
   "metadata": {},
   "source": [
    "### Load Mesh"
   ]
  },
  {
   "cell_type": "code",
   "execution_count": 77,
   "id": "dd70db13-5041-4d9a-bbbc-0d75218e788c",
   "metadata": {},
   "outputs": [],
   "source": [
    "crazyflie_stl = load(assetpath(pwd() * \"/assets/cf2_assembly.obj\"));"
   ]
  },
  {
   "cell_type": "markdown",
   "id": "206c783b-ae7d-4393-85b0-ad231723ffc7",
   "metadata": {},
   "source": [
    "### Create figure "
   ]
  },
  {
   "cell_type": "code",
   "execution_count": 78,
   "id": "41c57804-b5a2-4b12-8fe3-29e4d25521f8",
   "metadata": {},
   "outputs": [
    {
     "data": {
      "text/plain": [
       "GLMakie.Screen(...)"
      ]
     },
     "execution_count": 78,
     "metadata": {},
     "output_type": "execute_result"
    }
   ],
   "source": [
    "set_theme!(\n",
    "#     font = \"Arial\", # inherited by layoutables if not overridden\n",
    "    fontsize = 25, # inherited by layoutables if not overridden\n",
    ")\n",
    "\n",
    "f = Figure(resolution = (2560, 1920))\n",
    "\n",
    "\n",
    "\n",
    "display(f)"
   ]
  },
  {
   "cell_type": "code",
   "execution_count": 126,
   "id": "21db3037-63ff-4929-b284-18ecdeac0cca",
   "metadata": {},
   "outputs": [],
   "source": [
    "# clear figure \n",
    "empty!(f)\n",
    "\n",
    "vis_params = (;aspect=1.0)\n",
    "axis_params = (x_low=-2, x_high=2, y_low=-2, y_high=2, z_low=-2, z_high=2, aspect_x=1, aspect_y=1, aspect_z=1, label_size=40)\n",
    "model_params = (;scale_x=10.5, scale_y=10.5, scale_z=10.5, initial_translation = Vec3f(0.0, 0.0, 0.0))\n",
    "plot_params = (;count=5, titles = [\"x position\", \"y position\", \"z position\", \"roll angle\", \"pitch angle\"],\n",
    "                            xlabels=[\"x pos [m]\", \"y pos[m]\", \"z pos[m]\", \"roll angle [°]\", \"pitch angle [°]\"])\n",
    "\n",
    "\n",
    "# Top level\n",
    "g_top = f[0, 1:2] = GridLayout(alignmode=Inside())\n",
    "g_left = f[1, 1] = GridLayout(alignmode=Outside(50))\n",
    "g_right = f[1, 2] = GridLayout()\n",
    "\n",
    "# Add title\n",
    "supertitle1 = Label(g_top[1, 1:2], \"Hover\", fontsize = 60)\n",
    "supertitle2 = Label(g_top[2, 1:2], \"Time = 10s\", fontsize = 40)\n",
    "\n",
    "# Right Grid \n",
    "g_right_plots = g_right[1, 1]= GridLayout()\n",
    "g_right_widgets = g_right[2, 1]=  GridLayout()\n",
    "\n",
    "# Left Grid \n",
    "g_left_plots = g_left[1, 1]= GridLayout()\n",
    "g_left_widgets = g_left[2, 1]=  GridLayout(tellwidth = false)\n",
    "\n",
    "\n",
    "# # red box for control panel \n",
    "# Box(f[1, 2], color = (:red, 0.2), strokewidth = 0)\n",
    "\n",
    "# # Column size adjust\n",
    "colsize!(g_left, 1,  Auto(1))\n",
    "colsize!(g_right, 1,  Auto(1))\n",
    "\n",
    "# 3d axis for airplane visualization\n",
    "ax1 = Axis3(g_left_plots[1, 1],\n",
    "    title = \"\",\n",
    "    limits =  (axis_params.x_low,axis_params.x_high, axis_params.y_low,axis_params.y_high, axis_params.z_low,axis_params.z_high),\n",
    "    aspect = (axis_params.aspect_x, axis_params.aspect_y, axis_params.aspect_z),\n",
    "    xlabel=\"x axis\", xlabelsize=axis_params.label_size,\n",
    "    ylabel=\"y axis\", ylabelsize=axis_params.label_size,\n",
    "    zlabel=\"z axis\", zlabelsize=axis_params.label_size,\n",
    "    halign =:left\n",
    ")\n",
    "\n",
    "# force 3d visualizer to have an aspect ratio of 1\n",
    "rowsize!(g_left, 1, Aspect(1, vis_params.aspect))\n",
    "\n",
    "m = mesh!(ax1, crazyflie_stl , color=:red)\n",
    "\n",
    "scale!(m, model_params.scale_x, model_params.scale_y, model_params.scale_z)\n",
    "\n",
    "# center model at the origin\n",
    "translate!(m, model_params.initial_translation)\n",
    "\n",
    "# orient along positive x axis\n",
    "rotate!(m, Vec3f(0, 1, 0), 0) # 0.5 rad around the y axis\n",
    "\n",
    "plots_right = Axis[]\n",
    "\n",
    "for i in 1:plot_params.count\n",
    "    plot = Axis(f, title=plot_params.titles[i], xlabel=plot_params.xlabels[i] )\n",
    "    push!(plots_right, plot)\n",
    "\n",
    "    g_right_plots[i,1] = plots_right[i]\n",
    "end\n",
    "\n",
    "# slider grid for timeline control\n",
    "timeline_slider = Slider(f, range = 0:0.01:10, startvalue = 0 , linewidth = 25.0, tellheight = false,\n",
    "                     halign =:left)\n",
    "\n",
    "#timeline button\n",
    "timeline_btn = Button(f, label = \"Pause\", tellwidth=false, halign =:center, fontsize=40)\n",
    "\n",
    "g_left_widgets[1,1] = timeline_slider\n",
    "g_left_widgets[2,1] = timeline_btn\n",
    "\n",
    "rowsize!(g_right, 2,  Auto(0.1))\n",
    "\n",
    "attitude_reset_btn = Button(f, label = \"Reset Attitude\", tellwidth=false)\n",
    "\n",
    "g_right_widgets[1,1] = attitude_reset_btn\n",
    "g_right[2, 1] = g_right_widgets\n",
    "\n",
    "\n",
    "trim!(f.layout)"
   ]
  },
  {
   "cell_type": "code",
   "execution_count": null,
   "id": "f9ac4d57-3198-4951-8d33-9467f55014d9",
   "metadata": {},
   "outputs": [],
   "source": []
  }
 ],
 "metadata": {
  "kernelspec": {
   "display_name": "control_precompiled 1.9.1",
   "language": "julia",
   "name": "control_precompiled-1.9"
  },
  "language_info": {
   "file_extension": ".jl",
   "mimetype": "application/julia",
   "name": "julia",
   "version": "1.9.1"
  }
 },
 "nbformat": 4,
 "nbformat_minor": 5
}
