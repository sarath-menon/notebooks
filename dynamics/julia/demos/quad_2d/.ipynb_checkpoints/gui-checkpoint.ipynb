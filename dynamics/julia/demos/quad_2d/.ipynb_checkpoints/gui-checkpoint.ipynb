{
 "cells": [
  {
   "cell_type": "code",
   "execution_count": 1,
   "id": "27788a81-597a-4ac0-8398-ad8c7fad8bda",
   "metadata": {},
   "outputs": [
    {
     "name": "stderr",
     "output_type": "stream",
     "text": [
      "\u001b[32m\u001b[1m  Activating\u001b[22m\u001b[39m project at `~/Documents/eth_courses/notebooks/dynamics/julia/demos/quad_2d`\n"
     ]
    }
   ],
   "source": [
    "import Pkg; Pkg.activate(@__DIR__); Pkg.instantiate();"
   ]
  },
  {
   "cell_type": "code",
   "execution_count": 12,
   "id": "79228a35-aa4c-4a31-9bdf-affac591ce19",
   "metadata": {},
   "outputs": [],
   "source": [
    "using GLMakie\n",
    "using Colors\n",
    "using GeometryBasics\n",
    "using Rotations\n",
    "using FileIO\n",
    "\n",
    "include(\"gui_utilities.jl\")\n",
    "\n",
    "GLMakie.activate!(inline=false)"
   ]
  },
  {
   "cell_type": "code",
   "execution_count": 13,
   "id": "a12ecd6f-8571-490c-87a1-f2f27ef9b4b3",
   "metadata": {},
   "outputs": [
    {
     "name": "stderr",
     "output_type": "stream",
     "text": [
      "\u001b[32m\u001b[1m   Resolving\u001b[22m\u001b[39m package versions...\n",
      "\u001b[32m\u001b[1m  No Changes\u001b[22m\u001b[39m to `~/Documents/eth_courses/notebooks/dynamics/julia/demos/quad_2d/Project.toml`\n",
      "\u001b[32m\u001b[1m  No Changes\u001b[22m\u001b[39m to `~/Documents/eth_courses/notebooks/dynamics/julia/demos/quad_2d/Manifest.toml`\n"
     ]
    }
   ],
   "source": [
    "Pkg.add(\"FileIO\")"
   ]
  },
  {
   "cell_type": "markdown",
   "id": "d699b578-d71b-45c7-b7f3-a6f67755e9fc",
   "metadata": {},
   "source": [
    "### Load Mesh"
   ]
  },
  {
   "cell_type": "code",
   "execution_count": null,
   "id": "dd70db13-5041-4d9a-bbbc-0d75218e788c",
   "metadata": {},
   "outputs": [],
   "source": [
    "crazyflie_stl = load(assetpath(pwd() * \"/assets/cf2_assembly.obj\"));"
   ]
  },
  {
   "cell_type": "code",
   "execution_count": null,
   "id": "21db3037-63ff-4929-b284-18ecdeac0cca",
   "metadata": {},
   "outputs": [],
   "source": []
  }
 ],
 "metadata": {
  "kernelspec": {
   "display_name": "control_precompiled 1.9.1",
   "language": "julia",
   "name": "control_precompiled-1.9"
  },
  "language_info": {
   "file_extension": ".jl",
   "mimetype": "application/julia",
   "name": "julia",
   "version": "1.9.1"
  }
 },
 "nbformat": 4,
 "nbformat_minor": 5
}
