{
 "cells": [
  {
   "cell_type": "code",
   "execution_count": 1,
   "id": "27788a81-597a-4ac0-8398-ad8c7fad8bda",
   "metadata": {},
   "outputs": [
    {
     "name": "stderr",
     "output_type": "stream",
     "text": [
      "\u001b[32m\u001b[1m  Activating\u001b[22m\u001b[39m project at `~/Documents/eth_courses/notebooks/dynamics/julia/demos/quad_2d`\n"
     ]
    }
   ],
   "source": [
    "import Pkg; Pkg.activate(@__DIR__); Pkg.instantiate();"
   ]
  },
  {
   "cell_type": "code",
   "execution_count": 50,
   "id": "79228a35-aa4c-4a31-9bdf-affac591ce19",
   "metadata": {},
   "outputs": [
    {
     "data": {
      "text/plain": [
       "ReferenceFrameRotations.Quaternion"
      ]
     },
     "execution_count": 50,
     "metadata": {},
     "output_type": "execute_result"
    }
   ],
   "source": [
    "using GLMakie\n",
    "using Colors\n",
    "using GeometryBasics\n",
    "using ReferenceFrameRotations\n",
    "using FileIO\n",
    "using CSV, DataFrames\n",
    "using NativeFileDialog\n",
    "import YAML\n",
    "\n",
    "include(\"gui_utilities.jl\")\n",
    "include(\"yaml_utilities.jl\")\n",
    "\n",
    "GLMakie.activate!(inline=false)\n",
    "\n",
    "Quaternion = ReferenceFrameRotations.Quaternion"
   ]
  },
  {
   "cell_type": "code",
   "execution_count": 3,
   "id": "a12ecd6f-8571-490c-87a1-f2f27ef9b4b3",
   "metadata": {},
   "outputs": [],
   "source": [
    "# Pkg.add(\"YAML\")"
   ]
  },
  {
   "cell_type": "markdown",
   "id": "d699b578-d71b-45c7-b7f3-a6f67755e9fc",
   "metadata": {},
   "source": [
    "### Load Mesh"
   ]
  },
  {
   "cell_type": "code",
   "execution_count": 48,
   "id": "dd70db13-5041-4d9a-bbbc-0d75218e788c",
   "metadata": {},
   "outputs": [],
   "source": [
    "crazyflie_stl = load(assetpath(pwd() * \"/assets/cf2_assembly.obj\"));"
   ]
  },
  {
   "cell_type": "markdown",
   "id": "a3128d19-f350-4bde-92b3-4a68ce0681b6",
   "metadata": {},
   "source": [
    "## Read CSV"
   ]
  },
  {
   "cell_type": "code",
   "execution_count": 80,
   "id": "dba7bdf3-012e-4e23-b0c7-81498f5ab6bf",
   "metadata": {},
   "outputs": [
    {
     "data": {
      "text/plain": [
       "Quaternion{Float64}:\n",
       "  + 1.0 + 0.0⋅\u001b[1mi\u001b[0m + 0.0⋅\u001b[1mj\u001b[0m + 0.0⋅\u001b[1mk\u001b[0m"
      ]
     },
     "execution_count": 80,
     "metadata": {},
     "output_type": "execute_result"
    }
   ],
   "source": [
    "# reading the csv file\n",
    "df = CSV.read(\"logs/log1.csv\", DataFrame);\n",
    "\n",
    "# read settings file \n",
    "plot_yaml = YAML.load_file(\"plot.yml\"; dicttype=Dict{Symbol,Any})\n",
    "sim_yaml = YAML.load_file(\"sim.yml\"; dicttype=Dict{Symbol,Any})\n",
    "\n",
    "plot_params = recursive_dict_to_namedtuple(plot_yaml);\n",
    "sim_params = recursive_dict_to_namedtuple(sim_yaml);"
   ]
  },
  {
   "cell_type": "code",
   "execution_count": 65,
   "id": "40b7d60b-dd0a-4538-b464-abf76ab604e6",
   "metadata": {},
   "outputs": [
    {
     "data": {
      "text/plain": [
       "Quaternion{Float64}:\n",
       "  + 1.0 + 0.0⋅\u001b[1mi\u001b[0m + 0.0⋅\u001b[1mj\u001b[0m + 0.0⋅\u001b[1mk\u001b[0m"
      ]
     },
     "execution_count": 65,
     "metadata": {},
     "output_type": "execute_result"
    }
   ],
   "source": [
    "q = Quaternion{Float64}(I)  "
   ]
  },
  {
   "cell_type": "markdown",
   "id": "206c783b-ae7d-4393-85b0-ad231723ffc7",
   "metadata": {},
   "source": [
    "### Create figure "
   ]
  },
  {
   "cell_type": "code",
   "execution_count": 68,
   "id": "41c57804-b5a2-4b12-8fe3-29e4d25521f8",
   "metadata": {},
   "outputs": [
    {
     "data": {
      "text/plain": [
       "GLMakie.Screen(...)"
      ]
     },
     "execution_count": 68,
     "metadata": {},
     "output_type": "execute_result"
    }
   ],
   "source": [
    "set_theme!(\n",
    "#     font = \"Arial\", # inherited by layoutables if not overridden\n",
    "    fontsize = 25, # inherited by layoutables if not overridden\n",
    ")\n",
    "\n",
    "f = Figure(resolution = get_primary_resolution(1))\n",
    "\n",
    "display(f)"
   ]
  },
  {
   "cell_type": "code",
   "execution_count": 78,
   "id": "21db3037-63ff-4929-b284-18ecdeac0cca",
   "metadata": {},
   "outputs": [],
   "source": [
    "include(\"gui_utilities.jl\")\n",
    "include(\"yaml_utilities.jl\")\n",
    "\n",
    "# read settings file \n",
    "params_yaml = YAML.load_file(\"plot.yml\"; dicttype=Dict{Symbol,Any})\n",
    "plot_params = recursive_dict_to_namedtuple(params_yaml );\n",
    "\n",
    "# clear figure \n",
    "empty!(f)\n",
    "\n",
    "# Params --------------------------------------------\n",
    "\n",
    "vis_params = plot_params.visualizer\n",
    "graph_params = plot_params.graph\n",
    "\n",
    "configs_vec = get_configs_vec(plot_params.graph.axis.configs)\n",
    "\n",
    "\n",
    "# Observables -------------------------------------------------\n",
    "sim_time_obs = Observable{Float64}(0.0)\n",
    "sim_state_obs = Observable{Bool}(false)\n",
    "\n",
    "# Top level\n",
    "g_top = f[0, 1:2] = GridLayout()\n",
    "g_left = f[1, 1] = GridLayout(alignmode=Outside(50))\n",
    "g_right = f[1, 2] = GridLayout()\n",
    "\n",
    "# Add title\n",
    "supertitle1 = Label(g_top[1, 1:2], plot_params.title.name, fontsize = 60)\n",
    "time_title = Label(g_top[2, 1:2], \"Time = \"* string(sim_time_obs[]) *\" s\", fontsize = 40)\n",
    "\n",
    "# Box(f[0, 1:2], color = (:red, 0.2), strokewidth = 0)\n",
    "\n",
    "# Right Grid \n",
    "g_right_plots = g_right[1, 1]= GridLayout()\n",
    "g_state_plots = g_right_plots[1, 1]= GridLayout()\n",
    "g_control_plots = g_right_plots[2, 1]= GridLayout()\n",
    "\n",
    "g_right_widgets = g_right[2, 1]=  GridLayout()\n",
    "\n",
    "# Left Grid \n",
    "g_left_plots = g_left[1, 1]= GridLayout()\n",
    "g_left_widgets = g_left[2, 1]=  GridLayout(tellwidth = false)\n",
    "\n",
    "\n",
    "# # Column size adjust\n",
    "colsize!(g_left, 1,  Auto(1))\n",
    "colsize!(g_right, 1,  Auto(1))\n",
    "\n",
    "# 3d axis for airplane visualization\n",
    "vis_ax = Axis3(g_left_plots[1, 1],\n",
    "    title = vis_params.title,\n",
    "    limits =  (vis_params.axis.low,vis_params.axis.high, vis_params.axis.low,vis_params.axis.high, vis_params.axis.low,vis_params.axis.high),\n",
    "    aspect = (vis_params.axis.aspect_x, vis_params.axis.aspect_y, vis_params.axis.aspect_z),\n",
    "    xlabel= vis_params.axis.labels.x, xlabelsize=vis_params.axis.label_size,\n",
    "    ylabel= vis_params.axis.labels.y, ylabelsize=vis_params.axis.label_size,\n",
    "    zlabel= vis_params.axis.labels.z, zlabelsize=vis_params.axis.label_size,\n",
    "    halign =:left,\n",
    "    xspinecolor_1 = :white,\n",
    "    xspinecolor_3 = :white,\n",
    "    yspinecolor_1 = :white,\n",
    "    yspinecolor_3 = :white,\n",
    "    zspinecolor_1 = :white,\n",
    "    zspinecolor_3 = :white,\n",
    "    xspinewidth= vis_params.axis.spine_width,\n",
    "    yspinewidth= vis_params.axis.spine_width,\n",
    "    zspinewidth= vis_params.axis.spine_width,\n",
    "    xlabeloffset= vis_params.axis.label_offset,\n",
    "    ylabeloffset= vis_params.axis.label_offset,\n",
    "    zlabeloffset= vis_params.axis.label_offset,\n",
    "    xgridwidth = vis_params.axis.grid_width,\n",
    "    ygridwidth = vis_params.axis.grid_width,\n",
    "    zgridwidth = vis_params.axis.grid_width,\n",
    ")\n",
    "\n",
    "# force 3d visualizer to have an aspect ratio of 1\n",
    "rowsize!(g_left, 1, Aspect(1, 1.0))\n",
    "\n",
    "m = mesh!(vis_ax, crazyflie_stl , color=:red)\n",
    "\n",
    "scale!(m, vis_params.mesh.scale, vis_params.mesh.scale, vis_params.mesh.scale)\n",
    "\n",
    "# center mesh at the origin\n",
    "translate!(m, Vec3f(vis_params.mesh.initial_translation[1], vis_params.mesh.initial_translation[2], vis_params.mesh.initial_translation[3]))\n",
    "\n",
    "# apply initial orientation\n",
    "rotate_mesh(to_quaternion(sim_params.vehicle.initial_state.q_BI))\n",
    "\n",
    "state_plots = Axis[]\n",
    "control_plots = Axis[]\n",
    "\n",
    "for i in 1:graph_params.n_state\n",
    "    plot = Axis(f, ylabel=graph_params.ylabels[i],titlesize=graph_params.titlesize )\n",
    "    push!(state_plots, plot)\n",
    "\n",
    "    # g_right_plots[i,1] = state_plots[i]\n",
    "    g_state_plots[i,1] = state_plots[i]\n",
    "end\n",
    "\n",
    "for i in 1:graph_params.n_control\n",
    "    plot = Axis(f,\n",
    "    # ylabel=graph_params.ylabels[i] \n",
    "    )\n",
    "    push!(control_plots, plot)\n",
    "\n",
    "    # g_right_plots[i,1] = state_plots[i]\n",
    "    g_control_plots[i,1] = control_plots[i]\n",
    "end\n",
    "\n",
    "# slider grid for timeline control\n",
    "timeline_slider = Slider(f, range = 0:0.01:10, startvalue = 0 , linewidth = 25.0, tellheight = false,\n",
    "                     halign =:left)\n",
    "\n",
    "#timeline button\n",
    "timeline_btn = Button(f, label = \"Play\", tellwidth=false, halign =:center, fontsize=40)\n",
    "timeline_left_label = Label(f,\"0.0 s\", justification = :left)\n",
    "timeline_right_label = Label(f,\"10.0 s\", justification = :left)\n",
    "\n",
    "g_left_widgets[1,1] = timeline_left_label\n",
    "g_left_widgets[1,2] = timeline_slider\n",
    "g_left_widgets[1,3] = timeline_right_label\n",
    "\n",
    "g_left_widgets[2,:] = timeline_btn\n",
    "\n",
    "    \n",
    "# how much to shrink control plots grid\n",
    "rowsize!(g_right_plots, 2,  Auto(0.2))\n",
    "\n",
    "# shrink right widgets grid to make space for plots\n",
    "# rowsize!(g_right, 2,  Auto(0.2))\n",
    "\n",
    "# attitude reset button\n",
    "attitude_reset_btn = Button(f, label = \"Reset Attitude\", tellwidth=false)\n",
    "g_right_widgets[1,1] = attitude_reset_btn\n",
    "\n",
    "# dropdown menu\n",
    "config_menu = Menu(f,\n",
    "    options = configs_vec,\n",
    "    default = \"yzθ\")\n",
    "\n",
    "g_right_widgets[1,2] = config_menu\n",
    "\n",
    "# toggle buttons\n",
    "toggles = [Toggle(f, active = active) for active in [true, true, true]]\n",
    "labels = [Label(f, label) for label in [\"y\", \"z\", \"θ\"]]\n",
    "\n",
    "g_right_toggles = g_right_widgets[1,3] =  GridLayout()\n",
    "\n",
    "g_right_toggles[1,1] = grid!(hcat(toggles[1], labels[1]), tellheight = false, tellwidth = false)\n",
    "g_right_toggles[1,2] = grid!(hcat(toggles[2], labels[2]), tellheight = false, tellwidth = false)\n",
    "g_right_toggles[1,3] = grid!(hcat(toggles[3], labels[3]), tellheight = false, tellwidth = false)\n",
    "\n",
    "g_right[2, 1] = g_right_widgets\n",
    "\n",
    "\n",
    "# event handling\n",
    "on(config_menu.selection) do config\n",
    "    plot_trajectory(configs_vec, config)\n",
    "end\n",
    "\n",
    "on(timeline_btn.clicks) do clicks\n",
    "\n",
    "    # if sim is not already running, start sim\n",
    "    if sim_state_obs[] ==false\n",
    "        \n",
    "        # set sim state flag to true\n",
    "        sim_state_obs[] = true\n",
    "\n",
    "        # change button text to show \"Stop\"\n",
    "        timeline_btn.label = \"Stop\"\n",
    "\n",
    "        # start sim task asynchronously\n",
    "        sim_task =  @async plot_3d_trajectory(duration=3.0, sim_time_obs=sim_time_obs, sim_state_obs=sim_state_obs)\n",
    "        #plot_3d_trajectory(duration=3.0, sim_time_obs=sim_time_obs, sim_state_obs=sim_state_obs)\n",
    "        \n",
    "        @async begin \n",
    "            # wait for 3d trajectory plotting to finish\n",
    "             wait(sim_task)\n",
    "            \n",
    "            # set sim state flag to false \n",
    "            sim_state_obs[] = false\n",
    "    \n",
    "            # change button text to show \"Play\"\n",
    "            timeline_btn.label = \"Play\"\n",
    "        end\n",
    "\n",
    "    else\n",
    "        # if sim is currently running, set sim state flag to false\n",
    "        sim_state_obs[] = false\n",
    "    end\n",
    "\n",
    "end\n",
    "\n",
    "\n",
    "# lift(timeline_slider.value) do val\n",
    "#     # sim_time_obs[] = val\n",
    "# end\n",
    "\n",
    "on(sim_time_obs) do time\n",
    "    time_title.text = \"Time: \" * string(time) * \" s\"\n",
    "end\n",
    "\n",
    "time_marker = lift(sim_time_obs) do time_val\n",
    "    time_val\n",
    "end\n",
    "\n",
    "# initial setup\n",
    "# plot_trajectory(config_dict, config_menu.selection[])\n",
    "plot_trajectory(configs_vec, config_menu.selection[])\n",
    "\n",
    "traj_count_n = 1000\n",
    "lines!(vis_ax, zeros(traj_count_n), df.y_req[1:traj_count_n], df.z_req[1:traj_count_n], linestyle=:dash)\n",
    "\n",
    "trim!(f.layout)\n",
    "\n",
    "# display(f)"
   ]
  },
  {
   "cell_type": "code",
   "execution_count": 34,
   "id": "5b643068-09f3-45f6-a279-4455562cd637",
   "metadata": {},
   "outputs": [
    {
     "data": {
      "text/plain": [
       "ReferenceFrameRotations.Quaternion"
      ]
     },
     "execution_count": 34,
     "metadata": {},
     "output_type": "execute_result"
    }
   ],
   "source": []
  },
  {
   "cell_type": "markdown",
   "id": "b9c2fad6-2d43-4313-a1b3-b73c8242731b",
   "metadata": {},
   "source": [
    "# Second window "
   ]
  },
  {
   "cell_type": "code",
   "execution_count": 10,
   "id": "d5f3fa1f-8088-47fc-911d-2bf4ad333ea6",
   "metadata": {},
   "outputs": [],
   "source": [
    "fig = Figure(resolution=(1080, 720))\n",
    "g_right = fig[1, 1] = GridLayout()\n",
    "\n",
    "menu1 = Menu(fig, options = [\"Cascaded Controller\", \"Monolithic\", \"C\"], tellwidth=false)\n",
    "menu2 = Menu(fig, options = [\"PID\", \"LQR\", \"C\"], tellwidth=false)\n",
    "\n",
    "g_right[1, 1] = hgrid!(\n",
    "    Label(fig, \"Controller Architecture: \"), menu1)\n",
    "\n",
    "g_right[2, 1] = hgrid!(\n",
    "    Label(fig, \"Controller : \"), menu2)\n",
    "\n",
    "\n",
    "button1 = Button(fig[2, 1], label = \"Open file\", tellwidth=false)\n",
    "button2 = Button(fig[3, 1], label = \"Open folder\", tellwidth=false)\n",
    "\n",
    "on(button1.clicks) do n\n",
    "    @async begin\n",
    "        f = pick_file()\n",
    "        @show f\n",
    "    end\n",
    "    \n",
    "end\n",
    "\n",
    "on(button2.clicks) do n\n",
    "    @async begin\n",
    "        f = pick_folder()\n",
    "        @show f\n",
    "    end\n",
    "end\n",
    "\n",
    "\n",
    "# ---------------------------------------------\n",
    "# screen properties   \n",
    "flag =  @isdefined screen2\n",
    "if flag==true\n",
    "    GLMakie.destroy!(screen2)\n",
    "end\n",
    "\n",
    "screen2 = GLMakie.Screen()\n",
    "display(screen2, fig)\n",
    "GLMakie.set_screen_visibility!(screen2, true)"
   ]
  },
  {
   "cell_type": "code",
   "execution_count": 42,
   "id": "759a7a5f-3f1d-43f0-8ed3-b249a97d2997",
   "metadata": {},
   "outputs": [
    {
     "data": {
      "text/plain": [
       "GLMakie.Screen(...)"
      ]
     },
     "execution_count": 42,
     "metadata": {},
     "output_type": "execute_result"
    }
   ],
   "source": [
    "f = Figure(resolution = (800, 800))\n",
    "\n",
    "for i in 1:3, j in 1:3\n",
    "    Axis(f[i, j])\n",
    "end\n",
    "\n",
    "Label(f[0, :], text = \"First Supertitle\", fontsize = 20)\n",
    "Label(f[-1, :], text = \"Second Supertitle\", fontsize = 30)\n",
    "Label(f[-2, :], text = \"Third Supertitle\", fontsize = 40)\n",
    "\n",
    "display(f)"
   ]
  },
  {
   "cell_type": "code",
   "execution_count": null,
   "id": "f1fd3341-1008-4ed7-a101-f0afa4152a89",
   "metadata": {},
   "outputs": [],
   "source": []
  }
 ],
 "metadata": {
  "kernelspec": {
   "display_name": "control_precompiled 1.9.1",
   "language": "julia",
   "name": "control_precompiled-1.9"
  },
  "language_info": {
   "file_extension": ".jl",
   "mimetype": "application/julia",
   "name": "julia",
   "version": "1.9.1"
  }
 },
 "nbformat": 4,
 "nbformat_minor": 5
}
