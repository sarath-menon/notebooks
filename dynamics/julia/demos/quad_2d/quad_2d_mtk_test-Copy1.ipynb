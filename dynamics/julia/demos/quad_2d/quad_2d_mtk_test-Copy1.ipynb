{
 "cells": [
  {
   "cell_type": "code",
   "execution_count": 14,
   "id": "cd027c90-4b52-4a17-8647-1e031d588ee2",
   "metadata": {},
   "outputs": [
    {
     "name": "stderr",
     "output_type": "stream",
     "text": [
      "\u001b[32m\u001b[1m  Activating\u001b[22m\u001b[39m project at `~/Documents/eth_courses/notebooks/dynamics/julia/demos/quad_2d`\n"
     ]
    }
   ],
   "source": [
    "import Pkg; Pkg.activate(@__DIR__); Pkg.instantiate()"
   ]
  },
  {
   "cell_type": "code",
   "execution_count": 26,
   "id": "4a9b3714-32ad-4d6c-856d-b439f653c224",
   "metadata": {},
   "outputs": [
    {
     "data": {
      "text/plain": [
       "SafetyBox2"
      ]
     },
     "execution_count": 26,
     "metadata": {},
     "output_type": "execute_result"
    }
   ],
   "source": [
    "using ModelingToolkit, LinearAlgebra\n",
    "using GLMakie\n",
    "using ControlSystems\n",
    "using DifferentialEquations\n",
    "using ForwardDiff\n",
    "\n",
    "include(\"utilities.jl\")\n",
    "include(\"types.jl\")"
   ]
  },
  {
   "cell_type": "markdown",
   "id": "784804bb-7c90-4230-911f-077747ade1b5",
   "metadata": {},
   "source": [
    "## Utilities "
   ]
  },
  {
   "cell_type": "code",
   "execution_count": 2,
   "id": "5e93e394-e375-4f08-8fd1-4ed8ac5c0e04",
   "metadata": {},
   "outputs": [],
   "source": [
    "# # 2D rotation matrix\n",
    "# R_2D(θ::Float64) = [cos(θ) -sin(θ); sin(θ) cos(θ)];"
   ]
  },
  {
   "cell_type": "code",
   "execution_count": 166,
   "id": "5395e608-d530-4715-9969-fc344368abef",
   "metadata": {},
   "outputs": [],
   "source": [
    "motor_left = BLDCMotor(0, 12.5)\n",
    "motor_right = BLDCMotor(0, 12.5)\n",
    "\n",
    "quad_obj = Quad2d(1.0, 0.1, 0.003, motor_left, motor_right)\n",
    "sim_params = SimParams(6,2,3, 0.01) \n",
    "safety_box = SafetyBox(x_min=-10, x_max=10, y_min=-10, y_max=10, z_min=0, z_max=20);"
   ]
  },
  {
   "cell_type": "code",
   "execution_count": 167,
   "id": "f87263c4-d386-4ef0-a0ef-a6c2401e754e",
   "metadata": {},
   "outputs": [
    {
     "data": {
      "text/plain": [
       "SafetyBox3"
      ]
     },
     "execution_count": 167,
     "metadata": {},
     "output_type": "execute_result"
    }
   ],
   "source": [
    "struct SafetyBox3\n",
    "    x_max::Float64\n",
    "    y_max::Float64\n",
    "    z_max::Float64\n",
    "\n",
    "    x_min::Float64\n",
    "    y_min::Float64\n",
    "    z_min::Float64\n",
    "\n",
    "    function SafetyBox3(;x_max=x_max,y_max=y_max,z_max=z_max,x_min=x_min,y_min=y_min,z_min=z_min)\n",
    "        new(x_max,y_max,z_max,x_min,y_min,z_min)\n",
    "    end\n",
    "    \n",
    "end\n",
    "SafetyBox = SafetyBox3\n"
   ]
  },
  {
   "cell_type": "markdown",
   "id": "80965504-11cb-4aea-9ff8-d5e13811a19e",
   "metadata": {},
   "source": [
    "## Dynamics using ModellingToolkit"
   ]
  },
  {
   "cell_type": "markdown",
   "id": "8d10f8d4-7edb-4d8d-9057-0d6faa5bd3fc",
   "metadata": {},
   "source": [
    "## Plant"
   ]
  },
  {
   "cell_type": "code",
   "execution_count": 155,
   "id": "24027685-cb12-4872-898f-2734593f0d3c",
   "metadata": {},
   "outputs": [
    {
     "data": {
      "text/plain": [
       "Plant (generic function with 1 method)"
      ]
     },
     "execution_count": 155,
     "metadata": {},
     "output_type": "execute_result"
    }
   ],
   "source": [
    "function Plant(;name, l, I_xx, m)\n",
    "    \n",
    "    # define parameters and variables\n",
    "    \n",
    "    params = @parameters l=l I_xx=I_xx m=m\n",
    "    \n",
    "    # state variables\n",
    "    @variables t (X(t))[1:6, 1:1]=0 (Y(t))[1:6]=0 \n",
    "    \n",
    "    # control input\n",
    "    @variables (U(t))[1:2]=0 [input=true]\n",
    "    \n",
    "    @constants g=9.81 \n",
    "    \n",
    "    # define operators\n",
    "    D = Differential(t)\n",
    "\n",
    "    f_1 = U[1]\n",
    "    f_2 = U[2]\n",
    "\n",
    "    f_thrust = f_1 + f_2\n",
    "    a_thrust = (f_thrust / m) # mass normalized thrust \n",
    "    \n",
    "    τ = (f_1 - f_2) * l\n",
    "    \n",
    "    # dynamics equations\n",
    "    \n",
    "    # gravity \n",
    "    g_vec = [0;g]\n",
    "    \n",
    "    # create custom rotation matrix\n",
    "    R_2D(θ::Real) = [cos(θ) -sin(θ); sin(θ) cos(θ)];\n",
    "\n",
    "    y = X[1]\n",
    "    z = X[2]\n",
    "    θ = X[3]\n",
    "    ẏ = X[4]\n",
    "    ż = X[5]\n",
    "    θ̇ = X[6]\n",
    "    \n",
    "    # translation E.O.M\n",
    "    a = [0; a_thrust]\n",
    "    (ÿ, z̈) = R_2D(θ)*a - g_vec \n",
    "\n",
    "    # rotational E.O.M\n",
    "    θ̈ = τ / I_xx\n",
    "\n",
    "    X_dot = [ẏ; ż; θ̇; ÿ; z̈; θ̈]\n",
    "\n",
    "    eqn1 = D.(X) .~ X_dot\n",
    "\n",
    "    eqn2 = Y .~ X\n",
    "\n",
    "    eqs = vcat(eqn1, eqn2)\n",
    "    \n",
    "    ODESystem(eqs, t; name)\n",
    "end"
   ]
  },
  {
   "cell_type": "code",
   "execution_count": 156,
   "id": "790e9fd7-3585-4f9a-8c3d-c9d0143226c7",
   "metadata": {},
   "outputs": [],
   "source": [
    "# Plant(;name=:quad_2d, l=0.1, I_xx=0.003, m=1.0)"
   ]
  },
  {
   "cell_type": "markdown",
   "id": "d377e4bd-2743-42ac-a401-1a3dc6b80c70",
   "metadata": {},
   "source": [
    "## Controller"
   ]
  },
  {
   "cell_type": "markdown",
   "id": "db8b0c5d-c580-4eab-8b24-61bb87de1457",
   "metadata": {},
   "source": [
    "### Zero order hold for digital controller"
   ]
  },
  {
   "cell_type": "code",
   "execution_count": 132,
   "id": "f4b22c23-62c3-4887-bd16-690665469801",
   "metadata": {},
   "outputs": [
    {
     "data": {
      "text/plain": [
       "Controller_Zero_Order_Hold (generic function with 1 method)"
      ]
     },
     "execution_count": 132,
     "metadata": {},
     "output_type": "execute_result"
    }
   ],
   "source": [
    "# force control input to be constant over sampling time, actual control law applied inside callback\n",
    "function Controller_Zero_Order_Hold(;name)\n",
    "    sts = @variables t U(t)[1:2]=0  (R(t))[1:3]=0\n",
    "\n",
    "    # define operators\n",
    "    D = Differential(t)\n",
    "\n",
    "    eqn1 = D.(U) .~ 0 \n",
    "    eqn2 = D.(R) .~ 0 \n",
    "\n",
    "    eqns = vcat(eqn1, eqn2)\n",
    "    \n",
    "    ODESystem(eqns, t; name)\n",
    "end"
   ]
  },
  {
   "cell_type": "markdown",
   "id": "692de3da-73e1-4692-9f7c-9aaa06258dc0",
   "metadata": {},
   "source": [
    "## Digital controller"
   ]
  },
  {
   "cell_type": "code",
   "execution_count": 128,
   "id": "8bb44fca-d2f5-4c1c-8c91-61dff8f9bc36",
   "metadata": {},
   "outputs": [],
   "source": [
    "# function pd_controller(e, e_dot; params)\n",
    "#     # parameters\n",
    "#     kp, kd = controller_params.kp, controller_params.kd\n",
    "\n",
    "#     # compute the control action \n",
    "#     u = kp * e +  kd * e_dot\n",
    "\n",
    "#     return u\n",
    "# end"
   ]
  },
  {
   "cell_type": "code",
   "execution_count": 129,
   "id": "ad332cb1-0847-483a-b8d5-21b6c1e44d43",
   "metadata": {},
   "outputs": [
    {
     "data": {
      "text/plain": [
       "pid_controller (generic function with 1 method)"
      ]
     },
     "execution_count": 129,
     "metadata": {},
     "output_type": "execute_result"
    }
   ],
   "source": [
    "mutable struct PID2\n",
    "    kp::Float64 # proportional gain\n",
    "    ki::Float64 # integral gain\n",
    "    kd::Float64 # derivative gain\n",
    "\n",
    "    k_aw::Float64 # integral antiwindup gain\n",
    "\n",
    "    Ts::Float64 # sampling time\n",
    "    \n",
    "    error_integral::Float64 # integral accumulated over time\n",
    "    prev_error::Float64 # error from prvious time step\n",
    "\n",
    "    function PID2(;kp=kp, ki=ki, kd=kd, k_aw=k_aw, Ts=Ts)\n",
    "        new( kp, ki, kd, k_aw, Ts, 0., 0.)\n",
    "    end\n",
    "    \n",
    "end\n",
    "\n",
    "PID = PID2\n",
    "\n",
    "function pid_controller(pid::PID; e, umin, umax )\n",
    "    # parameters\n",
    "    kp, ki, kd = pid.kp, pid.ki, pid.kd\n",
    "    h, k_aw = pid.Ts, pid.k_aw\n",
    "\n",
    "    # compute error terms\n",
    "    e_dot = (e - pid.prev_error) / h\n",
    "    \n",
    "    e_integral = pid.error_integral\n",
    "    \n",
    "    # compute the control action \n",
    "    u = kp * e +  kd * e_dot +  ki * e_integral\n",
    "\n",
    "    # limit output to actuator limits \n",
    "    u_sat = clamp(u, umin, umax )\n",
    "\n",
    "    # update integral state \n",
    "    pid.error_integral += e*h + k_aw*(u_sat - u)\n",
    "\n",
    "    # update derivative state \n",
    "    pid.prev_error = e\n",
    "\n",
    "    return u_sat\n",
    "end"
   ]
  },
  {
   "cell_type": "code",
   "execution_count": 159,
   "id": "29f4c9b1-277e-4596-a6f5-25504894c8f6",
   "metadata": {},
   "outputs": [
    {
     "data": {
      "text/plain": [
       "digital_controller (generic function with 1 method)"
      ]
     },
     "execution_count": 159,
     "metadata": {},
     "output_type": "execute_result"
    }
   ],
   "source": [
    "state_indices = Dict(\n",
    "    :control=>indexof(controller.U[1], states(sys)),\n",
    "    :reference=>indexof(controller.R[1], states(sys))\n",
    ")\n",
    "\n",
    "allocation_matrix = inv([1 1; 0.1 -0.1])\n",
    "\n",
    "callback_params = (;state_indices=state_indices, allocation_matrix=allocation_matrix, reference_generator=reference_generator)\n",
    "\n",
    "\n",
    "function digital_controller(int; params = callback_params, position_pid=position_pid, attitude_pid=attitude_pid)\n",
    "\n",
    "    m = 1.0\n",
    "    g = 9.81\n",
    "    \n",
    "    state_indices = params.state_indices\n",
    "    allocation_matrix = params.allocation_matrix\n",
    "    reference_generator = params.reference_generator    \n",
    "\n",
    "    ## find index of variable controller.u in the state vector\n",
    "    # controller_index = indexof(controller.u, states(sys))\n",
    "    # r_index = indexof(controller.r[1], states(sys))\n",
    "\n",
    "    c_index = state_indices[:control]\n",
    "    r_index = state_indices[:reference]\n",
    "\n",
    "    # get plant output\n",
    "    Y = @view int.u[1:6]\n",
    "\n",
    "    y = Y[1]\n",
    "    z = Y[2]\n",
    "    θ = Y[3]\n",
    "    ẏ = Y[4]\n",
    "    ż = Y[5]\n",
    "    θ̇ = Y[6]\n",
    "\n",
    "    # Limit operating space \n",
    "    if z > safety_box.z_max\n",
    "        println(\"Z operational space constraint violated !\")\n",
    "        terminate!(int)\n",
    "\n",
    "    elseif z < safety_box.z_min\n",
    "        println(\"Landed !\")\n",
    "        terminate!(int)\n",
    "    end\n",
    "\n",
    "    if y < safety_box.y_min || y > safety_box.y_max\n",
    "        println(\"Y operational space constraint violated !\")\n",
    "        terminate!(int)\n",
    "    end\n",
    "\n",
    "    # get reference \n",
    "    R = reference_generator(int.t)\n",
    "    R_dot = ForwardDiff.derivative(reference_generator, int.t)\n",
    "    R_ddot = ForwardDiff.derivative(x -> ForwardDiff.derivative(reference_generator, x), int.t)\n",
    "\n",
    "    # reference for θ\n",
    "    R[3] = - R_ddot[1] / g\n",
    "    \n",
    "    e = R - [y;z;θ]\n",
    "\n",
    "    # control laws \n",
    "\n",
    "    # position controller\n",
    "    f_net = m*(g + R_ddot[2] + pid_controller(position_pid; e=e[2], umin=0, umax=48 ))\n",
    "\n",
    "    # attitude controller\n",
    "    τ = pid_controller(attitude_pid; e=e[3], umin=-25, umax=25 )\n",
    "\n",
    "    (f_net, τ) =(9.81,0.3)\n",
    "    \n",
    "    (f_1, f_2) = allocation_matrix * [f_net,τ] \n",
    "    \n",
    "    @show e\n",
    "    @show R\n",
    "    @show R_ddot\n",
    "    @show f_net, τ\n",
    "    println(\"\")\n",
    "\n",
    "    # set the control input\n",
    "    int.u[c_index:c_index+1] = [f_1, f_2]\n",
    "    int.u[r_index: r_index+2] = [R[1], R[2], R[3]]\n",
    "end"
   ]
  },
  {
   "cell_type": "code",
   "execution_count": 138,
   "id": "e8e799f4-044f-4235-a091-b7ed481b9e99",
   "metadata": {},
   "outputs": [],
   "source": [
    "# indexof(controller.R[1], states(sys))\n",
    "# states(sys)\n"
   ]
  },
  {
   "cell_type": "markdown",
   "id": "250fece9-b761-4e82-a59d-20d0e5087e68",
   "metadata": {},
   "source": [
    "## Reference generator"
   ]
  },
  {
   "cell_type": "code",
   "execution_count": 112,
   "id": "4f8326bd-b66e-4569-b788-f4bc96bb4df7",
   "metadata": {},
   "outputs": [
    {
     "data": {
      "text/plain": [
       "reference_generator (generic function with 1 method)"
      ]
     },
     "execution_count": 112,
     "metadata": {},
     "output_type": "execute_result"
    }
   ],
   "source": [
    "function reference_generator(t)\n",
    "\n",
    "    r = 2.0    # circle radius \n",
    "    ω = 0.2    # angular velocity\n",
    "\n",
    "    # circular trajectory \n",
    "    y_ref = r*sin(ω*t)\n",
    "    z_ref = r*cos(ω*t)\n",
    "\n",
    "    y_ref = 0.0\n",
    "    z_ref = 1.0\n",
    "    \n",
    "    # computed by the controller\n",
    "    θ_ref = 0.0\n",
    "    \n",
    "    return [y_ref, z_ref, θ_ref]\n",
    "end"
   ]
  },
  {
   "cell_type": "markdown",
   "id": "f61cb2a2-ec9b-4a63-83a6-52f528429693",
   "metadata": {},
   "source": [
    "## System building"
   ]
  },
  {
   "cell_type": "code",
   "execution_count": 133,
   "id": "089a6eb3-931a-4068-b17e-539b3473bace",
   "metadata": {},
   "outputs": [
    {
     "data": {
      "text/plain": [
       "indexof (generic function with 1 method)"
      ]
     },
     "execution_count": 133,
     "metadata": {},
     "output_type": "execute_result"
    }
   ],
   "source": [
    "@named plant = Plant(;name=:quad_2d, l=0.1, I_xx=0.003, m=1.0)\n",
    "@named controller = Controller_Zero_Order_Hold()\n",
    "\n",
    "eqn1 = plant.U .~ controller.U\n",
    "\n",
    "eqns = vcat(eqn1)\n",
    "\n",
    "# connect the subsystems\n",
    "@named model = ODESystem(eqns,\n",
    "    systems=[plant, controller])\n",
    "\n",
    "sys = structural_simplify(model)\n",
    "\n",
    "indexof(sym,syms) = findfirst(isequal(sym),syms)"
   ]
  },
  {
   "cell_type": "markdown",
   "id": "dd829251-3dd9-4b50-9ed2-f0c5487704ac",
   "metadata": {},
   "source": [
    "## Simulation"
   ]
  },
  {
   "cell_type": "code",
   "execution_count": 170,
   "id": "8e365b00-d34b-4e35-8313-a5a7d46cb11f",
   "metadata": {
    "scrolled": true
   },
   "outputs": [
    {
     "name": "stdout",
     "output_type": "stream",
     "text": [
      "e = [0.0, 0.0, -0.0]\n",
      "R = [0.0, 1.0, -0.0]\n",
      "R_ddot = [0.0, 0.0, 0.0]\n",
      "(f_net, τ) = (9.81, 0.3)\n",
      "\n",
      "e = [4.0874963536623667e-7, 4.0883674223834987e-10, -0.004999999999999989]\n",
      "R = [0.0, 1.0, -0.0]\n",
      "R_ddot = [0.0, 0.0, 0.0]\n",
      "(f_net, τ) = (9.81, 0.3)\n",
      "\n",
      "e = [6.539906573477104e-6, 2.616013039524745e-8, -0.019999999999999973]\n",
      "R = [0.0, 1.0, -0.0]\n",
      "R_ddot = [0.0, 0.0, 0.0]\n",
      "(f_net, τ) = (9.81, 0.3)\n",
      "\n",
      "e = [3.3106355619419306e-5, 2.979627059529477e-7, -0.04499999999999994]\n",
      "R = [0.0, 1.0, -0.0]\n",
      "R_ddot = [0.0, 0.0, 0.0]\n",
      "(f_net, τ) = (9.81, 0.3)\n",
      "\n",
      "e = [0.00010461608548222185, 1.673943408775358e-6, -0.07999999999999992]\n",
      "R = [0.0, 1.0, -0.0]\n",
      "R_ddot = [0.0, 0.0, 0.0]\n",
      "(f_net, τ) = (9.81, 0.3)\n",
      "\n",
      "e = [0.00025532623642937223, 6.383948763843961e-6, -0.1249999999999999]\n",
      "R = [0.0, 1.0, -0.0]\n",
      "R_ddot = [0.0, 0.0, 0.0]\n",
      "(f_net, τ) = (9.81, 0.3)\n",
      "\n",
      "e = [0.0005291274360071552, 1.9053487180120676e-5, -0.17999999999999983]\n",
      "R = [0.0, 1.0, -0.0]\n",
      "R_ddot = [0.0, 0.0, 0.0]\n",
      "(f_net, τ) = (9.81, 0.3)\n",
      "\n",
      "e = [0.0009793075312717122, 4.800892810452595e-5, -0.24499999999999986]\n",
      "R = [0.0, 1.0, -0.0]\n",
      "R_ddot = [0.0, 0.0, 0.0]\n",
      "(f_net, τ) = (9.81, 0.3)\n",
      "\n",
      "e = [0.001668130346438479, 0.00010684708986952174, -0.3199999999999998]\n",
      "R = [0.0, 1.0, -0.0]\n",
      "R_ddot = [0.0, 0.0, 0.0]\n",
      "(f_net, τ) = (9.81, 0.3)\n",
      "\n",
      "e = [0.002666153160945822, 0.0002162394440144988, -0.4049999999999997]\n",
      "R = [0.0, 1.0, -0.0]\n",
      "R_ddot = [0.0, 0.0, 0.0]\n",
      "(f_net, τ) = (9.81, 0.3)\n",
      "\n",
      "e = [0.0040511973677441705, 0.0004059231269606389, -0.49999999999999967]\n",
      "R = [0.0, 1.0, -0.0]\n",
      "R_ddot = [0.0, 0.0, 0.0]\n",
      "(f_net, τ) = (9.81, 0.3)\n",
      "\n",
      "e = [0.005906881826132216, 0.0007168073632772831, -0.6049999999999995]\n",
      "R = [0.0, 1.0, -0.0]\n",
      "R_ddot = [0.0, 0.0, 0.0]\n",
      "(f_net, τ) = (9.81, 0.3)\n",
      "\n",
      "e = [0.008320629808039227, 0.00120309482034886, -0.7199999999999994]\n",
      "R = [0.0, 1.0, -0.0]\n",
      "R_ddot = [0.0, 0.0, 0.0]\n",
      "(f_net, τ) = (9.81, 0.3)\n",
      "\n",
      "e = [0.011381070592760808, 0.0019342835652881307, -0.8449999999999993]\n",
      "R = [0.0, 1.0, -0.0]\n",
      "R_ddot = [0.0, 0.0, 0.0]\n",
      "(f_net, τ) = (9.81, 0.3)\n",
      "\n",
      "e = [0.015174778400859163, 0.002996878340905229, -0.9799999999999995]\n",
      "R = [0.0, 1.0, -0.0]\n",
      "R_ddot = [0.0, 0.0, 0.0]\n",
      "(f_net, τ) = (9.81, 0.3)\n",
      "\n",
      "e = [0.019782327199306643, 0.004495602657228481, -1.1249999999999993]\n",
      "R = [0.0, 1.0, -0.0]\n",
      "R_ddot = [0.0, 0.0, 0.0]\n",
      "(f_net, τ) = (9.81, 0.3)\n",
      "\n",
      "e = [0.025273692312140387, 0.006553869948751401, -1.2799999999999994]\n",
      "R = [0.0, 1.0, -0.0]\n",
      "R_ddot = [0.0, 0.0, 0.0]\n",
      "(f_net, τ) = (9.81, 0.3)\n",
      "\n",
      "e = [0.03170310017151894, 0.009313248550060549, -1.4449999999999994]\n",
      "R = [0.0, 1.0, -0.0]\n",
      "R_ddot = [0.0, 0.0, 0.0]\n",
      "(f_net, τ) = (9.81, 0.3)\n",
      "\n",
      "e = [0.03910351575979797, 0.012931648769318183, -1.619999999999999]\n",
      "R = [0.0, 1.0, -0.0]\n",
      "R_ddot = [0.0, 0.0, 0.0]\n",
      "(f_net, τ) = (9.81, 0.3)\n",
      "\n",
      "e = [0.047481060690751066, 0.01757997937191791, -1.804999999999999]\n",
      "R = [0.0, 1.0, -0.0]\n",
      "R_ddot = [0.0, 0.0, 0.0]\n",
      "(f_net, τ) = (9.81, 0.3)\n",
      "\n",
      "e = [0.05680976749447762, 0.023437074356240428, -1.9999999999999996]\n",
      "R = [0.0, 1.0, -0.0]\n",
      "R_ddot = [0.0, 0.0, 0.0]\n",
      "(f_net, τ) = (9.81, 0.3)\n",
      "\n",
      "e = [0.06702718741498252, 0.030682787477481877, -2.2049999999999987]\n",
      "R = [0.0, 1.0, -0.0]\n",
      "R_ddot = [0.0, 0.0, 0.0]\n",
      "(f_net, τ) = (9.81, 0.3)\n",
      "\n",
      "e = [0.07803146516245048, 0.03948929783372934, -2.419999999999999]\n",
      "R = [0.0, 1.0, -0.0]\n",
      "R_ddot = [0.0, 0.0, 0.0]\n",
      "(f_net, τ) = (9.81, 0.3)\n",
      "\n",
      "e = [0.0896805552139773, 0.05001086693778922, -2.6449999999999987]\n",
      "R = [0.0, 1.0, -0.0]\n",
      "R_ddot = [0.0, 0.0, 0.0]\n",
      "(f_net, τ) = (9.81, 0.3)\n",
      "\n",
      "e = [0.10179425729066195, 0.062372531213757076, -2.879999999999998]\n",
      "R = [0.0, 1.0, -0.0]\n",
      "R_ddot = [0.0, 0.0, 0.0]\n",
      "(f_net, τ) = (9.81, 0.3)\n",
      "\n",
      "e = [0.11415966867664946, 0.07665848953097487, -3.124999999999998]\n",
      "R = [0.0, 1.0, -0.0]\n",
      "R_ddot = [0.0, 0.0, 0.0]\n",
      "(f_net, τ) = (9.81, 0.3)\n",
      "\n",
      "e = [0.12654046489981083, 0.0929012273599159, -3.3799999999999977]\n",
      "R = [0.0, 1.0, -0.0]\n",
      "R_ddot = [0.0, 0.0, 0.0]\n",
      "(f_net, τ) = (9.81, 0.3)\n",
      "\n",
      "e = [0.1386901114016184, 0.11107266877997635, -3.6449999999999974]\n",
      "R = [0.0, 1.0, -0.0]\n",
      "R_ddot = [0.0, 0.0, 0.0]\n",
      "(f_net, τ) = (9.81, 0.3)\n",
      "\n",
      "e = [0.15036867348086214, 0.13107881424052725, -3.919999999999998]\n",
      "R = [0.0, 1.0, -0.0]\n",
      "R_ddot = [0.0, 0.0, 0.0]\n",
      "(f_net, τ) = (9.81, 0.3)\n",
      "\n",
      "e = [0.16136234607291722, 0.1527593465405528, -4.204999999999997]\n",
      "R = [0.0, 1.0, -0.0]\n",
      "R_ddot = [0.0, 0.0, 0.0]\n",
      "(f_net, τ) = (9.81, 0.3)\n",
      "\n",
      "e = [0.1715042111280895, 0.17589350943525672, -4.499999999999998]\n",
      "R = [0.0, 1.0, -0.0]\n",
      "R_ddot = [0.0, 0.0, 0.0]\n",
      "(f_net, τ) = (9.81, 0.3)\n",
      "\n",
      "e = [0.1806941213167623, 0.20021313175222988, -4.804999999999998]\n",
      "R = [0.0, 1.0, -0.0]\n",
      "R_ddot = [0.0, 0.0, 0.0]\n",
      "(f_net, τ) = (9.81, 0.3)\n",
      "\n",
      "e = [0.1889151078605704, 0.22542295833267634, -5.119999999999998]\n",
      "R = [0.0, 1.0, -0.0]\n",
      "R_ddot = [0.0, 0.0, 0.0]\n",
      "(f_net, τ) = (9.81, 0.3)\n",
      "\n",
      "e = [0.19624344462901622, 0.2512274719052492, -5.4449999999999985]\n",
      "R = [0.0, 1.0, -0.0]\n",
      "R_ddot = [0.0, 0.0, 0.0]\n",
      "(f_net, τ) = (9.81, 0.3)\n",
      "\n",
      "e = [0.20284960588758716, 0.27736221843537334, -5.779999999999998]\n",
      "R = [0.0, 1.0, -0.0]\n",
      "R_ddot = [0.0, 0.0, 0.0]\n",
      "(f_net, τ) = (9.81, 0.3)\n",
      "\n",
      "e = [0.20898795049123953, 0.3036264215950897, -6.124999999999998]\n",
      "R = [0.0, 1.0, -0.0]\n",
      "R_ddot = [0.0, 0.0, 0.0]\n",
      "(f_net, τ) = (9.81, 0.3)\n",
      "\n",
      "e = [0.21497412051421255, 0.32991259695331776, -6.479999999999998]\n",
      "R = [0.0, 1.0, -0.0]\n",
      "R_ddot = [0.0, 0.0, 0.0]\n",
      "(f_net, τ) = (9.81, 0.3)\n",
      "\n",
      "e = [0.2211508397249772, 0.3562282130686677, -6.844999999999999]\n",
      "R = [0.0, 1.0, -0.0]\n",
      "R_ddot = [0.0, 0.0, 0.0]\n",
      "(f_net, τ) = (9.81, 0.3)\n",
      "\n",
      "e = [0.22784489776181444, 0.38270447142853914, -7.22]\n",
      "R = [0.0, 1.0, -0.0]\n",
      "R_ddot = [0.0, 0.0, 0.0]\n",
      "(f_net, τ) = (9.81, 0.3)\n",
      "\n",
      "e = [0.23532032794805818, 0.40958822646499904, -7.6049999999999995]\n",
      "R = [0.0, 1.0, -0.0]\n",
      "R_ddot = [0.0, 0.0, 0.0]\n",
      "(f_net, τ) = (9.81, 0.3)\n",
      "\n",
      "e = [0.24373471266770996, 0.43721506335170524, -8.0]\n",
      "R = [0.0, 1.0, -0.0]\n",
      "R_ddot = [0.0, 0.0, 0.0]\n",
      "(f_net, τ) = (9.81, 0.3)\n",
      "\n",
      "e = [0.2531066699026173, 0.4659645257430144, -8.405000000000001]\n",
      "R = [0.0, 1.0, -0.0]\n",
      "R_ddot = [0.0, 0.0, 0.0]\n",
      "(f_net, τ) = (9.81, 0.3)\n",
      "\n",
      "e = [0.26330237388637706, 0.4962021139896584, -8.819999999999999]\n",
      "R = [0.0, 1.0, -0.0]\n",
      "R_ddot = [0.0, 0.0, 0.0]\n",
      "(f_net, τ) = (9.81, 0.3)\n",
      "\n",
      "e = [0.2740470536405694, 0.5282163552258323, -9.245]\n",
      "R = [0.0, 1.0, -0.0]\n",
      "R_ddot = [0.0, 0.0, 0.0]\n",
      "(f_net, τ) = (9.81, 0.3)\n",
      "\n",
      "e = [0.28496368590600546, 0.5621621455483499, -9.68]\n",
      "R = [0.0, 1.0, -0.0]\n",
      "R_ddot = [0.0, 0.0, 0.0]\n",
      "(f_net, τ) = (9.81, 0.3)\n",
      "\n",
      "e = [0.29563586413478415, 0.5980227437453332, -10.125]\n",
      "R = [0.0, 1.0, -0.0]\n",
      "R_ddot = [0.0, 0.0, 0.0]\n",
      "(f_net, τ) = (9.81, 0.3)\n",
      "\n",
      "e = [0.3056858943587452, 0.6356014315738567, -10.579999999999998]\n",
      "R = [0.0, 1.0, -0.0]\n",
      "R_ddot = [0.0, 0.0, 0.0]\n",
      "(f_net, τ) = (9.81, 0.3)\n",
      "\n",
      "e = [0.31485382201177453, 0.6745495128170099, -11.044999999999998]\n",
      "R = [0.0, 1.0, -0.0]\n",
      "R_ddot = [0.0, 0.0, 0.0]\n",
      "(f_net, τ) = (9.81, 0.3)\n",
      "\n",
      "e = [0.3230598912869928, 0.7144302320772524, -11.519999999999996]\n",
      "R = [0.0, 1.0, -0.0]\n",
      "R_ddot = [0.0, 0.0, 0.0]\n",
      "(f_net, τ) = (9.81, 0.3)\n",
      "\n",
      "e = [0.33043336614105384, 0.7548094329313226, -12.004999999999995]\n",
      "R = [0.0, 1.0, -0.0]\n",
      "R_ddot = [0.0, 0.0, 0.0]\n",
      "(f_net, τ) = (9.81, 0.3)\n",
      "\n",
      "e = [0.33729563392538003, 0.795355260996441, -12.499999999999996]\n",
      "R = [0.0, 1.0, -0.0]\n",
      "R_ddot = [0.0, 0.0, 0.0]\n",
      "(f_net, τ) = (9.81, 0.3)\n",
      "\n",
      "e = [0.3440949595589766, 0.8359234214883445, -13.004999999999997]\n",
      "R = [0.0, 1.0, -0.0]\n",
      "R_ddot = [0.0, 0.0, 0.0]\n",
      "(f_net, τ) = (9.81, 0.3)\n",
      "\n",
      "e = [0.3513026641340005, 0.876603862913296, -13.52]\n",
      "R = [0.0, 1.0, -0.0]\n",
      "R_ddot = [0.0, 0.0, 0.0]\n",
      "(f_net, τ) = (9.81, 0.3)\n",
      "\n",
      "e = [0.3592929767619883, 0.9177108827236722, -14.045000000000002]\n",
      "R = [0.0, 1.0, -0.0]\n",
      "R_ddot = [0.0, 0.0, 0.0]\n",
      "(f_net, τ) = (9.81, 0.3)\n",
      "\n",
      "e = [0.36823754290776856, 0.9597114774618838, -14.580000000000004]\n",
      "R = [0.0, 1.0, -0.0]\n",
      "R_ddot = [0.0, 0.0, 0.0]\n",
      "(f_net, τ) = (9.81, 0.3)\n",
      "\n",
      "Landed !\n",
      "e = [0.3780468216592421, 1.0031040114970613, -15.125000000000002]\n",
      "R = [0.0, 1.0, -0.0]\n",
      "R_ddot = [0.0, 0.0, 0.0]\n",
      "(f_net, τ) = (9.81, 0.3)\n",
      "\n",
      "  0.051981 seconds (13.58 k allocations: 664.391 KiB)\n"
     ]
    }
   ],
   "source": [
    "# controller parameters\n",
    "\n",
    "position_pid =  PID(;kp=0., ki=0.00, kd=0., k_aw=0.0, Ts=0.01)\n",
    "attitude_pid =  PID(;kp=5., ki=0.00, kd=18.5, k_aw=0.0, Ts=0.01)\n",
    "\n",
    "control_callback = PeriodicCallback(digital_controller, 0.01, initial_affect=true)\n",
    "\n",
    "# sim\n",
    "tspan = (0.0, 10.0)\n",
    "\n",
    "# initial conditions\n",
    "X₀ = collect(plant.X.=> [0.0, 1.0, 0.0,0.0,0.0,0.0])\n",
    "\n",
    "prob = ODEProblem(sys, X₀, tspan) \n",
    "@time sol = solve(prob, Tsit5(), abstol=1e-8, reltol=1e-8, callback=control_callback , save_everystep = false);"
   ]
  },
  {
   "cell_type": "markdown",
   "id": "5f1d81a8-d7b8-4f8a-99fb-642a902038b8",
   "metadata": {},
   "source": [
    "## Plotting"
   ]
  },
  {
   "cell_type": "code",
   "execution_count": 171,
   "id": "e211f5c7-7292-4773-b52b-0e373e00f5f0",
   "metadata": {},
   "outputs": [
    {
     "data": {
      "image/png": "[encoded data removed]"
     },
     "metadata": {},
     "output_type": "display_data"
    },
    {
     "data": {
      "text/plain": [
       "GLMakie.Screen(...)"
      ]
     },
     "execution_count": 171,
     "metadata": {},
     "output_type": "execute_result"
    }
   ],
   "source": [
    "fig = Figure(resolution = (1200, 500))\n",
    "\n",
    "ax1 = Axis(fig[1, 1])\n",
    "ax2 = Axis(fig[1, 2])\n",
    "\n",
    "# position\n",
    "lines!(ax1, sol.t, sol[plant.Y[2]])\n",
    "lines!(ax1, sol.t, sol[controller.R[2]])\n",
    "\n",
    "# attitude\n",
    "lines!(ax2, sol.t, sol[plant.Y[3]])\n",
    "lines!(ax2, sol.t, sol[controller.R[3]])\n",
    "\n",
    "\n",
    "# lines!(ax, sol.t, sol[controller.u])\n",
    "\n",
    "display(fig)"
   ]
  },
  {
   "cell_type": "code",
   "execution_count": null,
   "id": "f480f81e-b664-4588-98e2-d1ca8be4f71d",
   "metadata": {},
   "outputs": [],
   "source": []
  }
 ],
 "metadata": {
  "kernelspec": {
   "display_name": "control_precompiled 1.9.1",
   "language": "julia",
   "name": "control_precompiled-1.9"
  },
  "language_info": {
   "file_extension": ".jl",
   "mimetype": "application/julia",
   "name": "julia",
   "version": "1.9.1"
  }
 },
 "nbformat": 4,
 "nbformat_minor": 5
}
