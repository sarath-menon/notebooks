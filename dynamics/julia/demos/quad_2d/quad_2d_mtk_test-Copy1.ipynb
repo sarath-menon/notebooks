{
 "cells": [
  {
   "cell_type": "code",
   "execution_count": 2,
   "id": "cd027c90-4b52-4a17-8647-1e031d588ee2",
   "metadata": {},
   "outputs": [
    {
     "name": "stderr",
     "output_type": "stream",
     "text": [
      "\u001b[32m\u001b[1m  Activating\u001b[22m\u001b[39m project at `~/Documents/eth_courses/notebooks/dynamics/julia/demos/quad_2d`\n"
     ]
    }
   ],
   "source": [
    "import Pkg; Pkg.activate(@__DIR__); Pkg.instantiate()"
   ]
  },
  {
   "cell_type": "code",
   "execution_count": 3,
   "id": "7eeb153d-0db0-474c-93b8-3f6ae067bb9b",
   "metadata": {},
   "outputs": [],
   "source": [
    "# Pkg.add(\"Revise\");"
   ]
  },
  {
   "cell_type": "code",
   "execution_count": 77,
   "id": "4a9b3714-32ad-4d6c-856d-b439f653c224",
   "metadata": {},
   "outputs": [
    {
     "data": {
      "text/plain": [
       "SafetyBox2"
      ]
     },
     "execution_count": 77,
     "metadata": {},
     "output_type": "execute_result"
    }
   ],
   "source": [
    "using Revise\n",
    "using ModelingToolkit, LinearAlgebra\n",
    "using GLMakie\n",
    "using ControlSystems\n",
    "using DifferentialEquations\n",
    "using ForwardDiff\n",
    "\n",
    "include(\"utilities.jl\")\n",
    "include(\"types.jl\")"
   ]
  },
  {
   "cell_type": "markdown",
   "id": "784804bb-7c90-4230-911f-077747ade1b5",
   "metadata": {},
   "source": [
    "## Utilities "
   ]
  },
  {
   "cell_type": "code",
   "execution_count": 6,
   "id": "5e93e394-e375-4f08-8fd1-4ed8ac5c0e04",
   "metadata": {},
   "outputs": [],
   "source": [
    "# # 2D rotation matrix\n",
    "# R_2D(θ::Float64) = [cos(θ) -sin(θ); sin(θ) cos(θ)];"
   ]
  },
  {
   "cell_type": "code",
   "execution_count": 5,
   "id": "5395e608-d530-4715-9969-fc344368abef",
   "metadata": {},
   "outputs": [
    {
     "data": {
      "text/plain": [
       "SafetyBox2(10.0, 10.0, 10.0, -10.0, -10.0, 0.0)"
      ]
     },
     "execution_count": 5,
     "metadata": {},
     "output_type": "execute_result"
    }
   ],
   "source": [
    "motor_left = BLDCMotor(0, 12.5)\n",
    "motor_right = BLDCMotor(0, 12.5)\n",
    "\n",
    "quad_obj = Quad2d(1.0, 0.1, 0.003, motor_left, motor_right)\n",
    "sim_params = SimParams(6,2,3, 0.01) \n",
    "safety_box = SafetyBox(10, 10, 10, -10, -10, 0)"
   ]
  },
  {
   "cell_type": "markdown",
   "id": "80965504-11cb-4aea-9ff8-d5e13811a19e",
   "metadata": {},
   "source": [
    "## Dynamics using ModellingToolkit"
   ]
  },
  {
   "cell_type": "markdown",
   "id": "8d10f8d4-7edb-4d8d-9057-0d6faa5bd3fc",
   "metadata": {},
   "source": [
    "## Plant"
   ]
  },
  {
   "cell_type": "code",
   "execution_count": 46,
   "id": "24027685-cb12-4872-898f-2734593f0d3c",
   "metadata": {},
   "outputs": [
    {
     "data": {
      "text/plain": [
       "Plant (generic function with 1 method)"
      ]
     },
     "execution_count": 46,
     "metadata": {},
     "output_type": "execute_result"
    }
   ],
   "source": [
    "function Plant(;name)\n",
    "    # define parameters and variables\n",
    "    @parameters l, I_xx, m\n",
    "    \n",
    "    # state variables\n",
    "    @variables t (X(t))[1:6, 1:1]=0 (Y(t))[1:6]=0 \n",
    "    \n",
    "    # control input\n",
    "    @variables (U(t))[1:2]=0 [input=true]\n",
    "    \n",
    "    @constants g=9.81 \n",
    "    \n",
    "    # define operators\n",
    "    D = Differential(t)\n",
    "\n",
    "    f_1 = U[1]\n",
    "    f_2 = U[2]\n",
    "\n",
    "    f_thrust = f_1 + f_2\n",
    "    a_thrust = (f_thrust / m) # mass normalized thrust \n",
    "    \n",
    "    τ = (f_1 - f_2) * l\n",
    "    \n",
    "    # dynamics equations\n",
    "    \n",
    "    # gravity \n",
    "    g_vec = [0;g]\n",
    "    \n",
    "    # create custom rotation matrix\n",
    "    R_2D(θ::Real) = [cos(θ) -sin(θ); sin(θ) cos(θ)];\n",
    "\n",
    "    y = X[1]\n",
    "    z = X[2]\n",
    "    θ = X[3]\n",
    "    ẏ = X[4]\n",
    "    ż = X[5]\n",
    "    θ̇ = X[6]\n",
    "    \n",
    "    # translation E.O.M\n",
    "    a = [0; a_thrust]\n",
    "    (ÿ, z̈) = R_2D(θ)*a - g_vec \n",
    "\n",
    "    # rotational E.O.M\n",
    "    θ̈ = τ / I_xx\n",
    "\n",
    "    X_dot = [ẏ; ż; θ̇; ÿ; z̈; θ̈]\n",
    "    \n",
    "    # eqs = [\n",
    "    #     # D(f_1) ~ 0,\n",
    "    #     # D(f_2) ~ 0,\n",
    "    #     D(D(y)) ~ ÿ,\n",
    "    #     D(D(z)) ~ z̈,\n",
    "    #     D(D(θ)) ~ θ̈]\n",
    "\n",
    "    eqn1 = D.(X) .~ X_dot\n",
    "\n",
    "    eqn2 = Y .~ X\n",
    "\n",
    "    eqs = vcat(eqn1, eqn2)\n",
    "    \n",
    "    ODESystem(eqs, t; name)\n",
    "end"
   ]
  },
  {
   "cell_type": "markdown",
   "id": "d377e4bd-2743-42ac-a401-1a3dc6b80c70",
   "metadata": {},
   "source": [
    "## Controller"
   ]
  },
  {
   "cell_type": "markdown",
   "id": "db8b0c5d-c580-4eab-8b24-61bb87de1457",
   "metadata": {},
   "source": [
    "### Zero order hold for digital controller"
   ]
  },
  {
   "cell_type": "code",
   "execution_count": 63,
   "id": "f4b22c23-62c3-4887-bd16-690665469801",
   "metadata": {},
   "outputs": [
    {
     "data": {
      "text/plain": [
       "Controller_Zero_Order_Hold (generic function with 1 method)"
      ]
     },
     "execution_count": 63,
     "metadata": {},
     "output_type": "execute_result"
    }
   ],
   "source": [
    "# force control input to be constant over sampling time, actual control law applied inside callback\n",
    "function Controller_Zero_Order_Hold(;name)\n",
    "    sts = @variables t U(t)=0  (R(t))[1:2]=0\n",
    "\n",
    "    # define operators\n",
    "    D = Differential(t)\n",
    "\n",
    "    eqn1 = D(U) ~ 0 \n",
    "    eqn2 = D.(R) .~ 0 \n",
    "\n",
    "    eqns = vcat(eqn1, eqn2)\n",
    "    \n",
    "    ODESystem(eqns, t; name)\n",
    "end"
   ]
  },
  {
   "cell_type": "markdown",
   "id": "692de3da-73e1-4692-9f7c-9aaa06258dc0",
   "metadata": {},
   "source": [
    "## Digital controller"
   ]
  },
  {
   "cell_type": "code",
   "execution_count": 64,
   "id": "8bb44fca-d2f5-4c1c-8c91-61dff8f9bc36",
   "metadata": {},
   "outputs": [
    {
     "data": {
      "text/plain": [
       "pd_controller (generic function with 1 method)"
      ]
     },
     "execution_count": 64,
     "metadata": {},
     "output_type": "execute_result"
    }
   ],
   "source": [
    "function pd_controller(e, e_dot; params)\n",
    "    # parameters\n",
    "    kp, kd = controller_params.kp, controller_params.kd\n",
    "\n",
    "    # compute the control action \n",
    "    u = kp * e +  kd * e_dot\n",
    "\n",
    "    return u\n",
    "end"
   ]
  },
  {
   "cell_type": "code",
   "execution_count": 65,
   "id": "29f4c9b1-277e-4596-a6f5-25504894c8f6",
   "metadata": {},
   "outputs": [
    {
     "data": {
      "text/plain": [
       "digital_controller (generic function with 1 method)"
      ]
     },
     "execution_count": 65,
     "metadata": {},
     "output_type": "execute_result"
    }
   ],
   "source": [
    "state_indices = Dict(:control=>3, :reference=>4)\n",
    "\n",
    "# controller parameters\n",
    "controller_params = (;kp=8, kd=3.5);\n",
    "\n",
    "callback_params = (;state_indices=state_indices, controller_params=controller_params)\n",
    "\n",
    "function digital_controller(int; params = callback_params)\n",
    "\n",
    "    m = 1.0\n",
    "    g = 9.81\n",
    "    \n",
    "    controller_params = params.controller_params\n",
    "    state_indices = params.state_indices\n",
    "\n",
    "    ## find index of variable controller.u in the state vector\n",
    "    # controller_index = indexof(controller.u, states(sys))\n",
    "    # r_index = indexof(controller.r[1], states(sys))\n",
    "\n",
    "    controller_index = state_indices[:control]\n",
    "    r_index = state_indices[:reference]\n",
    "\n",
    "    # get plant output\n",
    "    Y = @view int.u[1:2]\n",
    "\n",
    "    y = Y[1]\n",
    "    z = Y[2]\n",
    "    θ = Y[3]\n",
    "    ẏ = Y[4]\n",
    "    ż = Y[5]\n",
    "    θ̇ = Y[6]\n",
    "\n",
    "    # get reference \n",
    "    R = reference_generator(int.t)\n",
    "    R_dot = ForwardDiff.derivative(reference_generator, int.t)\n",
    "    R_ddot = ForwardDiff.derivative(x -> ForwardDiff.derivative(reference_generator, x), int.t)\n",
    "\n",
    "    R[3] = - R_ddot[1] / g\n",
    "    \n",
    "    e = R - [y;z;θ]\n",
    "    e_dot = R_dot - [ẏ;ż]\n",
    "\n",
    "    # control laws \n",
    "    f_net = m*(g + R_ddot[2] + pd_controller(e[2], e_dot[2]; params=controller_params))\n",
    "    τ = pd_controller(e[2], e_dot[2]; params=controller_params)\n",
    "    \n",
    "    \n",
    "    u = pd_controller(e, e_dot; params=controller_params)\n",
    "\n",
    "    # set the control input\n",
    "    int.u[controller_index] = u\n",
    "    int.u[r_index: r_index+1] = [r, r_dot]\n",
    "end"
   ]
  },
  {
   "cell_type": "code",
   "execution_count": 72,
   "id": "e8e799f4-044f-4235-a091-b7ed481b9e99",
   "metadata": {},
   "outputs": [
    {
     "data": {
      "text/plain": [
       "9-element Vector{Any}:\n",
       " (plant₊X(t))[1, 1]\n",
       " (plant₊X(t))[2, 1]\n",
       " (plant₊X(t))[3, 1]\n",
       " (plant₊X(t))[4, 1]\n",
       " (plant₊X(t))[5, 1]\n",
       " (plant₊X(t))[6, 1]\n",
       " controller₊U(t)\n",
       " (controller₊R(t))[1]\n",
       " (controller₊R(t))[2]"
      ]
     },
     "execution_count": 72,
     "metadata": {},
     "output_type": "execute_result"
    }
   ],
   "source": [
    "# indexof(controller.u, states(sys))\n",
    "states(sys)"
   ]
  },
  {
   "cell_type": "markdown",
   "id": "250fece9-b761-4e82-a59d-20d0e5087e68",
   "metadata": {},
   "source": [
    "## Reference generator"
   ]
  },
  {
   "cell_type": "code",
   "execution_count": 80,
   "id": "4f8326bd-b66e-4569-b788-f4bc96bb4df7",
   "metadata": {},
   "outputs": [
    {
     "data": {
      "text/plain": [
       "reference_generator (generic function with 1 method)"
      ]
     },
     "execution_count": 80,
     "metadata": {},
     "output_type": "execute_result"
    }
   ],
   "source": [
    "function reference_generator(t)\n",
    "\n",
    "    r = 2.0    # circle radius \n",
    "    ω = 0.2    # angular velocity\n",
    "\n",
    "    y_ref = r*sin(ω*t)\n",
    "    z_ref = r*cos(ω*t)\n",
    "\n",
    "    # computed by the controller\n",
    "    θ_ref = 0.0\n",
    "    \n",
    "    return [y_ref, z_ref, θ_ref]\n",
    "end"
   ]
  },
  {
   "cell_type": "code",
   "execution_count": 81,
   "id": "e15d6774-7fe7-47f7-8048-a9c1c5abbf5a",
   "metadata": {},
   "outputs": [
    {
     "data": {
      "text/plain": [
       "3-element Vector{Float64}:\n",
       " -0.0015998933354666467\n",
       " -0.07998400053332623\n",
       "  0.0"
      ]
     },
     "execution_count": 81,
     "metadata": {},
     "output_type": "execute_result"
    }
   ],
   "source": [
    "ForwardDiff.derivative(reference_generator, 0.1)\n",
    "ForwardDiff.derivative(x -> ForwardDiff.derivative(reference_generator, x), 0.1)"
   ]
  },
  {
   "cell_type": "markdown",
   "id": "f61cb2a2-ec9b-4a63-83a6-52f528429693",
   "metadata": {},
   "source": [
    "## System building"
   ]
  },
  {
   "cell_type": "code",
   "execution_count": 70,
   "id": "089a6eb3-931a-4068-b17e-539b3473bace",
   "metadata": {},
   "outputs": [
    {
     "data": {
      "text/plain": [
       "indexof (generic function with 1 method)"
      ]
     },
     "execution_count": 70,
     "metadata": {},
     "output_type": "execute_result"
    }
   ],
   "source": [
    "@named plant = Plant()\n",
    "@named controller = Controller_Zero_Order_Hold()\n",
    "\n",
    "eqn1 = plant.U .~ controller.U\n",
    "\n",
    "eqns = vcat(eqn1)\n",
    "\n",
    "# connect the subsystems\n",
    "@named model = ODESystem(eqns,\n",
    "    systems=[plant, controller])\n",
    "\n",
    "sys = structural_simplify(model)\n",
    "\n",
    "indexof(sym,syms) = findfirst(isequal(sym),syms)"
   ]
  },
  {
   "cell_type": "markdown",
   "id": "dd829251-3dd9-4b50-9ed2-f0c5487704ac",
   "metadata": {},
   "source": [
    "## Simulation"
   ]
  },
  {
   "cell_type": "code",
   "execution_count": 74,
   "id": "8e365b00-d34b-4e35-8313-a5a7d46cb11f",
   "metadata": {},
   "outputs": [
    {
     "ename": "LoadError",
     "evalue": "ArgumentError: SymbolicUtils.BasicSymbolic{Real}[plant₊m, plant₊l, plant₊I_xx] are missing from the variable map.",
     "output_type": "error",
     "traceback": [
      "ArgumentError: SymbolicUtils.BasicSymbolic{Real}[plant₊m, plant₊l, plant₊I_xx] are missing from the variable map.",
      "",
      "Stacktrace:",
      "  [1] throw_missingvars(vars::Vector{SymbolicUtils.BasicSymbolic{Real}})",
      "    @ ModelingToolkit ~/.julia/packages/ModelingToolkit/GP3TI/src/variables.jl:121",
      "  [2] _varmap_to_vars(varmap::Dict{Any, Any}, varlist::Vector{SymbolicUtils.BasicSymbolic{Real}}; defaults::Dict{Any, Any}, check::Bool, toterm::typeof(ModelingToolkit.default_toterm))",
      "    @ ModelingToolkit ~/.julia/packages/ModelingToolkit/GP3TI/src/variables.jl:115",
      "  [3] varmap_to_vars(varmap::SciMLBase.NullParameters, varlist::Vector{SymbolicUtils.BasicSymbolic{Real}}; defaults::Dict{Any, Any}, check::Bool, toterm::Function, promotetoconcrete::Nothing, tofloat::Bool, use_union::Bool)",
      "    @ ModelingToolkit ~/.julia/packages/ModelingToolkit/GP3TI/src/variables.jl:84",
      "  [4] get_u0_p(sys::ODESystem, u0map::Matrix{Pair{SymbolicUtils.BasicSymbolic{Real}, Float64}}, parammap::SciMLBase.NullParameters; use_union::Bool, tofloat::Bool)",
      "    @ ModelingToolkit ~/.julia/packages/ModelingToolkit/GP3TI/src/systems/diffeqs/abstractodesystem.jl:592",
      "  [5] get_u0_p",
      "    @ ~/.julia/packages/ModelingToolkit/GP3TI/src/systems/diffeqs/abstractodesystem.jl:582 [inlined]",
      "  [6] process_DEProblem(constructor::Type, sys::ODESystem, u0map::Matrix{Pair{SymbolicUtils.BasicSymbolic{Real}, Float64}}, parammap::SciMLBase.NullParameters; implicit_dae::Bool, du0map::Nothing, version::Nothing, tgrad::Bool, jac::Bool, checkbounds::Bool, sparse::Bool, simplify::Bool, linenumbers::Bool, parallel::Symbolics.SerialForm, eval_expression::Bool, use_union::Bool, tofloat::Bool, kwargs::Base.Pairs{Symbol, Real, Tuple{Symbol, Symbol, Symbol}, NamedTuple{(:t, :has_difference, :check_length), Tuple{Float64, Bool, Bool}}})",
      "    @ ModelingToolkit ~/.julia/packages/ModelingToolkit/GP3TI/src/systems/diffeqs/abstractodesystem.jl:613",
      "  [7] (ODEProblem{true, SciMLBase.AutoSpecialize})(sys::ODESystem, u0map::Matrix{Pair{SymbolicUtils.BasicSymbolic{Real}, Float64}}, tspan::Tuple{Float64, Float64}, parammap::SciMLBase.NullParameters; callback::Nothing, check_length::Bool, kwargs::Base.Pairs{Symbol, Union{}, Tuple{}, NamedTuple{(), Tuple{}}})",
      "    @ ModelingToolkit ~/.julia/packages/ModelingToolkit/GP3TI/src/systems/diffeqs/abstractodesystem.jl:723",
      "  [8] ODEProblem",
      "    @ ~/.julia/packages/ModelingToolkit/GP3TI/src/systems/diffeqs/abstractodesystem.jl:716 [inlined]",
      "  [9] (ODEProblem{true, SciMLBase.AutoSpecialize})(sys::ODESystem, u0map::Matrix{Pair{SymbolicUtils.BasicSymbolic{Real}, Float64}}, tspan::Tuple{Float64, Float64})",
      "    @ ModelingToolkit ~/.julia/packages/ModelingToolkit/GP3TI/src/systems/diffeqs/abstractodesystem.jl:716",
      " [10] (ODEProblem{true})(::ODESystem, ::Matrix{Pair{SymbolicUtils.BasicSymbolic{Real}, Float64}}, ::Vararg{Any}; kwargs::Base.Pairs{Symbol, Union{}, Tuple{}, NamedTuple{(), Tuple{}}})",
      "    @ ModelingToolkit ~/.julia/packages/ModelingToolkit/GP3TI/src/systems/diffeqs/abstractodesystem.jl:703",
      " [11] (ODEProblem{true})(::ODESystem, ::Matrix{Pair{SymbolicUtils.BasicSymbolic{Real}, Float64}}, ::Vararg{Any})",
      "    @ ModelingToolkit ~/.julia/packages/ModelingToolkit/GP3TI/src/systems/diffeqs/abstractodesystem.jl:702",
      " [12] ODEProblem(::ODESystem, ::Matrix{Pair{SymbolicUtils.BasicSymbolic{Real}, Float64}}, ::Vararg{Any}; kwargs::Base.Pairs{Symbol, Union{}, Tuple{}, NamedTuple{(), Tuple{}}})",
      "    @ ModelingToolkit ~/.julia/packages/ModelingToolkit/GP3TI/src/systems/diffeqs/abstractodesystem.jl:699",
      " [13] ODEProblem(::ODESystem, ::Matrix{Pair{SymbolicUtils.BasicSymbolic{Real}, Float64}}, ::Vararg{Any})",
      "    @ ModelingToolkit ~/.julia/packages/ModelingToolkit/GP3TI/src/systems/diffeqs/abstractodesystem.jl:698",
      " [14] top-level scope",
      "    @ In[74]:12"
     ]
    }
   ],
   "source": [
    "# controller parameters\n",
    "controller_params = (;kp=8, kd=3.5);\n",
    "\n",
    "control_callback = PeriodicCallback(digital_controller, 0.01, initial_affect=true)\n",
    "\n",
    "# sim parameters\n",
    "tspan = (0.0, 10.0)\n",
    "\n",
    "# initial conditions\n",
    "X₀ = collect(plant.X.=> [0.0, 1.0, 0.0,0.0,0.0,0.0])\n",
    "\n",
    "prob = ODEProblem(sys, X₀, tspan) \n",
    "@time sol = solve(prob, Tsit5(), abstol=1e-8, reltol=1e-8, callback=control_callback , save_everystep = false);"
   ]
  },
  {
   "cell_type": "code",
   "execution_count": null,
   "id": "7b4c17b1-faf2-40f6-b57b-d87b826a9171",
   "metadata": {},
   "outputs": [],
   "source": []
  }
 ],
 "metadata": {
  "kernelspec": {
   "display_name": "control_precompiled 1.9.1",
   "language": "julia",
   "name": "control_precompiled-1.9"
  },
  "language_info": {
   "file_extension": ".jl",
   "mimetype": "application/julia",
   "name": "julia",
   "version": "1.9.1"
  }
 },
 "nbformat": 4,
 "nbformat_minor": 5
}
