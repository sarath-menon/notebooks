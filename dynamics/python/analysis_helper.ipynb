{
 "cells": [
  {
   "cell_type": "code",
   "execution_count": 2,
   "id": "24ade361",
   "metadata": {},
   "outputs": [],
   "source": [
    "from scipy.linalg import expm, sinm, cosm\n",
    "from numpy.polynomial import Polynomial\n",
    "import numpy as np"
   ]
  },
  {
   "cell_type": "markdown",
   "id": "ae6480c4",
   "metadata": {},
   "source": [
    "# Roots of polynomial"
   ]
  },
  {
   "cell_type": "code",
   "execution_count": 3,
   "id": "5e0e5104",
   "metadata": {},
   "outputs": [
    {
     "name": "stdout",
     "output_type": "stream",
     "text": [
      "0.2 - 0.9·x + 1.0·x²\n"
     ]
    },
    {
     "data": {
      "text/plain": [
       "array([0.4, 0.5])"
      ]
     },
     "execution_count": 3,
     "metadata": {},
     "output_type": "execute_result"
    }
   ],
   "source": [
    "p = np.polynomial.Polynomial([0.2,-0.9,1])\n",
    "print(p)\n",
    "p.roots()"
   ]
  },
  {
   "cell_type": "markdown",
   "id": "440bd313",
   "metadata": {},
   "source": [
    "# Eigenvalues"
   ]
  },
  {
   "cell_type": "code",
   "execution_count": 4,
   "id": "a58e8dc4",
   "metadata": {},
   "outputs": [
    {
     "name": "stdout",
     "output_type": "stream",
     "text": [
      "Eigenvalues:  (1+1j) (1-1j)\n",
      "Eigenvectors:  [0.70710678+0.j 0.70710678-0.j] [0.-0.70710678j 0.+0.70710678j]\n"
     ]
    }
   ],
   "source": [
    "A = np.array([[1, -1], [1, 1]])\n",
    "w, v = np.linalg.eig(A)\n",
    "print(\"Eigenvalues: \", w[0], w[1])\n",
    "print(\"Eigenvectors: \", v[0], v[1])"
   ]
  },
  {
   "cell_type": "code",
   "execution_count": 5,
   "id": "36c63e6a",
   "metadata": {},
   "outputs": [
    {
     "name": "stdout",
     "output_type": "stream",
     "text": [
      "Time constant:  1.0  Settling time:  4.0\n"
     ]
    }
   ],
   "source": [
    "tau = 1 / min(abs(w.real))\n",
    "t_s = tau * 4\n",
    "print(\"Time constant: \", tau, \" Settling time: \", t_s)"
   ]
  }
 ],
 "metadata": {
  "kernelspec": {
   "display_name": "Python 3 (ipykernel)",
   "language": "python",
   "name": "python3"
  },
  "language_info": {
   "codemirror_mode": {
    "name": "ipython",
    "version": 3
   },
   "file_extension": ".py",
   "mimetype": "text/x-python",
   "name": "python",
   "nbconvert_exporter": "python",
   "pygments_lexer": "ipython3",
   "version": "3.11.4"
  },
  "vscode": {
   "interpreter": {
    "hash": "aee8b7b246df8f9039afb4144a1f6fd8d2ca17a180786b69acc140d282b71a49"
   }
  }
 },
 "nbformat": 4,
 "nbformat_minor": 5
}
