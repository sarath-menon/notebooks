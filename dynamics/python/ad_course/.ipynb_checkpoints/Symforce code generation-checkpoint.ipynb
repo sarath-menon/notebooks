{
 "cells": [
  {
   "cell_type": "code",
   "execution_count": 1,
   "id": "54d69066",
   "metadata": {},
   "outputs": [],
   "source": [
    "# Setup\n",
    "import numpy as np\n",
    "import os\n",
    "import symforce\n",
    "\n",
    "symforce.set_symbolic_api(\"symengine\")\n",
    "symforce.set_log_level(\"warning\")\n",
    "\n",
    "# Set epsilon to a symbol for safe code generation.  For more information, see the Epsilon tutorial:\n",
    "# https://symforce.org/tutorials/epsilon_tutorial.html\n",
    "symforce.set_epsilon_to_symbol()\n",
    "\n",
    "from symforce import codegen\n",
    "from symforce.codegen import codegen_util\n",
    "from symforce import ops\n",
    "import symforce.symbolic as sf\n",
    "from symforce.values import Values\n",
    "from symforce.notebook_util import display, display_code, display_code_file"
   ]
  },
  {
   "cell_type": "code",
   "execution_count": 48,
   "id": "c79b26a2",
   "metadata": {},
   "outputs": [],
   "source": [
    "import sympy as sp\n",
    "sp.init_printing()"
   ]
  },
  {
   "cell_type": "markdown",
   "id": "678533e7",
   "metadata": {},
   "source": [
    "## Rotation matrices"
   ]
  },
  {
   "cell_type": "code",
   "execution_count": 91,
   "id": "3f061e17",
   "metadata": {},
   "outputs": [
    {
     "data": {
      "text/latex": [
       "$\\displaystyle \\left[\\begin{matrix}\\cos{\\left(\\alpha \\right)} \\cos{\\left(\\beta \\right)} & - \\sin{\\left(\\alpha \\right)} \\cos{\\left(\\gamma \\right)} + \\sin{\\left(\\beta \\right)} \\sin{\\left(\\gamma \\right)} \\cos{\\left(\\alpha \\right)} & \\sin{\\left(\\alpha \\right)} \\sin{\\left(\\gamma \\right)} + \\sin{\\left(\\beta \\right)} \\cos{\\left(\\alpha \\right)} \\cos{\\left(\\gamma \\right)}\\\\\\sin{\\left(\\alpha \\right)} \\cos{\\left(\\beta \\right)} & \\sin{\\left(\\alpha \\right)} \\sin{\\left(\\beta \\right)} \\sin{\\left(\\gamma \\right)} + \\cos{\\left(\\alpha \\right)} \\cos{\\left(\\gamma \\right)} & \\sin{\\left(\\alpha \\right)} \\sin{\\left(\\beta \\right)} \\cos{\\left(\\gamma \\right)} - \\sin{\\left(\\gamma \\right)} \\cos{\\left(\\alpha \\right)}\\\\- \\sin{\\left(\\beta \\right)} & \\sin{\\left(\\gamma \\right)} \\cos{\\left(\\beta \\right)} & \\cos{\\left(\\beta \\right)} \\cos{\\left(\\gamma \\right)}\\end{matrix}\\right]$"
      ],
      "text/plain": [
       "⎡cos(α)⋅cos(β)  -sin(α)⋅cos(γ) + sin(β)⋅sin(γ)⋅cos(α)  sin(α)⋅sin(γ) + sin(β)⋅\n",
       "⎢                                                                             \n",
       "⎢sin(α)⋅cos(β)  sin(α)⋅sin(β)⋅sin(γ) + cos(α)⋅cos(γ)   sin(α)⋅sin(β)⋅cos(γ) - \n",
       "⎢                                                                             \n",
       "⎣   -sin(β)                 sin(γ)⋅cos(β)                         cos(β)⋅cos(γ\n",
       "\n",
       "cos(α)⋅cos(γ)⎤\n",
       "             ⎥\n",
       "sin(γ)⋅cos(α)⎥\n",
       "             ⎥\n",
       ")            ⎦"
      ]
     },
     "metadata": {},
     "output_type": "display_data"
    },
    {
     "data": {
      "text/latex": [
       "$\\displaystyle \\left[\\begin{matrix}r_{b0}\\\\r_{b1}\\\\r_{b2}\\end{matrix}\\right]$"
      ],
      "text/plain": [
       "⎡r_b0⎤\n",
       "⎢    ⎥\n",
       "⎢r_b1⎥\n",
       "⎢    ⎥\n",
       "⎣r_b2⎦"
      ]
     },
     "metadata": {},
     "output_type": "display_data"
    },
    {
     "data": {
      "text/latex": [
       "$\\displaystyle \\left[\\begin{matrix}r_{B0} \\cos{\\left(\\alpha \\right)} \\cos{\\left(\\beta \\right)} + r_{B1} \\left(- \\sin{\\left(\\alpha \\right)} \\cos{\\left(\\gamma \\right)} + \\sin{\\left(\\beta \\right)} \\sin{\\left(\\gamma \\right)} \\cos{\\left(\\alpha \\right)}\\right) + r_{B2} \\left(\\sin{\\left(\\alpha \\right)} \\sin{\\left(\\gamma \\right)} + \\sin{\\left(\\beta \\right)} \\cos{\\left(\\alpha \\right)} \\cos{\\left(\\gamma \\right)}\\right)\\\\r_{B0} \\sin{\\left(\\alpha \\right)} \\cos{\\left(\\beta \\right)} + r_{B1} \\left(\\sin{\\left(\\alpha \\right)} \\sin{\\left(\\beta \\right)} \\sin{\\left(\\gamma \\right)} + \\cos{\\left(\\alpha \\right)} \\cos{\\left(\\gamma \\right)}\\right) + r_{B2} \\left(\\sin{\\left(\\alpha \\right)} \\sin{\\left(\\beta \\right)} \\cos{\\left(\\gamma \\right)} - \\sin{\\left(\\gamma \\right)} \\cos{\\left(\\alpha \\right)}\\right)\\\\- r_{B0} \\sin{\\left(\\beta \\right)} + r_{B1} \\sin{\\left(\\gamma \\right)} \\cos{\\left(\\beta \\right)} + r_{B2} \\cos{\\left(\\beta \\right)} \\cos{\\left(\\gamma \\right)}\\end{matrix}\\right]$"
      ],
      "text/plain": [
       "⎡r_B0⋅cos(α)⋅cos(β) + r_B1⋅(-sin(α)⋅cos(γ) + sin(β)⋅sin(γ)⋅cos(α)) + r_B2⋅(sin\n",
       "⎢                                                                             \n",
       "⎢r_B0⋅sin(α)⋅cos(β) + r_B1⋅(sin(α)⋅sin(β)⋅sin(γ) + cos(α)⋅cos(γ)) + r_B2⋅(sin(\n",
       "⎢                                                                             \n",
       "⎣                            -r_B0⋅sin(β) + r_B1⋅sin(γ)⋅cos(β) + r_B2⋅cos(β)⋅c\n",
       "\n",
       "(α)⋅sin(γ) + sin(β)⋅cos(α)⋅cos(γ))⎤\n",
       "                                  ⎥\n",
       "α)⋅sin(β)⋅cos(γ) - sin(γ)⋅cos(α)) ⎥\n",
       "                                  ⎥\n",
       "os(γ)                             ⎦"
      ]
     },
     "metadata": {},
     "output_type": "display_data"
    }
   ],
   "source": [
    "# Sympy matrices\n",
    "# Rotate about x-axis\n",
    "\n",
    "alpha, beta, gamma = sp.symbols(\"alpha, beta, gamma\")\n",
    "\n",
    "R_x = sf.Matrix(\n",
    "    [\n",
    "        [1, 0, 0],\n",
    "        [0, sf.cos(gamma), -sf.sin(gamma)],\n",
    "        [0, sf.sin(gamma), sf.cos(gamma)],\n",
    "    ]\n",
    ")\n",
    "\n",
    "R_y = sf.Matrix(\n",
    "    [\n",
    "        [sf.cos(beta), 0, sf.sin(beta)],\n",
    "        [0            , 1,             0],\n",
    "        [-sf.sin(beta), 0, sf.cos(beta)],\n",
    "    ]\n",
    ")\n",
    "\n",
    "R_z = sf.Matrix(\n",
    "    [\n",
    "        [sf.cos(alpha), -sf.sin(alpha), 0],\n",
    "        [sf.sin(alpha),  sf.cos(alpha), 0],\n",
    "        [0            ,  0            , 1],\n",
    "    ]\n",
    ")\n",
    "\n",
    "# Rotation matrix from body fixed frame to intertial frame\n",
    "R_IB = R_z*R_y*R_x\n",
    "\n",
    "# transform vector from body fixed frame to world-frame\n",
    "r_I = R_IB * r_B\n",
    "\n",
    "display(R_IB)\n",
    "display(r_b)\n",
    "display(r_I)"
   ]
  },
  {
   "cell_type": "code",
   "execution_count": 83,
   "id": "191b7cb8",
   "metadata": {},
   "outputs": [],
   "source": [
    "def R_IB(\n",
    "    alpha:sf.Scalar, beta:sf.Scalar, gamma:sf.Scalar, epsilon: sf.Scalar = 0\n",
    ") -> sf.Rot3:\n",
    "    \"\"\"\n",
    "    Transform a nav point into azimuth / elevation angles in the\n",
    "    camera frame.\n",
    "\n",
    "    Args:\n",
    "        nav_T_cam (sf.Pose3): camera pose in the world\n",
    "        nav_t_point (sf.Matrix): nav point\n",
    "        epsilon (Scalar): small number to avoid singularities\n",
    "\n",
    "    Returns:\n",
    "        sf.Matrix: (azimuth, elevation)\n",
    "    \"\"\"\n",
    "\n",
    "    R_x = sf.Matrix(\n",
    "        [\n",
    "            [1, 0, 0],\n",
    "            [0, sf.cos(gamma), -sf.sin(gamma)],\n",
    "            [0, sf.sin(gamma), sf.cos(gamma)],\n",
    "        ]\n",
    "    )\n",
    "\n",
    "    R_y = sf.Matrix(\n",
    "        [\n",
    "            [sf.cos(beta), 0, sf.sin(beta)],\n",
    "            [0            , 1,             0],\n",
    "            [-sf.sin(beta), 0, sf.cos(beta)],\n",
    "        ]\n",
    "    )\n",
    "\n",
    "    R_z = sf.Matrix(\n",
    "        [\n",
    "            [sf.cos(alpha), -sf.sin(alpha), 0],\n",
    "            [sf.sin(alpha),  sf.cos(alpha), 0],\n",
    "            [0            ,  0            , 1],\n",
    "        ]\n",
    "    )\n",
    "    \n",
    "    R_IB = R_z*R_y*R_x\n",
    "    \n",
    "    # create a Rot3 type from the rotation matrix\n",
    "    R_IB = sf.Rot3.from_rotation_matrix(R_IB)\n",
    "\n",
    "    return R_IB"
   ]
  },
  {
   "cell_type": "markdown",
   "id": "676ffdef",
   "metadata": {},
   "source": [
    "## Create code generators for C++ and python"
   ]
  },
  {
   "cell_type": "code",
   "execution_count": 84,
   "id": "829936cf",
   "metadata": {},
   "outputs": [],
   "source": [
    "az_el_codegen_cpp = codegen.Codegen.function(\n",
    "    func=R_IB,\n",
    "    config=codegen.CppConfig(),\n",
    ")\n",
    "\n",
    "az_el_codegen_python = codegen.Codegen.function(\n",
    "    func=R_IB,\n",
    "    config=codegen.PythonConfig(),\n",
    ")"
   ]
  },
  {
   "cell_type": "markdown",
   "id": "c88887f2",
   "metadata": {},
   "source": [
    "## Generate C++ code"
   ]
  },
  {
   "cell_type": "code",
   "execution_count": 85,
   "id": "f6f1f8d0",
   "metadata": {},
   "outputs": [
    {
     "data": {
      "text/html": [
       "<div class=\"highlight\" style=\"background: #f8f8f8\"><pre style=\"line-height: 125%;\"><span></span><span style=\"color: #3D7B7B; font-style: italic\">// -----------------------------------------------------------------------------</span>\n",
       "<span style=\"color: #3D7B7B; font-style: italic\">// This file was autogenerated by symforce from template:</span>\n",
       "<span style=\"color: #3D7B7B; font-style: italic\">//     function/FUNCTION.h.jinja</span>\n",
       "<span style=\"color: #3D7B7B; font-style: italic\">// Do NOT modify by hand.</span>\n",
       "<span style=\"color: #3D7B7B; font-style: italic\">// -----------------------------------------------------------------------------</span>\n",
       "\n",
       "<span style=\"color: #9C6500\">#pragma once</span>\n",
       "\n",
       "<span style=\"color: #9C6500\">#include</span><span style=\"color: #bbbbbb\"> </span><span style=\"color: #3D7B7B; font-style: italic\">&lt;Eigen/Dense&gt;</span><span style=\"color: #9C6500\"></span>\n",
       "\n",
       "<span style=\"color: #9C6500\">#include</span><span style=\"color: #bbbbbb\"> </span><span style=\"color: #3D7B7B; font-style: italic\">&lt;sym/rot3.h&gt;</span><span style=\"color: #9C6500\"></span>\n",
       "\n",
       "<span style=\"color: #008000; font-weight: bold\">namespace</span><span style=\"color: #bbbbbb\"> </span><span style=\"color: #0000FF; font-weight: bold\">sym</span><span style=\"color: #bbbbbb\"> </span>{<span style=\"color: #bbbbbb\"></span>\n",
       "\n",
       "<span style=\"color: #3D7B7B; font-style: italic\">/**</span>\n",
       "<span style=\"color: #3D7B7B; font-style: italic\"> * Transform a nav point into azimuth / elevation angles in the</span>\n",
       "<span style=\"color: #3D7B7B; font-style: italic\"> * camera frame.</span>\n",
       "<span style=\"color: #3D7B7B; font-style: italic\"> *</span>\n",
       "<span style=\"color: #3D7B7B; font-style: italic\"> * Args:</span>\n",
       "<span style=\"color: #3D7B7B; font-style: italic\"> *     nav_T_cam (sf.Pose3): camera pose in the world</span>\n",
       "<span style=\"color: #3D7B7B; font-style: italic\"> *     nav_t_point (sf.Matrix): nav point</span>\n",
       "<span style=\"color: #3D7B7B; font-style: italic\"> *     epsilon (Scalar): small number to avoid singularities</span>\n",
       "<span style=\"color: #3D7B7B; font-style: italic\"> *</span>\n",
       "<span style=\"color: #3D7B7B; font-style: italic\"> * Returns:</span>\n",
       "<span style=\"color: #3D7B7B; font-style: italic\"> *     sf.Matrix: (azimuth, elevation)</span>\n",
       "<span style=\"color: #3D7B7B; font-style: italic\"> */</span><span style=\"color: #bbbbbb\"></span>\n",
       "<span style=\"color: #008000; font-weight: bold\">template</span><span style=\"color: #bbbbbb\"> </span><span style=\"color: #666666\">&lt;</span><span style=\"color: #008000; font-weight: bold\">typename</span><span style=\"color: #bbbbbb\"> </span><span style=\"color: #0000FF; font-weight: bold\">Scalar</span><span style=\"color: #666666\">&gt;</span><span style=\"color: #bbbbbb\"></span>\n",
       "sym<span style=\"color: #666666\">::</span>Rot3<span style=\"color: #666666\">&lt;</span>Scalar<span style=\"color: #666666\">&gt;</span><span style=\"color: #bbbbbb\"> </span>RIb(<span style=\"color: #008000; font-weight: bold\">const</span><span style=\"color: #bbbbbb\"> </span>Scalar<span style=\"color: #bbbbbb\"> </span>alpha,<span style=\"color: #bbbbbb\"> </span><span style=\"color: #008000; font-weight: bold\">const</span><span style=\"color: #bbbbbb\"> </span>Scalar<span style=\"color: #bbbbbb\"> </span>beta,<span style=\"color: #bbbbbb\"> </span><span style=\"color: #008000; font-weight: bold\">const</span><span style=\"color: #bbbbbb\"> </span>Scalar<span style=\"color: #bbbbbb\"> </span>gamma,<span style=\"color: #bbbbbb\"></span>\n",
       "<span style=\"color: #bbbbbb\">                      </span><span style=\"color: #008000; font-weight: bold\">const</span><span style=\"color: #bbbbbb\"> </span>Scalar<span style=\"color: #bbbbbb\"> </span>epsilon)<span style=\"color: #bbbbbb\"> </span>{<span style=\"color: #bbbbbb\"></span>\n",
       "<span style=\"color: #bbbbbb\">  </span><span style=\"color: #3D7B7B; font-style: italic\">// Total ops: 129</span>\n",
       "\n",
       "<span style=\"color: #bbbbbb\">  </span><span style=\"color: #3D7B7B; font-style: italic\">// Unused inputs</span>\n",
       "<span style=\"color: #bbbbbb\">  </span>(<span style=\"color: #B00040\">void</span>)epsilon;<span style=\"color: #bbbbbb\"></span>\n",
       "\n",
       "<span style=\"color: #bbbbbb\">  </span><span style=\"color: #3D7B7B; font-style: italic\">// Input arrays</span>\n",
       "\n",
       "<span style=\"color: #bbbbbb\">  </span><span style=\"color: #3D7B7B; font-style: italic\">// Intermediate terms (47)</span>\n",
       "<span style=\"color: #bbbbbb\">  </span><span style=\"color: #008000; font-weight: bold\">const</span><span style=\"color: #bbbbbb\"> </span>Scalar<span style=\"color: #bbbbbb\"> </span>_tmp0<span style=\"color: #bbbbbb\"> </span><span style=\"color: #666666\">=</span><span style=\"color: #bbbbbb\"> </span>std<span style=\"color: #666666\">::</span>sin(beta);<span style=\"color: #bbbbbb\"></span>\n",
       "<span style=\"color: #bbbbbb\">  </span><span style=\"color: #008000; font-weight: bold\">const</span><span style=\"color: #bbbbbb\"> </span>Scalar<span style=\"color: #bbbbbb\"> </span>_tmp1<span style=\"color: #bbbbbb\"> </span><span style=\"color: #666666\">=</span><span style=\"color: #bbbbbb\"> </span>std<span style=\"color: #666666\">::</span>cos(gamma);<span style=\"color: #bbbbbb\"></span>\n",
       "<span style=\"color: #bbbbbb\">  </span><span style=\"color: #008000; font-weight: bold\">const</span><span style=\"color: #bbbbbb\"> </span>Scalar<span style=\"color: #bbbbbb\"> </span>_tmp2<span style=\"color: #bbbbbb\"> </span><span style=\"color: #666666\">=</span><span style=\"color: #bbbbbb\"> </span>std<span style=\"color: #666666\">::</span>cos(alpha);<span style=\"color: #bbbbbb\"></span>\n",
       "<span style=\"color: #bbbbbb\">  </span><span style=\"color: #008000; font-weight: bold\">const</span><span style=\"color: #bbbbbb\"> </span>Scalar<span style=\"color: #bbbbbb\"> </span>_tmp3<span style=\"color: #bbbbbb\"> </span><span style=\"color: #666666\">=</span><span style=\"color: #bbbbbb\"> </span>_tmp1<span style=\"color: #bbbbbb\"> </span><span style=\"color: #666666\">*</span><span style=\"color: #bbbbbb\"> </span>_tmp2;<span style=\"color: #bbbbbb\"></span>\n",
       "<span style=\"color: #bbbbbb\">  </span><span style=\"color: #008000; font-weight: bold\">const</span><span style=\"color: #bbbbbb\"> </span>Scalar<span style=\"color: #bbbbbb\"> </span>_tmp4<span style=\"color: #bbbbbb\"> </span><span style=\"color: #666666\">=</span><span style=\"color: #bbbbbb\"> </span>std<span style=\"color: #666666\">::</span>sin(gamma);<span style=\"color: #bbbbbb\"></span>\n",
       "<span style=\"color: #bbbbbb\">  </span><span style=\"color: #008000; font-weight: bold\">const</span><span style=\"color: #bbbbbb\"> </span>Scalar<span style=\"color: #bbbbbb\"> </span>_tmp5<span style=\"color: #bbbbbb\"> </span><span style=\"color: #666666\">=</span><span style=\"color: #bbbbbb\"> </span>std<span style=\"color: #666666\">::</span>sin(alpha);<span style=\"color: #bbbbbb\"></span>\n",
       "<span style=\"color: #bbbbbb\">  </span><span style=\"color: #008000; font-weight: bold\">const</span><span style=\"color: #bbbbbb\"> </span>Scalar<span style=\"color: #bbbbbb\"> </span>_tmp6<span style=\"color: #bbbbbb\"> </span><span style=\"color: #666666\">=</span><span style=\"color: #bbbbbb\"> </span>_tmp4<span style=\"color: #bbbbbb\"> </span><span style=\"color: #666666\">*</span><span style=\"color: #bbbbbb\"> </span>_tmp5;<span style=\"color: #bbbbbb\"></span>\n",
       "<span style=\"color: #bbbbbb\">  </span><span style=\"color: #008000; font-weight: bold\">const</span><span style=\"color: #bbbbbb\"> </span>Scalar<span style=\"color: #bbbbbb\"> </span>_tmp7<span style=\"color: #bbbbbb\"> </span><span style=\"color: #666666\">=</span><span style=\"color: #bbbbbb\"> </span>_tmp0<span style=\"color: #bbbbbb\"> </span><span style=\"color: #666666\">*</span><span style=\"color: #bbbbbb\"> </span>_tmp3<span style=\"color: #bbbbbb\"> </span><span style=\"color: #666666\">+</span><span style=\"color: #bbbbbb\"> </span>_tmp6;<span style=\"color: #bbbbbb\"></span>\n",
       "<span style=\"color: #bbbbbb\">  </span><span style=\"color: #008000; font-weight: bold\">const</span><span style=\"color: #bbbbbb\"> </span>Scalar<span style=\"color: #bbbbbb\"> </span>_tmp8<span style=\"color: #bbbbbb\"> </span><span style=\"color: #666666\">=</span><span style=\"color: #bbbbbb\"> </span><span style=\"color: #666666\">-</span>_tmp0<span style=\"color: #bbbbbb\"> </span><span style=\"color: #666666\">+</span><span style=\"color: #bbbbbb\"> </span>_tmp7;<span style=\"color: #bbbbbb\"></span>\n",
       "<span style=\"color: #bbbbbb\">  </span><span style=\"color: #008000; font-weight: bold\">const</span><span style=\"color: #bbbbbb\"> </span>Scalar<span style=\"color: #bbbbbb\"> </span>_tmp9<span style=\"color: #bbbbbb\"> </span><span style=\"color: #666666\">=</span><span style=\"color: #bbbbbb\"> </span>std<span style=\"color: #666666\">::</span>cos(beta);<span style=\"color: #bbbbbb\"></span>\n",
       "<span style=\"color: #bbbbbb\">  </span><span style=\"color: #008000; font-weight: bold\">const</span><span style=\"color: #bbbbbb\"> </span>Scalar<span style=\"color: #bbbbbb\"> </span>_tmp10<span style=\"color: #bbbbbb\"> </span><span style=\"color: #666666\">=</span><span style=\"color: #bbbbbb\"> </span>_tmp1<span style=\"color: #bbbbbb\"> </span><span style=\"color: #666666\">*</span><span style=\"color: #bbbbbb\"> </span>_tmp9;<span style=\"color: #bbbbbb\"></span>\n",
       "<span style=\"color: #bbbbbb\">  </span><span style=\"color: #008000; font-weight: bold\">const</span><span style=\"color: #bbbbbb\"> </span>Scalar<span style=\"color: #bbbbbb\"> </span>_tmp11<span style=\"color: #bbbbbb\"> </span><span style=\"color: #666666\">=</span><span style=\"color: #bbbbbb\"> </span>_tmp2<span style=\"color: #bbbbbb\"> </span><span style=\"color: #666666\">*</span><span style=\"color: #bbbbbb\"> </span>_tmp9;<span style=\"color: #bbbbbb\"></span>\n",
       "<span style=\"color: #bbbbbb\">  </span><span style=\"color: #008000; font-weight: bold\">const</span><span style=\"color: #bbbbbb\"> </span>Scalar<span style=\"color: #bbbbbb\"> </span>_tmp12<span style=\"color: #bbbbbb\"> </span><span style=\"color: #666666\">=</span><span style=\"color: #bbbbbb\"> </span><span style=\"color: #666666\">-</span>_tmp11;<span style=\"color: #bbbbbb\"></span>\n",
       "<span style=\"color: #bbbbbb\">  </span><span style=\"color: #008000; font-weight: bold\">const</span><span style=\"color: #bbbbbb\"> </span>Scalar<span style=\"color: #bbbbbb\"> </span>_tmp13<span style=\"color: #bbbbbb\"> </span><span style=\"color: #666666\">=</span><span style=\"color: #bbbbbb\"> </span>_tmp0<span style=\"color: #bbbbbb\"> </span><span style=\"color: #666666\">*</span><span style=\"color: #bbbbbb\"> </span>_tmp6<span style=\"color: #bbbbbb\"> </span><span style=\"color: #666666\">+</span><span style=\"color: #bbbbbb\"> </span>_tmp3;<span style=\"color: #bbbbbb\"></span>\n",
       "<span style=\"color: #bbbbbb\">  </span><span style=\"color: #008000; font-weight: bold\">const</span><span style=\"color: #bbbbbb\"> </span>Scalar<span style=\"color: #bbbbbb\"> </span>_tmp14<span style=\"color: #bbbbbb\"> </span><span style=\"color: #666666\">=</span><span style=\"color: #bbbbbb\"> </span><span style=\"color: #666666\">1</span><span style=\"color: #bbbbbb\"> </span><span style=\"color: #666666\">-</span><span style=\"color: #bbbbbb\"> </span>_tmp13;<span style=\"color: #bbbbbb\"></span>\n",
       "<span style=\"color: #bbbbbb\">  </span><span style=\"color: #008000; font-weight: bold\">const</span><span style=\"color: #bbbbbb\"> </span>Scalar<span style=\"color: #bbbbbb\"> </span>_tmp15<span style=\"color: #bbbbbb\"> </span><span style=\"color: #666666\">=</span><span style=\"color: #bbbbbb\"> </span>_tmp11<span style=\"color: #bbbbbb\"> </span><span style=\"color: #666666\">+</span><span style=\"color: #bbbbbb\"> </span>_tmp13;<span style=\"color: #bbbbbb\"></span>\n",
       "<span style=\"color: #bbbbbb\">  </span><span style=\"color: #008000; font-weight: bold\">const</span><span style=\"color: #bbbbbb\"> </span>Scalar<span style=\"color: #bbbbbb\"> </span>_tmp16<span style=\"color: #bbbbbb\"> </span><span style=\"color: #666666\">=</span><span style=\"color: #bbbbbb\"> </span>_tmp10<span style=\"color: #bbbbbb\"> </span><span style=\"color: #666666\">+</span><span style=\"color: #bbbbbb\"> </span>_tmp15;<span style=\"color: #bbbbbb\"></span>\n",
       "<span style=\"color: #bbbbbb\">  </span><span style=\"color: #008000; font-weight: bold\">const</span><span style=\"color: #bbbbbb\"> </span>Scalar<span style=\"color: #bbbbbb\"> </span>_tmp17<span style=\"color: #bbbbbb\"> </span><span style=\"color: #666666\">=</span><span style=\"color: #bbbbbb\"></span>\n",
       "<span style=\"color: #bbbbbb\">      </span><span style=\"color: #666666\">-</span>std<span style=\"color: #666666\">::</span>max<span style=\"color: #666666\">&lt;</span>Scalar<span style=\"color: #666666\">&gt;</span>(_tmp10,<span style=\"color: #bbbbbb\"> </span>std<span style=\"color: #666666\">::</span>max<span style=\"color: #666666\">&lt;</span>Scalar<span style=\"color: #666666\">&gt;</span>(_tmp11,<span style=\"color: #bbbbbb\"> </span>std<span style=\"color: #666666\">::</span>max<span style=\"color: #666666\">&lt;</span>Scalar<span style=\"color: #666666\">&gt;</span>(_tmp13,<span style=\"color: #bbbbbb\"> </span>_tmp16)));<span style=\"color: #bbbbbb\"></span>\n",
       "<span style=\"color: #bbbbbb\">  </span><span style=\"color: #008000; font-weight: bold\">const</span><span style=\"color: #bbbbbb\"> </span>Scalar<span style=\"color: #bbbbbb\"> </span>_tmp18<span style=\"color: #bbbbbb\"> </span><span style=\"color: #666666\">=</span><span style=\"color: #bbbbbb\"> </span>_tmp10<span style=\"color: #bbbbbb\"> </span><span style=\"color: #666666\">+</span><span style=\"color: #bbbbbb\"> </span>_tmp17;<span style=\"color: #bbbbbb\"></span>\n",
       "<span style=\"color: #bbbbbb\">  </span><span style=\"color: #008000; font-weight: bold\">const</span><span style=\"color: #bbbbbb\"> </span>Scalar<span style=\"color: #bbbbbb\"> </span>_tmp19<span style=\"color: #bbbbbb\"> </span><span style=\"color: #666666\">=</span><span style=\"color: #bbbbbb\"></span>\n",
       "<span style=\"color: #bbbbbb\">      </span><span style=\"color: #666666\">1</span><span style=\"color: #bbbbbb\"> </span><span style=\"color: #666666\">-</span><span style=\"color: #bbbbbb\"> </span>std<span style=\"color: #666666\">::</span>max<span style=\"color: #666666\">&lt;</span>Scalar<span style=\"color: #666666\">&gt;</span>(<span style=\"color: #666666\">0</span>,<span style=\"color: #bbbbbb\"> </span><span style=\"color: #666666\">-</span>(((_tmp11<span style=\"color: #bbbbbb\"> </span><span style=\"color: #666666\">+</span><span style=\"color: #bbbbbb\"> </span>_tmp17)<span style=\"color: #bbbbbb\"> </span><span style=\"color: #666666\">&gt;</span><span style=\"color: #bbbbbb\"> </span><span style=\"color: #666666\">0</span>)<span style=\"color: #bbbbbb\"> </span><span style=\"color: #666666\">-</span><span style=\"color: #bbbbbb\"> </span>((_tmp11<span style=\"color: #bbbbbb\"> </span><span style=\"color: #666666\">+</span><span style=\"color: #bbbbbb\"> </span>_tmp17)<span style=\"color: #bbbbbb\"> </span><span style=\"color: #666666\">&lt;</span><span style=\"color: #bbbbbb\"> </span><span style=\"color: #666666\">0</span>)));<span style=\"color: #bbbbbb\"></span>\n",
       "<span style=\"color: #bbbbbb\">  </span><span style=\"color: #008000; font-weight: bold\">const</span><span style=\"color: #bbbbbb\"> </span>Scalar<span style=\"color: #bbbbbb\"> </span>_tmp20<span style=\"color: #bbbbbb\"> </span><span style=\"color: #666666\">=</span><span style=\"color: #bbbbbb\"> </span>std<span style=\"color: #666666\">::</span>min<span style=\"color: #666666\">&lt;</span>Scalar<span style=\"color: #666666\">&gt;</span>(<span style=\"color: #bbbbbb\"></span>\n",
       "<span style=\"color: #bbbbbb\">      </span><span style=\"color: #666666\">1</span><span style=\"color: #bbbbbb\"> </span><span style=\"color: #666666\">-</span><span style=\"color: #bbbbbb\"> </span>std<span style=\"color: #666666\">::</span>max<span style=\"color: #666666\">&lt;</span>Scalar<span style=\"color: #666666\">&gt;</span>(<span style=\"color: #666666\">0</span>,<span style=\"color: #bbbbbb\"> </span>_tmp19),<span style=\"color: #bbbbbb\"></span>\n",
       "<span style=\"color: #bbbbbb\">      </span><span style=\"color: #666666\">1</span><span style=\"color: #bbbbbb\"> </span><span style=\"color: #666666\">-</span><span style=\"color: #bbbbbb\"> </span>std<span style=\"color: #666666\">::</span>max<span style=\"color: #666666\">&lt;</span>Scalar<span style=\"color: #666666\">&gt;</span>(<span style=\"color: #666666\">0</span>,<span style=\"color: #bbbbbb\"> </span><span style=\"color: #666666\">-</span>(((_tmp13<span style=\"color: #bbbbbb\"> </span><span style=\"color: #666666\">+</span><span style=\"color: #bbbbbb\"> </span>_tmp17)<span style=\"color: #bbbbbb\"> </span><span style=\"color: #666666\">&gt;</span><span style=\"color: #bbbbbb\"> </span><span style=\"color: #666666\">0</span>)<span style=\"color: #bbbbbb\"> </span><span style=\"color: #666666\">-</span><span style=\"color: #bbbbbb\"> </span>((_tmp13<span style=\"color: #bbbbbb\"> </span><span style=\"color: #666666\">+</span><span style=\"color: #bbbbbb\"> </span>_tmp17)<span style=\"color: #bbbbbb\"> </span><span style=\"color: #666666\">&lt;</span><span style=\"color: #bbbbbb\"> </span><span style=\"color: #666666\">0</span>))));<span style=\"color: #bbbbbb\"></span>\n",
       "<span style=\"color: #bbbbbb\">  </span><span style=\"color: #008000; font-weight: bold\">const</span><span style=\"color: #bbbbbb\"> </span>Scalar<span style=\"color: #bbbbbb\"> </span>_tmp21<span style=\"color: #bbbbbb\"> </span><span style=\"color: #666666\">=</span><span style=\"color: #bbbbbb\"></span>\n",
       "<span style=\"color: #bbbbbb\">      </span>std<span style=\"color: #666666\">::</span>min<span style=\"color: #666666\">&lt;</span>Scalar<span style=\"color: #666666\">&gt;</span>(<span style=\"color: #666666\">1</span><span style=\"color: #bbbbbb\"> </span><span style=\"color: #666666\">-</span><span style=\"color: #bbbbbb\"> </span>std<span style=\"color: #666666\">::</span>max<span style=\"color: #666666\">&lt;</span>Scalar<span style=\"color: #666666\">&gt;</span>(<span style=\"color: #666666\">0</span>,<span style=\"color: #bbbbbb\"> </span>std<span style=\"color: #666666\">::</span>max<span style=\"color: #666666\">&lt;</span>Scalar<span style=\"color: #666666\">&gt;</span>(_tmp19,<span style=\"color: #bbbbbb\"> </span>_tmp20)),<span style=\"color: #bbbbbb\"></span>\n",
       "<span style=\"color: #bbbbbb\">                       </span><span style=\"color: #666666\">1</span><span style=\"color: #bbbbbb\"> </span><span style=\"color: #666666\">-</span><span style=\"color: #bbbbbb\"> </span>std<span style=\"color: #666666\">::</span>max<span style=\"color: #666666\">&lt;</span>Scalar<span style=\"color: #666666\">&gt;</span>(<span style=\"color: #666666\">0</span>,<span style=\"color: #bbbbbb\"> </span><span style=\"color: #666666\">-</span>(((_tmp18)<span style=\"color: #bbbbbb\"> </span><span style=\"color: #666666\">&gt;</span><span style=\"color: #bbbbbb\"> </span><span style=\"color: #666666\">0</span>)<span style=\"color: #bbbbbb\"> </span><span style=\"color: #666666\">-</span><span style=\"color: #bbbbbb\"> </span>((_tmp18)<span style=\"color: #bbbbbb\"> </span><span style=\"color: #666666\">&lt;</span><span style=\"color: #bbbbbb\"> </span><span style=\"color: #666666\">0</span>))));<span style=\"color: #bbbbbb\"></span>\n",
       "<span style=\"color: #bbbbbb\">  </span><span style=\"color: #008000; font-weight: bold\">const</span><span style=\"color: #bbbbbb\"> </span>Scalar<span style=\"color: #bbbbbb\"> </span>_tmp22<span style=\"color: #bbbbbb\"> </span><span style=\"color: #666666\">=</span><span style=\"color: #bbbbbb\"></span>\n",
       "<span style=\"color: #bbbbbb\">      </span><span style=\"color: #666666\">-</span>_tmp21<span style=\"color: #bbbbbb\"> </span><span style=\"color: #666666\">+</span><span style=\"color: #bbbbbb\"> </span>std<span style=\"color: #666666\">::</span>sqrt(Scalar(std<span style=\"color: #666666\">::</span>max<span style=\"color: #666666\">&lt;</span>Scalar<span style=\"color: #666666\">&gt;</span>(<span style=\"color: #666666\">0</span>,<span style=\"color: #bbbbbb\"> </span>_tmp10<span style=\"color: #bbbbbb\"> </span><span style=\"color: #666666\">+</span><span style=\"color: #bbbbbb\"> </span>_tmp12<span style=\"color: #bbbbbb\"> </span><span style=\"color: #666666\">+</span><span style=\"color: #bbbbbb\"> </span>_tmp14)))<span style=\"color: #bbbbbb\"> </span><span style=\"color: #666666\">+</span><span style=\"color: #bbbbbb\"> </span><span style=\"color: #666666\">1</span>;<span style=\"color: #bbbbbb\"></span>\n",
       "<span style=\"color: #bbbbbb\">  </span><span style=\"color: #008000; font-weight: bold\">const</span><span style=\"color: #bbbbbb\"> </span>Scalar<span style=\"color: #bbbbbb\"> </span>_tmp23<span style=\"color: #bbbbbb\"> </span><span style=\"color: #666666\">=</span><span style=\"color: #bbbbbb\"> </span>(Scalar(<span style=\"color: #666666\">1</span>)<span style=\"color: #bbbbbb\"> </span><span style=\"color: #666666\">/</span><span style=\"color: #bbbbbb\"> </span>Scalar(<span style=\"color: #666666\">2</span>))<span style=\"color: #bbbbbb\"> </span><span style=\"color: #666666\">*</span><span style=\"color: #bbbbbb\"> </span>_tmp21;<span style=\"color: #bbbbbb\"></span>\n",
       "<span style=\"color: #bbbbbb\">  </span><span style=\"color: #008000; font-weight: bold\">const</span><span style=\"color: #bbbbbb\"> </span>Scalar<span style=\"color: #bbbbbb\"> </span>_tmp24<span style=\"color: #bbbbbb\"> </span><span style=\"color: #666666\">=</span><span style=\"color: #bbbbbb\"> </span>_tmp23<span style=\"color: #bbbbbb\"> </span><span style=\"color: #666666\">/</span><span style=\"color: #bbbbbb\"> </span>_tmp22;<span style=\"color: #bbbbbb\"></span>\n",
       "<span style=\"color: #bbbbbb\">  </span><span style=\"color: #008000; font-weight: bold\">const</span><span style=\"color: #bbbbbb\"> </span>Scalar<span style=\"color: #bbbbbb\"> </span>_tmp25<span style=\"color: #bbbbbb\"> </span><span style=\"color: #666666\">=</span><span style=\"color: #bbbbbb\"> </span>_tmp1<span style=\"color: #bbbbbb\"> </span><span style=\"color: #666666\">*</span><span style=\"color: #bbbbbb\"> </span>_tmp5;<span style=\"color: #bbbbbb\"></span>\n",
       "<span style=\"color: #bbbbbb\">  </span><span style=\"color: #008000; font-weight: bold\">const</span><span style=\"color: #bbbbbb\"> </span>Scalar<span style=\"color: #bbbbbb\"> </span>_tmp26<span style=\"color: #bbbbbb\"> </span><span style=\"color: #666666\">=</span><span style=\"color: #bbbbbb\"> </span>_tmp2<span style=\"color: #bbbbbb\"> </span><span style=\"color: #666666\">*</span><span style=\"color: #bbbbbb\"> </span>_tmp4;<span style=\"color: #bbbbbb\"></span>\n",
       "<span style=\"color: #bbbbbb\">  </span><span style=\"color: #008000; font-weight: bold\">const</span><span style=\"color: #bbbbbb\"> </span>Scalar<span style=\"color: #bbbbbb\"> </span>_tmp27<span style=\"color: #bbbbbb\"> </span><span style=\"color: #666666\">=</span><span style=\"color: #bbbbbb\"> </span>_tmp0<span style=\"color: #bbbbbb\"> </span><span style=\"color: #666666\">*</span><span style=\"color: #bbbbbb\"> </span>_tmp25<span style=\"color: #bbbbbb\"> </span><span style=\"color: #666666\">-</span><span style=\"color: #bbbbbb\"> </span>_tmp26;<span style=\"color: #bbbbbb\"></span>\n",
       "<span style=\"color: #bbbbbb\">  </span><span style=\"color: #008000; font-weight: bold\">const</span><span style=\"color: #bbbbbb\"> </span>Scalar<span style=\"color: #bbbbbb\"> </span>_tmp28<span style=\"color: #bbbbbb\"> </span><span style=\"color: #666666\">=</span><span style=\"color: #bbbbbb\"> </span>_tmp4<span style=\"color: #bbbbbb\"> </span><span style=\"color: #666666\">*</span><span style=\"color: #bbbbbb\"> </span>_tmp9;<span style=\"color: #bbbbbb\"></span>\n",
       "<span style=\"color: #bbbbbb\">  </span><span style=\"color: #008000; font-weight: bold\">const</span><span style=\"color: #bbbbbb\"> </span>Scalar<span style=\"color: #bbbbbb\"> </span>_tmp29<span style=\"color: #bbbbbb\"> </span><span style=\"color: #666666\">=</span><span style=\"color: #bbbbbb\"> </span><span style=\"color: #666666\">-</span>_tmp27<span style=\"color: #bbbbbb\"> </span><span style=\"color: #666666\">+</span><span style=\"color: #bbbbbb\"> </span>_tmp28;<span style=\"color: #bbbbbb\"></span>\n",
       "<span style=\"color: #bbbbbb\">  </span><span style=\"color: #008000; font-weight: bold\">const</span><span style=\"color: #bbbbbb\"> </span>Scalar<span style=\"color: #bbbbbb\"> </span>_tmp30<span style=\"color: #bbbbbb\"> </span><span style=\"color: #666666\">=</span><span style=\"color: #bbbbbb\"> </span>std<span style=\"color: #666666\">::</span>min<span style=\"color: #666666\">&lt;</span>Scalar<span style=\"color: #666666\">&gt;</span>(<span style=\"color: #bbbbbb\"></span>\n",
       "<span style=\"color: #bbbbbb\">      </span><span style=\"color: #666666\">1</span><span style=\"color: #bbbbbb\"> </span><span style=\"color: #666666\">-</span><span style=\"color: #bbbbbb\"> </span>std<span style=\"color: #666666\">::</span>max<span style=\"color: #666666\">&lt;</span>Scalar<span style=\"color: #666666\">&gt;</span>(<span style=\"color: #666666\">0</span>,<span style=\"color: #bbbbbb\"> </span>std<span style=\"color: #666666\">::</span>max<span style=\"color: #666666\">&lt;</span>Scalar<span style=\"color: #666666\">&gt;</span>(_tmp19,<span style=\"color: #bbbbbb\"> </span>std<span style=\"color: #666666\">::</span>max<span style=\"color: #666666\">&lt;</span>Scalar<span style=\"color: #666666\">&gt;</span>(_tmp20,<span style=\"color: #bbbbbb\"> </span>_tmp21))),<span style=\"color: #bbbbbb\"></span>\n",
       "<span style=\"color: #bbbbbb\">      </span><span style=\"color: #666666\">1</span><span style=\"color: #bbbbbb\"> </span><span style=\"color: #666666\">-</span><span style=\"color: #bbbbbb\"> </span>std<span style=\"color: #666666\">::</span>max<span style=\"color: #666666\">&lt;</span>Scalar<span style=\"color: #666666\">&gt;</span>(<span style=\"color: #666666\">0</span>,<span style=\"color: #bbbbbb\"> </span><span style=\"color: #666666\">-</span>(((_tmp15<span style=\"color: #bbbbbb\"> </span><span style=\"color: #666666\">+</span><span style=\"color: #bbbbbb\"> </span>_tmp18)<span style=\"color: #bbbbbb\"> </span><span style=\"color: #666666\">&gt;</span><span style=\"color: #bbbbbb\"> </span><span style=\"color: #666666\">0</span>)<span style=\"color: #bbbbbb\"> </span><span style=\"color: #666666\">-</span><span style=\"color: #bbbbbb\"> </span>((_tmp15<span style=\"color: #bbbbbb\"> </span><span style=\"color: #666666\">+</span><span style=\"color: #bbbbbb\"> </span>_tmp18)<span style=\"color: #bbbbbb\"> </span><span style=\"color: #666666\">&lt;</span><span style=\"color: #bbbbbb\"> </span><span style=\"color: #666666\">0</span>))));<span style=\"color: #bbbbbb\"></span>\n",
       "<span style=\"color: #bbbbbb\">  </span><span style=\"color: #008000; font-weight: bold\">const</span><span style=\"color: #bbbbbb\"> </span>Scalar<span style=\"color: #bbbbbb\"> </span>_tmp31<span style=\"color: #bbbbbb\"> </span><span style=\"color: #666666\">=</span><span style=\"color: #bbbbbb\"> </span><span style=\"color: #666666\">-</span>_tmp30<span style=\"color: #bbbbbb\"> </span><span style=\"color: #666666\">+</span><span style=\"color: #bbbbbb\"> </span>std<span style=\"color: #666666\">::</span>sqrt(Scalar(std<span style=\"color: #666666\">::</span>max<span style=\"color: #666666\">&lt;</span>Scalar<span style=\"color: #666666\">&gt;</span>(<span style=\"color: #666666\">0</span>,<span style=\"color: #bbbbbb\"> </span>_tmp16<span style=\"color: #bbbbbb\"> </span><span style=\"color: #666666\">+</span><span style=\"color: #bbbbbb\"> </span><span style=\"color: #666666\">1</span>)))<span style=\"color: #bbbbbb\"> </span><span style=\"color: #666666\">+</span><span style=\"color: #bbbbbb\"> </span><span style=\"color: #666666\">1</span>;<span style=\"color: #bbbbbb\"></span>\n",
       "<span style=\"color: #bbbbbb\">  </span><span style=\"color: #008000; font-weight: bold\">const</span><span style=\"color: #bbbbbb\"> </span>Scalar<span style=\"color: #bbbbbb\"> </span>_tmp32<span style=\"color: #bbbbbb\"> </span><span style=\"color: #666666\">=</span><span style=\"color: #bbbbbb\"> </span>(Scalar(<span style=\"color: #666666\">1</span>)<span style=\"color: #bbbbbb\"> </span><span style=\"color: #666666\">/</span><span style=\"color: #bbbbbb\"> </span>Scalar(<span style=\"color: #666666\">2</span>))<span style=\"color: #bbbbbb\"> </span><span style=\"color: #666666\">*</span><span style=\"color: #bbbbbb\"> </span>_tmp30;<span style=\"color: #bbbbbb\"></span>\n",
       "<span style=\"color: #bbbbbb\">  </span><span style=\"color: #008000; font-weight: bold\">const</span><span style=\"color: #bbbbbb\"> </span>Scalar<span style=\"color: #bbbbbb\"> </span>_tmp33<span style=\"color: #bbbbbb\"> </span><span style=\"color: #666666\">=</span><span style=\"color: #bbbbbb\"> </span>_tmp32<span style=\"color: #bbbbbb\"> </span><span style=\"color: #666666\">/</span><span style=\"color: #bbbbbb\"> </span>_tmp31;<span style=\"color: #bbbbbb\"></span>\n",
       "<span style=\"color: #bbbbbb\">  </span><span style=\"color: #008000; font-weight: bold\">const</span><span style=\"color: #bbbbbb\"> </span>Scalar<span style=\"color: #bbbbbb\"> </span>_tmp34<span style=\"color: #bbbbbb\"> </span><span style=\"color: #666666\">=</span><span style=\"color: #bbbbbb\"> </span><span style=\"color: #666666\">-</span>_tmp10;<span style=\"color: #bbbbbb\"></span>\n",
       "<span style=\"color: #bbbbbb\">  </span><span style=\"color: #008000; font-weight: bold\">const</span><span style=\"color: #bbbbbb\"> </span>Scalar<span style=\"color: #bbbbbb\"> </span>_tmp35<span style=\"color: #bbbbbb\"> </span><span style=\"color: #666666\">=</span><span style=\"color: #bbbbbb\"></span>\n",
       "<span style=\"color: #bbbbbb\">      </span><span style=\"color: #666666\">-</span>_tmp19<span style=\"color: #bbbbbb\"> </span><span style=\"color: #666666\">+</span><span style=\"color: #bbbbbb\"> </span>std<span style=\"color: #666666\">::</span>sqrt(Scalar(std<span style=\"color: #666666\">::</span>max<span style=\"color: #666666\">&lt;</span>Scalar<span style=\"color: #666666\">&gt;</span>(<span style=\"color: #666666\">0</span>,<span style=\"color: #bbbbbb\"> </span>_tmp11<span style=\"color: #bbbbbb\"> </span><span style=\"color: #666666\">+</span><span style=\"color: #bbbbbb\"> </span>_tmp14<span style=\"color: #bbbbbb\"> </span><span style=\"color: #666666\">+</span><span style=\"color: #bbbbbb\"> </span>_tmp34)))<span style=\"color: #bbbbbb\"> </span><span style=\"color: #666666\">+</span><span style=\"color: #bbbbbb\"> </span><span style=\"color: #666666\">1</span>;<span style=\"color: #bbbbbb\"></span>\n",
       "<span style=\"color: #bbbbbb\">  </span><span style=\"color: #008000; font-weight: bold\">const</span><span style=\"color: #bbbbbb\"> </span>Scalar<span style=\"color: #bbbbbb\"> </span>_tmp36<span style=\"color: #bbbbbb\"> </span><span style=\"color: #666666\">=</span><span style=\"color: #bbbbbb\"> </span>(Scalar(<span style=\"color: #666666\">1</span>)<span style=\"color: #bbbbbb\"> </span><span style=\"color: #666666\">/</span><span style=\"color: #bbbbbb\"> </span>Scalar(<span style=\"color: #666666\">2</span>))<span style=\"color: #bbbbbb\"> </span><span style=\"color: #666666\">*</span><span style=\"color: #bbbbbb\"> </span>_tmp19;<span style=\"color: #bbbbbb\"></span>\n",
       "<span style=\"color: #bbbbbb\">  </span><span style=\"color: #008000; font-weight: bold\">const</span><span style=\"color: #bbbbbb\"> </span>Scalar<span style=\"color: #bbbbbb\"> </span>_tmp37<span style=\"color: #bbbbbb\"> </span><span style=\"color: #666666\">=</span><span style=\"color: #bbbbbb\"> </span>_tmp5<span style=\"color: #bbbbbb\"> </span><span style=\"color: #666666\">*</span><span style=\"color: #bbbbbb\"> </span>_tmp9;<span style=\"color: #bbbbbb\"></span>\n",
       "<span style=\"color: #bbbbbb\">  </span><span style=\"color: #008000; font-weight: bold\">const</span><span style=\"color: #bbbbbb\"> </span>Scalar<span style=\"color: #bbbbbb\"> </span>_tmp38<span style=\"color: #bbbbbb\"> </span><span style=\"color: #666666\">=</span><span style=\"color: #bbbbbb\"> </span>_tmp0<span style=\"color: #bbbbbb\"> </span><span style=\"color: #666666\">*</span><span style=\"color: #bbbbbb\"> </span>_tmp26<span style=\"color: #bbbbbb\"> </span><span style=\"color: #666666\">-</span><span style=\"color: #bbbbbb\"> </span>_tmp25;<span style=\"color: #bbbbbb\"></span>\n",
       "<span style=\"color: #bbbbbb\">  </span><span style=\"color: #008000; font-weight: bold\">const</span><span style=\"color: #bbbbbb\"> </span>Scalar<span style=\"color: #bbbbbb\"> </span>_tmp39<span style=\"color: #bbbbbb\"> </span><span style=\"color: #666666\">=</span><span style=\"color: #bbbbbb\"> </span>_tmp37<span style=\"color: #bbbbbb\"> </span><span style=\"color: #666666\">+</span><span style=\"color: #bbbbbb\"> </span>_tmp38;<span style=\"color: #bbbbbb\"></span>\n",
       "<span style=\"color: #bbbbbb\">  </span><span style=\"color: #008000; font-weight: bold\">const</span><span style=\"color: #bbbbbb\"> </span>Scalar<span style=\"color: #bbbbbb\"> </span>_tmp40<span style=\"color: #bbbbbb\"> </span><span style=\"color: #666666\">=</span><span style=\"color: #bbbbbb\"></span>\n",
       "<span style=\"color: #bbbbbb\">      </span><span style=\"color: #666666\">-</span>_tmp20<span style=\"color: #bbbbbb\"> </span><span style=\"color: #666666\">+</span><span style=\"color: #bbbbbb\"> </span>std<span style=\"color: #666666\">::</span>sqrt(Scalar(std<span style=\"color: #666666\">::</span>max<span style=\"color: #666666\">&lt;</span>Scalar<span style=\"color: #666666\">&gt;</span>(<span style=\"color: #666666\">0</span>,<span style=\"color: #bbbbbb\"> </span>_tmp12<span style=\"color: #bbbbbb\"> </span><span style=\"color: #666666\">+</span><span style=\"color: #bbbbbb\"> </span>_tmp13<span style=\"color: #bbbbbb\"> </span><span style=\"color: #666666\">+</span><span style=\"color: #bbbbbb\"> </span>_tmp34<span style=\"color: #bbbbbb\"> </span><span style=\"color: #666666\">+</span><span style=\"color: #bbbbbb\"> </span><span style=\"color: #666666\">1</span>)))<span style=\"color: #bbbbbb\"> </span><span style=\"color: #666666\">+</span><span style=\"color: #bbbbbb\"> </span><span style=\"color: #666666\">1</span>;<span style=\"color: #bbbbbb\"></span>\n",
       "<span style=\"color: #bbbbbb\">  </span><span style=\"color: #008000; font-weight: bold\">const</span><span style=\"color: #bbbbbb\"> </span>Scalar<span style=\"color: #bbbbbb\"> </span>_tmp41<span style=\"color: #bbbbbb\"> </span><span style=\"color: #666666\">=</span><span style=\"color: #bbbbbb\"> </span>(Scalar(<span style=\"color: #666666\">1</span>)<span style=\"color: #bbbbbb\"> </span><span style=\"color: #666666\">/</span><span style=\"color: #bbbbbb\"> </span>Scalar(<span style=\"color: #666666\">2</span>))<span style=\"color: #bbbbbb\"> </span><span style=\"color: #666666\">*</span><span style=\"color: #bbbbbb\"> </span>_tmp20;<span style=\"color: #bbbbbb\"></span>\n",
       "<span style=\"color: #bbbbbb\">  </span><span style=\"color: #008000; font-weight: bold\">const</span><span style=\"color: #bbbbbb\"> </span>Scalar<span style=\"color: #bbbbbb\"> </span>_tmp42<span style=\"color: #bbbbbb\"> </span><span style=\"color: #666666\">=</span><span style=\"color: #bbbbbb\"> </span>_tmp41<span style=\"color: #bbbbbb\"> </span><span style=\"color: #666666\">/</span><span style=\"color: #bbbbbb\"> </span>_tmp40;<span style=\"color: #bbbbbb\"></span>\n",
       "<span style=\"color: #bbbbbb\">  </span><span style=\"color: #008000; font-weight: bold\">const</span><span style=\"color: #bbbbbb\"> </span>Scalar<span style=\"color: #bbbbbb\"> </span>_tmp43<span style=\"color: #bbbbbb\"> </span><span style=\"color: #666666\">=</span><span style=\"color: #bbbbbb\"> </span>_tmp0<span style=\"color: #bbbbbb\"> </span><span style=\"color: #666666\">+</span><span style=\"color: #bbbbbb\"> </span>_tmp7;<span style=\"color: #bbbbbb\"></span>\n",
       "<span style=\"color: #bbbbbb\">  </span><span style=\"color: #008000; font-weight: bold\">const</span><span style=\"color: #bbbbbb\"> </span>Scalar<span style=\"color: #bbbbbb\"> </span>_tmp44<span style=\"color: #bbbbbb\"> </span><span style=\"color: #666666\">=</span><span style=\"color: #bbbbbb\"> </span>_tmp36<span style=\"color: #bbbbbb\"> </span><span style=\"color: #666666\">/</span><span style=\"color: #bbbbbb\"> </span>_tmp35;<span style=\"color: #bbbbbb\"></span>\n",
       "<span style=\"color: #bbbbbb\">  </span><span style=\"color: #008000; font-weight: bold\">const</span><span style=\"color: #bbbbbb\"> </span>Scalar<span style=\"color: #bbbbbb\"> </span>_tmp45<span style=\"color: #bbbbbb\"> </span><span style=\"color: #666666\">=</span><span style=\"color: #bbbbbb\"> </span>_tmp27<span style=\"color: #bbbbbb\"> </span><span style=\"color: #666666\">+</span><span style=\"color: #bbbbbb\"> </span>_tmp28;<span style=\"color: #bbbbbb\"></span>\n",
       "<span style=\"color: #bbbbbb\">  </span><span style=\"color: #008000; font-weight: bold\">const</span><span style=\"color: #bbbbbb\"> </span>Scalar<span style=\"color: #bbbbbb\"> </span>_tmp46<span style=\"color: #bbbbbb\"> </span><span style=\"color: #666666\">=</span><span style=\"color: #bbbbbb\"> </span>_tmp37<span style=\"color: #bbbbbb\"> </span><span style=\"color: #666666\">-</span><span style=\"color: #bbbbbb\"> </span>_tmp38;<span style=\"color: #bbbbbb\"></span>\n",
       "\n",
       "<span style=\"color: #bbbbbb\">  </span><span style=\"color: #3D7B7B; font-style: italic\">// Output terms (1)</span>\n",
       "<span style=\"color: #bbbbbb\">  </span>Eigen<span style=\"color: #666666\">::</span>Matrix<span style=\"color: #666666\">&lt;</span>Scalar,<span style=\"color: #bbbbbb\"> </span><span style=\"color: #666666\">4</span>,<span style=\"color: #bbbbbb\"> </span><span style=\"color: #666666\">1&gt;</span><span style=\"color: #bbbbbb\"> </span>_res;<span style=\"color: #bbbbbb\"></span>\n",
       "\n",
       "<span style=\"color: #bbbbbb\">  </span>_res[<span style=\"color: #666666\">0</span>]<span style=\"color: #bbbbbb\"> </span><span style=\"color: #666666\">=</span><span style=\"color: #bbbbbb\"> </span>_tmp24<span style=\"color: #bbbbbb\"> </span><span style=\"color: #666666\">*</span><span style=\"color: #bbbbbb\"> </span>_tmp8<span style=\"color: #bbbbbb\"> </span><span style=\"color: #666666\">+</span><span style=\"color: #bbbbbb\"> </span>_tmp29<span style=\"color: #bbbbbb\"> </span><span style=\"color: #666666\">*</span><span style=\"color: #bbbbbb\"> </span>_tmp33<span style=\"color: #bbbbbb\"> </span><span style=\"color: #666666\">+</span><span style=\"color: #bbbbbb\"> </span>_tmp35<span style=\"color: #bbbbbb\"> </span><span style=\"color: #666666\">*</span><span style=\"color: #bbbbbb\"> </span>_tmp36<span style=\"color: #bbbbbb\"> </span><span style=\"color: #666666\">+</span><span style=\"color: #bbbbbb\"> </span>_tmp39<span style=\"color: #bbbbbb\"> </span><span style=\"color: #666666\">*</span><span style=\"color: #bbbbbb\"> </span>_tmp42;<span style=\"color: #bbbbbb\"></span>\n",
       "<span style=\"color: #bbbbbb\">  </span>_res[<span style=\"color: #666666\">1</span>]<span style=\"color: #bbbbbb\"> </span><span style=\"color: #666666\">=</span><span style=\"color: #bbbbbb\"> </span>_tmp24<span style=\"color: #bbbbbb\"> </span><span style=\"color: #666666\">*</span><span style=\"color: #bbbbbb\"> </span>_tmp45<span style=\"color: #bbbbbb\"> </span><span style=\"color: #666666\">+</span><span style=\"color: #bbbbbb\"> </span>_tmp33<span style=\"color: #bbbbbb\"> </span><span style=\"color: #666666\">*</span><span style=\"color: #bbbbbb\"> </span>_tmp43<span style=\"color: #bbbbbb\"> </span><span style=\"color: #666666\">+</span><span style=\"color: #bbbbbb\"> </span>_tmp39<span style=\"color: #bbbbbb\"> </span><span style=\"color: #666666\">*</span><span style=\"color: #bbbbbb\"> </span>_tmp44<span style=\"color: #bbbbbb\"> </span><span style=\"color: #666666\">+</span><span style=\"color: #bbbbbb\"> </span>_tmp40<span style=\"color: #bbbbbb\"> </span><span style=\"color: #666666\">*</span><span style=\"color: #bbbbbb\"> </span>_tmp41;<span style=\"color: #bbbbbb\"></span>\n",
       "<span style=\"color: #bbbbbb\">  </span>_res[<span style=\"color: #666666\">2</span>]<span style=\"color: #bbbbbb\"> </span><span style=\"color: #666666\">=</span><span style=\"color: #bbbbbb\"> </span>_tmp22<span style=\"color: #bbbbbb\"> </span><span style=\"color: #666666\">*</span><span style=\"color: #bbbbbb\"> </span>_tmp23<span style=\"color: #bbbbbb\"> </span><span style=\"color: #666666\">+</span><span style=\"color: #bbbbbb\"> </span>_tmp33<span style=\"color: #bbbbbb\"> </span><span style=\"color: #666666\">*</span><span style=\"color: #bbbbbb\"> </span>_tmp46<span style=\"color: #bbbbbb\"> </span><span style=\"color: #666666\">+</span><span style=\"color: #bbbbbb\"> </span>_tmp42<span style=\"color: #bbbbbb\"> </span><span style=\"color: #666666\">*</span><span style=\"color: #bbbbbb\"> </span>_tmp45<span style=\"color: #bbbbbb\"> </span><span style=\"color: #666666\">+</span><span style=\"color: #bbbbbb\"> </span>_tmp44<span style=\"color: #bbbbbb\"> </span><span style=\"color: #666666\">*</span><span style=\"color: #bbbbbb\"> </span>_tmp8;<span style=\"color: #bbbbbb\"></span>\n",
       "<span style=\"color: #bbbbbb\">  </span>_res[<span style=\"color: #666666\">3</span>]<span style=\"color: #bbbbbb\"> </span><span style=\"color: #666666\">=</span><span style=\"color: #bbbbbb\"> </span>_tmp24<span style=\"color: #bbbbbb\"> </span><span style=\"color: #666666\">*</span><span style=\"color: #bbbbbb\"> </span>_tmp46<span style=\"color: #bbbbbb\"> </span><span style=\"color: #666666\">+</span><span style=\"color: #bbbbbb\"> </span>_tmp29<span style=\"color: #bbbbbb\"> </span><span style=\"color: #666666\">*</span><span style=\"color: #bbbbbb\"> </span>_tmp44<span style=\"color: #bbbbbb\"> </span><span style=\"color: #666666\">+</span><span style=\"color: #bbbbbb\"> </span>_tmp31<span style=\"color: #bbbbbb\"> </span><span style=\"color: #666666\">*</span><span style=\"color: #bbbbbb\"> </span>_tmp32<span style=\"color: #bbbbbb\"> </span><span style=\"color: #666666\">+</span><span style=\"color: #bbbbbb\"> </span>_tmp42<span style=\"color: #bbbbbb\"> </span><span style=\"color: #666666\">*</span><span style=\"color: #bbbbbb\"> </span>_tmp43;<span style=\"color: #bbbbbb\"></span>\n",
       "\n",
       "<span style=\"color: #bbbbbb\">  </span><span style=\"color: #008000; font-weight: bold\">return</span><span style=\"color: #bbbbbb\"> </span>sym<span style=\"color: #666666\">::</span>Rot3<span style=\"color: #666666\">&lt;</span>Scalar<span style=\"color: #666666\">&gt;</span>(_res);<span style=\"color: #bbbbbb\"></span>\n",
       "}<span style=\"color: #bbbbbb\">  </span><span style=\"color: #3D7B7B; font-style: italic\">// NOLINT(readability/fn_size)</span>\n",
       "\n",
       "<span style=\"color: #3D7B7B; font-style: italic\">// NOLINTNEXTLINE(readability/fn_size)</span>\n",
       "}<span style=\"color: #bbbbbb\">  </span><span style=\"color: #3D7B7B; font-style: italic\">// namespace sym</span>\n",
       "</pre></div>\n"
      ],
      "text/plain": [
       "<IPython.core.display.HTML object>"
      ]
     },
     "metadata": {},
     "output_type": "display_data"
    }
   ],
   "source": [
    "# generate a C++ function from the python function\n",
    "az_el_codegen_data = az_el_codegen_cpp.generate_function()\n",
    "\n",
    "# print(\"Files generated in {}:\\n\".format(az_el_codegen_data.output_dir))\n",
    "# for f in az_el_codegen_data.generated_files:\n",
    "#     print(\"  |- {}\".format(os.path.relpath(f, az_el_codegen_data.output_dir)))\n",
    "\n",
    "# show the generated code\n",
    "display_code_file(az_el_codegen_data.generated_files[0], \"C++\")"
   ]
  },
  {
   "cell_type": "markdown",
   "id": "24215d70",
   "metadata": {},
   "source": [
    "## Generate python code"
   ]
  },
  {
   "cell_type": "code",
   "execution_count": 86,
   "id": "a502f14f",
   "metadata": {},
   "outputs": [],
   "source": [
    "# # generate a C++ function from the python function\n",
    "# az_el_codegen_data = az_el_codegen_python.generate_function()\n",
    "\n",
    "# # print(\"Files generated in {}:\\n\".format(az_el_codegen_data.output_dir))\n",
    "# # for f in az_el_codegen_data.generated_files:\n",
    "# #     print(\"  |- {}\".format(os.path.relpath(f, az_el_codegen_data.output_dir)))\n",
    "\n",
    "# # show the generated code\n",
    "# display_code_file(az_el_codegen_data.generated_files[0], \"python\")"
   ]
  },
  {
   "cell_type": "markdown",
   "id": "22e4ccb3",
   "metadata": {},
   "source": [
    "# Pose"
   ]
  },
  {
   "cell_type": "code",
   "execution_count": null,
   "id": "49e6ae22",
   "metadata": {},
   "outputs": [],
   "source": []
  }
 ],
 "metadata": {
  "kernelspec": {
   "display_name": "Python 3 (ipykernel)",
   "language": "python",
   "name": "python3"
  },
  "language_info": {
   "codemirror_mode": {
    "name": "ipython",
    "version": 3
   },
   "file_extension": ".py",
   "mimetype": "text/x-python",
   "name": "python",
   "nbconvert_exporter": "python",
   "pygments_lexer": "ipython3",
   "version": "3.10.8"
  }
 },
 "nbformat": 4,
 "nbformat_minor": 5
}
