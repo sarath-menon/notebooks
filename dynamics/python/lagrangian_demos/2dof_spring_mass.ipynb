{
 "cells": [
  {
   "cell_type": "code",
   "execution_count": 14,
   "metadata": {},
   "outputs": [],
   "source": [
    "import sympy as sp\n",
    "import sympy.physics.mechanics as spm\n",
    "from sympy.physics.mechanics import dynamicsymbols\n",
    "spm.init_vprinting()\n",
    "\n",
    "m1, m2, k1, k2, k3, L = sp.symbols('m1 m2 k1 k2 k3 L', real=True, positive=True)\n",
    "\n",
    "q  =  spm.dynamicsymbols('x1 x2')\n",
    "qd  = spm.dynamicsymbols('x1 x2', 1)\n",
    "t  =  sp.Symbol('t')"
   ]
  },
  {
   "cell_type": "markdown",
   "metadata": {},
   "source": [
    "Potential energy"
   ]
  },
  {
   "cell_type": "code",
   "execution_count": 16,
   "metadata": {},
   "outputs": [
    {
     "data": {
      "image/png": "[encoded data removed]",
      "text/latex": [
       "$\\displaystyle 0.5 k_{1} x_{1}^{2} + 0.5 k_{2} \\left(- x_{1} + x_{2}\\right)^{2} + 0.5 k_{3} x_{2}^{2}$"
      ],
      "text/plain": [
       "         2                    2            2\n",
       "0.5⋅k₁⋅x₁  + 0.5⋅k₂⋅(-x₁ + x₂)  + 0.5⋅k₃⋅x₂ "
      ]
     },
     "execution_count": 16,
     "metadata": {},
     "output_type": "execute_result"
    }
   ],
   "source": [
    "V = (0.5 * k1* q[0]**2) + (0.5 * k2* (q[1]-q[0])**2) + (0.5 * k3* q[1]**2)\n",
    "V"
   ]
  },
  {
   "cell_type": "markdown",
   "metadata": {},
   "source": [
    "Kinetic energy"
   ]
  },
  {
   "cell_type": "code",
   "execution_count": 17,
   "metadata": {},
   "outputs": [
    {
     "data": {
      "image/png": "[encoded data removed]",
      "text/latex": [
       "$\\displaystyle 0.5 m_{1} \\dot{x}_{1}^{2} + 0.5 m_{2} \\dot{x}_{2}^{2}$"
      ],
      "text/plain": [
       "         2            2\n",
       "0.5⋅m₁⋅x₁̇  + 0.5⋅m₂⋅x₂̇ "
      ]
     },
     "execution_count": 17,
     "metadata": {},
     "output_type": "execute_result"
    }
   ],
   "source": [
    "T = (0.5 * m1 * qd[0]**2) + (0.5 * m2 * qd[1]**2)\n",
    "T"
   ]
  },
  {
   "cell_type": "markdown",
   "metadata": {},
   "source": [
    "q1"
   ]
  },
  {
   "cell_type": "code",
   "execution_count": 18,
   "metadata": {},
   "outputs": [
    {
     "data": {
      "image/png": "[encoded data removed]",
      "text/latex": [
       "$\\displaystyle 1.0 k_{1} x_{1} + k_{2} \\left(x_{1} - x_{2}\\right) + 1.0 m_{1} \\ddot{x}_{1}$"
      ],
      "text/plain": [
       "1.0⋅k₁⋅x₁ + k₂⋅(x₁ - x₂) + 1.0⋅m₁⋅x₁̈"
      ]
     },
     "execution_count": 18,
     "metadata": {},
     "output_type": "execute_result"
    }
   ],
   "source": [
    "L = T - V\n",
    "\n",
    "expr = sp.diff(sp.diff(L,qd[0]), t) - sp.diff(L, q[0])\n",
    "# expr.simplify().expand()\n",
    "expr.simplify()"
   ]
  },
  {
   "cell_type": "markdown",
   "metadata": {},
   "source": [
    "q2"
   ]
  },
  {
   "cell_type": "code",
   "execution_count": 21,
   "metadata": {},
   "outputs": [
    {
     "data": {
      "image/png": "[encoded data removed]",
      "text/latex": [
       "$\\displaystyle - 1.0 k_{2} \\left(x_{1} - x_{2}\\right) + 1.0 k_{3} x_{2} + 1.0 m_{2} \\ddot{x}_{2}$"
      ],
      "text/plain": [
       "-k₂⋅(x₁ - x₂) + 1.0⋅k₃⋅x₂ + 1.0⋅m₂⋅x₂̈"
      ]
     },
     "execution_count": 21,
     "metadata": {},
     "output_type": "execute_result"
    }
   ],
   "source": [
    "L = T - V\n",
    "\n",
    "expr = sp.diff(sp.diff(L,qd[1]), t) - sp.diff(L, q[1])\n",
    "# expr.simplify().expand()\n",
    "expr.simplify()"
   ]
  },
  {
   "cell_type": "code",
   "execution_count": null,
   "metadata": {},
   "outputs": [],
   "source": []
  }
 ],
 "metadata": {
  "kernelspec": {
   "display_name": "Python 3.9.13 64-bit",
   "language": "python",
   "name": "python3"
  },
  "language_info": {
   "codemirror_mode": {
    "name": "ipython",
    "version": 3
   },
   "file_extension": ".py",
   "mimetype": "text/x-python",
   "name": "python",
   "nbconvert_exporter": "python",
   "pygments_lexer": "ipython3",
   "version": "3.9.13"
  },
  "orig_nbformat": 4,
  "vscode": {
   "interpreter": {
    "hash": "aee8b7b246df8f9039afb4144a1f6fd8d2ca17a180786b69acc140d282b71a49"
   }
  }
 },
 "nbformat": 4,
 "nbformat_minor": 2
}
