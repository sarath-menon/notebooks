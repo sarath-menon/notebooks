{
 "cells": [
  {
   "cell_type": "code",
   "execution_count": 36,
   "metadata": {},
   "outputs": [],
   "source": [
    "import sympy as sp\n",
    "import sympy.physics.mechanics as spm\n",
    "from sympy.physics.mechanics import dynamicsymbols\n",
    "from sympy import sin ,cos\n",
    "spm.init_vprinting()\n",
    "\n",
    "L, M_c, M_p, g = sp.symbols('L, M_c, M_p, g', real=True, positive=True)\n",
    "\n",
    "q  =  spm.dynamicsymbols('x theta')\n",
    "qd  = spm.dynamicsymbols('x theta', 1)\n",
    "t  =  sp.Symbol('t')"
   ]
  },
  {
   "cell_type": "markdown",
   "metadata": {},
   "source": [
    "Kinematics"
   ]
  },
  {
   "cell_type": "code",
   "execution_count": 37,
   "metadata": {},
   "outputs": [],
   "source": [
    "xc = q[0]\n",
    "yc = 0\n",
    "\n",
    "xp = L*sin(q[1]) + xc\n",
    "yp = -L*cos(q[1]) + yc\n",
    "\n",
    "R_c = sp.Matrix(([xc], [yc]))\n",
    "R_p = sp.Matrix(([xp], [yp]))\n",
    "\n",
    "V_c = sp.diff(R_c, t)\n",
    "V_p = sp.diff(R_p, t)"
   ]
  },
  {
   "cell_type": "markdown",
   "metadata": {},
   "source": [
    "# LHS"
   ]
  },
  {
   "cell_type": "markdown",
   "metadata": {},
   "source": [
    "Potential energy"
   ]
  },
  {
   "cell_type": "code",
   "execution_count": 39,
   "metadata": {},
   "outputs": [
    {
     "data": {
      "image/png": "[encoded data removed]",
      "text/latex": [
       "$\\displaystyle - L M_{p} g \\cos{\\left(\\theta \\right)}$"
      ],
      "text/plain": [
       "-L⋅Mₚ⋅g⋅cos(θ)"
      ]
     },
     "execution_count": 39,
     "metadata": {},
     "output_type": "execute_result"
    }
   ],
   "source": [
    "V = -M_p*g*L*cos(q[1])\n",
    "V.simplify()"
   ]
  },
  {
   "cell_type": "markdown",
   "metadata": {},
   "source": [
    "Kinetic energy"
   ]
  },
  {
   "cell_type": "code",
   "execution_count": 42,
   "metadata": {},
   "outputs": [
    {
     "data": {
      "image/png": "[encoded data removed]",
      "text/latex": [
       "$\\displaystyle 0.5 M_{c} \\dot{x}^{2} + 0.5 M_{p} \\left(L^{2} \\dot{\\theta}^{2} + 2 L \\cos{\\left(\\theta \\right)} \\dot{\\theta} \\dot{x} + \\dot{x}^{2}\\right)$"
      ],
      "text/plain": [
       "         2          ⎛ 2  2                     2⎞\n",
       "0.5⋅M_c⋅ẋ  + 0.5⋅Mₚ⋅⎝L ⋅θ̇  + 2⋅L⋅cos(θ)⋅θ̇⋅ẋ + ẋ ⎠"
      ]
     },
     "execution_count": 42,
     "metadata": {},
     "output_type": "execute_result"
    }
   ],
   "source": [
    "T = (0.5 * M_c * (V_c.transpose()*V_c)) + (0.5 * M_p * (V_p.transpose()*V_p))\n",
    "T[0].simplify()"
   ]
  },
  {
   "cell_type": "code",
   "execution_count": 49,
   "metadata": {},
   "outputs": [
    {
     "data": {
      "image/png": "[encoded data removed]",
      "text/latex": [
       "$\\displaystyle - L M_{p} \\sin{\\left(\\theta \\right)} \\dot{\\theta}^{2} + L M_{p} \\cos{\\left(\\theta \\right)} \\ddot{\\theta} + 1.0 M_{c} \\ddot{x} + M_{p} \\ddot{x}$"
      ],
      "text/plain": [
       "               2                                   \n",
       "- L⋅Mₚ⋅sin(θ)⋅θ̇  + L⋅Mₚ⋅cos(θ)⋅θ̈ + 1.0⋅M_c⋅ẍ + Mₚ⋅ẍ"
      ]
     },
     "execution_count": 49,
     "metadata": {},
     "output_type": "execute_result"
    }
   ],
   "source": [
    "L = T[0] - V\n",
    "\n",
    "expr = sp.diff(sp.diff(L,qd[0]), t) - sp.diff(L, q[0])\n",
    "# expr.simplify().expand()\n",
    "expr.simplify().expand()"
   ]
  },
  {
   "cell_type": "markdown",
   "metadata": {},
   "source": [
    "q2"
   ]
  },
  {
   "cell_type": "code",
   "execution_count": 50,
   "metadata": {},
   "outputs": [
    {
     "data": {
      "image/png": "[encoded data removed]",
      "text/latex": [
       "$\\displaystyle L^{2} M_{p} \\ddot{\\theta} + L M_{p} g \\sin{\\left(\\theta \\right)} + L M_{p} \\cos{\\left(\\theta \\right)} \\ddot{x}$"
      ],
      "text/plain": [
       " 2                                     \n",
       "L ⋅Mₚ⋅θ̈ + L⋅Mₚ⋅g⋅sin(θ) + L⋅Mₚ⋅cos(θ)⋅ẍ"
      ]
     },
     "execution_count": 50,
     "metadata": {},
     "output_type": "execute_result"
    }
   ],
   "source": [
    "expr = sp.diff(sp.diff(L,qd[1]), t) - sp.diff(L, q[1])\n",
    "# expr.simplify().expand()\n",
    "expr.simplify().expand()"
   ]
  },
  {
   "cell_type": "code",
   "execution_count": null,
   "metadata": {},
   "outputs": [],
   "source": []
  }
 ],
 "metadata": {
  "kernelspec": {
   "display_name": "Python 3.9.13 64-bit",
   "language": "python",
   "name": "python3"
  },
  "language_info": {
   "codemirror_mode": {
    "name": "ipython",
    "version": 3
   },
   "file_extension": ".py",
   "mimetype": "text/x-python",
   "name": "python",
   "nbconvert_exporter": "python",
   "pygments_lexer": "ipython3",
   "version": "3.9.13"
  },
  "orig_nbformat": 4,
  "vscode": {
   "interpreter": {
    "hash": "aee8b7b246df8f9039afb4144a1f6fd8d2ca17a180786b69acc140d282b71a49"
   }
  }
 },
 "nbformat": 4,
 "nbformat_minor": 2
}
