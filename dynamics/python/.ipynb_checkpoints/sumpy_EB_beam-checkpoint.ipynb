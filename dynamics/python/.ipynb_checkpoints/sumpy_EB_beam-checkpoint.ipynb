{
 "cells": [
  {
   "cell_type": "code",
   "execution_count": 42,
   "id": "19d3120d",
   "metadata": {},
   "outputs": [],
   "source": [
    "import sympy as sp\n",
    "from sympy_helper import *\n",
    "from sympy.physics.mechanics import dynamicsymbols, init_vprinting\n",
    "# from sympy.abc import M, I\n",
    "\n",
    "init_vprinting()"
   ]
  },
  {
   "cell_type": "markdown",
   "id": "0a8e1376",
   "metadata": {},
   "source": [
    "## Sympy definite integrals example"
   ]
  },
  {
   "cell_type": "code",
   "execution_count": 6,
   "id": "c0e8c1ac",
   "metadata": {},
   "outputs": [
    {
     "data": {
      "text/latex": [
       "$\\displaystyle \\frac{29}{6}$"
      ],
      "text/plain": [
       "29/6"
      ]
     },
     "execution_count": 6,
     "metadata": {},
     "output_type": "execute_result"
    }
   ],
   "source": [
    "x = sp.Symbol('x')\n",
    "sp.integrate(x**2 + x + 1, (x, 1, 2))"
   ]
  },
  {
   "cell_type": "markdown",
   "id": "35a15a02",
   "metadata": {},
   "source": [
    "# Euler-Bernoulli beam"
   ]
  },
  {
   "cell_type": "code",
   "execution_count": 92,
   "id": "bb4e1f4f",
   "metadata": {},
   "outputs": [],
   "source": [
    "# constants\n",
    "m, L, EI = sp.symbols('m L EI', real=True, positive=True)\n",
    "\n",
    "# variables\n",
    "# w = sp.Symbol('w', real=True)\n",
    "# w = dynamicsymbols('wg = Function('g')(x)')\n",
    "\n",
    "w = sp.Function('w')(x,t)\n",
    "f = sp.Function('f')(x,t)\n",
    "\n",
    "x = sp.Symbol('x')\n",
    "t = sp.Symbol('t')"
   ]
  },
  {
   "cell_type": "markdown",
   "id": "4e850284",
   "metadata": {},
   "source": [
    "### Kinetic energy"
   ]
  },
  {
   "cell_type": "code",
   "execution_count": 93,
   "id": "bd342718",
   "metadata": {},
   "outputs": [
    {
     "data": {
      "image/png": "[encoded data removed]",
      "text/latex": [
       "$\\displaystyle 0.5 m \\int\\limits_{0}^{L} \\dot{w{\\left(x,t \\right)}}^{2}\\, dx$"
      ],
      "text/plain": [
       "      L                  \n",
       "      ⌠                  \n",
       "      ⎮              2   \n",
       "      ⎮ ⎛∂          ⎞    \n",
       "0.5⋅m⋅⎮ ⎜──(w(x, t))⎟  dx\n",
       "      ⎮ ⎝∂t         ⎠    \n",
       "      ⌡                  \n",
       "      0                  "
      ]
     },
     "execution_count": 93,
     "metadata": {},
     "output_type": "execute_result"
    }
   ],
   "source": [
    "func = m * sp.Pow(w.diff(t),2)\n",
    "T = 0.5 * sp.integrate(func, (x, 0, L))\n",
    "T"
   ]
  },
  {
   "cell_type": "markdown",
   "id": "d9d7dfe8",
   "metadata": {},
   "source": [
    "### Potential energy"
   ]
  },
  {
   "cell_type": "code",
   "execution_count": 94,
   "id": "c7d040e3",
   "metadata": {},
   "outputs": [
    {
     "data": {
      "image/png": "[encoded data removed]",
      "text/latex": [
       "$\\displaystyle 0.5 EI \\int\\limits_{0}^{L} \\left(\\frac{\\partial^{2}}{\\partial x^{2}} w{\\left(x,t \\right)}\\right)^{2}\\, dx$"
      ],
      "text/plain": [
       "       L                   \n",
       "       ⌠                   \n",
       "       ⎮               2   \n",
       "       ⎮ ⎛  2         ⎞    \n",
       "       ⎮ ⎜ ∂          ⎟    \n",
       "0.5⋅EI⋅⎮ ⎜───(w(x, t))⎟  dx\n",
       "       ⎮ ⎜  2         ⎟    \n",
       "       ⎮ ⎝∂x          ⎠    \n",
       "       ⌡                   \n",
       "       0                   "
      ]
     },
     "execution_count": 94,
     "metadata": {},
     "output_type": "execute_result"
    }
   ],
   "source": [
    "func = EI * sp.Pow(w.diff(x, 2),2)\n",
    "U = 0.5 * sp.integrate(func, (x, 0, L))\n",
    "U"
   ]
  },
  {
   "cell_type": "markdown",
   "id": "dbe47968",
   "metadata": {},
   "source": [
    "### Work by external loads"
   ]
  },
  {
   "cell_type": "code",
   "execution_count": 96,
   "id": "e667c354",
   "metadata": {},
   "outputs": [
    {
     "data": {
      "image/png": "[encoded data removed]",
      "text/latex": [
       "$\\displaystyle \\int\\limits_{0}^{L} f{\\left(x,t \\right)} w{\\left(x,t \\right)}\\, dx$"
      ],
      "text/plain": [
       "L                   \n",
       "⌠                   \n",
       "⎮ f(x, t)⋅w(x, t) dx\n",
       "⌡                   \n",
       "0                   "
      ]
     },
     "execution_count": 96,
     "metadata": {},
     "output_type": "execute_result"
    }
   ],
   "source": [
    "func = f*w\n",
    "W = sp.integrate(func, (x, 0, L))\n",
    "W"
   ]
  },
  {
   "cell_type": "markdown",
   "id": "a55f9c59",
   "metadata": {},
   "source": [
    "## Computing the variation"
   ]
  },
  {
   "cell_type": "code",
   "execution_count": null,
   "id": "6f60aa3c",
   "metadata": {},
   "outputs": [],
   "source": []
  }
 ],
 "metadata": {
  "kernelspec": {
   "display_name": "Python 3 (ipykernel)",
   "language": "python",
   "name": "python3"
  },
  "language_info": {
   "codemirror_mode": {
    "name": "ipython",
    "version": 3
   },
   "file_extension": ".py",
   "mimetype": "text/x-python",
   "name": "python",
   "nbconvert_exporter": "python",
   "pygments_lexer": "ipython3",
   "version": "3.10.9"
  }
 },
 "nbformat": 4,
 "nbformat_minor": 5
}
