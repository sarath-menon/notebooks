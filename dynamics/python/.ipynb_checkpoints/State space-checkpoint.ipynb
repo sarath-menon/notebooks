{
 "cells": [
  {
   "cell_type": "code",
   "execution_count": 31,
   "id": "35cea135",
   "metadata": {},
   "outputs": [],
   "source": [
    "import sympy as sp\n",
    "from sympy_helper import *\n",
    "from sympy.abc import x, t\n",
    "k = sp.symbols('k', real=True, positive=True)\n",
    "\n",
    "import numpy as np"
   ]
  },
  {
   "cell_type": "markdown",
   "id": "440bd313",
   "metadata": {},
   "source": [
    "# Eigenvalues"
   ]
  },
  {
   "cell_type": "code",
   "execution_count": 15,
   "id": "71545011",
   "metadata": {},
   "outputs": [
    {
     "data": {
      "text/plain": [
       "{1: 2}"
      ]
     },
     "execution_count": 15,
     "metadata": {},
     "output_type": "execute_result"
    }
   ],
   "source": [
    "A = sp.Matrix([[1,0], [0,1]])\n",
    "A.eigenvals()"
   ]
  },
  {
   "cell_type": "code",
   "execution_count": 36,
   "id": "4b6ed50c",
   "metadata": {},
   "outputs": [
    {
     "data": {
      "text/plain": [
       "{-1.00000000000000: 1, 1.00000000000000: 1}"
      ]
     },
     "execution_count": 36,
     "metadata": {},
     "output_type": "execute_result"
    }
   ],
   "source": [
    "A = sp.Matrix([[0,1], [1,0]])\n",
    "A.evalf().eigenvals()"
   ]
  },
  {
   "cell_type": "code",
   "execution_count": 29,
   "id": "c067c150",
   "metadata": {},
   "outputs": [
    {
     "data": {
      "text/plain": [
       "{-1.0*I: 1, 1.0*I: 1}"
      ]
     },
     "execution_count": 29,
     "metadata": {},
     "output_type": "execute_result"
    }
   ],
   "source": [
    "A = sp.Matrix([[0,-1], [1,0]])\n",
    "A.evalf().eigenvals()# Eigenvalues"
   ]
  },
  {
   "cell_type": "markdown",
   "id": "9c539c5d",
   "metadata": {},
   "source": [
    "# Diagonalization"
   ]
  },
  {
   "cell_type": "code",
   "execution_count": 39,
   "id": "35b769ed",
   "metadata": {},
   "outputs": [
    {
     "data": {
      "text/plain": [
       "True"
      ]
     },
     "execution_count": 39,
     "metadata": {},
     "output_type": "execute_result"
    }
   ],
   "source": [
    "A = sp.Matrix([[3 , -1], [-1, 3]])\n",
    "A.is_diagonalizable()"
   ]
  },
  {
   "cell_type": "code",
   "execution_count": 41,
   "id": "03a7fc27",
   "metadata": {
    "scrolled": true
   },
   "outputs": [
    {
     "data": {
      "text/latex": [
       "$\\displaystyle \\left[\\begin{matrix}2 & 0\\\\0 & 4\\end{matrix}\\right]$"
      ],
      "text/plain": [
       "Matrix([\n",
       "[2, 0],\n",
       "[0, 4]])"
      ]
     },
     "execution_count": 41,
     "metadata": {},
     "output_type": "execute_result"
    }
   ],
   "source": [
    "(P, D) = A.diagonalize()\n",
    "D # Diagonal matrix of eigenvalues "
   ]
  },
  {
   "cell_type": "code",
   "execution_count": 42,
   "id": "22e89617",
   "metadata": {},
   "outputs": [
    {
     "data": {
      "text/latex": [
       "$\\displaystyle \\left[\\begin{matrix}1 & -1\\\\1 & 1\\end{matrix}\\right]$"
      ],
      "text/plain": [
       "Matrix([\n",
       "[1, -1],\n",
       "[1,  1]])"
      ]
     },
     "execution_count": 42,
     "metadata": {},
     "output_type": "execute_result"
    }
   ],
   "source": [
    "P # Eigenbasis: matrix where each basis is an eigenvector"
   ]
  },
  {
   "cell_type": "markdown",
   "id": "c1f20adf",
   "metadata": {},
   "source": [
    "# Jordan form "
   ]
  },
  {
   "cell_type": "markdown",
   "id": "0a2cc28b",
   "metadata": {},
   "source": [
    "Used when diagonalization is not possible. Each digonal element is an eigenvalue"
   ]
  },
  {
   "cell_type": "code",
   "execution_count": 34,
   "id": "ea99e783",
   "metadata": {
    "scrolled": false
   },
   "outputs": [
    {
     "data": {
      "text/latex": [
       "$\\displaystyle \\left[\\begin{matrix}-1 & 1\\\\0 & -1\\end{matrix}\\right]$"
      ],
      "text/plain": [
       "Matrix([\n",
       "[-1,  1],\n",
       "[ 0, -1]])"
      ]
     },
     "execution_count": 34,
     "metadata": {},
     "output_type": "execute_result"
    }
   ],
   "source": [
    "A = sp.Matrix([[-1 , 2], [0, -1]])\n",
    "P, J = A.jordan_form()\n",
    "J"
   ]
  },
  {
   "cell_type": "markdown",
   "id": "7eacb27f",
   "metadata": {},
   "source": [
    "# Matrix exponential"
   ]
  },
  {
   "cell_type": "code",
   "execution_count": 4,
   "id": "b8224ce7",
   "metadata": {
    "scrolled": true
   },
   "outputs": [
    {
     "data": {
      "text/latex": [
       "$\\displaystyle \\left[\\begin{matrix}\\cos{\\left(t \\right)} & \\sin{\\left(t \\right)}\\\\- \\sin{\\left(t \\right)} & \\cos{\\left(t \\right)}\\end{matrix}\\right]$"
      ],
      "text/plain": [
       "Matrix([\n",
       "[ cos(t), sin(t)],\n",
       "[-sin(t), cos(t)]])"
      ]
     },
     "execution_count": 4,
     "metadata": {},
     "output_type": "execute_result"
    }
   ],
   "source": [
    "A = sp.Matrix([[0 , 1], [-1,0]])\n",
    "sp.simplify(sp.exp(A*t))"
   ]
  },
  {
   "cell_type": "code",
   "execution_count": 30,
   "id": "80c2d192",
   "metadata": {},
   "outputs": [
    {
     "data": {
      "text/latex": [
       "$\\displaystyle \\left[\\begin{matrix}e^{- t} & 2 t e^{- t}\\\\0 & e^{- t}\\end{matrix}\\right]$"
      ],
      "text/plain": [
       "Matrix([\n",
       "[exp(-t), 2*t*exp(-t)],\n",
       "[      0,     exp(-t)]])"
      ]
     },
     "execution_count": 30,
     "metadata": {},
     "output_type": "execute_result"
    }
   ],
   "source": [
    "A = sp.Matrix([[-1 , 2], [0,-1]])\n",
    "sp.simplify(sp.exp(A*t))"
   ]
  },
  {
   "cell_type": "code",
   "execution_count": 32,
   "id": "85d10c50",
   "metadata": {
    "scrolled": false
   },
   "outputs": [
    {
     "data": {
      "text/latex": [
       "$\\displaystyle \\left[\\begin{matrix}e^{- t} & \\frac{2 \\left(- e^{t} + e^{t \\left(k - 4\\right)}\\right) e^{- t \\left(k - 3\\right)}}{k - 5}\\\\0 & e^{- t \\left(k - 4\\right)}\\end{matrix}\\right]$"
      ],
      "text/plain": [
       "Matrix([\n",
       "[exp(-t), 2*(-exp(t) + exp(t*(k - 4)))*exp(-t*(k - 3))/(k - 5)],\n",
       "[      0,                                      exp(-t*(k - 4))]])"
      ]
     },
     "execution_count": 32,
     "metadata": {},
     "output_type": "execute_result"
    }
   ],
   "source": [
    "A = sp.Matrix([[-1 , 2], [0, 4-k]])\n",
    "sp.simplify(sp.exp(A*t))"
   ]
  },
  {
   "cell_type": "code",
   "execution_count": null,
   "id": "d5155c7e",
   "metadata": {},
   "outputs": [],
   "source": []
  }
 ],
 "metadata": {
  "kernelspec": {
   "display_name": "Python 3 (ipykernel)",
   "language": "python",
   "name": "python3"
  },
  "language_info": {
   "codemirror_mode": {
    "name": "ipython",
    "version": 3
   },
   "file_extension": ".py",
   "mimetype": "text/x-python",
   "name": "python",
   "nbconvert_exporter": "python",
   "pygments_lexer": "ipython3",
   "version": "3.10.6"
  }
 },
 "nbformat": 4,
 "nbformat_minor": 5
}
