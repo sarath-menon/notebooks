{
 "cells": [
  {
   "cell_type": "code",
   "execution_count": 63,
   "id": "0e545582",
   "metadata": {},
   "outputs": [],
   "source": [
    "import sympy as sp\n",
    "from sympy.physics.mechanics import dynamicsymbols, init_vprinting, ReferenceFrame, Point, RigidBody, inertia, dot\n",
    "\n",
    "init_vprinting()"
   ]
  },
  {
   "cell_type": "code",
   "execution_count": 5,
   "id": "1d9369bf",
   "metadata": {},
   "outputs": [],
   "source": [
    "theta = dynamicsymbols('theta')\n",
    "t = sp.Symbol('t')"
   ]
  },
  {
   "cell_type": "markdown",
   "id": "ca828805",
   "metadata": {},
   "source": [
    "## Reference frames"
   ]
  },
  {
   "cell_type": "code",
   "execution_count": 6,
   "id": "d3a79b52",
   "metadata": {},
   "outputs": [],
   "source": [
    "I_frame = ReferenceFrame('I')\n",
    "\n",
    "# create new frame w.r.t to existing frame\n",
    "B_frame = I_frame.orientnew('B', 'Axis',(theta, I_frame.x))"
   ]
  },
  {
   "cell_type": "code",
   "execution_count": 16,
   "id": "30250efa",
   "metadata": {},
   "outputs": [],
   "source": [
    "# create point \n",
    "O = Point('O')\n",
    "P = Point('P')\n",
    "\n",
    "L, m = sp.symbols('L m', real=True, positive=True)\n",
    "\n",
    "O.set_pos(P, L*B_frame.y)\n",
    "\n",
    "I_r_P = P.pos_from(O).to_matrix(I_frame)"
   ]
  },
  {
   "cell_type": "markdown",
   "id": "bc805968",
   "metadata": {},
   "source": [
    "## kinematic diff eqns"
   ]
  },
  {
   "cell_type": "code",
   "execution_count": 8,
   "id": "808fe25c",
   "metadata": {},
   "outputs": [
    {
     "data": {
      "image/png": "[encoded data removed]",
      "text/latex": [
       "$\\displaystyle \\left[ \\omega_{1} - \\dot{\\theta}, \\  \\omega_{2}, \\  \\omega_{3}\\right]$"
      ],
      "text/plain": [
       "[ω₁ - θ̇, ω₂, ω₃]"
      ]
     },
     "execution_count": 8,
     "metadata": {},
     "output_type": "execute_result"
    }
   ],
   "source": [
    "# generalized angular velocities\n",
    "omega1, omega2, omega3 = dynamicsymbols('omega1, omega2, omega3')\n",
    "\n",
    "kinematical_differential_equations = [omega1 - theta.diff(),\n",
    "                                      omega2 - 0,\n",
    "                                      omega3 - 0]\n",
    "kinematical_differential_equations"
   ]
  },
  {
   "cell_type": "markdown",
   "id": "aab08cc0",
   "metadata": {},
   "source": [
    "### set angular velocites"
   ]
  },
  {
   "cell_type": "code",
   "execution_count": 80,
   "id": "7d8d83f6",
   "metadata": {},
   "outputs": [
    {
     "data": {
      "text/latex": [
       "$\\displaystyle \\left[\\begin{matrix}\\dot{\\theta}\\\\0\\\\0\\end{matrix}\\right]$"
      ],
      "text/plain": [
       "⎡θ̇⎤\n",
       "⎢ ⎥\n",
       "⎢0⎥\n",
       "⎢ ⎥\n",
       "⎣0⎦"
      ]
     },
     "execution_count": 80,
     "metadata": {},
     "output_type": "execute_result"
    }
   ],
   "source": [
    "B_frame.set_ang_vel(I_frame, theta.diff(t)*I_frame.x)\n",
    "\n",
    "I_omega_B = B_frame.ang_vel_in(I_frame).express(I_frame)\n",
    "I_omega_B.to_matrix(I_frame)"
   ]
  },
  {
   "cell_type": "markdown",
   "id": "d6ae1d19",
   "metadata": {},
   "source": [
    "### set linear velocites"
   ]
  },
  {
   "cell_type": "code",
   "execution_count": 81,
   "id": "dbc54ea0",
   "metadata": {},
   "outputs": [
    {
     "data": {
      "text/latex": [
       "$\\displaystyle \\left[\\begin{matrix}0\\\\L \\sin{\\left(\\theta \\right)} \\dot{\\theta}\\\\- L \\cos{\\left(\\theta \\right)} \\dot{\\theta}\\end{matrix}\\right]$"
      ],
      "text/plain": [
       "⎡     0     ⎤\n",
       "⎢           ⎥\n",
       "⎢L⋅sin(θ)⋅θ̇ ⎥\n",
       "⎢           ⎥\n",
       "⎣-L⋅cos(θ)⋅θ̇⎦"
      ]
     },
     "execution_count": 81,
     "metadata": {},
     "output_type": "execute_result"
    }
   ],
   "source": [
    "O.set_vel(I_frame,0)\n",
    "# P.set_vel(B_frame,0)\n",
    "\n",
    "P.v2pt_theory(O,I_frame, B_frame)\n",
    "I_v_P = P.vel(I_frame).express(I_frame)\n",
    "I_v_P.to_matrix(I_frame)"
   ]
  },
  {
   "cell_type": "markdown",
   "id": "9a6498ca",
   "metadata": {},
   "source": [
    "# Inertia"
   ]
  },
  {
   "cell_type": "code",
   "execution_count": 84,
   "id": "70ae6526",
   "metadata": {},
   "outputs": [
    {
     "data": {
      "text/latex": [
       "$\\displaystyle \\left[\\begin{matrix}I_{zz} & 0 & 0\\\\0 & 0 & 0\\\\0 & 0 & 0\\end{matrix}\\right]$"
      ],
      "text/plain": [
       "⎡I_zz  0  0⎤\n",
       "⎢          ⎥\n",
       "⎢ 0    0  0⎥\n",
       "⎢          ⎥\n",
       "⎣ 0    0  0⎦"
      ]
     },
     "execution_count": 84,
     "metadata": {},
     "output_type": "execute_result"
    }
   ],
   "source": [
    "I_zz = sp.symbols('I_zz')\n",
    "bar_inertia_dyadic = inertia(B_frame,I_zz, 0, 0)\n",
    "bar_inertia = (bar_inertia_dyadic,P)\n",
    "\n",
    "I_matrix = bar_inertia_dyadic\n",
    "I_matrix.to_matrix(I_frame)"
   ]
  },
  {
   "cell_type": "markdown",
   "id": "844b2c8a",
   "metadata": {},
   "source": [
    "# Lagrangian"
   ]
  },
  {
   "cell_type": "markdown",
   "id": "a3ae5980",
   "metadata": {},
   "source": [
    "### Kinetic energy"
   ]
  },
  {
   "cell_type": "code",
   "execution_count": 89,
   "id": "bbeeb7a9",
   "metadata": {},
   "outputs": [
    {
     "data": {
      "image/png": "[encoded data removed]",
      "text/latex": [
       "$\\displaystyle 0.5 I_{zz} \\dot{\\theta}^{2} + 0.5 m \\left(L^{2} \\sin^{2}{\\left(\\theta \\right)} \\dot{\\theta}^{2} + L^{2} \\cos^{2}{\\left(\\theta \\right)} \\dot{\\theta}^{2}\\right)$"
      ],
      "text/plain": [
       "          2         ⎛ 2    2     2    2    2     2⎞\n",
       "0.5⋅I_zz⋅θ̇  + 0.5⋅m⋅⎝L ⋅sin (θ)⋅θ̇  + L ⋅cos (θ)⋅θ̇ ⎠"
      ]
     },
     "execution_count": 89,
     "metadata": {},
     "output_type": "execute_result"
    }
   ],
   "source": [
    "T = (1/2) * m * dot(I_v_P,I_v_P) + (1/2) * dot(dot(I_matrix, I_omega_B), I_omega_B)\n",
    "T "
   ]
  },
  {
   "cell_type": "markdown",
   "id": "a7eb0247",
   "metadata": {},
   "source": [
    "### Potential energy"
   ]
  },
  {
   "cell_type": "code",
   "execution_count": 94,
   "id": "d78eae05",
   "metadata": {},
   "outputs": [
    {
     "data": {
      "image/png": "[encoded data removed]",
      "text/latex": [
       "$\\displaystyle - L g m \\cos{\\left(\\theta \\right)}$"
      ],
      "text/plain": [
       "-L⋅g⋅m⋅cos(θ)"
      ]
     },
     "execution_count": 94,
     "metadata": {},
     "output_type": "execute_result"
    }
   ],
   "source": [
    "g = sp.Symbol('g')\n",
    "V = -m * g * L * sp.cos(theta)\n",
    "V"
   ]
  },
  {
   "cell_type": "markdown",
   "id": "24aee360",
   "metadata": {},
   "source": [
    "### equations of motion"
   ]
  },
  {
   "cell_type": "code",
   "execution_count": 95,
   "id": "5dc158f3",
   "metadata": {},
   "outputs": [
    {
     "data": {
      "image/png": "[encoded data removed]",
      "text/latex": [
       "$\\displaystyle 1.0 I_{zz} \\ddot{\\theta} + L^{2} m \\ddot{\\theta} + L g m \\sin{\\left(\\theta \\right)}$"
      ],
      "text/plain": [
       "              2                   \n",
       "1.0⋅I_zz⋅θ̈ + L ⋅m⋅θ̈ + L⋅g⋅m⋅sin(θ)"
      ]
     },
     "execution_count": 95,
     "metadata": {},
     "output_type": "execute_result"
    }
   ],
   "source": [
    "L = T - V\n",
    "x = theta\n",
    "xd = theta.diff(t)\n",
    "\n",
    "\n",
    "EOM = sp.diff(sp.diff(L,xd), t) - sp.diff(L, x)\n",
    "\n",
    "phi_eom = sp.simplify(EOM)\n",
    "phi_eom"
   ]
  },
  {
   "cell_type": "code",
   "execution_count": null,
   "id": "8c716dab",
   "metadata": {},
   "outputs": [],
   "source": []
  }
 ],
 "metadata": {
  "kernelspec": {
   "display_name": "Python 3 (ipykernel)",
   "language": "python",
   "name": "python3"
  },
  "language_info": {
   "codemirror_mode": {
    "name": "ipython",
    "version": 3
   },
   "file_extension": ".py",
   "mimetype": "text/x-python",
   "name": "python",
   "nbconvert_exporter": "python",
   "pygments_lexer": "ipython3",
   "version": "3.10.9"
  }
 },
 "nbformat": 4,
 "nbformat_minor": 5
}
