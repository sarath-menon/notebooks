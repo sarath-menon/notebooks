{
 "cells": [
  {
   "cell_type": "code",
   "execution_count": 1,
   "id": "0e545582",
   "metadata": {},
   "outputs": [],
   "source": [
    "import sympy as sp\n",
    "from sympy.physics.mechanics import dynamicsymbols, init_vprinting, ReferenceFrame, Point\n",
    "\n",
    "init_vprinting()\n",
    "\n",
    "from sympy.abc import x,y,z"
   ]
  },
  {
   "cell_type": "code",
   "execution_count": 2,
   "id": "1d9369bf",
   "metadata": {},
   "outputs": [],
   "source": [
    "theta1, theta2 = dynamicsymbols('theta1 theta2')\n",
    "t = sp.Symbol('t')"
   ]
  },
  {
   "cell_type": "markdown",
   "id": "ca828805",
   "metadata": {},
   "source": [
    "## Reference frames"
   ]
  },
  {
   "cell_type": "code",
   "execution_count": 3,
   "id": "d3a79b52",
   "metadata": {},
   "outputs": [],
   "source": [
    "I_frame = ReferenceFrame('I')\n",
    "\n",
    "# create new frame w.r.t to existing frame\n",
    "B1_frame = I_frame.orientnew('B1', 'Axis',(theta1, I_frame.x))\n",
    "B2_frame = B1_frame.orientnew('B2', 'Axis',(theta2, B1_frame.x))"
   ]
  },
  {
   "cell_type": "code",
   "execution_count": 4,
   "id": "30250efa",
   "metadata": {},
   "outputs": [],
   "source": [
    "# create point \n",
    "O = Point('O')\n",
    "P = Point('P')\n",
    "Q = Point('Q')\n",
    "\n",
    "L1 = sp.symbols('L1', real=True, positive=True)\n",
    "L2 = sp.symbols('L2', real=True, positive=True)\n",
    "\n",
    "O.set_pos(P, L1*B1_frame.y)\n",
    "P.set_pos(Q, L2*B2_frame.y)\n",
    "\n",
    "I_r_P = P.pos_from(O).to_matrix(I_frame)"
   ]
  },
  {
   "cell_type": "markdown",
   "id": "bc805968",
   "metadata": {},
   "source": [
    "## kinematic diff eqns"
   ]
  },
  {
   "cell_type": "code",
   "execution_count": 5,
   "id": "808fe25c",
   "metadata": {},
   "outputs": [
    {
     "data": {
      "image/png": "[encoded data removed]",
      "text/latex": [
       "$\\displaystyle \\left[ \\omega_{1} - \\dot{\\theta}_{1} - \\dot{\\theta}_{2}, \\  \\omega_{2}, \\  \\omega_{3}\\right]$"
      ],
      "text/plain": [
       "[ω₁ - θ₁̇ - θ₂̇, ω₂, ω₃]"
      ]
     },
     "execution_count": 5,
     "metadata": {},
     "output_type": "execute_result"
    }
   ],
   "source": [
    "# generalized angular velocities\n",
    "omega1, omega2, omega3 = dynamicsymbols('omega1, omega2, omega3')\n",
    "\n",
    "kinematical_differential_equations = [omega1 - (theta1.diff() + theta2.diff()),\n",
    "                                      omega2 - 0,\n",
    "                                      omega3 - 0]\n",
    "kinematical_differential_equations"
   ]
  },
  {
   "cell_type": "markdown",
   "id": "aab08cc0",
   "metadata": {},
   "source": [
    "### set angular velocites"
   ]
  },
  {
   "cell_type": "code",
   "execution_count": 6,
   "id": "7d8d83f6",
   "metadata": {},
   "outputs": [
    {
     "data": {
      "text/latex": [
       "$\\displaystyle \\left[\\begin{matrix}\\dot{\\theta}_{1} + \\dot{\\theta}_{2}\\\\0\\\\0\\end{matrix}\\right]$"
      ],
      "text/plain": [
       "⎡θ₁̇ + θ₂̇⎤\n",
       "⎢       ⎥\n",
       "⎢   0   ⎥\n",
       "⎢       ⎥\n",
       "⎣   0   ⎦"
      ]
     },
     "execution_count": 6,
     "metadata": {},
     "output_type": "execute_result"
    }
   ],
   "source": [
    "B1_frame.set_ang_vel(I_frame, theta1.diff(t)*B1_frame.x)\n",
    "#B2_frame.set_ang_vel(I_frame, (theta1.diff(t)+theta2.diff(t))*B2_frame.x)\n",
    "B2_frame.set_ang_vel(B1_frame, theta2.diff(t)*B2_frame.x)\n",
    "\n",
    "B2_frame.ang_vel_in(I_frame).to_matrix(I_frame)"
   ]
  },
  {
   "cell_type": "markdown",
   "id": "d6ae1d19",
   "metadata": {},
   "source": [
    "### set linear velocites"
   ]
  },
  {
   "cell_type": "code",
   "execution_count": 7,
   "id": "dbc54ea0",
   "metadata": {},
   "outputs": [
    {
     "data": {
      "text/latex": [
       "$\\displaystyle \\left[\\begin{matrix}0\\\\L_{1} \\sin{\\left(\\theta_{1} \\right)} \\dot{\\theta}_{1} + L_{2} \\left(\\dot{\\theta}_{1} + \\dot{\\theta}_{2}\\right) \\sin{\\left(\\theta_{1} + \\theta_{2} \\right)}\\\\- L_{1} \\cos{\\left(\\theta_{1} \\right)} \\dot{\\theta}_{1} - L_{2} \\left(\\dot{\\theta}_{1} + \\dot{\\theta}_{2}\\right) \\cos{\\left(\\theta_{1} + \\theta_{2} \\right)}\\end{matrix}\\right]$"
      ],
      "text/plain": [
       "⎡                    0                     ⎤\n",
       "⎢                                          ⎥\n",
       "⎢L₁⋅sin(θ₁)⋅θ₁̇ + L₂⋅(θ₁̇ + θ₂̇)⋅sin(θ₁ + θ₂) ⎥\n",
       "⎢                                          ⎥\n",
       "⎣-L₁⋅cos(θ₁)⋅θ₁̇ - L₂⋅(θ₁̇ + θ₂̇)⋅cos(θ₁ + θ₂)⎦"
      ]
     },
     "execution_count": 7,
     "metadata": {},
     "output_type": "execute_result"
    }
   ],
   "source": [
    "O.set_vel(I_frame,0)\n",
    "\n",
    "P.v2pt_theory(O,I_frame, B1_frame)\n",
    "P.vel(I_frame)\n",
    "\n",
    "Q.v2pt_theory(P,I_frame, B2_frame)\n",
    "Q.vel(I_frame).to_matrix(I_frame).simplify()"
   ]
  },
  {
   "cell_type": "code",
   "execution_count": null,
   "id": "67f94bfa",
   "metadata": {},
   "outputs": [],
   "source": []
  }
 ],
 "metadata": {
  "kernelspec": {
   "display_name": "Python 3 (ipykernel)",
   "language": "python",
   "name": "python3"
  },
  "language_info": {
   "codemirror_mode": {
    "name": "ipython",
    "version": 3
   },
   "file_extension": ".py",
   "mimetype": "text/x-python",
   "name": "python",
   "nbconvert_exporter": "python",
   "pygments_lexer": "ipython3",
   "version": "3.10.9"
  }
 },
 "nbformat": 4,
 "nbformat_minor": 5
}
