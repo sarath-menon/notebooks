{
 "cells": [
  {
   "cell_type": "code",
   "execution_count": 3,
   "id": "0e545582",
   "metadata": {},
   "outputs": [],
   "source": [
    "import sympy as sp\n",
    "from sympy.physics.mechanics import dynamicsymbols, init_vprinting, ReferenceFrame, Point\n",
    "\n",
    "init_vprinting()\n",
    "\n",
    "from sympy.abc import x,y,z"
   ]
  },
  {
   "cell_type": "code",
   "execution_count": 4,
   "id": "1d9369bf",
   "metadata": {},
   "outputs": [],
   "source": [
    "theta = dynamicsymbols('theta')\n",
    "t = sp.Symbol('t')"
   ]
  },
  {
   "cell_type": "markdown",
   "id": "ca828805",
   "metadata": {},
   "source": [
    "## Reference frames"
   ]
  },
  {
   "cell_type": "code",
   "execution_count": 20,
   "id": "d3a79b52",
   "metadata": {},
   "outputs": [],
   "source": [
    "I_frame = ReferenceFrame('I')\n",
    "\n",
    "# create new frame w.r.t to existing frame\n",
    "B_frame = I_frame.orientnew('B', 'Axis',(theta, I_frame.x))"
   ]
  },
  {
   "cell_type": "code",
   "execution_count": 21,
   "id": "30250efa",
   "metadata": {},
   "outputs": [],
   "source": [
    "# create point \n",
    "O = Point('O')\n",
    "P = Point('P')\n",
    "\n",
    "L = sp.symbols('L', real=True, positive=True)\n",
    "\n",
    "O.set_pos(P, L*B_frame.y)\n",
    "\n",
    "I_r_P = P.pos_from(O).to_matrix(I_frame)"
   ]
  },
  {
   "cell_type": "markdown",
   "id": "bc805968",
   "metadata": {},
   "source": [
    "## kinematic diff eqns"
   ]
  },
  {
   "cell_type": "code",
   "execution_count": 22,
   "id": "808fe25c",
   "metadata": {},
   "outputs": [
    {
     "data": {
      "image/png": "[encoded data removed]",
      "text/latex": [
       "$\\displaystyle \\left[ \\omega_{1} - \\dot{\\theta}, \\  \\omega_{2}, \\  \\omega_{3}\\right]$"
      ],
      "text/plain": [
       "[ω₁ - θ̇, ω₂, ω₃]"
      ]
     },
     "execution_count": 22,
     "metadata": {},
     "output_type": "execute_result"
    }
   ],
   "source": [
    "# generalized angular velocities\n",
    "omega1, omega2, omega3 = dynamicsymbols('omega1, omega2, omega3')\n",
    "\n",
    "kinematical_differential_equations = [omega1 - theta.diff(),\n",
    "                                      omega2 - 0,\n",
    "                                      omega3 - 0]\n",
    "kinematical_differential_equations"
   ]
  },
  {
   "cell_type": "markdown",
   "id": "aab08cc0",
   "metadata": {},
   "source": [
    "### set angular velocites"
   ]
  },
  {
   "cell_type": "code",
   "execution_count": 23,
   "id": "7d8d83f6",
   "metadata": {},
   "outputs": [
    {
     "data": {
      "text/latex": [
       "$\\displaystyle \\left[\\begin{matrix}\\dot{\\theta}\\\\0\\\\0\\end{matrix}\\right]$"
      ],
      "text/plain": [
       "⎡θ̇⎤\n",
       "⎢ ⎥\n",
       "⎢0⎥\n",
       "⎢ ⎥\n",
       "⎣0⎦"
      ]
     },
     "execution_count": 23,
     "metadata": {},
     "output_type": "execute_result"
    }
   ],
   "source": [
    "B_frame.set_ang_vel(I_frame, theta.diff(t)*I_frame.x)\n",
    "\n",
    "B_frame.ang_vel_in(I_frame).to_matrix(I_frame)"
   ]
  },
  {
   "cell_type": "markdown",
   "id": "d6ae1d19",
   "metadata": {},
   "source": [
    "### set linear velocites"
   ]
  },
  {
   "cell_type": "code",
   "execution_count": 26,
   "id": "dbc54ea0",
   "metadata": {},
   "outputs": [
    {
     "data": {
      "text/latex": [
       "$\\displaystyle \\left[\\begin{matrix}0\\\\L \\sin{\\left(\\theta \\right)} \\dot{\\theta}\\\\- L \\cos{\\left(\\theta \\right)} \\dot{\\theta}\\end{matrix}\\right]$"
      ],
      "text/plain": [
       "⎡     0     ⎤\n",
       "⎢           ⎥\n",
       "⎢L⋅sin(θ)⋅θ̇ ⎥\n",
       "⎢           ⎥\n",
       "⎣-L⋅cos(θ)⋅θ̇⎦"
      ]
     },
     "execution_count": 26,
     "metadata": {},
     "output_type": "execute_result"
    }
   ],
   "source": [
    "O.set_vel(I_frame,0)\n",
    "# P.set_vel(B_frame,0)\n",
    "\n",
    "P.v2pt_theory(O,I_frame, B_frame)\n",
    "P.vel(I_frame).to_matrix(I_frame)"
   ]
  },
  {
   "cell_type": "code",
   "execution_count": null,
   "id": "4f845800",
   "metadata": {},
   "outputs": [],
   "source": []
  }
 ],
 "metadata": {
  "kernelspec": {
   "display_name": "Python 3 (ipykernel)",
   "language": "python",
   "name": "python3"
  },
  "language_info": {
   "codemirror_mode": {
    "name": "ipython",
    "version": 3
   },
   "file_extension": ".py",
   "mimetype": "text/x-python",
   "name": "python",
   "nbconvert_exporter": "python",
   "pygments_lexer": "ipython3",
   "version": "3.10.9"
  }
 },
 "nbformat": 4,
 "nbformat_minor": 5
}
