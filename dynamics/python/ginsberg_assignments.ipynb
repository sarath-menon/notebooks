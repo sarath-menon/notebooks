{
 "cells": [
  {
   "cell_type": "code",
   "execution_count": 1,
   "id": "4a7dceda",
   "metadata": {},
   "outputs": [],
   "source": [
    "import sympy as sp\n",
    "from sympy.physics.mechanics import dynamicsymbols, init_vprinting\n",
    "# from sympy.abc import M, I\n",
    "import math\n",
    "\n",
    "init_vprinting()"
   ]
  },
  {
   "cell_type": "markdown",
   "id": "917a6f27",
   "metadata": {},
   "source": [
    "## Rotation matrices"
   ]
  },
  {
   "cell_type": "code",
   "execution_count": 22,
   "id": "82ac9b4f",
   "metadata": {},
   "outputs": [],
   "source": [
    "theta= sp.symbols('theta', real=True, positive=True)\n",
    "L, omega = sp.symbols('L omega', real=True, positive=True)\n",
    "\n",
    "t = sp.Symbol('t')\n",
    "\n",
    "R_x =  sp.rot_axis1(theta)\n",
    "R_y = sp.rot_axis2(theta)\n",
    "R_z = sp.rot_axis3(theta)"
   ]
  },
  {
   "cell_type": "markdown",
   "id": "5786c957",
   "metadata": {},
   "source": [
    "## Example - 3.9"
   ]
  },
  {
   "cell_type": "code",
   "execution_count": 24,
   "id": "f1c1a939",
   "metadata": {},
   "outputs": [
    {
     "data": {
      "text/latex": [
       "$\\displaystyle \\left[\\begin{matrix}-17.3205080756888\\\\0\\\\-386.991118430775\\end{matrix}\\right]$"
      ],
      "text/plain": [
       "⎡-17.3205080756888⎤\n",
       "⎢                 ⎥\n",
       "⎢        0        ⎥\n",
       "⎢                 ⎥\n",
       "⎣-386.991118430775⎦"
      ]
     },
     "execution_count": 24,
     "metadata": {},
     "output_type": "execute_result"
    }
   ],
   "source": [
    "B_omega  = sp.Matrix([[0],[0],[-120*math.pi]])\n",
    "A_omega  = sp.Matrix([[0],[0],[20]])\n",
    "\n",
    "R_y.subs(theta,math.radians(120)) * A_omega + B_omega"
   ]
  },
  {
   "cell_type": "markdown",
   "id": "da73c42a",
   "metadata": {},
   "source": [
    "## Example - 3.14"
   ]
  },
  {
   "cell_type": "code",
   "execution_count": 42,
   "id": "9b65433b",
   "metadata": {},
   "outputs": [
    {
     "data": {
      "text/latex": [
       "$\\displaystyle \\left[\\begin{matrix}- \\omega \\sin{\\left(\\beta \\right)} \\cos{\\left(\\phi \\right)}\\\\- \\omega \\sin{\\left(\\beta \\right)} \\sin{\\left(\\phi \\right)}\\\\- \\omega \\cos{\\left(\\beta \\right)} - \\phi_{dot}\\end{matrix}\\right]$"
      ],
      "text/plain": [
       "⎡-ω⋅sin(β)⋅cos(φ) ⎤\n",
       "⎢                 ⎥\n",
       "⎢-ω⋅sin(β)⋅sin(φ) ⎥\n",
       "⎢                 ⎥\n",
       "⎣-ω⋅cos(β) - φ_dot⎦"
      ]
     },
     "execution_count": 42,
     "metadata": {},
     "output_type": "execute_result"
    }
   ],
   "source": [
    "phi, phi_dot, beta= sp.symbols('phi phi_dot beta', real=True, positive=True)\n",
    " \n",
    "A_omega  = sp.Matrix([[0],[0],[omega]])\n",
    "B_omega  = sp.Matrix([[0],[0],[-phi_dot]])\n",
    "\n",
    "R_z.subs(theta, -phi) * R_y.subs(theta,sp.pi - beta) * A_omega + B_omega\n",
    "\n",
    "# textbook reference frames (except for signs)\n",
    "# A_omega  = sp.Matrix([[omega],[0],[0]])\n",
    "# B_omega  = sp.Matrix([[-phi_dot],[0],[0]])\n",
    "\n",
    "# R_x.subs(theta, -phi) * R_y.subs(theta,sp.pi - beta) * A_omega + B_omega"
   ]
  },
  {
   "cell_type": "code",
   "execution_count": null,
   "id": "99707e62",
   "metadata": {},
   "outputs": [],
   "source": []
  }
 ],
 "metadata": {
  "kernelspec": {
   "display_name": "Python 3 (ipykernel)",
   "language": "python",
   "name": "python3"
  },
  "language_info": {
   "codemirror_mode": {
    "name": "ipython",
    "version": 3
   },
   "file_extension": ".py",
   "mimetype": "text/x-python",
   "name": "python",
   "nbconvert_exporter": "python",
   "pygments_lexer": "ipython3",
   "version": "3.11.3"
  }
 },
 "nbformat": 4,
 "nbformat_minor": 5
}
