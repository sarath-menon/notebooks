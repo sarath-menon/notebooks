{
 "cells": [
  {
   "cell_type": "code",
   "execution_count": 3,
   "id": "c28d711c",
   "metadata": {
    "execution": {
     "iopub.execute_input": "2022-11-12T13:46:41.304390Z",
     "iopub.status.busy": "2022-11-12T13:46:41.304039Z",
     "iopub.status.idle": "2022-11-12T13:46:42.533278Z",
     "shell.execute_reply": "2022-11-12T13:46:42.532592Z"
    }
   },
   "outputs": [],
   "source": [
    "import numpy as np\n",
    "import matplotlib.pyplot as plt\n",
    "import sympy as sm\n",
    "import sympy.physics.mechanics as me\n",
    "from pydy.system import System\n",
    "from pydy.viz import Cylinder, Plane, VisualizationFrame, Scene"
   ]
  },
  {
   "cell_type": "code",
   "execution_count": 4,
   "id": "bb5b6174",
   "metadata": {
    "execution": {
     "iopub.execute_input": "2022-11-12T13:46:42.536487Z",
     "iopub.status.busy": "2022-11-12T13:46:42.536147Z",
     "iopub.status.idle": "2022-11-12T13:46:42.546919Z",
     "shell.execute_reply": "2022-11-12T13:46:42.546359Z"
    }
   },
   "outputs": [],
   "source": [
    "%matplotlib inline"
   ]
  },
  {
   "cell_type": "code",
   "execution_count": 5,
   "id": "dc5bcee4",
   "metadata": {
    "execution": {
     "iopub.execute_input": "2022-11-12T13:46:42.549608Z",
     "iopub.status.busy": "2022-11-12T13:46:42.549336Z",
     "iopub.status.idle": "2022-11-12T13:46:42.554404Z",
     "shell.execute_reply": "2022-11-12T13:46:42.553825Z"
    }
   },
   "outputs": [],
   "source": [
    "me.init_vprinting(use_latex='mathjax')"
   ]
  },
  {
   "cell_type": "code",
   "execution_count": 6,
   "id": "37879bbc",
   "metadata": {
    "execution": {
     "iopub.execute_input": "2022-11-12T13:46:42.556971Z",
     "iopub.status.busy": "2022-11-12T13:46:42.556724Z",
     "iopub.status.idle": "2022-11-12T13:46:42.560785Z",
     "shell.execute_reply": "2022-11-12T13:46:42.560230Z"
    }
   },
   "outputs": [],
   "source": [
    "mA, mB, lB, w, h, g = sm.symbols('m_A, m_B, L_B, w, h, g')"
   ]
  },
  {
   "cell_type": "code",
   "execution_count": 7,
   "id": "1ee88984",
   "metadata": {
    "execution": {
     "iopub.execute_input": "2022-11-12T13:46:42.563382Z",
     "iopub.status.busy": "2022-11-12T13:46:42.563009Z",
     "iopub.status.idle": "2022-11-12T13:46:42.567949Z",
     "shell.execute_reply": "2022-11-12T13:46:42.567397Z"
    }
   },
   "outputs": [],
   "source": [
    "theta, phi = me.dynamicsymbols('theta, phi')\n",
    "omega, alpha = me.dynamicsymbols('omega, alpha')"
   ]
  },
  {
   "cell_type": "code",
   "execution_count": 8,
   "id": "e4f264ac",
   "metadata": {
    "execution": {
     "iopub.execute_input": "2022-11-12T13:46:42.570562Z",
     "iopub.status.busy": "2022-11-12T13:46:42.570315Z",
     "iopub.status.idle": "2022-11-12T13:46:42.582840Z",
     "shell.execute_reply": "2022-11-12T13:46:42.582283Z"
    }
   },
   "outputs": [
    {
     "data": {
      "text/latex": [
       "$\\displaystyle \\left( \\omega - \\dot{\\theta}, \\  \\alpha - \\dot{\\phi}\\right)$"
      ],
      "text/plain": [
       "(ω - θ̇, α - φ̇)"
      ]
     },
     "execution_count": 8,
     "metadata": {},
     "output_type": "execute_result"
    }
   ],
   "source": [
    "kin_diff = (omega - theta.diff(), alpha - phi.diff())\n",
    "kin_diff"
   ]
  },
  {
   "cell_type": "code",
   "execution_count": 9,
   "id": "4eb9092f",
   "metadata": {
    "execution": {
     "iopub.execute_input": "2022-11-12T13:46:42.585368Z",
     "iopub.status.busy": "2022-11-12T13:46:42.585123Z",
     "iopub.status.idle": "2022-11-12T13:46:42.590284Z",
     "shell.execute_reply": "2022-11-12T13:46:42.589715Z"
    }
   },
   "outputs": [],
   "source": [
    "N = me.ReferenceFrame('N')\n",
    "A = me.ReferenceFrame('A')\n",
    "B = me.ReferenceFrame('B')"
   ]
  },
  {
   "cell_type": "code",
   "execution_count": 10,
   "id": "ec5d70e1",
   "metadata": {
    "execution": {
     "iopub.execute_input": "2022-11-12T13:46:42.592863Z",
     "iopub.status.busy": "2022-11-12T13:46:42.592619Z",
     "iopub.status.idle": "2022-11-12T13:46:42.603831Z",
     "shell.execute_reply": "2022-11-12T13:46:42.603263Z"
    }
   },
   "outputs": [],
   "source": [
    "A.orient(N, 'Axis', (theta, N.y))\n",
    "B.orient(A, 'Axis', (phi, A.z))"
   ]
  },
  {
   "cell_type": "code",
   "execution_count": 11,
   "id": "0c4d2559",
   "metadata": {
    "execution": {
     "iopub.execute_input": "2022-11-12T13:46:42.606385Z",
     "iopub.status.busy": "2022-11-12T13:46:42.606130Z",
     "iopub.status.idle": "2022-11-12T13:46:42.610104Z",
     "shell.execute_reply": "2022-11-12T13:46:42.609547Z"
    }
   },
   "outputs": [],
   "source": [
    "No = me.Point('No')\n",
    "Ao = me.Point('Ao')\n",
    "Bo = me.Point('Bo')"
   ]
  },
  {
   "cell_type": "code",
   "execution_count": 12,
   "id": "4d0cb357",
   "metadata": {
    "execution": {
     "iopub.execute_input": "2022-11-12T13:46:42.612661Z",
     "iopub.status.busy": "2022-11-12T13:46:42.612416Z",
     "iopub.status.idle": "2022-11-12T13:46:42.617935Z",
     "shell.execute_reply": "2022-11-12T13:46:42.617365Z"
    }
   },
   "outputs": [],
   "source": [
    "lA = (lB - h / 2) / 2\n",
    "Ao.set_pos(No, lA * A.z)\n",
    "Bo.set_pos(No, lB * A.z)"
   ]
  },
  {
   "cell_type": "code",
   "execution_count": 13,
   "id": "93a89ca1",
   "metadata": {
    "execution": {
     "iopub.execute_input": "2022-11-12T13:46:42.620492Z",
     "iopub.status.busy": "2022-11-12T13:46:42.620247Z",
     "iopub.status.idle": "2022-11-12T13:46:42.625573Z",
     "shell.execute_reply": "2022-11-12T13:46:42.624996Z"
    }
   },
   "outputs": [],
   "source": [
    "A.set_ang_vel(N, omega * N.y)\n",
    "B.set_ang_vel(A, alpha * A.z)"
   ]
  },
  {
   "cell_type": "code",
   "execution_count": 14,
   "id": "5f7f773d",
   "metadata": {
    "execution": {
     "iopub.execute_input": "2022-11-12T13:46:42.628093Z",
     "iopub.status.busy": "2022-11-12T13:46:42.627847Z",
     "iopub.status.idle": "2022-11-12T13:46:42.631659Z",
     "shell.execute_reply": "2022-11-12T13:46:42.631107Z"
    }
   },
   "outputs": [],
   "source": [
    "No.set_vel(N, 0)"
   ]
  },
  {
   "cell_type": "code",
   "execution_count": 15,
   "id": "655ae1d6",
   "metadata": {
    "execution": {
     "iopub.execute_input": "2022-11-12T13:46:42.634160Z",
     "iopub.status.busy": "2022-11-12T13:46:42.633915Z",
     "iopub.status.idle": "2022-11-12T13:46:42.646982Z",
     "shell.execute_reply": "2022-11-12T13:46:42.646277Z"
    }
   },
   "outputs": [
    {
     "data": {
      "text/latex": [
       "$\\displaystyle \\left(\\frac{L_{B}}{2} - \\frac{h}{4}\\right) \\omega\\mathbf{\\hat{a}_x}$"
      ],
      "text/plain": [
       "⎛L_B   h⎞\n",
       "⎜─── - ─⎟⋅ω a_x\n",
       "⎝ 2    4⎠"
      ]
     },
     "execution_count": 15,
     "metadata": {},
     "output_type": "execute_result"
    }
   ],
   "source": [
    "Ao.v2pt_theory(No, N, A)"
   ]
  },
  {
   "cell_type": "code",
   "execution_count": 16,
   "id": "4d1b6cf0",
   "metadata": {
    "execution": {
     "iopub.execute_input": "2022-11-12T13:46:42.649451Z",
     "iopub.status.busy": "2022-11-12T13:46:42.649188Z",
     "iopub.status.idle": "2022-11-12T13:46:42.657644Z",
     "shell.execute_reply": "2022-11-12T13:46:42.657073Z"
    }
   },
   "outputs": [
    {
     "data": {
      "text/latex": [
       "$\\displaystyle L_{B} \\omega\\mathbf{\\hat{a}_x}$"
      ],
      "text/plain": [
       "L_B⋅ω a_x"
      ]
     },
     "execution_count": 16,
     "metadata": {},
     "output_type": "execute_result"
    }
   ],
   "source": [
    "Bo.v2pt_theory(No, N, A)"
   ]
  },
  {
   "cell_type": "code",
   "execution_count": 17,
   "id": "211bfd3a",
   "metadata": {
    "execution": {
     "iopub.execute_input": "2022-11-12T13:46:42.660341Z",
     "iopub.status.busy": "2022-11-12T13:46:42.660095Z",
     "iopub.status.idle": "2022-11-12T13:46:42.666901Z",
     "shell.execute_reply": "2022-11-12T13:46:42.666320Z"
    }
   },
   "outputs": [],
   "source": [
    "IAxx = sm.S(1) / 12 * mA * (2 * lA)**2\n",
    "IAyy = IAxx\n",
    "IAzz = 0\n",
    "\n",
    "IA = (me.inertia(A, IAxx, IAyy, IAzz), Ao)"
   ]
  },
  {
   "cell_type": "code",
   "execution_count": 18,
   "id": "543fe339",
   "metadata": {
    "execution": {
     "iopub.execute_input": "2022-11-12T13:46:42.669418Z",
     "iopub.status.busy": "2022-11-12T13:46:42.669172Z",
     "iopub.status.idle": "2022-11-12T13:46:42.688278Z",
     "shell.execute_reply": "2022-11-12T13:46:42.687583Z"
    }
   },
   "outputs": [
    {
     "data": {
      "text/latex": [
       "$\\displaystyle \\left[\\begin{matrix}\\frac{m_{A} \\left(L_{B} - \\frac{h}{2}\\right)^{2}}{12} & 0 & 0\\\\0 & \\frac{m_{A} \\left(L_{B} - \\frac{h}{2}\\right)^{2}}{12} & 0\\\\0 & 0 & 0\\end{matrix}\\right]$"
      ],
      "text/plain": [
       "⎡             2                   ⎤\n",
       "⎢    ⎛      h⎞                    ⎥\n",
       "⎢m_A⋅⎜L_B - ─⎟                    ⎥\n",
       "⎢    ⎝      2⎠                    ⎥\n",
       "⎢──────────────        0         0⎥\n",
       "⎢      12                         ⎥\n",
       "⎢                                 ⎥\n",
       "⎢                             2   ⎥\n",
       "⎢                    ⎛      h⎞    ⎥\n",
       "⎢                m_A⋅⎜L_B - ─⎟    ⎥\n",
       "⎢                    ⎝      2⎠    ⎥\n",
       "⎢      0         ──────────────  0⎥\n",
       "⎢                      12         ⎥\n",
       "⎢                                 ⎥\n",
       "⎣      0               0         0⎦"
      ]
     },
     "execution_count": 18,
     "metadata": {},
     "output_type": "execute_result"
    }
   ],
   "source": [
    "IA[0].to_matrix(A)"
   ]
  },
  {
   "cell_type": "code",
   "execution_count": 19,
   "id": "61e8364f",
   "metadata": {
    "execution": {
     "iopub.execute_input": "2022-11-12T13:46:42.690689Z",
     "iopub.status.busy": "2022-11-12T13:46:42.690442Z",
     "iopub.status.idle": "2022-11-12T13:46:42.697304Z",
     "shell.execute_reply": "2022-11-12T13:46:42.696655Z"
    }
   },
   "outputs": [],
   "source": [
    "IBxx = sm.S(1)/12 * mB * h**2\n",
    "IByy = sm.S(1)/12 * mB * (w**2 + h**2)\n",
    "IBzz = sm.S(1)/12 * mB * w**2\n",
    "\n",
    "IB = (me.inertia(B, IBxx, IByy, IBzz), Bo)"
   ]
  },
  {
   "cell_type": "code",
   "execution_count": 20,
   "id": "873a8357",
   "metadata": {
    "execution": {
     "iopub.execute_input": "2022-11-12T13:46:42.699760Z",
     "iopub.status.busy": "2022-11-12T13:46:42.699407Z",
     "iopub.status.idle": "2022-11-12T13:46:42.725452Z",
     "shell.execute_reply": "2022-11-12T13:46:42.724894Z"
    }
   },
   "outputs": [
    {
     "data": {
      "text/latex": [
       "$\\displaystyle \\left[\\begin{matrix}\\frac{h^{2} m_{B}}{12} & 0 & 0\\\\0 & \\frac{m_{B} \\left(h^{2} + w^{2}\\right)}{12} & 0\\\\0 & 0 & \\frac{m_{B} w^{2}}{12}\\end{matrix}\\right]$"
      ],
      "text/plain": [
       "⎡ 2                           ⎤\n",
       "⎢h ⋅m_B                       ⎥\n",
       "⎢──────        0          0   ⎥\n",
       "⎢  12                         ⎥\n",
       "⎢                             ⎥\n",
       "⎢            ⎛ 2    2⎞        ⎥\n",
       "⎢        m_B⋅⎝h  + w ⎠        ⎥\n",
       "⎢  0     ─────────────    0   ⎥\n",
       "⎢              12             ⎥\n",
       "⎢                             ⎥\n",
       "⎢                            2⎥\n",
       "⎢                       m_B⋅w ⎥\n",
       "⎢  0           0        ──────⎥\n",
       "⎣                         12  ⎦"
      ]
     },
     "execution_count": 20,
     "metadata": {},
     "output_type": "execute_result"
    }
   ],
   "source": [
    "IB[0].to_matrix(B)"
   ]
  },
  {
   "cell_type": "code",
   "execution_count": 21,
   "id": "27e2bc6d",
   "metadata": {
    "execution": {
     "iopub.execute_input": "2022-11-12T13:46:42.728092Z",
     "iopub.status.busy": "2022-11-12T13:46:42.727697Z",
     "iopub.status.idle": "2022-11-12T13:46:42.732616Z",
     "shell.execute_reply": "2022-11-12T13:46:42.732068Z"
    }
   },
   "outputs": [],
   "source": [
    "rod = me.RigidBody('rod', Ao, A, mA, IA)"
   ]
  },
  {
   "cell_type": "code",
   "execution_count": 22,
   "id": "40be6c16",
   "metadata": {
    "execution": {
     "iopub.execute_input": "2022-11-12T13:46:42.735161Z",
     "iopub.status.busy": "2022-11-12T13:46:42.734789Z",
     "iopub.status.idle": "2022-11-12T13:46:42.739793Z",
     "shell.execute_reply": "2022-11-12T13:46:42.739243Z"
    }
   },
   "outputs": [],
   "source": [
    "plate = me.RigidBody('plate', Bo, B, mB, IB)"
   ]
  },
  {
   "cell_type": "code",
   "execution_count": 23,
   "id": "31961ba1",
   "metadata": {
    "execution": {
     "iopub.execute_input": "2022-11-12T13:46:42.742358Z",
     "iopub.status.busy": "2022-11-12T13:46:42.742105Z",
     "iopub.status.idle": "2022-11-12T13:46:42.746680Z",
     "shell.execute_reply": "2022-11-12T13:46:42.746126Z"
    }
   },
   "outputs": [],
   "source": [
    "rod_gravity = (Ao, mA * g * N.z)\n",
    "plate_gravity = (Bo, mB * g * N.z)"
   ]
  },
  {
   "cell_type": "code",
   "execution_count": 24,
   "id": "70ddeea0",
   "metadata": {
    "execution": {
     "iopub.execute_input": "2022-11-12T13:46:42.749227Z",
     "iopub.status.busy": "2022-11-12T13:46:42.748983Z",
     "iopub.status.idle": "2022-11-12T13:46:42.768580Z",
     "shell.execute_reply": "2022-11-12T13:46:42.767987Z"
    }
   },
   "outputs": [],
   "source": [
    "kane = me.KanesMethod(N, q_ind=(theta, phi), u_ind=(omega, alpha), kd_eqs=kin_diff)"
   ]
  },
  {
   "cell_type": "code",
   "execution_count": 25,
   "id": "d6a0fe0b",
   "metadata": {
    "execution": {
     "iopub.execute_input": "2022-11-12T13:46:42.771018Z",
     "iopub.status.busy": "2022-11-12T13:46:42.770773Z",
     "iopub.status.idle": "2022-11-12T13:46:42.869553Z",
     "shell.execute_reply": "2022-11-12T13:46:42.868927Z"
    }
   },
   "outputs": [],
   "source": [
    "bodies = (rod, plate)\n",
    "loads = (rod_gravity, plate_gravity)\n",
    "\n",
    "fr, frstar = kane.kanes_equations(bodies, loads)"
   ]
  },
  {
   "cell_type": "code",
   "execution_count": 26,
   "id": "876429bf",
   "metadata": {
    "execution": {
     "iopub.execute_input": "2022-11-12T13:46:42.872254Z",
     "iopub.status.busy": "2022-11-12T13:46:42.871998Z",
     "iopub.status.idle": "2022-11-12T13:46:42.928713Z",
     "shell.execute_reply": "2022-11-12T13:46:42.928112Z"
    }
   },
   "outputs": [
    {
     "data": {
      "text/latex": [
       "$\\displaystyle \\left[\\begin{matrix}g \\left(- \\frac{L_{B} m_{A}}{2} - L_{B} m_{B} + \\frac{h m_{A}}{4}\\right) \\sin{\\left(\\theta \\right)}\\\\0\\end{matrix}\\right]$"
      ],
      "text/plain": [
       "⎡  ⎛  L_B⋅m_A             h⋅m_A⎞       ⎤\n",
       "⎢g⋅⎜- ─────── - L_B⋅m_B + ─────⎟⋅sin(θ)⎥\n",
       "⎢  ⎝     2                  4  ⎠       ⎥\n",
       "⎢                                      ⎥\n",
       "⎣                  0                   ⎦"
      ]
     },
     "execution_count": 26,
     "metadata": {},
     "output_type": "execute_result"
    }
   ],
   "source": [
    "sm.trigsimp(fr)"
   ]
  },
  {
   "cell_type": "code",
   "execution_count": 27,
   "id": "ca7b0da4",
   "metadata": {
    "execution": {
     "iopub.execute_input": "2022-11-12T13:46:42.931458Z",
     "iopub.status.busy": "2022-11-12T13:46:42.931071Z",
     "iopub.status.idle": "2022-11-12T13:46:43.729960Z",
     "shell.execute_reply": "2022-11-12T13:46:43.729318Z"
    }
   },
   "outputs": [
    {
     "data": {
      "text/latex": [
       "$\\displaystyle \\left[\\begin{matrix}\\frac{m_{B} w^{2} \\alpha \\omega \\sin{\\left(2 \\phi \\right)}}{12} - \\left(\\frac{L_{B}^{2} m_{A}}{3} + L_{B}^{2} m_{B} - \\frac{L_{B} h m_{A}}{3} + \\frac{h^{2} m_{A}}{12} + \\frac{h^{2} m_{B}}{12} + \\frac{m_{B} w^{2} \\cos^{2}{\\left(\\phi \\right)}}{12}\\right) \\dot{\\omega}\\\\- \\frac{m_{B} w^{2} \\left(\\omega^{2} \\sin{\\left(2 \\phi \\right)} + 2 \\dot{\\alpha}\\right)}{24}\\end{matrix}\\right]$"
      ],
      "text/plain": [
       "⎡     2                ⎛   2                               2        2         \n",
       "⎢m_B⋅w ⋅α⋅ω⋅sin(2⋅φ)   ⎜L_B ⋅m_A      2       L_B⋅h⋅m_A   h ⋅m_A   h ⋅m_B   m_\n",
       "⎢─────────────────── - ⎜──────── + L_B ⋅m_B - ───────── + ────── + ────── + ──\n",
       "⎢         12           ⎝   3                      3         12       12       \n",
       "⎢                                                                             \n",
       "⎢                                      2 ⎛ 2               ⎞                  \n",
       "⎢                                -m_B⋅w ⋅⎝ω ⋅sin(2⋅φ) + 2⋅α̇⎠                 \n",
       "⎢                                ────────────────────────────                 \n",
       "⎣                                             24                              \n",
       "\n",
       "   2    2   ⎞  ⎤\n",
       "B⋅w ⋅cos (φ)⎟  ⎥\n",
       "────────────⎟⋅ω̇⎥\n",
       "    12      ⎠  ⎥\n",
       "               ⎥\n",
       "               ⎥\n",
       "                ⎥\n",
       "               ⎥\n",
       "               ⎦"
      ]
     },
     "execution_count": 27,
     "metadata": {},
     "output_type": "execute_result"
    }
   ],
   "source": [
    "sm.trigsimp(frstar)"
   ]
  },
  {
   "cell_type": "code",
   "execution_count": 28,
   "id": "55c71871",
   "metadata": {
    "execution": {
     "iopub.execute_input": "2022-11-12T13:46:43.733037Z",
     "iopub.status.busy": "2022-11-12T13:46:43.732763Z",
     "iopub.status.idle": "2022-11-12T13:46:43.739203Z",
     "shell.execute_reply": "2022-11-12T13:46:43.738633Z"
    }
   },
   "outputs": [],
   "source": [
    "sys = System(kane)"
   ]
  },
  {
   "cell_type": "code",
   "execution_count": 29,
   "id": "81a17725",
   "metadata": {
    "execution": {
     "iopub.execute_input": "2022-11-12T13:46:43.741852Z",
     "iopub.status.busy": "2022-11-12T13:46:43.741597Z",
     "iopub.status.idle": "2022-11-12T13:46:43.745830Z",
     "shell.execute_reply": "2022-11-12T13:46:43.745252Z"
    }
   },
   "outputs": [],
   "source": [
    "sys.constants = {lB: 0.2, # meters\n",
    "                 h: 0.1, # meters\n",
    "                 w: 0.2, # meters\n",
    "                 mA: 0.01, # kilograms\n",
    "                 mB: 0.1, # kilograms\n",
    "                 g: 9.81} # meters per second squared"
   ]
  },
  {
   "cell_type": "code",
   "execution_count": 30,
   "id": "6267d32b",
   "metadata": {
    "execution": {
     "iopub.execute_input": "2022-11-12T13:46:43.748397Z",
     "iopub.status.busy": "2022-11-12T13:46:43.748152Z",
     "iopub.status.idle": "2022-11-12T13:46:43.752324Z",
     "shell.execute_reply": "2022-11-12T13:46:43.751774Z"
    }
   },
   "outputs": [],
   "source": [
    "sys.initial_conditions = {theta: np.deg2rad(45),\n",
    "                          phi: np.deg2rad(0.5),\n",
    "                          omega: 0,\n",
    "                          alpha: 0}"
   ]
  },
  {
   "cell_type": "code",
   "execution_count": 31,
   "id": "3ad56875",
   "metadata": {
    "execution": {
     "iopub.execute_input": "2022-11-12T13:46:43.754721Z",
     "iopub.status.busy": "2022-11-12T13:46:43.754475Z",
     "iopub.status.idle": "2022-11-12T13:46:43.758727Z",
     "shell.execute_reply": "2022-11-12T13:46:43.758167Z"
    }
   },
   "outputs": [],
   "source": [
    "sys.times = np.linspace(0.0, 10.0, num=300)"
   ]
  },
  {
   "cell_type": "code",
   "execution_count": 32,
   "id": "a7c446cc",
   "metadata": {
    "execution": {
     "iopub.execute_input": "2022-11-12T13:46:43.761225Z",
     "iopub.status.busy": "2022-11-12T13:46:43.760978Z",
     "iopub.status.idle": "2022-11-12T13:46:43.864328Z",
     "shell.execute_reply": "2022-11-12T13:46:43.863722Z"
    }
   },
   "outputs": [],
   "source": [
    "x = sys.integrate()"
   ]
  },
  {
   "cell_type": "code",
   "execution_count": 33,
   "id": "1fceeaef",
   "metadata": {
    "execution": {
     "iopub.execute_input": "2022-11-12T13:46:43.867083Z",
     "iopub.status.busy": "2022-11-12T13:46:43.866808Z",
     "iopub.status.idle": "2022-11-12T13:46:44.238913Z",
     "shell.execute_reply": "2022-11-12T13:46:44.238107Z"
    }
   },
   "outputs": [
    {
     "data": {
      "image/png": "[encoded data removed]",
      "text/plain": [
       "<Figure size 640x480 with 1 Axes>"
      ]
     },
     "metadata": {},
     "output_type": "display_data"
    }
   ],
   "source": [
    "def plot():\n",
    "    plt.figure()\n",
    "    plt.plot(sys.times, np.rad2deg(x[:, :2]))\n",
    "    plt.legend([sm.latex(s, mode='inline') for s in sys.coordinates])\n",
    "\n",
    "plot()"
   ]
  },
  {
   "cell_type": "code",
   "execution_count": 34,
   "id": "f4a91fd8",
   "metadata": {
    "execution": {
     "iopub.execute_input": "2022-11-12T13:46:44.241918Z",
     "iopub.status.busy": "2022-11-12T13:46:44.241458Z",
     "iopub.status.idle": "2022-11-12T13:46:44.506123Z",
     "shell.execute_reply": "2022-11-12T13:46:44.505497Z"
    }
   },
   "outputs": [
    {
     "data": {
      "image/png": "[encoded data removed]",
      "text/plain": [
       "<Figure size 640x480 with 1 Axes>"
      ]
     },
     "metadata": {},
     "output_type": "display_data"
    }
   ],
   "source": [
    "sys.initial_conditions[phi] = np.deg2rad(1.0)\n",
    "x = sys.integrate()\n",
    "plot()"
   ]
  },
  {
   "cell_type": "code",
   "execution_count": 35,
   "id": "989da241",
   "metadata": {
    "execution": {
     "iopub.execute_input": "2022-11-12T13:46:44.508961Z",
     "iopub.status.busy": "2022-11-12T13:46:44.508690Z",
     "iopub.status.idle": "2022-11-12T13:46:44.835046Z",
     "shell.execute_reply": "2022-11-12T13:46:44.834305Z"
    }
   },
   "outputs": [
    {
     "data": {
      "image/png": "[encoded data removed]",
      "text/plain": [
       "<Figure size 640x480 with 1 Axes>"
      ]
     },
     "metadata": {},
     "output_type": "display_data"
    }
   ],
   "source": [
    "sys.initial_conditions[theta] = np.deg2rad(90)\n",
    "sys.initial_conditions[phi] = np.deg2rad(0.5)\n",
    "x = sys.integrate()\n",
    "plot()"
   ]
  },
  {
   "cell_type": "code",
   "execution_count": 36,
   "id": "5cb13a5a",
   "metadata": {
    "execution": {
     "iopub.execute_input": "2022-11-12T13:46:44.837797Z",
     "iopub.status.busy": "2022-11-12T13:46:44.837526Z",
     "iopub.status.idle": "2022-11-12T13:46:45.205086Z",
     "shell.execute_reply": "2022-11-12T13:46:45.204445Z"
    }
   },
   "outputs": [
    {
     "data": {
      "image/png": "[encoded data removed]",
      "text/plain": [
       "<Figure size 640x480 with 1 Axes>"
      ]
     },
     "metadata": {},
     "output_type": "display_data"
    }
   ],
   "source": [
    "sys.initial_conditions[phi] = np.deg2rad(1.0)\n",
    "x = sys.integrate()\n",
    "plot()"
   ]
  },
  {
   "cell_type": "code",
   "execution_count": 37,
   "id": "4b6a4abb",
   "metadata": {
    "execution": {
     "iopub.execute_input": "2022-11-12T13:46:45.208087Z",
     "iopub.status.busy": "2022-11-12T13:46:45.207811Z",
     "iopub.status.idle": "2022-11-12T13:46:45.225315Z",
     "shell.execute_reply": "2022-11-12T13:46:45.224744Z"
    }
   },
   "outputs": [],
   "source": [
    "rod_shape = Cylinder(2 * lA, 0.005, color='red', name='rod')\n",
    "plate_shape = Plane(w, h, color='blue', name='plate')\n",
    "\n",
    "v1 = VisualizationFrame('rod',\n",
    "                        A.orientnew('rod', 'Axis', (sm.pi / 2, A.x)),\n",
    "                        Ao,\n",
    "                        rod_shape)\n",
    "\n",
    "v2 = VisualizationFrame('plate',\n",
    "                        B.orientnew('plate', 'Body', (sm.pi / 2, sm.pi / 2, 0), 'XZX'),\n",
    "                        Bo,\n",
    "                        plate_shape)\n",
    "\n",
    "scene = Scene(N, No, v1, v2, system=sys)"
   ]
  },
  {
   "cell_type": "code",
   "execution_count": 38,
   "id": "0deaaa6d",
   "metadata": {
    "execution": {
     "iopub.execute_input": "2022-11-12T13:46:45.228058Z",
     "iopub.status.busy": "2022-11-12T13:46:45.227804Z",
     "iopub.status.idle": "2022-11-12T13:46:45.462710Z",
     "shell.execute_reply": "2022-11-12T13:46:45.462087Z"
    }
   },
   "outputs": [
    {
     "ename": "ImportError",
     "evalue": "pythreejs needs to be installed.",
     "output_type": "error",
     "traceback": [
      "\u001b[0;31m---------------------------------------------------------------------------\u001b[0m",
      "\u001b[0;31mImportError\u001b[0m                               Traceback (most recent call last)",
      "Cell \u001b[0;32mIn [38], line 1\u001b[0m\n\u001b[0;32m----> 1\u001b[0m scene\u001b[38;5;241m.\u001b[39mdisplay_jupyter(axes_arrow_length\u001b[38;5;241m=\u001b[39m\u001b[38;5;241m1.0\u001b[39m)\n",
      "File \u001b[0;32m/usr/local/lib/python3.10/site-packages/pydy/viz/scene.py:495\u001b[0m, in \u001b[0;36mScene.display_jupyter\u001b[0;34m(self, window_size, axes_arrow_length)\u001b[0m\n\u001b[1;32m    474\u001b[0m \u001b[38;5;124;03m\"\"\"Returns a PyThreeJS Renderer and AnimationAction for displaying and\u001b[39;00m\n\u001b[1;32m    475\u001b[0m \u001b[38;5;124;03manimating the scene inside a Jupyter notebook.\u001b[39;00m\n\u001b[1;32m    476\u001b[0m \n\u001b[0;32m   (...)\u001b[0m\n\u001b[1;32m    492\u001b[0m \n\u001b[1;32m    493\u001b[0m \u001b[38;5;124;03m\"\"\"\u001b[39;00m\n\u001b[1;32m    494\u001b[0m \u001b[38;5;28;01mif\u001b[39;00m p3js \u001b[38;5;129;01mis\u001b[39;00m \u001b[38;5;28;01mNone\u001b[39;00m:\n\u001b[0;32m--> 495\u001b[0m     \u001b[38;5;28;01mraise\u001b[39;00m \u001b[38;5;167;01mImportError\u001b[39;00m(\u001b[38;5;124m'\u001b[39m\u001b[38;5;124mpythreejs needs to be installed.\u001b[39m\u001b[38;5;124m'\u001b[39m)\n\u001b[1;32m    497\u001b[0m \u001b[38;5;28mself\u001b[39m\u001b[38;5;241m.\u001b[39m_generate_meshes_tracks()\n\u001b[1;32m    499\u001b[0m view_width \u001b[38;5;241m=\u001b[39m window_size[\u001b[38;5;241m0\u001b[39m]\n",
      "\u001b[0;31mImportError\u001b[0m: pythreejs needs to be installed."
     ]
    }
   ],
   "source": [
    "scene.display_jupyter(axes_arrow_length=1.0)"
   ]
  },
  {
   "cell_type": "code",
   "execution_count": null,
   "id": "1cc0326a",
   "metadata": {},
   "outputs": [],
   "source": []
  }
 ],
 "metadata": {
  "kernelspec": {
   "display_name": "Python 3 (ipykernel)",
   "language": "python",
   "name": "python3"
  },
  "language_info": {
   "codemirror_mode": {
    "name": "ipython",
    "version": 3
   },
   "file_extension": ".py",
   "mimetype": "text/x-python",
   "name": "python",
   "nbconvert_exporter": "python",
   "pygments_lexer": "ipython3",
   "version": "3.10.8"
  },
  "widgets": {
   "application/vnd.jupyter.widget-state+json": {
    "state": {
     "131cbdc4f14c4cd788911433d5035947": {
      "model_module": "jupyter-threejs",
      "model_module_version": "^2.1.0",
      "model_name": "AnimationClipModel",
      "state": {
       "_model_module": "jupyter-threejs",
       "_model_module_version": "^2.1.0",
       "_model_name": "AnimationClipModel",
       "_view_count": null,
       "_view_module": null,
       "_view_module_version": "",
       "_view_name": null,
       "duration": 10,
       "name": null,
       "tracks": [
        "IPY_MODEL_fdceb3ec8ef248849f73a29ffade3a98",
        "IPY_MODEL_57ce26642ba146c38e75685a35c02f2f"
       ]
      }
     },
     "25a88bbd80354ae5b03698a754cad0bc": {
      "model_module": "jupyter-threejs",
      "model_module_version": "^2.1.0",
      "model_name": "WebGLShadowMapModel",
      "state": {
       "_model_module": "jupyter-threejs",
       "_model_module_version": "^2.1.0",
       "_model_name": "WebGLShadowMapModel",
       "_view_count": null,
       "_view_module": null,
       "_view_module_version": "",
       "_view_name": null,
       "enabled": false,
       "type": "PCFShadowMap"
      }
     },
     "286c51b94d9942dda5e9f4c6b07c7ba1": {
      "model_module": "jupyter-threejs",
      "model_module_version": "^2.1.0",
      "model_name": "SceneModel",
      "state": {
       "_model_module": "jupyter-threejs",
       "_model_module_version": "^2.1.0",
       "_model_name": "SceneModel",
       "_view_count": null,
       "_view_module": null,
       "_view_module_version": "",
       "_view_name": null,
       "autoUpdate": true,
       "background": "#ffffff",
       "castShadow": false,
       "children": [
        "IPY_MODEL_99c26eb58e5442d796790ce77c6c0939",
        "IPY_MODEL_882069bff453405eb35b396b31531cd0",
        "IPY_MODEL_3c210ef2038a421485dc1d99df01f330",
        "IPY_MODEL_ff45d718491641a5971725f63f54799e",
        "IPY_MODEL_4e9cc06b291c44aeae63ced55f645e48",
        "IPY_MODEL_e42d00f684a646d0a1cf74487b0e60e3"
       ],
       "fog": null,
       "frustumCulled": true,
       "matrix": [
        1,
        0,
        0,
        0,
        0,
        1,
        0,
        0,
        0,
        0,
        1,
        0,
        0,
        0,
        0,
        1
       ],
       "matrixAutoUpdate": true,
       "matrixWorld": [
        1,
        0,
        0,
        0,
        0,
        1,
        0,
        0,
        0,
        0,
        1,
        0,
        0,
        0,
        0,
        1
       ],
       "matrixWorldNeedsUpdate": false,
       "modelViewMatrix": [
        1,
        0,
        0,
        0,
        0,
        1,
        0,
        0,
        0,
        0,
        1,
        0,
        0,
        0,
        0,
        1
       ],
       "name": "",
       "normalMatrix": [
        1,
        0,
        0,
        0,
        1,
        0,
        0,
        0,
        1
       ],
       "overrideMaterial": null,
       "position": [
        0,
        0,
        0
       ],
       "quaternion": [
        0,
        0,
        0,
        1
       ],
       "receiveShadow": false,
       "renderOrder": 0,
       "rotation": [
        0,
        0,
        0,
        "XYZ"
       ],
       "scale": [
        1,
        1,
        1
       ],
       "type": "Scene",
       "up": [
        0,
        1,
        0
       ],
       "visible": true
      }
     },
     "3c210ef2038a421485dc1d99df01f330": {
      "model_module": "jupyter-threejs",
      "model_module_version": "^2.1.0",
      "model_name": "PerspectiveCameraModel",
      "state": {
       "_model_module": "jupyter-threejs",
       "_model_module_version": "^2.1.0",
       "_model_name": "PerspectiveCameraModel",
       "_view_count": null,
       "_view_module": null,
       "_view_module_version": "",
       "_view_name": null,
       "aspect": 1.3333333333333333,
       "castShadow": false,
       "children": [],
       "far": 2000,
       "focus": 10,
       "fov": 50,
       "frustumCulled": true,
       "matrix": [
        1,
        0,
        0,
        0,
        0,
        1,
        0,
        0,
        0,
        0,
        1,
        0,
        0,
        0,
        0,
        1
       ],
       "matrixAutoUpdate": true,
       "matrixWorld": [
        1,
        0,
        0,
        0,
        0,
        1,
        0,
        0,
        0,
        0,
        1,
        0,
        0,
        0,
        0,
        1
       ],
       "matrixWorldInverse": [
        1,
        0,
        0,
        0,
        0,
        1,
        0,
        0,
        0,
        0,
        1,
        0,
        0,
        0,
        0,
        1
       ],
       "matrixWorldNeedsUpdate": false,
       "modelViewMatrix": [
        1,
        0,
        0,
        0,
        0,
        1,
        0,
        0,
        0,
        0,
        1,
        0,
        0,
        0,
        0,
        1
       ],
       "name": "",
       "near": 0.1,
       "normalMatrix": [
        1,
        0,
        0,
        0,
        1,
        0,
        0,
        0,
        1
       ],
       "position": [
        1,
        1,
        1
       ],
       "projectionMatrix": [
        1,
        0,
        0,
        0,
        0,
        1,
        0,
        0,
        0,
        0,
        1,
        0,
        0,
        0,
        0,
        1
       ],
       "quaternion": [
        0,
        0,
        0,
        1
       ],
       "receiveShadow": false,
       "renderOrder": 0,
       "rotation": [
        0,
        0,
        0,
        "XYZ"
       ],
       "scale": [
        1,
        1,
        1
       ],
       "type": "PerspectiveCamera",
       "up": [
        0,
        1,
        0
       ],
       "visible": true,
       "zoom": 1
      }
     },
     "4de818be1a23415b9579ca6556627c5b": {
      "model_module": "jupyter-threejs",
      "model_module_version": "^2.1.0",
      "model_name": "AnimationMixerModel",
      "state": {
       "_model_module": "jupyter-threejs",
       "_model_module_version": "^2.1.0",
       "_model_name": "AnimationMixerModel",
       "_view_count": null,
       "_view_module": null,
       "_view_module_version": "",
       "_view_name": null,
       "rootObject": "IPY_MODEL_286c51b94d9942dda5e9f4c6b07c7ba1",
       "time": 0,
       "timeScale": 1
      }
     },
     "4e9cc06b291c44aeae63ced55f645e48": {
      "model_module": "jupyter-threejs",
      "model_module_version": "^2.1.0",
      "model_name": "AmbientLightModel",
      "state": {
       "_model_module": "jupyter-threejs",
       "_model_module_version": "^2.1.0",
       "_model_name": "AmbientLightModel",
       "_view_count": null,
       "_view_module": null,
       "_view_module_version": "",
       "_view_name": null,
       "castShadow": false,
       "children": [],
       "color": "#ffffff",
       "frustumCulled": true,
       "intensity": 1,
       "matrix": [
        1,
        0,
        0,
        0,
        0,
        1,
        0,
        0,
        0,
        0,
        1,
        0,
        0,
        0,
        0,
        1
       ],
       "matrixAutoUpdate": true,
       "matrixWorld": [
        1,
        0,
        0,
        0,
        0,
        1,
        0,
        0,
        0,
        0,
        1,
        0,
        0,
        0,
        0,
        1
       ],
       "matrixWorldNeedsUpdate": false,
       "modelViewMatrix": [
        1,
        0,
        0,
        0,
        0,
        1,
        0,
        0,
        0,
        0,
        1,
        0,
        0,
        0,
        0,
        1
       ],
       "name": "",
       "normalMatrix": [
        1,
        0,
        0,
        0,
        1,
        0,
        0,
        0,
        1
       ],
       "position": [
        0,
        0,
        0
       ],
       "quaternion": [
        0,
        0,
        0,
        1
       ],
       "receiveShadow": false,
       "renderOrder": 0,
       "rotation": [
        0,
        0,
        0,
        "XYZ"
       ],
       "scale": [
        1,
        1,
        1
       ],
       "type": "AmbientLight",
       "up": [
        0,
        1,
        0
       ],
       "visible": true
      }
     },
     "57ce26642ba146c38e75685a35c02f2f": {
      "buffers": [
       {
        "data": "AAAAAG79CD1u/Yg9JnzNPW79CD7KPCs+JnxNPoG7bz5u/Yg+HB2aPso8qz54XLw+JnzNPtOb3j6Bu+8+mG0AP279CD9FjRE/HB0aP/OsIj/KPCs/ocwzP3hcPD9P7EQ/JnxNP/0LVj/Tm14/qitnP4G7bz9YS3g/mG2AP4O1hD9u/Yg/WkWNP0WNkT8x1ZU/HB2aPwhlnj/zrKI/3/SmP8o8qz+2hK8/ocyzP4wUuD94XLw/Y6TAP0/sxD86NMk/JnzNPxHE0T/9C9Y/6FPaP9Ob3j+/4+I/qivnP5Zz6z+Bu+8/bQP0P1hL+D9Ek/w/mG0AQI2RAkCDtQRAedkGQG79CEBkIQtAWkUNQFBpD0BFjRFAO7ETQDHVFUAn+RdAHB0aQBJBHEAIZR5A/YggQPOsIkDp0CRA3/QmQNQYKUDKPCtAwGAtQLaEL0CrqDFAocwzQJfwNUCMFDhAgjg6QHhcPEBugD5AY6RAQFnIQkBP7ERARBBHQDo0SUAwWEtAJnxNQBugT0ARxFFAB+hTQP0LVkDyL1hA6FNaQN53XEDTm15Ayb9gQL/jYkC1B2VAqitnQKBPaUCWc2tAjJdtQIG7b0B333FAbQN0QGIndkBYS3hATm96QESTfEA5t35AmG2AQJJ/gUCNkYJAiKODQIO1hEB+x4VAedmGQHTrh0Bu/YhAaQ+KQGQhi0BfM4xAWkWNQFVXjkBQaY9ASnuQQEWNkUBAn5JAO7GTQDbDlEAx1ZVALOeWQCf5l0AhC5lAHB2aQBcvm0ASQZxADVOdQAhlnkADd59A/YigQPiaoUDzrKJA7r6jQOnQpEDk4qVA3/SmQNkGqEDUGKlAzyqqQMo8q0DFTqxAwGCtQLtyrkC2hK9AsJawQKuosUCmurJAocyzQJzetECX8LVAkgK3QIwUuECHJrlAgji6QH1Ku0B4XLxAc269QG6AvkBokr9AY6TAQF62wUBZyMJAVNrDQE/sxEBK/sVARBDHQD8iyEA6NMlANUbKQDBYy0ArasxAJnzNQCGOzkAboM9AFrLQQBHE0UAM1tJAB+jTQAL61ED9C9ZA9x3XQPIv2EDtQdlA6FPaQONl20Ded9xA2YndQNOb3kDOrd9Ayb/gQMTR4UC/4+JAuvXjQLUH5UCwGeZAqivnQKU96ECgT+lAm2HqQJZz60CRhexAjJftQIap7kCBu+9AfM3wQHff8UBy8fJAbQP0QGgV9UBiJ/ZAXTn3QFhL+EBTXflATm/6QEmB+0BEk/xAP6X9QDm3/kA0yf9AmG0AQZX2AEGSfwFBkAgCQY2RAkGLGgNBiKMDQYYsBEGDtQRBgD4FQX7HBUF7UAZBedkGQXZiB0F06wdBcXQIQW79CEFshglBaQ8KQWeYCkFkIQtBYqoLQV8zDEFcvAxBWkUNQVfODUFVVw5BUuAOQVBpD0FN8g9BSnsQQUgEEUFFjRFBQxYSQUCfEkE+KBNBO7ETQTk6FEE2wxRBM0wVQTHVFUEuXhZBLOcWQSlwF0En+RdBJIIYQSELGUEflBlBHB0aQRqmGkEXLxtBFbgbQRJBHEEPyhxBDVMdQQrcHUEIZR5BBe4eQQN3H0EAACBB",
        "encoding": "base64",
        "path": [
         "times",
         "buffer"
        ]
       },
       {
        "data": "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",
        "encoding": "base64",
        "path": [
         "values",
         "buffer"
        ]
       }
      ],
      "model_module": "jupyter-threejs",
      "model_module_version": "^2.1.0",
      "model_name": "VectorKeyframeTrackModel",
      "state": {
       "_model_module": "jupyter-threejs",
       "_model_module_version": "^2.1.0",
       "_model_name": "VectorKeyframeTrackModel",
       "_view_count": null,
       "_view_module": null,
       "_view_module_version": "",
       "_view_name": null,
       "interpolation": "InterpolateLinear",
       "name": "scene/plate.matrix",
       "times": {
        "buffer": {},
        "dtype": "float32",
        "shape": [
         300
        ]
       },
       "values": {
        "buffer": {},
        "dtype": "float32",
        "shape": [
         300,
         16
        ]
       }
      }
     },
     "682d7c17cf2a4bf8a57e4b4e227d07f7": {
      "model_module": "@jupyter-widgets/base",
      "model_module_version": "2.0.0",
      "model_name": "LayoutModel",
      "state": {
       "_model_module": "@jupyter-widgets/base",
       "_model_module_version": "2.0.0",
       "_model_name": "LayoutModel",
       "_view_count": null,
       "_view_module": "@jupyter-widgets/base",
       "_view_module_version": "2.0.0",
       "_view_name": "LayoutView",
       "align_content": null,
       "align_items": null,
       "align_self": null,
       "border_bottom": null,
       "border_left": null,
       "border_right": null,
       "border_top": null,
       "bottom": null,
       "display": null,
       "flex": null,
       "flex_flow": null,
       "grid_area": null,
       "grid_auto_columns": null,
       "grid_auto_flow": null,
       "grid_auto_rows": null,
       "grid_column": null,
       "grid_gap": null,
       "grid_row": null,
       "grid_template_areas": null,
       "grid_template_columns": null,
       "grid_template_rows": null,
       "height": null,
       "justify_content": null,
       "justify_items": null,
       "left": null,
       "margin": null,
       "max_height": null,
       "max_width": null,
       "min_height": null,
       "min_width": null,
       "object_fit": null,
       "object_position": null,
       "order": null,
       "overflow": null,
       "padding": null,
       "right": null,
       "top": null,
       "visibility": null,
       "width": null
      }
     },
     "74db29fc3168472f9ebb4b402426a91a": {
      "model_module": "@jupyter-widgets/base",
      "model_module_version": "2.0.0",
      "model_name": "LayoutModel",
      "state": {
       "_model_module": "@jupyter-widgets/base",
       "_model_module_version": "2.0.0",
       "_model_name": "LayoutModel",
       "_view_count": null,
       "_view_module": "@jupyter-widgets/base",
       "_view_module_version": "2.0.0",
       "_view_name": "LayoutView",
       "align_content": null,
       "align_items": null,
       "align_self": null,
       "border_bottom": null,
       "border_left": null,
       "border_right": null,
       "border_top": null,
       "bottom": null,
       "display": null,
       "flex": null,
       "flex_flow": null,
       "grid_area": null,
       "grid_auto_columns": null,
       "grid_auto_flow": null,
       "grid_auto_rows": null,
       "grid_column": null,
       "grid_gap": null,
       "grid_row": null,
       "grid_template_areas": null,
       "grid_template_columns": null,
       "grid_template_rows": null,
       "height": null,
       "justify_content": null,
       "justify_items": null,
       "left": null,
       "margin": null,
       "max_height": null,
       "max_width": null,
       "min_height": null,
       "min_width": null,
       "object_fit": null,
       "object_position": null,
       "order": null,
       "overflow": null,
       "padding": null,
       "right": null,
       "top": null,
       "visibility": null,
       "width": null
      }
     },
     "75ce6945796843beb902f6f846807aff": {
      "model_module": "jupyter-threejs",
      "model_module_version": "^2.1.0",
      "model_name": "CylinderBufferGeometryModel",
      "state": {
       "_model_module": "jupyter-threejs",
       "_model_module_version": "^2.1.0",
       "_model_name": "CylinderBufferGeometryModel",
       "_view_count": null,
       "_view_module": null,
       "_view_module_version": "",
       "_view_name": null,
       "height": 0.15000000000000002,
       "heightSegments": 1,
       "name": "",
       "openEnded": false,
       "radialSegments": 100,
       "radiusBottom": 0.005,
       "radiusTop": 0.005,
       "thetaLength": 6.283185307179586,
       "thetaStart": 0,
       "type": "CylinderBufferGeometry"
      }
     },
     "882069bff453405eb35b396b31531cd0": {
      "model_module": "jupyter-threejs",
      "model_module_version": "^2.1.0",
      "model_name": "MeshModel",
      "state": {
       "_model_module": "jupyter-threejs",
       "_model_module_version": "^2.1.0",
       "_model_name": "MeshModel",
       "_view_count": null,
       "_view_module": null,
       "_view_module_version": "",
       "_view_name": null,
       "castShadow": false,
       "children": [],
       "drawMode": "TrianglesDrawMode",
       "frustumCulled": true,
       "geometry": "IPY_MODEL_da8d5c6a38534a35af3bc1b45b2de856",
       "material": "IPY_MODEL_eca96d9bf3f549c0ba79dadc5872192f",
       "matrix": [
        1,
        0,
        6.123233995736766e-17,
        0,
        -6.122301397540666e-17,
        -0.01745240643728351,
        0.9998476951563913,
        0,
        1.0686516840418957e-18,
        -0.9998476951563913,
        -0.01745240643728351,
        0,
        0.2,
        0,
        1.2246467991473533e-17,
        1
       ],
       "matrixAutoUpdate": false,
       "matrixWorld": [
        1,
        0,
        0,
        0,
        0,
        1,
        0,
        0,
        0,
        0,
        1,
        0,
        0,
        0,
        0,
        1
       ],
       "matrixWorldNeedsUpdate": false,
       "modelViewMatrix": [
        1,
        0,
        0,
        0,
        0,
        1,
        0,
        0,
        0,
        0,
        1,
        0,
        0,
        0,
        0,
        1
       ],
       "morphTargetInfluences": [],
       "name": "plate",
       "normalMatrix": [
        1,
        0,
        0,
        0,
        1,
        0,
        0,
        0,
        1
       ],
       "position": [
        0,
        0,
        0
       ],
       "quaternion": [
        0,
        0,
        0,
        1
       ],
       "receiveShadow": false,
       "renderOrder": 0,
       "rotation": [
        0,
        0,
        0,
        "XYZ"
       ],
       "scale": [
        1,
        1,
        1
       ],
       "type": "Mesh",
       "up": [
        0,
        1,
        0
       ],
       "visible": true
      }
     },
     "89c6d6af8cec418f88d7126a5ec768c2": {
      "model_module": "@jupyter-widgets/controls",
      "model_module_version": "2.0.0",
      "model_name": "VBoxModel",
      "state": {
       "_dom_classes": [],
       "_model_module": "@jupyter-widgets/controls",
       "_model_module_version": "2.0.0",
       "_model_name": "VBoxModel",
       "_view_count": null,
       "_view_module": "@jupyter-widgets/controls",
       "_view_module_version": "2.0.0",
       "_view_name": "VBoxView",
       "box_style": "",
       "children": [
        "IPY_MODEL_fc0a518e23a54d048a4957f2155a4e30",
        "IPY_MODEL_fd03a9d64c1d4549ba8626d857371448"
       ],
       "layout": "IPY_MODEL_682d7c17cf2a4bf8a57e4b4e227d07f7",
       "tabbable": null,
       "tooltip": null
      }
     },
     "8e4199d77f57475f92a195abc96620dd": {
      "model_module": "jupyter-threejs",
      "model_module_version": "^2.1.0",
      "model_name": "MeshStandardMaterialModel",
      "state": {
       "_model_module": "jupyter-threejs",
       "_model_module_version": "^2.1.0",
       "_model_name": "MeshStandardMaterialModel",
       "_view_count": null,
       "_view_module": null,
       "_view_module_version": "",
       "_view_name": null,
       "alphaMap": null,
       "alphaTest": 0,
       "aoMap": null,
       "aoMapIntensity": 1,
       "blendDst": "OneMinusSrcAlphaFactor",
       "blendDstAlpha": 0,
       "blendEquation": "AddEquation",
       "blendEquationAlpha": 0,
       "blendSrc": "SrcAlphaFactor",
       "blendSrcAlpha": 0,
       "blending": "NormalBlending",
       "bumpMap": null,
       "bumpScale": 1,
       "clipIntersection": false,
       "clipShadows": false,
       "clippingPlanes": [],
       "color": "red",
       "colorWrite": true,
       "defines": {
        "STANDARD": ""
       },
       "depthFunc": "LessEqualDepth",
       "depthTest": true,
       "depthWrite": true,
       "displacementBias": 0,
       "displacementMap": null,
       "displacementScale": 1,
       "dithering": false,
       "emissive": "#000000",
       "emissiveIntensity": 1,
       "emissiveMap": null,
       "envMap": null,
       "envMapIntensity": 1,
       "flatShading": false,
       "fog": true,
       "lightMap": null,
       "lightMapIntensity": 1,
       "lights": true,
       "map": null,
       "metalness": 0.5,
       "metalnessMap": null,
       "morphNormals": false,
       "morphTargets": false,
       "name": "",
       "normalMap": null,
       "normalScale": [
        1,
        1
       ],
       "opacity": 1,
       "overdraw": 0,
       "polygonOffset": false,
       "polygonOffsetFactor": 0,
       "polygonOffsetUnits": 0,
       "precision": null,
       "premultipliedAlpha": false,
       "refractionRatio": 0.98,
       "roughness": 0.5,
       "roughnessMap": null,
       "shadowSide": null,
       "side": "FrontSide",
       "skinning": false,
       "transparent": false,
       "type": "MeshStandardMaterial",
       "vertexColors": "NoColors",
       "visible": true,
       "wireframe": false,
       "wireframeLinecap": "round",
       "wireframeLinejoin": "round",
       "wireframeLinewidth": 1
      }
     },
     "99c26eb58e5442d796790ce77c6c0939": {
      "model_module": "jupyter-threejs",
      "model_module_version": "^2.1.0",
      "model_name": "MeshModel",
      "state": {
       "_model_module": "jupyter-threejs",
       "_model_module_version": "^2.1.0",
       "_model_name": "MeshModel",
       "_view_count": null,
       "_view_module": null,
       "_view_module_version": "",
       "_view_name": null,
       "castShadow": false,
       "children": [],
       "drawMode": "TrianglesDrawMode",
       "frustumCulled": true,
       "geometry": "IPY_MODEL_75ce6945796843beb902f6f846807aff",
       "material": "IPY_MODEL_8e4199d77f57475f92a195abc96620dd",
       "matrix": [
        6.123233995736766e-17,
        0,
        -1,
        0,
        1,
        0,
        6.123233995736766e-17,
        0,
        0,
        -1,
        0,
        0,
        0.07500000000000001,
        0,
        4.592425496802575e-18,
        1
       ],
       "matrixAutoUpdate": false,
       "matrixWorld": [
        1,
        0,
        0,
        0,
        0,
        1,
        0,
        0,
        0,
        0,
        1,
        0,
        0,
        0,
        0,
        1
       ],
       "matrixWorldNeedsUpdate": false,
       "modelViewMatrix": [
        1,
        0,
        0,
        0,
        0,
        1,
        0,
        0,
        0,
        0,
        1,
        0,
        0,
        0,
        0,
        1
       ],
       "morphTargetInfluences": [],
       "name": "rod",
       "normalMatrix": [
        1,
        0,
        0,
        0,
        1,
        0,
        0,
        0,
        1
       ],
       "position": [
        0,
        0,
        0
       ],
       "quaternion": [
        0,
        0,
        0,
        1
       ],
       "receiveShadow": false,
       "renderOrder": 0,
       "rotation": [
        0,
        0,
        0,
        "XYZ"
       ],
       "scale": [
        1,
        1,
        1
       ],
       "type": "Mesh",
       "up": [
        0,
        1,
        0
       ],
       "visible": true
      }
     },
     "b365ffa9336d46be84f1d6b547afb071": {
      "model_module": "@jupyter-widgets/base",
      "model_module_version": "2.0.0",
      "model_name": "LayoutModel",
      "state": {
       "_model_module": "@jupyter-widgets/base",
       "_model_module_version": "2.0.0",
       "_model_name": "LayoutModel",
       "_view_count": null,
       "_view_module": "@jupyter-widgets/base",
       "_view_module_version": "2.0.0",
       "_view_name": "LayoutView",
       "align_content": null,
       "align_items": null,
       "align_self": null,
       "border_bottom": null,
       "border_left": null,
       "border_right": null,
       "border_top": null,
       "bottom": null,
       "display": null,
       "flex": null,
       "flex_flow": null,
       "grid_area": null,
       "grid_auto_columns": null,
       "grid_auto_flow": null,
       "grid_auto_rows": null,
       "grid_column": null,
       "grid_gap": null,
       "grid_row": null,
       "grid_template_areas": null,
       "grid_template_columns": null,
       "grid_template_rows": null,
       "height": null,
       "justify_content": null,
       "justify_items": null,
       "left": null,
       "margin": null,
       "max_height": null,
       "max_width": null,
       "min_height": null,
       "min_width": null,
       "object_fit": null,
       "object_position": null,
       "order": null,
       "overflow": null,
       "padding": null,
       "right": null,
       "top": null,
       "visibility": null,
       "width": null
      }
     },
     "da8d5c6a38534a35af3bc1b45b2de856": {
      "model_module": "jupyter-threejs",
      "model_module_version": "^2.1.0",
      "model_name": "PlaneBufferGeometryModel",
      "state": {
       "_model_module": "jupyter-threejs",
       "_model_module_version": "^2.1.0",
       "_model_name": "PlaneBufferGeometryModel",
       "_view_count": null,
       "_view_module": null,
       "_view_module_version": "",
       "_view_name": null,
       "height": 0.2,
       "heightSegments": 1,
       "name": "",
       "type": "PlaneBufferGeometry",
       "width": 0.1,
       "widthSegments": 1
      }
     },
     "e42d00f684a646d0a1cf74487b0e60e3": {
      "model_module": "jupyter-threejs",
      "model_module_version": "^2.1.0",
      "model_name": "AxesHelperModel",
      "state": {
       "_model_module": "jupyter-threejs",
       "_model_module_version": "^2.1.0",
       "_model_name": "AxesHelperModel",
       "_view_count": null,
       "_view_module": null,
       "_view_module_version": "",
       "_view_name": null,
       "castShadow": false,
       "children": [],
       "frustumCulled": true,
       "matrix": [
        1,
        0,
        0,
        0,
        0,
        1,
        0,
        0,
        0,
        0,
        1,
        0,
        0,
        0,
        0,
        1
       ],
       "matrixAutoUpdate": true,
       "matrixWorld": [
        1,
        0,
        0,
        0,
        0,
        1,
        0,
        0,
        0,
        0,
        1,
        0,
        0,
        0,
        0,
        1
       ],
       "matrixWorldNeedsUpdate": false,
       "modelViewMatrix": [
        1,
        0,
        0,
        0,
        0,
        1,
        0,
        0,
        0,
        0,
        1,
        0,
        0,
        0,
        0,
        1
       ],
       "name": "",
       "normalMatrix": [
        1,
        0,
        0,
        0,
        1,
        0,
        0,
        0,
        1
       ],
       "position": [
        0,
        0,
        0
       ],
       "quaternion": [
        0,
        0,
        0,
        1
       ],
       "receiveShadow": false,
       "renderOrder": 0,
       "rotation": [
        0,
        0,
        0,
        "XYZ"
       ],
       "scale": [
        1,
        1,
        1
       ],
       "size": 1,
       "type": "AxesHelper",
       "up": [
        0,
        1,
        0
       ],
       "visible": true
      }
     },
     "eca96d9bf3f549c0ba79dadc5872192f": {
      "model_module": "jupyter-threejs",
      "model_module_version": "^2.1.0",
      "model_name": "MeshStandardMaterialModel",
      "state": {
       "_model_module": "jupyter-threejs",
       "_model_module_version": "^2.1.0",
       "_model_name": "MeshStandardMaterialModel",
       "_view_count": null,
       "_view_module": null,
       "_view_module_version": "",
       "_view_name": null,
       "alphaMap": null,
       "alphaTest": 0,
       "aoMap": null,
       "aoMapIntensity": 1,
       "blendDst": "OneMinusSrcAlphaFactor",
       "blendDstAlpha": 0,
       "blendEquation": "AddEquation",
       "blendEquationAlpha": 0,
       "blendSrc": "SrcAlphaFactor",
       "blendSrcAlpha": 0,
       "blending": "NormalBlending",
       "bumpMap": null,
       "bumpScale": 1,
       "clipIntersection": false,
       "clipShadows": false,
       "clippingPlanes": [],
       "color": "blue",
       "colorWrite": true,
       "defines": {
        "STANDARD": ""
       },
       "depthFunc": "LessEqualDepth",
       "depthTest": true,
       "depthWrite": true,
       "displacementBias": 0,
       "displacementMap": null,
       "displacementScale": 1,
       "dithering": false,
       "emissive": "#000000",
       "emissiveIntensity": 1,
       "emissiveMap": null,
       "envMap": null,
       "envMapIntensity": 1,
       "flatShading": false,
       "fog": true,
       "lightMap": null,
       "lightMapIntensity": 1,
       "lights": true,
       "map": null,
       "metalness": 0.5,
       "metalnessMap": null,
       "morphNormals": false,
       "morphTargets": false,
       "name": "",
       "normalMap": null,
       "normalScale": [
        1,
        1
       ],
       "opacity": 1,
       "overdraw": 0,
       "polygonOffset": false,
       "polygonOffsetFactor": 0,
       "polygonOffsetUnits": 0,
       "precision": null,
       "premultipliedAlpha": false,
       "refractionRatio": 0.98,
       "roughness": 0.5,
       "roughnessMap": null,
       "shadowSide": null,
       "side": "DoubleSide",
       "skinning": false,
       "transparent": false,
       "type": "MeshStandardMaterial",
       "vertexColors": "NoColors",
       "visible": true,
       "wireframe": false,
       "wireframeLinecap": "round",
       "wireframeLinejoin": "round",
       "wireframeLinewidth": 1
      }
     },
     "fa92539cc8ba48dfab964d65d02739d2": {
      "model_module": "jupyter-threejs",
      "model_module_version": "^2.1.0",
      "model_name": "OrbitControlsModel",
      "state": {
       "_model_module": "jupyter-threejs",
       "_model_module_version": "^2.1.0",
       "_model_name": "OrbitControlsModel",
       "_view_count": null,
       "_view_module": null,
       "_view_module_version": "",
       "_view_name": null,
       "autoRotate": false,
       "autoRotateSpeed": 2,
       "controlling": "IPY_MODEL_3c210ef2038a421485dc1d99df01f330",
       "dampingFactor": 0.25,
       "enableDamping": false,
       "enableKeys": true,
       "enablePan": true,
       "enableRotate": true,
       "enableZoom": true,
       "enabled": true,
       "keyPanSpeed": 7,
       "maxAzimuthAngle": "inf",
       "maxDistance": "inf",
       "maxPolarAngle": 3.141592653589793,
       "maxZoom": "inf",
       "minAzimuthAngle": "-inf",
       "minDistance": 0,
       "minPolarAngle": 0,
       "minZoom": 0,
       "panSpeed": 1,
       "rotateSpeed": 1,
       "screenSpacePanning": true,
       "target": [
        0,
        0,
        0
       ],
       "zoomSpeed": 1
      }
     },
     "fc0a518e23a54d048a4957f2155a4e30": {
      "model_module": "jupyter-threejs",
      "model_module_version": "^2.1.0",
      "model_name": "AnimationActionModel",
      "state": {
       "_dom_classes": [],
       "_model_module": "jupyter-threejs",
       "_model_module_version": "^2.1.0",
       "_model_name": "AnimationActionModel",
       "_view_count": null,
       "_view_module": "jupyter-threejs",
       "_view_module_version": "^2.1.0",
       "_view_name": "AnimationActionView",
       "clampWhenFinished": false,
       "clip": "IPY_MODEL_131cbdc4f14c4cd788911433d5035947",
       "enabled": true,
       "layout": "IPY_MODEL_b365ffa9336d46be84f1d6b547afb071",
       "localRoot": "IPY_MODEL_286c51b94d9942dda5e9f4c6b07c7ba1",
       "loop": "LoopRepeat",
       "mixer": "IPY_MODEL_4de818be1a23415b9579ca6556627c5b",
       "paused": false,
       "repititions": "inf",
       "tabbable": null,
       "time": 0,
       "timeScale": 1,
       "tooltip": null,
       "weigth": 1,
       "zeroSlopeAtEnd": true,
       "zeroSlopeAtStart": true
      }
     },
     "fd03a9d64c1d4549ba8626d857371448": {
      "model_module": "jupyter-threejs",
      "model_module_version": "^2.1.0",
      "model_name": "RendererModel",
      "state": {
       "_alpha": false,
       "_antialias": false,
       "_dom_classes": [],
       "_height": 600,
       "_model_module": "jupyter-threejs",
       "_model_module_version": "^2.1.0",
       "_model_name": "RendererModel",
       "_pause_autorender": false,
       "_view_count": null,
       "_view_module": "jupyter-threejs",
       "_view_module_version": "^2.1.0",
       "_view_name": "RendererView",
       "_webgl_version": 2,
       "_width": 800,
       "autoClear": true,
       "autoClearColor": true,
       "autoClearDepth": true,
       "autoClearStencil": true,
       "background": "black",
       "background_opacity": 1,
       "camera": "IPY_MODEL_3c210ef2038a421485dc1d99df01f330",
       "clearColor": "#000000",
       "clearOpacity": 1,
       "clippingPlanes": [],
       "controls": [
        "IPY_MODEL_fa92539cc8ba48dfab964d65d02739d2"
       ],
       "gammaFactor": 2,
       "gammaInput": false,
       "gammaOutput": false,
       "layout": "IPY_MODEL_74db29fc3168472f9ebb4b402426a91a",
       "localClippingEnabled": false,
       "maxMorphNormals": 4,
       "maxMorphTargets": 8,
       "physicallyCorrectLights": false,
       "scene": "IPY_MODEL_286c51b94d9942dda5e9f4c6b07c7ba1",
       "shadowMap": "IPY_MODEL_25a88bbd80354ae5b03698a754cad0bc",
       "sortObject": true,
       "tabbable": null,
       "toneMapping": "LinearToneMapping",
       "toneMappingExposure": 1,
       "toneMappingWhitePoint": 1,
       "tooltip": null
      }
     },
     "fdceb3ec8ef248849f73a29ffade3a98": {
      "buffers": [
       {
        "data": "AAAAAG79CD1u/Yg9JnzNPW79CD7KPCs+JnxNPoG7bz5u/Yg+HB2aPso8qz54XLw+JnzNPtOb3j6Bu+8+mG0AP279CD9FjRE/HB0aP/OsIj/KPCs/ocwzP3hcPD9P7EQ/JnxNP/0LVj/Tm14/qitnP4G7bz9YS3g/mG2AP4O1hD9u/Yg/WkWNP0WNkT8x1ZU/HB2aPwhlnj/zrKI/3/SmP8o8qz+2hK8/ocyzP4wUuD94XLw/Y6TAP0/sxD86NMk/JnzNPxHE0T/9C9Y/6FPaP9Ob3j+/4+I/qivnP5Zz6z+Bu+8/bQP0P1hL+D9Ek/w/mG0AQI2RAkCDtQRAedkGQG79CEBkIQtAWkUNQFBpD0BFjRFAO7ETQDHVFUAn+RdAHB0aQBJBHEAIZR5A/YggQPOsIkDp0CRA3/QmQNQYKUDKPCtAwGAtQLaEL0CrqDFAocwzQJfwNUCMFDhAgjg6QHhcPEBugD5AY6RAQFnIQkBP7ERARBBHQDo0SUAwWEtAJnxNQBugT0ARxFFAB+hTQP0LVkDyL1hA6FNaQN53XEDTm15Ayb9gQL/jYkC1B2VAqitnQKBPaUCWc2tAjJdtQIG7b0B333FAbQN0QGIndkBYS3hATm96QESTfEA5t35AmG2AQJJ/gUCNkYJAiKODQIO1hEB+x4VAedmGQHTrh0Bu/YhAaQ+KQGQhi0BfM4xAWkWNQFVXjkBQaY9ASnuQQEWNkUBAn5JAO7GTQDbDlEAx1ZVALOeWQCf5l0AhC5lAHB2aQBcvm0ASQZxADVOdQAhlnkADd59A/YigQPiaoUDzrKJA7r6jQOnQpEDk4qVA3/SmQNkGqEDUGKlAzyqqQMo8q0DFTqxAwGCtQLtyrkC2hK9AsJawQKuosUCmurJAocyzQJzetECX8LVAkgK3QIwUuECHJrlAgji6QH1Ku0B4XLxAc269QG6AvkBokr9AY6TAQF62wUBZyMJAVNrDQE/sxEBK/sVARBDHQD8iyEA6NMlANUbKQDBYy0ArasxAJnzNQCGOzkAboM9AFrLQQBHE0UAM1tJAB+jTQAL61ED9C9ZA9x3XQPIv2EDtQdlA6FPaQONl20Ded9xA2YndQNOb3kDOrd9Ayb/gQMTR4UC/4+JAuvXjQLUH5UCwGeZAqivnQKU96ECgT+lAm2HqQJZz60CRhexAjJftQIap7kCBu+9AfM3wQHff8UBy8fJAbQP0QGgV9UBiJ/ZAXTn3QFhL+EBTXflATm/6QEmB+0BEk/xAP6X9QDm3/kA0yf9AmG0AQZX2AEGSfwFBkAgCQY2RAkGLGgNBiKMDQYYsBEGDtQRBgD4FQX7HBUF7UAZBedkGQXZiB0F06wdBcXQIQW79CEFshglBaQ8KQWeYCkFkIQtBYqoLQV8zDEFcvAxBWkUNQVfODUFVVw5BUuAOQVBpD0FN8g9BSnsQQUgEEUFFjRFBQxYSQUCfEkE+KBNBO7ETQTk6FEE2wxRBM0wVQTHVFUEuXhZBLOcWQSlwF0En+RdBJIIYQSELGUEflBlBHB0aQRqmGkEXLxtBFbgbQRJBHEEPyhxBDVMdQQrcHUEIZR5BBe4eQQN3H0EAACBB",
        "encoding": "base64",
        "path": [
         "times",
         "buffer"
        ]
       },
       {
        "data": "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",
        "encoding": "base64",
        "path": [
         "values",
         "buffer"
        ]
       }
      ],
      "model_module": "jupyter-threejs",
      "model_module_version": "^2.1.0",
      "model_name": "VectorKeyframeTrackModel",
      "state": {
       "_model_module": "jupyter-threejs",
       "_model_module_version": "^2.1.0",
       "_model_name": "VectorKeyframeTrackModel",
       "_view_count": null,
       "_view_module": null,
       "_view_module_version": "",
       "_view_name": null,
       "interpolation": "InterpolateLinear",
       "name": "scene/rod.matrix",
       "times": {
        "buffer": {},
        "dtype": "float32",
        "shape": [
         300
        ]
       },
       "values": {
        "buffer": {},
        "dtype": "float32",
        "shape": [
         300,
         16
        ]
       }
      }
     },
     "ff45d718491641a5971725f63f54799e": {
      "model_module": "jupyter-threejs",
      "model_module_version": "^2.1.0",
      "model_name": "DirectionalLightModel",
      "state": {
       "_model_module": "jupyter-threejs",
       "_model_module_version": "^2.1.0",
       "_model_name": "DirectionalLightModel",
       "_view_count": null,
       "_view_module": null,
       "_view_module_version": "",
       "_view_name": null,
       "castShadow": false,
       "children": [],
       "color": "#ffffff",
       "frustumCulled": true,
       "intensity": 1,
       "matrix": [
        1,
        0,
        0,
        0,
        0,
        1,
        0,
        0,
        0,
        0,
        1,
        0,
        0,
        0,
        0,
        1
       ],
       "matrixAutoUpdate": true,
       "matrixWorld": [
        1,
        0,
        0,
        0,
        0,
        1,
        0,
        0,
        0,
        0,
        1,
        0,
        0,
        0,
        0,
        1
       ],
       "matrixWorldNeedsUpdate": false,
       "modelViewMatrix": [
        1,
        0,
        0,
        0,
        0,
        1,
        0,
        0,
        0,
        0,
        1,
        0,
        0,
        0,
        0,
        1
       ],
       "name": "",
       "normalMatrix": [
        1,
        0,
        0,
        0,
        1,
        0,
        0,
        0,
        1
       ],
       "position": [
        0,
        0,
        0
       ],
       "quaternion": [
        0,
        0,
        0,
        1
       ],
       "receiveShadow": false,
       "renderOrder": 0,
       "rotation": [
        0,
        0,
        0,
        "XYZ"
       ],
       "scale": [
        1,
        1,
        1
       ],
       "shadow": "uninitialized",
       "target": "uninitialized",
       "type": "DirectionalLight",
       "up": [
        0,
        1,
        0
       ],
       "visible": true
      }
     }
    },
    "version_major": 2,
    "version_minor": 0
   }
  }
 },
 "nbformat": 4,
 "nbformat_minor": 5
}
