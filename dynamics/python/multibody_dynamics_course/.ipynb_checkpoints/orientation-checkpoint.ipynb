{
 "cells": [
  {
   "cell_type": "code",
   "execution_count": 1,
   "id": "d55c5d5e",
   "metadata": {},
   "outputs": [],
   "source": [
    "import sympy as sm"
   ]
  },
  {
   "cell_type": "code",
   "execution_count": 2,
   "id": "66048388",
   "metadata": {},
   "outputs": [],
   "source": [
    "sm.init_printing()"
   ]
  },
  {
   "cell_type": "code",
   "execution_count": 3,
   "id": "bd378c05",
   "metadata": {},
   "outputs": [],
   "source": [
    "theta, alpha = sm.symbols('theta, alpha')"
   ]
  },
  {
   "cell_type": "code",
   "execution_count": 4,
   "id": "d65ed7d0",
   "metadata": {},
   "outputs": [
    {
     "data": {
      "text/latex": [
       "$\\displaystyle \\left[\\begin{matrix}\\cos{\\left(\\theta \\right)} & \\sin{\\left(\\theta \\right)} & 0\\\\- \\sin{\\left(\\theta \\right)} & \\cos{\\left(\\theta \\right)} & 0\\\\0 & 0 & 1\\end{matrix}\\right]$"
      ],
      "text/plain": [
       "⎡cos(θ)   sin(θ)  0⎤\n",
       "⎢                  ⎥\n",
       "⎢-sin(θ)  cos(θ)  0⎥\n",
       "⎢                  ⎥\n",
       "⎣   0       0     1⎦"
      ]
     },
     "execution_count": 4,
     "metadata": {},
     "output_type": "execute_result"
    }
   ],
   "source": [
    "B_C_A = sm.Matrix([[sm.cos(theta), sm.sin(theta), 0],\n",
    "                   [-sm.sin(theta), sm.cos(theta), 0],\n",
    "                   [0, 0, 1]])\n",
    "B_C_A"
   ]
  },
  {
   "cell_type": "code",
   "execution_count": 5,
   "id": "f0fb297f",
   "metadata": {},
   "outputs": [
    {
     "data": {
      "text/latex": [
       "$\\displaystyle \\left[\\begin{matrix}1 & 0 & 0\\\\0 & \\cos{\\left(\\alpha \\right)} & \\sin{\\left(\\alpha \\right)}\\\\0 & - \\sin{\\left(\\alpha \\right)} & \\cos{\\left(\\alpha \\right)}\\end{matrix}\\right]$"
      ],
      "text/plain": [
       "⎡1     0       0   ⎤\n",
       "⎢                  ⎥\n",
       "⎢0  cos(α)   sin(α)⎥\n",
       "⎢                  ⎥\n",
       "⎣0  -sin(α)  cos(α)⎦"
      ]
     },
     "execution_count": 5,
     "metadata": {},
     "output_type": "execute_result"
    }
   ],
   "source": [
    "C_C_B = sm.Matrix([[1, 0, 0],\n",
    "                   [0, sm.cos(alpha), sm.sin(alpha)],\n",
    "                   [0, -sm.sin(alpha), sm.cos(alpha)]])\n",
    "C_C_B"
   ]
  },
  {
   "cell_type": "code",
   "execution_count": 6,
   "id": "0bd92793",
   "metadata": {},
   "outputs": [
    {
     "data": {
      "text/latex": [
       "$\\displaystyle \\left[\\begin{matrix}\\cos{\\left(\\theta \\right)} & \\sin{\\left(\\theta \\right)} & 0\\\\- \\sin{\\left(\\theta \\right)} \\cos{\\left(\\alpha \\right)} & \\cos{\\left(\\alpha \\right)} \\cos{\\left(\\theta \\right)} & \\sin{\\left(\\alpha \\right)}\\\\\\sin{\\left(\\alpha \\right)} \\sin{\\left(\\theta \\right)} & - \\sin{\\left(\\alpha \\right)} \\cos{\\left(\\theta \\right)} & \\cos{\\left(\\alpha \\right)}\\end{matrix}\\right]$"
      ],
      "text/plain": [
       "⎡    cos(θ)          sin(θ)        0   ⎤\n",
       "⎢                                      ⎥\n",
       "⎢-sin(θ)⋅cos(α)  cos(α)⋅cos(θ)   sin(α)⎥\n",
       "⎢                                      ⎥\n",
       "⎣sin(α)⋅sin(θ)   -sin(α)⋅cos(θ)  cos(α)⎦"
      ]
     },
     "execution_count": 6,
     "metadata": {},
     "output_type": "execute_result"
    }
   ],
   "source": [
    "C_C_A = C_C_B * B_C_A\n",
    "C_C_A"
   ]
  },
  {
   "cell_type": "markdown",
   "id": "c77a7ca2",
   "metadata": {},
   "source": [
    "# SymPy Mechanics Orientation"
   ]
  },
  {
   "cell_type": "code",
   "execution_count": 7,
   "id": "08f322f0",
   "metadata": {},
   "outputs": [],
   "source": [
    "import sympy.physics.mechanics as me"
   ]
  },
  {
   "cell_type": "code",
   "execution_count": 8,
   "id": "aeba5115",
   "metadata": {},
   "outputs": [],
   "source": [
    "A = me.ReferenceFrame('A')\n",
    "B = me.ReferenceFrame('B')\n",
    "C = me.ReferenceFrame('C')"
   ]
  },
  {
   "cell_type": "code",
   "execution_count": 9,
   "id": "5341f76b",
   "metadata": {},
   "outputs": [],
   "source": [
    "B.orient_axis(A, theta, A.z)"
   ]
  },
  {
   "cell_type": "code",
   "execution_count": 10,
   "id": "489f0e31",
   "metadata": {},
   "outputs": [
    {
     "data": {
      "image/png": "[encoded data removed]",
      "text/latex": [
       "$\\displaystyle \\mathbf{\\hat{a}_x}$"
      ],
      "text/plain": [
       "a_x"
      ]
     },
     "execution_count": 10,
     "metadata": {},
     "output_type": "execute_result"
    }
   ],
   "source": [
    "A.x"
   ]
  },
  {
   "cell_type": "code",
   "execution_count": 11,
   "id": "b398bacd",
   "metadata": {},
   "outputs": [
    {
     "data": {
      "image/png": "[encoded data removed]",
      "text/latex": [
       "$\\displaystyle \\mathbf{\\hat{a}_y}$"
      ],
      "text/plain": [
       "a_y"
      ]
     },
     "execution_count": 11,
     "metadata": {},
     "output_type": "execute_result"
    }
   ],
   "source": [
    "A.y"
   ]
  },
  {
   "cell_type": "code",
   "execution_count": 12,
   "id": "a11dfc9b",
   "metadata": {},
   "outputs": [
    {
     "data": {
      "image/png": "[encoded data removed]",
      "text/latex": [
       "$\\displaystyle \\mathbf{\\hat{a}_z}$"
      ],
      "text/plain": [
       "a_z"
      ]
     },
     "execution_count": 12,
     "metadata": {},
     "output_type": "execute_result"
    }
   ],
   "source": [
    "A.z"
   ]
  },
  {
   "cell_type": "code",
   "execution_count": 13,
   "id": "2ec9a238",
   "metadata": {},
   "outputs": [
    {
     "data": {
      "text/latex": [
       "$\\displaystyle \\left[\\begin{matrix}\\cos{\\left(\\theta \\right)} & \\sin{\\left(\\theta \\right)} & 0\\\\- \\sin{\\left(\\theta \\right)} & \\cos{\\left(\\theta \\right)} & 0\\\\0 & 0 & 1\\end{matrix}\\right]$"
      ],
      "text/plain": [
       "⎡cos(θ)   sin(θ)  0⎤\n",
       "⎢                  ⎥\n",
       "⎢-sin(θ)  cos(θ)  0⎥\n",
       "⎢                  ⎥\n",
       "⎣   0       0     1⎦"
      ]
     },
     "execution_count": 13,
     "metadata": {},
     "output_type": "execute_result"
    }
   ],
   "source": [
    "B.dcm(A)"
   ]
  },
  {
   "cell_type": "code",
   "execution_count": 14,
   "id": "150c0995",
   "metadata": {},
   "outputs": [],
   "source": [
    "C.orient_axis(B, alpha, B.x)"
   ]
  },
  {
   "cell_type": "code",
   "execution_count": 15,
   "id": "7ac60020",
   "metadata": {},
   "outputs": [
    {
     "data": {
      "text/latex": [
       "$\\displaystyle \\left[\\begin{matrix}1 & 0 & 0\\\\0 & \\cos{\\left(\\alpha \\right)} & \\sin{\\left(\\alpha \\right)}\\\\0 & - \\sin{\\left(\\alpha \\right)} & \\cos{\\left(\\alpha \\right)}\\end{matrix}\\right]$"
      ],
      "text/plain": [
       "⎡1     0       0   ⎤\n",
       "⎢                  ⎥\n",
       "⎢0  cos(α)   sin(α)⎥\n",
       "⎢                  ⎥\n",
       "⎣0  -sin(α)  cos(α)⎦"
      ]
     },
     "execution_count": 15,
     "metadata": {},
     "output_type": "execute_result"
    }
   ],
   "source": [
    "C.dcm(B)"
   ]
  },
  {
   "cell_type": "code",
   "execution_count": 16,
   "id": "4e70a97f",
   "metadata": {},
   "outputs": [
    {
     "data": {
      "text/latex": [
       "$\\displaystyle \\left[\\begin{matrix}\\cos{\\left(\\theta \\right)} & \\sin{\\left(\\theta \\right)} & 0\\\\- \\sin{\\left(\\theta \\right)} \\cos{\\left(\\alpha \\right)} & \\cos{\\left(\\alpha \\right)} \\cos{\\left(\\theta \\right)} & \\sin{\\left(\\alpha \\right)}\\\\\\sin{\\left(\\alpha \\right)} \\sin{\\left(\\theta \\right)} & - \\sin{\\left(\\alpha \\right)} \\cos{\\left(\\theta \\right)} & \\cos{\\left(\\alpha \\right)}\\end{matrix}\\right]$"
      ],
      "text/plain": [
       "⎡    cos(θ)          sin(θ)        0   ⎤\n",
       "⎢                                      ⎥\n",
       "⎢-sin(θ)⋅cos(α)  cos(α)⋅cos(θ)   sin(α)⎥\n",
       "⎢                                      ⎥\n",
       "⎣sin(α)⋅sin(θ)   -sin(α)⋅cos(θ)  cos(α)⎦"
      ]
     },
     "execution_count": 16,
     "metadata": {},
     "output_type": "execute_result"
    }
   ],
   "source": [
    "C.dcm(A)"
   ]
  },
  {
   "cell_type": "markdown",
   "id": "208573c0",
   "metadata": {},
   "source": [
    "# Euler Z-X-Z"
   ]
  },
  {
   "cell_type": "code",
   "execution_count": 17,
   "id": "fec299a6",
   "metadata": {},
   "outputs": [],
   "source": [
    "A = me.ReferenceFrame('A')\n",
    "C = me.ReferenceFrame('C')"
   ]
  },
  {
   "cell_type": "code",
   "execution_count": 18,
   "id": "62bef855",
   "metadata": {},
   "outputs": [],
   "source": [
    "psi, theta, phi = sm.symbols('psi, theta, varphi')"
   ]
  },
  {
   "cell_type": "code",
   "execution_count": 19,
   "id": "3e377039",
   "metadata": {},
   "outputs": [],
   "source": [
    "C.orient_body_fixed(A, (psi, theta, phi), 'ZXZ')"
   ]
  },
  {
   "cell_type": "code",
   "execution_count": 20,
   "id": "7f1d2ae6",
   "metadata": {},
   "outputs": [
    {
     "data": {
      "text/latex": [
       "$\\displaystyle \\left[\\begin{matrix}- \\sin{\\left(\\psi \\right)} \\sin{\\left(\\varphi \\right)} \\cos{\\left(\\theta \\right)} + \\cos{\\left(\\psi \\right)} \\cos{\\left(\\varphi \\right)} & \\sin{\\left(\\psi \\right)} \\cos{\\left(\\varphi \\right)} + \\sin{\\left(\\varphi \\right)} \\cos{\\left(\\psi \\right)} \\cos{\\left(\\theta \\right)} & \\sin{\\left(\\theta \\right)} \\sin{\\left(\\varphi \\right)}\\\\- \\sin{\\left(\\psi \\right)} \\cos{\\left(\\theta \\right)} \\cos{\\left(\\varphi \\right)} - \\sin{\\left(\\varphi \\right)} \\cos{\\left(\\psi \\right)} & - \\sin{\\left(\\psi \\right)} \\sin{\\left(\\varphi \\right)} + \\cos{\\left(\\psi \\right)} \\cos{\\left(\\theta \\right)} \\cos{\\left(\\varphi \\right)} & \\sin{\\left(\\theta \\right)} \\cos{\\left(\\varphi \\right)}\\\\\\sin{\\left(\\psi \\right)} \\sin{\\left(\\theta \\right)} & - \\sin{\\left(\\theta \\right)} \\cos{\\left(\\psi \\right)} & \\cos{\\left(\\theta \\right)}\\end{matrix}\\right]$"
      ],
      "text/plain": [
       "⎡-sin(ψ)⋅sin(varphi)⋅cos(θ) + cos(ψ)⋅cos(varphi)  sin(ψ)⋅cos(varphi) + sin(var\n",
       "⎢                                                                             \n",
       "⎢-sin(ψ)⋅cos(θ)⋅cos(varphi) - sin(varphi)⋅cos(ψ)  -sin(ψ)⋅sin(varphi) + cos(ψ)\n",
       "⎢                                                                             \n",
       "⎣                 sin(ψ)⋅sin(θ)                                   -sin(θ)⋅cos(\n",
       "\n",
       "phi)⋅cos(ψ)⋅cos(θ)   sin(θ)⋅sin(varphi)⎤\n",
       "                                       ⎥\n",
       "⋅cos(θ)⋅cos(varphi)  sin(θ)⋅cos(varphi)⎥\n",
       "                                       ⎥\n",
       "ψ)                         cos(θ)      ⎦"
      ]
     },
     "execution_count": 20,
     "metadata": {},
     "output_type": "execute_result"
    }
   ],
   "source": [
    "C.dcm(A)"
   ]
  },
  {
   "cell_type": "code",
   "execution_count": null,
   "id": "2356a9da",
   "metadata": {},
   "outputs": [],
   "source": []
  },
  {
   "cell_type": "code",
   "execution_count": null,
   "id": "26bc1bca",
   "metadata": {},
   "outputs": [],
   "source": []
  }
 ],
 "metadata": {
  "kernelspec": {
   "display_name": "Python 3 (ipykernel)",
   "language": "python",
   "name": "python3"
  },
  "language_info": {
   "codemirror_mode": {
    "name": "ipython",
    "version": 3
   },
   "file_extension": ".py",
   "mimetype": "text/x-python",
   "name": "python",
   "nbconvert_exporter": "python",
   "pygments_lexer": "ipython3",
   "version": "3.10.8"
  }
 },
 "nbformat": 4,
 "nbformat_minor": 5
}
