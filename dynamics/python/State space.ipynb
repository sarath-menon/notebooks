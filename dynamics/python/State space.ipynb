{
 "cells": [
  {
   "cell_type": "code",
   "execution_count": 1,
   "id": "971213d8",
   "metadata": {},
   "outputs": [],
   "source": [
    "import sympy as sp\n",
    "from sympy.abc import x, t\n",
    "k = sp.symbols('k', real=True, positive=True)\n",
    "\n",
    "import numpy as np"
   ]
  },
  {
   "cell_type": "markdown",
   "id": "440bd313",
   "metadata": {},
   "source": [
    "# Eigenvalues"
   ]
  },
  {
   "cell_type": "code",
   "execution_count": 2,
   "id": "48dffc3e",
   "metadata": {},
   "outputs": [
    {
     "data": {
      "text/plain": [
       "{1: 2}"
      ]
     },
     "execution_count": 2,
     "metadata": {},
     "output_type": "execute_result"
    }
   ],
   "source": [
    "A = sp.Matrix([[1,0], [0,1]])\n",
    "A.eigenvals()"
   ]
  },
  {
   "cell_type": "code",
   "execution_count": 3,
   "id": "35870f6d",
   "metadata": {},
   "outputs": [
    {
     "data": {
      "text/plain": [
       "{-1.00000000000000: 1, 1.00000000000000: 1}"
      ]
     },
     "execution_count": 3,
     "metadata": {},
     "output_type": "execute_result"
    }
   ],
   "source": [
    "A = sp.Matrix([[0,1], [1,0]])\n",
    "A.evalf().eigenvals()"
   ]
  },
  {
   "cell_type": "code",
   "execution_count": 4,
   "id": "671cb2ef",
   "metadata": {},
   "outputs": [
    {
     "data": {
      "text/plain": [
       "{-1.0*I: 1, 1.0*I: 1}"
      ]
     },
     "execution_count": 4,
     "metadata": {},
     "output_type": "execute_result"
    }
   ],
   "source": [
    "A = sp.Matrix([[0,-1], [1,0]])\n",
    "A.evalf().eigenvals()# Eigenvalues"
   ]
  },
  {
   "cell_type": "markdown",
   "id": "0001efb2",
   "metadata": {},
   "source": [
    "# Diagonalization"
   ]
  },
  {
   "cell_type": "code",
   "execution_count": 5,
   "id": "4f370f30",
   "metadata": {},
   "outputs": [
    {
     "data": {
      "text/plain": [
       "True"
      ]
     },
     "execution_count": 5,
     "metadata": {},
     "output_type": "execute_result"
    }
   ],
   "source": [
    "A = sp.Matrix([[3 , -1], [-1, 3]])\n",
    "A.is_diagonalizable()"
   ]
  },
  {
   "cell_type": "code",
   "execution_count": 6,
   "id": "810d4b99",
   "metadata": {
    "scrolled": true
   },
   "outputs": [
    {
     "data": {
      "text/latex": [
       "$\\displaystyle \\left[\\begin{matrix}2 & 0\\\\0 & 4\\end{matrix}\\right]$"
      ],
      "text/plain": [
       "Matrix([\n",
       "[2, 0],\n",
       "[0, 4]])"
      ]
     },
     "execution_count": 6,
     "metadata": {},
     "output_type": "execute_result"
    }
   ],
   "source": [
    "(P, D) = A.diagonalize()\n",
    "D # Diagonal matrix of eigenvalues "
   ]
  },
  {
   "cell_type": "code",
   "execution_count": 7,
   "id": "ae81e95a",
   "metadata": {},
   "outputs": [
    {
     "data": {
      "text/latex": [
       "$\\displaystyle \\left[\\begin{matrix}1 & -1\\\\1 & 1\\end{matrix}\\right]$"
      ],
      "text/plain": [
       "Matrix([\n",
       "[1, -1],\n",
       "[1,  1]])"
      ]
     },
     "execution_count": 7,
     "metadata": {},
     "output_type": "execute_result"
    }
   ],
   "source": [
    "P # Eigenbasis: matrix where each basis is an eigenvector"
   ]
  },
  {
   "cell_type": "markdown",
   "id": "0ec6b011",
   "metadata": {},
   "source": [
    "# Jordan form "
   ]
  },
  {
   "cell_type": "markdown",
   "id": "11c75f07",
   "metadata": {},
   "source": [
    "Used when diagonalization is not possible. Each digonal element is an eigenvalue"
   ]
  },
  {
   "cell_type": "code",
   "execution_count": 8,
   "id": "138d51f3",
   "metadata": {
    "scrolled": false
   },
   "outputs": [
    {
     "data": {
      "text/latex": [
       "$\\displaystyle \\left[\\begin{matrix}-1 & 1\\\\0 & -1\\end{matrix}\\right]$"
      ],
      "text/plain": [
       "Matrix([\n",
       "[-1,  1],\n",
       "[ 0, -1]])"
      ]
     },
     "execution_count": 8,
     "metadata": {},
     "output_type": "execute_result"
    }
   ],
   "source": [
    "A = sp.Matrix([[-1 , 2], [0, -1]])\n",
    "P, J = A.jordan_form()\n",
    "J"
   ]
  },
  {
   "cell_type": "markdown",
   "id": "33b32585",
   "metadata": {},
   "source": [
    "# Matrix exponential"
   ]
  },
  {
   "cell_type": "code",
   "execution_count": 9,
   "id": "921f9727",
   "metadata": {
    "scrolled": true
   },
   "outputs": [
    {
     "data": {
      "text/latex": [
       "$\\displaystyle \\left[\\begin{matrix}\\cos{\\left(t \\right)} & \\sin{\\left(t \\right)}\\\\- \\sin{\\left(t \\right)} & \\cos{\\left(t \\right)}\\end{matrix}\\right]$"
      ],
      "text/plain": [
       "Matrix([\n",
       "[ cos(t), sin(t)],\n",
       "[-sin(t), cos(t)]])"
      ]
     },
     "execution_count": 9,
     "metadata": {},
     "output_type": "execute_result"
    }
   ],
   "source": [
    "A = sp.Matrix([[0 , 1], [-1,0]])\n",
    "sp.simplify(sp.exp(A*t))"
   ]
  },
  {
   "cell_type": "code",
   "execution_count": 10,
   "id": "ce30236d",
   "metadata": {},
   "outputs": [
    {
     "data": {
      "text/latex": [
       "$\\displaystyle \\left[\\begin{matrix}e^{- t} & 2 t e^{- t}\\\\0 & e^{- t}\\end{matrix}\\right]$"
      ],
      "text/plain": [
       "Matrix([\n",
       "[exp(-t), 2*t*exp(-t)],\n",
       "[      0,     exp(-t)]])"
      ]
     },
     "execution_count": 10,
     "metadata": {},
     "output_type": "execute_result"
    }
   ],
   "source": [
    "A = sp.Matrix([[-1 , 2], [0,-1]])\n",
    "sp.simplify(sp.exp(A*t))"
   ]
  },
  {
   "cell_type": "code",
   "execution_count": 11,
   "id": "e8d34364",
   "metadata": {
    "scrolled": false
   },
   "outputs": [
    {
     "data": {
      "text/latex": [
       "$\\displaystyle \\left[\\begin{matrix}e^{- t} & \\frac{2 \\left(- e^{t} + e^{t \\left(k - 4\\right)}\\right) e^{- t \\left(k - 3\\right)}}{k - 5}\\\\0 & e^{- t \\left(k - 4\\right)}\\end{matrix}\\right]$"
      ],
      "text/plain": [
       "Matrix([\n",
       "[exp(-t), 2*(-exp(t) + exp(t*(k - 4)))*exp(-t*(k - 3))/(k - 5)],\n",
       "[      0,                                      exp(-t*(k - 4))]])"
      ]
     },
     "execution_count": 11,
     "metadata": {},
     "output_type": "execute_result"
    }
   ],
   "source": [
    "A = sp.Matrix([[-1 , 2], [0, 4-k]])\n",
    "sp.simplify(sp.exp(A*t))"
   ]
  },
  {
   "cell_type": "markdown",
   "id": "e0dc9f01",
   "metadata": {},
   "source": [
    "# Convolution equation"
   ]
  },
  {
   "cell_type": "code",
   "execution_count": null,
   "id": "dd5bc0bf",
   "metadata": {},
   "outputs": [],
   "source": []
  }
 ],
 "metadata": {
  "kernelspec": {
   "display_name": "Python 3 (ipykernel)",
   "language": "python",
   "name": "python3"
  },
  "language_info": {
   "codemirror_mode": {
    "name": "ipython",
    "version": 3
   },
   "file_extension": ".py",
   "mimetype": "text/x-python",
   "name": "python",
   "nbconvert_exporter": "python",
   "pygments_lexer": "ipython3",
   "version": "3.10.9"
  }
 },
 "nbformat": 4,
 "nbformat_minor": 5
}
