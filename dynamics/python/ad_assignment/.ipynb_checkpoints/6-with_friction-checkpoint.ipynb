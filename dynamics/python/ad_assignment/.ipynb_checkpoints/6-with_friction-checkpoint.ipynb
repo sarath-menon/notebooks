{
 "cells": [
  {
   "cell_type": "code",
   "execution_count": 1,
   "id": "df34432f",
   "metadata": {},
   "outputs": [],
   "source": [
    "import sympy as sp\n",
    "from sympy.physics.mechanics import dynamicsymbols, init_vprinting\n",
    "# from sympy.abc import M, I\n",
    "import math\n",
    "import numpy as np\n",
    "from scipy.integrate import solve_ivp\n",
    "import matplotlib.pyplot as plt\n",
    "\n",
    "init_vprinting()"
   ]
  },
  {
   "cell_type": "markdown",
   "id": "5348ae24",
   "metadata": {},
   "source": [
    "## Rotation matrices"
   ]
  },
  {
   "cell_type": "code",
   "execution_count": 261,
   "id": "0052e17d",
   "metadata": {},
   "outputs": [],
   "source": [
    "M, m = sp.symbols('M m', real=True, positive=True)\n",
    "L = sp.symbols('L', real=True, positive=True)\n",
    "\n",
    "phi, theta =  dynamicsymbols('phi theta')\n",
    "beta, c = sp.symbols('beta c', real=True, positive=True)\n",
    "\n",
    "g = sp.Symbol('g', real=True)\n",
    "t = sp.Symbol('t')\n",
    "\n",
    "# Rotation matrices \n",
    "B_R_P = sp.rot_axis3(phi)\n",
    "A_R_B = sp.rot_axis1(sp.pi/2 - beta) "
   ]
  },
  {
   "cell_type": "markdown",
   "id": "4c80cc5d",
   "metadata": {},
   "source": [
    "## Angular velocities"
   ]
  },
  {
   "cell_type": "markdown",
   "id": "5ee9e036",
   "metadata": {},
   "source": [
    "### Plate"
   ]
  },
  {
   "cell_type": "code",
   "execution_count": 3,
   "id": "9750e7ec",
   "metadata": {},
   "outputs": [
    {
     "data": {
      "text/latex": [
       "$\\displaystyle \\left[\\begin{matrix}0\\\\\\cos{\\left(\\beta \\right)} \\dot{\\phi}\\\\\\sin{\\left(\\beta \\right)} \\dot{\\phi} + \\dot{\\theta}\\end{matrix}\\right]$"
      ],
      "text/plain": [
       "⎡     0      ⎤\n",
       "⎢            ⎥\n",
       "⎢  cos(β)⋅φ̇  ⎥\n",
       "⎢            ⎥\n",
       "⎣sin(β)⋅φ̇ + θ̇⎦"
      ]
     },
     "execution_count": 3,
     "metadata": {},
     "output_type": "execute_result"
    }
   ],
   "source": [
    "B_omega  = sp.Matrix([[0],[0],[phi.diff(t)]])\n",
    "A_omega  = sp.Matrix([[0],[0],[theta.diff(t)]])\n",
    "\n",
    "I_omega_p = A_omega + A_R_B  * B_omega\n",
    "I_omega_p"
   ]
  },
  {
   "cell_type": "markdown",
   "id": "7209faf4",
   "metadata": {},
   "source": [
    "### Rods"
   ]
  },
  {
   "cell_type": "code",
   "execution_count": 4,
   "id": "dbacabe7",
   "metadata": {},
   "outputs": [],
   "source": [
    "I_omega_rod1 = sp.Matrix([[0],[0],[theta.diff(t)]])\n",
    "\n",
    "B_omega_rod2  = sp.Matrix([[0],[0],[phi.diff(t)]])\n",
    "I_omega_rod2 = I_omega_rod1 + A_R_B  * B_omega_rod2"
   ]
  },
  {
   "cell_type": "markdown",
   "id": "0d13c301",
   "metadata": {},
   "source": [
    "## Linear Velocities"
   ]
  },
  {
   "cell_type": "markdown",
   "id": "3c0aa6c8",
   "metadata": {},
   "source": [
    "### Plate"
   ]
  },
  {
   "cell_type": "code",
   "execution_count": 5,
   "id": "ea626c61",
   "metadata": {},
   "outputs": [
    {
     "data": {
      "text/latex": [
       "$\\displaystyle \\left[\\begin{matrix}\\frac{L \\left(- \\sin{\\left(\\beta \\right)} \\cos{\\left(\\phi \\right)} \\dot{\\theta} - \\cos{\\left(\\beta \\right)} \\dot{\\theta} - \\cos{\\left(\\phi \\right)} \\dot{\\phi} + 2 \\dot{\\theta}\\right)}{2}\\\\\\frac{L \\left(\\sin{\\left(\\beta \\right)} \\dot{\\phi} + \\dot{\\theta}\\right) \\sin{\\left(\\phi \\right)}}{2}\\\\- \\frac{L \\sin{\\left(\\phi \\right)} \\cos{\\left(\\beta \\right)} \\dot{\\phi}}{2}\\end{matrix}\\right]$"
      ],
      "text/plain": [
       "⎡L⋅(-sin(β)⋅cos(φ)⋅θ̇ - cos(β)⋅θ̇ - cos(φ)⋅φ̇ + 2⋅θ̇)⎤\n",
       "⎢────────────────────────────────────────────────⎥\n",
       "⎢                       2                        ⎥\n",
       "⎢                                                ⎥\n",
       "⎢            L⋅(sin(β)⋅φ̇ + θ̇)⋅sin(φ)             ⎥\n",
       "⎢            ───────────────────────             ⎥\n",
       "⎢                       2                        ⎥\n",
       "⎢                                                ⎥\n",
       "⎢              -L⋅sin(φ)⋅cos(β)⋅φ̇                ⎥\n",
       "⎢              ───────────────────               ⎥\n",
       "⎣                       2                        ⎦"
      ]
     },
     "execution_count": 5,
     "metadata": {},
     "output_type": "execute_result"
    }
   ],
   "source": [
    "I_v_ba = sp.Matrix([[L*theta.diff(t)],[0],[0]])\n",
    "I_r_pb = A_R_B *  B_R_P * sp.Matrix([[0],[L/2],[L/2]])\n",
    "\n",
    "# # for verification \n",
    "# I_r_pb.subs({beta:sp.pi/2, phi:sp.pi/2})\n",
    "\n",
    "I_v_po =  I_v_ba  + I_omega_p.cross(I_r_pb)\n",
    "I_v_po.applyfunc(sp.simplify)"
   ]
  },
  {
   "cell_type": "code",
   "execution_count": 6,
   "id": "820cd6a1",
   "metadata": {},
   "outputs": [
    {
     "data": {
      "text/latex": [
       "$\\displaystyle \\left[\\begin{matrix}\\frac{L \\left(- \\cos{\\left(\\phi \\right)} \\dot{\\phi} + \\dot{\\theta}\\right)}{2}\\\\\\frac{L \\sin{\\left(\\phi \\right)} \\dot{\\theta}}{2}\\\\- \\frac{L \\sin{\\left(\\phi \\right)} \\dot{\\phi}}{2}\\end{matrix}\\right]$"
      ],
      "text/plain": [
       "⎡L⋅(-cos(φ)⋅φ̇ + θ̇)⎤\n",
       "⎢─────────────────⎥\n",
       "⎢        2        ⎥\n",
       "⎢                 ⎥\n",
       "⎢   L⋅sin(φ)⋅θ̇    ⎥\n",
       "⎢   ──────────    ⎥\n",
       "⎢       2         ⎥\n",
       "⎢                 ⎥\n",
       "⎢  -L⋅sin(φ)⋅φ̇    ⎥\n",
       "⎢  ────────────   ⎥\n",
       "⎣       2         ⎦"
      ]
     },
     "execution_count": 6,
     "metadata": {},
     "output_type": "execute_result"
    }
   ],
   "source": [
    "# Sanity checks\n",
    "\n",
    "# check whether x and z velocoty components due to phi rotation form circular path with omega rotation added\n",
    "I_v_po.subs({beta:0}).applyfunc(sp.simplify)"
   ]
  },
  {
   "cell_type": "markdown",
   "id": "958b96d4",
   "metadata": {},
   "source": [
    "### Rods"
   ]
  },
  {
   "cell_type": "code",
   "execution_count": 7,
   "id": "33b2a2b8",
   "metadata": {},
   "outputs": [],
   "source": [
    "I_v_rod1 =  sp.Matrix([[(L/2)*theta.diff(t)],[0],[0]])\n",
    "I_v_rod2 = sp.Matrix([[theta.diff(t) * (L + (L/2* sp.cos(beta))) ],[0],[0]])"
   ]
  },
  {
   "cell_type": "markdown",
   "id": "a89aea77",
   "metadata": {},
   "source": [
    "# Lagrangian"
   ]
  },
  {
   "cell_type": "code",
   "execution_count": 8,
   "id": "46a6accb",
   "metadata": {},
   "outputs": [],
   "source": [
    "def norm_sqrd(v):\n",
    "    return sp.simplify(sp.Pow(v[0],2) + sp.Pow(v[1],2) + sp.Pow(v[2],2))\n",
    "\n",
    "def elementwise_sqrd(v):\n",
    "    return sp.Matrix([[sp.Pow(v[0],2)],[sp.Pow(v[1],2)],[sp.Pow(v[2],2)]]) "
   ]
  },
  {
   "cell_type": "markdown",
   "id": "3006b1e0",
   "metadata": {},
   "source": [
    "## Kinetic energy"
   ]
  },
  {
   "cell_type": "markdown",
   "id": "cece37fd",
   "metadata": {},
   "source": [
    "### Kinetic energy of plate"
   ]
  },
  {
   "cell_type": "code",
   "execution_count": 9,
   "id": "d908623c",
   "metadata": {},
   "outputs": [],
   "source": [
    "I_xx = (1/6) * M * sp.Pow(L,2)\n",
    "I_yy = I_zz  = (1/12) * M * sp.Pow(L,2)\n",
    "I_plate = sp.diag(I_xx, I_yy, I_zz)\n",
    "\n",
    "T_linear_plate = 0.5 * M *  norm_sqrd(I_v_po)\n",
    "T_angular_plate= 0.5 * sum(I_plate * elementwise_sqrd(I_omega_p))\n",
    "\n",
    "T_plate = T_linear_plate + T_angular_plate"
   ]
  },
  {
   "cell_type": "markdown",
   "id": "a933dd17",
   "metadata": {},
   "source": [
    "### Kinetic energy of rods"
   ]
  },
  {
   "cell_type": "code",
   "execution_count": 10,
   "id": "17906e35",
   "metadata": {},
   "outputs": [],
   "source": [
    "I_xx = 0\n",
    "I_yy = I_zz  = (1/12) * m * sp.Pow(L,2)\n",
    "I_rod = sp.diag(I_xx, I_yy, I_zz)\n",
    "\n",
    "T_linear_rod1 = 0.5 * m *  norm_sqrd(I_v_rod1)\n",
    "T_linear_rod2 = 0.5 * m *  norm_sqrd(I_v_rod2)\n",
    "\n",
    "T_angular_rod1 = 0.5 * sum(I_rod * elementwise_sqrd(I_omega_rod1))\n",
    "T_angular_rod2 = 0.5 * sum(I_rod * elementwise_sqrd(I_omega_rod2))\n",
    "\n",
    "T_rod1 = T_linear_rod1 + T_angular_rod1\n",
    "T_rod2 = T_linear_rod2 + T_angular_rod2"
   ]
  },
  {
   "cell_type": "markdown",
   "id": "659432d8",
   "metadata": {},
   "source": [
    "### Total kinetic energy"
   ]
  },
  {
   "cell_type": "code",
   "execution_count": 11,
   "id": "98969822",
   "metadata": {},
   "outputs": [
    {
     "data": {
      "image/png": "[encoded data removed]",
      "text/latex": [
       "$\\displaystyle 0.0416666666666667 L^{2} M \\left(\\sin{\\left(\\beta \\right)} \\dot{\\phi} + \\dot{\\theta}\\right)^{2} + 0.125 L^{2} M \\left(\\left(\\sin{\\left(\\beta \\right)} \\dot{\\phi} + \\dot{\\theta}\\right)^{2} \\sin^{2}{\\left(\\phi \\right)} + \\left(\\sin{\\left(\\beta \\right)} \\cos{\\left(\\phi \\right)} \\dot{\\theta} + \\cos{\\left(\\beta \\right)} \\dot{\\theta} + \\cos{\\left(\\phi \\right)} \\dot{\\phi} - 2 \\dot{\\theta}\\right)^{2} + \\sin^{2}{\\left(\\phi \\right)} \\cos^{2}{\\left(\\beta \\right)} \\dot{\\phi}^{2}\\right) + 0.0416666666666667 L^{2} M \\cos^{2}{\\left(\\beta \\right)} \\dot{\\phi}^{2} + 0.0416666666666667 L^{2} m \\left(\\sin{\\left(\\beta \\right)} \\dot{\\phi} + \\dot{\\theta}\\right)^{2} + 0.125 L^{2} m \\left(\\cos{\\left(\\beta \\right)} + 2\\right)^{2} \\dot{\\theta}^{2} + 0.0416666666666667 L^{2} m \\cos^{2}{\\left(\\beta \\right)} \\dot{\\phi}^{2} + 0.166666666666667 L^{2} m \\dot{\\theta}^{2}$"
      ],
      "text/plain": [
       "                    2                 2          2   ⎛              2    2    \n",
       "0.0416666666666667⋅L ⋅M⋅(sin(β)⋅φ̇ + θ̇)  + 0.125⋅L ⋅M⋅⎝(sin(β)⋅φ̇ + θ̇) ⋅sin \n",
       "\n",
       "                                               2      2       2     2⎞        \n",
       "(φ) + (sin(β)⋅cos(φ)⋅θ̇ + cos(β)⋅θ̇ + cos(φ)⋅φ̇ - 2⋅θ̇)  + sin (φ)⋅cos (β)⋅φ̇ \n",
       "\n",
       "               2      2     2                       2                 2       \n",
       "⎠ + 0.0416666666666667⋅L ⋅M⋅cos (β)⋅φ̇  + 0.0416666666666667⋅L ⋅m⋅(sin(β)⋅φ̇ +\n",
       "\n",
       "   2               2  2                       2      2     2                  \n",
       " θ̇)  + 0.125⋅L ⋅m⋅(cos(β) + 2) ⋅θ̇  + 0.0416666666666667⋅L ⋅m⋅cos (β)⋅φ̇  + 0\n",
       "\n",
       "    2    2\n",
       ".166666666666667⋅L ⋅m⋅θ̇ "
      ]
     },
     "execution_count": 11,
     "metadata": {},
     "output_type": "execute_result"
    }
   ],
   "source": [
    "T = T_plate + T_rod1 + T_rod2\n",
    "T"
   ]
  },
  {
   "cell_type": "markdown",
   "id": "a7ea9215",
   "metadata": {},
   "source": [
    "## Potential energy"
   ]
  },
  {
   "cell_type": "code",
   "execution_count": 12,
   "id": "7c0e05b6",
   "metadata": {},
   "outputs": [
    {
     "data": {
      "image/png": "[encoded data removed]",
      "text/latex": [
       "$\\displaystyle - L M g \\sin{\\left(\\beta \\right)} \\cos{\\left(\\phi \\right)}$"
      ],
      "text/plain": [
       "-L⋅M⋅g⋅sin(β)⋅cos(φ)"
      ]
     },
     "execution_count": 12,
     "metadata": {},
     "output_type": "execute_result"
    }
   ],
   "source": [
    "V_plate = -M*g*L*sp.sin(beta)*sp.cos(phi)\n",
    "V = V_plate\n",
    "V"
   ]
  },
  {
   "cell_type": "markdown",
   "id": "7acc0d4d",
   "metadata": {},
   "source": [
    "## Compute equation of motion"
   ]
  },
  {
   "cell_type": "code",
   "execution_count": 262,
   "id": "2d0c8803-ea7f-476e-9458-8d7d65510d17",
   "metadata": {},
   "outputs": [
    {
     "data": {
      "image/png": "[encoded data removed]",
      "text/latex": [
       "$\\displaystyle 0.0416666666666667 L^{2} M \\left(\\sin{\\left(\\beta \\right)} \\dot{\\phi} + \\dot{\\theta}\\right)^{2} + 0.125 L^{2} M \\left(\\left(\\sin{\\left(\\beta \\right)} \\dot{\\phi} + \\dot{\\theta}\\right)^{2} \\sin^{2}{\\left(\\phi \\right)} + \\left(\\sin{\\left(\\beta \\right)} \\cos{\\left(\\phi \\right)} \\dot{\\theta} + \\cos{\\left(\\beta \\right)} \\dot{\\theta} + \\cos{\\left(\\phi \\right)} \\dot{\\phi} - 2 \\dot{\\theta}\\right)^{2} + \\sin^{2}{\\left(\\phi \\right)} \\cos^{2}{\\left(\\beta \\right)} \\dot{\\phi}^{2}\\right) + 0.0416666666666667 L^{2} M \\cos^{2}{\\left(\\beta \\right)} \\dot{\\phi}^{2} + 0.0416666666666667 L^{2} m \\left(\\sin{\\left(\\beta \\right)} \\dot{\\phi} + \\dot{\\theta}\\right)^{2} + 0.125 L^{2} m \\left(\\cos{\\left(\\beta \\right)} + 2\\right)^{2} \\dot{\\theta}^{2} + 0.0416666666666667 L^{2} m \\cos^{2}{\\left(\\beta \\right)} \\dot{\\phi}^{2} + 0.166666666666667 L^{2} m \\dot{\\theta}^{2} + L M g \\sin{\\left(\\beta \\right)} \\cos{\\left(\\phi \\right)}$"
      ],
      "text/plain": [
       "                    2                 2          2   ⎛              2    2    \n",
       "0.0416666666666667⋅L ⋅M⋅(sin(β)⋅φ̇ + θ̇)  + 0.125⋅L ⋅M⋅⎝(sin(β)⋅φ̇ + θ̇) ⋅sin \n",
       "\n",
       "                                               2      2       2     2⎞        \n",
       "(φ) + (sin(β)⋅cos(φ)⋅θ̇ + cos(β)⋅θ̇ + cos(φ)⋅φ̇ - 2⋅θ̇)  + sin (φ)⋅cos (β)⋅φ̇ \n",
       "\n",
       "               2      2     2                       2                 2       \n",
       "⎠ + 0.0416666666666667⋅L ⋅M⋅cos (β)⋅φ̇  + 0.0416666666666667⋅L ⋅m⋅(sin(β)⋅φ̇ +\n",
       "\n",
       "   2               2  2                       2      2     2                  \n",
       " θ̇)  + 0.125⋅L ⋅m⋅(cos(β) + 2) ⋅θ̇  + 0.0416666666666667⋅L ⋅m⋅cos (β)⋅φ̇  + 0\n",
       "\n",
       "    2    2                      \n",
       ".166666666666667⋅L ⋅m⋅θ̇  + L⋅M⋅g⋅sin(β)⋅cos(φ)"
      ]
     },
     "execution_count": 262,
     "metadata": {},
     "output_type": "execute_result"
    }
   ],
   "source": [
    "# damping coeff\n",
    "\n",
    "# rayleigh's dissipation to model air drag\n",
    "phi_lever = L/2\n",
    "theta_lever =  L + (L*sp.cos(beta))/2\n",
    "# D = (0.5*c*phi_lever*phi.diff(t)**2 + 0.5*c*theta_lever*theta.diff(t)**2)\n",
    "D = -0.5*c*phi_lever*phi.diff(t)**2\n",
    "\n",
    "Lg = T - V\n",
    "Lg"
   ]
  },
  {
   "cell_type": "markdown",
   "id": "686d745d-c82c-4708-8539-f2963fe0b66c",
   "metadata": {},
   "source": [
    "### theta"
   ]
  },
  {
   "cell_type": "code",
   "execution_count": null,
   "id": "b45ea562-d9a7-4d53-a8c9-a2af0a542cce",
   "metadata": {},
   "outputs": [],
   "source": [
    "x = theta\n",
    "xd = theta.diff(t)\n",
    "\n",
    "EOM = sp.diff(sp.diff(Lg,xd), t) - sp.diff(Lg, x) + sp.diff(D, xd)\n",
    "\n",
    "theta_eom = sp.simplify(EOM)\n",
    "\n",
    "# equate to zero \n",
    "theta_eq = sp.Eq(theta_eom, 0)\n",
    "\n",
    "# collect phi_ddot term \n",
    "theta_eq = sp.solve(theta_eq, theta.diff(t).diff(t))[0]\n",
    "theta_eq"
   ]
  },
  {
   "cell_type": "markdown",
   "id": "61469686-51ab-4d9f-9258-9edaf944e27f",
   "metadata": {},
   "source": [
    "### phi"
   ]
  },
  {
   "cell_type": "code",
   "execution_count": null,
   "id": "4f4fda63",
   "metadata": {},
   "outputs": [],
   "source": [
    "x = phi\n",
    "xd = phi.diff(t)\n",
    "\n",
    "EOM = sp.diff(sp.diff(Lg,xd), t) - sp.diff(Lg, x) + sp.diff(D, xd)\n",
    "\n",
    "phi_eom = sp.simplify(EOM)\n",
    "\n",
    "# equate to zero \n",
    "phi_eq = sp.Eq(phi_eom, 0)\n",
    "\n",
    "# collect phi_ddot term \n",
    "phi_eq = sp.solve(phi_eq, phi.diff(t).diff(t))[0]\n",
    "\n",
    "phi_eq"
   ]
  },
  {
   "cell_type": "markdown",
   "id": "7537fee9-1e4d-438b-b66a-44b2c36c216f",
   "metadata": {},
   "source": [
    "## Substitute physical values"
   ]
  },
  {
   "cell_type": "code",
   "execution_count": null,
   "id": "3432b64a-c61c-4fb9-a08c-6fa59a3eeaca",
   "metadata": {},
   "outputs": [],
   "source": [
    "params = {L:0.25, beta:np.pi/6, M:0.5, m:0.2, g:9.81, c:0.1}"
   ]
  },
  {
   "cell_type": "markdown",
   "id": "1ca6457c-95b9-4477-8e93-e844939fb211",
   "metadata": {},
   "source": [
    "### theta"
   ]
  },
  {
   "cell_type": "code",
   "execution_count": null,
   "id": "7be37aaa-1c8b-4360-9d74-c885e6733317",
   "metadata": {},
   "outputs": [],
   "source": [
    "# substitute physical values \n",
    "theta_eq_ = theta_eq.subs(params )\n",
    "\n",
    "# uncouple\n",
    "theta_eq_ = sp.Eq(theta_eq_, 0)\n",
    "theta_eq_ = theta_eq_.subs(phi.diff(t).diff(t), phi_eq)\n",
    "\n",
    "# collect theta_ddot term \n",
    "theta_eq_ = sp.solve(theta_eq_, theta.diff(t).diff(t))[0]\n",
    "theta_eq_final = theta_eq_.subs(params )\n",
    "\n",
    "# theta_eq_final\n",
    "\n",
    "theta_eq_final"
   ]
  },
  {
   "cell_type": "code",
   "execution_count": null,
   "id": "615e31d1-15e6-4a2c-a6d8-4ac2257229bf",
   "metadata": {},
   "outputs": [],
   "source": [
    "theta_ddot_func = sp.lambdify((theta, phi, theta.diff(t), phi.diff(t)), theta_eq_final,  modules='numpy')"
   ]
  },
  {
   "cell_type": "code",
   "execution_count": null,
   "id": "17469004-1c43-44e4-a6b5-8d382c8d1245",
   "metadata": {},
   "outputs": [],
   "source": [
    "theta_ddot_func(10,np.pi/2, 0,0)"
   ]
  },
  {
   "cell_type": "markdown",
   "id": "126f4df9-7f5e-478f-93e6-e66f62f78b5a",
   "metadata": {},
   "source": [
    "### phi"
   ]
  },
  {
   "cell_type": "code",
   "execution_count": null,
   "id": "74f88fb5-7349-4266-a54c-60da3c60f433",
   "metadata": {},
   "outputs": [],
   "source": [
    "# substitute physical values \n",
    "phi_eq_ = phi_eq.subs(params )\n",
    "\n",
    "# uncouple\n",
    "phi_eq_ = sp.Eq(phi_eq_, 0)\n",
    "phi_eq_ = phi_eq_.subs(theta.diff(t).diff(t), theta_eq)\n",
    "\n",
    "# collect phi_ddot term \n",
    "phi_eq_ = sp.solve(phi_eq_, phi.diff(t).diff(t))[0]\n",
    "phi_eq_final  = phi_eq_.subs(params ) \n",
    "phi_eq_final"
   ]
  },
  {
   "cell_type": "code",
   "execution_count": null,
   "id": "e7bfab23-7dfc-4830-acfd-67e40cff76ef",
   "metadata": {},
   "outputs": [],
   "source": [
    "phi_ddot_func = sp.lambdify((theta, phi, theta.diff(t), phi.diff(t) ), phi_eq_final,  modules='numpy')"
   ]
  },
  {
   "cell_type": "code",
   "execution_count": null,
   "id": "70cd5bc1-fc56-498e-bc1e-b29ad0ced6aa",
   "metadata": {},
   "outputs": [],
   "source": [
    "phi_ddot_func(0, np.pi/4, 0,0)"
   ]
  },
  {
   "cell_type": "markdown",
   "id": "c3b2fa97-4a42-4568-9e6a-5f35441907d5",
   "metadata": {},
   "source": [
    "## Simulation"
   ]
  },
  {
   "cell_type": "code",
   "execution_count": null,
   "id": "6c387841-5975-4144-a92a-2602e8c41fcf",
   "metadata": {},
   "outputs": [],
   "source": [
    "def system_dynamics(t, X):\n",
    "    phi = X[0]\n",
    "    theta = X[1]\n",
    "\n",
    "    phi_dot = X[2]\n",
    "    theta_dot = X[3]\n",
    "\n",
    "\n",
    "    phi_ddot = phi_ddot_func(theta,phi, theta_dot, phi_dot) \n",
    "\n",
    "    # # apply damping\n",
    "    # phi_ddot -= 0.1*phi_ddot\n",
    "    \n",
    "    theta_ddot = theta_ddot_func(theta,phi, theta_dot, phi_dot)  \n",
    "    \n",
    "    return [phi_dot, theta_dot, phi_ddot, theta_ddot]"
   ]
  },
  {
   "cell_type": "code",
   "execution_count": null,
   "id": "582f49d3-f7e2-48f9-8d60-57815443bc95",
   "metadata": {},
   "outputs": [],
   "source": [
    "t_span = [0, 0.3]\n",
    "\n",
    "# (phi, theta, phi_dot, theta_dot)\n",
    "initial_conditions = [0.01,0.0,0.0,0]\n",
    "\n",
    "sol = solve_ivp(system_dynamics, t_span , initial_conditions,  dense_output=True, rtol=1e-6, atol=1e-6)\n",
    "\n",
    "# plotting\n",
    "t = np.linspace(t_span[0], t_span[1], 300)\n",
    "z = sol.sol(t)\n",
    "\n",
    "plt.figure(figsize=(12,8))\n",
    "plt.plot(t, z[0:2].T)\n",
    "plt.xlabel('t')\n",
    "plt.legend(['x', 'y'], shadow=True)\n",
    "plt.title('phi trajectory')\n",
    "\n",
    "# Function add a legend  \n",
    "plt.legend([\"phi\",\"theta\", \"phi_dot\", \"theta_dot\"])\n",
    "\n",
    "plt.show()"
   ]
  },
  {
   "cell_type": "code",
   "execution_count": null,
   "id": "447408b6-f5bc-43d7-8903-4b83700c8684",
   "metadata": {},
   "outputs": [],
   "source": []
  }
 ],
 "metadata": {
  "kernelspec": {
   "display_name": "Python 3 (ipykernel)",
   "language": "python",
   "name": "python3"
  },
  "language_info": {
   "codemirror_mode": {
    "name": "ipython",
    "version": 3
   },
   "file_extension": ".py",
   "mimetype": "text/x-python",
   "name": "python",
   "nbconvert_exporter": "python",
   "pygments_lexer": "ipython3",
   "version": "3.11.4"
  }
 },
 "nbformat": 4,
 "nbformat_minor": 5
}
