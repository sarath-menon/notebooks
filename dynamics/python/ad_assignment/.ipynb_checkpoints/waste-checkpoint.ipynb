{
 "cells": [
  {
   "cell_type": "code",
   "execution_count": 2,
   "id": "bb7aba43-a1ba-450f-9c49-a54f26939302",
   "metadata": {},
   "outputs": [],
   "source": [
    "import sympy as sp\n",
    "import numpy as np"
   ]
  },
  {
   "cell_type": "code",
   "execution_count": 3,
   "id": "9ed3c5f7-3084-42e9-9c11-e531840fd354",
   "metadata": {},
   "outputs": [],
   "source": [
    "\n",
    "x, y = sp.symbols('x y')"
   ]
  },
  {
   "cell_type": "code",
   "execution_count": 8,
   "id": "1b5b8b25-91d3-4030-9c87-12f27a0a455d",
   "metadata": {},
   "outputs": [
    {
     "data": {
      "text/latex": [
       "$\\displaystyle 2 x - y - 1 = 0$"
      ],
      "text/plain": [
       "Eq(2*x - y - 1, 0)"
      ]
     },
     "execution_count": 8,
     "metadata": {},
     "output_type": "execute_result"
    }
   ],
   "source": [
    "\n",
    "eq1 = sp.Eq(2*x - y - 1, 0)\n",
    "eq1"
   ]
  },
  {
   "cell_type": "code",
   "execution_count": 11,
   "id": "f80960ed-8da4-4078-aace-517699304a8e",
   "metadata": {},
   "outputs": [
    {
     "data": {
      "text/plain": [
       "[y/2 + 1/2]"
      ]
     },
     "execution_count": 11,
     "metadata": {},
     "output_type": "execute_result"
    }
   ],
   "source": [
    "sp.solve(eq1,x)"
   ]
  },
  {
   "cell_type": "code",
   "execution_count": 8,
   "id": "49d594ff-5ec6-4ccc-bddd-dcf569fc148b",
   "metadata": {},
   "outputs": [
    {
     "data": {
      "text/latex": [
       "$\\displaystyle 2 x - y - 1$"
      ],
      "text/plain": [
       "2*x - y - 1"
      ]
     },
     "execution_count": 8,
     "metadata": {},
     "output_type": "execute_result"
    }
   ],
   "source": [
    "expr = 2*x - y - 1\n",
    "expr"
   ]
  },
  {
   "cell_type": "code",
   "execution_count": 9,
   "id": "6b40d4df-9078-4fb4-9511-9411602b74e9",
   "metadata": {},
   "outputs": [
    {
     "data": {
      "text/latex": [
       "$\\displaystyle -1$"
      ],
      "text/plain": [
       "-1"
      ]
     },
     "execution_count": 9,
     "metadata": {},
     "output_type": "execute_result"
    }
   ],
   "source": [
    "expr.diff(y)"
   ]
  },
  {
   "cell_type": "code",
   "execution_count": null,
   "id": "b209ae02-94d9-471a-a2a0-345d13c979ff",
   "metadata": {},
   "outputs": [],
   "source": []
  }
 ],
 "metadata": {
  "kernelspec": {
   "display_name": "Python 3 (ipykernel)",
   "language": "python",
   "name": "python3"
  },
  "language_info": {
   "codemirror_mode": {
    "name": "ipython",
    "version": 3
   },
   "file_extension": ".py",
   "mimetype": "text/x-python",
   "name": "python",
   "nbconvert_exporter": "python",
   "pygments_lexer": "ipython3",
   "version": "3.11.4"
  }
 },
 "nbformat": 4,
 "nbformat_minor": 5
}
