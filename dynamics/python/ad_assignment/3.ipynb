{
 "cells": [
  {
   "cell_type": "code",
   "execution_count": 23,
   "id": "df34432f",
   "metadata": {},
   "outputs": [],
   "source": [
    "import sympy as sp\n",
    "from sympy.physics.mechanics import dynamicsymbols, init_vprinting\n",
    "# from sympy.abc import M, I\n",
    "import math\n",
    "\n",
    "from sympy import print_latex\n",
    "from IPython.display import display\n",
    "\n",
    "init_vprinting()"
   ]
  },
  {
   "cell_type": "markdown",
   "id": "5348ae24",
   "metadata": {},
   "source": [
    "## Rotation matrices"
   ]
  },
  {
   "cell_type": "code",
   "execution_count": 2,
   "id": "0052e17d",
   "metadata": {},
   "outputs": [],
   "source": [
    "M, m = sp.symbols('M m', real=True, positive=True)\n",
    "L = sp.symbols('L', real=True, positive=True)\n",
    "\n",
    "phi, theta =  dynamicsymbols('phi, theta')\n",
    "beta = sp.symbols('beta', real=True, positive=True)\n",
    "\n",
    "g = sp.Symbol('g', real=True)\n",
    "t = sp.Symbol('t')\n",
    "\n",
    "# Rotation matrices \n",
    "B_R_P = sp.rot_axis3(phi)\n",
    "A_R_B = sp.rot_axis1(beta)\n",
    "I_R_A = sp.rot_axis3(theta)"
   ]
  },
  {
   "cell_type": "markdown",
   "id": "4c80cc5d",
   "metadata": {},
   "source": [
    "## Angular velocities"
   ]
  },
  {
   "cell_type": "markdown",
   "id": "5ee9e036",
   "metadata": {},
   "source": [
    "### Plate"
   ]
  },
  {
   "cell_type": "code",
   "execution_count": 3,
   "id": "9750e7ec",
   "metadata": {},
   "outputs": [
    {
     "data": {
      "text/latex": [
       "$\\displaystyle \\left[\\begin{matrix}0\\\\\\cos{\\left(\\beta \\right)} \\dot{\\phi}\\\\\\sin{\\left(\\beta \\right)} \\dot{\\phi} + \\dot{\\theta}\\end{matrix}\\right]$"
      ],
      "text/plain": [
       "⎡     0      ⎤\n",
       "⎢            ⎥\n",
       "⎢  cos(β)⋅φ̇  ⎥\n",
       "⎢            ⎥\n",
       "⎣sin(β)⋅φ̇ + θ̇⎦"
      ]
     },
     "execution_count": 3,
     "metadata": {},
     "output_type": "execute_result"
    }
   ],
   "source": [
    "B_omega  = sp.Matrix([[0],[0],[phi.diff(t)]])\n",
    "A_omega  = sp.Matrix([[0],[0],[theta.diff(t)]])\n",
    "\n",
    "A_omega_plate = A_omega + sp.rot_axis1(sp.pi/2 - beta)  * B_omega\n",
    "A_omega_plate"
   ]
  },
  {
   "cell_type": "markdown",
   "id": "7209faf4",
   "metadata": {},
   "source": [
    "### Rods"
   ]
  },
  {
   "cell_type": "code",
   "execution_count": 4,
   "id": "dbacabe7",
   "metadata": {},
   "outputs": [],
   "source": [
    "A_omega_rod1 = sp.Matrix([[0],[0],[theta.diff(t)]])\n",
    "\n",
    "Bdash_omega_rod2  = sp.Matrix([[0],[0],[phi.diff(t)]])\n",
    "A_omega_rod2 = A_omega_rod1 + sp.rot_axis1(sp.pi/2 - beta)  * Bdash_omega_rod2"
   ]
  },
  {
   "cell_type": "markdown",
   "id": "0d13c301",
   "metadata": {},
   "source": [
    "## Linear Velocities"
   ]
  },
  {
   "cell_type": "markdown",
   "id": "3c0aa6c8",
   "metadata": {},
   "source": [
    "### Plate"
   ]
  },
  {
   "cell_type": "code",
   "execution_count": 5,
   "id": "ea626c61",
   "metadata": {},
   "outputs": [
    {
     "data": {
      "text/latex": [
       "$\\displaystyle \\left[\\begin{matrix}- \\frac{L \\left(\\sin{\\left(\\beta \\right)} \\cos{\\left(\\phi \\right)} \\dot{\\theta} + \\cos{\\left(\\beta \\right)} \\dot{\\theta} + \\cos{\\left(\\phi \\right)} \\dot{\\phi} + 2 \\dot{\\theta}\\right)}{2}\\\\\\frac{L \\left(\\sin{\\left(\\beta \\right)} \\dot{\\phi} + \\dot{\\theta}\\right) \\sin{\\left(\\phi \\right)}}{2}\\\\- \\frac{L \\sin{\\left(\\phi \\right)} \\cos{\\left(\\beta \\right)} \\dot{\\phi}}{2}\\end{matrix}\\right]$"
      ],
      "text/plain": [
       "⎡-L⋅(sin(β)⋅cos(φ)⋅θ̇ + cos(β)⋅θ̇ + cos(φ)⋅φ̇ + 2⋅θ̇) ⎤\n",
       "⎢─────────────────────────────────────────────────⎥\n",
       "⎢                        2                        ⎥\n",
       "⎢                                                 ⎥\n",
       "⎢             L⋅(sin(β)⋅φ̇ + θ̇)⋅sin(φ)             ⎥\n",
       "⎢             ───────────────────────             ⎥\n",
       "⎢                        2                        ⎥\n",
       "⎢                                                 ⎥\n",
       "⎢               -L⋅sin(φ)⋅cos(β)⋅φ̇                ⎥\n",
       "⎢               ───────────────────               ⎥\n",
       "⎣                        2                        ⎦"
      ]
     },
     "execution_count": 5,
     "metadata": {},
     "output_type": "execute_result"
    }
   ],
   "source": [
    "A_v_oodash = sp.Matrix([[-L*theta.diff(t)],[0],[0]])\n",
    "B_r_podash = sp.rot_axis1(-(sp.pi/2-beta)).T *  sp.rot_axis3(-phi).T * sp.Matrix([[0],[L/2],[L/2]])\n",
    "\n",
    "# # for verification \n",
    "# B_r_podash.subs({beta:sp.pi/2, phi:sp.pi/2})\n",
    "\n",
    "A_v_po =  A_v_oodash  + A_omega_plate.cross(B_r_podash)\n",
    "A_v_po.applyfunc(sp.simplify)"
   ]
  },
  {
   "cell_type": "code",
   "execution_count": 6,
   "id": "820cd6a1",
   "metadata": {},
   "outputs": [
    {
     "data": {
      "text/latex": [
       "$\\displaystyle \\left[\\begin{matrix}- \\frac{L \\left(\\cos{\\left(\\phi \\right)} \\dot{\\phi} + 3 \\dot{\\theta}\\right)}{2}\\\\\\frac{L \\sin{\\left(\\phi \\right)} \\dot{\\theta}}{2}\\\\- \\frac{L \\sin{\\left(\\phi \\right)} \\dot{\\phi}}{2}\\end{matrix}\\right]$"
      ],
      "text/plain": [
       "⎡-L⋅(cos(φ)⋅φ̇ + 3⋅θ̇) ⎤\n",
       "⎢────────────────────⎥\n",
       "⎢         2          ⎥\n",
       "⎢                    ⎥\n",
       "⎢     L⋅sin(φ)⋅θ̇     ⎥\n",
       "⎢     ──────────     ⎥\n",
       "⎢         2          ⎥\n",
       "⎢                    ⎥\n",
       "⎢    -L⋅sin(φ)⋅φ̇     ⎥\n",
       "⎢    ────────────    ⎥\n",
       "⎣         2          ⎦"
      ]
     },
     "execution_count": 6,
     "metadata": {},
     "output_type": "execute_result"
    }
   ],
   "source": [
    "# Sanity checks\n",
    "\n",
    "# check whether x and z velocoty components due to phi rotation form circular path  and omega rotation is added\n",
    "A_v_po.subs({beta:0}).applyfunc(sp.simplify)"
   ]
  },
  {
   "cell_type": "markdown",
   "id": "958b96d4",
   "metadata": {},
   "source": [
    "### Rods"
   ]
  },
  {
   "cell_type": "code",
   "execution_count": 7,
   "id": "33b2a2b8",
   "metadata": {},
   "outputs": [],
   "source": [
    "A_v_rod1 =  sp.Matrix([[-L*theta.diff(t)/2],[0],[0]])\n",
    "A_v_rod2 = sp.Matrix([[-theta.diff(t) * (L + (L/2* sp.cos(beta))) ],[0],[0]])"
   ]
  },
  {
   "cell_type": "markdown",
   "id": "a89aea77",
   "metadata": {},
   "source": [
    "# Lagrangian"
   ]
  },
  {
   "cell_type": "code",
   "execution_count": 8,
   "id": "46a6accb",
   "metadata": {},
   "outputs": [],
   "source": [
    "def norm_sqrd(v):\n",
    "    return sp.simplify(sp.Pow(v[0],2) + sp.Pow(v[1],2) + sp.Pow(v[2],2))\n",
    "\n",
    "def elementwise_sqrd(v):\n",
    "    return sp.Matrix([[sp.Pow(v[0],2)],[sp.Pow(v[1],2)],[sp.Pow(v[2],2)]]) "
   ]
  },
  {
   "cell_type": "markdown",
   "id": "3006b1e0",
   "metadata": {},
   "source": [
    "## Kinetic energy"
   ]
  },
  {
   "cell_type": "markdown",
   "id": "cece37fd",
   "metadata": {},
   "source": [
    "### Kinetic energy of plate"
   ]
  },
  {
   "cell_type": "code",
   "execution_count": 9,
   "id": "d908623c",
   "metadata": {},
   "outputs": [],
   "source": [
    "I_xx = (1/6) * M * sp.Pow(L,2)\n",
    "I_yy = I_zz  = (1/12) * M * sp.Pow(L,2)\n",
    "I_plate = sp.diag(I_xx, I_yy, I_zz)\n",
    "\n",
    "T_linear_plate = 0.5 * M *  norm_sqrd(A_v_po)\n",
    "T_angular_plate= 0.5 * sum(I_plate * elementwise_sqrd(A_omega_plate))\n",
    "\n",
    "T_plate = T_linear_plate + T_angular_plate"
   ]
  },
  {
   "cell_type": "markdown",
   "id": "a933dd17",
   "metadata": {},
   "source": [
    "### Kinetic energy of rods"
   ]
  },
  {
   "cell_type": "code",
   "execution_count": 10,
   "id": "17906e35",
   "metadata": {},
   "outputs": [],
   "source": [
    "I_xx = 0\n",
    "I_yy = I_zz  = (1/12) * m * sp.Pow(L,2)\n",
    "I_rod = sp.diag(I_xx, I_yy, I_zz)\n",
    "\n",
    "T_linear_rod1 = 0.5 * m *  norm_sqrd(A_v_rod1)\n",
    "T_linear_rod2 = 0.5 * m *  norm_sqrd(A_v_rod2)\n",
    "\n",
    "T_angular_rod1 = 0.5 * sum(I_rod * elementwise_sqrd(A_omega_rod1))\n",
    "T_angular_rod2 = 0.5 * sum(I_rod * elementwise_sqrd(A_omega_rod2))\n",
    "\n",
    "T_rod1 = T_linear_rod1 + T_angular_rod1\n",
    "T_rod2 = T_linear_rod2 + T_angular_rod2"
   ]
  },
  {
   "cell_type": "markdown",
   "id": "659432d8",
   "metadata": {},
   "source": [
    "### Total kinetic energy"
   ]
  },
  {
   "cell_type": "code",
   "execution_count": 11,
   "id": "98969822",
   "metadata": {},
   "outputs": [
    {
     "data": {
      "image/png": "[encoded data removed]",
      "text/latex": [
       "$\\displaystyle 0.0416666666666667 L^{2} M \\left(\\sin{\\left(\\beta \\right)} \\dot{\\phi} + \\dot{\\theta}\\right)^{2} + 0.125 L^{2} M \\left(\\left(\\sin{\\left(\\beta \\right)} \\dot{\\phi} + \\dot{\\theta}\\right)^{2} \\sin^{2}{\\left(\\phi \\right)} + \\left(\\sin{\\left(\\beta \\right)} \\cos{\\left(\\phi \\right)} \\dot{\\theta} + \\cos{\\left(\\beta \\right)} \\dot{\\theta} + \\cos{\\left(\\phi \\right)} \\dot{\\phi} + 2 \\dot{\\theta}\\right)^{2} + \\sin^{2}{\\left(\\phi \\right)} \\cos^{2}{\\left(\\beta \\right)} \\dot{\\phi}^{2}\\right) + 0.0416666666666667 L^{2} M \\cos^{2}{\\left(\\beta \\right)} \\dot{\\phi}^{2} + 0.0416666666666667 L^{2} m \\left(\\sin{\\left(\\beta \\right)} \\dot{\\phi} + \\dot{\\theta}\\right)^{2} + 0.125 L^{2} m \\left(\\cos{\\left(\\beta \\right)} + 2\\right)^{2} \\dot{\\theta}^{2} + 0.0416666666666667 L^{2} m \\cos^{2}{\\left(\\beta \\right)} \\dot{\\phi}^{2} + 0.166666666666667 L^{2} m \\dot{\\theta}^{2}$"
      ],
      "text/plain": [
       "                    2                 2          2   ⎛              2    2    \n",
       "0.0416666666666667⋅L ⋅M⋅(sin(β)⋅φ̇ + θ̇)  + 0.125⋅L ⋅M⋅⎝(sin(β)⋅φ̇ + θ̇) ⋅sin \n",
       "\n",
       "                                               2      2       2     2⎞        \n",
       "(φ) + (sin(β)⋅cos(φ)⋅θ̇ + cos(β)⋅θ̇ + cos(φ)⋅φ̇ + 2⋅θ̇)  + sin (φ)⋅cos (β)⋅φ̇ \n",
       "\n",
       "               2      2     2                       2                 2       \n",
       "⎠ + 0.0416666666666667⋅L ⋅M⋅cos (β)⋅φ̇  + 0.0416666666666667⋅L ⋅m⋅(sin(β)⋅φ̇ +\n",
       "\n",
       "   2               2  2                       2      2     2                  \n",
       " θ̇)  + 0.125⋅L ⋅m⋅(cos(β) + 2) ⋅θ̇  + 0.0416666666666667⋅L ⋅m⋅cos (β)⋅φ̇  + 0\n",
       "\n",
       "    2    2\n",
       ".166666666666667⋅L ⋅m⋅θ̇ "
      ]
     },
     "execution_count": 11,
     "metadata": {},
     "output_type": "execute_result"
    }
   ],
   "source": [
    "T = T_plate + T_rod1 + T_rod2\n",
    "T"
   ]
  },
  {
   "cell_type": "markdown",
   "id": "a7ea9215",
   "metadata": {},
   "source": [
    "## Potential energy"
   ]
  },
  {
   "cell_type": "code",
   "execution_count": 12,
   "id": "7c0e05b6",
   "metadata": {},
   "outputs": [
    {
     "data": {
      "image/png": "[encoded data removed]",
      "text/latex": [
       "$\\displaystyle L M g \\sin{\\left(\\beta \\right)}$"
      ],
      "text/plain": [
       "L⋅M⋅g⋅sin(β)"
      ]
     },
     "execution_count": 12,
     "metadata": {},
     "output_type": "execute_result"
    }
   ],
   "source": [
    "V_plate = M*g*L*sp.sin(beta)\n",
    "V = V_plate\n",
    "V"
   ]
  },
  {
   "cell_type": "markdown",
   "id": "7acc0d4d",
   "metadata": {},
   "source": [
    "## Compute equation of motion"
   ]
  },
  {
   "cell_type": "code",
   "execution_count": 13,
   "id": "4f4fda63",
   "metadata": {},
   "outputs": [
    {
     "data": {
      "image/png": "[encoded data removed]",
      "text/latex": [
       "$\\displaystyle L^{2} \\cdot \\left(0.333333333333333 M \\sin{\\left(\\beta \\right)} \\ddot{\\theta} + 0.03125 M \\sin{\\left(2 \\beta - 2 \\phi \\right)} \\dot{\\theta}^{2} - 0.03125 M \\sin{\\left(2 \\beta + 2 \\phi \\right)} \\dot{\\theta}^{2} - 0.0625 M \\sin{\\left(2 \\phi \\right)} \\dot{\\theta}^{2} + 0.25 M \\cos{\\left(\\beta - \\phi \\right)} \\dot{\\theta}^{2} + 0.125 M \\cos{\\left(\\beta - \\phi \\right)} \\ddot{\\theta} - 0.25 M \\cos{\\left(\\beta + \\phi \\right)} \\dot{\\theta}^{2} + 0.125 M \\cos{\\left(\\beta + \\phi \\right)} \\ddot{\\theta} + 0.0625 M \\cos{\\left(2 \\beta - \\phi \\right)} \\dot{\\theta}^{2} - 0.0625 M \\cos{\\left(2 \\beta + \\phi \\right)} \\dot{\\theta}^{2} + 0.5 M \\cos{\\left(\\phi \\right)} \\ddot{\\theta} + 0.333333333333333 M \\ddot{\\phi} + 0.0833333333333333 m \\sin{\\left(\\beta \\right)} \\ddot{\\theta} + 0.0833333333333333 m \\ddot{\\phi}\\right)$"
      ],
      "text/plain": [
       " 2 ⎛                                                         2                \n",
       "L ⋅⎝0.333333333333333⋅M⋅sin(β)⋅θ̈ + 0.03125⋅M⋅sin(2⋅β - 2⋅φ)⋅θ̇  - 0.03125⋅M⋅s\n",
       "\n",
       "             2                      2                      2                  \n",
       "in(2⋅β + 2⋅φ)⋅θ̇  - 0.0625⋅M⋅sin(2⋅φ)⋅θ̇  + 0.25⋅M⋅cos(β - φ)⋅θ̇  + 0.125⋅M⋅co\n",
       "\n",
       "                           2                                                 2\n",
       "s(β - φ)⋅θ̈ - 0.25⋅M⋅cos(β + φ)⋅θ̇  + 0.125⋅M⋅cos(β + φ)⋅θ̈ + 0.0625⋅M⋅cos(2⋅β\n",
       "\n",
       "                          2                                                   \n",
       " - φ)⋅θ̇  - 0.0625⋅M⋅cos(2⋅β + φ)⋅θ̇  + 0.5⋅M⋅cos(φ)⋅θ̈ + 0.333333333333333⋅M⋅\n",
       "\n",
       "                                               ⎞\n",
       "φ̈ + 0.0833333333333333⋅m⋅sin(β)⋅θ̈ + 0.0833333333333333⋅m⋅φ̈⎠"
      ]
     },
     "execution_count": 13,
     "metadata": {},
     "output_type": "execute_result"
    }
   ],
   "source": [
    "L = T - V\n",
    "\n",
    "x = phi\n",
    "xd = phi.diff(t)\n",
    "\n",
    "\n",
    "EOM = sp.diff(sp.diff(L,xd), t) - sp.diff(L, x)\n",
    "\n",
    "phi_eom = sp.simplify(EOM)\n",
    "phi_eom"
   ]
  },
  {
   "cell_type": "code",
   "execution_count": 14,
   "id": "f3395f9b",
   "metadata": {},
   "outputs": [
    {
     "data": {
      "image/png": "[encoded data removed]",
      "text/latex": [
       "$\\displaystyle L^{2} \\cdot \\left(0.0833333333333333 M \\left(\\sin{\\left(\\beta \\right)} \\ddot{\\phi} + \\ddot{\\theta}\\right) + 0.25 M \\left(2 \\left(\\sin{\\left(\\beta \\right)} \\dot{\\phi} + \\dot{\\theta}\\right) \\sin{\\left(\\phi \\right)} \\cos{\\left(\\phi \\right)} \\dot{\\phi} + \\left(\\sin{\\left(\\beta \\right)} \\ddot{\\phi} + \\ddot{\\theta}\\right) \\sin^{2}{\\left(\\phi \\right)} + \\left(\\sin{\\left(\\beta \\right)} \\cos{\\left(\\phi \\right)} + \\cos{\\left(\\beta \\right)} + 2\\right) \\left(- \\sin{\\left(\\beta \\right)} \\sin{\\left(\\phi \\right)} \\dot{\\phi} \\dot{\\theta} + \\sin{\\left(\\beta \\right)} \\cos{\\left(\\phi \\right)} \\ddot{\\theta} - \\sin{\\left(\\phi \\right)} \\dot{\\phi}^{2} + \\cos{\\left(\\beta \\right)} \\ddot{\\theta} + \\cos{\\left(\\phi \\right)} \\ddot{\\phi} + 2 \\ddot{\\theta}\\right) - \\left(\\sin{\\left(\\beta \\right)} \\cos{\\left(\\phi \\right)} \\dot{\\theta} + \\cos{\\left(\\beta \\right)} \\dot{\\theta} + \\cos{\\left(\\phi \\right)} \\dot{\\phi} + 2 \\dot{\\theta}\\right) \\sin{\\left(\\beta \\right)} \\sin{\\left(\\phi \\right)} \\dot{\\phi}\\right) + 0.0833333333333333 m \\left(\\sin{\\left(\\beta \\right)} \\ddot{\\phi} + \\ddot{\\theta}\\right) + 0.25 m \\left(\\cos{\\left(\\beta \\right)} + 2\\right)^{2} \\ddot{\\theta} + 0.333333333333333 m \\ddot{\\theta}\\right)$"
      ],
      "text/plain": [
       " 2 ⎛                                             ⎛                            \n",
       "L ⋅⎝0.0833333333333333⋅M⋅(sin(β)⋅φ̈ + θ̈) + 0.25⋅M⋅⎝2⋅(sin(β)⋅φ̇ + θ̇)⋅sin(φ)⋅\n",
       "\n",
       "                         2                                   ⎛                \n",
       "cos(φ)⋅φ̇ + (sin(β)⋅φ̈ + θ̈)⋅sin (φ) + (sin(β)⋅cos(φ) + cos(β) + 2)⋅⎝-sin(β)⋅s\n",
       "\n",
       "                               2                            ⎞                 \n",
       "in(φ)⋅φ̇⋅θ̇ + sin(β)⋅cos(φ)⋅θ̈ - sin(φ)⋅φ̇  + cos(β)⋅θ̈ + cos(φ)⋅φ̈ + 2⋅θ̈⎠ - \n",
       "\n",
       "                                               ⎞                              \n",
       "(sin(β)⋅cos(φ)⋅θ̇ + cos(β)⋅θ̇ + cos(φ)⋅φ̇ + 2⋅θ̇)⋅sin(β)⋅sin(φ)⋅φ̇⎠ + 0.083333\n",
       "\n",
       "                              2                          ⎞\n",
       "3333333333⋅m⋅(sin(β)⋅φ̈ + θ̈) + 0.25⋅m⋅(cos(β) + 2) ⋅θ̈ + 0.333333333333333⋅m⋅"
      ]
     },
     "execution_count": 14,
     "metadata": {},
     "output_type": "execute_result"
    }
   ],
   "source": [
    "L = T - V\n",
    "\n",
    "x =  theta\n",
    "xd = theta.diff(t)\n",
    "\n",
    "\n",
    "EOM = sp.diff(sp.diff(L,xd), t) - sp.diff(L, x)\n",
    "\n",
    "phi_eom = sp.simplify(EOM)\n",
    "phi_eom"
   ]
  },
  {
   "cell_type": "code",
   "execution_count": 15,
   "id": "d54085d4-30df-4e63-979e-b8fe3d1e9469",
   "metadata": {},
   "outputs": [
    {
     "data": {
      "text/plain": [
       "'Equation of motion for phi(t)is: '"
      ]
     },
     "metadata": {},
     "output_type": "display_data"
    },
    {
     "data": {
      "image/png": "[encoded data removed]",
      "text/latex": [
       "$\\displaystyle L^{2} \\cdot \\left(0.333333333333333 M \\sin{\\left(\\beta \\right)} \\ddot{\\theta} + 0.03125 M \\sin{\\left(2 \\beta - 2 \\phi \\right)} \\dot{\\theta}^{2} - 0.03125 M \\sin{\\left(2 \\beta + 2 \\phi \\right)} \\dot{\\theta}^{2} - 0.0625 M \\sin{\\left(2 \\phi \\right)} \\dot{\\theta}^{2} + 0.25 M \\cos{\\left(\\beta - \\phi \\right)} \\dot{\\theta}^{2} + 0.125 M \\cos{\\left(\\beta - \\phi \\right)} \\ddot{\\theta} - 0.25 M \\cos{\\left(\\beta + \\phi \\right)} \\dot{\\theta}^{2} + 0.125 M \\cos{\\left(\\beta + \\phi \\right)} \\ddot{\\theta} + 0.0625 M \\cos{\\left(2 \\beta - \\phi \\right)} \\dot{\\theta}^{2} - 0.0625 M \\cos{\\left(2 \\beta + \\phi \\right)} \\dot{\\theta}^{2} + 0.5 M \\cos{\\left(\\phi \\right)} \\ddot{\\theta} + 0.333333333333333 M \\ddot{\\phi} + 0.0833333333333333 m \\sin{\\left(\\beta \\right)} \\ddot{\\theta} + 0.0833333333333333 m \\ddot{\\phi}\\right)$"
      ],
      "text/plain": [
       " 2 ⎛                                                         2                \n",
       "L ⋅⎝0.333333333333333⋅M⋅sin(β)⋅θ̈ + 0.03125⋅M⋅sin(2⋅β - 2⋅φ)⋅θ̇  - 0.03125⋅M⋅s\n",
       "\n",
       "             2                      2                      2                  \n",
       "in(2⋅β + 2⋅φ)⋅θ̇  - 0.0625⋅M⋅sin(2⋅φ)⋅θ̇  + 0.25⋅M⋅cos(β - φ)⋅θ̇  + 0.125⋅M⋅co\n",
       "\n",
       "                           2                                                 2\n",
       "s(β - φ)⋅θ̈ - 0.25⋅M⋅cos(β + φ)⋅θ̇  + 0.125⋅M⋅cos(β + φ)⋅θ̈ + 0.0625⋅M⋅cos(2⋅β\n",
       "\n",
       "                          2                                                   \n",
       " - φ)⋅θ̇  - 0.0625⋅M⋅cos(2⋅β + φ)⋅θ̇  + 0.5⋅M⋅cos(φ)⋅θ̈ + 0.333333333333333⋅M⋅\n",
       "\n",
       "                                               ⎞\n",
       "φ̈ + 0.0833333333333333⋅m⋅sin(β)⋅θ̈ + 0.0833333333333333⋅m⋅φ̈⎠"
      ]
     },
     "metadata": {},
     "output_type": "display_data"
    },
    {
     "data": {
      "text/plain": [
       "'Equation of motion for theta(t)is: '"
      ]
     },
     "metadata": {},
     "output_type": "display_data"
    },
    {
     "data": {
      "image/png": "[encoded data removed]",
      "text/latex": [
       "$\\displaystyle L^{2} \\cdot \\left(0.0833333333333333 M \\left(\\sin{\\left(\\beta \\right)} \\ddot{\\phi} + \\ddot{\\theta}\\right) + 0.25 M \\left(2 \\left(\\sin{\\left(\\beta \\right)} \\dot{\\phi} + \\dot{\\theta}\\right) \\sin{\\left(\\phi \\right)} \\cos{\\left(\\phi \\right)} \\dot{\\phi} + \\left(\\sin{\\left(\\beta \\right)} \\ddot{\\phi} + \\ddot{\\theta}\\right) \\sin^{2}{\\left(\\phi \\right)} + \\left(\\sin{\\left(\\beta \\right)} \\cos{\\left(\\phi \\right)} + \\cos{\\left(\\beta \\right)} + 2\\right) \\left(- \\sin{\\left(\\beta \\right)} \\sin{\\left(\\phi \\right)} \\dot{\\phi} \\dot{\\theta} + \\sin{\\left(\\beta \\right)} \\cos{\\left(\\phi \\right)} \\ddot{\\theta} - \\sin{\\left(\\phi \\right)} \\dot{\\phi}^{2} + \\cos{\\left(\\beta \\right)} \\ddot{\\theta} + \\cos{\\left(\\phi \\right)} \\ddot{\\phi} + 2 \\ddot{\\theta}\\right) - \\left(\\sin{\\left(\\beta \\right)} \\cos{\\left(\\phi \\right)} \\dot{\\theta} + \\cos{\\left(\\beta \\right)} \\dot{\\theta} + \\cos{\\left(\\phi \\right)} \\dot{\\phi} + 2 \\dot{\\theta}\\right) \\sin{\\left(\\beta \\right)} \\sin{\\left(\\phi \\right)} \\dot{\\phi}\\right) + 0.0833333333333333 m \\left(\\sin{\\left(\\beta \\right)} \\ddot{\\phi} + \\ddot{\\theta}\\right) + 0.25 m \\left(\\cos{\\left(\\beta \\right)} + 2\\right)^{2} \\ddot{\\theta} + 0.333333333333333 m \\ddot{\\theta}\\right)$"
      ],
      "text/plain": [
       " 2 ⎛                                             ⎛                            \n",
       "L ⋅⎝0.0833333333333333⋅M⋅(sin(β)⋅φ̈ + θ̈) + 0.25⋅M⋅⎝2⋅(sin(β)⋅φ̇ + θ̇)⋅sin(φ)⋅\n",
       "\n",
       "                         2                                   ⎛                \n",
       "cos(φ)⋅φ̇ + (sin(β)⋅φ̈ + θ̈)⋅sin (φ) + (sin(β)⋅cos(φ) + cos(β) + 2)⋅⎝-sin(β)⋅s\n",
       "\n",
       "                               2                            ⎞                 \n",
       "in(φ)⋅φ̇⋅θ̇ + sin(β)⋅cos(φ)⋅θ̈ - sin(φ)⋅φ̇  + cos(β)⋅θ̈ + cos(φ)⋅φ̈ + 2⋅θ̈⎠ - \n",
       "\n",
       "                                               ⎞                              \n",
       "(sin(β)⋅cos(φ)⋅θ̇ + cos(β)⋅θ̇ + cos(φ)⋅φ̇ + 2⋅θ̇)⋅sin(β)⋅sin(φ)⋅φ̇⎠ + 0.083333\n",
       "\n",
       "                              2                          ⎞\n",
       "3333333333⋅m⋅(sin(β)⋅φ̈ + θ̈) + 0.25⋅m⋅(cos(β) + 2) ⋅θ̈ + 0.333333333333333⋅m⋅"
      ]
     },
     "metadata": {},
     "output_type": "display_data"
    }
   ],
   "source": [
    "x = (phi, theta)\n",
    "xd = (phi.diff(t), theta.diff(t))\n",
    "var = zip(x, xd)\n",
    "eom_vec = []\n",
    "\n",
    "for x,xd in var:\n",
    "    eom = sp.diff(sp.diff(L,xd), t) - sp.diff(L, x)\n",
    "    eom = sp.simplify(eom)\n",
    "    \n",
    "    display(\"Equation of motion for \" + str(x) + \"is: \")\n",
    "    display(eom)\n",
    "\n",
    "    eom_vec.append(eom)\n",
    "    "
   ]
  },
  {
   "cell_type": "code",
   "execution_count": null,
   "id": "767522c4-c7ea-4208-94db-d547f45234ce",
   "metadata": {},
   "outputs": [],
   "source": []
  }
 ],
 "metadata": {
  "kernelspec": {
   "display_name": "Python 3 (ipykernel)",
   "language": "python",
   "name": "python3"
  },
  "language_info": {
   "codemirror_mode": {
    "name": "ipython",
    "version": 3
   },
   "file_extension": ".py",
   "mimetype": "text/x-python",
   "name": "python",
   "nbconvert_exporter": "python",
   "pygments_lexer": "ipython3",
   "version": "3.11.4"
  }
 },
 "nbformat": 4,
 "nbformat_minor": 5
}
