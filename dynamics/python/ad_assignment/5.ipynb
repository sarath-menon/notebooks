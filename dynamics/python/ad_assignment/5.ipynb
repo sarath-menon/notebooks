{
 "cells": [
  {
   "cell_type": "code",
   "execution_count": 1,
   "id": "df34432f",
   "metadata": {},
   "outputs": [],
   "source": [
    "import sympy as sp\n",
    "from sympy.physics.mechanics import dynamicsymbols, init_vprinting\n",
    "# from sympy.abc import M, I\n",
    "import math\n",
    "import numpy as np\n",
    "from scipy.integrate import solve_ivp\n",
    "import matplotlib.pyplot as plt\n",
    "\n",
    "init_vprinting()"
   ]
  },
  {
   "cell_type": "markdown",
   "id": "5348ae24",
   "metadata": {},
   "source": [
    "## Rotation matrices"
   ]
  },
  {
   "cell_type": "code",
   "execution_count": 20,
   "id": "0052e17d",
   "metadata": {},
   "outputs": [],
   "source": [
    "M, m = sp.symbols('M m', real=True, positive=True)\n",
    "L = sp.symbols('L', real=True, positive=True)\n",
    "\n",
    "phi =  dynamicsymbols('phi')\n",
    "omega, beta = sp.symbols('Omega beta', real=True, positive=True)\n",
    "\n",
    "g = sp.Symbol('g', real=True)\n",
    "t = sp.Symbol('t')\n",
    "\n",
    "# Rotation matrices \n",
    "B_R_P = sp.rot_axis3(phi)\n",
    "A_R_B = sp.rot_axis1(sp.pi/2 - beta) "
   ]
  },
  {
   "cell_type": "markdown",
   "id": "4c80cc5d",
   "metadata": {},
   "source": [
    "## Angular velocities"
   ]
  },
  {
   "cell_type": "markdown",
   "id": "5ee9e036",
   "metadata": {},
   "source": [
    "### Plate"
   ]
  },
  {
   "cell_type": "code",
   "execution_count": 3,
   "id": "9750e7ec",
   "metadata": {},
   "outputs": [
    {
     "data": {
      "text/latex": [
       "$\\displaystyle \\left[\\begin{matrix}0\\\\\\cos{\\left(\\beta \\right)} \\dot{\\phi}\\\\\\Omega + \\sin{\\left(\\beta \\right)} \\dot{\\phi}\\end{matrix}\\right]$"
      ],
      "text/plain": [
       "⎡     0      ⎤\n",
       "⎢            ⎥\n",
       "⎢  cos(β)⋅φ̇  ⎥\n",
       "⎢            ⎥\n",
       "⎣Ω + sin(β)⋅φ̇⎦"
      ]
     },
     "execution_count": 3,
     "metadata": {},
     "output_type": "execute_result"
    }
   ],
   "source": [
    "B_omega  = sp.Matrix([[0],[0],[phi.diff(t)]])\n",
    "A_omega  = sp.Matrix([[0],[0],[omega]])\n",
    "\n",
    "I_omega_p = A_omega + A_R_B  * B_omega\n",
    "I_omega_p"
   ]
  },
  {
   "cell_type": "markdown",
   "id": "7209faf4",
   "metadata": {},
   "source": [
    "### Rods"
   ]
  },
  {
   "cell_type": "code",
   "execution_count": 4,
   "id": "dbacabe7",
   "metadata": {},
   "outputs": [],
   "source": [
    "I_omega_rod1 = sp.Matrix([[0],[0],[omega]])\n",
    "\n",
    "B_omega_rod2  = sp.Matrix([[0],[0],[phi.diff(t)]])\n",
    "I_omega_rod2 = I_omega_rod1 + A_R_B  * B_omega_rod2"
   ]
  },
  {
   "cell_type": "markdown",
   "id": "0d13c301",
   "metadata": {},
   "source": [
    "## Linear Velocities"
   ]
  },
  {
   "cell_type": "markdown",
   "id": "3c0aa6c8",
   "metadata": {},
   "source": [
    "### Plate"
   ]
  },
  {
   "cell_type": "code",
   "execution_count": 5,
   "id": "ea626c61",
   "metadata": {},
   "outputs": [
    {
     "data": {
      "text/latex": [
       "$\\displaystyle \\left[\\begin{matrix}\\frac{L \\left(- \\Omega \\sin{\\left(\\beta \\right)} \\cos{\\left(\\phi \\right)} - \\Omega \\cos{\\left(\\beta \\right)} + 2 \\Omega - \\cos{\\left(\\phi \\right)} \\dot{\\phi}\\right)}{2}\\\\\\frac{L \\left(\\Omega + \\sin{\\left(\\beta \\right)} \\dot{\\phi}\\right) \\sin{\\left(\\phi \\right)}}{2}\\\\- \\frac{L \\sin{\\left(\\phi \\right)} \\cos{\\left(\\beta \\right)} \\dot{\\phi}}{2}\\end{matrix}\\right]$"
      ],
      "text/plain": [
       "⎡L⋅(-Ω⋅sin(β)⋅cos(φ) - Ω⋅cos(β) + 2⋅Ω - cos(φ)⋅φ̇)⎤\n",
       "⎢────────────────────────────────────────────────⎥\n",
       "⎢                       2                        ⎥\n",
       "⎢                                                ⎥\n",
       "⎢            L⋅(Ω + sin(β)⋅φ̇)⋅sin(φ)             ⎥\n",
       "⎢            ───────────────────────             ⎥\n",
       "⎢                       2                        ⎥\n",
       "⎢                                                ⎥\n",
       "⎢              -L⋅sin(φ)⋅cos(β)⋅φ̇                ⎥\n",
       "⎢              ───────────────────               ⎥\n",
       "⎣                       2                        ⎦"
      ]
     },
     "execution_count": 5,
     "metadata": {},
     "output_type": "execute_result"
    }
   ],
   "source": [
    "I_v_ba = sp.Matrix([[L*omega],[0],[0]])\n",
    "I_r_pb = A_R_B *  B_R_P * sp.Matrix([[0],[L/2],[L/2]])\n",
    "\n",
    "# # for verification \n",
    "# I_r_pb.subs({beta:sp.pi/2, phi:sp.pi/2})\n",
    "\n",
    "I_v_po =  I_v_ba  + I_omega_p.cross(I_r_pb)\n",
    "I_v_po.applyfunc(sp.simplify)"
   ]
  },
  {
   "cell_type": "code",
   "execution_count": 6,
   "id": "820cd6a1",
   "metadata": {},
   "outputs": [
    {
     "data": {
      "text/latex": [
       "$\\displaystyle \\left[\\begin{matrix}\\frac{L \\left(\\Omega - \\cos{\\left(\\phi \\right)} \\dot{\\phi}\\right)}{2}\\\\\\frac{L \\Omega \\sin{\\left(\\phi \\right)}}{2}\\\\- \\frac{L \\sin{\\left(\\phi \\right)} \\dot{\\phi}}{2}\\end{matrix}\\right]$"
      ],
      "text/plain": [
       "⎡L⋅(Ω - cos(φ)⋅φ̇)⎤\n",
       "⎢────────────────⎥\n",
       "⎢       2        ⎥\n",
       "⎢                ⎥\n",
       "⎢   L⋅Ω⋅sin(φ)   ⎥\n",
       "⎢   ──────────   ⎥\n",
       "⎢       2        ⎥\n",
       "⎢                ⎥\n",
       "⎢  -L⋅sin(φ)⋅φ̇   ⎥\n",
       "⎢  ────────────  ⎥\n",
       "⎣       2        ⎦"
      ]
     },
     "execution_count": 6,
     "metadata": {},
     "output_type": "execute_result"
    }
   ],
   "source": [
    "# Sanity checks\n",
    "\n",
    "# check whether x and z velocoty components due to phi rotation form circular path with omega rotation added\n",
    "I_v_po.subs({beta:0}).applyfunc(sp.simplify)"
   ]
  },
  {
   "cell_type": "markdown",
   "id": "958b96d4",
   "metadata": {},
   "source": [
    "### Rods"
   ]
  },
  {
   "cell_type": "code",
   "execution_count": 7,
   "id": "33b2a2b8",
   "metadata": {},
   "outputs": [],
   "source": [
    "I_v_rod1 =  sp.Matrix([[(L/2)*omega],[0],[0]])\n",
    "I_v_rod2 = sp.Matrix([[omega * (L + (L/2* sp.cos(beta))) ],[0],[0]])"
   ]
  },
  {
   "cell_type": "markdown",
   "id": "a89aea77",
   "metadata": {},
   "source": [
    "# Lagrangian"
   ]
  },
  {
   "cell_type": "code",
   "execution_count": 8,
   "id": "46a6accb",
   "metadata": {},
   "outputs": [],
   "source": [
    "def norm_sqrd(v):\n",
    "    return sp.simplify(sp.Pow(v[0],2) + sp.Pow(v[1],2) + sp.Pow(v[2],2))\n",
    "\n",
    "def elementwise_sqrd(v):\n",
    "    return sp.Matrix([[sp.Pow(v[0],2)],[sp.Pow(v[1],2)],[sp.Pow(v[2],2)]]) "
   ]
  },
  {
   "cell_type": "markdown",
   "id": "3006b1e0",
   "metadata": {},
   "source": [
    "## Kinetic energy"
   ]
  },
  {
   "cell_type": "markdown",
   "id": "cece37fd",
   "metadata": {},
   "source": [
    "### Kinetic energy of plate"
   ]
  },
  {
   "cell_type": "code",
   "execution_count": 9,
   "id": "d908623c",
   "metadata": {},
   "outputs": [],
   "source": [
    "I_xx = (1/6) * M * sp.Pow(L,2)\n",
    "I_yy = I_zz  = (1/12) * M * sp.Pow(L,2)\n",
    "I_plate = sp.diag(I_xx, I_yy, I_zz)\n",
    "\n",
    "T_linear_plate = 0.5 * M *  norm_sqrd(I_v_po)\n",
    "T_angular_plate= 0.5 * sum(I_plate * elementwise_sqrd(I_omega_p))\n",
    "\n",
    "T_plate = T_linear_plate + T_angular_plate"
   ]
  },
  {
   "cell_type": "markdown",
   "id": "a933dd17",
   "metadata": {},
   "source": [
    "### Kinetic energy of rods"
   ]
  },
  {
   "cell_type": "code",
   "execution_count": 10,
   "id": "17906e35",
   "metadata": {},
   "outputs": [],
   "source": [
    "I_xx = 0\n",
    "I_yy = I_zz  = (1/12) * m * sp.Pow(L,2)\n",
    "I_rod = sp.diag(I_xx, I_yy, I_zz)\n",
    "\n",
    "T_linear_rod1 = 0.5 * m *  norm_sqrd(I_v_rod1)\n",
    "T_linear_rod2 = 0.5 * m *  norm_sqrd(I_v_rod2)\n",
    "\n",
    "T_angular_rod1 = 0.5 * sum(I_rod * elementwise_sqrd(I_omega_rod1))\n",
    "T_angular_rod2 = 0.5 * sum(I_rod * elementwise_sqrd(I_omega_rod2))\n",
    "\n",
    "T_rod1 = T_linear_rod1 + T_angular_rod1\n",
    "T_rod2 = T_linear_rod2 + T_angular_rod2"
   ]
  },
  {
   "cell_type": "markdown",
   "id": "659432d8",
   "metadata": {},
   "source": [
    "### Total kinetic energy"
   ]
  },
  {
   "cell_type": "code",
   "execution_count": 11,
   "id": "98969822",
   "metadata": {},
   "outputs": [
    {
     "data": {
      "image/png": "[encoded data removed]",
      "text/latex": [
       "$\\displaystyle 0.0416666666666667 L^{2} M \\left(\\Omega + \\sin{\\left(\\beta \\right)} \\dot{\\phi}\\right)^{2} + 0.125 L^{2} M \\left(\\left(\\Omega + \\sin{\\left(\\beta \\right)} \\dot{\\phi}\\right)^{2} \\sin^{2}{\\left(\\phi \\right)} + \\left(\\Omega \\sin{\\left(\\beta \\right)} \\cos{\\left(\\phi \\right)} + \\Omega \\cos{\\left(\\beta \\right)} - 2 \\Omega + \\cos{\\left(\\phi \\right)} \\dot{\\phi}\\right)^{2} + \\sin^{2}{\\left(\\phi \\right)} \\cos^{2}{\\left(\\beta \\right)} \\dot{\\phi}^{2}\\right) + 0.0416666666666667 L^{2} M \\cos^{2}{\\left(\\beta \\right)} \\dot{\\phi}^{2} + 0.125 L^{2} \\Omega^{2} m \\left(\\cos{\\left(\\beta \\right)} + 2\\right)^{2} + 0.166666666666667 L^{2} \\Omega^{2} m + 0.0416666666666667 L^{2} m \\left(\\Omega + \\sin{\\left(\\beta \\right)} \\dot{\\phi}\\right)^{2} + 0.0416666666666667 L^{2} m \\cos^{2}{\\left(\\beta \\right)} \\dot{\\phi}^{2}$"
      ],
      "text/plain": [
       "                    2                 2          2   ⎛              2    2    \n",
       "0.0416666666666667⋅L ⋅M⋅(Ω + sin(β)⋅φ̇)  + 0.125⋅L ⋅M⋅⎝(Ω + sin(β)⋅φ̇) ⋅sin (φ\n",
       "\n",
       "                                               2      2       2     2⎞        \n",
       ") + (Ω⋅sin(β)⋅cos(φ) + Ω⋅cos(β) - 2⋅Ω + cos(φ)⋅φ̇)  + sin (φ)⋅cos (β)⋅φ̇ ⎠ + 0\n",
       "\n",
       "               2      2     2          2  2               2                   \n",
       ".0416666666666667⋅L ⋅M⋅cos (β)⋅φ̇  + 0.125⋅L ⋅Ω ⋅m⋅(cos(β) + 2)  + 0.166666666\n",
       "\n",
       "   2  2                         2                 2                       2   \n",
       "666667⋅L ⋅Ω ⋅m + 0.0416666666666667⋅L ⋅m⋅(Ω + sin(β)⋅φ̇)  + 0.0416666666666667\n",
       "\n",
       "   2     2\n",
       "⋅L ⋅m⋅cos (β)⋅φ̇ "
      ]
     },
     "execution_count": 11,
     "metadata": {},
     "output_type": "execute_result"
    }
   ],
   "source": [
    "T = T_plate + T_rod1 + T_rod2\n",
    "T"
   ]
  },
  {
   "cell_type": "markdown",
   "id": "a7ea9215",
   "metadata": {},
   "source": [
    "## Potential energy"
   ]
  },
  {
   "cell_type": "code",
   "execution_count": 12,
   "id": "7c0e05b6",
   "metadata": {},
   "outputs": [
    {
     "data": {
      "image/png": "[encoded data removed]",
      "text/latex": [
       "$\\displaystyle - L M g \\sin{\\left(\\beta \\right)} \\cos{\\left(\\phi \\right)}$"
      ],
      "text/plain": [
       "-L⋅M⋅g⋅sin(β)⋅cos(φ)"
      ]
     },
     "execution_count": 12,
     "metadata": {},
     "output_type": "execute_result"
    }
   ],
   "source": [
    "V_plate = -M*g*L*sp.sin(beta)*sp.cos(phi)\n",
    "V = V_plate\n",
    "V"
   ]
  },
  {
   "cell_type": "markdown",
   "id": "7acc0d4d",
   "metadata": {},
   "source": [
    "## Compute equation of motion"
   ]
  },
  {
   "cell_type": "code",
   "execution_count": 21,
   "id": "4f4fda63",
   "metadata": {},
   "outputs": [
    {
     "data": {
      "image/png": "[encoded data removed]",
      "text/latex": [
       "$\\displaystyle 0.03125 L^{2} M \\Omega^{2} \\sin{\\left(2 \\beta - 2 \\phi \\right)} - 0.03125 L^{2} M \\Omega^{2} \\sin{\\left(2 \\beta + 2 \\phi \\right)} - 0.0625 L^{2} M \\Omega^{2} \\sin{\\left(2 \\phi \\right)} - 0.25 L^{2} M \\Omega^{2} \\cos{\\left(\\beta - \\phi \\right)} + 0.25 L^{2} M \\Omega^{2} \\cos{\\left(\\beta + \\phi \\right)} + 0.0625 L^{2} M \\Omega^{2} \\cos{\\left(2 \\beta - \\phi \\right)} - 0.0625 L^{2} M \\Omega^{2} \\cos{\\left(2 \\beta + \\phi \\right)} + 0.333333333333333 L^{2} M \\ddot{\\phi} + 0.0833333333333333 L^{2} m \\ddot{\\phi} + 0.5 L M g \\cos{\\left(\\beta - \\phi \\right)} - 0.5 L M g \\cos{\\left(\\beta + \\phi \\right)}$"
      ],
      "text/plain": [
       "         2    2                           2    2                          2   \n",
       "0.03125⋅L ⋅M⋅Ω ⋅sin(2⋅β - 2⋅φ) - 0.03125⋅L ⋅M⋅Ω ⋅sin(2⋅β + 2⋅φ) - 0.0625⋅L ⋅M⋅\n",
       "\n",
       " 2                  2    2                    2    2                      2   \n",
       "Ω ⋅sin(2⋅φ) - 0.25⋅L ⋅M⋅Ω ⋅cos(β - φ) + 0.25⋅L ⋅M⋅Ω ⋅cos(β + φ) + 0.0625⋅L ⋅M⋅\n",
       "\n",
       " 2                        2    2                                   2          \n",
       "Ω ⋅cos(2⋅β - φ) - 0.0625⋅L ⋅M⋅Ω ⋅cos(2⋅β + φ) + 0.333333333333333⋅L ⋅M⋅φ̈ + 0.\n",
       "\n",
       "                 2                                                  \n",
       "0833333333333333⋅L ⋅m⋅φ̈ + 0.5⋅L⋅M⋅g⋅cos(β - φ) - 0.5⋅L⋅M⋅g⋅cos(β + φ)"
      ]
     },
     "execution_count": 21,
     "metadata": {},
     "output_type": "execute_result"
    }
   ],
   "source": [
    "Lg = T - V\n",
    "x = phi\n",
    "xd = phi.diff(t)\n",
    "\n",
    "EOM = sp.diff(sp.diff(Lg,xd), t) - sp.diff(Lg, x)\n",
    "\n",
    "phi_eom = sp.simplify(EOM)\n",
    "phi_eom.expand()"
   ]
  },
  {
   "cell_type": "markdown",
   "id": "7537fee9-1e4d-438b-b66a-44b2c36c216f",
   "metadata": {},
   "source": [
    "### Substitute physical values"
   ]
  },
  {
   "cell_type": "code",
   "execution_count": 14,
   "id": "74f88fb5-7349-4266-a54c-60da3c60f433",
   "metadata": {},
   "outputs": [
    {
     "data": {
      "image/png": "[encoded data removed]",
      "text/latex": [
       "$\\displaystyle 0.511363636363636 \\Omega^{2} \\sin{\\left(\\phi \\right)} \\cos{\\left(\\phi \\right)} + 0.38658224870985 \\Omega^{2} \\sin{\\left(\\phi \\right)} - 53.5090909090909 \\sin{\\left(\\phi \\right)}$"
      ],
      "text/plain": [
       "                   2                                   2                      \n",
       "0.511363636363636⋅Ω ⋅sin(φ)⋅cos(φ) + 0.38658224870985⋅Ω ⋅sin(φ) - 53.509090909\n",
       "\n",
       "           \n",
       "0909⋅sin(φ)"
      ]
     },
     "execution_count": 14,
     "metadata": {},
     "output_type": "execute_result"
    }
   ],
   "source": [
    "# substitute physical values \n",
    "phi_eom_subs = phi_eom.subs({L:0.25, beta:np.pi/6, M:0.5, m:0.2, g:9.81})\n",
    "\n",
    "# equate to zero \n",
    "phi_eq = sp.Eq(phi_eom_subs, 0)\n",
    "\n",
    "# collect phi_ddot term \n",
    "phi_eq_final = sp.solve(phi_eq, phi.diff(t).diff(t))[0]\n",
    "phi_eq_final.expand()"
   ]
  },
  {
   "cell_type": "code",
   "execution_count": 15,
   "id": "e7bfab23-7dfc-4830-acfd-67e40cff76ef",
   "metadata": {},
   "outputs": [],
   "source": [
    "phi_ddot_func = sp.lambdify((omega, phi), phi_eq_final,  modules='numpy')"
   ]
  },
  {
   "cell_type": "code",
   "execution_count": 16,
   "id": "70cd5bc1-fc56-498e-bc1e-b29ad0ced6aa",
   "metadata": {},
   "outputs": [
    {
     "data": {
      "image/png": "[encoded data removed]",
      "text/latex": [
       "$\\displaystyle -14.8508660381059$"
      ],
      "text/plain": [
       "-14.850866038105865"
      ]
     },
     "execution_count": 16,
     "metadata": {},
     "output_type": "execute_result"
    }
   ],
   "source": [
    "phi_ddot_func(10,np.pi/2)"
   ]
  },
  {
   "cell_type": "markdown",
   "id": "c3b2fa97-4a42-4568-9e6a-5f35441907d5",
   "metadata": {},
   "source": [
    "## Simulation"
   ]
  },
  {
   "cell_type": "code",
   "execution_count": 17,
   "id": "6c387841-5975-4144-a92a-2602e8c41fcf",
   "metadata": {},
   "outputs": [],
   "source": [
    "def system_dynamics(t, X, omega):\n",
    "    phi = X[0]\n",
    "    phi_dot = X[1]\n",
    "\n",
    "    phi_ddot = phi_ddot_func(omega, phi)\n",
    "    return [phi_dot, phi_ddot]"
   ]
  },
  {
   "cell_type": "code",
   "execution_count": 18,
   "id": "582f49d3-f7e2-48f9-8d60-57815443bc95",
   "metadata": {},
   "outputs": [
    {
     "data": {
      "image/png": "[encoded data removed]",
      "text/plain": [
       "<Figure size 640x480 with 1 Axes>"
      ]
     },
     "metadata": {},
     "output_type": "display_data"
    }
   ],
   "source": [
    "t_span = [0, 10]\n",
    "\n",
    "# (phi, phi_dot)\n",
    "initial_conditions = [0.3, 0]\n",
    "\n",
    "sol = solve_ivp(system_dynamics, t_span , initial_conditions, args=(0.02,) ,  dense_output=True, rtol=1e-6, atol=1e-6)\n",
    "\n",
    "# plotting\n",
    "t = np.linspace(t_span[0], t_span[1], 300)\n",
    "z = sol.sol(t)\n",
    "\n",
    "plt.plot(t, z.T)\n",
    "plt.xlabel('t')\n",
    "plt.legend(['x', 'y'], shadow=True)\n",
    "plt.title('phi trajectory')\n",
    "\n",
    "# Function add a legend  \n",
    "plt.legend([\"phi\", \"phi_dot\"])\n",
    "\n",
    "plt.show()"
   ]
  },
  {
   "cell_type": "code",
   "execution_count": null,
   "id": "b91dc70a-3b5a-441c-92cd-a237a205ea26",
   "metadata": {},
   "outputs": [],
   "source": []
  }
 ],
 "metadata": {
  "kernelspec": {
   "display_name": "Python 3 (ipykernel)",
   "language": "python",
   "name": "python3"
  },
  "language_info": {
   "codemirror_mode": {
    "name": "ipython",
    "version": 3
   },
   "file_extension": ".py",
   "mimetype": "text/x-python",
   "name": "python",
   "nbconvert_exporter": "python",
   "pygments_lexer": "ipython3",
   "version": "3.11.4"
  }
 },
 "nbformat": 4,
 "nbformat_minor": 5
}
