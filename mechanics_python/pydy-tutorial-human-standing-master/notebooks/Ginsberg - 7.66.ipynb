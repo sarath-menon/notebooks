{
 "cells": [
  {
   "cell_type": "code",
   "execution_count": 1,
   "id": "ce784393",
   "metadata": {},
   "outputs": [],
   "source": [
    "import sympy as sp\n",
    "from sympy.physics.mechanics import dynamicsymbols, init_vprinting, ReferenceFrame, Point\n",
    "\n",
    "init_vprinting()\n",
    "\n",
    "from sympy.abc import x,y,z"
   ]
  },
  {
   "cell_type": "code",
   "execution_count": 4,
   "id": "2ed4f32c",
   "metadata": {},
   "outputs": [],
   "source": [
    "phi, beta, psi = dynamicsymbols('phi beta psi')\n",
    "t = sp.Symbol('t')"
   ]
  },
  {
   "cell_type": "markdown",
   "id": "cf9f87cf",
   "metadata": {},
   "source": [
    "## Reference frames"
   ]
  },
  {
   "cell_type": "code",
   "execution_count": 5,
   "id": "6861195d",
   "metadata": {},
   "outputs": [],
   "source": [
    "I_frame = ReferenceFrame('I')\n",
    "\n",
    "# create new frame w.r.t to existing frame\n",
    "A_frame = I_frame.orientnew('A', 'Axis',(psi, I_frame.z))\n",
    "\n",
    "Bdash_frame = A_frame.orientnew('B', 'Axis',(-beta, A_frame.x))\n",
    "G_frame = Bdash_frame.orientnew('G', 'Axis',(-phi, Bdash_frame.z))"
   ]
  },
  {
   "cell_type": "markdown",
   "id": "d1759d52",
   "metadata": {},
   "source": [
    "## Create points"
   ]
  },
  {
   "cell_type": "code",
   "execution_count": 15,
   "id": "f7b2b4be",
   "metadata": {},
   "outputs": [
    {
     "data": {
      "text/latex": [
       "$\\displaystyle \\left[\\begin{matrix}L \\left(\\cos{\\left(\\beta \\right)} + 1\\right) \\sin{\\left(\\psi \\right)}\\\\- L \\left(\\cos{\\left(\\beta \\right)} + 1\\right) \\cos{\\left(\\psi \\right)}\\\\L \\sin{\\left(\\beta \\right)}\\end{matrix}\\right]$"
      ],
      "text/plain": [
       "⎡L⋅(cos(β) + 1)⋅sin(ψ) ⎤\n",
       "⎢                      ⎥\n",
       "⎢-L⋅(cos(β) + 1)⋅cos(ψ)⎥\n",
       "⎢                      ⎥\n",
       "⎣       L⋅sin(β)       ⎦"
      ]
     },
     "execution_count": 15,
     "metadata": {},
     "output_type": "execute_result"
    }
   ],
   "source": [
    "\n",
    "\n",
    "# create point \n",
    "A = Point('A')\n",
    "B = Point('B')\n",
    "G = Point('G')\n",
    "\n",
    "rod1_length = sp.symbols('L', real=True, positive=True)\n",
    "rod2_length = sp.symbols('L', real=True, positive=True)\n",
    "\n",
    "A.set_pos(B, rod1_length * A_frame.y)\n",
    "B.set_pos(G, rod2_length * Bdash_frame.y)\n",
    "# B.set_pos(G,  rod2_length * sp.cos(beta) * A_frame.y - rod2_length * sp.sin(beta) * A_frame.z )\n",
    "\n",
    "I_r_G = G.pos_from(A).to_matrix(I_frame).simplify()\n",
    "\n",
    "I_r_G"
   ]
  },
  {
   "cell_type": "markdown",
   "id": "332cb1c1",
   "metadata": {},
   "source": [
    "## kinematic diff eqns"
   ]
  },
  {
   "cell_type": "code",
   "execution_count": 10,
   "id": "dc7cb784",
   "metadata": {},
   "outputs": [
    {
     "data": {
      "image/png": "[encoded data removed]",
      "text/latex": [
       "$\\displaystyle \\left[ \\omega_{1} + \\dot{\\beta}, \\  \\omega_{2}, \\  \\omega_{3} - \\dot{\\psi}\\right]$"
      ],
      "text/plain": [
       "[ω₁ + β̇, ω₂, ω₃ - ψ̇]"
      ]
     },
     "execution_count": 10,
     "metadata": {},
     "output_type": "execute_result"
    }
   ],
   "source": [
    "omega1, omega2, omega3 = dynamicsymbols('omega1, omega2, omega3')\n",
    "\n",
    "kinematical_differential_equations = [omega1 - -beta.diff(),\n",
    "                                      omega2 - 0,\n",
    "                                      omega3 - psi.diff()]\n",
    "kinematical_differential_equations"
   ]
  },
  {
   "cell_type": "markdown",
   "id": "2645e9f5",
   "metadata": {},
   "source": [
    "### set angular velocites"
   ]
  },
  {
   "cell_type": "code",
   "execution_count": 13,
   "id": "49cd9ddb",
   "metadata": {},
   "outputs": [],
   "source": [
    "A_frame.set_ang_vel(I_frame, psi.diff(t)*I_frame.z)\n",
    "Bdash_frame.set_ang_vel(A_frame, -beta.diff(t)*Bdash_frame.x)\n",
    "G_frame.set_ang_vel(Bdash_frame, -phi.diff(t)*G_frame.z)\n",
    "\n",
    "# A_frame.ang_vel_in(I_frame)\n",
    "# Bdash_frame.ang_vel_in(I_frame).express(I_frame)\n",
    "# G_frame.ang_vel_in(I_frame).to_matrix(I_frame)\n"
   ]
  },
  {
   "cell_type": "markdown",
   "id": "7248fd4c",
   "metadata": {},
   "source": [
    "### set linear velocites"
   ]
  },
  {
   "cell_type": "code",
   "execution_count": 14,
   "id": "5817bd82",
   "metadata": {},
   "outputs": [
    {
     "data": {
      "image/png": "[encoded data removed]",
      "text/latex": [
       "$\\displaystyle (L \\cos{\\left(\\beta \\right)} \\dot{\\psi} + L \\dot{\\psi})\\mathbf{\\hat{a}_x} + L \\sin{\\left(\\beta \\right)} \\dot{\\beta}\\mathbf{\\hat{a}_y} + L \\cos{\\left(\\beta \\right)} \\dot{\\beta}\\mathbf{\\hat{a}_z}$"
      ],
      "text/plain": [
       "(L⋅cos(β)⋅ψ̇ + L⋅ψ̇) a_x + L⋅sin(β)⋅β̇ a_y + L⋅cos(β)⋅β̇ a_z"
      ]
     },
     "execution_count": 14,
     "metadata": {},
     "output_type": "execute_result"
    }
   ],
   "source": [
    "A.set_vel(I_frame,0)\n",
    "\n",
    "B.v2pt_theory(A,I_frame, A_frame)\n",
    "B.vel(I_frame).express(A_frame)\n",
    "\n",
    "G.v2pt_theory(B,I_frame, Bdash_frame)\n",
    "G.vel(I_frame).express(A_frame)"
   ]
  },
  {
   "cell_type": "code",
   "execution_count": null,
   "id": "e5475c3b",
   "metadata": {},
   "outputs": [],
   "source": []
  }
 ],
 "metadata": {
  "kernelspec": {
   "display_name": "Python 3 (ipykernel)",
   "language": "python",
   "name": "python3"
  },
  "language_info": {
   "codemirror_mode": {
    "name": "ipython",
    "version": 3
   },
   "file_extension": ".py",
   "mimetype": "text/x-python",
   "name": "python",
   "nbconvert_exporter": "python",
   "pygments_lexer": "ipython3",
   "version": "3.10.9"
  }
 },
 "nbformat": 4,
 "nbformat_minor": 5
}
