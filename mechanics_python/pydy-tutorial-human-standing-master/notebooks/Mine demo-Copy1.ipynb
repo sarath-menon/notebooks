{
 "cells": [
  {
   "cell_type": "code",
   "execution_count": 15,
   "id": "ce784393",
   "metadata": {},
   "outputs": [],
   "source": [
    "import sympy as sp\n",
    "from sympy.physics.mechanics import dynamicsymbols, init_vprinting, ReferenceFrame, Point\n",
    "from sympy.physics.mechanics import inertia, RigidBody\n",
    "\n",
    "init_vprinting()"
   ]
  },
  {
   "cell_type": "code",
   "execution_count": 2,
   "id": "2ed4f32c",
   "metadata": {},
   "outputs": [],
   "source": [
    "M, m = sp.symbols('M m', real=True, positive=True)\n",
    "L = sp.symbols('L', real=True, positive=True)\n",
    "\n",
    "phi, omega =  dynamicsymbols('phi omega')\n",
    "beta = sp.symbols('beta', real=True, positive=True)\n",
    "\n",
    "g = sp.Symbol('g', real=True)\n",
    "t = sp.Symbol('t')"
   ]
  },
  {
   "cell_type": "markdown",
   "id": "cf9f87cf",
   "metadata": {},
   "source": [
    "## Reference frames"
   ]
  },
  {
   "cell_type": "code",
   "execution_count": 9,
   "id": "6861195d",
   "metadata": {},
   "outputs": [],
   "source": [
    "I_frame = ReferenceFrame('I')\n",
    "\n",
    "# create new frame w.r.t to existing frame\n",
    "A_frame = I_frame.orientnew('A', 'Axis',(omega, I_frame.z))\n",
    "\n",
    "# B_frame = A_frame\n",
    "Bdash_frame = A_frame.orientnew('B', 'Axis',(-(sp.pi/2 - beta), A_frame.x))\n",
    "P_frame = Bdash_frame.orientnew('P', 'Axis',(phi, Bdash_frame.z))"
   ]
  },
  {
   "cell_type": "markdown",
   "id": "5f258fb6",
   "metadata": {},
   "source": [
    "## Points"
   ]
  },
  {
   "cell_type": "code",
   "execution_count": 10,
   "id": "3d9849de",
   "metadata": {},
   "outputs": [
    {
     "data": {
      "text/latex": [
       "$\\displaystyle \\left[\\begin{matrix}\\frac{L \\left(\\sin{\\left(\\beta \\right)} \\sin{\\left(\\omega \\right)} \\cos{\\left(\\phi \\right)} + \\sin{\\left(\\omega \\right)} \\cos{\\left(\\beta \\right)} + 2 \\sin{\\left(\\omega \\right)} + \\sin{\\left(\\phi \\right)} \\cos{\\left(\\omega \\right)}\\right)}{2}\\\\\\frac{L \\left(- \\sin{\\left(\\beta \\right)} \\cos{\\left(\\omega \\right)} \\cos{\\left(\\phi \\right)} + \\sin{\\left(\\omega \\right)} \\sin{\\left(\\phi \\right)} - \\cos{\\left(\\beta \\right)} \\cos{\\left(\\omega \\right)} - 2 \\cos{\\left(\\omega \\right)}\\right)}{2}\\\\\\frac{L \\left(- \\sin{\\left(\\beta \\right)} + \\cos{\\left(\\beta \\right)} \\cos{\\left(\\phi \\right)}\\right)}{2}\\end{matrix}\\right]$"
      ],
      "text/plain": [
       "⎡L⋅(sin(β)⋅sin(ω)⋅cos(φ) + sin(ω)⋅cos(β) + 2⋅sin(ω) + sin(φ)⋅cos(ω)) ⎤\n",
       "⎢─────────────────────────────────────────────────────────────────── ⎥\n",
       "⎢                                 2                                  ⎥\n",
       "⎢                                                                    ⎥\n",
       "⎢L⋅(-sin(β)⋅cos(ω)⋅cos(φ) + sin(ω)⋅sin(φ) - cos(β)⋅cos(ω) - 2⋅cos(ω))⎥\n",
       "⎢────────────────────────────────────────────────────────────────────⎥\n",
       "⎢                                 2                                  ⎥\n",
       "⎢                                                                    ⎥\n",
       "⎢                    L⋅(-sin(β) + cos(β)⋅cos(φ))                     ⎥\n",
       "⎢                    ───────────────────────────                     ⎥\n",
       "⎣                                 2                                  ⎦"
      ]
     },
     "execution_count": 10,
     "metadata": {},
     "output_type": "execute_result"
    }
   ],
   "source": [
    "# create point \n",
    "A = Point('A')\n",
    "B = Point('B')\n",
    "P = Point('P')\n",
    "\n",
    "A.set_pos(B, L * A_frame.y)\n",
    "B.set_pos(P, (L/2) * P_frame.y + (L/2) * P_frame.z)\n",
    "\n",
    "A_r_P = P.pos_from(A).to_matrix(I_frame).simplify()\n",
    "\n",
    "A_r_P"
   ]
  },
  {
   "cell_type": "markdown",
   "id": "332cb1c1",
   "metadata": {},
   "source": [
    "## kinematic diff eqns"
   ]
  },
  {
   "cell_type": "code",
   "execution_count": 11,
   "id": "dc7cb784",
   "metadata": {},
   "outputs": [],
   "source": [
    "omega1, omega2, omega3 = dynamicsymbols('omega1, omega2, omega3')\n",
    "\n",
    "# kinematical_differential_equations = [omega1 - -beta.diff(),\n",
    "#                                       omega2 - 0,\n",
    "#                                       omega3 - psi.diff()]\n",
    "# kinematical_differential_equations"
   ]
  },
  {
   "cell_type": "markdown",
   "id": "2645e9f5",
   "metadata": {},
   "source": [
    "### set angular velocites"
   ]
  },
  {
   "cell_type": "code",
   "execution_count": 12,
   "id": "49cd9ddb",
   "metadata": {},
   "outputs": [
    {
     "data": {
      "text/latex": [
       "$\\displaystyle \\left[\\begin{matrix}0\\\\\\cos{\\left(\\beta \\right)} \\dot{\\phi}\\\\\\sin{\\left(\\beta \\right)} \\dot{\\phi} + \\dot{\\omega}\\end{matrix}\\right]$"
      ],
      "text/plain": [
       "⎡     0      ⎤\n",
       "⎢            ⎥\n",
       "⎢  cos(β)⋅φ̇  ⎥\n",
       "⎢            ⎥\n",
       "⎣sin(β)⋅φ̇ + ω̇⎦"
      ]
     },
     "execution_count": 12,
     "metadata": {},
     "output_type": "execute_result"
    }
   ],
   "source": [
    "A_frame.set_ang_vel(I_frame, omega.diff(t)*I_frame.z)\n",
    "P_frame.set_ang_vel(Bdash_frame, phi.diff(t)*Bdash_frame.z)\n",
    "\n",
    "# A_frame.ang_vel_in(I_frame)\n",
    "# Bdash_frame.ang_vel_in(I_frame).express(I_frame)\n",
    "P_frame.ang_vel_in(I_frame).to_matrix(A_frame)\n"
   ]
  },
  {
   "cell_type": "markdown",
   "id": "7248fd4c",
   "metadata": {},
   "source": [
    "### set linear velocites"
   ]
  },
  {
   "cell_type": "code",
   "execution_count": 13,
   "id": "5817bd82",
   "metadata": {},
   "outputs": [
    {
     "data": {
      "text/latex": [
       "$\\displaystyle \\left[\\begin{matrix}\\frac{L \\left(\\sin{\\left(\\beta \\right)} \\cos{\\left(\\phi \\right)} \\dot{\\omega} + \\cos{\\left(\\beta \\right)} \\dot{\\omega} + \\cos{\\left(\\phi \\right)} \\dot{\\phi} + 2 \\dot{\\omega}\\right)}{2}\\\\\\frac{L \\left(\\sin{\\left(\\beta \\right)} \\dot{\\phi} + \\dot{\\omega}\\right) \\sin{\\left(\\phi \\right)}}{2}\\\\- \\frac{L \\sin{\\left(\\phi \\right)} \\cos{\\left(\\beta \\right)} \\dot{\\phi}}{2}\\end{matrix}\\right]$"
      ],
      "text/plain": [
       "⎡L⋅(sin(β)⋅cos(φ)⋅ω̇ + cos(β)⋅ω̇ + cos(φ)⋅φ̇ + 2⋅ω̇)⎤\n",
       "⎢───────────────────────────────────────────────⎥\n",
       "⎢                       2                       ⎥\n",
       "⎢                                               ⎥\n",
       "⎢            L⋅(sin(β)⋅φ̇ + ω̇)⋅sin(φ)            ⎥\n",
       "⎢            ───────────────────────            ⎥\n",
       "⎢                       2                       ⎥\n",
       "⎢                                               ⎥\n",
       "⎢              -L⋅sin(φ)⋅cos(β)⋅φ̇               ⎥\n",
       "⎢              ───────────────────              ⎥\n",
       "⎣                       2                       ⎦"
      ]
     },
     "execution_count": 13,
     "metadata": {},
     "output_type": "execute_result"
    }
   ],
   "source": [
    "A.set_vel(I_frame,0)\n",
    "\n",
    "B.v2pt_theory(A,I_frame, A_frame)\n",
    "B.vel(I_frame).express(A_frame)\n",
    "\n",
    "P.v2pt_theory(B,I_frame, P_frame)\n",
    "A_v_po = P.vel(I_frame).to_matrix(A_frame).simplify()\n",
    "\n",
    "A_v_po.applyfunc(sp.simplify)"
   ]
  },
  {
   "cell_type": "code",
   "execution_count": 14,
   "id": "4bc29582",
   "metadata": {},
   "outputs": [
    {
     "data": {
      "text/latex": [
       "$\\displaystyle \\left[\\begin{matrix}\\frac{L \\left(\\cos{\\left(\\phi \\right)} \\dot{\\phi} + 3 \\dot{\\omega}\\right)}{2}\\\\\\frac{L \\sin{\\left(\\phi \\right)} \\dot{\\omega}}{2}\\\\- \\frac{L \\sin{\\left(\\phi \\right)} \\dot{\\phi}}{2}\\end{matrix}\\right]$"
      ],
      "text/plain": [
       "⎡L⋅(cos(φ)⋅φ̇ + 3⋅ω̇)⎤\n",
       "⎢──────────────────⎥\n",
       "⎢        2         ⎥\n",
       "⎢                  ⎥\n",
       "⎢    L⋅sin(φ)⋅ω̇    ⎥\n",
       "⎢    ──────────    ⎥\n",
       "⎢        2         ⎥\n",
       "⎢                  ⎥\n",
       "⎢   -L⋅sin(φ)⋅φ̇    ⎥\n",
       "⎢   ────────────   ⎥\n",
       "⎣        2         ⎦"
      ]
     },
     "execution_count": 14,
     "metadata": {},
     "output_type": "execute_result"
    }
   ],
   "source": [
    "A_v_po.subs({beta:0}).applyfunc(sp.simplify)"
   ]
  },
  {
   "cell_type": "code",
   "execution_count": null,
   "id": "877e1914",
   "metadata": {},
   "outputs": [],
   "source": []
  }
 ],
 "metadata": {
  "kernelspec": {
   "display_name": "Python 3 (ipykernel)",
   "language": "python",
   "name": "python3"
  },
  "language_info": {
   "codemirror_mode": {
    "name": "ipython",
    "version": 3
   },
   "file_extension": ".py",
   "mimetype": "text/x-python",
   "name": "python",
   "nbconvert_exporter": "python",
   "pygments_lexer": "ipython3",
   "version": "3.10.9"
  }
 },
 "nbformat": 4,
 "nbformat_minor": 5
}
