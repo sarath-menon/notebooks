{
 "cells": [
  {
   "cell_type": "code",
   "execution_count": 1,
   "id": "df4c4b5e",
   "metadata": {},
   "outputs": [],
   "source": [
    "import sympy as sm"
   ]
  },
  {
   "cell_type": "code",
   "execution_count": 2,
   "id": "320e551f",
   "metadata": {},
   "outputs": [],
   "source": [
    "sm.init_printing()"
   ]
  },
  {
   "cell_type": "markdown",
   "id": "22cdfcfa",
   "metadata": {},
   "source": [
    "# Symbols and Functions"
   ]
  },
  {
   "cell_type": "code",
   "execution_count": 3,
   "id": "88123e73",
   "metadata": {},
   "outputs": [],
   "source": [
    "a, b, th, gamma, x, t, y, z = sm.symbols('a, b, theta, gamma, x, t, y, z')"
   ]
  },
  {
   "cell_type": "code",
   "execution_count": 4,
   "id": "3c5ddb2a",
   "metadata": {},
   "outputs": [
    {
     "name": "stdout",
     "output_type": "stream",
     "text": [
      "Variable   Type      Data/Info\n",
      "------------------------------\n",
      "a          Symbol    a\n",
      "b          Symbol    b\n",
      "gamma      Symbol    gamma\n",
      "sm         module    <module 'sympy' from '/us<...>kages/sympy/__init__.py'>\n",
      "t          Symbol    t\n",
      "th         Symbol    theta\n",
      "x          Symbol    x\n",
      "y          Symbol    y\n",
      "z          Symbol    z\n"
     ]
    }
   ],
   "source": [
    "%whos"
   ]
  },
  {
   "cell_type": "code",
   "execution_count": 5,
   "id": "03b3f97d",
   "metadata": {},
   "outputs": [
    {
     "data": {
      "image/png": "[encoded data removed]",
      "text/latex": [
       "$\\displaystyle \\left( a, \\  b, \\  \\theta, \\  \\gamma, \\  x, \\  t, \\  y, \\  z\\right)$"
      ],
      "text/plain": [
       "(a, b, θ, γ, x, t, y, z)"
      ]
     },
     "execution_count": 5,
     "metadata": {},
     "output_type": "execute_result"
    }
   ],
   "source": [
    "a, b, th, gamma, x, t, y, z"
   ]
  },
  {
   "cell_type": "code",
   "execution_count": 6,
   "id": "0c92a56f",
   "metadata": {},
   "outputs": [],
   "source": [
    "f = sm.Function('f')"
   ]
  },
  {
   "cell_type": "code",
   "execution_count": 7,
   "id": "e3c881ca",
   "metadata": {},
   "outputs": [
    {
     "data": {
      "image/png": "[encoded data removed]",
      "text/latex": [
       "$\\displaystyle f{\\left(t \\right)}$"
      ],
      "text/plain": [
       "f(t)"
      ]
     },
     "execution_count": 7,
     "metadata": {},
     "output_type": "execute_result"
    }
   ],
   "source": [
    "f(t)"
   ]
  },
  {
   "cell_type": "code",
   "execution_count": 8,
   "id": "c211782e",
   "metadata": {},
   "outputs": [
    {
     "data": {
      "image/png": "[encoded data removed]",
      "text/latex": [
       "$\\displaystyle f{\\left(x,y,z \\right)}$"
      ],
      "text/plain": [
       "f(x, y, z)"
      ]
     },
     "execution_count": 8,
     "metadata": {},
     "output_type": "execute_result"
    }
   ],
   "source": [
    "f(x, y, z)"
   ]
  },
  {
   "cell_type": "code",
   "execution_count": 9,
   "id": "3d84b754",
   "metadata": {},
   "outputs": [],
   "source": [
    "a1, a2, a3 = sm.symbols('a1, a2, a3')"
   ]
  },
  {
   "cell_type": "code",
   "execution_count": 10,
   "id": "0f6ec64b",
   "metadata": {},
   "outputs": [
    {
     "data": {
      "image/png": "[encoded data removed]",
      "text/latex": [
       "$\\displaystyle \\left( a_{1}, \\  a_{2}, \\  a_{3}\\right)$"
      ],
      "text/plain": [
       "(a₁, a₂, a₃)"
      ]
     },
     "execution_count": 10,
     "metadata": {},
     "output_type": "execute_result"
    }
   ],
   "source": [
    "a1, a2, a3"
   ]
  },
  {
   "cell_type": "markdown",
   "id": "b6aa528e",
   "metadata": {},
   "source": [
    "# Expressions"
   ]
  },
  {
   "cell_type": "code",
   "execution_count": 11,
   "id": "78546f01",
   "metadata": {},
   "outputs": [
    {
     "data": {
      "image/png": "[encoded data removed]",
      "text/latex": [
       "$\\displaystyle a + b - x$"
      ],
      "text/plain": [
       "a + b - x"
      ]
     },
     "execution_count": 11,
     "metadata": {},
     "output_type": "execute_result"
    }
   ],
   "source": [
    "expr1 = a + b - x\n",
    "expr1"
   ]
  },
  {
   "cell_type": "code",
   "execution_count": 12,
   "id": "a5bbcfef",
   "metadata": {},
   "outputs": [
    {
     "data": {
      "image/png": "[encoded data removed]",
      "text/latex": [
       "$\\displaystyle \\frac{a}{b} + f{\\left(t \\right)} + 2 f{\\left(x,y,z \\right)}$"
      ],
      "text/plain": [
       "a                      \n",
       "─ + f(t) + 2⋅f(x, y, z)\n",
       "b                      "
      ]
     },
     "execution_count": 12,
     "metadata": {},
     "output_type": "execute_result"
    }
   ],
   "source": [
    "expr2 = f(t) + 2*f(x, y, z) + a/b\n",
    "expr2"
   ]
  },
  {
   "cell_type": "code",
   "execution_count": 13,
   "id": "936ad1dc",
   "metadata": {},
   "outputs": [
    {
     "data": {
      "image/png": "[encoded data removed]",
      "text/latex": [
       "$\\displaystyle \\sin{\\left(f{\\left(t \\right)} \\right)} - \\frac{\\tan{\\left(\\frac{a}{b} \\right)}}{\\log{\\left(\\gamma \\right)}}$"
      ],
      "text/plain": [
       "               ⎛a⎞\n",
       "            tan⎜─⎟\n",
       "               ⎝b⎠\n",
       "sin(f(t)) - ──────\n",
       "            log(γ)"
      ]
     },
     "execution_count": 13,
     "metadata": {},
     "output_type": "execute_result"
    }
   ],
   "source": [
    "expr3 = sm.sin(f(t)) - sm.tan(a/b)/sm.log(gamma)\n",
    "expr3"
   ]
  },
  {
   "cell_type": "markdown",
   "id": "df99b8c5",
   "metadata": {},
   "source": [
    "# Printing"
   ]
  },
  {
   "cell_type": "code",
   "execution_count": 14,
   "id": "2fb02520",
   "metadata": {},
   "outputs": [
    {
     "name": "stdout",
     "output_type": "stream",
     "text": [
      "sin(f(t)) - tan(a/b)/log(gamma)\n"
     ]
    }
   ],
   "source": [
    "print(expr3)"
   ]
  },
  {
   "cell_type": "code",
   "execution_count": 17,
   "id": "f9e56b8e",
   "metadata": {},
   "outputs": [
    {
     "data": {
      "text/plain": [
       "'sin(f(t)) - tan(a/b)/log(gamma)'"
      ]
     },
     "execution_count": 17,
     "metadata": {},
     "output_type": "execute_result"
    }
   ],
   "source": [
    "repr(expr3)"
   ]
  },
  {
   "cell_type": "code",
   "execution_count": 18,
   "id": "7c65c441",
   "metadata": {},
   "outputs": [
    {
     "data": {
      "text/plain": [
       "\"Add(Symbol('a'), Symbol('b'), Mul(Integer(-1), Symbol('x')))\""
      ]
     },
     "execution_count": 18,
     "metadata": {},
     "output_type": "execute_result"
    }
   ],
   "source": [
    "sm.srepr(expr1)"
   ]
  },
  {
   "cell_type": "code",
   "execution_count": 19,
   "id": "759b9349",
   "metadata": {},
   "outputs": [
    {
     "name": "stdout",
     "output_type": "stream",
     "text": [
      "               ⎛a⎞\n",
      "            tan⎜─⎟\n",
      "               ⎝b⎠\n",
      "sin(f(t)) - ──────\n",
      "            log(γ)\n"
     ]
    }
   ],
   "source": [
    "sm.pprint(expr3)"
   ]
  },
  {
   "cell_type": "code",
   "execution_count": 20,
   "id": "c681823e",
   "metadata": {},
   "outputs": [
    {
     "name": "stdout",
     "output_type": "stream",
     "text": [
      "\\sin{\\left(f{\\left(t \\right)} \\right)} - \\frac{\\tan{\\left(\\frac{a}{b} \\right)}}{\\log{\\left(\\gamma \\right)}}\n"
     ]
    }
   ],
   "source": [
    "print(sm.latex(expr3))"
   ]
  },
  {
   "cell_type": "code",
   "execution_count": 21,
   "id": "faafdfdd",
   "metadata": {},
   "outputs": [
    {
     "data": {
      "text/plain": [
       "'a + b - x'"
      ]
     },
     "execution_count": 21,
     "metadata": {},
     "output_type": "execute_result"
    }
   ],
   "source": [
    "sm.ccode(expr1)"
   ]
  },
  {
   "cell_type": "code",
   "execution_count": 22,
   "id": "ce6d1275",
   "metadata": {},
   "outputs": [
    {
     "name": "stdout",
     "output_type": "stream",
     "text": [
      "% Not supported in Octave:\n",
      "% f\n",
      "sin(f(t)) - tan(a./b)./log(gamma)\n"
     ]
    }
   ],
   "source": [
    "print(sm.octave_code(expr3))"
   ]
  },
  {
   "cell_type": "markdown",
   "id": "4588ce6b",
   "metadata": {},
   "source": [
    "# Derivatives"
   ]
  },
  {
   "cell_type": "code",
   "execution_count": 23,
   "id": "c0f265f6",
   "metadata": {},
   "outputs": [
    {
     "data": {
      "image/png": "[encoded data removed]",
      "text/latex": [
       "$\\displaystyle \\sin{\\left(f{\\left(t \\right)} \\right)} - \\frac{\\tan{\\left(\\frac{a}{b} \\right)}}{\\log{\\left(\\gamma \\right)}}$"
      ],
      "text/plain": [
       "               ⎛a⎞\n",
       "            tan⎜─⎟\n",
       "               ⎝b⎠\n",
       "sin(f(t)) - ──────\n",
       "            log(γ)"
      ]
     },
     "execution_count": 23,
     "metadata": {},
     "output_type": "execute_result"
    }
   ],
   "source": [
    "expr3"
   ]
  },
  {
   "cell_type": "code",
   "execution_count": 27,
   "id": "c234c446",
   "metadata": {},
   "outputs": [
    {
     "data": {
      "image/png": "[encoded data removed]",
      "text/latex": [
       "$\\displaystyle - \\frac{\\tan^{2}{\\left(\\frac{a}{b} \\right)} + 1}{b \\log{\\left(\\gamma \\right)}}$"
      ],
      "text/plain": [
       " ⎛   2⎛a⎞    ⎞ \n",
       "-⎜tan ⎜─⎟ + 1⎟ \n",
       " ⎝    ⎝b⎠    ⎠ \n",
       "───────────────\n",
       "    b⋅log(γ)   "
      ]
     },
     "execution_count": 27,
     "metadata": {},
     "output_type": "execute_result"
    }
   ],
   "source": [
    "sm.diff(expr3, a)"
   ]
  },
  {
   "cell_type": "code",
   "execution_count": 28,
   "id": "cb59f599",
   "metadata": {},
   "outputs": [],
   "source": [
    "part1 = sm.diff(expr3, a)"
   ]
  },
  {
   "cell_type": "code",
   "execution_count": 29,
   "id": "e4c0e981",
   "metadata": {},
   "outputs": [],
   "source": [
    "part2 = sm.diff(part1, b)"
   ]
  },
  {
   "cell_type": "code",
   "execution_count": 30,
   "id": "f3ff8f24",
   "metadata": {},
   "outputs": [
    {
     "data": {
      "image/png": "[encoded data removed]",
      "text/latex": [
       "$\\displaystyle \\frac{2 a \\left(\\tan^{2}{\\left(\\frac{a}{b} \\right)} + 1\\right) \\tan{\\left(\\frac{a}{b} \\right)}}{b^{3} \\log{\\left(\\gamma \\right)}} + \\frac{\\tan^{2}{\\left(\\frac{a}{b} \\right)} + 1}{b^{2} \\log{\\left(\\gamma \\right)}}$"
      ],
      "text/plain": [
       "    ⎛   2⎛a⎞    ⎞    ⎛a⎞      2⎛a⎞    \n",
       "2⋅a⋅⎜tan ⎜─⎟ + 1⎟⋅tan⎜─⎟   tan ⎜─⎟ + 1\n",
       "    ⎝    ⎝b⎠    ⎠    ⎝b⎠       ⎝b⎠    \n",
       "──────────────────────── + ───────────\n",
       "        3                    2        \n",
       "       b ⋅log(γ)            b ⋅log(γ) "
      ]
     },
     "execution_count": 30,
     "metadata": {},
     "output_type": "execute_result"
    }
   ],
   "source": [
    "part2"
   ]
  },
  {
   "cell_type": "code",
   "execution_count": 31,
   "id": "a58f6ff1",
   "metadata": {},
   "outputs": [
    {
     "data": {
      "image/png": "[encoded data removed]",
      "text/latex": [
       "$\\displaystyle - \\frac{\\tan^{2}{\\left(\\frac{a}{b} \\right)} + 1}{b \\log{\\left(\\gamma \\right)}}$"
      ],
      "text/plain": [
       " ⎛   2⎛a⎞    ⎞ \n",
       "-⎜tan ⎜─⎟ + 1⎟ \n",
       " ⎝    ⎝b⎠    ⎠ \n",
       "───────────────\n",
       "    b⋅log(γ)   "
      ]
     },
     "execution_count": 31,
     "metadata": {},
     "output_type": "execute_result"
    }
   ],
   "source": [
    "expr3.diff(a)"
   ]
  },
  {
   "cell_type": "code",
   "execution_count": 32,
   "id": "dbf40d49",
   "metadata": {},
   "outputs": [
    {
     "data": {
      "image/png": "[encoded data removed]",
      "text/latex": [
       "$\\displaystyle \\cos{\\left(f{\\left(t \\right)} \\right)} \\frac{d}{d t} f{\\left(t \\right)}$"
      ],
      "text/plain": [
       "          d       \n",
       "cos(f(t))⋅──(f(t))\n",
       "          dt      "
      ]
     },
     "execution_count": 32,
     "metadata": {},
     "output_type": "execute_result"
    }
   ],
   "source": [
    "expr3.diff(t)"
   ]
  },
  {
   "cell_type": "code",
   "execution_count": 33,
   "id": "9f69d937",
   "metadata": {},
   "outputs": [
    {
     "data": {
      "image/png": "[encoded data removed]",
      "text/latex": [
       "$\\displaystyle - \\sin{\\left(f{\\left(t \\right)} \\right)} \\left(\\frac{d}{d t} f{\\left(t \\right)}\\right)^{2} + \\cos{\\left(f{\\left(t \\right)} \\right)} \\frac{d^{2}}{d t^{2}} f{\\left(t \\right)}$"
      ],
      "text/plain": [
       "                      2               2      \n",
       "            ⎛d       ⎞               d       \n",
       "- sin(f(t))⋅⎜──(f(t))⎟  + cos(f(t))⋅───(f(t))\n",
       "            ⎝dt      ⎠                2      \n",
       "                                    dt       "
      ]
     },
     "execution_count": 33,
     "metadata": {},
     "output_type": "execute_result"
    }
   ],
   "source": [
    "expr3.diff(t, 2)"
   ]
  },
  {
   "cell_type": "code",
   "execution_count": 34,
   "id": "0bf0e047",
   "metadata": {},
   "outputs": [
    {
     "data": {
      "image/png": "[encoded data removed]",
      "text/latex": [
       "$\\displaystyle - \\sin{\\left(f{\\left(t \\right)} \\right)} \\left(\\frac{d}{d t} f{\\left(t \\right)}\\right)^{2} + \\cos{\\left(f{\\left(t \\right)} \\right)} \\frac{d^{2}}{d t^{2}} f{\\left(t \\right)}$"
      ],
      "text/plain": [
       "                      2               2      \n",
       "            ⎛d       ⎞               d       \n",
       "- sin(f(t))⋅⎜──(f(t))⎟  + cos(f(t))⋅───(f(t))\n",
       "            ⎝dt      ⎠                2      \n",
       "                                    dt       "
      ]
     },
     "execution_count": 34,
     "metadata": {},
     "output_type": "execute_result"
    }
   ],
   "source": [
    "expr3.diff(t).diff(t)"
   ]
  },
  {
   "cell_type": "markdown",
   "id": "14c45297",
   "metadata": {},
   "source": [
    "# Numerical Evaluation"
   ]
  },
  {
   "cell_type": "code",
   "execution_count": 35,
   "id": "fdd4500f",
   "metadata": {},
   "outputs": [
    {
     "data": {
      "image/png": "[encoded data removed]",
      "text/latex": [
       "$\\displaystyle a + b - x$"
      ],
      "text/plain": [
       "a + b - x"
      ]
     },
     "execution_count": 35,
     "metadata": {},
     "output_type": "execute_result"
    }
   ],
   "source": [
    "expr1"
   ]
  },
  {
   "cell_type": "code",
   "execution_count": 38,
   "id": "2284c8b5",
   "metadata": {},
   "outputs": [
    {
     "data": {
      "image/png": "[encoded data removed]",
      "text/latex": [
       "$\\displaystyle \\left\\{ a : 5, \\  b : -38, \\  x : 102\\right\\}$"
      ],
      "text/plain": [
       "{a: 5, b: -38, x: 102}"
      ]
     },
     "execution_count": 38,
     "metadata": {},
     "output_type": "execute_result"
    }
   ],
   "source": [
    "repl = {a: 5, b: -38, x: 102}\n",
    "repl"
   ]
  },
  {
   "cell_type": "code",
   "execution_count": 39,
   "id": "daa6af7e",
   "metadata": {},
   "outputs": [
    {
     "data": {
      "image/png": "[encoded data removed]",
      "text/latex": [
       "$\\displaystyle -135$"
      ],
      "text/plain": [
       "-135"
      ]
     },
     "execution_count": 39,
     "metadata": {},
     "output_type": "execute_result"
    }
   ],
   "source": [
    "expr1.subs(repl)"
   ]
  },
  {
   "cell_type": "code",
   "execution_count": 40,
   "id": "ab78d16c",
   "metadata": {},
   "outputs": [
    {
     "data": {
      "image/png": "[encoded data removed]",
      "text/latex": [
       "$\\displaystyle -135$"
      ],
      "text/plain": [
       "-135"
      ]
     },
     "execution_count": 40,
     "metadata": {},
     "output_type": "execute_result"
    }
   ],
   "source": [
    "expr1.xreplace(repl)"
   ]
  },
  {
   "cell_type": "code",
   "execution_count": 41,
   "id": "8e5989a4",
   "metadata": {},
   "outputs": [
    {
     "data": {
      "text/plain": [
       "sympy.core.numbers.Integer"
      ]
     },
     "execution_count": 41,
     "metadata": {},
     "output_type": "execute_result"
    }
   ],
   "source": [
    "type(expr1.subs(repl))"
   ]
  },
  {
   "cell_type": "code",
   "execution_count": 45,
   "id": "a005bbbf",
   "metadata": {},
   "outputs": [
    {
     "data": {
      "text/plain": [
       "int"
      ]
     },
     "execution_count": 45,
     "metadata": {},
     "output_type": "execute_result"
    }
   ],
   "source": [
    "type(-135)"
   ]
  },
  {
   "cell_type": "code",
   "execution_count": 46,
   "id": "95389870",
   "metadata": {},
   "outputs": [
    {
     "data": {
      "text/plain": [
       "int"
      ]
     },
     "execution_count": 46,
     "metadata": {},
     "output_type": "execute_result"
    }
   ],
   "source": [
    "type(int(expr1.subs(repl)))"
   ]
  },
  {
   "cell_type": "code",
   "execution_count": 48,
   "id": "fb59527d",
   "metadata": {},
   "outputs": [
    {
     "data": {
      "image/png": "[encoded data removed]",
      "text/latex": [
       "$\\displaystyle \\sin{\\left(x y \\right)} + \\frac{\\pi}{4}$"
      ],
      "text/plain": [
       "           π\n",
       "sin(x⋅y) + ─\n",
       "           4"
      ]
     },
     "execution_count": 48,
     "metadata": {},
     "output_type": "execute_result"
    }
   ],
   "source": [
    "expr4 = sm.pi/4 + sm.sin(x*y)\n",
    "expr4"
   ]
  },
  {
   "cell_type": "code",
   "execution_count": 49,
   "id": "0eb29c9c",
   "metadata": {},
   "outputs": [
    {
     "data": {
      "image/png": "[encoded data removed]",
      "text/latex": [
       "$\\displaystyle \\sin{\\left(288 \\right)} + \\frac{\\pi}{4}$"
      ],
      "text/plain": [
       "           π\n",
       "sin(288) + ─\n",
       "           4"
      ]
     },
     "execution_count": 49,
     "metadata": {},
     "output_type": "execute_result"
    }
   ],
   "source": [
    "expr4.xreplace({x: 12, y: 24})"
   ]
  },
  {
   "cell_type": "code",
   "execution_count": 50,
   "id": "abf78492",
   "metadata": {},
   "outputs": [
    {
     "data": {
      "image/png": "[encoded data removed]",
      "text/latex": [
       "$\\displaystyle \\sin{\\left(x y \\right)} + 0.785398163397448$"
      ],
      "text/plain": [
       "sin(x⋅y) + 0.785398163397448"
      ]
     },
     "execution_count": 50,
     "metadata": {},
     "output_type": "execute_result"
    }
   ],
   "source": [
    "expr4.evalf()"
   ]
  },
  {
   "cell_type": "code",
   "execution_count": 51,
   "id": "ddb3c0bd",
   "metadata": {},
   "outputs": [
    {
     "data": {
      "image/png": "[encoded data removed]",
      "text/latex": [
       "$\\displaystyle -0.0701062073533724$"
      ],
      "text/plain": [
       "-0.0701062073533724"
      ]
     },
     "execution_count": 51,
     "metadata": {},
     "output_type": "execute_result"
    }
   ],
   "source": [
    "expr4.evalf(subs={x: 12, y:24})"
   ]
  },
  {
   "cell_type": "code",
   "execution_count": 53,
   "id": "ba4856dd",
   "metadata": {},
   "outputs": [
    {
     "data": {
      "text/plain": [
       "sympy.core.numbers.Float"
      ]
     },
     "execution_count": 53,
     "metadata": {},
     "output_type": "execute_result"
    }
   ],
   "source": [
    "type(expr4.evalf(subs={x: 12, y:24}))"
   ]
  },
  {
   "cell_type": "code",
   "execution_count": 55,
   "id": "d32d3a7d",
   "metadata": {},
   "outputs": [
    {
     "data": {
      "text/plain": [
       "float"
      ]
     },
     "execution_count": 55,
     "metadata": {},
     "output_type": "execute_result"
    }
   ],
   "source": [
    "type(float(expr4.evalf(subs={x: 12, y:24})))"
   ]
  },
  {
   "cell_type": "code",
   "execution_count": 63,
   "id": "1f95694e",
   "metadata": {},
   "outputs": [
    {
     "data": {
      "image/png": "[encoded data removed]",
      "text/latex": [
       "$\\displaystyle -0.07010620735337240321633313123949761691181020091262103754630252206548341265598054115909131382764753916488727684921679546171469168461746487648856411947681544002058064248190662729440616469355568284719485815650670168498556178871371027310108756713107497658139677081626989340648214526244617829001169891603710869503141612789202229086348920322307922870030871085662165056628887113326901086221700377472960826547188980181261135656490139188526361309735597929993844898585732336158334404295435129290298660541812802169533001514578982960483305334211165736133351140602420603251575896924501182754896311217746043812620689020309061627385868788099324412141924249010328414611299497782331504237661976119505005361730137556571519175665095760554430276398634436128905140816718401148263708978632663679684066905583280305049151192002531573436116696799059278763925495571520392832511528109951566102983842122101473595552976408695946122686597743958154357398022862969517482866310623929763677697143408761063196692186077953761223696646435$"
      ],
      "text/plain": [
       "-0.070106207353372403216333131239497616911810200912621037546302522065483412655\n",
       "980541159091313827647539164887276849216795461714691684617464876488564119476815\n",
       "440020580642481906627294406164693555682847194858156506701684985561788713710273\n",
       "101087567131074976581396770816269893406482145262446178290011698916037108695031\n",
       "416127892022290863489203223079228700308710856621650566288871133269010862217003\n",
       "774729608265471889801812611356564901391885263613097355979299938448985857323361\n",
       "583344042954351292902986605418128021695330015145789829604833053342111657361333\n",
       "511406024206032515758969245011827548963112177460438126206890203090616273858687\n",
       "880993244121419242490103284146112994977823315042376619761195050053617301375565\n",
       "715191756650957605544302763986344361289051408167184011482637089786326636796840\n",
       "669055832803050491511920025315734361166967990592787639254955715203928325115281\n",
       "099515661029838421221014735955529764086959461226865977439581543573980228629695\n",
       "17482866310623929763677697143408761063196692186077953761223696646435"
      ]
     },
     "execution_count": 63,
     "metadata": {},
     "output_type": "execute_result"
    }
   ],
   "source": [
    "expr4.evalf(subs={x: 12, y:24}, n=1000)"
   ]
  },
  {
   "cell_type": "code",
   "execution_count": 64,
   "id": "2b2facb3",
   "metadata": {},
   "outputs": [
    {
     "data": {
      "image/png": "[encoded data removed]",
      "text/latex": [
       "$\\displaystyle a + b - x$"
      ],
      "text/plain": [
       "a + b - x"
      ]
     },
     "execution_count": 64,
     "metadata": {},
     "output_type": "execute_result"
    }
   ],
   "source": [
    "expr1"
   ]
  },
  {
   "cell_type": "code",
   "execution_count": 67,
   "id": "0f416e11",
   "metadata": {},
   "outputs": [],
   "source": [
    "eval_expr1 = sm.lambdify((a, b, x), expr1)"
   ]
  },
  {
   "cell_type": "code",
   "execution_count": 68,
   "id": "3f3ed33b",
   "metadata": {},
   "outputs": [
    {
     "data": {
      "image/png": "[encoded data removed]",
      "text/latex": [
       "$\\displaystyle 48.3$"
      ],
      "text/plain": [
       "48.3"
      ]
     },
     "execution_count": 68,
     "metadata": {},
     "output_type": "execute_result"
    }
   ],
   "source": [
    "eval_expr1(12.0, 34.3, -2.0)"
   ]
  },
  {
   "cell_type": "code",
   "execution_count": 61,
   "id": "885c60ee",
   "metadata": {},
   "outputs": [
    {
     "data": {
      "text/plain": [
       "float"
      ]
     },
     "execution_count": 61,
     "metadata": {},
     "output_type": "execute_result"
    }
   ],
   "source": [
    "type(eval_expr1(12.0, 34.3, -2.0))"
   ]
  },
  {
   "cell_type": "markdown",
   "id": "3e22f2ea",
   "metadata": {},
   "source": [
    "# Matrices & Linear Algebra"
   ]
  },
  {
   "cell_type": "code",
   "execution_count": 69,
   "id": "da02a82e",
   "metadata": {},
   "outputs": [
    {
     "data": {
      "text/latex": [
       "$\\displaystyle \\left[\\begin{matrix}1 & 2\\\\3 & 4\\end{matrix}\\right]$"
      ],
      "text/plain": [
       "⎡1  2⎤\n",
       "⎢    ⎥\n",
       "⎣3  4⎦"
      ]
     },
     "execution_count": 69,
     "metadata": {},
     "output_type": "execute_result"
    }
   ],
   "source": [
    "mat1 = sm.Matrix([[1, 2], [3, 4]])\n",
    "mat1"
   ]
  },
  {
   "cell_type": "code",
   "execution_count": 70,
   "id": "1cdf857e",
   "metadata": {},
   "outputs": [
    {
     "data": {
      "image/png": "[encoded data removed]",
      "text/latex": [
       "$\\displaystyle \\left( 2, \\  2\\right)$"
      ],
      "text/plain": [
       "(2, 2)"
      ]
     },
     "execution_count": 70,
     "metadata": {},
     "output_type": "execute_result"
    }
   ],
   "source": [
    "mat1.shape"
   ]
  },
  {
   "cell_type": "code",
   "execution_count": 71,
   "id": "8e0b4aa9",
   "metadata": {},
   "outputs": [
    {
     "data": {
      "image/png": "[encoded data removed]",
      "text/latex": [
       "$\\displaystyle -2$"
      ],
      "text/plain": [
       "-2"
      ]
     },
     "execution_count": 71,
     "metadata": {},
     "output_type": "execute_result"
    }
   ],
   "source": [
    "mat1.det()"
   ]
  },
  {
   "cell_type": "code",
   "execution_count": 72,
   "id": "b8c1b7bf",
   "metadata": {},
   "outputs": [
    {
     "data": {
      "text/latex": [
       "$\\displaystyle \\left[\\begin{matrix}a + b - x & \\frac{a}{b} + f{\\left(t \\right)} + 2 f{\\left(x,y,z \\right)}\\\\\\sin{\\left(f{\\left(t \\right)} \\right)} - \\frac{\\tan{\\left(\\frac{a}{b} \\right)}}{\\log{\\left(\\gamma \\right)}} & \\sin{\\left(x y \\right)} + \\frac{\\pi}{4}\\end{matrix}\\right]$"
      ],
      "text/plain": [
       "⎡                    a                      ⎤\n",
       "⎢    a + b - x       ─ + f(t) + 2⋅f(x, y, z)⎥\n",
       "⎢                    b                      ⎥\n",
       "⎢                                           ⎥\n",
       "⎢               ⎛a⎞                         ⎥\n",
       "⎢            tan⎜─⎟                         ⎥\n",
       "⎢               ⎝b⎠                  π      ⎥\n",
       "⎢sin(f(t)) - ──────       sin(x⋅y) + ─      ⎥\n",
       "⎣            log(γ)                  4      ⎦"
      ]
     },
     "execution_count": 72,
     "metadata": {},
     "output_type": "execute_result"
    }
   ],
   "source": [
    "mat2 = sm.Matrix([[expr1, expr2], [expr3, expr4]])\n",
    "mat2"
   ]
  },
  {
   "cell_type": "code",
   "execution_count": 73,
   "id": "ffd276b6",
   "metadata": {},
   "outputs": [
    {
     "data": {
      "text/latex": [
       "$\\displaystyle \\left[\\begin{matrix}0 & \\frac{d}{d t} f{\\left(t \\right)}\\\\\\cos{\\left(f{\\left(t \\right)} \\right)} \\frac{d}{d t} f{\\left(t \\right)} & 0\\end{matrix}\\right]$"
      ],
      "text/plain": [
       "⎡                    d       ⎤\n",
       "⎢        0           ──(f(t))⎥\n",
       "⎢                    dt      ⎥\n",
       "⎢                            ⎥\n",
       "⎢          d                 ⎥\n",
       "⎢cos(f(t))⋅──(f(t))     0    ⎥\n",
       "⎣          dt                ⎦"
      ]
     },
     "execution_count": 73,
     "metadata": {},
     "output_type": "execute_result"
    }
   ],
   "source": [
    "mat2.diff(t)"
   ]
  },
  {
   "cell_type": "code",
   "execution_count": 74,
   "id": "6c667987",
   "metadata": {},
   "outputs": [
    {
     "data": {
      "text/latex": [
       "$\\displaystyle \\left[\\begin{matrix}a + b - x + 1 & \\frac{a}{b} + f{\\left(t \\right)} + 2 f{\\left(x,y,z \\right)} + 2\\\\\\sin{\\left(f{\\left(t \\right)} \\right)} + 3 - \\frac{\\tan{\\left(\\frac{a}{b} \\right)}}{\\log{\\left(\\gamma \\right)}} & \\sin{\\left(x y \\right)} + \\frac{\\pi}{4} + 4\\end{matrix}\\right]$"
      ],
      "text/plain": [
       "⎡                        a                          ⎤\n",
       "⎢    a + b - x + 1       ─ + f(t) + 2⋅f(x, y, z) + 2⎥\n",
       "⎢                        b                          ⎥\n",
       "⎢                                                   ⎥\n",
       "⎢                   ⎛a⎞                             ⎥\n",
       "⎢                tan⎜─⎟                             ⎥\n",
       "⎢                   ⎝b⎠                  π          ⎥\n",
       "⎢sin(f(t)) + 3 - ──────       sin(x⋅y) + ─ + 4      ⎥\n",
       "⎣                log(γ)                  4          ⎦"
      ]
     },
     "execution_count": 74,
     "metadata": {},
     "output_type": "execute_result"
    }
   ],
   "source": [
    "mat1 + mat2"
   ]
  },
  {
   "cell_type": "code",
   "execution_count": 75,
   "id": "bcbeee28",
   "metadata": {},
   "outputs": [
    {
     "data": {
      "text/latex": [
       "$\\displaystyle \\left[\\begin{matrix}a + b - x + 2 \\sin{\\left(f{\\left(t \\right)} \\right)} - \\frac{2 \\tan{\\left(\\frac{a}{b} \\right)}}{\\log{\\left(\\gamma \\right)}} & \\frac{a}{b} + f{\\left(t \\right)} + 2 f{\\left(x,y,z \\right)} + 2 \\sin{\\left(x y \\right)} + \\frac{\\pi}{2}\\\\3 a + 3 b - 3 x + 4 \\sin{\\left(f{\\left(t \\right)} \\right)} - \\frac{4 \\tan{\\left(\\frac{a}{b} \\right)}}{\\log{\\left(\\gamma \\right)}} & \\frac{3 a}{b} + 3 f{\\left(t \\right)} + 6 f{\\left(x,y,z \\right)} + 4 \\sin{\\left(x y \\right)} + \\pi\\end{matrix}\\right]$"
      ],
      "text/plain": [
       "⎡                                  ⎛a⎞                                        \n",
       "⎢                             2⋅tan⎜─⎟                                        \n",
       "⎢                                  ⎝b⎠       a                                \n",
       "⎢   a + b - x + 2⋅sin(f(t)) - ────────       ─ + f(t) + 2⋅f(x, y, z) + 2⋅sin(x\n",
       "⎢                              log(γ)        b                                \n",
       "⎢                                                                             \n",
       "⎢                                     ⎛a⎞                                     \n",
       "⎢                                4⋅tan⎜─⎟                                     \n",
       "⎢                                     ⎝b⎠  3⋅a                                \n",
       "⎢3⋅a + 3⋅b - 3⋅x + 4⋅sin(f(t)) - ────────  ─── + 3⋅f(t) + 6⋅f(x, y, z) + 4⋅sin\n",
       "⎣                                 log(γ)    b                                 \n",
       "\n",
       "         ⎤\n",
       "         ⎥\n",
       "      π  ⎥\n",
       "⋅y) + ─  ⎥\n",
       "      2  ⎥\n",
       "         ⎥\n",
       "         ⎥\n",
       "         ⎥\n",
       "         ⎥\n",
       "(x⋅y) + π⎥\n",
       "         ⎦"
      ]
     },
     "execution_count": 75,
     "metadata": {},
     "output_type": "execute_result"
    }
   ],
   "source": [
    "mat1 * mat2"
   ]
  },
  {
   "cell_type": "code",
   "execution_count": 76,
   "id": "7f680309",
   "metadata": {},
   "outputs": [
    {
     "data": {
      "text/latex": [
       "$\\displaystyle \\left[\\begin{matrix}a + b - x & \\frac{2 a}{b} + 2 f{\\left(t \\right)} + 4 f{\\left(x,y,z \\right)}\\\\3 \\sin{\\left(f{\\left(t \\right)} \\right)} - \\frac{3 \\tan{\\left(\\frac{a}{b} \\right)}}{\\log{\\left(\\gamma \\right)}} & 4 \\sin{\\left(x y \\right)} + \\pi\\end{matrix}\\right]$"
      ],
      "text/plain": [
       "⎡                        2⋅a                        ⎤\n",
       "⎢      a + b - x         ─── + 2⋅f(t) + 4⋅f(x, y, z)⎥\n",
       "⎢                         b                         ⎥\n",
       "⎢                                                   ⎥\n",
       "⎢                   ⎛a⎞                             ⎥\n",
       "⎢              3⋅tan⎜─⎟                             ⎥\n",
       "⎢                   ⎝b⎠                             ⎥\n",
       "⎢3⋅sin(f(t)) - ────────        4⋅sin(x⋅y) + π       ⎥\n",
       "⎣               log(γ)                              ⎦"
      ]
     },
     "execution_count": 76,
     "metadata": {},
     "output_type": "execute_result"
    }
   ],
   "source": [
    "sm.hadamard_product(mat1, mat2)"
   ]
  },
  {
   "cell_type": "code",
   "execution_count": 77,
   "id": "d8445d8a",
   "metadata": {},
   "outputs": [
    {
     "data": {
      "text/latex": [
       "$\\displaystyle \\left[\\begin{matrix}7 & 10\\\\15 & 22\\end{matrix}\\right]$"
      ],
      "text/plain": [
       "⎡7   10⎤\n",
       "⎢      ⎥\n",
       "⎣15  22⎦"
      ]
     },
     "execution_count": 77,
     "metadata": {},
     "output_type": "execute_result"
    }
   ],
   "source": [
    "mat1**2"
   ]
  },
  {
   "cell_type": "code",
   "execution_count": 78,
   "id": "5956ed98",
   "metadata": {},
   "outputs": [
    {
     "data": {
      "text/latex": [
       "$\\displaystyle \\left[\\begin{matrix}7 & 10\\\\15 & 22\\end{matrix}\\right]$"
      ],
      "text/plain": [
       "⎡7   10⎤\n",
       "⎢      ⎥\n",
       "⎣15  22⎦"
      ]
     },
     "execution_count": 78,
     "metadata": {},
     "output_type": "execute_result"
    }
   ],
   "source": [
    "mat1 * mat1"
   ]
  },
  {
   "cell_type": "code",
   "execution_count": 79,
   "id": "a9751470",
   "metadata": {},
   "outputs": [
    {
     "data": {
      "text/latex": [
       "$\\displaystyle \\left[\\begin{matrix}1 & 0 & 0 & 0 & 0\\\\0 & 1 & 0 & 0 & 0\\\\0 & 0 & 1 & 0 & 0\\\\0 & 0 & 0 & 1 & 0\\\\0 & 0 & 0 & 0 & 1\\end{matrix}\\right]$"
      ],
      "text/plain": [
       "⎡1  0  0  0  0⎤\n",
       "⎢             ⎥\n",
       "⎢0  1  0  0  0⎥\n",
       "⎢             ⎥\n",
       "⎢0  0  1  0  0⎥\n",
       "⎢             ⎥\n",
       "⎢0  0  0  1  0⎥\n",
       "⎢             ⎥\n",
       "⎣0  0  0  0  1⎦"
      ]
     },
     "execution_count": 79,
     "metadata": {},
     "output_type": "execute_result"
    }
   ],
   "source": [
    "sm.eye(5)"
   ]
  },
  {
   "cell_type": "code",
   "execution_count": 80,
   "id": "0e975e84",
   "metadata": {},
   "outputs": [
    {
     "data": {
      "text/latex": [
       "$\\displaystyle \\left[\\begin{matrix}0 & 0 & 0 & 0\\\\0 & 0 & 0 & 0\\end{matrix}\\right]$"
      ],
      "text/plain": [
       "⎡0  0  0  0⎤\n",
       "⎢          ⎥\n",
       "⎣0  0  0  0⎦"
      ]
     },
     "execution_count": 80,
     "metadata": {},
     "output_type": "execute_result"
    }
   ],
   "source": [
    "sm.zeros(2,4)"
   ]
  },
  {
   "cell_type": "markdown",
   "id": "3593d9af",
   "metadata": {},
   "source": [
    "# Linear systems"
   ]
  },
  {
   "cell_type": "code",
   "execution_count": 85,
   "id": "8f6fa28b",
   "metadata": {},
   "outputs": [
    {
     "data": {
      "image/png": "[encoded data removed]",
      "text/latex": [
       "$\\displaystyle a x + b^{2} y + z \\sin{\\left(\\gamma \\right)}$"
      ],
      "text/plain": [
       "       2             \n",
       "a⋅x + b ⋅y + z⋅sin(γ)"
      ]
     },
     "execution_count": 85,
     "metadata": {},
     "output_type": "execute_result"
    }
   ],
   "source": [
    "lin_expr_1 = a*x + b**2*y + sm.sin(gamma)*z\n",
    "lin_expr_1"
   ]
  },
  {
   "cell_type": "code",
   "execution_count": 86,
   "id": "af158844",
   "metadata": {},
   "outputs": [
    {
     "data": {
      "image/png": "[encoded data removed]",
      "text/latex": [
       "$\\displaystyle x \\sin{\\left(f{\\left(t \\right)} \\right)} + z \\log{\\left(f{\\left(t \\right)} \\right)}$"
      ],
      "text/plain": [
       "x⋅sin(f(t)) + z⋅log(f(t))"
      ]
     },
     "execution_count": 86,
     "metadata": {},
     "output_type": "execute_result"
    }
   ],
   "source": [
    "lin_expr_2 = sm.sin(f(t))*x + sm.log(f(t))*z\n",
    "lin_expr_2"
   ]
  },
  {
   "cell_type": "code",
   "execution_count": 87,
   "id": "9c6051fc",
   "metadata": {},
   "outputs": [
    {
     "data": {
      "image/png": "[encoded data removed]",
      "text/latex": [
       "$\\displaystyle a x + b^{2} y + z \\sin{\\left(\\gamma \\right)} = 0$"
      ],
      "text/plain": [
       "       2                 \n",
       "a⋅x + b ⋅y + z⋅sin(γ) = 0"
      ]
     },
     "execution_count": 87,
     "metadata": {},
     "output_type": "execute_result"
    }
   ],
   "source": [
    "sm.Eq(lin_expr_1, 0)"
   ]
  },
  {
   "cell_type": "code",
   "execution_count": 88,
   "id": "fa7886a3",
   "metadata": {},
   "outputs": [
    {
     "data": {
      "image/png": "[encoded data removed]",
      "text/latex": [
       "$\\displaystyle x \\sin{\\left(f{\\left(t \\right)} \\right)} + z \\log{\\left(f{\\left(t \\right)} \\right)} = 0$"
      ],
      "text/plain": [
       "x⋅sin(f(t)) + z⋅log(f(t)) = 0"
      ]
     },
     "execution_count": 88,
     "metadata": {},
     "output_type": "execute_result"
    }
   ],
   "source": [
    "sm.Eq(lin_expr_2, 0)"
   ]
  },
  {
   "cell_type": "code",
   "execution_count": 89,
   "id": "fc3afc19",
   "metadata": {},
   "outputs": [
    {
     "data": {
      "image/png": "[encoded data removed]",
      "text/latex": [
       "$\\displaystyle \\left[ \\left\\{ x : - \\frac{b^{2} y \\log{\\left(f{\\left(t \\right)} \\right)}}{a \\log{\\left(f{\\left(t \\right)} \\right)} - \\sin{\\left(\\gamma \\right)} \\sin{\\left(f{\\left(t \\right)} \\right)}}, \\  z : \\frac{b^{2} y \\sin{\\left(f{\\left(t \\right)} \\right)}}{a \\log{\\left(f{\\left(t \\right)} \\right)} - \\sin{\\left(\\gamma \\right)} \\sin{\\left(f{\\left(t \\right)} \\right)}}\\right\\}\\right]$"
      ],
      "text/plain": [
       "⎡⎧            2                                  2                    ⎫⎤\n",
       "⎢⎪          -b ⋅y⋅log(f(t))                     b ⋅y⋅sin(f(t))        ⎪⎥\n",
       "⎢⎨x: ──────────────────────────────, z: ──────────────────────────────⎬⎥\n",
       "⎢⎪   a⋅log(f(t)) - sin(γ)⋅sin(f(t))     a⋅log(f(t)) - sin(γ)⋅sin(f(t))⎪⎥\n",
       "⎣⎩                                                                    ⎭⎦"
      ]
     },
     "execution_count": 89,
     "metadata": {},
     "output_type": "execute_result"
    }
   ],
   "source": [
    "res = sm.solve([lin_expr_1, lin_expr_2], x, z, dict=True)\n",
    "res"
   ]
  },
  {
   "cell_type": "code",
   "execution_count": 90,
   "id": "897ce091",
   "metadata": {},
   "outputs": [
    {
     "data": {
      "image/png": "[encoded data removed]",
      "text/latex": [
       "$\\displaystyle \\left\\{ x : - \\frac{b^{2} y \\log{\\left(f{\\left(t \\right)} \\right)}}{a \\log{\\left(f{\\left(t \\right)} \\right)} - \\sin{\\left(\\gamma \\right)} \\sin{\\left(f{\\left(t \\right)} \\right)}}, \\  z : \\frac{b^{2} y \\sin{\\left(f{\\left(t \\right)} \\right)}}{a \\log{\\left(f{\\left(t \\right)} \\right)} - \\sin{\\left(\\gamma \\right)} \\sin{\\left(f{\\left(t \\right)} \\right)}}\\right\\}$"
      ],
      "text/plain": [
       "⎧            2                                  2                    ⎫\n",
       "⎪          -b ⋅y⋅log(f(t))                     b ⋅y⋅sin(f(t))        ⎪\n",
       "⎨x: ──────────────────────────────, z: ──────────────────────────────⎬\n",
       "⎪   a⋅log(f(t)) - sin(γ)⋅sin(f(t))     a⋅log(f(t)) - sin(γ)⋅sin(f(t))⎪\n",
       "⎩                                                                    ⎭"
      ]
     },
     "execution_count": 90,
     "metadata": {},
     "output_type": "execute_result"
    }
   ],
   "source": [
    "res_dict = res[0]\n",
    "res_dict"
   ]
  },
  {
   "cell_type": "code",
   "execution_count": 91,
   "id": "9c533bbf",
   "metadata": {},
   "outputs": [
    {
     "data": {
      "image/png": "[encoded data removed]",
      "text/latex": [
       "$\\displaystyle x = - \\frac{b^{2} y \\log{\\left(f{\\left(t \\right)} \\right)}}{a \\log{\\left(f{\\left(t \\right)} \\right)} - \\sin{\\left(\\gamma \\right)} \\sin{\\left(f{\\left(t \\right)} \\right)}}$"
      ],
      "text/plain": [
       "             2                    \n",
       "           -b ⋅y⋅log(f(t))        \n",
       "x = ──────────────────────────────\n",
       "    a⋅log(f(t)) - sin(γ)⋅sin(f(t))"
      ]
     },
     "execution_count": 91,
     "metadata": {},
     "output_type": "execute_result"
    }
   ],
   "source": [
    "sm.Eq(x, res_dict[x])"
   ]
  },
  {
   "cell_type": "code",
   "execution_count": 92,
   "id": "c6185d3f",
   "metadata": {},
   "outputs": [
    {
     "data": {
      "text/latex": [
       "$\\displaystyle \\left[\\begin{matrix}a x + b^{2} y + z \\sin{\\left(\\gamma \\right)}\\\\x \\sin{\\left(f{\\left(t \\right)} \\right)} + z \\log{\\left(f{\\left(t \\right)} \\right)}\\end{matrix}\\right]$"
      ],
      "text/plain": [
       "⎡         2               ⎤\n",
       "⎢  a⋅x + b ⋅y + z⋅sin(γ)  ⎥\n",
       "⎢                         ⎥\n",
       "⎣x⋅sin(f(t)) + z⋅log(f(t))⎦"
      ]
     },
     "execution_count": 92,
     "metadata": {},
     "output_type": "execute_result"
    }
   ],
   "source": [
    "lin_mat_exprs = sm.Matrix([lin_expr_1, lin_expr_2])\n",
    "lin_mat_exprs"
   ]
  },
  {
   "cell_type": "code",
   "execution_count": 93,
   "id": "45cd87dd",
   "metadata": {},
   "outputs": [
    {
     "data": {
      "text/latex": [
       "$\\displaystyle \\left[\\begin{matrix}a & \\sin{\\left(\\gamma \\right)}\\\\\\sin{\\left(f{\\left(t \\right)} \\right)} & \\log{\\left(f{\\left(t \\right)} \\right)}\\end{matrix}\\right]$"
      ],
      "text/plain": [
       "⎡    a       sin(γ)  ⎤\n",
       "⎢                    ⎥\n",
       "⎣sin(f(t))  log(f(t))⎦"
      ]
     },
     "execution_count": 93,
     "metadata": {},
     "output_type": "execute_result"
    }
   ],
   "source": [
    "A = lin_mat_exprs.jacobian([x, z])\n",
    "A"
   ]
  },
  {
   "cell_type": "code",
   "execution_count": 94,
   "id": "94b14a5f",
   "metadata": {},
   "outputs": [
    {
     "data": {
      "text/latex": [
       "$\\displaystyle \\left[\\begin{matrix}- b^{2} y\\\\0\\end{matrix}\\right]$"
      ],
      "text/plain": [
       "⎡  2  ⎤\n",
       "⎢-b ⋅y⎥\n",
       "⎢     ⎥\n",
       "⎣  0  ⎦"
      ]
     },
     "execution_count": 94,
     "metadata": {},
     "output_type": "execute_result"
    }
   ],
   "source": [
    "b = -lin_mat_exprs.xreplace({x: 0, z: 0})\n",
    "b"
   ]
  },
  {
   "cell_type": "code",
   "execution_count": 95,
   "id": "1ab6ab6b",
   "metadata": {},
   "outputs": [
    {
     "data": {
      "text/latex": [
       "$\\displaystyle \\left[\\begin{matrix}\\frac{- b^{2} y - \\frac{b^{2} y \\sin{\\left(\\gamma \\right)} \\sin{\\left(f{\\left(t \\right)} \\right)}}{a \\left(\\log{\\left(f{\\left(t \\right)} \\right)} - \\frac{\\sin{\\left(\\gamma \\right)} \\sin{\\left(f{\\left(t \\right)} \\right)}}{a}\\right)}}{a}\\\\\\frac{b^{2} y \\sin{\\left(f{\\left(t \\right)} \\right)}}{a \\left(\\log{\\left(f{\\left(t \\right)} \\right)} - \\frac{\\sin{\\left(\\gamma \\right)} \\sin{\\left(f{\\left(t \\right)} \\right)}}{a}\\right)}\\end{matrix}\\right]$"
      ],
      "text/plain": [
       "⎡               2                         ⎤\n",
       "⎢   2          b ⋅y⋅sin(γ)⋅sin(f(t))      ⎥\n",
       "⎢- b ⋅y - ────────────────────────────────⎥\n",
       "⎢           ⎛            sin(γ)⋅sin(f(t))⎞⎥\n",
       "⎢         a⋅⎜log(f(t)) - ────────────────⎟⎥\n",
       "⎢           ⎝                   a        ⎠⎥\n",
       "⎢─────────────────────────────────────────⎥\n",
       "⎢                    a                    ⎥\n",
       "⎢                                         ⎥\n",
       "⎢              2                          ⎥\n",
       "⎢             b ⋅y⋅sin(f(t))              ⎥\n",
       "⎢    ────────────────────────────────     ⎥\n",
       "⎢      ⎛            sin(γ)⋅sin(f(t))⎞     ⎥\n",
       "⎢    a⋅⎜log(f(t)) - ────────────────⎟     ⎥\n",
       "⎣      ⎝                   a        ⎠     ⎦"
      ]
     },
     "execution_count": 95,
     "metadata": {},
     "output_type": "execute_result"
    }
   ],
   "source": [
    "A.LUsolve(b)"
   ]
  },
  {
   "cell_type": "markdown",
   "id": "dcf15511",
   "metadata": {},
   "source": [
    "# Simplification"
   ]
  },
  {
   "cell_type": "code",
   "execution_count": 97,
   "id": "ef8c9c56",
   "metadata": {},
   "outputs": [
    {
     "data": {
      "text/latex": [
       "$\\displaystyle \\left[\\begin{matrix}- \\frac{b^{2} y \\log{\\left(f{\\left(t \\right)} \\right)}}{a \\log{\\left(f{\\left(t \\right)} \\right)} - \\sin{\\left(\\gamma \\right)} \\sin{\\left(f{\\left(t \\right)} \\right)}}\\\\\\frac{b^{2} y \\sin{\\left(f{\\left(t \\right)} \\right)}}{a \\log{\\left(f{\\left(t \\right)} \\right)} - \\sin{\\left(\\gamma \\right)} \\sin{\\left(f{\\left(t \\right)} \\right)}}\\end{matrix}\\right]$"
      ],
      "text/plain": [
       "⎡         2                    ⎤\n",
       "⎢       -b ⋅y⋅log(f(t))        ⎥\n",
       "⎢──────────────────────────────⎥\n",
       "⎢a⋅log(f(t)) - sin(γ)⋅sin(f(t))⎥\n",
       "⎢                              ⎥\n",
       "⎢         2                    ⎥\n",
       "⎢        b ⋅y⋅sin(f(t))        ⎥\n",
       "⎢──────────────────────────────⎥\n",
       "⎣a⋅log(f(t)) - sin(γ)⋅sin(f(t))⎦"
      ]
     },
     "execution_count": 97,
     "metadata": {},
     "output_type": "execute_result"
    }
   ],
   "source": [
    "sm.simplify(A.LUsolve(b))"
   ]
  },
  {
   "cell_type": "code",
   "execution_count": 98,
   "id": "b2f6c472",
   "metadata": {},
   "outputs": [
    {
     "data": {
      "image/png": "[encoded data removed]",
      "text/latex": [
       "$\\displaystyle \\sin^{2}{\\left(\\gamma \\right)} + \\cos^{2}{\\left(\\gamma \\right)}$"
      ],
      "text/plain": [
       "   2         2   \n",
       "sin (γ) + cos (γ)"
      ]
     },
     "execution_count": 98,
     "metadata": {},
     "output_type": "execute_result"
    }
   ],
   "source": [
    "sm.cos(gamma)**2 + sm.sin(gamma)**2"
   ]
  },
  {
   "cell_type": "code",
   "execution_count": 99,
   "id": "860b6fdf",
   "metadata": {},
   "outputs": [
    {
     "data": {
      "image/png": "[encoded data removed]",
      "text/latex": [
       "$\\displaystyle 1$"
      ],
      "text/plain": [
       "1"
      ]
     },
     "execution_count": 99,
     "metadata": {},
     "output_type": "execute_result"
    }
   ],
   "source": [
    "sm.trigsimp(sm.cos(gamma)**2 + sm.sin(gamma)**2)"
   ]
  },
  {
   "cell_type": "code",
   "execution_count": 100,
   "id": "53ffce12",
   "metadata": {},
   "outputs": [],
   "source": [
    "sub_exprs, simp_expr = sm.cse(A.LUsolve(b).diff(t))"
   ]
  },
  {
   "cell_type": "code",
   "execution_count": 101,
   "id": "97bddb91",
   "metadata": {},
   "outputs": [
    {
     "data": {
      "text/latex": [
       "$\\displaystyle \\left[ \\left[\\begin{matrix}x_{0} \\left(- x_{10} x_{11} x_{4} x_{7} - x_{11} x_{12} x_{5}\\right)\\\\x_{10} x_{13} x_{7} + x_{12} x_{13} x_{2}\\end{matrix}\\right]\\right]$"
      ],
      "text/plain": [
       "⎡⎡x₀⋅(-x₁₀⋅x₁₁⋅x₄⋅x₇ - x₁₁⋅x₁₂⋅x₅)⎤⎤\n",
       "⎢⎢                                ⎥⎥\n",
       "⎣⎣    x₁₀⋅x₁₃⋅x₇ + x₁₂⋅x₁₃⋅x₂     ⎦⎦"
      ]
     },
     "execution_count": 101,
     "metadata": {},
     "output_type": "execute_result"
    }
   ],
   "source": [
    "simp_expr"
   ]
  },
  {
   "cell_type": "code",
   "execution_count": 102,
   "id": "f67d051f",
   "metadata": {},
   "outputs": [
    {
     "data": {
      "image/png": "[encoded data removed]",
      "text/latex": [
       "$\\displaystyle \\left[ \\left( x_{0}, \\  \\frac{1}{a}\\right), \\  \\left( x_{1}, \\  f{\\left(t \\right)}\\right), \\  \\left( x_{2}, \\  \\sin{\\left(x_{1} \\right)}\\right), \\  \\left( x_{3}, \\  \\sin{\\left(\\gamma \\right)}\\right), \\  \\left( x_{4}, \\  x_{0} x_{3}\\right), \\  \\left( x_{5}, \\  x_{2} x_{4}\\right), \\  \\left( x_{6}, \\  - x_{5} + \\log{\\left(x_{1} \\right)}\\right), \\  \\left( x_{7}, \\  \\frac{1}{x_{6}}\\right), \\  \\left( x_{8}, \\  \\frac{d}{d t} x_{1}\\right), \\  \\left( x_{9}, \\  \\cos{\\left(x_{1} \\right)}\\right), \\  \\left( x_{10}, \\  x_{8} x_{9}\\right), \\  \\left( x_{11}, \\  b^{2} y\\right), \\  \\left( x_{12}, \\  \\frac{x_{0} x_{3} x_{8} x_{9} - \\frac{x_{8}}{x_{1}}}{x_{6}^{2}}\\right), \\  \\left( x_{13}, \\  x_{0} x_{11}\\right)\\right]$"
      ],
      "text/plain": [
       "⎡                                                                             \n",
       "⎢                                                                             \n",
       "⎢⎛    1⎞                                                                      \n",
       "⎢⎜x₀, ─⎟, (x₁, f(t)), (x₂, sin(x₁)), (x₃, sin(γ)), (x₄, x₀⋅x₃), (x₅, x₂⋅x₄), (\n",
       "⎢⎝    a⎠                                                                      \n",
       "⎣                                                                             \n",
       "\n",
       "                                                                              \n",
       "                                                                              \n",
       "                    ⎛    1 ⎞  ⎛    d     ⎞                               ⎛    \n",
       "x₆, -x₅ + log(x₁)), ⎜x₇, ──⎟, ⎜x₈, ──(x₁)⎟, (x₉, cos(x₁)), (x₁₀, x₈⋅x₉), ⎝x₁₁,\n",
       "                    ⎝    x₆⎠  ⎝    dt    ⎠                                    \n",
       "                                                                              \n",
       "\n",
       "        ⎛                   x₈⎞               ⎤\n",
       "        ⎜     x₀⋅x₃⋅x₈⋅x₉ - ──⎟               ⎥\n",
       "  2  ⎞  ⎜                   x₁⎟               ⎥\n",
       " b ⋅y⎠, ⎜x₁₂, ────────────────⎟, (x₁₃, x₀⋅x₁₁)⎥\n",
       "        ⎜             2       ⎟               ⎥\n",
       "        ⎝           x₆        ⎠               ⎦"
      ]
     },
     "execution_count": 102,
     "metadata": {},
     "output_type": "execute_result"
    }
   ],
   "source": [
    "sub_exprs"
   ]
  },
  {
   "cell_type": "code",
   "execution_count": null,
   "id": "ba5e38e8",
   "metadata": {},
   "outputs": [],
   "source": []
  }
 ],
 "metadata": {
  "kernelspec": {
   "display_name": "Python 3 (ipykernel)",
   "language": "python",
   "name": "python3"
  },
  "language_info": {
   "codemirror_mode": {
    "name": "ipython",
    "version": 3
   },
   "file_extension": ".py",
   "mimetype": "text/x-python",
   "name": "python",
   "nbconvert_exporter": "python",
   "pygments_lexer": "ipython3",
   "version": "3.10.8"
  }
 },
 "nbformat": 4,
 "nbformat_minor": 5
}
