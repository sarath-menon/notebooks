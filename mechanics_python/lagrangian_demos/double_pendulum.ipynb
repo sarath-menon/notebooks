{
 "cells": [
  {
   "cell_type": "code",
   "execution_count": 41,
   "metadata": {},
   "outputs": [],
   "source": [
    "import sympy as sp\n",
    "import sympy.physics.mechanics as spm\n",
    "from sympy.physics.mechanics import dynamicsymbols\n",
    "from sympy import sin ,cos\n",
    "spm.init_vprinting()\n",
    "\n",
    "L1, L2, M1, M2, I1, I2, g = sp.symbols('L1, L2, M1, M2, I1, I2, g', real=True, positive=True)\n",
    "\n",
    "q  =  spm.dynamicsymbols('theta1 theta2')\n",
    "qd  = spm.dynamicsymbols('theta1 theta2', 1)\n",
    "t  =  sp.Symbol('t')"
   ]
  },
  {
   "cell_type": "markdown",
   "metadata": {},
   "source": [
    "Potential energy"
   ]
  },
  {
   "cell_type": "code",
   "execution_count": 53,
   "metadata": {},
   "outputs": [
    {
     "data": {
      "image/png": "[encoded data removed]",
      "text/latex": [
       "$\\displaystyle - g \\left(L_{1} M_{1} \\cos{\\left(\\theta_{1} \\right)} + L_{1} M_{2} \\cos{\\left(\\theta_{1} \\right)} + L_{2} M_{2} \\cos{\\left(\\theta_{2} \\right)}\\right)$"
      ],
      "text/plain": [
       "-g⋅(L₁⋅M₁⋅cos(θ₁) + L₁⋅M₂⋅cos(θ₁) + L₂⋅M₂⋅cos(θ₂))"
      ]
     },
     "execution_count": 53,
     "metadata": {},
     "output_type": "execute_result"
    }
   ],
   "source": [
    "V = -M1*g*L1*cos(q[0]) - M2*g*( L1*cos(q[0]) + L2*cos(q[1]))\n",
    "V.simplify()"
   ]
  },
  {
   "cell_type": "markdown",
   "metadata": {},
   "source": [
    "Kinetic energy"
   ]
  },
  {
   "cell_type": "code",
   "execution_count": 54,
   "metadata": {},
   "outputs": [
    {
     "data": {
      "image/png": "[encoded data removed]",
      "text/latex": [
       "$\\displaystyle 0.5 L_{1}^{2} M_{1} \\dot{\\theta}_{1}^{2} + 0.5 M_{2} \\left(L_{1}^{2} \\dot{\\theta}_{1}^{2} + 2 L_{1} L_{2} \\cos{\\left(\\theta_{1} - \\theta_{2} \\right)} \\dot{\\theta}_{1} \\dot{\\theta}_{2} + L_{2}^{2} \\dot{\\theta}_{2}^{2}\\right)$"
      ],
      "text/plain": [
       "      2      2          ⎛  2   2                                  2   2⎞\n",
       "0.5⋅L₁ ⋅M₁⋅θ₁̇  + 0.5⋅M₂⋅⎝L₁ ⋅θ₁̇  + 2⋅L₁⋅L₂⋅cos(θ₁ - θ₂)⋅θ₁̇⋅θ₂̇ + L₂ ⋅θ₂̇ ⎠"
      ]
     },
     "execution_count": 54,
     "metadata": {},
     "output_type": "execute_result"
    }
   ],
   "source": [
    "x1 = L1*sin(q[0])\n",
    "y1 = -L1*cos(q[0])\n",
    "\n",
    "x2 = L2*sin(q[1])\n",
    "y2 = -L2*cos(q[1])\n",
    "\n",
    "a_x = x1\n",
    "a_y = y1\n",
    "\n",
    "b_x = x1+x2\n",
    "b_y = y1+y2\n",
    "\n",
    "a_xd = sp.diff(a_x,t)\n",
    "a_yd = sp.diff(a_y,t)\n",
    "\n",
    "b_xd = sp.diff(b_x,t)\n",
    "b_yd = sp.diff(b_y,t)\n",
    "\n",
    "a_v = sp.sqrt(a_xd**2 + a_yd**2)\n",
    "b_v = sp.sqrt(b_xd**2 + b_yd**2)\n",
    "\n",
    "#T = (0.5 * I1 * (qd[0])**2) + (0.5 * I2 * (qd[0]+qd[1])**2)\n",
    "T = (0.5 * M1 * (a_v**2)) + (0.5 * M2 * (b_v**2))\n",
    "T.simplify()"
   ]
  },
  {
   "cell_type": "markdown",
   "metadata": {},
   "source": [
    "q1"
   ]
  },
  {
   "cell_type": "code",
   "execution_count": 49,
   "metadata": {},
   "outputs": [
    {
     "data": {
      "image/png": "[encoded data removed]",
      "text/latex": [
       "$\\displaystyle L_{1} \\left(L_{1} M_{1} \\ddot{\\theta}_{1} + L_{1} M_{2} \\ddot{\\theta}_{1} + L_{2} M_{2} \\sin{\\left(\\theta_{1} - \\theta_{2} \\right)} \\dot{\\theta}_{2}^{2} + L_{2} M_{2} \\cos{\\left(\\theta_{1} - \\theta_{2} \\right)} \\ddot{\\theta}_{2} + M_{1} g \\sin{\\left(\\theta_{1} \\right)} + M_{2} g \\sin{\\left(\\theta_{1} \\right)}\\right)$"
      ],
      "text/plain": [
       "   ⎛                                           2                              \n",
       "L₁⋅⎝L₁⋅M₁⋅θ₁̈ + L₁⋅M₂⋅θ₁̈ + L₂⋅M₂⋅sin(θ₁ - θ₂)⋅θ₂̇  + L₂⋅M₂⋅cos(θ₁ - θ₂)⋅θ₂̈ +\n",
       "\n",
       "                        ⎞\n",
       " M₁⋅g⋅sin(θ₁) + M₂⋅g⋅sin(θ₁)⎠"
      ]
     },
     "execution_count": 49,
     "metadata": {},
     "output_type": "execute_result"
    }
   ],
   "source": [
    "L = T - V\n",
    "\n",
    "expr = sp.diff(sp.diff(L,qd[0]), t) - sp.diff(L, q[0])\n",
    "# expr.simplify().expand()\n",
    "expr.simplify()"
   ]
  },
  {
   "cell_type": "markdown",
   "metadata": {},
   "source": [
    "q2"
   ]
  },
  {
   "cell_type": "code",
   "execution_count": 55,
   "metadata": {},
   "outputs": [
    {
     "data": {
      "image/png": "[encoded data removed]",
      "text/latex": [
       "$\\displaystyle L_{2} M_{2} \\left(- L_{1} \\sin{\\left(\\theta_{1} - \\theta_{2} \\right)} \\dot{\\theta}_{1}^{2} + L_{1} \\cos{\\left(\\theta_{1} - \\theta_{2} \\right)} \\ddot{\\theta}_{1} + L_{2} \\ddot{\\theta}_{2} + g \\sin{\\left(\\theta_{2} \\right)}\\right)$"
      ],
      "text/plain": [
       "      ⎛                    2                                         ⎞\n",
       "L₂⋅M₂⋅⎝- L₁⋅sin(θ₁ - θ₂)⋅θ₁̇  + L₁⋅cos(θ₁ - θ₂)⋅θ₁̈ + L₂⋅θ₂̈ + g⋅sin(θ₂)⎠"
      ]
     },
     "execution_count": 55,
     "metadata": {},
     "output_type": "execute_result"
    }
   ],
   "source": [
    "expr = sp.diff(sp.diff(L,qd[1]), t) - sp.diff(L, q[1])\n",
    "# expr.simplify().expand()\n",
    "expr.simplify()"
   ]
  },
  {
   "cell_type": "code",
   "execution_count": null,
   "metadata": {},
   "outputs": [],
   "source": []
  }
 ],
 "metadata": {
  "kernelspec": {
   "display_name": "Python 3.9.13 64-bit",
   "language": "python",
   "name": "python3"
  },
  "language_info": {
   "codemirror_mode": {
    "name": "ipython",
    "version": 3
   },
   "file_extension": ".py",
   "mimetype": "text/x-python",
   "name": "python",
   "nbconvert_exporter": "python",
   "pygments_lexer": "ipython3",
   "version": "3.9.13"
  },
  "orig_nbformat": 4,
  "vscode": {
   "interpreter": {
    "hash": "aee8b7b246df8f9039afb4144a1f6fd8d2ca17a180786b69acc140d282b71a49"
   }
  }
 },
 "nbformat": 4,
 "nbformat_minor": 2
}
