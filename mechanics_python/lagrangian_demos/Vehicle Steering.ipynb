{
 "cells": [
  {
   "cell_type": "code",
   "execution_count": 125,
   "metadata": {},
   "outputs": [],
   "source": [
    "import sympy as sp\n",
    "import sympy.physics.mechanics as spm\n",
    "from sympy.physics.mechanics import dynamicsymbols\n",
    "import numpy as np\n",
    "\n",
    "import control as ct\n",
    "\n",
    "import matplotlib.pyplot as plt\n",
    "\n",
    "spm.init_vprinting()"
   ]
  },
  {
   "cell_type": "markdown",
   "metadata": {},
   "source": [
    "# Vehicle Steering"
   ]
  },
  {
   "cell_type": "markdown",
   "metadata": {},
   "source": [
    "### Create symbolic matrices"
   ]
  },
  {
   "cell_type": "code",
   "execution_count": 162,
   "metadata": {},
   "outputs": [],
   "source": [
    "L, m, c, g = sp.symbols('L m c g', real=True, positive=True)\n",
    "k_1, k_2, k_f, r = sp.symbols('k_1 k_2 k_f r')\n",
    "\n",
    "gamma_ = sp.symbols('gamma_')\n",
    "\n",
    "A_sym = sp.Matrix([[0, 1], [0, 0]])\n",
    "B_sym = sp.Matrix([gamma_, 1])\n",
    "\n",
    "K = sp.Matrix([k_1, k_2]).T\n",
    "\n",
    "# New dynamics matrix\n",
    "A_tild_sym = A-(B*K)\n",
    "\n",
    "# Feedforward control input\n",
    "u = k_f*r"
   ]
  },
  {
   "cell_type": "markdown",
   "metadata": {},
   "source": [
    "### Substitute values"
   ]
  },
  {
   "cell_type": "code",
   "execution_count": 163,
   "metadata": {},
   "outputs": [],
   "source": [
    "#paramaters\n",
    "gamma = 0.5\n",
    "\n",
    "A = A_sym \n",
    "B = B_sym.subs({gamma_:gamma})\n",
    "\n",
    "A_tild = A_tild_sym.subs({gamma_:gamma})"
   ]
  },
  {
   "cell_type": "markdown",
   "metadata": {},
   "source": [
    "### Compute characteristic polynomial"
   ]
  },
  {
   "cell_type": "code",
   "execution_count": 164,
   "metadata": {},
   "outputs": [
    {
     "data": {
      "image/png": "[encoded data removed]",
      "text/latex": [
       "$\\displaystyle k_{1} + \\lambda^{2} + \\lambda \\left(0.5 k_{1} + k_{2}\\right)$"
      ],
      "text/plain": [
       "      2                  \n",
       "k₁ + λ  + λ⋅(0.5⋅k₁ + k₂)"
      ]
     },
     "execution_count": 164,
     "metadata": {},
     "output_type": "execute_result"
    }
   ],
   "source": [
    "lambda_ = sp.symbols('lambda')\n",
    "\n",
    "# compute the characterisitic polynomial\n",
    "charac_polynomial = (A_tild - lambda_*sp.eye(2)).det()\n",
    "\n",
    "# group common terms in the equation\n",
    "charac_polynomial =sp.collect(charac_polynomial,lambda_)\n",
    "charac_polynomial"
   ]
  },
  {
   "cell_type": "markdown",
   "metadata": {},
   "source": [
    "We know that the secod order systems can be represented in the for $ \\lambda^2 + 2\\zeta\\omega_d\\lambda + \\omega_d^2 $. Comparing with tht characteristic polynomial, we see that $2\\zeta\\omega_d = \\gamma k_1 + k_2$ and $k_1=\\omega_d^2$"
   ]
  },
  {
   "cell_type": "markdown",
   "metadata": {},
   "source": [
    "### Examine performance for various values of $\\zeta$ and $\\omega_n$"
   ]
  },
  {
   "cell_type": "code",
   "execution_count": 166,
   "metadata": {},
   "outputs": [
    {
     "data": {
      "image/png": "[encoded data removed]",
      "text/latex": [
       "$\\displaystyle \\lambda^{2} + 0.9 \\lambda + 0.707106781186548$"
      ],
      "text/plain": [
       " 2                            \n",
       "λ  + 0.9⋅λ + 0.707106781186548"
      ]
     },
     "execution_count": 166,
     "metadata": {},
     "output_type": "execute_result"
    }
   ],
   "source": [
    "# controller parameters\n",
    "omega_n = 0.5\n",
    "zeta = 0.9\n",
    "\n",
    "k1 = np.sqrt(omega_n)\n",
    "k2 = 2*zeta*omega_n - gamma*k1\n",
    "\n",
    "charac_polynomial_val = charac_polynomial.subs({gamma_:gamma, k_1:k1, k_2:k2})\n",
    "charac_polynomial_val"
   ]
  },
  {
   "cell_type": "code",
   "execution_count": 168,
   "metadata": {},
   "outputs": [],
   "source": [
    "# A_tild_val = A_tild.subs({gamma_:gamma, k_1:k1, k_2:k2})"
   ]
  },
  {
   "cell_type": "markdown",
   "metadata": {},
   "source": [
    "## Analyse performance"
   ]
  },
  {
   "cell_type": "code",
   "execution_count": 169,
   "metadata": {},
   "outputs": [
    {
     "data": {
      "image/png": "[encoded data removed]",
      "text/plain": [
       "<Figure size 640x480 with 1 Axes>"
      ]
     },
     "metadata": {},
     "output_type": "display_data"
    }
   ],
   "source": [
    "num = [1]\n",
    "den = [1 ,0.9 , 0.707106781186548]\n",
    "sys = ct.tf(num, den)\n",
    "\n",
    "T, yout = ct.step_response(sys)\n",
    "plt.plot(T, yout)\n",
    "plt.show()"
   ]
  },
  {
   "cell_type": "code",
   "execution_count": 172,
   "metadata": {},
   "outputs": [
    {
     "data": {
      "image/png": "[encoded data removed]",
      "text/latex": [
       "$\\displaystyle \\left( 100,\\right)$"
      ],
      "text/plain": [
       "(100,)"
      ]
     },
     "execution_count": 172,
     "metadata": {},
     "output_type": "execute_result"
    }
   ],
   "source": [
    "yout.shape"
   ]
  },
  {
   "cell_type": "code",
   "execution_count": null,
   "metadata": {},
   "outputs": [],
   "source": []
  }
 ],
 "metadata": {
  "kernelspec": {
   "display_name": "Python 3 (ipykernel)",
   "language": "python",
   "name": "python3"
  },
  "language_info": {
   "codemirror_mode": {
    "name": "ipython",
    "version": 3
   },
   "file_extension": ".py",
   "mimetype": "text/x-python",
   "name": "python",
   "nbconvert_exporter": "python",
   "pygments_lexer": "ipython3",
   "version": "3.10.8"
  },
  "vscode": {
   "interpreter": {
    "hash": "aee8b7b246df8f9039afb4144a1f6fd8d2ca17a180786b69acc140d282b71a49"
   }
  }
 },
 "nbformat": 4,
 "nbformat_minor": 2
}
