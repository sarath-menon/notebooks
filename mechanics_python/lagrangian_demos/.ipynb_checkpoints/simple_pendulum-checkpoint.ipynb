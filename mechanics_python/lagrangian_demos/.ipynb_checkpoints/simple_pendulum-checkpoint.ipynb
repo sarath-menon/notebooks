{
 "cells": [
  {
   "cell_type": "code",
   "execution_count": 4,
   "metadata": {},
   "outputs": [],
   "source": [
    "import sympy as sp\n",
    "import sympy.physics.mechanics as spm\n",
    "from sympy.physics.mechanics import dynamicsymbols\n",
    "spm.init_vprinting()\n",
    "\n",
    "L, m, g = sp.symbols('L m g', real=True, positive=True)\n",
    "\n",
    "q  =  spm.dynamicsymbols('theta')\n",
    "qd  = spm.dynamicsymbols('theta', 1)\n",
    "t  =  sp.Symbol('t')\n",
    "\n",
    "q = [q]\n",
    "qd = [qd]"
   ]
  },
  {
   "cell_type": "markdown",
   "metadata": {},
   "source": [
    "Potential energy"
   ]
  },
  {
   "cell_type": "code",
   "execution_count": 5,
   "metadata": {},
   "outputs": [
    {
     "data": {
      "image/png": "[encoded data removed]",
      "text/latex": [
       "$\\displaystyle L g m \\left(1 - \\cos{\\left(\\theta \\right)}\\right)$"
      ],
      "text/plain": [
       "L⋅g⋅m⋅(1 - cos(θ))"
      ]
     },
     "execution_count": 5,
     "metadata": {},
     "output_type": "execute_result"
    }
   ],
   "source": [
    "V = m*g*L*(1 - sp.cos(q[0]))\n",
    "V"
   ]
  },
  {
   "cell_type": "markdown",
   "metadata": {},
   "source": [
    "Kinetic energy"
   ]
  },
  {
   "cell_type": "code",
   "execution_count": 6,
   "metadata": {},
   "outputs": [
    {
     "data": {
      "image/png": "[encoded data removed]",
      "text/latex": [
       "$\\displaystyle 0.5 L^{2} m \\dot{\\theta}^{2}$"
      ],
      "text/plain": [
       "     2    2\n",
       "0.5⋅L ⋅m⋅θ̇ "
      ]
     },
     "execution_count": 6,
     "metadata": {},
     "output_type": "execute_result"
    }
   ],
   "source": [
    "T = 0.5 * m * (L*qd[0])**2\n",
    "T"
   ]
  },
  {
   "cell_type": "markdown",
   "metadata": {},
   "source": [
    "q1"
   ]
  },
  {
   "cell_type": "code",
   "execution_count": 7,
   "metadata": {},
   "outputs": [
    {
     "data": {
      "image/png": "[encoded data removed]",
      "text/latex": [
       "$\\displaystyle L m \\left(1.0 L \\ddot{\\theta} + g \\sin{\\left(\\theta \\right)}\\right)$"
      ],
      "text/plain": [
       "L⋅m⋅(1.0⋅L⋅θ̈ + g⋅sin(θ))"
      ]
     },
     "execution_count": 7,
     "metadata": {},
     "output_type": "execute_result"
    }
   ],
   "source": [
    "L = T - V\n",
    "\n",
    "expr = sp.diff(sp.diff(L,qd[0]), t) - sp.diff(L, q[0])\n",
    "# expr.simplify().expand()\n",
    "expr.simplify()"
   ]
  },
  {
   "cell_type": "markdown",
   "metadata": {},
   "source": [
    "## Linearized state-space model"
   ]
  },
  {
   "cell_type": "code",
   "execution_count": 33,
   "metadata": {},
   "outputs": [],
   "source": [
    "L, m, c, g = sp.symbols('L m c g', real=True, positive=True)\n",
    "k_1, k_2, k_f, r = sp.symbols('k_1 k_2 k_f r', real=True, positive=True)\n",
    "\n",
    "A = sp.Matrix([[0, 1], [g/L, -c/(m*L**2)]])\n",
    "B = sp.Matrix([0,1])\n",
    "\n",
    "K = sp.Matrix([k_1, k_2]).T\n",
    "\n",
    "# New dynamics matrix\n",
    "A_tild = A-(B*K)\n",
    "\n",
    "# Feedforward control input\n",
    "u = k_f*r"
   ]
  },
  {
   "cell_type": "code",
   "execution_count": 34,
   "metadata": {},
   "outputs": [
    {
     "data": {
      "text/latex": [
       "$\\displaystyle \\left[\\begin{matrix}0 & 1\\\\- k_{1} + \\frac{g}{L} & - k_{2} - \\frac{c}{L^{2} m}\\end{matrix}\\right]$"
      ],
      "text/plain": [
       "⎡   0         1     ⎤\n",
       "⎢                   ⎥\n",
       "⎢      g         c  ⎥\n",
       "⎢-k₁ + ─  -k₂ - ────⎥\n",
       "⎢      L         2  ⎥\n",
       "⎣               L ⋅m⎦"
      ]
     },
     "execution_count": 34,
     "metadata": {},
     "output_type": "execute_result"
    }
   ],
   "source": [
    "A_tild"
   ]
  }
 ],
 "metadata": {
  "kernelspec": {
   "display_name": "Python 3 (ipykernel)",
   "language": "python",
   "name": "python3"
  },
  "language_info": {
   "codemirror_mode": {
    "name": "ipython",
    "version": 3
   },
   "file_extension": ".py",
   "mimetype": "text/x-python",
   "name": "python",
   "nbconvert_exporter": "python",
   "pygments_lexer": "ipython3",
   "version": "3.10.8"
  },
  "vscode": {
   "interpreter": {
    "hash": "aee8b7b246df8f9039afb4144a1f6fd8d2ca17a180786b69acc140d282b71a49"
   }
  }
 },
 "nbformat": 4,
 "nbformat_minor": 2
}
