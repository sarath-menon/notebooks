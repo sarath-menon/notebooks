{
 "cells": [
  {
   "cell_type": "code",
   "execution_count": 38,
   "id": "6f516c2c",
   "metadata": {},
   "outputs": [],
   "source": [
    "import sympy as sp\n",
    "sp.init_printing()\n",
    "\n",
    "from sympy.utilities.codegen import codegen\n",
    "from sympy.printing import cxxcode, ccode\n",
    "\n",
    "from sympy.abc import x, y, z"
   ]
  },
  {
   "cell_type": "markdown",
   "id": "ecb85aa0",
   "metadata": {},
   "source": [
    "# Rotation matrix"
   ]
  },
  {
   "cell_type": "code",
   "execution_count": 40,
   "id": "d38d5706",
   "metadata": {},
   "outputs": [
    {
     "data": {
      "text/latex": [
       "$\\displaystyle \\left[\\begin{matrix}\\cos{\\left(\\theta \\right)} & \\sin{\\left(\\theta \\right)} & 0\\\\- \\sin{\\left(\\theta \\right)} & \\cos{\\left(\\theta \\right)} & 0\\\\0 & 0 & 1\\end{matrix}\\right]$"
      ],
      "text/plain": [
       "⎡cos(θ)   sin(θ)  0⎤\n",
       "⎢                  ⎥\n",
       "⎢-sin(θ)  cos(θ)  0⎥\n",
       "⎢                  ⎥\n",
       "⎣   0       0     1⎦"
      ]
     },
     "execution_count": 40,
     "metadata": {},
     "output_type": "execute_result"
    }
   ],
   "source": [
    "theta, alpha = sp.symbols('theta, alpha')\n",
    "\n",
    "R_z = sp.Matrix([[sm.cos(theta), sm.sin(theta), 0],\n",
    "                   [-sm.sin(theta), sm.cos(theta), 0],\n",
    "                   [0, 0, 1]])\n",
    "\n",
    "# expr = sp.sin(x**2)\n",
    "# print(cxxcode((R_z, theta), standard='C++11'))\n",
    "R_z"
   ]
  },
  {
   "cell_type": "code",
   "execution_count": 36,
   "id": "488d2742",
   "metadata": {},
   "outputs": [
    {
     "name": "stdout",
     "output_type": "stream",
     "text": [
      "File name:  R_z.c\n",
      "#include \"R_z.h\"\n",
      "#include <math.h>\n",
      "void R_z(double theta, double *out_127636561086500767) {\n",
      "   out_127636561086500767[0] = cos(theta);\n",
      "   out_127636561086500767[1] = sin(theta);\n",
      "   out_127636561086500767[2] = 0;\n",
      "   out_127636561086500767[3] = -sin(theta);\n",
      "   out_127636561086500767[4] = cos(theta);\n",
      "   out_127636561086500767[5] = 0;\n",
      "   out_127636561086500767[6] = 0;\n",
      "   out_127636561086500767[7] = 0;\n",
      "   out_127636561086500767[8] = 1;\n",
      "}\n",
      "\n"
     ]
    }
   ],
   "source": [
    "from sympy.abc import f, g\n",
    "from sympy import Eq\n",
    "\n",
    "[(c_name, c_code), (h_name, c_header)] = codegen(\n",
    "     [(\"R_z\", R_z)],\n",
    "     \"C\", header=False, empty=False)\n",
    "\n",
    "print('File name: ',c_name)\n",
    "print(c_code)"
   ]
  },
  {
   "cell_type": "code",
   "execution_count": 26,
   "id": "e16b10e9",
   "metadata": {},
   "outputs": [
    {
     "name": "stdout",
     "output_type": "stream",
     "text": [
      "{std::sin(std::pow(x, 2)), x}\n"
     ]
    }
   ],
   "source": [
    "\n"
   ]
  },
  {
   "cell_type": "code",
   "execution_count": null,
   "id": "22960ddd",
   "metadata": {},
   "outputs": [],
   "source": []
  }
 ],
 "metadata": {
  "kernelspec": {
   "display_name": "Python 3 (ipykernel)",
   "language": "python",
   "name": "python3"
  },
  "language_info": {
   "codemirror_mode": {
    "name": "ipython",
    "version": 3
   },
   "file_extension": ".py",
   "mimetype": "text/x-python",
   "name": "python",
   "nbconvert_exporter": "python",
   "pygments_lexer": "ipython3",
   "version": "3.10.9"
  }
 },
 "nbformat": 4,
 "nbformat_minor": 5
}
