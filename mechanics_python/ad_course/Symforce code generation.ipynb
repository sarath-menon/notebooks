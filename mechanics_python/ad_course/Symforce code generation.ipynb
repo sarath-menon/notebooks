{
 "cells": [
  {
   "cell_type": "code",
   "execution_count": 1,
   "id": "138786c8",
   "metadata": {},
   "outputs": [],
   "source": [
    "# Setup\n",
    "import numpy as np\n",
    "import os\n",
    "import symforce\n",
    "\n",
    "symforce.set_symbolic_api(\"symengine\")\n",
    "symforce.set_log_level(\"warning\")\n",
    "\n",
    "# Set epsilon to a symbol for safe code generation.  For more information, see the Epsilon tutorial:\n",
    "# https://symforce.org/tutorials/epsilon_tutorial.html\n",
    "symforce.set_epsilon_to_symbol()\n",
    "\n",
    "from symforce import codegen\n",
    "from symforce.codegen import codegen_util\n",
    "from symforce import ops\n",
    "import symforce.symbolic as sf\n",
    "from symforce.values import Values\n",
    "from symforce.notebook_util import display, display_code, display_code_file"
   ]
  },
  {
   "cell_type": "code",
   "execution_count": 48,
   "id": "f25efa72",
   "metadata": {},
   "outputs": [],
   "source": [
    "import sympy as sp\n",
    "sp.init_printing()"
   ]
  },
  {
   "cell_type": "markdown",
   "id": "48d6fec3",
   "metadata": {},
   "source": [
    "## Rotation matrices"
   ]
  },
  {
   "cell_type": "code",
   "execution_count": 108,
   "id": "c3cde063",
   "metadata": {},
   "outputs": [
    {
     "data": {
      "text/latex": [
       "$\\displaystyle \\left[\\begin{matrix}\\cos{\\left(\\alpha \\right)} \\cos{\\left(\\beta \\right)} & - \\sin{\\left(\\alpha \\right)} \\cos{\\left(\\gamma \\right)} + \\sin{\\left(\\beta \\right)} \\sin{\\left(\\gamma \\right)} \\cos{\\left(\\alpha \\right)} & \\sin{\\left(\\alpha \\right)} \\sin{\\left(\\gamma \\right)} + \\sin{\\left(\\beta \\right)} \\cos{\\left(\\alpha \\right)} \\cos{\\left(\\gamma \\right)}\\\\\\sin{\\left(\\alpha \\right)} \\cos{\\left(\\beta \\right)} & \\sin{\\left(\\alpha \\right)} \\sin{\\left(\\beta \\right)} \\sin{\\left(\\gamma \\right)} + \\cos{\\left(\\alpha \\right)} \\cos{\\left(\\gamma \\right)} & \\sin{\\left(\\alpha \\right)} \\sin{\\left(\\beta \\right)} \\cos{\\left(\\gamma \\right)} - \\sin{\\left(\\gamma \\right)} \\cos{\\left(\\alpha \\right)}\\\\- \\sin{\\left(\\beta \\right)} & \\sin{\\left(\\gamma \\right)} \\cos{\\left(\\beta \\right)} & \\cos{\\left(\\beta \\right)} \\cos{\\left(\\gamma \\right)}\\end{matrix}\\right]$"
      ],
      "text/plain": [
       "⎡cos(α)⋅cos(β)  -sin(α)⋅cos(γ) + sin(β)⋅sin(γ)⋅cos(α)  sin(α)⋅sin(γ) + sin(β)⋅\n",
       "⎢                                                                             \n",
       "⎢sin(α)⋅cos(β)  sin(α)⋅sin(β)⋅sin(γ) + cos(α)⋅cos(γ)   sin(α)⋅sin(β)⋅cos(γ) - \n",
       "⎢                                                                             \n",
       "⎣   -sin(β)                 sin(γ)⋅cos(β)                         cos(β)⋅cos(γ\n",
       "\n",
       "cos(α)⋅cos(γ)⎤\n",
       "             ⎥\n",
       "sin(γ)⋅cos(α)⎥\n",
       "             ⎥\n",
       ")            ⎦"
      ]
     },
     "metadata": {},
     "output_type": "display_data"
    },
    {
     "data": {
      "text/latex": [
       "$\\displaystyle \\left[\\begin{matrix}f_{B0}\\\\f_{B1}\\\\f_{B2}\\end{matrix}\\right]$"
      ],
      "text/plain": [
       "⎡f_B0⎤\n",
       "⎢    ⎥\n",
       "⎢f_B1⎥\n",
       "⎢    ⎥\n",
       "⎣f_B2⎦"
      ]
     },
     "metadata": {},
     "output_type": "display_data"
    },
    {
     "data": {
      "text/latex": [
       "$\\displaystyle \\left[\\begin{matrix}f_{B0} \\cos{\\left(\\alpha \\right)} \\cos{\\left(\\beta \\right)} + f_{B1} \\left(- \\sin{\\left(\\alpha \\right)} \\cos{\\left(\\gamma \\right)} + \\sin{\\left(\\beta \\right)} \\sin{\\left(\\gamma \\right)} \\cos{\\left(\\alpha \\right)}\\right) + f_{B2} \\left(\\sin{\\left(\\alpha \\right)} \\sin{\\left(\\gamma \\right)} + \\sin{\\left(\\beta \\right)} \\cos{\\left(\\alpha \\right)} \\cos{\\left(\\gamma \\right)}\\right)\\\\f_{B0} \\sin{\\left(\\alpha \\right)} \\cos{\\left(\\beta \\right)} + f_{B1} \\left(\\sin{\\left(\\alpha \\right)} \\sin{\\left(\\beta \\right)} \\sin{\\left(\\gamma \\right)} + \\cos{\\left(\\alpha \\right)} \\cos{\\left(\\gamma \\right)}\\right) + f_{B2} \\left(\\sin{\\left(\\alpha \\right)} \\sin{\\left(\\beta \\right)} \\cos{\\left(\\gamma \\right)} - \\sin{\\left(\\gamma \\right)} \\cos{\\left(\\alpha \\right)}\\right)\\\\- f_{B0} \\sin{\\left(\\beta \\right)} + f_{B1} \\sin{\\left(\\gamma \\right)} \\cos{\\left(\\beta \\right)} + f_{B2} \\cos{\\left(\\beta \\right)} \\cos{\\left(\\gamma \\right)} + g\\end{matrix}\\right]$"
      ],
      "text/plain": [
       "⎡f_B0⋅cos(α)⋅cos(β) + f_B1⋅(-sin(α)⋅cos(γ) + sin(β)⋅sin(γ)⋅cos(α)) + f_B2⋅(sin\n",
       "⎢                                                                             \n",
       "⎢f_B0⋅sin(α)⋅cos(β) + f_B1⋅(sin(α)⋅sin(β)⋅sin(γ) + cos(α)⋅cos(γ)) + f_B2⋅(sin(\n",
       "⎢                                                                             \n",
       "⎣                          -f_B0⋅sin(β) + f_B1⋅sin(γ)⋅cos(β) + f_B2⋅cos(β)⋅cos\n",
       "\n",
       "(α)⋅sin(γ) + sin(β)⋅cos(α)⋅cos(γ))⎤\n",
       "                                  ⎥\n",
       "α)⋅sin(β)⋅cos(γ) - sin(γ)⋅cos(α)) ⎥\n",
       "                                  ⎥\n",
       "(γ) + g                           ⎦"
      ]
     },
     "metadata": {},
     "output_type": "display_data"
    }
   ],
   "source": [
    "# Sympy matrices\n",
    "# Rotate about x-axis\n",
    "\n",
    "alpha, beta, gamma = sp.symbols(\"alpha, beta, gamma\")\n",
    "\n",
    "g_I = sp.symbols(\"g\")\n",
    "\n",
    "# force vector in body fixed frame\n",
    "f_B = sf.Vector3.symbolic(\"f_B\")\n",
    "\n",
    "# gravity vector in inertial frame\n",
    "g_I = sf.V3([0,0,g])\n",
    "\n",
    "R_x = sf.Matrix(\n",
    "    [\n",
    "        [1, 0, 0],\n",
    "        [0, sf.cos(gamma), -sf.sin(gamma)],\n",
    "        [0, sf.sin(gamma), sf.cos(gamma)],\n",
    "    ]\n",
    ")\n",
    "\n",
    "R_y = sf.Matrix(\n",
    "    [\n",
    "        [sf.cos(beta), 0, sf.sin(beta)],\n",
    "        [0            , 1,             0],\n",
    "        [-sf.sin(beta), 0, sf.cos(beta)],\n",
    "    ]\n",
    ")\n",
    "\n",
    "R_z = sf.Matrix(\n",
    "    [\n",
    "        [sf.cos(alpha), -sf.sin(alpha), 0],\n",
    "        [sf.sin(alpha),  sf.cos(alpha), 0],\n",
    "        [0            ,  0            , 1],\n",
    "    ]\n",
    ")\n",
    "\n",
    "# Rotation matrix from body fixed frame to intertial frame\n",
    "R_IB = R_z*R_y*R_x\n",
    "\n",
    "# translational equations of motion in the intertial frame\n",
    "f_I = (R_IB * f_B) + g_I\n",
    "\n",
    "# display(R_IB)\n",
    "# display(f_B)\n",
    "display(f_I)"
   ]
  },
  {
   "cell_type": "code",
   "execution_count": 153,
   "id": "0442f982",
   "metadata": {},
   "outputs": [],
   "source": [
    "def R_IB(pose_B: sf.Pose3,\n",
    "    alpha:sf.Scalar, beta:sf.Scalar, gamma:sf.Scalar, epsilon: sf.Scalar = 0\n",
    ") -> sf.Vector3:\n",
    "    \"\"\"\n",
    "    Transform a nav point into azimuth / elevation angles in the\n",
    "    camera frame.\n",
    "\n",
    "    Args:\n",
    "        nav_T_cam (sf.Pose3): camera pose in the world\n",
    "        nav_t_point (sf.Matrix): nav point\n",
    "        epsilon (Scalar): small number to avoid singularities\n",
    "\n",
    "    Returns:\n",
    "        sf.Matrix: (azimuth, elevation)\n",
    "    \"\"\"\n",
    "    \n",
    "    p_B = pose_B.position()\n",
    "    R_B = pose_B.rotation()\n",
    "    \n",
    "\n",
    "    R_x = sf.Matrix(\n",
    "        [\n",
    "            [1, 0, 0],\n",
    "            [0, sf.cos(gamma), -sf.sin(gamma)],\n",
    "            [0, sf.sin(gamma), sf.cos(gamma)],\n",
    "        ]\n",
    "    )\n",
    "\n",
    "    R_y = sf.Matrix(\n",
    "        [\n",
    "            [sf.cos(beta), 0, sf.sin(beta)],\n",
    "            [0            , 1,             0],\n",
    "            [-sf.sin(beta), 0, sf.cos(beta)],\n",
    "        ]\n",
    "    )\n",
    "\n",
    "    R_z = sf.Matrix(\n",
    "        [\n",
    "            [sf.cos(alpha), -sf.sin(alpha), 0],\n",
    "            [sf.sin(alpha),  sf.cos(alpha), 0],\n",
    "            [0            ,  0            , 1],\n",
    "        ]\n",
    "    )\n",
    "    \n",
    "    R_IB = R_z*R_y*R_x\n",
    "    \n",
    "    # create a Rot3 type from the rotation matrix\n",
    "    R_IB = sf.Rot3.from_rotation_matrix(R_IB)\n",
    "    \n",
    "    # second derivative\n",
    "    p_B_ddot = p_B\n",
    "    \n",
    "    return p_B_ddot"
   ]
  },
  {
   "cell_type": "markdown",
   "id": "ea53bc74",
   "metadata": {},
   "source": [
    "## Create code generators for C++ and python"
   ]
  },
  {
   "cell_type": "code",
   "execution_count": 154,
   "id": "9436f9b2",
   "metadata": {},
   "outputs": [],
   "source": [
    "az_el_codegen_cpp = codegen.Codegen.function(\n",
    "    func=R_IB,\n",
    "    config=codegen.CppConfig(),\n",
    ")\n",
    "\n",
    "az_el_codegen_python = codegen.Codegen.function(\n",
    "    func=R_IB,\n",
    "    config=codegen.PythonConfig(),\n",
    ")"
   ]
  },
  {
   "cell_type": "markdown",
   "id": "d680518a",
   "metadata": {},
   "source": [
    "## Generate C++ code"
   ]
  },
  {
   "cell_type": "code",
   "execution_count": 155,
   "id": "fb050839",
   "metadata": {},
   "outputs": [
    {
     "data": {
      "text/html": [
       "<div class=\"highlight\" style=\"background: #f8f8f8\"><pre style=\"line-height: 125%;\"><span></span><span style=\"color: #3D7B7B; font-style: italic\">// -----------------------------------------------------------------------------</span>\n",
       "<span style=\"color: #3D7B7B; font-style: italic\">// This file was autogenerated by symforce from template:</span>\n",
       "<span style=\"color: #3D7B7B; font-style: italic\">//     function/FUNCTION.h.jinja</span>\n",
       "<span style=\"color: #3D7B7B; font-style: italic\">// Do NOT modify by hand.</span>\n",
       "<span style=\"color: #3D7B7B; font-style: italic\">// -----------------------------------------------------------------------------</span>\n",
       "\n",
       "<span style=\"color: #9C6500\">#pragma once</span>\n",
       "\n",
       "<span style=\"color: #9C6500\">#include</span><span style=\"color: #bbbbbb\"> </span><span style=\"color: #3D7B7B; font-style: italic\">&lt;Eigen/Dense&gt;</span><span style=\"color: #9C6500\"></span>\n",
       "\n",
       "<span style=\"color: #9C6500\">#include</span><span style=\"color: #bbbbbb\"> </span><span style=\"color: #3D7B7B; font-style: italic\">&lt;sym/pose3.h&gt;</span><span style=\"color: #9C6500\"></span>\n",
       "\n",
       "<span style=\"color: #008000; font-weight: bold\">namespace</span><span style=\"color: #bbbbbb\"> </span><span style=\"color: #0000FF; font-weight: bold\">sym</span><span style=\"color: #bbbbbb\"> </span>{<span style=\"color: #bbbbbb\"></span>\n",
       "\n",
       "<span style=\"color: #3D7B7B; font-style: italic\">/**</span>\n",
       "<span style=\"color: #3D7B7B; font-style: italic\"> * Transform a nav point into azimuth / elevation angles in the</span>\n",
       "<span style=\"color: #3D7B7B; font-style: italic\"> * camera frame.</span>\n",
       "<span style=\"color: #3D7B7B; font-style: italic\"> *</span>\n",
       "<span style=\"color: #3D7B7B; font-style: italic\"> * Args:</span>\n",
       "<span style=\"color: #3D7B7B; font-style: italic\"> *     nav_T_cam (sf.Pose3): camera pose in the world</span>\n",
       "<span style=\"color: #3D7B7B; font-style: italic\"> *     nav_t_point (sf.Matrix): nav point</span>\n",
       "<span style=\"color: #3D7B7B; font-style: italic\"> *     epsilon (Scalar): small number to avoid singularities</span>\n",
       "<span style=\"color: #3D7B7B; font-style: italic\"> *</span>\n",
       "<span style=\"color: #3D7B7B; font-style: italic\"> * Returns:</span>\n",
       "<span style=\"color: #3D7B7B; font-style: italic\"> *     sf.Matrix: (azimuth, elevation)</span>\n",
       "<span style=\"color: #3D7B7B; font-style: italic\"> */</span><span style=\"color: #bbbbbb\"></span>\n",
       "<span style=\"color: #008000; font-weight: bold\">template</span><span style=\"color: #bbbbbb\"> </span><span style=\"color: #666666\">&lt;</span><span style=\"color: #008000; font-weight: bold\">typename</span><span style=\"color: #bbbbbb\"> </span><span style=\"color: #0000FF; font-weight: bold\">Scalar</span><span style=\"color: #666666\">&gt;</span><span style=\"color: #bbbbbb\"></span>\n",
       "Eigen<span style=\"color: #666666\">::</span>Matrix<span style=\"color: #666666\">&lt;</span>Scalar,<span style=\"color: #bbbbbb\"> </span><span style=\"color: #666666\">3</span>,<span style=\"color: #bbbbbb\"> </span><span style=\"color: #666666\">1&gt;</span><span style=\"color: #bbbbbb\"> </span>RIb(<span style=\"color: #008000; font-weight: bold\">const</span><span style=\"color: #bbbbbb\"> </span>sym<span style=\"color: #666666\">::</span>Pose3<span style=\"color: #666666\">&lt;</span>Scalar<span style=\"color: #666666\">&gt;&amp;</span><span style=\"color: #bbbbbb\"> </span>pose_B,<span style=\"color: #bbbbbb\"> </span><span style=\"color: #008000; font-weight: bold\">const</span><span style=\"color: #bbbbbb\"> </span>Scalar<span style=\"color: #bbbbbb\"> </span>alpha,<span style=\"color: #bbbbbb\"></span>\n",
       "<span style=\"color: #bbbbbb\">                                </span><span style=\"color: #008000; font-weight: bold\">const</span><span style=\"color: #bbbbbb\"> </span>Scalar<span style=\"color: #bbbbbb\"> </span>beta,<span style=\"color: #bbbbbb\"> </span><span style=\"color: #008000; font-weight: bold\">const</span><span style=\"color: #bbbbbb\"> </span>Scalar<span style=\"color: #bbbbbb\"> </span>gamma,<span style=\"color: #bbbbbb\"> </span><span style=\"color: #008000; font-weight: bold\">const</span><span style=\"color: #bbbbbb\"> </span>Scalar<span style=\"color: #bbbbbb\"> </span>epsilon)<span style=\"color: #bbbbbb\"> </span>{<span style=\"color: #bbbbbb\"></span>\n",
       "<span style=\"color: #bbbbbb\">  </span><span style=\"color: #3D7B7B; font-style: italic\">// Total ops: 0</span>\n",
       "\n",
       "<span style=\"color: #bbbbbb\">  </span><span style=\"color: #3D7B7B; font-style: italic\">// Unused inputs</span>\n",
       "<span style=\"color: #bbbbbb\">  </span>(<span style=\"color: #B00040\">void</span>)alpha;<span style=\"color: #bbbbbb\"></span>\n",
       "<span style=\"color: #bbbbbb\">  </span>(<span style=\"color: #B00040\">void</span>)beta;<span style=\"color: #bbbbbb\"></span>\n",
       "<span style=\"color: #bbbbbb\">  </span>(<span style=\"color: #B00040\">void</span>)gamma;<span style=\"color: #bbbbbb\"></span>\n",
       "<span style=\"color: #bbbbbb\">  </span>(<span style=\"color: #B00040\">void</span>)epsilon;<span style=\"color: #bbbbbb\"></span>\n",
       "\n",
       "<span style=\"color: #bbbbbb\">  </span><span style=\"color: #3D7B7B; font-style: italic\">// Input arrays</span>\n",
       "<span style=\"color: #bbbbbb\">  </span><span style=\"color: #008000; font-weight: bold\">const</span><span style=\"color: #bbbbbb\"> </span>Eigen<span style=\"color: #666666\">::</span>Matrix<span style=\"color: #666666\">&lt;</span>Scalar,<span style=\"color: #bbbbbb\"> </span><span style=\"color: #666666\">7</span>,<span style=\"color: #bbbbbb\"> </span><span style=\"color: #666666\">1&gt;&amp;</span><span style=\"color: #bbbbbb\"> </span>_pose_B<span style=\"color: #bbbbbb\"> </span><span style=\"color: #666666\">=</span><span style=\"color: #bbbbbb\"> </span>pose_B.Data();<span style=\"color: #bbbbbb\"></span>\n",
       "\n",
       "<span style=\"color: #bbbbbb\">  </span><span style=\"color: #3D7B7B; font-style: italic\">// Intermediate terms (0)</span>\n",
       "\n",
       "<span style=\"color: #bbbbbb\">  </span><span style=\"color: #3D7B7B; font-style: italic\">// Output terms (1)</span>\n",
       "<span style=\"color: #bbbbbb\">  </span>Eigen<span style=\"color: #666666\">::</span>Matrix<span style=\"color: #666666\">&lt;</span>Scalar,<span style=\"color: #bbbbbb\"> </span><span style=\"color: #666666\">3</span>,<span style=\"color: #bbbbbb\"> </span><span style=\"color: #666666\">1&gt;</span><span style=\"color: #bbbbbb\"> </span>_res;<span style=\"color: #bbbbbb\"></span>\n",
       "\n",
       "<span style=\"color: #bbbbbb\">  </span>_res(<span style=\"color: #666666\">0</span>,<span style=\"color: #bbbbbb\"> </span><span style=\"color: #666666\">0</span>)<span style=\"color: #bbbbbb\"> </span><span style=\"color: #666666\">=</span><span style=\"color: #bbbbbb\"> </span>_pose_B[<span style=\"color: #666666\">4</span>];<span style=\"color: #bbbbbb\"></span>\n",
       "<span style=\"color: #bbbbbb\">  </span>_res(<span style=\"color: #666666\">1</span>,<span style=\"color: #bbbbbb\"> </span><span style=\"color: #666666\">0</span>)<span style=\"color: #bbbbbb\"> </span><span style=\"color: #666666\">=</span><span style=\"color: #bbbbbb\"> </span>_pose_B[<span style=\"color: #666666\">5</span>];<span style=\"color: #bbbbbb\"></span>\n",
       "<span style=\"color: #bbbbbb\">  </span>_res(<span style=\"color: #666666\">2</span>,<span style=\"color: #bbbbbb\"> </span><span style=\"color: #666666\">0</span>)<span style=\"color: #bbbbbb\"> </span><span style=\"color: #666666\">=</span><span style=\"color: #bbbbbb\"> </span>_pose_B[<span style=\"color: #666666\">6</span>];<span style=\"color: #bbbbbb\"></span>\n",
       "\n",
       "<span style=\"color: #bbbbbb\">  </span><span style=\"color: #008000; font-weight: bold\">return</span><span style=\"color: #bbbbbb\"> </span>_res;<span style=\"color: #bbbbbb\"></span>\n",
       "}<span style=\"color: #bbbbbb\">  </span><span style=\"color: #3D7B7B; font-style: italic\">// NOLINT(readability/fn_size)</span>\n",
       "\n",
       "<span style=\"color: #3D7B7B; font-style: italic\">// NOLINTNEXTLINE(readability/fn_size)</span>\n",
       "}<span style=\"color: #bbbbbb\">  </span><span style=\"color: #3D7B7B; font-style: italic\">// namespace sym</span>\n",
       "</pre></div>\n"
      ],
      "text/plain": [
       "<IPython.core.display.HTML object>"
      ]
     },
     "metadata": {},
     "output_type": "display_data"
    }
   ],
   "source": [
    "# generate a C++ function from the python function\n",
    "az_el_codegen_data = az_el_codegen_cpp.generate_function()\n",
    "\n",
    "# print(\"Files generated in {}:\\n\".format(az_el_codegen_data.output_dir))\n",
    "# for f in az_el_codegen_data.generated_files:\n",
    "#     print(\"  |- {}\".format(os.path.relpath(f, az_el_codegen_data.output_dir)))\n",
    "\n",
    "# show the generated code\n",
    "display_code_file(az_el_codegen_data.generated_files[0], \"C++\")"
   ]
  },
  {
   "cell_type": "markdown",
   "id": "55536c2f",
   "metadata": {},
   "source": [
    "## Generate python code"
   ]
  },
  {
   "cell_type": "code",
   "execution_count": 86,
   "id": "a129c70a",
   "metadata": {},
   "outputs": [],
   "source": [
    "# # generate a C++ function from the python function\n",
    "# az_el_codegen_data = az_el_codegen_python.generate_function()\n",
    "\n",
    "# # print(\"Files generated in {}:\\n\".format(az_el_codegen_data.output_dir))\n",
    "# # for f in az_el_codegen_data.generated_files:\n",
    "# #     print(\"  |- {}\".format(os.path.relpath(f, az_el_codegen_data.output_dir)))\n",
    "\n",
    "# # show the generated code\n",
    "# display_code_file(az_el_codegen_data.generated_files[0], \"python\")"
   ]
  },
  {
   "cell_type": "markdown",
   "id": "877b0097",
   "metadata": {},
   "source": [
    "# Pose\n",
    "\n",
    "(x,y,z) position + Quaternion for orientation"
   ]
  },
  {
   "cell_type": "code",
   "execution_count": 139,
   "id": "77e40130",
   "metadata": {},
   "outputs": [
    {
     "data": {
      "text/plain": [
       "<Pose3 R=<Rot3 <Q xyzw=[R_x, R_y, R_z, R_w]>>, t=(t0, t1, t2)>"
      ]
     },
     "metadata": {},
     "output_type": "display_data"
    },
    {
     "data": {
      "text/latex": [
       "$\\displaystyle \\left[\\begin{matrix}t_{0}\\\\t_{1}\\\\t_{2}\\end{matrix}\\right]$"
      ],
      "text/plain": [
       "⎡t₀⎤\n",
       "⎢  ⎥\n",
       "⎢t₁⎥\n",
       "⎢  ⎥\n",
       "⎣t₂⎦"
      ]
     },
     "metadata": {},
     "output_type": "display_data"
    }
   ],
   "source": [
    "# Create a pose type from a rotation and translation\n",
    "\n",
    "# Orientation of body frame wrt world frame\n",
    "R_B = sf.Rot3.symbolic(\"R\")\n",
    "\n",
    "# Position of body frame wrt world frame written in the world frame\n",
    "p_B = sf.Vector3.symbolic(\"t\")\n",
    "\n",
    "pose_B = sf.Pose3(R=R_B, t=p_B)\n",
    "display(world_T_body)\n",
    "\n",
    "display(pose_B.position())"
   ]
  },
  {
   "cell_type": "markdown",
   "id": "b58ca352",
   "metadata": {},
   "source": [
    "# Numerical Evaluation"
   ]
  },
  {
   "cell_type": "code",
   "execution_count": 132,
   "id": "fb136ed0",
   "metadata": {},
   "outputs": [
    {
     "data": {
      "text/plain": [
       "<Rot3 <Q xyzw=[1.0, 0.0, 0.0, 0.0]>>"
      ]
     },
     "metadata": {},
     "output_type": "display_data"
    }
   ],
   "source": [
    "rot_sym = sf.Rot3.symbolic(\"rot\")\n",
    "rotN = sf.Rot3.from_storage([1,0,0,0])\n",
    "rot_num = rot_sym.subs(rot_sym, rotN)\n",
    "\n",
    "display(rot_num.evalf())  # Numerical evaluation"
   ]
  },
  {
   "cell_type": "code",
   "execution_count": 147,
   "id": "1192f10f",
   "metadata": {},
   "outputs": [
    {
     "data": {
      "text/plain": [
       "symforce.geo.matrix.Matrix31"
      ]
     },
     "execution_count": 147,
     "metadata": {},
     "output_type": "execute_result"
    }
   ],
   "source": [
    "p_B = pose_B.position()\n",
    "type(p_B)"
   ]
  },
  {
   "cell_type": "code",
   "execution_count": null,
   "id": "76623e72",
   "metadata": {},
   "outputs": [],
   "source": []
  }
 ],
 "metadata": {
  "kernelspec": {
   "display_name": "Python 3 (ipykernel)",
   "language": "python",
   "name": "python3"
  },
  "language_info": {
   "codemirror_mode": {
    "name": "ipython",
    "version": 3
   },
   "file_extension": ".py",
   "mimetype": "text/x-python",
   "name": "python",
   "nbconvert_exporter": "python",
   "pygments_lexer": "ipython3",
   "version": "3.10.8"
  }
 },
 "nbformat": 4,
 "nbformat_minor": 5
}
