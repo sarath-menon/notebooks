{
 "cells": [
  {
   "cell_type": "code",
   "execution_count": 1,
   "id": "bee0d32e-556c-4bf0-a2ae-06f139e0df9f",
   "metadata": {},
   "outputs": [
    {
     "name": "stderr",
     "output_type": "stream",
     "text": [
      "\u001b[32m\u001b[1m  Activating\u001b[22m\u001b[39m project at `~/Documents/eth_courses/notebooks/math/julia/calculus/differentialequations`\n"
     ]
    }
   ],
   "source": [
    "import Pkg; Pkg.activate(@__DIR__); Pkg.instantiate();"
   ]
  },
  {
   "cell_type": "code",
   "execution_count": 3,
   "id": "e1ba8480-3465-41e9-8ebc-09417faa0d35",
   "metadata": {},
   "outputs": [],
   "source": [
    "using DifferentialEquations\n",
    "using BenchmarkTools\n",
    "using CSV, DataFrames\n",
    "using Tables\n",
    "using StaticArrays\n",
    "using DelimitedFiles"
   ]
  },
  {
   "cell_type": "markdown",
   "id": "d132c5d0-0bfb-4c9c-a0b7-04f9aefa2695",
   "metadata": {},
   "source": [
    "## System definion"
   ]
  },
  {
   "cell_type": "code",
   "execution_count": 176,
   "id": "f11b2682-40e9-4c72-a4ae-5890adbf00ce",
   "metadata": {},
   "outputs": [
    {
     "data": {
      "text/plain": [
       "0.01"
      ]
     },
     "execution_count": 176,
     "metadata": {},
     "output_type": "execute_result"
    }
   ],
   "source": [
    "function lorenz!(du, u, p, t)\n",
    "    du[1] = 10.0 * (u[2] - u[1])\n",
    "    du[2] = u[1] * (28.0 - u[3]) - u[2]\n",
    "    du[3] = u[1] * u[2] - (8 / 3) * u[3]\n",
    "    nothing\n",
    "end\n",
    "\n",
    "tspan = (0.0, 60.0)\n",
    "const dt::Float64 = 0.01"
   ]
  },
  {
   "cell_type": "markdown",
   "id": "8f7aa505-77a4-4f79-a924-07f7204907cc",
   "metadata": {},
   "source": [
    "# Method 1: Periodic Callback"
   ]
  },
  {
   "cell_type": "code",
   "execution_count": 177,
   "id": "5211bf6b-7565-4bd8-b937-affdf640aa78",
   "metadata": {},
   "outputs": [],
   "source": [
    "control_cb = PeriodicCallback(dt, initial_affect=true, save_positions=(false, true)) do integrator\n",
    "\n",
    "    #@show integrator.t\n",
    "        \n",
    "    #  push!(logging_vars, (integrator.t, integrator.u))\n",
    "end;"
   ]
  },
  {
   "cell_type": "code",
   "execution_count": 180,
   "id": "d22ecc3f-35ca-41f9-b75c-fe70a5c7668f",
   "metadata": {},
   "outputs": [
    {
     "name": "stdout",
     "output_type": "stream",
     "text": [
      "  0.002754 seconds (12.06 k allocations: 1.772 MiB)\n"
     ]
    }
   ],
   "source": [
    "let\n",
    "\n",
    "\n",
    "u0 = ones(8)\n",
    "prob = ODEProblem(quad_2d!, u0, tspan, callback=control_cb);\n",
    "@time sol = solve(prob, Tsit5(), dense=false);\n",
    "\n",
    "end;"
   ]
  },
  {
   "cell_type": "markdown",
   "id": "6a89faad-d76c-4dc0-9859-2db02769d346",
   "metadata": {},
   "source": [
    "# Method 2: Periodic Callback - Preallocate logging matrix"
   ]
  },
  {
   "cell_type": "code",
   "execution_count": 181,
   "id": "4411ec2d-70f8-4f9d-9fc3-3b9e254a1115",
   "metadata": {},
   "outputs": [
    {
     "data": {
      "text/plain": [
       "write_row_vector! (generic function with 1 method)"
      ]
     },
     "execution_count": 181,
     "metadata": {},
     "output_type": "execute_result"
    }
   ],
   "source": [
    "function write_row_vector!(A, i, row)\n",
    "    for j in 1:3\n",
    "        A[i,j] = row[j]\n",
    "    end\n",
    "end"
   ]
  },
  {
   "cell_type": "code",
   "execution_count": 182,
   "id": "a6baeaaf-254b-4633-88a9-cf2a872510d3",
   "metadata": {},
   "outputs": [],
   "source": [
    "control_cb = PeriodicCallback(dt, initial_affect=true, save_positions=(false, true)) do integrator\n",
    "    n_timestep = convert(Int, round(integrator.t/dt)+1)\n",
    "\n",
    "    X = @view integrator.u[1:3]\n",
    "    \n",
    "    write_row_vector!(integrator.p.log_matrix, n_timestep, integrator.u)\n",
    "end;"
   ]
  },
  {
   "cell_type": "code",
   "execution_count": 208,
   "id": "b910a812-8573-43dd-81b9-66af4e5a8a76",
   "metadata": {
    "scrolled": true
   },
   "outputs": [
    {
     "name": "stdout",
     "output_type": "stream",
     "text": [
      "  0.004368 seconds (6.06 k allocations: 717.094 KiB)\n",
      "  0.001876 seconds (55 allocations: 4.003 MiB)\n"
     ]
    }
   ],
   "source": [
    "let\n",
    "\n",
    "n_rows::Int = length(tspan[1]:dt:tspan[2])\n",
    "n_cols = 3\n",
    "log_matrix =zeros(n_rows,n_cols)\n",
    "    \n",
    "params = (;log_matrix=log_matrix)\n",
    "\n",
    "\n",
    "u0 = ones(3)\n",
    "prob = ODEProblem(lorenz!, u0, tspan, params, callback=control_cb);\n",
    "@time sol = solve(prob, Tsit5(),save_everystep=false, dense=false);\n",
    "\n",
    "@time CSV.write(\"log_no_alloc.csv\",  Tables.table(log_matrix), writeheader=false)\n",
    "\n",
    "end;"
   ]
  },
  {
   "cell_type": "markdown",
   "id": "67990dc6-f573-47e8-ac0b-c4858c4c22cf",
   "metadata": {},
   "source": [
    "# Method 3: No Callback with fixed timestep (use default logging from DifferentialEquations.jl)"
   ]
  },
  {
   "cell_type": "code",
   "execution_count": 186,
   "id": "bc6404fe-6f17-4b05-a15d-3c8fd8157467",
   "metadata": {},
   "outputs": [
    {
     "name": "stdout",
     "output_type": "stream",
     "text": [
      "  0.007566 seconds (6.05 k allocations: 846.906 KiB)\n"
     ]
    }
   ],
   "source": [
    "let\n",
    "    \n",
    "prob = ODEProblem(lorenz!, u0, tspan)\n",
    "@time sol = solve(prob, Tsit5(), dt=0.01, adaptive=false, dense=false);\n",
    "\n",
    "end;"
   ]
  },
  {
   "cell_type": "code",
   "execution_count": 206,
   "id": "222157bd-42e0-45de-8d92-c13671a8c369",
   "metadata": {},
   "outputs": [
    {
     "name": "stdout",
     "output_type": "stream",
     "text": [
      "  0.006877 seconds (49 allocations: 4.891 KiB)\n"
     ]
    }
   ],
   "source": [
    "let\n",
    "\n",
    "u0 = ones(8)\n",
    "tspan = (0.0, 100.0)\n",
    "prob = ODEProblem(lorenz!, u0, tspan)\n",
    "@time sol = solve(prob, Tsit5(), abstol=1e-8, reltol=1e-8, save_everystep=false, dense=false);\n",
    "\n",
    "end;"
   ]
  },
  {
   "cell_type": "code",
   "execution_count": null,
   "id": "45b8ae3a-35d6-4c3e-a41e-20a32b9d4530",
   "metadata": {},
   "outputs": [],
   "source": []
  }
 ],
 "metadata": {
  "kernelspec": {
   "display_name": "control_precompiled 1.9.1",
   "language": "julia",
   "name": "control_precompiled-1.9"
  },
  "language_info": {
   "file_extension": ".jl",
   "mimetype": "application/julia",
   "name": "julia",
   "version": "1.9.1"
  }
 },
 "nbformat": 4,
 "nbformat_minor": 5
}
