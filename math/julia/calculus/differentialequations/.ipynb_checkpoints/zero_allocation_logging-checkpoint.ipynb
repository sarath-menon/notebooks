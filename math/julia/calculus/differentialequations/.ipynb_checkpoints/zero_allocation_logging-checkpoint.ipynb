{
 "cells": [
  {
   "cell_type": "code",
   "execution_count": 6,
   "id": "62456b22-83f8-4707-b36d-170f377e05d0",
   "metadata": {},
   "outputs": [
    {
     "name": "stderr",
     "output_type": "stream",
     "text": [
      "\u001b[32m\u001b[1m  Activating\u001b[22m\u001b[39m project at `~/Documents/eth_courses/notebooks/math/julia/calculus/differentialequations`\n"
     ]
    }
   ],
   "source": [
    "import Pkg; Pkg.activate(@__DIR__); Pkg.instantiate();"
   ]
  },
  {
   "cell_type": "code",
   "execution_count": 7,
   "id": "f16a6dec-2cd9-4ff7-bcd4-c898dc176b75",
   "metadata": {},
   "outputs": [],
   "source": [
    "using DifferentialEquations\n",
    "using BenchmarkTools\n",
    "using CSV, DataFrames\n",
    "using Tables\n",
    "using StaticArrays\n",
    "using DelimitedFiles"
   ]
  },
  {
   "cell_type": "code",
   "execution_count": 22,
   "id": "cfb78e21-5fcd-4987-a025-1d72972b97c0",
   "metadata": {},
   "outputs": [
    {
     "data": {
      "text/plain": [
       "(0.0, 60.0)"
      ]
     },
     "execution_count": 22,
     "metadata": {},
     "output_type": "execute_result"
    }
   ],
   "source": [
    "const dt::Float64 = 0.01\n",
    "tspan = (0.0, 60.0)"
   ]
  },
  {
   "cell_type": "markdown",
   "id": "0e8bf160-4b91-4f92-9449-9c6a567dd410",
   "metadata": {},
   "source": [
    "# Fill matrix Rowwise - Zero allocations "
   ]
  },
  {
   "cell_type": "code",
   "execution_count": 10,
   "id": "a7acb8b3-e4b9-4b6e-9b18-b49c56774293",
   "metadata": {},
   "outputs": [
    {
     "name": "stdout",
     "output_type": "stream",
     "text": [
      "  0.000009 seconds (1 allocation: 3.250 KiB)\n",
      "  0.000001 seconds\n",
      "  0.000872 seconds (60 allocations: 4.003 MiB)\n"
     ]
    }
   ],
   "source": [
    "function set_val!(A)\n",
    "  for i in 1:100\n",
    "      for j in 1:4\n",
    "        A[i,j] = 2.4\n",
    "      end\n",
    "  end\n",
    "end\n",
    "\n",
    "let\n",
    "\n",
    "@time A =zeros(100,4)\n",
    "\n",
    "@time set_val!(A)\n",
    "    \n",
    "@time CSV.write(\"FileName.csv\",  Tables.table(A), writeheader=false)\n",
    "    \n",
    "end;"
   ]
  },
  {
   "cell_type": "code",
   "execution_count": 26,
   "id": "ef538e15-c5e0-4603-b394-29368ba3aaeb",
   "metadata": {},
   "outputs": [
    {
     "name": "stdout",
     "output_type": "stream",
     "text": [
      "  0.000023 seconds (2 allocations: 187.609 KiB)\n",
      "  0.000004 seconds\n",
      "  0.000676 seconds (60 allocations: 4.003 MiB)\n"
     ]
    }
   ],
   "source": [
    "function write_row_vector!(A, i, row)\n",
    "    for j in 1:4\n",
    "        A[i,j] = row[j]\n",
    "    end\n",
    "end\n",
    "\n",
    "function logger!(A)\n",
    "    row = SA_F64[2.4, 2.4, 2.4, 2.4]\n",
    "  for i in 1:100\n",
    "    write_row_vector!(A, i, row)\n",
    "  end\n",
    "end\n",
    "\n",
    "let\n",
    "\n",
    "n_rows::Int = length(tspan[1]:dt:tspan[2])\n",
    "n_cols = 4\n",
    "\n",
    "@time A =zeros(n_rows,n_cols)\n",
    "\n",
    "@time logger!(A)\n",
    "    \n",
    "@time CSV.write(\"FileName.csv\",  Tables.table(A), writeheader=false)\n",
    "    \n",
    "end;"
   ]
  },
  {
   "cell_type": "code",
   "execution_count": null,
   "id": "eb14b81d-39ed-4b2a-8704-a3ae9d6e5a4c",
   "metadata": {},
   "outputs": [],
   "source": []
  }
 ],
 "metadata": {
  "kernelspec": {
   "display_name": "control_precompiled 1.9.1",
   "language": "julia",
   "name": "control_precompiled-1.9"
  },
  "language_info": {
   "file_extension": ".jl",
   "mimetype": "application/julia",
   "name": "julia",
   "version": "1.9.1"
  }
 },
 "nbformat": 4,
 "nbformat_minor": 5
}
