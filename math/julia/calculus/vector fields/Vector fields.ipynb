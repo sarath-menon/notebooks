{
 "cells": [
  {
   "cell_type": "code",
   "execution_count": 10,
   "id": "039d5bb6",
   "metadata": {},
   "outputs": [
    {
     "name": "stderr",
     "output_type": "stream",
     "text": [
      "\u001b[32m\u001b[1m  Activating\u001b[22m\u001b[39m project at `~/Documents/eth_courses/notebooks/math/julia/calculus/vector fields`\n"
     ]
    }
   ],
   "source": [
    "import Pkg; Pkg.activate(@__DIR__); Pkg.instantiate();"
   ]
  },
  {
   "cell_type": "code",
   "execution_count": 16,
   "id": "adc0f955-f1d3-4714-92ed-13ffb37e8cf3",
   "metadata": {},
   "outputs": [
    {
     "data": {
      "text/plain": [
       "Point3{Float64}\u001b[90m (alias for \u001b[39m\u001b[90mPoint{3, Float64}\u001b[39m\u001b[90m)\u001b[39m"
      ]
     },
     "execution_count": 16,
     "metadata": {},
     "output_type": "execute_result"
    }
   ],
   "source": [
    "using GLMakie \n",
    "using LinearAlgebra\n",
    "using SymPy\n",
    "\n",
    "GLMakie.activate!(inline=false)\n",
    "\n",
    "P2_f64 = Point{2, Float64}\n",
    "P3_f64 = Point{3, Float64}"
   ]
  },
  {
   "cell_type": "markdown",
   "id": "794ef820-50a9-4305-83ca-e70910ed56fa",
   "metadata": {},
   "source": [
    "# 2D \n",
    "https://www.youtube.com/watch?v=ar9SeJpbPI8&list=PLSQl0a2vh4HC5feHa6Rc5c0wbRTx56nF7&index=47"
   ]
  },
  {
   "cell_type": "code",
   "execution_count": 15,
   "id": "ae5e2d47-9669-4cd8-b862-5ca736cdfa80",
   "metadata": {},
   "outputs": [
    {
     "data": {
      "text/plain": [
       "GLMakie.Screen(...)"
      ]
     },
     "execution_count": 15,
     "metadata": {},
     "output_type": "execute_result"
    }
   ],
   "source": [
    "let\n",
    "\n",
    "fig = Figure(resolution = (800, 800))\n",
    "Axis(fig[1, 1], backgroundcolor = \"black\" , title = \"2D Vector field\")\n",
    "\n",
    "x_vec = LinRange(-1, 1, 20)\n",
    "y_vec = LinRange(-1, 1, 20)\n",
    "\n",
    "f₁(x,y) = x*y\n",
    "f₂(x,y) = y^2-x^2\n",
    "    \n",
    "f(x,y) = [f₁(x,y), f₂(x,y)]\n",
    "\n",
    "input_vec =  P2_f64[];\n",
    "f_vec = P2_f64[];\n",
    "\n",
    "for x in x_vec\n",
    "    for y in y_vec\n",
    "        push!(input_vec, P2_f64(x,y))\n",
    "        push!(f_vec, f(x,y))\n",
    "    end\n",
    "end\n",
    "\n",
    "strength = sqrt.(norm.(f_vec))\n",
    "\n",
    "arrows!(input_vec, f_vec, arrowsize = 20, lengthscale = 0.3,\n",
    "    arrowcolor = strength, linecolor = strength, linewidth = 4)\n",
    "display(fig)\n",
    "\n",
    "end"
   ]
  },
  {
   "cell_type": "markdown",
   "id": "c9edad08-088c-469c-9d65-28d31390887a",
   "metadata": {},
   "source": [
    "# Derivative of vector field"
   ]
  },
  {
   "cell_type": "code",
   "execution_count": 73,
   "id": "0a00467d-a7f8-48d5-9919-2078c23231f1",
   "metadata": {},
   "outputs": [
    {
     "data": {
      "text/latex": [
       "$\\left[ \\begin{array}{rr}x&2 y\\end{array}\\right]$\n"
      ],
      "text/plain": [
       "1×2 Matrix{Sym}:\n",
       " x  2⋅y"
      ]
     },
     "execution_count": 73,
     "metadata": {},
     "output_type": "execute_result"
    }
   ],
   "source": [
    "let \n",
    "\n",
    "@syms x::(real,positive) y::(real,positive)\n",
    "\n",
    "SymPy.VectorField\n",
    "\n",
    "Dx= Differential(x)\n",
    "\n",
    "f₁(x,y) = x*y\n",
    "f₂(x,y) = y^2-x^2\n",
    "    \n",
    "f(x,y) = [f₁(x,y) f₂(x,y)]\n",
    "\n",
    "df_xx_vec = [diff(f₁(x,y), x) diff(f₂(x,y), x)]; # partial derivative of f_1,f_1 w.r.t x \n",
    "df_xy_vec = [diff(f₁(x,y), x) diff(f₂(x,y), y)]; # partial derivative of f_1 w.r.t x, f_2 w.r.t y\n",
    "df_yx_vec = [diff(f₁(x,y), y) diff(f₂(x,y), x)];  # partial derivative of f_2 w.r.t x, f_1 w.r.t y\n",
    "df_yy_vec = [diff(f₁(x,y), y) diff(f₂(x,y), y)];  # partial derivative of f_2 w.r.t y, f_2 w.r.t y\n",
    "\n",
    "end"
   ]
  },
  {
   "cell_type": "markdown",
   "id": "d71d831c-2cf0-459c-8261-5d90539ef664",
   "metadata": {},
   "source": [
    "### Animation"
   ]
  },
  {
   "cell_type": "code",
   "execution_count": 9,
   "id": "a7588128-e793-4edd-a6a5-2bc1c5004d6c",
   "metadata": {},
   "outputs": [],
   "source": [
    "let\n",
    "\n",
    "fig = Figure(resolution = (800, 800))\n",
    "ax1 = Axis(fig[1, 1], backgroundcolor = \"black\" , title = \"2D Vector field\")\n",
    "\n",
    "x_vec = LinRange(-1, 1, 20)\n",
    "y_vec = LinRange(-1, 1, 20)\n",
    "\n",
    "f₁(x,y) = x*y\n",
    "f₂(x,y) = y^2-x^2\n",
    "    \n",
    "f(x,y) = [f₁(x,y), f₂(x,y)]\n",
    "    \n",
    "input_vec = Point2f[];\n",
    "f_vec = Point2f[];\n",
    "\n",
    "for x in x_vec\n",
    "    for y in y_vec\n",
    "        push!(input_vec, Point2f(x,y))\n",
    "        push!(f_vec, f(x,y))\n",
    "    end\n",
    "end\n",
    "\n",
    "strength = sqrt.(norm.(f_vec))\n",
    "\n",
    "arrows!(input_vec, f_vec, arrowsize = 20, lengthscale = 0.3,\n",
    "    arrowcolor = strength, linecolor = strength, linewidth = 4)\n",
    "display(fig)\n",
    "\n",
    "# Plot fluid particle \n",
    "X_initial = input_vec[50]\n",
    "\n",
    "X = Observable{Point2f}(X_initial)\n",
    "\n",
    "scatter!(ax1, X, markersize = 60)\n",
    "\n",
    "tspan = (0.0,10.0)\n",
    "dt= 0.1\n",
    "\n",
    "for t in tspan[1]:dt:tspan[2]\n",
    "    velocity = f(X[][1], X[][2])\n",
    "    X[] = X[] + (velocity*dt)\n",
    "    sleep(0.1)\n",
    "end\n",
    "\n",
    "end"
   ]
  },
  {
   "cell_type": "markdown",
   "id": "09a78d3d-0e72-44ed-9142-9e181bc7ee0d",
   "metadata": {},
   "source": [
    "# 3D"
   ]
  },
  {
   "cell_type": "markdown",
   "id": "fedc604c-c865-4216-b00e-a65f317f39fd",
   "metadata": {},
   "source": [
    "## Example 1: $f(x,y,z)  = [x , y, z]$"
   ]
  },
  {
   "cell_type": "code",
   "execution_count": 56,
   "id": "2f7312e2-7643-44df-80cf-3ddb8dfa8021",
   "metadata": {},
   "outputs": [
    {
     "data": {
      "text/plain": [
       "GLMakie.Screen(...)"
      ]
     },
     "execution_count": 56,
     "metadata": {},
     "output_type": "execute_result"
    }
   ],
   "source": [
    "let\n",
    "\n",
    "fig = Figure()\n",
    "\n",
    "ax_high = 2\n",
    "ax_low = -2\n",
    "ax1 = Axis3(fig[1, 1], aspect = :equal, title = \"3D Vector field\",\n",
    "        #limits =(ax_low, ax_high,ax_low, ax_high,ax_low, ax_high,\n",
    "        xlabel=\"X\", ylabel=\"Y\", zlabel=\"Z\",\n",
    "        xlabelsize=30, ylabelsize=30, zlabelsize=30\n",
    "    )\n",
    "\n",
    "x_vec = LinRange(-1, 1, 5)\n",
    "y_vec = LinRange(-1, 1, 5)\n",
    "z_vec = LinRange(-1, 1, 5)\n",
    "\n",
    "f₁(x,y,z) = x\n",
    "f₂(x,y,z) = y\n",
    "f₃(x,y,z) = z\n",
    "    \n",
    "f(x,y,z) = [f₁(x,y,z), f₂(x,y,z), f₃(x,y,z)]\n",
    "\n",
    "input_vec =  P3_f64[];\n",
    "f_vec = P3_f64[];\n",
    "\n",
    "for x in x_vec\n",
    "    for y in y_vec\n",
    "        for z in z_vec\n",
    "            push!(input_vec, P3_f64(x,y,z))\n",
    "            push!(f_vec, f(x,y,z))\n",
    "        end\n",
    "    end\n",
    "end\n",
    "\n",
    "\n",
    "arrow_scale = 0.2   \n",
    "f_vec_scaled = map(p -> arrow_scale * Vec3f(p[1], p[2], p[3]), f_vec)\n",
    "    \n",
    "arrows!(\n",
    "    input_vec ,f_vec_scaled,   fxaa=true, # turn on anti-aliasing\n",
    "    linecolor = :gray, arrowcolor = :black,\n",
    "    linewidth = 0.01, arrowsize = Vec3f(0.03, 0.03, 0.06),\n",
    "    align = :center\n",
    ")\n",
    "\n",
    "f_vec\n",
    "    \n",
    "display(fig)\n",
    "end"
   ]
  },
  {
   "cell_type": "markdown",
   "id": "b6f84554-e9a8-418c-b1c1-1cb9201a5868",
   "metadata": {},
   "source": [
    "## Example 2: $f(x,y,z)  = [yz,xz,xy]$"
   ]
  },
  {
   "cell_type": "code",
   "execution_count": 58,
   "id": "bd436079-fde5-4344-9ea3-d2a69c365ccd",
   "metadata": {},
   "outputs": [
    {
     "data": {
      "text/plain": [
       "GLMakie.Screen(...)"
      ]
     },
     "execution_count": 58,
     "metadata": {},
     "output_type": "execute_result"
    }
   ],
   "source": [
    "let\n",
    "\n",
    "fig = Figure()\n",
    "\n",
    "ax_high = 2\n",
    "ax_low = -2\n",
    "ax1 = Axis3(fig[1, 1], aspect = :equal, title = \"3D Vector field\",\n",
    "        #limits =(ax_low, ax_high,ax_low, ax_high,ax_low, ax_high,\n",
    "        xlabel=\"X\", ylabel=\"Y\", zlabel=\"Z\",\n",
    "        xlabelsize=30, ylabelsize=30, zlabelsize=30\n",
    "    )\n",
    "\n",
    "x_vec = LinRange(-1, 1, 10)\n",
    "y_vec = LinRange(-1, 1, 10)\n",
    "z_vec = LinRange(-1, 1, 10)\n",
    "\n",
    "f₁(x,y,z) = y*z\n",
    "f₂(x,y,z) = x*z\n",
    "f₃(x,y,z) = x*y\n",
    "    \n",
    "f(x,y,z) = [f₁(x,y,z), f₂(x,y,z), f₃(x,y,z)]\n",
    "\n",
    "input_vec =  P3_f64[];\n",
    "f_vec = P3_f64[];\n",
    "\n",
    "for x in x_vec\n",
    "    for y in y_vec\n",
    "        for z in z_vec\n",
    "            push!(input_vec, P3_f64(x,y,z))\n",
    "            push!(f_vec, f(x,y,z))\n",
    "        end\n",
    "    end\n",
    "end\n",
    "        \n",
    "        \n",
    "# ns = map(p -> arrow_scale * Vec3f(p[1], p[2], p[3]), f_vec)\n",
    "# lengths = norm.(ns)\n",
    "\n",
    "arrow_scale = 0.2\n",
    "f_vec_scaled = map(p -> arrow_scale * Vec3f(p[1], p[2], p[3]), f_vec)\n",
    "    \n",
    "arrows!(\n",
    "    input_vec,  f_vec_scaled, fxaa=true, # turn on anti-aliasing\n",
    "    linecolor = :gray, arrowcolor = :black,\n",
    "    linewidth = 0.01, arrowsize = Vec3f(0.03, 0.03, 0.06),\n",
    "    align = :center\n",
    ")\n",
    "\n",
    "\n",
    "display(fig)\n",
    "end"
   ]
  },
  {
   "cell_type": "code",
   "execution_count": null,
   "id": "2eb2e044-8454-43a0-837a-b1ca3d524e32",
   "metadata": {},
   "outputs": [],
   "source": []
  },
  {
   "cell_type": "markdown",
   "id": "c9923f49-0936-430b-8cbf-dbb901fbfffb",
   "metadata": {},
   "source": [
    "# Partial derivative of vector field"
   ]
  },
  {
   "cell_type": "code",
   "execution_count": null,
   "id": "2a3865cf-c99c-4910-b4fa-485d53c579c5",
   "metadata": {},
   "outputs": [],
   "source": []
  }
 ],
 "metadata": {
  "kernelspec": {
   "display_name": "control_precompiled 1.9.1",
   "language": "julia",
   "name": "control_precompiled-1.9"
  },
  "language_info": {
   "file_extension": ".jl",
   "mimetype": "application/julia",
   "name": "julia",
   "version": "1.9.1"
  }
 },
 "nbformat": 4,
 "nbformat_minor": 5
}
