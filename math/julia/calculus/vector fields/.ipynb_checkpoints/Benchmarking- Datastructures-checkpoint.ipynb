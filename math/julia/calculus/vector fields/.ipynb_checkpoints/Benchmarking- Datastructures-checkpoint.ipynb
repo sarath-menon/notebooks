{
 "cells": [
  {
   "cell_type": "code",
   "execution_count": 2,
   "id": "d46ab2ff-b64c-4eed-aaf5-d3021ad97016",
   "metadata": {},
   "outputs": [
    {
     "name": "stderr",
     "output_type": "stream",
     "text": [
      "\u001b[32m\u001b[1m  Activating\u001b[22m\u001b[39m project at `~/Documents/eth_courses/notebooks/math/julia/calculus/vector fields`\n"
     ]
    }
   ],
   "source": [
    "import Pkg; Pkg.activate(@__DIR__); Pkg.instantiate();"
   ]
  },
  {
   "cell_type": "code",
   "execution_count": 35,
   "id": "a768e20b-be11-45cb-84f1-64b1af992e24",
   "metadata": {},
   "outputs": [],
   "source": [
    "using LinearAlgebra\n",
    "\n",
    "# P2_f64 = Point{2, Float64}\n",
    "# P3_f64 = Point{3, Float64}"
   ]
  },
  {
   "cell_type": "markdown",
   "id": "992a837a-5bbf-425d-8607-6ba7e028f6f7",
   "metadata": {},
   "source": [
    "# Vector\n",
    "\n",
    "Array with 1 dimension"
   ]
  },
  {
   "cell_type": "code",
   "execution_count": 36,
   "id": "7cb00a0e-a39e-4b07-9fc0-4a36e96b74cc",
   "metadata": {},
   "outputs": [
    {
     "data": {
      "text/plain": [
       "4-element Vector{Int64}:\n",
       " 1\n",
       " 2\n",
       " 3\n",
       " 4"
      ]
     },
     "execution_count": 36,
     "metadata": {},
     "output_type": "execute_result"
    }
   ],
   "source": [
    "let \n",
    "\n",
    "# 4-element Vector{Int64}\n",
    "A = [1, 2,  3, 4 ]\n",
    "\n",
    "\n",
    "end"
   ]
  },
  {
   "cell_type": "markdown",
   "id": "46cc798e-a0f8-4ec2-8199-003c20be7389",
   "metadata": {},
   "source": [
    "### Range"
   ]
  },
  {
   "cell_type": "code",
   "execution_count": 48,
   "id": "869c785e-071d-4a08-84dc-f1e9e3274b62",
   "metadata": {},
   "outputs": [
    {
     "name": "stdout",
     "output_type": "stream",
     "text": [
      "range = 0.0:0.1:1.0\n",
      "collect(range) = [0.0, 0.1, 0.2, 0.3, 0.4, 0.5, 0.6, 0.7, 0.8, 0.9, 1.0]\n"
     ]
    },
    {
     "data": {
      "text/plain": [
       "11-element Vector{Float64}:\n",
       " 0.0\n",
       " 0.1\n",
       " 0.2\n",
       " 0.3\n",
       " 0.4\n",
       " 0.5\n",
       " 0.6\n",
       " 0.7\n",
       " 0.8\n",
       " 0.9\n",
       " 1.0"
      ]
     },
     "execution_count": 48,
     "metadata": {},
     "output_type": "execute_result"
    }
   ],
   "source": [
    "let\n",
    "# start:step_size:stop\n",
    "range = 0:0.1:1\n",
    "@show range\n",
    "\n",
    "# actual values\n",
    "@show collect(range)\n",
    "    \n",
    "end"
   ]
  },
  {
   "cell_type": "code",
   "execution_count": 66,
   "id": "142dcf4a-6529-468f-9804-f80a2c95138b",
   "metadata": {},
   "outputs": [
    {
     "name": "stdout",
     "output_type": "stream",
     "text": [
      "collect(X) = [0.0, 0.1111111111111111, 0.2222222222222222, 0.3333333333333333, 0.4444444444444444, 0.5555555555555556, 0.6666666666666666, 0.7777777777777778, 0.8888888888888888, 1.0]\n"
     ]
    },
    {
     "data": {
      "text/plain": [
       "10-element Vector{Float64}:\n",
       " 0.0\n",
       " 0.1111111111111111\n",
       " 0.2222222222222222\n",
       " 0.3333333333333333\n",
       " 0.4444444444444444\n",
       " 0.5555555555555556\n",
       " 0.6666666666666666\n",
       " 0.7777777777777778\n",
       " 0.8888888888888888\n",
       " 1.0"
      ]
     },
     "execution_count": 66,
     "metadata": {},
     "output_type": "execute_result"
    }
   ],
   "source": [
    "let\n",
    "\n",
    "# minval, maxval, length\n",
    "X = range(0.0, 1.0 ,length=10)\n",
    "\n",
    "@show collect(X)\n",
    "\n",
    "end"
   ]
  },
  {
   "cell_type": "markdown",
   "id": "b0ed3c08-8106-482f-b88c-37058ea13b26",
   "metadata": {},
   "source": [
    "# Matrix \n",
    "\n",
    "Array with 2 dimensions - (row, columns)"
   ]
  },
  {
   "cell_type": "code",
   "execution_count": 30,
   "id": "11a5b3de-8213-446f-a1b3-2e526bc5471b",
   "metadata": {},
   "outputs": [
    {
     "name": "stdout",
     "output_type": "stream",
     "text": [
      "A[2, 2] = 4\n"
     ]
    },
    {
     "data": {
      "text/plain": [
       "4"
      ]
     },
     "execution_count": 30,
     "metadata": {},
     "output_type": "execute_result"
    }
   ],
   "source": [
    "let\n",
    "\n",
    "# 1×2 Matrix{Int64} \n",
    "A = [1 2 ; 3 4 ]\n",
    "    \n",
    "# 2×2 Matrix{Int64} \n",
    "A = [1 2 ; 3 4 ]\n",
    "\n",
    "# accesing an element\n",
    "@show A[2,2]\n",
    " \n",
    "end"
   ]
  },
  {
   "cell_type": "code",
   "execution_count": 27,
   "id": "26cd090f-93f4-4304-a44d-c808319313f7",
   "metadata": {},
   "outputs": [
    {
     "name": "stdout",
     "output_type": "stream",
     "text": [
      "(i, B[i]) = (1, 1)\n",
      "(i, B[i]) = (2, 3)\n",
      "(i, B[i]) = (3, 5)\n",
      "(i, B[i]) = (4, 2)\n",
      "(i, B[i]) = (5, 4)\n",
      "(i, B[i]) = (6, 6)\n"
     ]
    }
   ],
   "source": [
    "let\n",
    "\n",
    "# 3×2 Matrix{Int64} \n",
    "B = [1 2 ; 3 4; 5 6 ]\n",
    "    \n",
    "# an efficient iterator for visiting each position in A\n",
    "for i in eachindex(B)\n",
    "    @show i, B[i]\n",
    "end\n",
    "    \n",
    "end"
   ]
  },
  {
   "cell_type": "code",
   "execution_count": 25,
   "id": "39eb8e80-5717-4ffe-9660-fb744c122f66",
   "metadata": {},
   "outputs": [
    {
     "data": {
      "text/plain": [
       "2×2 Matrix{Float64}:\n",
       " 0.54875   0.493374\n",
       " 0.660805  0.669907"
      ]
     },
     "execution_count": 25,
     "metadata": {},
     "output_type": "execute_result"
    }
   ],
   "source": [
    "let\n",
    "\n",
    "# create random matrix\n",
    "rand(2,2)\n",
    "\n",
    "end"
   ]
  },
  {
   "cell_type": "code",
   "execution_count": 11,
   "id": "34902601-21d3-458e-b41c-4b2fd292c9e6",
   "metadata": {},
   "outputs": [
    {
     "data": {
      "text/plain": [
       "Vector{Float64}\u001b[90m (alias for \u001b[39m\u001b[90mArray{Float64, 1}\u001b[39m\u001b[90m)\u001b[39m"
      ]
     },
     "execution_count": 11,
     "metadata": {},
     "output_type": "execute_result"
    }
   ],
   "source": [
    "Vector{Float64}"
   ]
  },
  {
   "cell_type": "code",
   "execution_count": null,
   "id": "6091d247-24e6-4f80-8564-c21a991f65fa",
   "metadata": {},
   "outputs": [],
   "source": []
  }
 ],
 "metadata": {
  "kernelspec": {
   "display_name": "control_precompiled 1.9.1",
   "language": "julia",
   "name": "control_precompiled-1.9"
  },
  "language_info": {
   "file_extension": ".jl",
   "mimetype": "application/julia",
   "name": "julia",
   "version": "1.9.1"
  }
 },
 "nbformat": 4,
 "nbformat_minor": 5
}
