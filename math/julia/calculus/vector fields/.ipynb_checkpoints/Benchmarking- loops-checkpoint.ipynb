{
 "cells": [
  {
   "cell_type": "code",
   "execution_count": 2,
   "id": "d46ab2ff-b64c-4eed-aaf5-d3021ad97016",
   "metadata": {},
   "outputs": [
    {
     "name": "stderr",
     "output_type": "stream",
     "text": [
      "\u001b[32m\u001b[1m  Activating\u001b[22m\u001b[39m project at `~/Documents/eth_courses/notebooks/math/julia/calculus/vector fields`\n"
     ]
    }
   ],
   "source": [
    "import Pkg; Pkg.activate(@__DIR__); Pkg.instantiate();"
   ]
  },
  {
   "cell_type": "code",
   "execution_count": 3,
   "id": "a768e20b-be11-45cb-84f1-64b1af992e24",
   "metadata": {},
   "outputs": [
    {
     "data": {
      "text/plain": [
       "Point3{Float64}\u001b[90m (alias for \u001b[39m\u001b[90mPoint{3, Float64}\u001b[39m\u001b[90m)\u001b[39m"
      ]
     },
     "execution_count": 3,
     "metadata": {},
     "output_type": "execute_result"
    }
   ],
   "source": [
    "using GLMakie\n",
    "using LinearAlgebra\n",
    "# using Symbolics\n",
    "using ForwardDiff\n",
    "using BenchmarkTools\n",
    "using Colors\n",
    "\n",
    "GLMakie.activate!(inline=false)\n",
    "P2_f64 = Point{2, Float64}\n",
    "P3_f64 = Point{3, Float64}"
   ]
  },
  {
   "cell_type": "code",
   "execution_count": 17,
   "id": "eb15f963-fdb9-4dbc-8bae-79c976f0ebd1",
   "metadata": {},
   "outputs": [
    {
     "name": "stdout",
     "output_type": "stream",
     "text": [
      "  0.043141 seconds (34.48 k allocations: 2.352 MiB, 98.12% compilation time)\n",
      "elapsed time (ns):  43141005\n",
      "gc time (ns):       0\n",
      "bytes allocated:    2466520\n",
      "pool allocs:        34438\n",
      "non-pool GC allocs: 37\n",
      "minor collections:  0\n",
      "full collections:   0\n",
      "  0.058761 seconds (35.15 k allocations: 2.435 MiB, 98.90% compilation time)\n",
      "elapsed time (ns):  58761010\n",
      "gc time (ns):       0\n",
      "bytes allocated:    2553156\n",
      "pool allocs:        35096\n",
      "non-pool GC allocs: 51\n",
      "minor collections:  0\n",
      "full collections:   0\n",
      "  0.004904 seconds (1.28 k allocations: 35.188 KiB, 98.28% compilation time)\n",
      "elapsed time (ns):  4904489\n",
      "gc time (ns):       0\n",
      "bytes allocated:    36032\n",
      "pool allocs:        1277\n",
      "non-pool GC allocs: 1\n",
      "minor collections:  0\n",
      "full collections:   0\n",
      "typeof(f_vec1) = Vector{Float64}\n",
      "typeof(f_vec2) = Vector{Float64}\n",
      "typeof(f_vec3) = Matrix{Float64}\n",
      "size(f_vec1) = (400,)\n",
      "size(f_vec2) = (400,)\n",
      "size(f_vec3) = (20, 20)\n"
     ]
    },
    {
     "data": {
      "text/plain": [
       "true"
      ]
     },
     "execution_count": 17,
     "metadata": {},
     "output_type": "execute_result"
    }
   ],
   "source": [
    "let\n",
    "\n",
    "x_vec = LinRange(-5, 5, 20)\n",
    "y_vec = LinRange(-5, 5, 20)\n",
    "    \n",
    "f_vec1 = Float64[] \n",
    "f_vec2 = Float64[] \n",
    "f_vec3 = Float64[] \n",
    "\n",
    "f(x,y) = x^2 + y^2\n",
    "\n",
    "@timev f_vec3 = [f(x,y) for x in x_vec, y in y_vec]\n",
    "    \n",
    "@timev [push!(f_vec1, f(x,y)) for x in x_vec, y in y_vec]\n",
    "\n",
    "@timev begin for x in x_vec\n",
    "                for y in y_vec\n",
    "                    push!(f_vec2, f(x,y))\n",
    "                end\n",
    "             end\n",
    "end\n",
    "\n",
    "@show typeof(f_vec1)\n",
    "@show typeof(f_vec2)\n",
    "@show typeof(f_vec3)\n",
    "\n",
    "@show size(f_vec1)\n",
    "@show size(f_vec2)\n",
    "@show size(f_vec3)\n",
    "    \n",
    "f_vec1==f_vec2\n",
    "    \n",
    "    \n",
    "end"
   ]
  }
 ],
 "metadata": {
  "kernelspec": {
   "display_name": "control_precompiled 1.9.1",
   "language": "julia",
   "name": "control_precompiled-1.9"
  },
  "language_info": {
   "file_extension": ".jl",
   "mimetype": "application/julia",
   "name": "julia",
   "version": "1.9.1"
  }
 },
 "nbformat": 4,
 "nbformat_minor": 5
}
