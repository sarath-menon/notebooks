{
 "cells": [
  {
   "cell_type": "code",
   "execution_count": 3,
   "id": "039d5bb6",
   "metadata": {},
   "outputs": [
    {
     "name": "stderr",
     "output_type": "stream",
     "text": [
      "\u001b[32m\u001b[1m  Activating\u001b[22m\u001b[39m project at `~/Documents/eth_courses/notebooks/math/julia/calculus/vector fields`\n"
     ]
    }
   ],
   "source": [
    "import Pkg; Pkg.activate(@__DIR__); Pkg.instantiate();"
   ]
  },
  {
   "cell_type": "code",
   "execution_count": 4,
   "id": "adc0f955-f1d3-4714-92ed-13ffb37e8cf3",
   "metadata": {},
   "outputs": [],
   "source": [
    "using GLMakie\n",
    "using LinearAlgebra\n",
    "using SymPy\n",
    "\n",
    "GLMakie.activate!(inline=false)"
   ]
  },
  {
   "cell_type": "markdown",
   "id": "794ef820-50a9-4305-83ca-e70910ed56fa",
   "metadata": {},
   "source": [
    "# 2D \n",
    "https://www.youtube.com/watch?v=ar9SeJpbPI8&list=PLSQl0a2vh4HC5feHa6Rc5c0wbRTx56nF7&index=47"
   ]
  },
  {
   "cell_type": "code",
   "execution_count": 62,
   "id": "ae5e2d47-9669-4cd8-b862-5ca736cdfa80",
   "metadata": {},
   "outputs": [
    {
     "data": {
      "text/plain": [
       "GLMakie.Screen(...)"
      ]
     },
     "execution_count": 62,
     "metadata": {},
     "output_type": "execute_result"
    }
   ],
   "source": [
    "let\n",
    "\n",
    "fig = Figure(resolution = (800, 800))\n",
    "Axis(fig[1, 1], backgroundcolor = \"black\" , title = \"Vector field\")\n",
    "\n",
    "x_vec = LinRange(-1, 1, 20)\n",
    "y_vec = LinRange(-1, 1, 20)\n",
    "\n",
    "f₁(x,y) = x*y\n",
    "f₂(x,y) = y^2-x^2\n",
    "    \n",
    "f(x,y) = [f₁(x,y), f₂(x,y)]\n",
    "    \n",
    "input_vec = Point2f[];\n",
    "f_vec = Point2f[];\n",
    "\n",
    "for x in x_vec\n",
    "    for y in y_vec\n",
    "        push!(input_vec, Point2f(x,y))\n",
    "        push!(f_vec, f(x,y))\n",
    "    end\n",
    "end\n",
    "\n",
    "strength = sqrt.(norm.(f_vec))\n",
    "\n",
    "arrows!(input_vec, f_vec, arrowsize = 20, lengthscale = 0.3,\n",
    "    arrowcolor = strength, linecolor = strength, linewidth = 4)\n",
    "display(fig)\n",
    "\n",
    "end"
   ]
  },
  {
   "cell_type": "markdown",
   "id": "2b6ed41c-16fd-4cbd-9d00-f72af33de0cf",
   "metadata": {},
   "source": [
    "## Animation"
   ]
  },
  {
   "cell_type": "code",
   "execution_count": 50,
   "id": "7366b29c-5d30-45d0-8f7e-51f9df6d86ab",
   "metadata": {},
   "outputs": [
    {
     "data": {
      "text/plain": [
       "GLMakie.Screen(...)"
      ]
     },
     "execution_count": 50,
     "metadata": {},
     "output_type": "execute_result"
    }
   ],
   "source": [
    "fig = Figure(resolution = (1920, 1920))\n",
    "ax1 = Axis(fig[1, 1], backgroundcolor = \"black\" , title = \"Vector field\")\n",
    "\n",
    "x_vec = LinRange(-1, 1, 20)\n",
    "y_vec = LinRange(-1, 1, 20)\n",
    "\n",
    "f₁(x,y) = x*y\n",
    "f₂(x,y) = y^2-x^2\n",
    "    \n",
    "f(x,y) = [f₁(x,y), f₂(x,y)]\n",
    "    \n",
    "input_vec = Point2f[];\n",
    "f_vec = Point2f[];\n",
    "\n",
    "for x in x_vec\n",
    "    for y in y_vec\n",
    "        push!(input_vec, Point2f(x,y))\n",
    "        push!(f_vec, f(x,y))\n",
    "    end\n",
    "end\n",
    "\n",
    "strength = sqrt.(norm.(f_vec))\n",
    "\n",
    "arrows!(input_vec, f_vec, arrowsize = 20, lengthscale = 0.3,\n",
    "    arrowcolor = strength, linecolor = strength, linewidth = 4)\n",
    "display(fig)\n"
   ]
  },
  {
   "cell_type": "code",
   "execution_count": 68,
   "id": "2f7312e2-7643-44df-80cf-3ddb8dfa8021",
   "metadata": {},
   "outputs": [],
   "source": [
    "### Animation \n",
    "\n",
    "\n",
    "# Plot fluid particle \n",
    "X_initial = input_vec[50]\n",
    "\n",
    "X = Observable{Point2f}(X_initial)\n",
    "\n",
    "scatter!(ax1, X, markersize = 60)\n",
    "\n",
    "tspan = (0.0,10.0)\n",
    "dt= 0.1\n",
    "\n",
    "for t in tspan[1]:dt:tspan[2]\n",
    "    velocity = f(X[][1], X[][2])\n",
    "    X[] = X[] + (velocity*dt)\n",
    "    sleep(0.1)\n",
    "end"
   ]
  },
  {
   "cell_type": "code",
   "execution_count": null,
   "id": "2eb2e044-8454-43a0-837a-b1ca3d524e32",
   "metadata": {},
   "outputs": [],
   "source": []
  },
  {
   "cell_type": "markdown",
   "id": "c9923f49-0936-430b-8cbf-dbb901fbfffb",
   "metadata": {},
   "source": [
    "# Partial derivative of vector field"
   ]
  },
  {
   "cell_type": "code",
   "execution_count": null,
   "id": "2a3865cf-c99c-4910-b4fa-485d53c579c5",
   "metadata": {},
   "outputs": [],
   "source": []
  }
 ],
 "metadata": {
  "kernelspec": {
   "display_name": "control_precompiled 1.9.1",
   "language": "julia",
   "name": "control_precompiled-1.9"
  },
  "language_info": {
   "file_extension": ".jl",
   "mimetype": "application/julia",
   "name": "julia",
   "version": "1.9.1"
  }
 },
 "nbformat": 4,
 "nbformat_minor": 5
}
