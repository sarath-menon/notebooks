{
 "cells": [
  {
   "cell_type": "code",
   "execution_count": null,
   "id": "d46ab2ff-b64c-4eed-aaf5-d3021ad97016",
   "metadata": {},
   "outputs": [],
   "source": [
    "import Pkg; Pkg.activate(@__DIR__); Pkg.instantiate();"
   ]
  },
  {
   "cell_type": "code",
   "execution_count": null,
   "id": "a768e20b-be11-45cb-84f1-64b1af992e24",
   "metadata": {},
   "outputs": [],
   "source": [
    "using GLMakie\n",
    "using LinearAlgebra\n",
    "# using Symbolics\n",
    "using ForwardDiff\n",
    "using BenchmarkTools\n",
    "using Colors\n",
    "\n",
    "GLMakie.activate!(inline=false)\n",
    "P2_f64 = Point{2, Float64}\n",
    "P3_f64 = Point{3, Float64}"
   ]
  },
  {
   "cell_type": "code",
   "execution_count": 690,
   "id": "aa0ac897-e6cf-4b79-80d4-4692a95f5d54",
   "metadata": {},
   "outputs": [
    {
     "data": {
      "text/plain": [
       "curl_3d (generic function with 2 methods)"
      ]
     },
     "execution_count": 690,
     "metadata": {},
     "output_type": "execute_result"
    }
   ],
   "source": [
    "\n",
    "function divergence(f, vec::Vector{P2_f64})\n",
    "    return sum.(diag.(ForwardDiff.jacobian.(x ->f(x[1],x[2]), vec)))\n",
    "end\n",
    "\n",
    "function curl_2d(f, vec::Vector{P2_f64})\n",
    "    jac_vec = ForwardDiff.jacobian.(x ->f(x[1],x[2]), vec)\n",
    "    curl_vec = Float64[]\n",
    "    \n",
    "    for jac in jac_vec\n",
    "        curl = jac[2,1] - jac[1,2]\n",
    "        push!(curl_vec, curl)\n",
    "    end\n",
    "\n",
    "    return curl_vec \n",
    "end\n",
    "\n",
    "function curl_3d(f, vec::Vector{P3_f64})\n",
    "    jac_vec = ForwardDiff.jacobian.(x ->f(x[1],x[2],x[3]), vec)\n",
    "    curl_vec = P3_f64[]\n",
    "    \n",
    "    for jac in jac_vec\n",
    "        (∂f₁∂x, ∂f₁∂y, ∂f₁∂z, \n",
    "        ∂f₂∂x, ∂f₂∂y, ∂f₂∂z,\n",
    "        ∂f₃∂x, ∂f₃∂y, ∂f₃∂z) = transpose(jac) # transpose for correct ordering\n",
    "\n",
    "        # @show jac\n",
    "    \n",
    "        curl_x =   ∂f₃∂y - ∂f₂∂z\n",
    "        curl_y = -(∂f₃∂x - ∂f₁∂z)\n",
    "        curl_z =   ∂f₂∂x - ∂f₁∂y\n",
    "        \n",
    "        curl = P3_f64(curl_x, curl_y, curl_z)\n",
    "        push!(curl_vec, curl)\n",
    "    end\n",
    "\n",
    "    return curl_vec \n",
    "end\n",
    "    "
   ]
  },
  {
   "cell_type": "markdown",
   "id": "86dfdacc-7ecc-47b3-964f-ed8e04e6c740",
   "metadata": {},
   "source": [
    "# Divergence"
   ]
  },
  {
   "cell_type": "markdown",
   "id": "e6e8f853-9bde-411a-9045-2ffb1cc9c854",
   "metadata": {},
   "source": [
    "### Vector field"
   ]
  },
  {
   "cell_type": "code",
   "execution_count": null,
   "id": "16f771aa-ae1a-4e9f-bb08-b126289e405c",
   "metadata": {},
   "outputs": [],
   "source": [
    "let\n",
    "\n",
    "fig = Figure(resolution = (800, 800))\n",
    "Axis(fig[1, 1], backgroundcolor = \"black\" , title = \"Vector field\")\n",
    "\n",
    "x_vec = LinRange(-1, 1, 20)\n",
    "y_vec = LinRange(-1, 1, 20)\n",
    "\n",
    "f₁(x,y) = x*y\n",
    "f₂(x,y) = y^2-x^2\n",
    "    \n",
    "f(x,y) = [f₁(x,y), f₂(x,y)]\n",
    "\n",
    "input_vec =  P2_f64[];\n",
    "f_vec = P2_f64[];\n",
    "\n",
    "for x in x_vec\n",
    "    for y in y_vec\n",
    "        push!(input_vec, P2_f64(x,y))\n",
    "        push!(f_vec, f(x,y))\n",
    "    end\n",
    "end\n",
    "\n",
    "\n",
    "strength = sqrt.(norm.(f_vec))\n",
    "\n",
    "# @timev Point2f.(input_vec)\n",
    "arrows!(input_vec, f_vec, arrowsize = 20, lengthscale = 0.3,\n",
    "    arrowcolor = strength, linecolor = strength, linewidth = 4)\n",
    "display(fig)\n",
    "\n",
    "end"
   ]
  },
  {
   "cell_type": "markdown",
   "id": "68070ae6-b383-4aa9-b76e-9b6792e7798c",
   "metadata": {},
   "source": [
    "### Divergence Computation"
   ]
  },
  {
   "cell_type": "code",
   "execution_count": null,
   "id": "1f360a20-efff-462e-8fb1-e17482dd9cda",
   "metadata": {
    "scrolled": true
   },
   "outputs": [],
   "source": [
    "let\n",
    "\n",
    "fig = Figure(resolution = (1600, 800))\n",
    "ax1 = Axis(fig[1, 1], backgroundcolor = \"black\" , title = \"Vector field\")\n",
    "ax2 = Axis(fig[1, 2], backgroundcolor = \"black\" , title = \"Divergence Colormap\")\n",
    "\n",
    "x_vec = LinRange(-1, 1, 20)\n",
    "y_vec = LinRange(-1, 1, 20)\n",
    "\n",
    "f₁(x,y) = x*y\n",
    "f₂(x,y) = y^2 - x^2\n",
    "    \n",
    "f(x,y) = [f₁(x,y), f₂(x,y)]\n",
    "    \n",
    "input_vec = P2_f64[];\n",
    "f_vec = P2_f64[];\n",
    "\n",
    "for x in x_vec\n",
    "    for y in y_vec\n",
    "        push!(input_vec, Point2f(x,y))'\n",
    "        push!(f_vec, f(x,y));\n",
    "    end\n",
    "end\n",
    "\n",
    "strength = sqrt.(norm.(f_vec))\n",
    "\n",
    "# @timev Point2f.(input_vec)\n",
    "arrows!(ax1, input_vec, f_vec, arrowsize = 20, lengthscale = 0.3,\n",
    "    arrowcolor = strength, linecolor = strength, linewidth = 4)\n",
    "\n",
    "# compute divergence\n",
    "divergence_vec = divergence(f, input_vec);\n",
    "    \n",
    "hm = heatmap!(ax2, [vec[1] for vec in input_vec] , [vec[2] for vec in input_vec], divergence_vec,  colormap= :deep)\n",
    "Colorbar(fig[:, end+1], hm)\n",
    "\n",
    "display(fig)\n",
    "end"
   ]
  },
  {
   "cell_type": "markdown",
   "id": "39c1c5e8-4a74-4490-b3a7-a6baca8e8c46",
   "metadata": {},
   "source": [
    "# Curl"
   ]
  },
  {
   "cell_type": "markdown",
   "id": "491225f2-f8c7-4042-954d-69e35be21cb7",
   "metadata": {},
   "source": [
    "### 2D Vector field"
   ]
  },
  {
   "cell_type": "code",
   "execution_count": null,
   "id": "8f437ef3-bc27-4edb-852d-c1ee22880674",
   "metadata": {},
   "outputs": [],
   "source": [
    "let\n",
    "\n",
    "fig = Figure(resolution = (800, 800))\n",
    "Axis(fig[1, 1], backgroundcolor = \"black\" , title = \"Vector field\")\n",
    "\n",
    "x_vec = LinRange(-4, 4, 20)\n",
    "y_vec = LinRange(-4, 4, 20)\n",
    "    \n",
    "f₁(x,y) = y^3 - 9*y\n",
    "f₂(x,y) = x^3 - 9*x\n",
    "    \n",
    "f(x,y) = [f₁(x,y), f₂(x,y)]\n",
    "\n",
    "input_vec =  P2_f64[];\n",
    "f_vec = P2_f64[];\n",
    "\n",
    "for x in x_vec\n",
    "    for y in y_vec\n",
    "        push!(input_vec, P2_f64(x,y))\n",
    "        push!(f_vec, f(x,y))\n",
    "    end\n",
    "end\n",
    "\n",
    "\n",
    "strength = sqrt.(norm.(f_vec))\n",
    "\n",
    "# @timev Point2f.(input_vec)\n",
    "arrows!(input_vec, f_vec, arrowsize = 20, lengthscale = 0.01,\n",
    "    arrowcolor = strength, linecolor = strength, linewidth = 4)\n",
    "display(fig)\n",
    "\n",
    "end"
   ]
  },
  {
   "cell_type": "markdown",
   "id": "c15d52b3-0d07-4036-8fed-20a563a5d99b",
   "metadata": {},
   "source": [
    "### 2D Animation"
   ]
  },
  {
   "cell_type": "code",
   "execution_count": null,
   "id": "0b1e3305-7e45-4d77-be9c-ad4b838fa677",
   "metadata": {},
   "outputs": [],
   "source": [
    "let\n",
    "\n",
    "fig = Figure(resolution = (800, 800))\n",
    "ax1 = Axis(fig[1, 1], backgroundcolor = \"black\" , title = \"Vector field\")\n",
    "\n",
    "x_vec = LinRange(-4, 4, 20)\n",
    "y_vec = LinRange(-4, 4, 20)\n",
    "\n",
    "f₁(x,y) = y^3 - 9*y\n",
    "f₂(x,y) = x^3 - 9*x\n",
    "    \n",
    "f(x,y) = [f₁(x,y), f₂(x,y)]\n",
    "    \n",
    "input_vec = Point2f[];\n",
    "f_vec = Point2f[];\n",
    "\n",
    "for x in x_vec\n",
    "    for y in y_vec\n",
    "        push!(input_vec, Point2f(x,y))\n",
    "        push!(f_vec, f(x,y))\n",
    "    end\n",
    "end\n",
    "\n",
    "strength = sqrt.(norm.(f_vec))\n",
    "\n",
    "arrows!(input_vec, f_vec, arrowsize = 20, lengthscale = 0.01,\n",
    "    arrowcolor = strength, linecolor = strength, linewidth = 4)\n",
    "display(fig)\n",
    "\n",
    "# Plot fluid particle \n",
    "X_initial = input_vec[50]\n",
    "\n",
    "X = Observable{Point2f}(X_initial)\n",
    "\n",
    "scatter!(ax1, X, markersize = 60)\n",
    "\n",
    "tspan = (0.0,5.0)\n",
    "dt= 0.01\n",
    "\n",
    "for t in tspan[1]:dt:tspan[2]\n",
    "    velocity = f(X[][1], X[][2])\n",
    "    X[] = X[] + (velocity*dt)\n",
    "    sleep(dt)\n",
    "end\n",
    "\n",
    "end"
   ]
  },
  {
   "cell_type": "markdown",
   "id": "3ebbbda3-fae3-408d-9bfb-c455d26328ce",
   "metadata": {},
   "source": [
    "### 2D Curl Computation "
   ]
  },
  {
   "cell_type": "code",
   "execution_count": null,
   "id": "91d9245c-711c-49ba-a635-418951e3cb18",
   "metadata": {},
   "outputs": [],
   "source": [
    "let\n",
    "\n",
    "fig = Figure(resolution = (1600, 800))\n",
    "ax1 = Axis(fig[1, 1], backgroundcolor = \"black\" , title = \"Vector field\")\n",
    "ax2 = Axis(fig[1, 2], title = \"Curl of Vector field\")\n",
    "\n",
    "limit = 4\n",
    "x_vec = LinRange(-limit, limit, 20)\n",
    "y_vec = LinRange(-limit, limit, 20)\n",
    "    \n",
    "f₁(x,y) = y^3 - 9*y\n",
    "f₂(x,y) = x^3 - 9*x\n",
    "    \n",
    "f(x,y) = [f₁(x,y), f₂(x,y)]\n",
    "\n",
    "input_vec =  P2_f64[];\n",
    "f_vec = P2_f64[];\n",
    "\n",
    "for x in x_vec\n",
    "    for y in y_vec\n",
    "        push!(input_vec, P2_f64(x,y))\n",
    "        push!(f_vec, f(x,y))\n",
    "    end\n",
    "end\n",
    "\n",
    "\n",
    "strength = sqrt.(norm.(f_vec))\n",
    "\n",
    "# @timev Point2f.(input_vec)\n",
    "arrows!(ax1, input_vec, f_vec, arrowsize = 20, lengthscale = 0.01,\n",
    "    arrowcolor = strength, linecolor = strength, linewidth = 4)\n",
    "\n",
    "    \n",
    "curl_vec = curl_2d(f, input_vec);\n",
    "\n",
    "# for transparent heatmp:  colormap=RGBAf.(Colors.color.(to_colormap(:deep)), 0.5)\n",
    "hm = heatmap!(ax2, [vec[1] for vec in input_vec] , [vec[2] for vec in input_vec], curl_vec,  colormap=:deep)\n",
    "Colorbar(fig[:, end+1], hm)\n",
    "\n",
    "display(fig)    \n",
    "end"
   ]
  },
  {
   "cell_type": "markdown",
   "id": "3bd75996-0bcb-403e-bc09-febace65a2bd",
   "metadata": {},
   "source": [
    "### 3D Vector field"
   ]
  },
  {
   "cell_type": "code",
   "execution_count": null,
   "id": "4b3dc040-fa5b-4050-9bbf-859b7d9cb560",
   "metadata": {},
   "outputs": [],
   "source": [
    "let\n",
    "\n",
    "fig = Figure()\n",
    "\n",
    "\n",
    "ax1 = Axis3(fig[1, 1], aspect = :equal, title = \"3D Vector field\",\n",
    "        #limits =(ax_low, ax_high,ax_low, ax_high,ax_low, ax_high,\n",
    "        xlabel=\"X\", ylabel=\"Y\", zlabel=\"Z\",\n",
    "        xlabelsize=30, ylabelsize=30, zlabelsize=30\n",
    "    )\n",
    "\n",
    "limit = 4\n",
    "x_vec = LinRange(-limit, limit, 20)\n",
    "y_vec = LinRange(-limit, limit, 20)\n",
    "z_vec = LinRange(-limit, limit, 20)\n",
    "\n",
    "f₁(x,y,z) = y^3 - 9*y\n",
    "f₂(x,y,z) = x^3 - 9*x\n",
    "f₃(x,y,z) = 0\n",
    "    \n",
    "f(x,y,z) = [f₁(x,y,z), f₂(x,y,z), f₃(x,y,z)]\n",
    "\n",
    "input_vec =  P3_f64[];\n",
    "f_vec = P3_f64[];\n",
    "\n",
    "for x in x_vec\n",
    "    for y in y_vec\n",
    "        for z in z_vec\n",
    "            push!(input_vec, P3_f64(x,y,z))\n",
    "            push!(f_vec, f(x,y,z))\n",
    "        end\n",
    "    end\n",
    "end\n",
    "        \n",
    "\n",
    "arrow_scale = 0.02\n",
    "f_vec_scaled = map(p -> arrow_scale * Vec3f(p[1], p[2], p[3]), f_vec)\n",
    "    \n",
    "arrows!(\n",
    "    input_vec,  f_vec_scaled, fxaa=true, # turn on anti-aliasing\n",
    "    linecolor = :gray, arrowcolor = :black,\n",
    "    linewidth = 0.01, arrowsize = Vec3f(0.03, 0.03, 0.06),\n",
    "    align = :center\n",
    ")\n",
    "\n",
    "println(sizeof(input_vec))\n",
    "display(fig)\n",
    "end"
   ]
  },
  {
   "cell_type": "markdown",
   "id": "0a917517-b2f8-49ea-b414-0f0adf52b140",
   "metadata": {},
   "source": [
    "### 3D curl computation"
   ]
  },
  {
   "cell_type": "code",
   "execution_count": 950,
   "id": "d82d2fa3-c973-4550-9957-a3e2566113f0",
   "metadata": {},
   "outputs": [
    {
     "data": {
      "text/plain": [
       "GLMakie.Screen(...)"
      ]
     },
     "execution_count": 950,
     "metadata": {},
     "output_type": "execute_result"
    }
   ],
   "source": [
    "let\n",
    "\n",
    "fig = Figure()\n",
    "\n",
    "\n",
    "ax1 = Axis3(fig[1, 1], aspect = :equal, title = \"3D Vector field\",\n",
    "        #limits =(ax_low, ax_high,ax_low, ax_high,ax_low, ax_high,\n",
    "        xlabel=\"X\", ylabel=\"Y\", zlabel=\"Z\",\n",
    "        xlabelsize=30, ylabelsize=30, zlabelsize=30\n",
    "    )\n",
    "\n",
    "limit = 4\n",
    "x_vec = LinRange(-limit, limit, 10)\n",
    "y_vec = LinRange(-limit, limit, 10)\n",
    "z_vec = LinRange(-limit, limit, 10)\n",
    "\n",
    "f₁(x,y,z) = y^3 - 9*y\n",
    "f₂(x,y,z) = x^3 - 9*x\n",
    "f₃(x,y,z) = 0\n",
    "    \n",
    "f(x,y,z) = [f₁(x,y,z), f₂(x,y,z), f₃(x,y,z)]\n",
    "\n",
    "input_vec =  P3_f64[];\n",
    "f_vec = P3_f64[];\n",
    "\n",
    "for x in x_vec\n",
    "    for y in y_vec\n",
    "        for z in z_vec\n",
    "            push!(input_vec, P3_f64(x,y,z))\n",
    "            push!(f_vec, f(x,y,z))\n",
    "        end\n",
    "    end\n",
    "end\n",
    "        \n",
    "\n",
    "curl_vec = curl_3d(f, input_vec);\n",
    "\n",
    "# plot vector field\n",
    "arrow_scale = 0.02\n",
    "arrows!(\n",
    "    input_vec,  f_vec*arrow_scale , fxaa=true, # turn on anti-aliasing\n",
    "    linecolor = :gray, arrowcolor = :black,\n",
    "    linewidth = 0.01, arrowsize = Vec3f(0.1, 0.1, 0.3),\n",
    "    align = :center\n",
    ")\n",
    "\n",
    "# plot curl\n",
    "arrow_scale = 0.01\n",
    "arrows!(\n",
    "    input_vec,  curl_vec*arrow_scale , fxaa=true, # turn on anti-aliasing\n",
    "    linecolor = :gray, arrowcolor = :green,\n",
    "    linewidth = 0.01, arrowsize = Vec3f(0.2, 0.2, 0.4),\n",
    "    align = :center\n",
    ")\n",
    "    \n",
    "display(fig)\n",
    "end"
   ]
  },
  {
   "cell_type": "markdown",
   "id": "d4e2bb23-f9af-44dd-a13d-28c3f6d91ba1",
   "metadata": {},
   "source": [
    "# Gradient"
   ]
  },
  {
   "cell_type": "code",
   "execution_count": 982,
   "id": "5c2dd0e9-9cb1-4f51-bf56-1acec2804526",
   "metadata": {},
   "outputs": [
    {
     "data": {
      "text/plain": [
       "GLMakie.Screen(...)"
      ]
     },
     "execution_count": 982,
     "metadata": {},
     "output_type": "execute_result"
    }
   ],
   "source": [
    "let \n",
    "\n",
    "fig = Figure()\n",
    "ax1 = Axis3(fig[1, 1], aspect = :equal, title = \"3D Vector field\",\n",
    "        #limits =(ax_low, ax_high,ax_low, ax_high,ax_low, ax_high,\n",
    "        xlabel=\"X\", ylabel=\"Y\", zlabel=\"Z\",\n",
    "        xlabelsize=30, ylabelsize=30, zlabelsize=30\n",
    "    )\n",
    "    \n",
    "x_vec =y_vec = LinRange(-5, 5, 20)\n",
    "\n",
    "f(x,y) = x^2 + y^2\n",
    "z_vec = [f(x,y) for x in x_vec, y in y_vec]\n",
    "\n",
    "zmin, zmax = minimum(z_vec), maximum(z_vec)\n",
    "\n",
    "# plot surface\n",
    "surface!(ax1, x_vec, y_vec, z_vec, colormap = :viridis, colorrange = (zmin, zmax), transparency = true)\n",
    "\n",
    "# plot wireframe over surface    \n",
    "wireframe!(ax1, x_vec, y_vec, z_vec; overdraw = true, transparency = true, color = (:black, 0.2))\n",
    "\n",
    "# plot contour plot underneath surface\n",
    "contour!(ax1, x_vec, y_vec, z_vec; levels = 10, colormap = :viridis, linewidth = 2,\n",
    "    colorrange = (zmin, zmax))\n",
    "    \n",
    "# # Compute derivative\n",
    "f(var) = f(var[1],var[2])\n",
    "\n",
    "grad_vec =  P2_f64[];\n",
    "input_vec =  P2_f64[];\n",
    "    \n",
    "# for x in x_vec\n",
    "#     for y in y_vec\n",
    "#         grad = ForwardDiff.gradient(f, [x y])\n",
    "#         push!(grad_vec, grad)\n",
    "#         push!(input_vec, P2_f64(x,y))\n",
    "#     end\n",
    "# end\n",
    "\n",
    "strength = sqrt.(norm.(grad_vec))\n",
    "\n",
    "# plot the gradient vectors\n",
    "arrows!(ax1, input_vec, grad_vec, arrowsize = 22, lengthscale = 0.05,\n",
    "    arrowcolor = strength, linecolor = strength, linewidth = 4,  overdraw = true, transparency = true)\n",
    "\n",
    "display(fig)       \n",
    "\n",
    "end"
   ]
  },
  {
   "cell_type": "markdown",
   "id": "a4a83555-c298-4f42-9e75-2c014bf6cbd9",
   "metadata": {},
   "source": [
    "## DIrectional derivative "
   ]
  },
  {
   "cell_type": "code",
   "execution_count": 1000,
   "id": "eee94736-8cab-4917-a2b1-a1423e18420a",
   "metadata": {},
   "outputs": [
    {
     "data": {
      "text/plain": [
       "GLMakie.Screen(...)"
      ]
     },
     "execution_count": 1000,
     "metadata": {},
     "output_type": "execute_result"
    }
   ],
   "source": [
    "let \n",
    "\n",
    "fig = Figure()\n",
    "ax1 = Axis3(fig[1, 1], aspect = :equal, title = \"3D Vector field\",\n",
    "        #limits =(ax_low, ax_high,ax_low, ax_high,ax_low, ax_high,\n",
    "        xlabel=\"X\", ylabel=\"Y\", zlabel=\"Z\",\n",
    "        xlabelsize=30, ylabelsize=30, zlabelsize=30\n",
    "    )\n",
    "    \n",
    "x_vec =y_vec = LinRange(-20, 20, 10)\n",
    "f(x,y) = x^2*y\n",
    "z_vec = [f(x,y) for x in x_vec, y in y_vec]\n",
    "\n",
    "zmin, zmax = minimum(z_vec), maximum(z_vec)\n",
    "\n",
    "# plot surface\n",
    "surface!(ax1, x_vec, y_vec, z_vec, colormap = :viridis, colorrange = (zmin, zmax), transparency = true)\n",
    "\n",
    "# plot wireframe over surface    \n",
    "wireframe!(ax1, x_vec, y_vec, z_vec; overdraw = true, transparency = true, color = (:black, 0.2))\n",
    "\n",
    "    \n",
    "# Draw intersecting plane\n",
    "x_vec = z_vec = LinRange(-20, 20, 10)\n",
    "\n",
    "\n",
    "# plot surface\n",
    "surface!(ax1, x_vec, y_vec, z_vec, colormap = :viridis, transparency = true, overdraw = true,)\n",
    "    \n",
    "display(fig)   \n",
    "    \n",
    "end"
   ]
  },
  {
   "cell_type": "code",
   "execution_count": null,
   "id": "5fcf5326-f235-44a2-b4a5-4b47278a618d",
   "metadata": {},
   "outputs": [],
   "source": []
  }
 ],
 "metadata": {
  "kernelspec": {
   "display_name": "control_precompiled 1.9.1",
   "language": "julia",
   "name": "control_precompiled-1.9"
  },
  "language_info": {
   "file_extension": ".jl",
   "mimetype": "application/julia",
   "name": "julia",
   "version": "1.9.1"
  }
 },
 "nbformat": 4,
 "nbformat_minor": 5
}
