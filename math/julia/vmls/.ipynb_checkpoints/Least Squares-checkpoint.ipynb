{
 "cells": [
  {
   "cell_type": "markdown",
   "id": "44eb71b0",
   "metadata": {},
   "source": [
    "## Create the dataset"
   ]
  },
  {
   "cell_type": "code",
   "execution_count": 14,
   "id": "433b3a33",
   "metadata": {},
   "outputs": [],
   "source": [
    "A = [ 2 0 ; -1 1 ; 0 2 ];\n",
    "B = [ 1, 0, -1 ];"
   ]
  },
  {
   "cell_type": "markdown",
   "id": "8f477772",
   "metadata": {},
   "source": [
    "### Solution"
   ]
  },
  {
   "cell_type": "code",
   "execution_count": 20,
   "id": "ec736f7c",
   "metadata": {},
   "outputs": [
    {
     "name": "stdout",
     "output_type": "stream",
     "text": [
      "Least Squares Solution:[0.33333333333333326, -0.3333333333333334]"
     ]
    }
   ],
   "source": [
    "# solution via Moore penrose pseudo-inverse\n",
    "x = inv(A'*A)*A'*b;\n",
    "\n",
    "# solution via backslash operator\n",
    "X = A \\ b;\n",
    "\n",
    "print(\"Least Squares Solution:\", X);"
   ]
  },
  {
   "cell_type": "code",
   "execution_count": 10,
   "id": "a112079b",
   "metadata": {},
   "outputs": [
    {
     "data": {
      "text/plain": [
       "2-element Vector{Float64}:\n",
       "  0.33333333333333326\n",
       " -0.3333333333333334"
      ]
     },
     "execution_count": 10,
     "metadata": {},
     "output_type": "execute_result"
    }
   ],
   "source": []
  },
  {
   "cell_type": "code",
   "execution_count": null,
   "id": "17ef7798",
   "metadata": {},
   "outputs": [],
   "source": []
  }
 ],
 "metadata": {
  "kernelspec": {
   "display_name": "Julia 1.8.3",
   "language": "julia",
   "name": "julia-1.8"
  },
  "language_info": {
   "file_extension": ".jl",
   "mimetype": "application/julia",
   "name": "julia",
   "version": "1.8.3"
  }
 },
 "nbformat": 4,
 "nbformat_minor": 5
}
