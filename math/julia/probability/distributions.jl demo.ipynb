{
 "cells": [
  {
   "cell_type": "code",
   "execution_count": 1,
   "id": "1161b7cf",
   "metadata": {},
   "outputs": [
    {
     "name": "stderr",
     "output_type": "stream",
     "text": [
      "\u001b[32m\u001b[1m  Activating\u001b[22m\u001b[39m project at `~/Documents/eth_courses/notebooks/probability`\n"
     ]
    }
   ],
   "source": [
    "import Pkg; Pkg.activate(@__DIR__); Pkg.instantiate()"
   ]
  },
  {
   "cell_type": "code",
   "execution_count": 2,
   "id": "a5d0367f",
   "metadata": {},
   "outputs": [
    {
     "data": {
      "text/plain": [
       "TaskLocalRNG()"
      ]
     },
     "execution_count": 2,
     "metadata": {},
     "output_type": "execute_result"
    }
   ],
   "source": [
    "using Random, Distributions\n",
    "Random.seed!(123)"
   ]
  },
  {
   "cell_type": "markdown",
   "id": "d01b3b4c",
   "metadata": {},
   "source": [
    "# Normal distrib"
   ]
  },
  {
   "cell_type": "code",
   "execution_count": 3,
   "id": "80a0ec0f",
   "metadata": {},
   "outputs": [
    {
     "data": {
      "text/plain": [
       "1.0"
      ]
     },
     "execution_count": 3,
     "metadata": {},
     "output_type": "execute_result"
    }
   ],
   "source": [
    "X_gaussian = Normal()\n",
    "mean(X_gaussian)\n",
    "var(X_gaussian)\n",
    "std(X_gaussian)"
   ]
  },
  {
   "cell_type": "markdown",
   "id": "5e7b1a19",
   "metadata": {},
   "source": [
    "### draw samples"
   ]
  },
  {
   "cell_type": "code",
   "execution_count": 9,
   "id": "cd54a57e",
   "metadata": {},
   "outputs": [
    {
     "data": {
      "text/plain": [
       "100-element Vector{Float64}:\n",
       "  0.8082879284649668\n",
       " -1.1220725081141734\n",
       " -1.1046361023292959\n",
       " -0.4169926351649334\n",
       "  0.28758798062385577\n",
       "  0.2298186980518676\n",
       " -0.4217686643996927\n",
       " -1.355590621101197\n",
       "  0.0694591410918936\n",
       " -0.11732280453081337\n",
       "  1.2192815097319654\n",
       "  0.29291433452245674\n",
       " -0.031148130349280094\n",
       "  ⋮\n",
       "  0.8513501652164516\n",
       "  0.13094190429166025\n",
       " -0.03170723035024594\n",
       "  0.4350014776438522\n",
       "  0.8402951127287839\n",
       "  0.37905112039392486\n",
       " -0.10862495404911267\n",
       " -0.6787747615011163\n",
       " -1.088218513936287\n",
       "  0.7037583257923017\n",
       "  0.14332589323751366\n",
       "  0.14837536667608195"
      ]
     },
     "execution_count": 9,
     "metadata": {},
     "output_type": "execute_result"
    }
   ],
   "source": [
    " samples = rand(X_gaussian, 100)"
   ]
  },
  {
   "cell_type": "markdown",
   "id": "475ec970",
   "metadata": {},
   "source": [
    "## Maximum likelihood"
   ]
  },
  {
   "cell_type": "code",
   "execution_count": 10,
   "id": "439c73af",
   "metadata": {},
   "outputs": [
    {
     "data": {
      "text/plain": [
       "Normal{Float64}(μ=-0.04827714875398303, σ=0.9256810813636542)"
      ]
     },
     "execution_count": 10,
     "metadata": {},
     "output_type": "execute_result"
    }
   ],
   "source": [
    "fit_mle(Normal, samples)"
   ]
  },
  {
   "cell_type": "markdown",
   "id": "c9c5dc3d",
   "metadata": {},
   "source": [
    "## CDF"
   ]
  },
  {
   "cell_type": "code",
   "execution_count": 11,
   "id": "bfb5c507",
   "metadata": {},
   "outputs": [
    {
     "data": {
      "text/plain": [
       "0.5"
      ]
     },
     "execution_count": 11,
     "metadata": {},
     "output_type": "execute_result"
    }
   ],
   "source": [
    "cdf( X_gaussian, 0)"
   ]
  },
  {
   "cell_type": "markdown",
   "id": "6fd0b195",
   "metadata": {},
   "source": [
    "## Scaling"
   ]
  },
  {
   "cell_type": "code",
   "execution_count": 12,
   "id": "d3e54fe5",
   "metadata": {},
   "outputs": [
    {
     "data": {
      "text/plain": [
       "Normal{Float64}(μ=0.0, σ=5.0)"
      ]
     },
     "execution_count": 12,
     "metadata": {},
     "output_type": "execute_result"
    }
   ],
   "source": [
    "X_gaussian * 5"
   ]
  },
  {
   "cell_type": "markdown",
   "id": "2d339804",
   "metadata": {},
   "source": [
    "## Addition"
   ]
  },
  {
   "cell_type": "code",
   "execution_count": 13,
   "id": "024612a1",
   "metadata": {},
   "outputs": [
    {
     "data": {
      "text/plain": [
       "Normal{Float64}(μ=2.0, σ=1.8027756377319946)"
      ]
     },
     "execution_count": 13,
     "metadata": {},
     "output_type": "execute_result"
    }
   ],
   "source": [
    "Y_gaussian = Normal(2, 1.5)\n",
    "convolve(X_gaussian, Y_gaussian)"
   ]
  },
  {
   "cell_type": "markdown",
   "id": "2af44f4d",
   "metadata": {},
   "source": [
    "# Other distributions"
   ]
  },
  {
   "cell_type": "markdown",
   "id": "f270fed4",
   "metadata": {},
   "source": [
    "### Bernoulli"
   ]
  },
  {
   "cell_type": "code",
   "execution_count": 18,
   "id": "a0201266",
   "metadata": {},
   "outputs": [
    {
     "data": {
      "text/plain": [
       "1-element Vector{Bool}:\n",
       " 1"
      ]
     },
     "execution_count": 18,
     "metadata": {},
     "output_type": "execute_result"
    }
   ],
   "source": [
    "p = 0.5\n",
    "bernoulli_distrib = Bernoulli(p)\n",
    "\n",
    "# draw sample\n",
    "rand(bernoulli_distrib ,1)"
   ]
  },
  {
   "cell_type": "markdown",
   "id": "cf2ff6c0",
   "metadata": {},
   "source": [
    "### Categorical"
   ]
  },
  {
   "cell_type": "code",
   "execution_count": 29,
   "id": "043081f0",
   "metadata": {},
   "outputs": [
    {
     "data": {
      "text/plain": [
       "5-element Vector{Int64}:\n",
       " 1\n",
       " 3\n",
       " 1\n",
       " 2\n",
       " 1"
      ]
     },
     "execution_count": 29,
     "metadata": {},
     "output_type": "execute_result"
    }
   ],
   "source": [
    "# catgeories 1,2,3\n",
    "p = [0.7,0.2,0.1]\n",
    "\n",
    "categorical_distrib = Categorical(p)\n",
    "\n",
    "# draw samples\n",
    "rand(categorical_distrib ,5)"
   ]
  },
  {
   "cell_type": "markdown",
   "id": "d38c4574",
   "metadata": {},
   "source": [
    "### Uniform "
   ]
  },
  {
   "cell_type": "code",
   "execution_count": 34,
   "id": "4a8cae0c",
   "metadata": {},
   "outputs": [
    {
     "data": {
      "text/plain": [
       "4-element Vector{Float64}:\n",
       " -1.884457803821832\n",
       "  1.0451455664974105\n",
       "  1.2348887197579907\n",
       "  1.6916980868246885"
      ]
     },
     "execution_count": 34,
     "metadata": {},
     "output_type": "execute_result"
    }
   ],
   "source": [
    "uniform_distrib = Uniform(-2,3.5)\n",
    "\n",
    "# draw samples\n",
    "rand(uniform_distrib ,4)"
   ]
  },
  {
   "cell_type": "markdown",
   "id": "b1048fb5",
   "metadata": {},
   "source": [
    "### Discrete uniform "
   ]
  },
  {
   "cell_type": "code",
   "execution_count": 28,
   "id": "1874ff57",
   "metadata": {},
   "outputs": [
    {
     "data": {
      "text/plain": [
       "4-element Vector{Int64}:\n",
       " 4\n",
       " 3\n",
       " 1\n",
       " 3"
      ]
     },
     "execution_count": 28,
     "metadata": {},
     "output_type": "execute_result"
    }
   ],
   "source": [
    "discrete_uniform_distrib = DiscreteUniform(1,5)\n",
    "\n",
    "# draw samples\n",
    "rand(discrete_uniform_distrib ,4)"
   ]
  },
  {
   "cell_type": "code",
   "execution_count": null,
   "id": "6f79aaef",
   "metadata": {},
   "outputs": [],
   "source": []
  }
 ],
 "metadata": {
  "kernelspec": {
   "display_name": "Julia 1.8.5",
   "language": "julia",
   "name": "julia-1.8"
  },
  "language_info": {
   "file_extension": ".jl",
   "mimetype": "application/julia",
   "name": "julia",
   "version": "1.8.5"
  }
 },
 "nbformat": 4,
 "nbformat_minor": 5
}
