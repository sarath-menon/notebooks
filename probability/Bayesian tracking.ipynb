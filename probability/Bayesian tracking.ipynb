{
 "cells": [
  {
   "cell_type": "code",
   "execution_count": 31,
   "id": "0dc9cd10",
   "metadata": {},
   "outputs": [
    {
     "name": "stderr",
     "output_type": "stream",
     "text": [
      "\u001b[32m\u001b[1m  Activating\u001b[22m\u001b[39m project at `~/Documents/eth_courses/notebooks/probability`\n"
     ]
    }
   ],
   "source": [
    "import Pkg; Pkg.activate(@__DIR__); Pkg.instantiate()"
   ]
  },
  {
   "cell_type": "code",
   "execution_count": 32,
   "id": "df6cf9c6",
   "metadata": {},
   "outputs": [],
   "source": [
    "# Pkg.add(\"GLMakie\")\n",
    "using GLMakie\n",
    "\n",
    "GLMakie.activate!(inline=false)"
   ]
  },
  {
   "cell_type": "code",
   "execution_count": 33,
   "id": "e4f20e68",
   "metadata": {},
   "outputs": [
    {
     "data": {
      "text/plain": [
       "TaskLocalRNG()"
      ]
     },
     "execution_count": 33,
     "metadata": {},
     "output_type": "execute_result"
    }
   ],
   "source": [
    "using Random, Distributions\n",
    "Random.seed!(123)"
   ]
  },
  {
   "cell_type": "markdown",
   "id": "ae745d6c",
   "metadata": {},
   "source": [
    "## Process model"
   ]
  },
  {
   "cell_type": "code",
   "execution_count": 34,
   "id": "cb6250b1",
   "metadata": {},
   "outputs": [
    {
     "data": {
      "text/plain": [
       "process_model (generic function with 1 method)"
      ]
     },
     "execution_count": 34,
     "metadata": {},
     "output_type": "execute_result"
    }
   ],
   "source": [
    "function process_model(x_k, r)\n",
    "    # noise model\n",
    "    function process_noise_model(r)\n",
    "        # prob of catgeories \n",
    "        p = [r, 1-r]\n",
    "\n",
    "        categorical_distrib = Categorical(p)\n",
    "\n",
    "        # draw samples\n",
    "        sampl = rand(categorical_distrib)\n",
    "        \n",
    "        # assign category\n",
    "        if sampl==1\n",
    "            v = 1\n",
    "        else \n",
    "            v = -1\n",
    "        end\n",
    "        \n",
    "        return v\n",
    "    end \n",
    "    \n",
    "    # motion model\n",
    "    f = x_k + process_noise_model(r)\n",
    "    \n",
    "    return f\n",
    "end"
   ]
  },
  {
   "cell_type": "code",
   "execution_count": 35,
   "id": "bcefe627",
   "metadata": {},
   "outputs": [
    {
     "data": {
      "text/plain": [
       "get_position (generic function with 1 method)"
      ]
     },
     "execution_count": 35,
     "metadata": {},
     "output_type": "execute_result"
    }
   ],
   "source": [
    "function get_position(x,N)\n",
    "    return x/N\n",
    "end"
   ]
  },
  {
   "cell_type": "code",
   "execution_count": 36,
   "id": "5d6782d8",
   "metadata": {},
   "outputs": [
    {
     "data": {
      "text/plain": [
       "-1"
      ]
     },
     "execution_count": 36,
     "metadata": {},
     "output_type": "execute_result"
    }
   ],
   "source": [
    "x₀ = 0\n",
    "r = 0.4\n",
    "\n",
    "process_model(x₀, r)"
   ]
  },
  {
   "cell_type": "markdown",
   "id": "2d0ac608",
   "metadata": {},
   "source": [
    "## Measurement model"
   ]
  },
  {
   "cell_type": "code",
   "execution_count": 37,
   "id": "60aeb535",
   "metadata": {},
   "outputs": [
    {
     "data": {
      "text/plain": [
       "measurement_model (generic function with 1 method)"
      ]
     },
     "execution_count": 37,
     "metadata": {},
     "output_type": "execute_result"
    }
   ],
   "source": [
    "function measurement_model(x_k,N,L,e)\n",
    "    θ = 2*π*(x_k/ N)\n",
    "    \n",
    "    # true measurement model\n",
    "    h_true = sqrt((L -cos(θ)^2) + sin(θ)^2)\n",
    "    \n",
    "    # measurement noise\n",
    "    noise_model = Uniform(-e,e)\n",
    "    w = rand(noise_model)\n",
    "    \n",
    "    return h = h_true + w\n",
    "end"
   ]
  },
  {
   "cell_type": "code",
   "execution_count": 38,
   "id": "2a3b2e6a",
   "metadata": {},
   "outputs": [
    {
     "data": {
      "text/plain": [
       "2.0173613514906696"
      ]
     },
     "execution_count": 38,
     "metadata": {},
     "output_type": "execute_result"
    }
   ],
   "source": [
    "N = 10\n",
    "L = 5\n",
    "e = 0.1\n",
    "\n",
    "measurement_model(x₀,N,L,e)"
   ]
  },
  {
   "cell_type": "markdown",
   "id": "9da46c8e",
   "metadata": {},
   "source": [
    "# Simulation"
   ]
  },
  {
   "cell_type": "markdown",
   "id": "da84115c",
   "metadata": {},
   "source": [
    "### Initialization"
   ]
  },
  {
   "cell_type": "code",
   "execution_count": 39,
   "id": "800a3c4d",
   "metadata": {},
   "outputs": [],
   "source": [
    "# fixed parameters\n",
    "N = 100\n",
    "x₀ = N/4\n",
    "\n",
    "# equal probability for all states in the beginning\n",
    "p_0 = (1/N) * ones(N);"
   ]
  },
  {
   "cell_type": "markdown",
   "id": "b723298f",
   "metadata": {},
   "source": [
    "## Case 1: "
   ]
  },
  {
   "cell_type": "code",
   "execution_count": 40,
   "id": "01953f2d",
   "metadata": {},
   "outputs": [
    {
     "data": {
      "text/plain": [
       "simulate (generic function with 1 method)"
      ]
     },
     "execution_count": 40,
     "metadata": {},
     "output_type": "execute_result"
    }
   ],
   "source": [
    "# process params\n",
    "L = 2\n",
    "r = 0.5\n",
    "e = 0.5\n",
    "\n",
    "# k: no. of timesteps\n",
    "function simulate(k, x₀)\n",
    "    \n",
    "    println(\"Initial state: \", x₀)\n",
    "    \n",
    "    # set initial state\n",
    "    x = x₀\n",
    "        \n",
    "    # preallocate \n",
    "    x_vec = zeros(k)\n",
    "    t_vec = zeros(k)\n",
    "    \n",
    "    for i in 1:k\n",
    "        x_vec[i] = process_model(x, r)\n",
    "        t_vec[i] = i\n",
    "    end\n",
    "    \n",
    "    return x_vec, t_vec\n",
    "end\n"
   ]
  },
  {
   "cell_type": "code",
   "execution_count": 41,
   "id": "3cbb2fee",
   "metadata": {},
   "outputs": [
    {
     "name": "stdout",
     "output_type": "stream",
     "text": [
      "Initial state: 25.0\n"
     ]
    }
   ],
   "source": [
    "x_vec, t_vec = simulate(100, x₀);"
   ]
  },
  {
   "cell_type": "code",
   "execution_count": 42,
   "id": "4226111f",
   "metadata": {},
   "outputs": [
    {
     "data": {
      "text/plain": [
       "plot_sim (generic function with 1 method)"
      ]
     },
     "execution_count": 42,
     "metadata": {},
     "output_type": "execute_result"
    }
   ],
   "source": [
    "function plot_sim(t_vec, x_vec)\n",
    "    fig = Figure()\n",
    "    \n",
    "    axis_limits = (xlow, xhigh, ylow, high, zlow, zhigh) = (0, N, 0, 1, -1, 1)\n",
    "    \n",
    "\n",
    "    ax = Axis3(fig[1, 1], aspect = (1, 1, 1), title = \"Visualization\", limits = axis_limits, xlabelsize=20,\n",
    "                xticklabelsize=20, yticklabelsize=20, zticklabelsize=20)\n",
    "\n",
    "    lines!(ax, t_vec, get_position(x_vec,N), linewidth = 5)\n",
    "    display(fig)\n",
    "end"
   ]
  },
  {
   "cell_type": "code",
   "execution_count": 43,
   "id": "73b6706a",
   "metadata": {},
   "outputs": [
    {
     "data": {
      "text/plain": [
       "GLMakie.Screen(...)"
      ]
     },
     "execution_count": 43,
     "metadata": {},
     "output_type": "execute_result"
    }
   ],
   "source": [
    "plot_sim(t_vec, x_vec)"
   ]
  },
  {
   "cell_type": "markdown",
   "id": "38b0c0cb",
   "metadata": {},
   "source": [
    "# Estimator "
   ]
  },
  {
   "cell_type": "code",
   "execution_count": 44,
   "id": "75b6f4bf",
   "metadata": {},
   "outputs": [],
   "source": [
    "# to store prior probabilities \n",
    "prior_vec = zeros(N);\n",
    "\n",
    "# to store posterion probabilities \n",
    "posterior_vec = zeros(N);"
   ]
  },
  {
   "cell_type": "code",
   "execution_count": 30,
   "id": "702f8238",
   "metadata": {},
   "outputs": [],
   "source": [
    "temp = zeros(N)\n",
    "a_k= (1/N) * ones(N);"
   ]
  },
  {
   "cell_type": "code",
   "execution_count": 29,
   "id": "edca74b6",
   "metadata": {},
   "outputs": [
    {
     "data": {
      "text/plain": [
       "25.0"
      ]
     },
     "execution_count": 29,
     "metadata": {},
     "output_type": "execute_result"
    }
   ],
   "source": []
  },
  {
   "cell_type": "code",
   "execution_count": null,
   "id": "71dbceb2",
   "metadata": {},
   "outputs": [],
   "source": []
  }
 ],
 "metadata": {
  "kernelspec": {
   "display_name": "Julia 1.8.5",
   "language": "julia",
   "name": "julia-1.8"
  },
  "language_info": {
   "file_extension": ".jl",
   "mimetype": "application/julia",
   "name": "julia",
   "version": "1.8.5"
  }
 },
 "nbformat": 4,
 "nbformat_minor": 5
}
