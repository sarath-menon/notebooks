{
 "cells": [
  {
   "cell_type": "code",
   "execution_count": 1,
   "id": "1161b7cf",
   "metadata": {},
   "outputs": [
    {
     "name": "stderr",
     "output_type": "stream",
     "text": [
      "\u001b[32m\u001b[1m  Activating\u001b[22m\u001b[39m project at `~/Documents/eth_courses/notebooks/probability`\n"
     ]
    }
   ],
   "source": [
    "import Pkg; Pkg.activate(@__DIR__); Pkg.instantiate()"
   ]
  },
  {
   "cell_type": "code",
   "execution_count": 2,
   "id": "a5d0367f",
   "metadata": {},
   "outputs": [
    {
     "data": {
      "text/plain": [
       "TaskLocalRNG()"
      ]
     },
     "execution_count": 2,
     "metadata": {},
     "output_type": "execute_result"
    }
   ],
   "source": [
    "using Random, Distributions\n",
    "Random.seed!(123)"
   ]
  },
  {
   "cell_type": "markdown",
   "id": "d01b3b4c",
   "metadata": {},
   "source": [
    "# Normal distrib"
   ]
  },
  {
   "cell_type": "code",
   "execution_count": 3,
   "id": "80a0ec0f",
   "metadata": {},
   "outputs": [
    {
     "data": {
      "text/plain": [
       "0.0"
      ]
     },
     "execution_count": 3,
     "metadata": {},
     "output_type": "execute_result"
    }
   ],
   "source": [
    "gaussian_distrib = Normal()\n",
    "mean(gaussian_distrib)"
   ]
  },
  {
   "cell_type": "markdown",
   "id": "5e7b1a19",
   "metadata": {},
   "source": [
    "### draw samples"
   ]
  },
  {
   "cell_type": "code",
   "execution_count": 4,
   "id": "cd54a57e",
   "metadata": {},
   "outputs": [
    {
     "data": {
      "text/plain": [
       "100-element Vector{Float64}:\n",
       "  0.8082879284649668\n",
       " -1.1220725081141734\n",
       " -1.1046361023292959\n",
       " -0.4169926351649334\n",
       "  0.28758798062385577\n",
       "  0.2298186980518676\n",
       " -0.4217686643996927\n",
       " -1.355590621101197\n",
       "  0.0694591410918936\n",
       " -0.11732280453081337\n",
       "  1.2192815097319654\n",
       "  0.29291433452245674\n",
       " -0.031148130349280094\n",
       "  ⋮\n",
       "  0.8513501652164516\n",
       "  0.13094190429166025\n",
       " -0.03170723035024594\n",
       "  0.4350014776438522\n",
       "  0.8402951127287839\n",
       "  0.37905112039392486\n",
       " -0.10862495404911267\n",
       " -0.6787747615011163\n",
       " -1.088218513936287\n",
       "  0.7037583257923017\n",
       "  0.14332589323751366\n",
       "  0.14837536667608195"
      ]
     },
     "execution_count": 4,
     "metadata": {},
     "output_type": "execute_result"
    }
   ],
   "source": [
    " x = rand(gaussian_distrib, 100)"
   ]
  },
  {
   "cell_type": "markdown",
   "id": "475ec970",
   "metadata": {},
   "source": [
    "## fitting distribution to data"
   ]
  },
  {
   "cell_type": "code",
   "execution_count": 5,
   "id": "439c73af",
   "metadata": {},
   "outputs": [
    {
     "data": {
      "text/plain": [
       "Normal{Float64}(μ=-0.04827714875398303, σ=0.9256810813636542)"
      ]
     },
     "execution_count": 5,
     "metadata": {},
     "output_type": "execute_result"
    }
   ],
   "source": [
    "fit(Normal, x)"
   ]
  },
  {
   "cell_type": "markdown",
   "id": "5636ddc1",
   "metadata": {},
   "source": [
    "## CDF"
   ]
  },
  {
   "cell_type": "code",
   "execution_count": 8,
   "id": "bfb5c507",
   "metadata": {},
   "outputs": [
    {
     "data": {
      "text/plain": [
       "0.5"
      ]
     },
     "execution_count": 8,
     "metadata": {},
     "output_type": "execute_result"
    }
   ],
   "source": [
    "cdf(gaussian_distrib, 0)"
   ]
  },
  {
   "cell_type": "code",
   "execution_count": null,
   "id": "16acc02c",
   "metadata": {},
   "outputs": [],
   "source": []
  }
 ],
 "metadata": {
  "kernelspec": {
   "display_name": "Julia 1.8.5",
   "language": "julia",
   "name": "julia-1.8"
  },
  "language_info": {
   "file_extension": ".jl",
   "mimetype": "application/julia",
   "name": "julia",
   "version": "1.8.5"
  }
 },
 "nbformat": 4,
 "nbformat_minor": 5
}
