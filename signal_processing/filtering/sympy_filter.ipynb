{
 "cells": [
  {
   "cell_type": "code",
   "execution_count": 4,
   "id": "6b56f799-6b20-437c-ae20-b9797a6df623",
   "metadata": {},
   "outputs": [],
   "source": [
    "import numpy as np\n",
    "import matplotlib.pylab as plt\n",
    "# from scipy.ndimage import convolve1d\n",
    "from scipy import signal as dsp\n",
    "import sympy as sp\n",
    "from sympy import lambdify"
   ]
  },
  {
   "cell_type": "markdown",
   "id": "21fc8d44-df1f-46f3-bf46-1ed0370695f8",
   "metadata": {},
   "source": [
    "# Sympy approach "
   ]
  },
  {
   "cell_type": "code",
   "execution_count": 10,
   "id": "5d05e061-bf78-403d-9b5e-87f06946086c",
   "metadata": {},
   "outputs": [],
   "source": [
    "z = sp.symbols('z')"
   ]
  },
  {
   "cell_type": "markdown",
   "id": "8707be40-66f7-48bb-a5a7-6af500a5397a",
   "metadata": {},
   "source": [
    "## Magnitude and phase response"
   ]
  },
  {
   "cell_type": "code",
   "execution_count": 11,
   "id": "3ae7c201-8299-47cb-8dff-c9653843acf0",
   "metadata": {},
   "outputs": [],
   "source": [
    "def eval_fre_response(H_z, omega):\n",
    "    func = lambdify(z, H_z, 'numpy')\n",
    "    return func(np.exp(1j*omega))\n",
    "\n",
    "def plot_freq_response(H_z):\n",
    "    w = np.linspace(-np.pi, np.pi, 1000)\n",
    "    freq_response = eval_frer_response(H_z, omega)\n",
    "\n",
    "    # get magnitude and phase\n",
    "    mag_H = np.abs(freq_response)\n",
    "    phase_H = np.angle(freq_response)\n",
    "\n",
    "    # plotting\n",
    "    plt.figure()\n",
    "    plt.plot(omega/np.pi, mag_H)\n",
    "    plt.xlabel(\"frequency\")\n",
    "    plt.ylabel(\"Amplitude\")\n",
    "    plt.grid()"
   ]
  },
  {
   "cell_type": "markdown",
   "id": "1ea644ee-ffdb-4a34-8431-4deac99ee672",
   "metadata": {},
   "source": [
    "# Scipy approach"
   ]
  },
  {
   "cell_type": "code",
   "execution_count": 12,
   "id": "ec6a1dab-fd0e-4a18-80d7-882b2ca42cd5",
   "metadata": {},
   "outputs": [
    {
     "ename": "AttributeError",
     "evalue": "module 'numpy' has no attribute 'ex'",
     "output_type": "error",
     "traceback": [
      "\u001b[0;31m---------------------------------------------------------------------------\u001b[0m",
      "\u001b[0;31mAttributeError\u001b[0m                            Traceback (most recent call last)",
      "Cell \u001b[0;32mIn[12], line 1\u001b[0m\n\u001b[0;32m----> 1\u001b[0m num \u001b[38;5;241m=\u001b[39m [\u001b[38;5;241m1\u001b[39m \u001b[38;5;241m-\u001b[39m \u001b[43mnp\u001b[49m\u001b[38;5;241;43m.\u001b[39;49m\u001b[43mex\u001b[49m]\n\u001b[1;32m      2\u001b[0m den \u001b[38;5;241m=\u001b[39m [\u001b[38;5;241m1\u001b[39m, \u001b[38;5;241m2\u001b[39m, \u001b[38;5;241m1\u001b[39m]\n\u001b[1;32m      4\u001b[0m H_z \u001b[38;5;241m=\u001b[39m dsp\u001b[38;5;241m.\u001b[39mTransferFunction(num, den, dt\u001b[38;5;241m=\u001b[39m\u001b[38;5;241m0.1\u001b[39m)\n",
      "File \u001b[0;32m/usr/local/lib/python3.11/site-packages/numpy/__init__.py:320\u001b[0m, in \u001b[0;36m__getattr__\u001b[0;34m(attr)\u001b[0m\n\u001b[1;32m    317\u001b[0m     \u001b[38;5;28;01mfrom\u001b[39;00m \u001b[38;5;21;01m.\u001b[39;00m\u001b[38;5;21;01mtesting\u001b[39;00m \u001b[38;5;28;01mimport\u001b[39;00m Tester\n\u001b[1;32m    318\u001b[0m     \u001b[38;5;28;01mreturn\u001b[39;00m Tester\n\u001b[0;32m--> 320\u001b[0m \u001b[38;5;28;01mraise\u001b[39;00m \u001b[38;5;167;01mAttributeError\u001b[39;00m(\u001b[38;5;124m\"\u001b[39m\u001b[38;5;124mmodule \u001b[39m\u001b[38;5;132;01m{!r}\u001b[39;00m\u001b[38;5;124m has no attribute \u001b[39m\u001b[38;5;124m\"\u001b[39m\n\u001b[1;32m    321\u001b[0m                      \u001b[38;5;124m\"\u001b[39m\u001b[38;5;132;01m{!r}\u001b[39;00m\u001b[38;5;124m\"\u001b[39m\u001b[38;5;241m.\u001b[39mformat(\u001b[38;5;18m__name__\u001b[39m, attr))\n",
      "\u001b[0;31mAttributeError\u001b[0m: module 'numpy' has no attribute 'ex'"
     ]
    }
   ],
   "source": [
    "num = [1 - np.ex]\n",
    "den = [1, 2, 1]\n",
    "\n",
    "H_z = dsp.TransferFunction(num, den, dt=0.1)\n",
    "H_z"
   ]
  },
  {
   "cell_type": "code",
   "execution_count": null,
   "id": "9230a10c-f21f-4edd-8085-915f7f368f5f",
   "metadata": {},
   "outputs": [],
   "source": []
  }
 ],
 "metadata": {
  "kernelspec": {
   "display_name": "Python 3 (ipykernel)",
   "language": "python",
   "name": "python3"
  },
  "language_info": {
   "codemirror_mode": {
    "name": "ipython",
    "version": 3
   },
   "file_extension": ".py",
   "mimetype": "text/x-python",
   "name": "python",
   "nbconvert_exporter": "python",
   "pygments_lexer": "ipython3",
   "version": "3.11.3"
  }
 },
 "nbformat": 4,
 "nbformat_minor": 5
}
