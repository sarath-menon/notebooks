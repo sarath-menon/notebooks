{
 "cells": [
  {
   "cell_type": "code",
   "execution_count": 1,
   "id": "a33ab46f-f4a9-432b-aeb0-0dee81bddea2",
   "metadata": {},
   "outputs": [],
   "source": [
    "import numpy as np\n",
    "import matplotlib.pylab as plt\n",
    "from scipy import signal as dsp"
   ]
  },
  {
   "cell_type": "markdown",
   "id": "5756341e-bfd4-4289-8581-2da088a4a569",
   "metadata": {},
   "source": [
    "## Butterworth filter "
   ]
  },
  {
   "cell_type": "code",
   "execution_count": null,
   "id": "e65630b2-4a40-46a2-b3e7-06c1df9c2cb8",
   "metadata": {},
   "outputs": [],
   "source": [
    "f_s = 1000; # sampling frequency in Hz\n",
    "m = 5; # filter order \n",
    "f_c = 100 # cutoff frequency in Hz\n",
    "\n",
    "# comoute normalized freuency \n",
    "f_n  = 2*(fc/fs)"
   ]
  },
  {
   "cell_type": "code",
   "execution_count": null,
   "id": "1aff1473-5711-4716-8292-de122f0ef548",
   "metadata": {},
   "outputs": [],
   "source": []
  }
 ],
 "metadata": {
  "kernelspec": {
   "display_name": "Python 3 (ipykernel)",
   "language": "python",
   "name": "python3"
  },
  "language_info": {
   "codemirror_mode": {
    "name": "ipython",
    "version": 3
   },
   "file_extension": ".py",
   "mimetype": "text/x-python",
   "name": "python",
   "nbconvert_exporter": "python",
   "pygments_lexer": "ipython3",
   "version": "3.11.3"
  }
 },
 "nbformat": 4,
 "nbformat_minor": 5
}
