{
 "cells": [
  {
   "cell_type": "code",
   "execution_count": 539,
   "id": "dcd74f33",
   "metadata": {},
   "outputs": [],
   "source": [
    "import sympy as sp\n",
    "from sympy.abc import x\n",
    "\n",
    "import numpy as np\n",
    "\n",
    "import matplotlib.pyplot as plt"
   ]
  },
  {
   "cell_type": "markdown",
   "id": "44bd2662",
   "metadata": {},
   "source": [
    "Step 1: Define a continuous time function"
   ]
  },
  {
   "cell_type": "code",
   "execution_count": 540,
   "id": "dee85cda",
   "metadata": {},
   "outputs": [
    {
     "data": {
      "text/latex": [
       "$\\displaystyle - 4 \\cos{\\left(x \\right)} + \\cos{\\left(2 x \\right)} + \\frac{\\pi^{2}}{3}$"
      ],
      "text/plain": [
       "-4*cos(x) + cos(2*x) + pi**2/3"
      ]
     },
     "execution_count": 540,
     "metadata": {},
     "output_type": "execute_result"
    }
   ],
   "source": [
    "f = x**2\n",
    "s = sp.fourier_series(f, (x, -sp.pi, sp.pi))\n",
    "s1 = s.truncate(n=3)\n",
    "s1"
   ]
  },
  {
   "cell_type": "markdown",
   "id": "63e7f9b5",
   "metadata": {},
   "source": [
    "# Manually compute fourier series"
   ]
  },
  {
   "cell_type": "code",
   "execution_count": 541,
   "id": "c2cb79f5",
   "metadata": {},
   "outputs": [],
   "source": [
    "# dx = 0.005\n",
    "\n",
    "# start_time = 0.0\n",
    "# end_time = 1.0\n",
    "\n",
    "# length = int((end_time-start_time) / dx)\n",
    "\n",
    "# # x axis\n",
    "# x = np.arange(start_time, end_time , dx, dtype=float)\n",
    "\n",
    "# # y axis\n",
    "\n",
    "# # step function\n",
    "# y = np.ones(length)\n",
    "# y[0: int(length/2)] = np.zeros(int(length/2))\n",
    "\n",
    "# # # sine wave\n",
    "# # y = np.sin(x * 2* np.pi)\n",
    "\n",
    "# # fundamental period (smallest period after which the sequence repeats itself)\n",
    "# L = 1.0"
   ]
  },
  {
   "cell_type": "code",
   "execution_count": 542,
   "id": "9d743e30",
   "metadata": {},
   "outputs": [],
   "source": [
    "dx = 0.005\n",
    "\n",
    "# fundamental period (smallest period after which the sequence repeats itself)\n",
    "L = 1.0\n",
    "\n",
    "# x axis\n",
    "x = np.arange(dx, L, dx, dtype=float)\n",
    "\n",
    "# y axis\n",
    "\n",
    "# step function\n",
    "y = np.ones(x.size)\n",
    "y[0: int(y.size/2)] = np.zeros(int(y.size/2))\n",
    "\n",
    "# # sine wave\n",
    "# y = np.sin(x * 2* np.pi)\n"
   ]
  },
  {
   "cell_type": "code",
   "execution_count": 543,
   "id": "329e59c9",
   "metadata": {},
   "outputs": [
    {
     "data": {
      "image/png": "[encoded data removed]",
      "text/plain": [
       "<Figure size 640x480 with 1 Axes>"
      ]
     },
     "metadata": {},
     "output_type": "display_data"
    }
   ],
   "source": [
    "plt.plot(x, y)\n",
    "plt.grid()\n",
    "plt.show(block=False)"
   ]
  },
  {
   "cell_type": "markdown",
   "id": "bf242139",
   "metadata": {},
   "source": [
    "## Compute fourier series coefficients"
   ]
  },
  {
   "cell_type": "code",
   "execution_count": 544,
   "id": "2ea7fd99",
   "metadata": {},
   "outputs": [],
   "source": [
    "A0 = (2/L) * np.sum(y* np.ones(x.size))*dx;\n",
    "# equivalent to A0 = (2/L)*np.sum(y* np.ones(x.size)*dx), but numerically more precise since repeated addition is avoided"
   ]
  },
  {
   "cell_type": "markdown",
   "id": "8194ee08",
   "metadata": {},
   "source": [
    "## Compute fourier series"
   ]
  },
  {
   "cell_type": "code",
   "execution_count": 545,
   "id": "c39fcb25",
   "metadata": {},
   "outputs": [],
   "source": [
    "sine_wave_order = 100\n",
    "\n",
    "# compute first term of fourier series\n",
    "ffs_1 = (A0/2.0)\n",
    "ffs_2 = np.zeros(y.size)\n",
    "\n",
    "for k in range(sine_wave_order+1):\n",
    "    Ak = (2.0/L) * np.sum(y * np.cos(2.0*np.pi*k*x/L))*dx;\n",
    "    Bk = (2.0/L) * np.sum(y * np.sin(2.0*np.pi*k*x/L))*dx;\n",
    "    \n",
    "    # compute second term of fourier series\n",
    "    ffs_2 += Ak*np.cos(2*k*np.pi*x/L) + Bk*np.sin(2*k*np.pi*x/L);\n",
    "    \n",
    "# compute total of fourier series\n",
    "ffs = ffs_1 + ffs_2    "
   ]
  },
  {
   "cell_type": "code",
   "execution_count": 546,
   "id": "048b5636",
   "metadata": {},
   "outputs": [
    {
     "data": {
      "image/png": "[encoded data removed]",
      "text/plain": [
       "<Figure size 640x480 with 1 Axes>"
      ]
     },
     "metadata": {},
     "output_type": "display_data"
    }
   ],
   "source": [
    "# original signal\n",
    "plt.plot(x, y)\n",
    "\n",
    "# fourier series approximatiion\n",
    "plt.plot(x, ffs)\n",
    "\n",
    "plt.grid()\n",
    "plt.show(block=False)"
   ]
  },
  {
   "cell_type": "code",
   "execution_count": 547,
   "id": "1e21ac39",
   "metadata": {},
   "outputs": [
    {
     "name": "stdout",
     "output_type": "stream",
     "text": [
      "Variable          Type             Data/Info\n",
      "--------------------------------------------\n",
      "A0                float64          1.0\n",
      "Ak                float64          0.0\n",
      "Bk                float64          -1.9993415937469236e-15\n",
      "L                 float            1.0\n",
      "dx                float            0.005\n",
      "end_time          float            1.0\n",
      "f                 Pow              x**2\n",
      "ffs               ndarray          199: 199 elems, type `float64`, 1592 bytes\n",
      "ffs_1             float64          0.5\n",
      "ffs_2             ndarray          199: 199 elems, type `float64`, 1592 bytes\n",
      "k                 int              100\n",
      "length            int              200\n",
      "np                module           <module 'numpy' from '/us<...>kages/numpy/__init__.py'>\n",
      "plt               module           <module 'matplotlib.pyplo<...>es/matplotlib/pyplot.py'>\n",
      "s                 FourierSeries    FourierSeries(x**2, (x, -<...>Formula(0, (_k, 1, oo))))\n",
      "s1                Add              -4*cos(x) + cos(2*x) + pi**2/3\n",
      "sine_wave_order   int              100\n",
      "sp                module           <module 'sympy' from '/us<...>kages/sympy/__init__.py'>\n",
      "start_time        float            0.0\n",
      "x                 ndarray          199: 199 elems, type `float64`, 1592 bytes\n",
      "x1                ndarray          50: 50 elems, type `float64`, 400 bytes\n",
      "x2                ndarray          50: 50 elems, type `float64`, 400 bytes\n",
      "y                 ndarray          199: 199 elems, type `float64`, 1592 bytes\n"
     ]
    }
   ],
   "source": [
    "%whos"
   ]
  },
  {
   "cell_type": "code",
   "execution_count": null,
   "id": "8b2e05d0",
   "metadata": {},
   "outputs": [],
   "source": []
  }
 ],
 "metadata": {
  "kernelspec": {
   "display_name": "Python 3 (ipykernel)",
   "language": "python",
   "name": "python3"
  },
  "language_info": {
   "codemirror_mode": {
    "name": "ipython",
    "version": 3
   },
   "file_extension": ".py",
   "mimetype": "text/x-python",
   "name": "python",
   "nbconvert_exporter": "python",
   "pygments_lexer": "ipython3",
   "version": "3.10.7"
  }
 },
 "nbformat": 4,
 "nbformat_minor": 5
}
