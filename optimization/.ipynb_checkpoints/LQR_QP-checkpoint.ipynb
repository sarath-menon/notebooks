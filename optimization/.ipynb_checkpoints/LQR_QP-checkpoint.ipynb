{
 "cells": [
  {
   "cell_type": "code",
   "execution_count": 1,
   "id": "a6e9332c",
   "metadata": {},
   "outputs": [
    {
     "name": "stderr",
     "output_type": "stream",
     "text": [
      "\u001b[32m\u001b[1m  Activating\u001b[22m\u001b[39m project at `~/Documents/eth_courses/notebooks/optimization`\n"
     ]
    }
   ],
   "source": [
    "import Pkg; Pkg.activate(@__DIR__); Pkg.instantiate()"
   ]
  },
  {
   "cell_type": "code",
   "execution_count": 2,
   "id": "c2fd7493",
   "metadata": {},
   "outputs": [],
   "source": [
    "# using Pkg\n",
    "# Pkg.update()\n",
    "# Pkg.add(\"BlockArrays\")"
   ]
  },
  {
   "cell_type": "code",
   "execution_count": 15,
   "id": "4958f435",
   "metadata": {},
   "outputs": [],
   "source": [
    "using LinearAlgebra\n",
    "using PyPlot\n",
    "using SparseArrays\n",
    "\n",
    "import Convex as cvx \n",
    "import ECOS"
   ]
  },
  {
   "cell_type": "markdown",
   "id": "c57640cf",
   "metadata": {},
   "source": [
    "## Dynamics"
   ]
  },
  {
   "cell_type": "code",
   "execution_count": 24,
   "id": "1c2b9cef",
   "metadata": {},
   "outputs": [
    {
     "data": {
      "text/plain": [
       "2-element Vector{Float64}:\n",
       " 1.0\n",
       " 0.0"
      ]
     },
     "execution_count": 24,
     "metadata": {},
     "output_type": "execute_result"
    }
   ],
   "source": [
    "# Discrete dynamics\n",
    "h = 0.1   # time step\n",
    "A = [1 h; 0 1]\n",
    "B = [0.5*h*h; h]\n",
    "\n",
    "n = 2     # number of state\n",
    "m = 1     # number of controls\n",
    "Tfinal = 100.0 # final time\n",
    "N = Int(Tfinal/h)+1    # number of time steps\n",
    "thist = Array(range(0,h*(N-1), step=h));\n",
    "\n",
    "# Initial conditions\n",
    "x0 = [1.0; 0]"
   ]
  },
  {
   "cell_type": "markdown",
   "id": "a4ee7f55",
   "metadata": {},
   "source": [
    "# Controller"
   ]
  },
  {
   "cell_type": "code",
   "execution_count": 25,
   "id": "e88530b6",
   "metadata": {},
   "outputs": [],
   "source": [
    "# Cost weights\n",
    "Q = sparse(1.0*I(2))\n",
    "R = sparse(0.1*I(1))\n",
    "Qn = sparse(1.0*I(2))\n",
    "\n",
    "# Cost\n",
    "H = blockdiag(R, kron(I(N-2), blockdiag(Q,R)), Qn);\n",
    "\n",
    "# Constraints\n",
    "C = kron(I(N-1), [B -I(2)])\n",
    "\n",
    "for k = 1:N-2\n",
    "    C[(k*n).+(1:n), (k*(n+m)-n).+(1:n)] .= A\n",
    "end\n",
    "d = [-A*x0; zeros(size(C,1)-n)];"
   ]
  },
  {
   "cell_type": "code",
   "execution_count": 26,
   "id": "18f66b72",
   "metadata": {},
   "outputs": [
    {
     "data": {
      "text/plain": [
       "J (generic function with 1 method)"
      ]
     },
     "execution_count": 26,
     "metadata": {},
     "output_type": "execute_result"
    }
   ],
   "source": [
    "#Cost function\n",
    "function J(xhist,uhist)\n",
    "    cost = 0.5*xhist[:,end]'*Qn*xhist[:,end]\n",
    "    for k = 1:(N-1)\n",
    "        cost = cost + 0.5*xhist[:,k]'*Q*xhist[:,k] + 0.5*(uhist[k]'*R*uhist[k])[1]\n",
    "    end\n",
    "    return cost\n",
    "end"
   ]
  },
  {
   "cell_type": "code",
   "execution_count": 27,
   "id": "d5af17c0",
   "metadata": {},
   "outputs": [],
   "source": [
    "\n",
    "# Solve the linear system\n",
    "y = [H C'; C zeros(size(C,1),size(C,1))]\\[zeros(size(H,1)); d]\n",
    "\n",
    "# Get state history\n",
    "z = y[1:size(H,1)]   # states and controls [u0,x1,u1,...,xN]\n",
    "Z = reshape(z,n+m,N-1)\n",
    "xhist = Z[m+1:end,:]\n",
    "xhist = [x0 xhist]\n",
    "\n",
    "# Get control history\n",
    "uhist = Z[1,:];\n",
    "     "
   ]
  },
  {
   "cell_type": "code",
   "execution_count": 28,
   "id": "70081f62",
   "metadata": {},
   "outputs": [
    {
     "name": "stdout",
     "output_type": "stream",
     "text": [
      "Cost:6.658612220565539"
     ]
    },
    {
     "data": {
      "image/png": "[encoded data removed]",
      "text/plain": [
       "Figure(PyObject <Figure size 640x480 with 1 Axes>)"
      ]
     },
     "metadata": {},
     "output_type": "display_data"
    }
   ],
   "source": [
    "# Plot x1 vs. x2, u vs. t, x vs. t, etc.\n",
    "times = range(0,h*(N-1), step=h)\n",
    "plot(times,xhist[1,:], label=\"position\")\n",
    "plot(times,xhist[2,:], label=\"velocity\")\n",
    "xlabel(\"time\")\n",
    "legend()\n",
    "\n",
    "plot(times[1:end-1], uhist, label=\"control\")\n",
    "xlabel(\"Time\")\n",
    "legend()\n",
    "\n",
    "print(\"Cost:\", J(xhist,uhist))"
   ]
  },
  {
   "cell_type": "markdown",
   "id": "51b4992d",
   "metadata": {},
   "source": [
    "## Demo"
   ]
  },
  {
   "cell_type": "markdown",
   "id": "20a7c07e",
   "metadata": {},
   "source": [
    "### Dynamics"
   ]
  },
  {
   "cell_type": "code",
   "execution_count": 351,
   "id": "fcac8597",
   "metadata": {},
   "outputs": [
    {
     "data": {
      "text/plain": [
       "2-element Vector{Float64}:\n",
       " 1.0\n",
       " 0.0"
      ]
     },
     "execution_count": 351,
     "metadata": {},
     "output_type": "execute_result"
    }
   ],
   "source": [
    "# Discrete dynamics\n",
    "h = 0.1   # time step\n",
    "A = [1 h;\n",
    "    0 1]\n",
    "B = [0.5*h*h;\n",
    "    h]\n",
    "\n",
    "n = 2     # number of state\n",
    "m = 1     # number of controls\n",
    "Tfinal = 100.0 # final time\n",
    "N = Int(Tfinal/h)+1    # number of time steps\n",
    "thist = Array(range(0,h*(N), step=h));\n",
    "\n",
    "# Initial conditions\n",
    "x0 = [1.0; 0]"
   ]
  },
  {
   "cell_type": "markdown",
   "id": "68e6a432",
   "metadata": {},
   "source": [
    "### Controller"
   ]
  },
  {
   "cell_type": "code",
   "execution_count": 352,
   "id": "d4f51b14",
   "metadata": {
    "scrolled": true
   },
   "outputs": [],
   "source": [
    "# Cost weights\n",
    "Q = 1.0 * sparse(I(2))\n",
    "R = 0.1* sparse(I(1))\n",
    "Qn = 2.0* sparse(I(2))\n",
    "\n",
    "Q_n = size(Q,1)\n",
    "A_n = size(A,1)\n",
    "\n",
    "# Cost\n",
    "H̄= blockdiag(kron(I(N-1), Q), Qn, kron(I(N), R))\n",
    "H̄ = Matrix(H̄)\n",
    "H̄ = H̄'*H̄ + I # create PSD matrix \n",
    "\n",
    "# constrains\n",
    "G_eq_left = blockdiag(kron(I(N), 1.0*sparse(I(2))))\n",
    "\n",
    "# Add A matrix blocks to G_eq\n",
    "for k = 1:N-1\n",
    "    i = (Q_n*k) + 1\n",
    "    j = Q_n*(k-1) +1\n",
    "    \n",
    "    G_eq_left[i:i+(A_n-1), j:j+(A_n-1)] .= -A\n",
    "end\n",
    "\n",
    "G_eq_right = blockdiag(kron(I(N), sparse(-B)));\n",
    "\n",
    "G_eq = hcat(G_eq_left, G_eq_right);\n",
    "\n",
    "E_eq = [A*x0; zeros(size(G_eq,1)-A_n)];"
   ]
  },
  {
   "cell_type": "markdown",
   "id": "f93466e2",
   "metadata": {},
   "source": [
    "## Solving using convex.jl"
   ]
  },
  {
   "cell_type": "code",
   "execution_count": 347,
   "id": "aafd5329",
   "metadata": {},
   "outputs": [],
   "source": [
    "z = cvx.Variable(size(A,1)*N + N)\n",
    "# z = [z, x0]\n",
    "\n",
    "# NOTE: quadform(x,Q) = x'*Q*x \n",
    "cost = 0.5*cvx.quadform(z,H̄) \n",
    "\n",
    "prob = cvx.minimize(cost)\n",
    "\n",
    "# dynamics constraint\n",
    "prob.constraints += (G_eq*z == E_eq)\n",
    "\n",
    "cvx.solve!(prob, ECOS.Optimizer; silent_solver = true)\n",
    "\n",
    "z_val= z.value::Matrix; # This will always be a matrix\n",
    "z_val= vec(z.value); # convert to vector easily "
   ]
  },
  {
   "cell_type": "code",
   "execution_count": 348,
   "id": "9b6b902a",
   "metadata": {
    "scrolled": true
   },
   "outputs": [
    {
     "data": {
      "image/png": "[encoded data removed]",
      "text/plain": [
       "Figure(PyObject <Figure size 640x480 with 1 Axes>)"
      ]
     },
     "metadata": {},
     "output_type": "display_data"
    },
    {
     "data": {
      "text/plain": [
       "PyObject <matplotlib.legend.Legend object at 0x137f16470>"
      ]
     },
     "execution_count": 348,
     "metadata": {},
     "output_type": "execute_result"
    }
   ],
   "source": [
    "xhist = z_val[1:2*N]\n",
    "xhist = reshape(xhist, 2,N)\n",
    "xhist = [x0 xhist]\n",
    "\n",
    "# Get control history\n",
    "uhist = z_val[2*N+1:end];\n",
    "\n",
    "# Plot x1 vs. x2, u vs. t, x vs. t, etc.\n",
    "# times = range(0,h*(N-1), step=h)\n",
    "plot(thist, xhist[1,:], label=\"position\")\n",
    "plot(thist, xhist[2,:], label=\"velocity\")\n",
    "xlabel(\"time\")\n",
    "legend()\n",
    "\n",
    "plot(thist[1:end-1], uhist, label=\"control\")\n",
    "xlabel(\"Time\")\n",
    "legend()\n",
    "\n",
    "# print(\"Cost:\", J(xhist,uhist))"
   ]
  },
  {
   "cell_type": "markdown",
   "id": "b165cc00",
   "metadata": {},
   "source": [
    "## LQR wth constrains"
   ]
  },
  {
   "cell_type": "code",
   "execution_count": 385,
   "id": "0c99604d",
   "metadata": {},
   "outputs": [],
   "source": [
    "# state constrain\n",
    "b_x = 5;\n",
    "\n",
    "# control constrain \n",
    "b_u = 0.1;\n",
    "\n",
    "A_x = 1.0*sparse(I(n))\n",
    "A_u = 1.0*sparse(I(m))\n",
    "\n",
    "G_in = blockdiag(sparse(zeros(n,n)), kron(I(N-1), A_x), kron(I(N), A_u));\n",
    "\n",
    "w_in = [repeat(ones(n,1)*b_x, N) ; repeat(ones(m,1)*b_u, N)];\n",
    "E_in = [-A_x; repeat(zeros(n, n), N-1); repeat(zeros(1, 2), N)];"
   ]
  },
  {
   "cell_type": "markdown",
   "id": "b4aea1b2",
   "metadata": {},
   "source": [
    "## Solving using convex.jl"
   ]
  },
  {
   "cell_type": "code",
   "execution_count": 386,
   "id": "b64ee385",
   "metadata": {},
   "outputs": [],
   "source": [
    "z = cvx.Variable(size(A,1)*N + N)\n",
    "\n",
    "# NOTE: quadform(x,Q) = x'*Q*x \n",
    "cost = 0.5*cvx.quadform(z,H̄) \n",
    "\n",
    "prob = cvx.minimize(cost)\n",
    "\n",
    "# dynamics constraint\n",
    "prob.constraints += (G_eq*z == E_eq)\n",
    "\n",
    "# state, control constrains\n",
    "prob.constraints += (G_in*z <= w_in + E_in*x0)\n",
    "\n",
    "cvx.solve!(prob, ECOS.Optimizer; silent_solver = true)\n",
    "\n",
    "z_val= z.value::Matrix; # This will always be a matrix\n",
    "z_val= vec(z.value); # convert to vector easily "
   ]
  },
  {
   "cell_type": "code",
   "execution_count": 387,
   "id": "fc56a43b",
   "metadata": {},
   "outputs": [
    {
     "data": {
      "image/png": "[encoded data removed]",
      "text/plain": [
       "Figure(PyObject <Figure size 640x480 with 1 Axes>)"
      ]
     },
     "metadata": {},
     "output_type": "display_data"
    },
    {
     "data": {
      "text/plain": [
       "PyObject <matplotlib.legend.Legend object at 0x13cecb640>"
      ]
     },
     "execution_count": 387,
     "metadata": {},
     "output_type": "execute_result"
    }
   ],
   "source": [
    "xhist = z_val[1:2*N]\n",
    "xhist = reshape(xhist, 2,N)\n",
    "xhist = [x0 xhist]\n",
    "\n",
    "# Get control history\n",
    "uhist = z_val[2*N+1:end];\n",
    "\n",
    "# Plot x1 vs. x2, u vs. t, x vs. t, etc.\n",
    "# times = range(0,h*(N-1), step=h)\n",
    "plot(thist, xhist[1,:], label=\"position\")\n",
    "plot(thist, xhist[2,:], label=\"velocity\")\n",
    "xlabel(\"time\")\n",
    "legend()\n",
    "\n",
    "plot(thist[1:end-1], uhist, label=\"control\")\n",
    "xlabel(\"Time\")\n",
    "legend()\n",
    "\n",
    "# print(\"Cost:\", J(xhist,uhist))"
   ]
  },
  {
   "cell_type": "code",
   "execution_count": null,
   "id": "0dc47879",
   "metadata": {},
   "outputs": [],
   "source": []
  }
 ],
 "metadata": {
  "kernelspec": {
   "display_name": "Julia 1.8.5",
   "language": "julia",
   "name": "julia-1.8"
  },
  "language_info": {
   "file_extension": ".jl",
   "mimetype": "application/julia",
   "name": "julia",
   "version": "1.8.5"
  }
 },
 "nbformat": 4,
 "nbformat_minor": 5
}
