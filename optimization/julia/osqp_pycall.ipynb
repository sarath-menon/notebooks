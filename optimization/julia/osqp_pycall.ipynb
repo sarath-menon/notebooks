{
 "cells": [
  {
   "cell_type": "code",
   "execution_count": 1,
   "id": "34107475-69e1-4fc6-a802-c0d51fa374d3",
   "metadata": {},
   "outputs": [
    {
     "name": "stderr",
     "output_type": "stream",
     "text": [
      "\u001b[32m\u001b[1m  Activating\u001b[22m\u001b[39m project at `~/Documents/eth_courses/notebooks/math/julia/convex optimization`\n"
     ]
    }
   ],
   "source": [
    "import Pkg; Pkg.activate(@__DIR__); Pkg.instantiate();"
   ]
  },
  {
   "cell_type": "code",
   "execution_count": 5,
   "id": "35d982e8-c2a0-4ed6-aadc-e2541250f7cc",
   "metadata": {},
   "outputs": [
    {
     "data": {
      "text/plain": [
       "PyObject <module 'scipy.sparse' from '/usr/local/opt/python@3.11/Frameworks/Python.framework/Versions/3.11/lib/python3.11/site-packages/scipy/sparse/__init__.py'>"
      ]
     },
     "execution_count": 5,
     "metadata": {},
     "output_type": "execute_result"
    }
   ],
   "source": [
    "using PyCall\n",
    "\n",
    "osqp = pyimport(\"osqp\")\n",
    "np = pyimport(\"numpy\")\n",
    "sparse = pyimport(\"scipy.sparse\")\n",
    "\n",
    "# ENV[\"PYTHON\"] = \"/usr/local/bin/python3\"  \n",
    "# Pkg.build(\"PyCall\")"
   ]
  },
  {
   "cell_type": "code",
   "execution_count": 6,
   "id": "70b79c88-2d74-4f10-8c19-203cb653e028",
   "metadata": {},
   "outputs": [
    {
     "data": {
      "text/plain": [
       "3-element Vector{Float64}:\n",
       " 1.0\n",
       " 0.7\n",
       " 0.7"
      ]
     },
     "execution_count": 6,
     "metadata": {},
     "output_type": "execute_result"
    }
   ],
   "source": [
    "# Define problem data\n",
    "P = sparse.csc_matrix([[4, 1], [1, 2]])\n",
    "q = np.array([1, 1])\n",
    "A = sparse.csc_matrix([[1, 1], [1, 0], [0, 1]])\n",
    "l = np.array([1, 0, 0])\n",
    "u = np.array([1, 0.7, 0.7])\n"
   ]
  },
  {
   "cell_type": "code",
   "execution_count": 7,
   "id": "04a45caf-0d1f-4a6c-881b-e41173eb394a",
   "metadata": {},
   "outputs": [
    {
     "name": "stdout",
     "output_type": "stream",
     "text": [
      "-----------------------------------------------------------------\n",
      "           OSQP v0.6.3  -  Operator Splitting QP Solver\n",
      "              (c) Bartolomeo Stellato,  Goran Banjac\n",
      "        University of Oxford  -  Stanford University 2021\n",
      "-----------------------------------------------------------------\n",
      "problem:  variables n = 2, constraints m = 3\n",
      "          nnz(P) + nnz(A) = 7\n",
      "settings: linear system solver = qdldl,\n",
      "          eps_abs = 1.0e-03, eps_rel = 1.0e-03,\n",
      "          eps_prim_inf = 1.0e-04, eps_dual_inf = 1.0e-04,\n",
      "          rho = 1.00e-01 (adaptive),\n",
      "          sigma = 1.00e-06, alpha = 1.00, max_iter = 4000\n",
      "          check_termination: on (interval 25),\n",
      "          scaling: on, scaled_termination: off\n",
      "          warm start: on, polish: off, time_limit: off\n",
      "\n"
     ]
    }
   ],
   "source": [
    "# Create an OSQP object\n",
    "    prob = osqp.OSQP()\n",
    "\n",
    "    # Setup workspace and change alpha parameter\n",
    "    prob.setup(P, q, A, l, u, alpha=1.0)"
   ]
  },
  {
   "cell_type": "code",
   "execution_count": 14,
   "id": "52287d8c-3a0d-4900-9e34-5e4a27ce7746",
   "metadata": {},
   "outputs": [
    {
     "name": "stdout",
     "output_type": "stream",
     "text": [
      "Getting workspace from OSQP object... \t\t\t\t[done]\n",
      "Creating target directories... \t\t\t\t\t[done]\n",
      "Copying OSQP sources... \t\t\t\t\t[done]\n",
      "Generating customized code... \t\t\t\t\t[done]\n",
      "Compiling Python wrapper... \t\t\t\t\t[done]\n",
      "Copying code-generated Python solver to current directory... \t[done]\n"
     ]
    },
    {
     "name": "stderr",
     "output_type": "stream",
     "text": [
      "/usr/local/lib/python3.11/site-packages/setuptools/__init__.py:85: _DeprecatedInstaller: setuptools.installer and fetch_build_eggs are deprecated. Requirements should be satisfied by a PEP 517 installer. If you are using pip, you can try `pip install --use-pep517`.\n",
      "  dist.fetch_build_eggs(dist.setup_requires)\n"
     ]
    }
   ],
   "source": [
    " prob.codegen(\"out\")"
   ]
  },
  {
   "cell_type": "code",
   "execution_count": null,
   "id": "3eedaa29-11b1-4880-ae05-9b7de7adba13",
   "metadata": {},
   "outputs": [],
   "source": []
  }
 ],
 "metadata": {
  "kernelspec": {
   "display_name": "control_precompiled 1.9.1",
   "language": "julia",
   "name": "control_precompiled-1.9"
  },
  "language_info": {
   "file_extension": ".jl",
   "mimetype": "application/julia",
   "name": "julia",
   "version": "1.9.1"
  }
 },
 "nbformat": 4,
 "nbformat_minor": 5
}
