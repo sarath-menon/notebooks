{
 "cells": [
  {
   "cell_type": "code",
   "execution_count": 1,
   "id": "adf87f54-b458-41ac-8d7e-0625863c871a",
   "metadata": {},
   "outputs": [
    {
     "name": "stderr",
     "output_type": "stream",
     "text": [
      "\u001b[32m\u001b[1m  Activating\u001b[22m\u001b[39m project at `~/Documents/eth_courses/notebooks/optimization/julia`\n"
     ]
    }
   ],
   "source": [
    "import Pkg; Pkg.activate(@__DIR__); Pkg.instantiate();"
   ]
  },
  {
   "cell_type": "code",
   "execution_count": 147,
   "id": "613f6bc6-cd3e-425a-9bc6-c4a213dfb4c6",
   "metadata": {},
   "outputs": [],
   "source": [
    "using PyCall\n",
    "\n",
    "cp = pyimport(\"cvxpy\");"
   ]
  },
  {
   "cell_type": "code",
   "execution_count": 149,
   "id": "294637d0-045f-4e43-91c7-7da3a24cd95c",
   "metadata": {},
   "outputs": [
    {
     "data": {
      "text/plain": [
       "constrain_4 (generic function with 1 method)"
      ]
     },
     "execution_count": 149,
     "metadata": {},
     "output_type": "execute_result"
    }
   ],
   "source": [
    "# DGP requires Variables to be declared positive via `pos=true`.\n",
    "x = cp.Variable(pos=true)\n",
    "y = cp.Variable(pos=true)\n",
    "z = cp.Variable(pos=true)\n",
    "\n",
    "constrain_1(x,y,z) = 4 * x * y * z + 2 * x * z \n",
    "constrain_2(x,y,z) = x\n",
    "constrain_3(x,y,z) = y \n",
    "constrain_4(x,y,z) = z"
   ]
  },
  {
   "cell_type": "code",
   "execution_count": 150,
   "id": "bee036a1-1791-46bc-99bc-1b098589fd5d",
   "metadata": {},
   "outputs": [
    {
     "data": {
      "text/plain": [
       "4-element Vector{PyObject}:\n",
       " PyObject Inequality(Expression(LOG-LOG CONVEX, NONNEGATIVE, ()))\n",
       " PyObject Inequality(Variable((), pos=True))\n",
       " PyObject Inequality(Variable((), pos=True))\n",
       " PyObject Inequality(Constant(CONSTANT, NONNEGATIVE, ()))"
      ]
     },
     "execution_count": 150,
     "metadata": {},
     "output_type": "execute_result"
    }
   ],
   "source": [
    "constraints = [\n",
    "  constrain_1(x,y,z) <= 10, constrain_2(x,y,z) <= 2*y, constrain_3(x,y,z) <= 2*x, constrain_4(x,y,z) >= 1]"
   ]
  },
  {
   "cell_type": "code",
   "execution_count": 151,
   "id": "951ef324-2939-482d-b69c-2ecdbbc35274",
   "metadata": {},
   "outputs": [
    {
     "data": {
      "text/plain": [
       "PyObject Expression(LOG-LOG AFFINE, NONNEGATIVE, ())"
      ]
     },
     "execution_count": 151,
     "metadata": {},
     "output_type": "execute_result"
    }
   ],
   "source": [
    "objective_fn = x * y * z"
   ]
  },
  {
   "cell_type": "code",
   "execution_count": 154,
   "id": "1071c970-9c68-4cf3-88f4-73aa3ba79458",
   "metadata": {},
   "outputs": [
    {
     "name": "stdout",
     "output_type": "stream",
     "text": [
      "Optimal value=: 1.9999999938309496x: 0.9999999989682057y: 1.999999974180587z: 1.0000000108569758"
     ]
    }
   ],
   "source": [
    "problem = cp.Problem(cp.Maximize(objective_fn), constraints)\n",
    "problem.solve(gp=true)\n",
    "print(\"Optimal value=: \", problem.value)\n",
    "print(\"x: \", x.value)\n",
    "print(\"y: \", y.value)\n",
    "print(\"z: \", z.value)"
   ]
  },
  {
   "cell_type": "markdown",
   "id": "d8ab5dde-4dcb-46bf-8735-8f1ad7dc007f",
   "metadata": {},
   "source": [
    "# Wing design "
   ]
  },
  {
   "cell_type": "code",
   "execution_count": 50,
   "id": "3991e2da-000e-4925-8998-b8c9ebed0b3a",
   "metadata": {},
   "outputs": [
    {
     "data": {
      "text/plain": [
       "7370.099999999999"
      ]
     },
     "execution_count": 50,
     "metadata": {},
     "output_type": "execute_result"
    }
   ],
   "source": [
    "lift_eqn(ρ, V, C_l, S) = 0.5 * ρ * V^2 * C_l * S\n",
    "\n",
    "let \n",
    "ρ = 1.293\n",
    "V = 10\n",
    "C_l = 9.5\n",
    "S = 12\n",
    "\n",
    "lift_eqn(ρ, V, C_l, S)\n",
    "    \n",
    "end\n"
   ]
  },
  {
   "cell_type": "code",
   "execution_count": 203,
   "id": "b4076624-a6f3-4ac3-a7f7-baeb1d7f4966",
   "metadata": {},
   "outputs": [
    {
     "data": {
      "text/plain": [
       "PyObject Parameter((), pos=True)"
      ]
     },
     "execution_count": 203,
     "metadata": {},
     "output_type": "execute_result"
    }
   ],
   "source": [
    "# Constants\n",
    "k = cp.Parameter(pos=true, value= 1.2)\n",
    "e = cp.Parameter(pos=true, value= 0.95)\n",
    "mu = cp.Parameter(pos=true, value= 1.78e-5)\n",
    "rho = cp.Parameter(pos=true, value= 1.23)\n",
    "tau = cp.Parameter(pos=true, value= 0.12)\n",
    "N_ult = cp.Parameter(pos=true, value= 3.8)\n",
    "V_min = cp.Parameter(pos=true, value= 22)\n",
    "C_Lmax = cp.Parameter(pos=true, value= 1.5)\n",
    "S_wetratio = cp.Parameter(pos=true, value=  2.05)\n",
    "W_W_coeff1 = cp.Parameter(pos=true, value= 8.71e-5)\n",
    "W_W_coeff2 = cp.Parameter(pos=true, value= 45.24)\n",
    "CDA0 = cp.Parameter(pos=true, value= 0.031)\n",
    "W_0 = cp.Parameter(pos=true, value=  4940.0)\n"
   ]
  },
  {
   "cell_type": "code",
   "execution_count": 204,
   "id": "40919b6b-8f88-47cc-9a9e-21afee05a09e",
   "metadata": {},
   "outputs": [
    {
     "data": {
      "text/plain": [
       "PyObject Variable((), pos=True)"
      ]
     },
     "execution_count": 204,
     "metadata": {},
     "output_type": "execute_result"
    }
   ],
   "source": [
    "# Free Variables\n",
    "\n",
    "D = cp.Variable(pos=true, name=\"D\")\n",
    "A = cp.Variable(pos=true, name=\"A\")\n",
    "S = cp.Variable(pos=true, name=\"S\")\n",
    "V = cp.Variable(pos=true, name=\"V\")\n",
    "W = cp.Variable(pos=true, name=\"W\")\n",
    "Re = cp.Variable(pos=true, name=\"Re\")\n",
    "C_D = cp.Variable(pos=true, name=\"C_D\")\n",
    "C_L = cp.Variable(pos=true, name=\"C_L\")\n",
    "C_f = cp.Variable(pos=true, name=\"C_f\")\n",
    "W_w = cp.Variable(pos=true, name=\"W_w\")"
   ]
  },
  {
   "cell_type": "code",
   "execution_count": 205,
   "id": "8cdf4fc4-e684-4c9d-b830-1b68462c6abd",
   "metadata": {},
   "outputs": [
    {
     "data": {
      "text/plain": [
       "PyObject Expression(LOG-LOG AFFINE, NONNEGATIVE, ())"
      ]
     },
     "execution_count": 205,
     "metadata": {},
     "output_type": "execute_result"
    }
   ],
   "source": [
    "# Drag model\n",
    "C_D_fuse = CDA0/S\n",
    "C_D_wpar = k * C_f * S_wetratio\n",
    "C_D_ind = (C_L^2)/(pi*A*e)"
   ]
  },
  {
   "cell_type": "code",
   "execution_count": 206,
   "id": "026d0b66-305c-46e6-bef1-d0a607b9da27",
   "metadata": {},
   "outputs": [
    {
     "data": {
      "text/plain": [
       "PyObject Expression(AFFINE, NONNEGATIVE, ())"
      ]
     },
     "execution_count": 206,
     "metadata": {},
     "output_type": "execute_result"
    }
   ],
   "source": [
    "# Wing weight model\n",
    "W_w_strc = W_W_coeff1*(N_ult * A^1.5 * (W_0*W*S)^0.5)/tau\n",
    "W_w_surf = W_W_coeff2 * S"
   ]
  },
  {
   "cell_type": "markdown",
   "id": "ea29082e-6e56-4c60-aef6-fc37bf7ef752",
   "metadata": {},
   "source": [
    "### Constrains"
   ]
  },
  {
   "cell_type": "code",
   "execution_count": 207,
   "id": "25cde388-1715-4561-aedd-6f5c0ca73ed0",
   "metadata": {},
   "outputs": [
    {
     "data": {
      "text/plain": [
       "8-element Vector{PyObject}:\n",
       " PyObject Inequality(Expression(LOG-LOG CONVEX, NONNEGATIVE, ()))\n",
       " PyObject Inequality(Expression(LOG-LOG CONVEX, NONNEGATIVE, ()))\n",
       " PyObject Inequality(Expression(LOG-LOG AFFINE, NONNEGATIVE, ()))\n",
       " PyObject Equality(Variable((), pos=True), Expression(LOG-LOG AFFINE, NONNEGATIVE, ()))\n",
       " PyObject Equality(Variable((), pos=True), Expression(LOG-LOG AFFINE, NONNEGATIVE, ()))\n",
       " PyObject Inequality(Variable((), pos=True))\n",
       " PyObject Inequality(Variable((), pos=True))\n",
       " PyObject Inequality(Expression(AFFINE, NONNEGATIVE, ()))"
      ]
     },
     "execution_count": 207,
     "metadata": {},
     "output_type": "execute_result"
    }
   ],
   "source": [
    "constraints = [\n",
    "    C_D >= C_D_fuse + C_D_wpar + C_D_ind,\n",
    "    W_w >= W_w_surf + W_w_strc,\n",
    "    D >= 0.5*rho*S*C_D*V^2,\n",
    "    Re == (rho/mu)*V*(S/A)^0.5,\n",
    "    C_f == 0.074/Re^0.2,\n",
    "    W <= 0.5*rho*S*C_L*V^2,\n",
    "    W <= 0.5*rho*S*C_Lmax*V_min^2,\n",
    "    W >= W_0 + W_w]"
   ]
  },
  {
   "cell_type": "markdown",
   "id": "a9db0708-b694-443d-acd9-90bd0aeada3e",
   "metadata": {},
   "source": [
    "# Objective"
   ]
  },
  {
   "cell_type": "code",
   "execution_count": 208,
   "id": "12ce3c57-7171-4069-8188-d96a413f317d",
   "metadata": {},
   "outputs": [
    {
     "data": {
      "text/plain": [
       "PyObject Variable((), pos=True)"
      ]
     },
     "execution_count": 208,
     "metadata": {},
     "output_type": "execute_result"
    }
   ],
   "source": [
    "# Minimize the total drag \n",
    "objective_fn = D"
   ]
  },
  {
   "cell_type": "code",
   "execution_count": 209,
   "id": "bcb5bb9f-8ecc-4b1f-860d-1f42faae2e64",
   "metadata": {},
   "outputs": [
    {
     "name": "stdout",
     "output_type": "stream",
     "text": [
      "PyObject Problem(Minimize(Variable((), pos=True)), [Inequality(Expression(LOG-LOG CONVEX, NONNEGATIVE, ())), Inequality(Expression(LOG-LOG CONVEX, NONNEGATIVE, ())), Inequality(Expression(LOG-LOG AFFINE, NONNEGATIVE, ())), Equality(Variable((), pos=True), Expression(LOG-LOG AFFINE, NONNEGATIVE, ())), Equality(Variable((), pos=True), Expression(LOG-LOG AFFINE, NONNEGATIVE, ())), Inequality(Variable((), pos=True)), Inequality(Variable((), pos=True)), Inequality(Expression(AFFINE, NONNEGATIVE, ()))])"
     ]
    }
   ],
   "source": [
    "problem = cp.Problem(cp.Minimize(objective_fn), constraints)\n",
    "\n",
    "print(problem)"
   ]
  },
  {
   "cell_type": "code",
   "execution_count": 210,
   "id": "34d82399-f62d-4c1d-a5cf-cf5918be4ece",
   "metadata": {},
   "outputs": [
    {
     "name": "stdout",
     "output_type": "stream",
     "text": [
      "Optimal value=: 303.07477088975094\n"
     ]
    }
   ],
   "source": [
    "problem.solve(gp=true)\n",
    "\n",
    "println(\"Optimal value=: \", problem.value )"
   ]
  },
  {
   "cell_type": "code",
   "execution_count": null,
   "id": "5ddc980f-5585-4daa-ae3b-c00206b33fb5",
   "metadata": {},
   "outputs": [],
   "source": []
  }
 ],
 "metadata": {
  "kernelspec": {
   "display_name": "control_precompiled 1.9.1",
   "language": "julia",
   "name": "control_precompiled-1.9"
  },
  "language_info": {
   "file_extension": ".jl",
   "mimetype": "application/julia",
   "name": "julia",
   "version": "1.9.1"
  }
 },
 "nbformat": 4,
 "nbformat_minor": 5
}
