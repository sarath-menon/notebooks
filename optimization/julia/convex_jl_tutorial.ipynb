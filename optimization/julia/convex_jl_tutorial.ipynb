{
 "cells": [
  {
   "cell_type": "code",
   "execution_count": 1,
   "id": "b514aab6-48cc-4bf3-8569-5c305b186edc",
   "metadata": {},
   "outputs": [
    {
     "name": "stderr",
     "output_type": "stream",
     "text": [
      "\u001b[32m\u001b[1m  Activating\u001b[22m\u001b[39m project at `~/Documents/eth_courses/notebooks/math/julia/convex optimization`\n"
     ]
    }
   ],
   "source": [
    "import Pkg; Pkg.activate(@__DIR__); Pkg.instantiate();"
   ]
  },
  {
   "cell_type": "code",
   "execution_count": 23,
   "id": "354d3aa4-06fb-4c0a-bec6-c1757b1a11d8",
   "metadata": {},
   "outputs": [],
   "source": [
    "# Make the Convex.jl module available\n",
    "using Convex, OSQP\n",
    "using LinearAlgebra\n",
    "\n",
    "# SOlvers,\n",
    "using ECOS\n",
    "# using OSQP"
   ]
  },
  {
   "cell_type": "code",
   "execution_count": 12,
   "id": "23a82f84-bfe0-4b09-bdbc-25298d3d10b8",
   "metadata": {
    "scrolled": true
   },
   "outputs": [],
   "source": [
    "x = Variable(4)\n",
    "c = [1; 2; 3; 4]\n",
    "A = I(4)\n",
    "b = [10; 10; 10; 10];"
   ]
  },
  {
   "cell_type": "markdown",
   "id": "6b94c740-29a1-4e49-8fa4-f963366d9414",
   "metadata": {},
   "source": [
    "# Linear Program"
   ]
  },
  {
   "cell_type": "markdown",
   "id": "1a0b9958-3cd1-4706-a94f-a92b9551a1e6",
   "metadata": {},
   "source": [
    "### Objective"
   ]
  },
  {
   "cell_type": "code",
   "execution_count": 15,
   "id": "8eb9f9c0-f9cf-4a0a-a5af-91fc82c76c09",
   "metadata": {},
   "outputs": [
    {
     "data": {
      "text/plain": [
       "minimize\n",
       "└─ * (affine; real)\n",
       "   ├─ 1×4 adjoint(::Vector{Int64}) with eltype Int64\n",
       "   └─ 4-element real variable (id: 159…413)\n",
       "\n",
       "status: `solve!` not called yet"
      ]
     },
     "execution_count": 15,
     "metadata": {},
     "output_type": "execute_result"
    }
   ],
   "source": [
    "p = minimize(c' * x) # or c' * x"
   ]
  },
  {
   "cell_type": "markdown",
   "id": "fd1ff4e4-583c-4bcc-92fc-c9edf4d238f4",
   "metadata": {},
   "source": [
    "### Constrains"
   ]
  },
  {
   "cell_type": "code",
   "execution_count": 17,
   "id": "3c4769d0-04d3-431e-b9db-267ee62f29fd",
   "metadata": {},
   "outputs": [],
   "source": [
    "p.constraints += A * x <= b;\n",
    "p.constraints += [x >= 1; x <= 10; x[2] <= 5; x[1] + x[4] - x[2] <= 10];"
   ]
  },
  {
   "cell_type": "markdown",
   "id": "8a7300b1-82f1-4b1d-9c03-dac2f1a53c18",
   "metadata": {},
   "source": [
    "### Solution"
   ]
  },
  {
   "cell_type": "code",
   "execution_count": 26,
   "id": "2a99f2f8-800b-4378-96c6-96ac87818626",
   "metadata": {},
   "outputs": [
    {
     "name": "stdout",
     "output_type": "stream",
     "text": [
      "10.0\n",
      "[1.0, 1.0, 1.0, 1.0]\n",
      "0.9999999998098603\n"
     ]
    }
   ],
   "source": [
    "solve!(p, ECOS.Optimizer; silent_solver = true)\n",
    "\n",
    "println(round(p.optval, digits = 2))\n",
    "println(round.(evaluate(x), digits = 2))\n",
    "println(evaluate(x[1] + x[4] - x[2]))"
   ]
  },
  {
   "cell_type": "markdown",
   "id": "2897625e-0401-4766-988d-657522418160",
   "metadata": {},
   "source": [
    "# QP"
   ]
  },
  {
   "cell_type": "markdown",
   "id": "e4ac989e-300f-4fab-8561-44e6a6dfa770",
   "metadata": {},
   "source": [
    "### Variables"
   ]
  },
  {
   "cell_type": "code",
   "execution_count": 34,
   "id": "b40b7f18-539b-4cb5-8623-fe34ccd9505b",
   "metadata": {},
   "outputs": [
    {
     "data": {
      "text/plain": [
       "4-element Vector{Float64}:\n",
       " 0.8915636596135222\n",
       " 0.660221790990048\n",
       " 0.7921313142443006\n",
       " 0.7896629023173991"
      ]
     },
     "execution_count": 34,
     "metadata": {},
     "output_type": "execute_result"
    }
   ],
   "source": [
    "nx = 4\n",
    "\n",
    "x = Variable(nx)\n",
    "\n",
    "Q = rand(nx,nx)\n",
    "Q = Q'*Q + I\n",
    "\n",
    "q = rand(nx)"
   ]
  },
  {
   "cell_type": "markdown",
   "id": "8a94583c-82ae-4b44-9d17-8094afec5eb7",
   "metadata": {},
   "source": [
    "### Objective"
   ]
  },
  {
   "cell_type": "code",
   "execution_count": 37,
   "id": "6ca54d4a-99fc-45d4-80fa-e1b0f9c90e82",
   "metadata": {},
   "outputs": [
    {
     "data": {
      "text/plain": [
       "minimize\n",
       "└─ + (convex; real)\n",
       "   ├─ * (convex; positive)\n",
       "   │  ├─ 0.5\n",
       "   │  └─ * (convex; positive)\n",
       "   │     ├─ …\n",
       "   │     └─ …\n",
       "   └─ sum (affine; real)\n",
       "      └─ .* (affine; real)\n",
       "         ├─ …\n",
       "         └─ …\n",
       "\n",
       "status: `solve!` not called yet"
      ]
     },
     "execution_count": 37,
     "metadata": {},
     "output_type": "execute_result"
    }
   ],
   "source": [
    "cost = 0.5 * Convex.quadform(x,Q) + dot(q,x)\n",
    "\n",
    "p = minimize(cost) # or c' * x"
   ]
  },
  {
   "cell_type": "code",
   "execution_count": null,
   "id": "351d6f7e-54dd-4c55-9807-ea05a1680b3a",
   "metadata": {},
   "outputs": [],
   "source": []
  }
 ],
 "metadata": {
  "kernelspec": {
   "display_name": "control_precompiled 1.9.1",
   "language": "julia",
   "name": "control_precompiled-1.9"
  },
  "language_info": {
   "file_extension": ".jl",
   "mimetype": "application/julia",
   "name": "julia",
   "version": "1.9.1"
  }
 },
 "nbformat": 4,
 "nbformat_minor": 5
}
