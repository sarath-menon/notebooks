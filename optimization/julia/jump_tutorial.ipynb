{
 "cells": [
  {
   "cell_type": "code",
   "execution_count": 1,
   "id": "d8585a5e-7249-48a0-8ecc-11b6a6a315d2",
   "metadata": {},
   "outputs": [
    {
     "name": "stderr",
     "output_type": "stream",
     "text": [
      "\u001b[32m\u001b[1m  Activating\u001b[22m\u001b[39m project at `~/Documents/eth_courses/notebooks/math/julia/convex optimization`\n"
     ]
    }
   ],
   "source": [
    "import Pkg; Pkg.activate(@__DIR__); Pkg.instantiate();"
   ]
  },
  {
   "cell_type": "code",
   "execution_count": 21,
   "id": "93ed71b2-ce4f-449e-867f-cf02243905a7",
   "metadata": {},
   "outputs": [],
   "source": [
    "using JuMP\n",
    "using HiGHS\n",
    "using Polyhedra, GLMakie\n",
    "using CDDLib\n",
    "\n",
    "GLMakie.activate!(inline=false)"
   ]
  },
  {
   "cell_type": "markdown",
   "id": "7f06eb2a-b9d2-40b1-93ba-a05518e7232d",
   "metadata": {},
   "source": [
    "### Set optimizer"
   ]
  },
  {
   "cell_type": "code",
   "execution_count": 4,
   "id": "02d14024-6514-4ffc-affd-f913e7d862c3",
   "metadata": {},
   "outputs": [],
   "source": [
    "model = Model()\n",
    "set_optimizer(model, HiGHS.Optimizer)"
   ]
  },
  {
   "cell_type": "markdown",
   "id": "3a4dc2f1-77be-42c6-b645-3e875dd29149",
   "metadata": {},
   "source": [
    "### Create variable"
   ]
  },
  {
   "cell_type": "code",
   "execution_count": 5,
   "id": "3ccfc30e-b0c4-42b1-85b5-4660e5e823c5",
   "metadata": {},
   "outputs": [],
   "source": [
    "# with lower bound \n",
    "x = @variable(model, x >= 0);"
   ]
  },
  {
   "cell_type": "code",
   "execution_count": 6,
   "id": "45df059c-9783-444d-90aa-b01d06e9cc9b",
   "metadata": {},
   "outputs": [
    {
     "data": {
      "text/latex": [
       "$$ y $$"
      ],
      "text/plain": [
       "y"
      ]
     },
     "execution_count": 6,
     "metadata": {},
     "output_type": "execute_result"
    }
   ],
   "source": [
    "# with lower and upper bound \n",
    "y = @variable(model, 0 <= y <= 30)"
   ]
  },
  {
   "cell_type": "markdown",
   "id": "22b0aa57-3950-4363-9f79-647393a8e088",
   "metadata": {},
   "source": [
    "### Set the objective"
   ]
  },
  {
   "cell_type": "code",
   "execution_count": 7,
   "id": "2626e0b7-fe1e-4f08-97a8-298a977d5b1f",
   "metadata": {},
   "outputs": [
    {
     "data": {
      "text/latex": [
       "$$ 12 x + 20 y $$"
      ],
      "text/plain": [
       "12 x + 20 y"
      ]
     },
     "execution_count": 7,
     "metadata": {},
     "output_type": "execute_result"
    }
   ],
   "source": [
    "@objective(model, Min, 12x + 20y)"
   ]
  },
  {
   "cell_type": "markdown",
   "id": "e29ce443-8179-4c06-a77d-186e2eac56e7",
   "metadata": {},
   "source": [
    "### Add the constrains"
   ]
  },
  {
   "cell_type": "code",
   "execution_count": 8,
   "id": "1bf94af3-a9b1-4225-99f4-d9c969ca6c0d",
   "metadata": {},
   "outputs": [
    {
     "data": {
      "text/latex": [
       "$$ 7 x + 12 y \\geq 120 $$"
      ],
      "text/plain": [
       "c2 : 7 x + 12 y ≥ 120"
      ]
     },
     "execution_count": 8,
     "metadata": {},
     "output_type": "execute_result"
    }
   ],
   "source": [
    "@constraint(model, c1, 6x + 8y >= 100)\n",
    "@constraint(model, c2, 7x + 12y >= 120)"
   ]
  },
  {
   "cell_type": "markdown",
   "id": "1d720820-3345-476d-b0df-b43103b23bf4",
   "metadata": {},
   "source": [
    "## Display the modle"
   ]
  },
  {
   "cell_type": "code",
   "execution_count": 9,
   "id": "2e5881bf-3253-4417-a7ba-3d35e46622f7",
   "metadata": {},
   "outputs": [
    {
     "data": {
      "text/latex": [
       "$$ \\begin{aligned}\n",
       "\\min\\quad & 12 x + 20 y\\\\\n",
       "\\text{Subject to} \\quad & 6 x + 8 y \\geq 100\\\\\n",
       " & 7 x + 12 y \\geq 120\\\\\n",
       " & x \\geq 0\\\\\n",
       " & y \\geq 0\\\\\n",
       " & y \\leq 30\\\\\n",
       "\\end{aligned} $$"
      ]
     },
     "metadata": {},
     "output_type": "display_data"
    }
   ],
   "source": [
    "print(model)"
   ]
  },
  {
   "cell_type": "markdown",
   "id": "f8e1457d-a6d3-4cfa-bff5-a7a2b43a7fd8",
   "metadata": {},
   "source": [
    "## Solve"
   ]
  },
  {
   "cell_type": "code",
   "execution_count": 10,
   "id": "a884555d-2bc9-4633-8f79-c55c05153949",
   "metadata": {},
   "outputs": [
    {
     "name": "stdout",
     "output_type": "stream",
     "text": [
      "Running HiGHS 1.5.3 [date: 1970-01-01, git hash: 45a127b78]\n",
      "Copyright (c) 2023 HiGHS under MIT licence terms\n",
      "Presolving model\n",
      "2 rows, 2 cols, 4 nonzeros\n",
      "2 rows, 2 cols, 4 nonzeros\n",
      "Presolve : Reductions: rows 2(-0); columns 2(-0); elements 4(-0) - Not reduced\n",
      "Problem not reduced by presolve: solving the LP\n",
      "Using EKK dual simplex solver - serial\n",
      "  Iteration        Objective     Infeasibilities num(sum)\n",
      "          0     0.0000000000e+00 Pr: 2(220) 0s\n",
      "          2     2.0500000000e+02 Pr: 0(0) 0s\n",
      "Model   status      : Optimal\n",
      "Simplex   iterations: 2\n",
      "Objective value     :  2.0500000000e+02\n",
      "HiGHS run time      :          0.01\n"
     ]
    }
   ],
   "source": [
    " optimize!(model)"
   ]
  },
  {
   "cell_type": "markdown",
   "id": "daf92ef3-1b58-47df-92d9-23b89e425230",
   "metadata": {},
   "source": [
    "### Primal solution"
   ]
  },
  {
   "cell_type": "code",
   "execution_count": 11,
   "id": "9b5bcf8a-6d97-4b09-bffd-15e09f29fcb8",
   "metadata": {},
   "outputs": [
    {
     "name": "stdout",
     "output_type": "stream",
     "text": [
      "value(x) = 15.000000000000004\n",
      "value(y) = 1.2499999999999976\n"
     ]
    },
    {
     "data": {
      "text/plain": [
       "1.2499999999999976"
      ]
     },
     "execution_count": 11,
     "metadata": {},
     "output_type": "execute_result"
    }
   ],
   "source": [
    "@show value(x)\n",
    "@show value(y)"
   ]
  },
  {
   "cell_type": "markdown",
   "id": "0c5b007d-5b96-452b-bed8-b9398fc17043",
   "metadata": {},
   "source": [
    "### Dual solution"
   ]
  },
  {
   "cell_type": "code",
   "execution_count": 12,
   "id": "58b3bf99-7f5d-4ca1-b484-e08a597e8a0d",
   "metadata": {},
   "outputs": [
    {
     "name": "stdout",
     "output_type": "stream",
     "text": [
      "shadow_price(c1) = -0.24999999999999917\n",
      "shadow_price(c2) = -1.5000000000000007\n"
     ]
    },
    {
     "data": {
      "text/plain": [
       "-1.5000000000000007"
      ]
     },
     "execution_count": 12,
     "metadata": {},
     "output_type": "execute_result"
    }
   ],
   "source": [
    "@show shadow_price(c1)\n",
    "@show shadow_price(c2)"
   ]
  },
  {
   "cell_type": "markdown",
   "id": "681c0a6b-a7e7-4a53-8622-0f25b62d0cc3",
   "metadata": {},
   "source": [
    "# Plotting"
   ]
  },
  {
   "cell_type": "markdown",
   "id": "a4fe28ec-a862-4125-af7a-dcc3fb3555ab",
   "metadata": {},
   "source": [
    "### Plot the feasible region"
   ]
  },
  {
   "cell_type": "code",
   "execution_count": 23,
   "id": "807a71fe-b27b-4975-aede-f7d55f188f6f",
   "metadata": {},
   "outputs": [
    {
     "data": {
      "text/plain": [
       "Polyhedra.Mesh{2, Rational{BigInt}, CDDLib.Polyhedron{Rational{BigInt}}}(HalfSpace(Rational{BigInt}[-1//1, 0//1], 0//1) ∩ HalfSpace(Rational{BigInt}[0//1, -1//1], 0//1) ∩ HalfSpace(Rational{BigInt}[0//1, 1//1], 30//1) ∩ HalfSpace(Rational{BigInt}[-6//1, -8//1], -100//1) ∩ HalfSpace(Rational{BigInt}[-7//1, -12//1], -120//1), nothing, nothing, nothing)"
      ]
     },
     "execution_count": 23,
     "metadata": {},
     "output_type": "execute_result"
    }
   ],
   "source": [
    "poly = polyhedron(model, CDDLib.Library(:exact))\n",
    "m = Polyhedra.Mesh(poly)"
   ]
  },
  {
   "cell_type": "code",
   "execution_count": 24,
   "id": "fad91027-692e-4f95-9cec-33183137c9c3",
   "metadata": {},
   "outputs": [
    {
     "data": {
      "text/plain": [
       "GLMakie.Screen(...)"
      ]
     },
     "execution_count": 24,
     "metadata": {},
     "output_type": "execute_result"
    }
   ],
   "source": [
    "fig = mesh(m, color=:blue)\n",
    "display(fig)"
   ]
  },
  {
   "cell_type": "code",
   "execution_count": null,
   "id": "d32639c4-aeb7-4fb4-a747-96bc47df883a",
   "metadata": {},
   "outputs": [],
   "source": []
  },
  {
   "cell_type": "code",
   "execution_count": null,
   "id": "d5005d55-af47-4b44-b926-c88586390546",
   "metadata": {},
   "outputs": [],
   "source": []
  }
 ],
 "metadata": {
  "kernelspec": {
   "display_name": "control_precompiled 1.9.1",
   "language": "julia",
   "name": "control_precompiled-1.9"
  },
  "language_info": {
   "file_extension": ".jl",
   "mimetype": "application/julia",
   "name": "julia",
   "version": "1.9.1"
  }
 },
 "nbformat": 4,
 "nbformat_minor": 5
}
