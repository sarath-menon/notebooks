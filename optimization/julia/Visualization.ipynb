{
 "cells": [
  {
   "cell_type": "code",
   "execution_count": 5,
   "id": "441e5d0b-a589-4df7-9990-c346a45761ec",
   "metadata": {},
   "outputs": [
    {
     "name": "stderr",
     "output_type": "stream",
     "text": [
      "\u001b[32m\u001b[1m  Activating\u001b[22m\u001b[39m project at `~/Documents/eth_courses/notebooks/math/julia/convex optimization`\n"
     ]
    }
   ],
   "source": [
    "import Pkg; Pkg.activate(@__DIR__); Pkg.instantiate();"
   ]
  },
  {
   "cell_type": "code",
   "execution_count": 38,
   "id": "21262dbe-e302-4b0a-8c54-fa0525796ce2",
   "metadata": {},
   "outputs": [],
   "source": [
    "using Polyhedra, GLMakie\n",
    "\n",
    "GLMakie.activate!(inline=false)"
   ]
  },
  {
   "cell_type": "markdown",
   "id": "cec01059-3f9d-41c7-a0a1-90bf88b904ca",
   "metadata": {},
   "source": [
    "## Polyhedron from union of halfspaces"
   ]
  },
  {
   "cell_type": "code",
   "execution_count": 39,
   "id": "ed2e26b9-88db-4dc9-9404-256ffb9f2f39",
   "metadata": {},
   "outputs": [
    {
     "data": {
      "text/plain": [
       "Polyhedron DefaultPolyhedron{Rational{BigInt}, Polyhedra.Intersection{Rational{BigInt}, Vector{Rational{BigInt}}, Int64}, Polyhedra.Hull{Rational{BigInt}, Vector{Rational{BigInt}}, Int64}}:\n",
       "3-element iterator of HalfSpace{Rational{BigInt}, Vector{Rational{BigInt}}}:\n",
       " HalfSpace(Rational{BigInt}[1//1, 1//1], 1//1)\n",
       " HalfSpace(Rational{BigInt}[-1//1, 0//1], 0//1)\n",
       " HalfSpace(Rational{BigInt}[0//1, -1//1], 0//1)"
      ]
     },
     "execution_count": 39,
     "metadata": {},
     "output_type": "execute_result"
    }
   ],
   "source": [
    "h = HalfSpace([1, 1], 1) ∩ HalfSpace([-1, 0], 0) ∩ HalfSpace([0, -1], 0)\n",
    "p = polyhedron(h)"
   ]
  },
  {
   "cell_type": "code",
   "execution_count": 40,
   "id": "d3803522-c265-4cf6-b177-b228ad3095d4",
   "metadata": {},
   "outputs": [
    {
     "data": {
      "text/plain": [
       "GLMakie.Screen(...)"
      ]
     },
     "execution_count": 40,
     "metadata": {},
     "output_type": "execute_result"
    }
   ],
   "source": [
    "fig = mesh(m, color=:blue)\n",
    "display(fig)\n"
   ]
  },
  {
   "cell_type": "markdown",
   "id": "066a7133-7437-4396-bae5-03b08b7b9948",
   "metadata": {},
   "source": [
    "## Convex Hull"
   ]
  },
  {
   "cell_type": "code",
   "execution_count": 37,
   "id": "502549ce-6dd3-412a-8ca6-82fc3c181fb9",
   "metadata": {},
   "outputs": [
    {
     "ename": "LoadError",
     "evalue": "MethodError: no method matching Polyhedra.Mesh(::DefaultPolyhedron{Rational{BigInt}, Polyhedra.Intersection{Rational{BigInt}, Vector{Rational{BigInt}}, Int64}, Polyhedra.Hull{Rational{BigInt}, Vector{Rational{BigInt}}, Int64}}, ::CDDLib.Library)\n\n\u001b[0mClosest candidates are:\n\u001b[0m  Polyhedra.Mesh(::Polyhedron)\n\u001b[0m\u001b[90m   @\u001b[39m \u001b[32mPolyhedra\u001b[39m \u001b[90m~/.julia/packages/Polyhedra/Xhcfx/src/\u001b[39m\u001b[90m\u001b[4mdecompose.jl:32\u001b[24m\u001b[39m\n\u001b[0m  Polyhedra.Mesh(::Polyhedron, \u001b[91m::Int64\u001b[39m)\n\u001b[0m\u001b[90m   @\u001b[39m \u001b[32mPolyhedra\u001b[39m \u001b[90m~/.julia/packages/Polyhedra/Xhcfx/src/\u001b[39m\u001b[90m\u001b[4mdecompose.jl:27\u001b[24m\u001b[39m\n\u001b[0m  Polyhedra.Mesh(::Polyhedron, \u001b[91m::StaticArraysCore.Size{N}\u001b[39m) where N\n\u001b[0m\u001b[90m   @\u001b[39m \u001b[32mPolyhedra\u001b[39m \u001b[90m~/.julia/packages/Polyhedra/Xhcfx/src/\u001b[39m\u001b[90m\u001b[4mdecompose.jl:24\u001b[24m\u001b[39m\n\u001b[0m  ...\n",
     "output_type": "error",
     "traceback": [
      "MethodError: no method matching Polyhedra.Mesh(::DefaultPolyhedron{Rational{BigInt}, Polyhedra.Intersection{Rational{BigInt}, Vector{Rational{BigInt}}, Int64}, Polyhedra.Hull{Rational{BigInt}, Vector{Rational{BigInt}}, Int64}}, ::CDDLib.Library)\n\n\u001b[0mClosest candidates are:\n\u001b[0m  Polyhedra.Mesh(::Polyhedron)\n\u001b[0m\u001b[90m   @\u001b[39m \u001b[32mPolyhedra\u001b[39m \u001b[90m~/.julia/packages/Polyhedra/Xhcfx/src/\u001b[39m\u001b[90m\u001b[4mdecompose.jl:32\u001b[24m\u001b[39m\n\u001b[0m  Polyhedra.Mesh(::Polyhedron, \u001b[91m::Int64\u001b[39m)\n\u001b[0m\u001b[90m   @\u001b[39m \u001b[32mPolyhedra\u001b[39m \u001b[90m~/.julia/packages/Polyhedra/Xhcfx/src/\u001b[39m\u001b[90m\u001b[4mdecompose.jl:27\u001b[24m\u001b[39m\n\u001b[0m  Polyhedra.Mesh(::Polyhedron, \u001b[91m::StaticArraysCore.Size{N}\u001b[39m) where N\n\u001b[0m\u001b[90m   @\u001b[39m \u001b[32mPolyhedra\u001b[39m \u001b[90m~/.julia/packages/Polyhedra/Xhcfx/src/\u001b[39m\u001b[90m\u001b[4mdecompose.jl:24\u001b[24m\u001b[39m\n\u001b[0m  ...\n",
      "",
      "Stacktrace:",
      " [1] top-level scope",
      "   @ In[37]:3"
     ]
    }
   ],
   "source": [
    "v = convexhull([0, 0, 0]) + conichull([1, 0, 0], [0, 1, 0], [0, 0, 1])\n",
    "p = polyhedron(v)\n",
    "m = Polyhedra.Mesh(p)"
   ]
  },
  {
   "cell_type": "code",
   "execution_count": 28,
   "id": "d016234e-5e1a-4125-bcbb-05e9b1bd61c4",
   "metadata": {},
   "outputs": [
    {
     "data": {
      "text/plain": [
       "GLMakie.Screen(...)"
      ]
     },
     "execution_count": 28,
     "metadata": {},
     "output_type": "execute_result"
    }
   ],
   "source": [
    "fig = mesh(m, color=:blue)\n",
    "display(fig)"
   ]
  },
  {
   "cell_type": "code",
   "execution_count": null,
   "id": "10bd8c3c-00e3-436d-98b7-2ef015779e82",
   "metadata": {},
   "outputs": [],
   "source": []
  }
 ],
 "metadata": {
  "kernelspec": {
   "display_name": "control_precompiled 1.9.1",
   "language": "julia",
   "name": "control_precompiled-1.9"
  },
  "language_info": {
   "file_extension": ".jl",
   "mimetype": "application/julia",
   "name": "julia",
   "version": "1.9.1"
  }
 },
 "nbformat": 4,
 "nbformat_minor": 5
}
