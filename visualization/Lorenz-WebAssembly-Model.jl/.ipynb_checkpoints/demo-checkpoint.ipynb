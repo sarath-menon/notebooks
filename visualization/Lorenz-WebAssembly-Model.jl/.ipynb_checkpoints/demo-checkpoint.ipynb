{
 "cells": [
  {
   "cell_type": "code",
   "execution_count": 1,
   "id": "59406058-62d9-4723-b65b-910c34bc93bb",
   "metadata": {},
   "outputs": [
    {
     "name": "stderr",
     "output_type": "stream",
     "text": [
      "\u001b[32m\u001b[1m  Activating\u001b[22m\u001b[39m project at `~/Documents/eth_courses/notebooks/visualization/Lorenz-WebAssembly-Model.jl`\n"
     ]
    }
   ],
   "source": [
    "using Pkg; Pkg.activate(@__DIR__); "
   ]
  },
  {
   "cell_type": "code",
   "execution_count": 2,
   "id": "f4e52c50-9230-4f3d-adfb-544348f04dc7",
   "metadata": {},
   "outputs": [],
   "source": [
    "using DiffEqGPU, StaticArrays, OrdinaryDiffEq\n",
    "using StaticCompiler, StaticTools"
   ]
  },
  {
   "cell_type": "code",
   "execution_count": 3,
   "id": "db524c4b-c204-44f6-aaa0-3b466348e697",
   "metadata": {},
   "outputs": [
    {
     "data": {
      "text/plain": [
       "t: 0.0\n",
       "u: 3-element SVector{3, Float64} with indices SOneTo(3):\n",
       " 1.0\n",
       " 0.0\n",
       " 0.0"
      ]
     },
     "execution_count": 3,
     "metadata": {},
     "output_type": "execute_result"
    }
   ],
   "source": [
    "\n",
    "function lorenz(u, p, t)\n",
    "    σ = p[1]\n",
    "    ρ = p[2]\n",
    "    β = p[3]\n",
    "    du1 = σ * (u[2] - u[1])\n",
    "    du2 = u[1] * (ρ - u[3]) - u[2]\n",
    "    du3 = u[1] * u[2] - β * u[3]\n",
    "    return SVector{3}(du1, du2, du3)\n",
    "end\n",
    "\n",
    "u0 = @SVector [1.0; 0.0; 0.0]\n",
    "tspan = (0.0, 20.0)\n",
    "p = @SVector [10.0, 28.0, 8 / 3.0]\n",
    "prob = ODEProblem{false}(lorenz, u0, tspan, p)\n",
    "\n",
    "integ = DiffEqGPU.init(GPUTsit5(), prob.f, false, u0, 0.0, 0.005, p, nothing, CallbackSet(nothing), true, false)"
   ]
  },
  {
   "cell_type": "code",
   "execution_count": 33,
   "id": "662bf3b6-f54d-40bb-8289-87d278add3e2",
   "metadata": {},
   "outputs": [
    {
     "data": {
      "text/plain": [
       "solv (generic function with 1 method)"
      ]
     },
     "execution_count": 33,
     "metadata": {},
     "output_type": "execute_result"
    }
   ],
   "source": [
    "function solv(integ, tres, u1, u2, u3)\n",
    "    for i in Int32(1):Int32(10000)\n",
    "        @inline DiffEqGPU.step!(integ, integ.t + integ.dt, integ.u)\n",
    "        tres[i] = integ.t\n",
    "        u1[i] = integ.u[1]\n",
    "        u2[i] = integ.u[2]\n",
    "        u3[i] = integ.u[3]\n",
    "        # push!(tres, integ.t)\n",
    "        # push!(u1, integ.u[1])\n",
    "        # push!(u2, integ.u[2])\n",
    "        # push!(u3, integ.u[3])\n",
    "    end\n",
    "    nothing\n",
    "end"
   ]
  },
  {
   "cell_type": "code",
   "execution_count": null,
   "id": "e4c49963-8844-4136-93e2-e5aa95755396",
   "metadata": {},
   "outputs": [],
   "source": []
  },
  {
   "cell_type": "code",
   "execution_count": 34,
   "id": "4c27e6b0-5218-4b14-9acd-3f1fe1d2d76d",
   "metadata": {},
   "outputs": [
    {
     "data": {
      "text/plain": [
       "\"/Users/sarathmenon/Documents/eth_courses/notebooks/visualization/Lorenz-WebAssembly-Model.jl/_libs/julia_solv.wasm\""
      ]
     },
     "execution_count": 34,
     "metadata": {},
     "output_type": "execute_result"
    }
   ],
   "source": [
    "compile_wasm(solv, \n",
    "    Tuple{typeof(integ), \n",
    "          MallocVector{Float64}, MallocVector{Float64}, \n",
    "          MallocVector{Float64}, MallocVector{Float64}}, \n",
    "    path = \"_libs\",\n",
    "    flags = `--initial-memory=1048576 walloc.o`, filename = \"julia_solv\")"
   ]
  },
  {
   "cell_type": "code",
   "execution_count": 38,
   "id": "d641f760-bbdb-4fd6-9a08-3edd1dd1c567",
   "metadata": {
    "scrolled": true
   },
   "outputs": [
    {
     "name": "stdout",
     "output_type": "stream",
     "text": [
      "const UniformScaling = new ffi.Struct({\n",
      "    _: 'bool',\n",
      "});\n",
      "\n",
      "const ODEFunction = new ffi.Struct({\n",
      "    mass_matrix: UniformScaling,\n",
      "});\n",
      "\n",
      "const SArray = new ffi.Struct({\n",
      "    data: ['f64', 3],\n",
      "});\n",
      "\n",
      "const SArrayTuple_6__Float64_1_6 = new ffi.Struct({\n",
      "    data: ['f64', 6],\n",
      "});\n",
      "\n",
      "const SArrayTuple_21__Float64_1_21 = new ffi.Struct({\n",
      "    data: ['f64', 21],\n",
      "});\n",
      "\n",
      "const SArrayTuple_22__Float64_1_22 = new ffi.Struct({\n",
      "    data: ['f64', 22],\n",
      "});\n",
      "\n",
      "const GPUTsit5Integrator = new ffi.Struct({\n",
      "    f: ODEFunction,\n",
      "    uprev: SArray,\n",
      "    u: SArray,\n",
      "    tmp: SArray,\n",
      "    tprev: 'f64',\n",
      "    t: 'f64',\n",
      "    t0: 'f64',\n",
      "    dt: 'f64',\n",
      "    tdir: 'f64',\n",
      "    p: SArray,\n",
      "    u_modified: 'bool',\n",
      "    tstops_idx: 'int64',\n",
      "    save_everystep: 'bool',\n",
      "    saveat: 'bool',\n",
      "    cur_t: 'int64',\n",
      "    step_idx: 'int64',\n",
      "    event_last_time: 'int64',\n",
      "    vector_event_last_time: 'int64',\n",
      "    last_event_error: 'f64',\n",
      "    k1: SArray,\n",
      "    k2: SArray,\n",
      "    k3: SArray,\n",
      "    k4: SArray,\n",
      "    k5: SArray,\n",
      "    k6: SArray,\n",
      "    k7: SArray,\n",
      "    cs: SArrayTuple_6__Float64_1_6,\n",
      "    as: SArrayTuple_21__Float64_1_21,\n",
      "    rs: SArrayTuple_22__Float64_1_22,\n",
      "    retcode: 'int32',\n",
      "});\n",
      "\n"
     ]
    }
   ],
   "source": [
    "using WebAssemblyInterfaces\n",
    "\n",
    "integ_types = js_types(typeof(integ))\n",
    "integ_def = js_def(integ)\n",
    "\n",
    "println(integ_types)"
   ]
  },
  {
   "cell_type": "code",
   "execution_count": 40,
   "id": "7ee12847-6c8c-44bc-81e8-53bb67f1830e",
   "metadata": {},
   "outputs": [
    {
     "ename": "LoadError",
     "evalue": "syntax: extra token \"ffi\" after end of expression",
     "output_type": "error",
     "traceback": [
      "syntax: extra token \"ffi\" after end of expression",
      "",
      "Stacktrace:",
      " [1] top-level scope",
      "   @ In[40]:1"
     ]
    }
   ],
   "source": [
    "const library = new ffi.Wrapper({\n",
    "  julia_solv: ['number', [GPUTsit5Integrator, ffi.rust.vector('f64'), ffi.rust.vector('f64'),\n",
    "                                              ffi.rust.vector('f64'), ffi.rust.vector('f64')]],\n",
    "}, {debug: false});\n",
    "\n",
    "library.imports(wrap => ({\n",
    "  env: {\n",
    "    memory: new WebAssembly.Memory({ initial: 16 }),\n",
    "  },\n",
    "}));"
   ]
  },
  {
   "cell_type": "code",
   "execution_count": null,
   "id": "114091ae-0b13-45ad-8848-fa0361379624",
   "metadata": {},
   "outputs": [],
   "source": []
  }
 ],
 "metadata": {
  "kernelspec": {
   "display_name": "Julia 1.9.1",
   "language": "julia",
   "name": "julia-1.9"
  },
  "language_info": {
   "file_extension": ".jl",
   "mimetype": "application/julia",
   "name": "julia",
   "version": "1.9.2"
  }
 },
 "nbformat": 4,
 "nbformat_minor": 5
}
