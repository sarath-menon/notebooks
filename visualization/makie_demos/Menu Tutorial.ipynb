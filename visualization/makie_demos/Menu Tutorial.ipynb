{
 "cells": [
  {
   "cell_type": "code",
   "execution_count": 5,
   "id": "90c0e529",
   "metadata": {},
   "outputs": [
    {
     "name": "stderr",
     "output_type": "stream",
     "text": [
      "\u001b[32m\u001b[1m  Activating\u001b[22m\u001b[39m project at `~/Documents/eth_courses/notebooks/visualization/makie_demos`\n",
      "\u001b[33m\u001b[1m┌ \u001b[22m\u001b[39m\u001b[33m\u001b[1mWarning: \u001b[22m\u001b[39mattempting to remove probably stale pidfile\n",
      "\u001b[33m\u001b[1m│ \u001b[22m\u001b[39m  path = \"/Users/sarathmenon/.julia/logs/manifest_usage.toml.pid\"\n",
      "\u001b[33m\u001b[1m└ \u001b[22m\u001b[39m\u001b[90m@ FileWatching.Pidfile /Applications/Julia-1.9.app/Contents/Resources/julia/share/julia/stdlib/v1.9/FileWatching/src/pidfile.jl:244\u001b[39m\n"
     ]
    }
   ],
   "source": [
    "import Pkg; Pkg.activate(@__DIR__); Pkg.instantiate();"
   ]
  },
  {
   "cell_type": "code",
   "execution_count": 1,
   "id": "ecb05bb2-afe5-484f-981e-d2ca7eae5b16",
   "metadata": {},
   "outputs": [],
   "source": [
    "# Pkg.update()"
   ]
  },
  {
   "cell_type": "code",
   "execution_count": 7,
   "id": "1660e620-0fc1-4f55-a7bd-18619511e5f6",
   "metadata": {},
   "outputs": [],
   "source": [
    "using GLMakie\n",
    "GLMakie.activate!(inline=false)"
   ]
  },
  {
   "cell_type": "markdown",
   "id": "6da6ebee-bcb0-48e2-88bb-da6a2f82bdcf",
   "metadata": {},
   "source": [
    "# Demo 1: hiding axes with toggle"
   ]
  },
  {
   "cell_type": "code",
   "execution_count": 144,
   "id": "76afd07f",
   "metadata": {},
   "outputs": [
    {
     "data": {
      "text/plain": [
       "GLMakie.Screen(...)"
      ]
     },
     "execution_count": 144,
     "metadata": {},
     "output_type": "execute_result"
    }
   ],
   "source": [
    "let\n",
    "fig = Figure(resolution = (1080,720))\n",
    "\n",
    "g_left = fig[1, 1] = GridLayout()\n",
    "g_right = fig[1, 2] = GridLayout()\n",
    "\n",
    "g_left_plots = g_left[1, 1]= GridLayout()\n",
    "hiddenlayout = GridLayout(bbox=BBox(-200, -100, 0, 100))\n",
    "\n",
    "g_right_toggles = g_right[1, 1]= GridLayout()\n",
    "    \n",
    "ax1 = Axis(fig, title=\"axis1\")\n",
    "ax2 = Axis(fig, title=\"axis2\")\n",
    "\n",
    "g_left_plots[1,1] = ax1\n",
    "g_left_plots[2,1] = ax2\n",
    "\n",
    "toggles = [Toggle(fig, active = active) for active in [false, false]]\n",
    "labels = [Label(fig, label) for label in [\"sine\", \"cosine\"]]\n",
    "\n",
    "g_right_toggles[1:2,1] = grid!(hcat(toggles, labels), tellheight = false)\n",
    "\n",
    "# g_right_toggles[3:6,1] =  vcat(toggles, labels)\n",
    "    \n",
    "on(toggles[1].active) do state\n",
    "\n",
    "    if state==true\n",
    "        g_left_plots[1,1] = ax1\n",
    "        g_left_plots[2,1] = ax2\n",
    "\n",
    "        rowsize!(g_left_plots, 1,  Auto(1.0))\n",
    "\n",
    "    else\n",
    "       g_left_plots[1,1] = ax1\n",
    "       hiddenlayout[1,1] = ax2\n",
    "       rowsize!(g_left_plots, 1,  Relative(1.0))\n",
    "    end\n",
    "end\n",
    "\n",
    "\n",
    "display(fig)\n",
    "\n",
    "end"
   ]
  },
  {
   "cell_type": "markdown",
   "id": "3cd04fb2-e8db-440d-a706-b74a47c4c4dd",
   "metadata": {},
   "source": [
    "## Demo 2 - hiding axes with toggle"
   ]
  },
  {
   "cell_type": "code",
   "execution_count": 184,
   "id": "a20dd9e3-6a7c-4f20-94bd-e3e71d287361",
   "metadata": {},
   "outputs": [
    {
     "data": {
      "text/plain": [
       "GLMakie.Screen(...)"
      ]
     },
     "execution_count": 184,
     "metadata": {},
     "output_type": "execute_result"
    }
   ],
   "source": [
    "let\n",
    "fig = Figure(resolution = (1080,720))\n",
    "\n",
    "g_left = fig[1, 1] = GridLayout()\n",
    "g_right = fig[1, 2] = GridLayout()\n",
    "\n",
    "g_left_plots = g_left[1, 1]= GridLayout()\n",
    "hiddenlayout = GridLayout(bbox=BBox(-200, -100, 0, 100))\n",
    "\n",
    "plots_vec = Axis[]\n",
    "plot_count = 3\n",
    "\n",
    "\n",
    "for i in 1:plot_count\n",
    "    axis = Axis(fig, title=\"Axis\"*string(i))\n",
    "    push!(plots_vec, axis)\n",
    "\n",
    "    # g_right_plots[i,1] = state_plots[i]\n",
    "    g_left_plots[i,1] = plots_vec[i]\n",
    "end\n",
    "    \n",
    "\n",
    "toggles = [Toggle(fig, active = active) for active in [true, true, true]]\n",
    "labels = [Label(fig, label) for label in [\"axis1\", \"axis2\", \"axis3\"]]\n",
    "fig[1, 2] = grid!(hcat(toggles, labels), tellheight = false)\n",
    "    \n",
    "for i in 1:plot_count\n",
    "    index_vec = collect(1:plot_count)  \n",
    "    deleteat!(index_vec, i)\n",
    "        \n",
    "    on(toggles[i].active) do state\n",
    "    \n",
    "            if state==true\n",
    "                g_left_plots[i,1] =plots_vec[i]\n",
    "                    \n",
    "                for i in index_vec\n",
    "                    rowsize!(g_left_plots, i,  Auto(1.0))\n",
    "                end          \n",
    "        \n",
    "            else\n",
    "\n",
    "                hiddenlayout[1,1] = plots_vec[i]\n",
    "                   \n",
    "                for i in index_vec\n",
    "                    rowsize!(g_left_plots, i,  Relative(1.0 / (plot_count-1)))\n",
    "                end \n",
    "              \n",
    "            end\n",
    "\n",
    "    end\n",
    "    \n",
    "end\n",
    "\n",
    "display(fig)\n",
    "\n",
    "end"
   ]
  },
  {
   "cell_type": "markdown",
   "id": "eabfdfd3-049a-43e5-9a66-0ddf688c8519",
   "metadata": {},
   "source": [
    "## Demo 3 - Add menu"
   ]
  },
  {
   "cell_type": "code",
   "execution_count": 33,
   "id": "96614ec9-21e4-4ea0-844d-bbd7af9ca972",
   "metadata": {},
   "outputs": [
    {
     "name": "stdout",
     "output_type": "stream",
     "text": [
      "typeof(config_dict[\"yzθ\"]) = Vector{Int64}\n",
      "1\n",
      "2\n",
      "3\n"
     ]
    },
    {
     "data": {
      "text/plain": [
       "GLMakie.Screen(...)"
      ]
     },
     "execution_count": 33,
     "metadata": {},
     "output_type": "execute_result"
    },
    {
     "name": "stderr",
     "output_type": "stream",
     "text": [
      "Error in callback:\n",
      "KeyError: key \"config\" not found\n",
      "Stacktrace:\n",
      "  [1] \u001b[0m\u001b[1mgetindex\u001b[22m\n",
      "\u001b[90m    @\u001b[39m \u001b[90m./\u001b[39m\u001b[90m\u001b[4mdict.jl:484\u001b[24m\u001b[39m\u001b[90m [inlined]\u001b[39m\n",
      "  [2] \u001b[0m\u001b[1m(::var\"#200#205\"{Int64, Vector{Axis}, GridLayout, Dict{String, Vector{Int64}}})\u001b[22m\u001b[0m\u001b[1m(\u001b[22m\u001b[90mconfig\u001b[39m::\u001b[0mString\u001b[0m\u001b[1m)\u001b[22m\n",
      "\u001b[90m    @\u001b[39m \u001b[35mMain\u001b[39m \u001b[90m./\u001b[39m\u001b[90m\u001b[4mIn[33]:65\u001b[24m\u001b[39m\n",
      "  [3] \u001b[0m\u001b[1msetindex!\u001b[22m\u001b[0m\u001b[1m(\u001b[22m\u001b[90mobservable\u001b[39m::\u001b[0mObservable, \u001b[90mval\u001b[39m::\u001b[0mAny\u001b[0m\u001b[1m)\u001b[22m\n",
      "\u001b[90m    @\u001b[39m \u001b[36mObservables\u001b[39m \u001b[90m~/\u001b[39m\u001b[90m\u001b[4msys_control.so:-1\u001b[24m\u001b[39m\n",
      "  [4] \u001b[0m\u001b[1m(::Makie.var\"#1800#1823\"{Menu})\u001b[22m\u001b[0m\u001b[1m(\u001b[22m\u001b[90mi\u001b[39m::\u001b[0mInt64\u001b[0m\u001b[1m)\u001b[22m\n",
      "\u001b[90m    @\u001b[39m \u001b[32mMakie\u001b[39m \u001b[90m~/.julia/packages/Makie/iECbF/src/makielayout/blocks/\u001b[39m\u001b[90m\u001b[4mmenu.jl:354\u001b[24m\u001b[39m\n",
      "  [5] \u001b[0m\u001b[1msetindex!\u001b[22m\u001b[0m\u001b[1m(\u001b[22m\u001b[90mobservable\u001b[39m::\u001b[0mObservable, \u001b[90mval\u001b[39m::\u001b[0mAny\u001b[0m\u001b[1m)\u001b[22m\n",
      "\u001b[90m    @\u001b[39m \u001b[36mObservables\u001b[39m \u001b[90m~/\u001b[39m\u001b[90m\u001b[4msys_control.so:-1\u001b[24m\u001b[39m\n",
      "  [6] \u001b[0m\u001b[1m(::Makie.var\"#1795#1818\"{Menu, Makie.var\"#mouse_up#1817\", Base.RefValue{Bool}, Base.RefValue{Bool}, Makie.var\"#pick_entry#1815\"{Base.RefValue{Vector{Float32}}, Scene}, MakieCore.Text{Tuple{Vector{Point{2, Float32}}}}, Poly{Tuple{Vector{GeometryBasics.HyperRectangle{2, Float32}}}}, Makie.var\"#update_option_colors!#1809\"{Menu, Observable{Vector{ColorTypes.RGBA{Float32}}}, Observable{Vector{String}}}, MakieCore.Text{Tuple{Vector{Point{2, Float32}}}}, Poly{Tuple{GeometryBasics.HyperRectangle{2, Float32}}}, Scene, Observable{Float64}, Scene})\u001b[22m\u001b[0m\u001b[1m(\u001b[22m\u001b[90mposition\u001b[39m::\u001b[0mTuple\u001b[90m{Float64, Float64}\u001b[39m, \u001b[90mbutt\u001b[39m::\u001b[0mMakie.MouseButtonEvent\u001b[0m\u001b[1m)\u001b[22m\n",
      "\u001b[90m    @\u001b[39m \u001b[32mMakie\u001b[39m \u001b[90m~/.julia/packages/Makie/iECbF/src/makielayout/blocks/\u001b[39m\u001b[90m\u001b[4mmenu.jl:238\u001b[24m\u001b[39m\n",
      "  [7] \u001b[0m\u001b[1minvokelatest\u001b[22m\u001b[0m\u001b[1m(\u001b[22m::\u001b[0mAny, ::\u001b[0mAny, ::\u001b[0mVararg\u001b[90m{Any}\u001b[39m; \u001b[90mkwargs\u001b[39m::\u001b[0mBase.Pairs\u001b[90m{Symbol, Union{}, Tuple{}, NamedTuple{(), Tuple{}}}\u001b[39m\u001b[0m\u001b[1m)\u001b[22m\n",
      "\u001b[90m    @\u001b[39m \u001b[90mBase\u001b[39m \u001b[90m~/\u001b[39m\u001b[90m\u001b[4msys_control.so:-1\u001b[24m\u001b[39m\n",
      "  [8] \u001b[0m\u001b[1minvokelatest\u001b[22m\u001b[0m\u001b[1m(\u001b[22m::\u001b[0mAny, ::\u001b[0mAny, ::\u001b[0mVararg\u001b[90m{Any}\u001b[39m\u001b[0m\u001b[1m)\u001b[22m\n",
      "\u001b[90m    @\u001b[39m \u001b[90mBase\u001b[39m \u001b[90m~/\u001b[39m\u001b[90m\u001b[4msys_control.so:-1\u001b[24m\u001b[39m\n",
      "  [9] \u001b[0m\u001b[1m(::Observables.OnAny)\u001b[22m\u001b[0m\u001b[1m(\u001b[22m\u001b[90mvalue\u001b[39m::\u001b[0mAny\u001b[0m\u001b[1m)\u001b[22m\n",
      "\u001b[90m    @\u001b[39m \u001b[36mObservables\u001b[39m \u001b[90m~/\u001b[39m\u001b[90m\u001b[4msys_control.so:-1\u001b[24m\u001b[39m\n",
      " [10] \u001b[0m\u001b[1m#invokelatest#2\u001b[22m\n",
      "\u001b[90m    @\u001b[39m \u001b[90m./\u001b[39m\u001b[90m\u001b[4messentials.jl:816\u001b[24m\u001b[39m\u001b[90m [inlined]\u001b[39m\n",
      " [11] \u001b[0m\u001b[1minvokelatest\u001b[22m\n",
      "\u001b[90m    @\u001b[39m \u001b[90m./\u001b[39m\u001b[90m\u001b[4messentials.jl:813\u001b[24m\u001b[39m\u001b[90m [inlined]\u001b[39m\n",
      " [12] \u001b[0m\u001b[1mnotify\u001b[22m\n",
      "\u001b[90m    @\u001b[39m \u001b[90m~/.julia/packages/Observables/PHGQ8/src/\u001b[39m\u001b[90m\u001b[4mObservables.jl:169\u001b[24m\u001b[39m\u001b[90m [inlined]\u001b[39m\n",
      " [13] \u001b[0m\u001b[1msetindex!\u001b[22m\n",
      "\u001b[90m    @\u001b[39m \u001b[90m~/.julia/packages/Observables/PHGQ8/src/\u001b[39m\u001b[90m\u001b[4mObservables.jl:86\u001b[24m\u001b[39m\u001b[90m [inlined]\u001b[39m\n",
      " [14] \u001b[0m\u001b[1m(::GLMakie.var\"#mousebuttons#151\"{Observable{Makie.MouseButtonEvent}})\u001b[22m\u001b[0m\u001b[1m(\u001b[22m\u001b[90mwindow\u001b[39m::\u001b[0mGLFW.Window, \u001b[90mbutton\u001b[39m::\u001b[0mGLFW.MouseButton, \u001b[90maction\u001b[39m::\u001b[0mGLFW.Action, \u001b[90mmods\u001b[39m::\u001b[0mInt32\u001b[0m\u001b[1m)\u001b[22m\n",
      "\u001b[90m    @\u001b[39m \u001b[33mGLMakie\u001b[39m \u001b[90m~/.julia/packages/GLMakie/OVxAi/src/\u001b[39m\u001b[90m\u001b[4mevents.jl:102\u001b[24m\u001b[39m\n",
      " [15] \u001b[0m\u001b[1m_MouseButtonCallbackWrapper\u001b[22m\u001b[0m\u001b[1m(\u001b[22m\u001b[90mwindow\u001b[39m::\u001b[0mGLFW.Window, \u001b[90mbutton\u001b[39m::\u001b[0mGLFW.MouseButton, \u001b[90maction\u001b[39m::\u001b[0mGLFW.Action, \u001b[90mmods\u001b[39m::\u001b[0mInt32\u001b[0m\u001b[1m)\u001b[22m\n",
      "\u001b[90m    @\u001b[39m \u001b[35mGLFW\u001b[39m \u001b[90m~/\u001b[39m\u001b[90m\u001b[4msys_control.so:-1\u001b[24m\u001b[39m\n",
      " [16] \u001b[0m\u001b[1mpollevents\u001b[22m\u001b[0m\u001b[1m(\u001b[22m\u001b[90mscreen\u001b[39m::\u001b[0mGLMakie.Screen\u001b[90m{GLFW.Window}\u001b[39m\u001b[0m\u001b[1m)\u001b[22m\n",
      "\u001b[90m    @\u001b[39m \u001b[33mGLMakie\u001b[39m \u001b[90m~/\u001b[39m\u001b[90m\u001b[4msys_control.so:-1\u001b[24m\u001b[39m\n",
      " [17] \u001b[0m\u001b[1mon_demand_renderloop\u001b[22m\u001b[0m\u001b[1m(\u001b[22m\u001b[90mscreen\u001b[39m::\u001b[0mGLMakie.Screen\u001b[90m{GLFW.Window}\u001b[39m\u001b[0m\u001b[1m)\u001b[22m\n",
      "\u001b[90m    @\u001b[39m \u001b[33mGLMakie\u001b[39m \u001b[90m~/\u001b[39m\u001b[90m\u001b[4msys_control.so:-1\u001b[24m\u001b[39m\n",
      " [18] \u001b[0m\u001b[1mrenderloop\u001b[22m\u001b[0m\u001b[1m(\u001b[22m\u001b[90mscreen\u001b[39m::\u001b[0mGLMakie.Screen\u001b[90m{GLFW.Window}\u001b[39m\u001b[0m\u001b[1m)\u001b[22m\n",
      "\u001b[90m    @\u001b[39m \u001b[33mGLMakie\u001b[39m \u001b[90m~/\u001b[39m\u001b[90m\u001b[4msys_control.so:-1\u001b[24m\u001b[39m\n",
      " [19] \u001b[0m\u001b[1m(::GLMakie.var\"#69#70\"{GLMakie.Screen{GLFW.Window}})\u001b[22m\u001b[0m\u001b[1m(\u001b[22m\u001b[0m\u001b[1m)\u001b[22m\n",
      "\u001b[90m    @\u001b[39m \u001b[33mGLMakie\u001b[39m \u001b[90m~/\u001b[39m\u001b[90m\u001b[4msys_control.so:-1\u001b[24m\u001b[39m\n"
     ]
    }
   ],
   "source": [
    "let\n",
    "fig = Figure(resolution = (1080,720))\n",
    "\n",
    "# configuration \n",
    "config_dict = Dict(\"xyz\" => [1,2,3], \"yzθ\" => [2,3,4])\n",
    "config_keys =  collect(keys(config_dict))\n",
    "config_values = collect(values(config_dict))\n",
    "\n",
    "\n",
    "    \n",
    "g_left = fig[1, 1] = GridLayout()\n",
    "g_right = fig[1, 2] = GridLayout()\n",
    "\n",
    "g_left_plots = g_left[1, 1]= GridLayout()\n",
    "hiddenlayout = GridLayout(bbox=BBox(-200, -100, 0, 100))\n",
    "\n",
    "hiddenlayout_config = GridLayout(bbox=BBox(-200, -100, 0, 100))\n",
    "\n",
    "g_right_widgets = g_right[1, 1]= GridLayout()\n",
    "\n",
    "\n",
    "plots_vec = Axis[]\n",
    "    \n",
    "plot_count = 3\n",
    "total_plot_count = 6\n",
    "\n",
    "\n",
    "\n",
    "for i in 1:total_plot_count\n",
    "    axis = Axis(fig, title=\"Axis\"*string(i))\n",
    "    push!(plots_vec, axis)\n",
    "\n",
    "    # g_right_plots[i,1] = state_plots[i]    \n",
    "end\n",
    "\n",
    "@show typeof(config_dict[\"yzθ\"])\n",
    "\n",
    "\n",
    "index_vec = collect(1:total_plot_count)  \n",
    "    \n",
    "# diplayed plots\n",
    "for (i,pos) in enumerate(config_dict[\"xyz\"])\n",
    "    g_left_plots[i,1] = plots_vec[pos]\n",
    "    # deleteat!(index_vec, i)\n",
    "    deleteat!(index_vec, findall(x->x==pos,index_vec))\n",
    "\n",
    "    println(i)\n",
    "end\n",
    "\n",
    "\n",
    "# hidden plots\n",
    "for i in index_vec\n",
    "    hiddenlayout_config[i,1] = plots_vec[i]\n",
    "end\n",
    "\n",
    "# add menu \n",
    "menu = Menu(fig, options = config_keys)\n",
    "g_right_widgets[1,1] = menu\n",
    "\n",
    "on(menu.selection) do config\n",
    "\n",
    "    index_vec = collect(1:total_plot_count)  \n",
    "    \n",
    "    # diplayed plots\n",
    "    for (i,pos) in enumerate(config_dict[config] )\n",
    "        g_left_plots[i,1] = plots_vec[pos]\n",
    "        # deleteat!(index_vec, i)\n",
    "        deleteat!(index_vec, findall(x->x==pos,index_vec))\n",
    "    \n",
    "        println(i)\n",
    "    end\n",
    "end\n",
    "\n",
    "# add toggle buttons\n",
    "toggles = [Toggle(fig, active = active) for active in [true, true, true]]\n",
    "labels = [Label(fig, label) for label in [\"x\", \"y\", \"z\"]]\n",
    "    \n",
    "g_right_widgets[2,1] = grid!(hcat(toggles, labels), tellheight = false)\n",
    "\n",
    "    \n",
    "# for i in 1:plot_count\n",
    "#     index_vec = collect(1:plot_count)  \n",
    "#     deleteat!(index_vec, i)\n",
    "        \n",
    "#     on(toggles[i].active) do state\n",
    "    \n",
    "#             if state==true\n",
    "#                 g_left_plots[i,1] =plots_vec[i]\n",
    "                    \n",
    "#                 for i in index_vec\n",
    "#                     rowsize!(g_left_plots, i,  Auto(1.0))\n",
    "#                 end          \n",
    "        \n",
    "#             else\n",
    "\n",
    "#                 hiddenlayout[1,1] = plots_vec[i]\n",
    "                   \n",
    "#                 for i in index_vec\n",
    "#                     rowsize!(g_left_plots, i,  Relative(1.0 / (plot_count-1)))\n",
    "#                 end \n",
    "              \n",
    "#             end\n",
    "\n",
    "#     end\n",
    "    \n",
    "# end\n",
    "\n",
    "display(fig)\n",
    "\n",
    "end"
   ]
  },
  {
   "cell_type": "code",
   "execution_count": 29,
   "id": "0845b55b-b06b-483d-a292-1c4b0f7dbfb0",
   "metadata": {},
   "outputs": [
    {
     "name": "stdout",
     "output_type": "stream",
     "text": [
      "s = var\"#162#166\"()\n"
     ]
    },
    {
     "data": {
      "text/plain": [
       "GLMakie.Screen(...)"
      ]
     },
     "execution_count": 29,
     "metadata": {},
     "output_type": "execute_result"
    }
   ],
   "source": [
    "let \n",
    "\n",
    "fig = Figure()\n",
    "\n",
    "\n",
    "funcs = [sqrt, x->x^2, sin, cos]\n",
    "dict = Dict(\"Square Root\" => sqrt, \"Square\" => x->x^2)\n",
    "    \n",
    "dict_keys =  collect(keys(dict))\n",
    "dict_values =  collect(values(dict))\n",
    "\n",
    "menu2 = Menu(fig,\n",
    "    options = zip(dict_keys, dict_values),\n",
    "    default = \"Square\")\n",
    "\n",
    "fig[1, 1] = vgrid!(\n",
    "    Label(fig, \"Function\", width = nothing),\n",
    "    menu2;\n",
    "    tellheight = false, width = 200)\n",
    "\n",
    "ax = Axis(fig[1, 2])\n",
    "\n",
    "func = Observable{Any}(funcs[1])\n",
    "\n",
    "ys = lift(func) do f\n",
    "    f.(0:0.3:10)\n",
    "end\n",
    "scat = scatter!(ax, ys, markersize = 10px, color = ys)\n",
    "\n",
    "on(menu2.selection) do s\n",
    "    @show s\n",
    "    func[] = s\n",
    "    autolimits!(ax)\n",
    "end\n",
    "    \n",
    "notify(menu2.selection)\n",
    "\n",
    "menu2.is_open = true\n",
    "\n",
    "display(fig)\n",
    "    \n",
    "end"
   ]
  },
  {
   "cell_type": "code",
   "execution_count": 208,
   "id": "4d2bca5e-9f80-4bee-afe6-c9c0609f45a0",
   "metadata": {},
   "outputs": [
    {
     "data": {
      "text/plain": [
       "2-element Vector{Vector{Int64}}:\n",
       " [2, 3, 4]\n",
       " [1, 2, 3]"
      ]
     },
     "execution_count": 208,
     "metadata": {},
     "output_type": "execute_result"
    }
   ],
   "source": [
    "let \n",
    "\n",
    "# configs = (; xyz = [1,2,3], yzθ = [2,3,4]) \n",
    "Dict2 = Dict(\"xyz\" => [1,2,3], \"yzθ\" => [2,3,4])\n",
    "\n",
    "configs_keys =  collect(keys(Dict2))\n",
    "\n",
    "configs_values = collect(values(Dict2))\n",
    "\n",
    "end"
   ]
  },
  {
   "cell_type": "code",
   "execution_count": null,
   "id": "d9c4a3e7-bef7-423e-b48a-e955f79cda20",
   "metadata": {},
   "outputs": [],
   "source": []
  }
 ],
 "metadata": {
  "kernelspec": {
   "display_name": "control_precompiled 1.9.1",
   "language": "julia",
   "name": "control_precompiled-1.9"
  },
  "language_info": {
   "file_extension": ".jl",
   "mimetype": "application/julia",
   "name": "julia",
   "version": "1.9.1"
  }
 },
 "nbformat": 4,
 "nbformat_minor": 5
}
