{
 "cells": [
  {
   "cell_type": "code",
   "execution_count": 1,
   "id": "14f38dd7",
   "metadata": {},
   "outputs": [
    {
     "name": "stderr",
     "output_type": "stream",
     "text": [
      "\u001b[32m\u001b[1m  Activating\u001b[22m\u001b[39m project at `~/Downloads/notebooks/makie_demos`\n"
     ]
    }
   ],
   "source": [
    "import Pkg; Pkg.activate(@__DIR__); Pkg.instantiate()"
   ]
  },
  {
   "cell_type": "code",
   "execution_count": 4,
   "id": "9ad1043c",
   "metadata": {},
   "outputs": [],
   "source": [
    "using GLMakie\n",
    "using Colors\n",
    "using GeometryBasics\n",
    "using Rotations\n",
    "using FileIO\n",
    "\n",
    "GLMakie.activate!(inline=false)"
   ]
  },
  {
   "cell_type": "code",
   "execution_count": 10,
   "id": "a2b9b789",
   "metadata": {},
   "outputs": [
    {
     "data": {
      "text/plain": [
       "to_makie_quaternion (generic function with 2 methods)"
      ]
     },
     "execution_count": 10,
     "metadata": {},
     "output_type": "execute_result"
    }
   ],
   "source": [
    "# convert standrard quaternion, euler angle to makie quaternin type\n",
    "function to_makie_quaternion(R_quat::QuatRotation)::Quaternion\n",
    "    return  Quaternion(R_quat.q.s, R_quat.q.v1,R_quat.q.v2,R_quat.q.v3)\n",
    "end\n",
    "\n",
    "function to_makie_quaternion(R_euler::RotZYX)::Quaternion\n",
    "    \n",
    "    # Convert the rotation to unit quaternion\n",
    "    R_quat = QuatRotation(R_euler)\n",
    "    \n",
    "    return  Quaternion(R_quat.q.s, R_quat.q.v1,R_quat.q.v2,R_quat.q.v3)\n",
    "end"
   ]
  },
  {
   "cell_type": "markdown",
   "id": "c4f82410",
   "metadata": {},
   "source": [
    "### Loading a mesh"
   ]
  },
  {
   "cell_type": "code",
   "execution_count": 70,
   "id": "94cd724e",
   "metadata": {},
   "outputs": [],
   "source": [
    "# load the model file\n",
    "airplane_stl = load(assetpath(pwd() * \"/assets/airplane.stl\"));\n",
    "tailsitter_stl = load(assetpath(pwd() * \"/assets/tailsitter.stl\"));\n",
    "crazyflie_stl = load(assetpath(pwd() * \"/assets/cf2_assembly.obj\"));"
   ]
  },
  {
   "cell_type": "code",
   "execution_count": 54,
   "id": "8d9ac93e",
   "metadata": {},
   "outputs": [
    {
     "data": {
      "text/plain": [
       "RigidBody3"
      ]
     },
     "execution_count": 54,
     "metadata": {},
     "output_type": "execute_result"
    }
   ],
   "source": [
    "struct Position\n",
    "    x::Float64\n",
    "    y::Float64\n",
    "    z::Float64\n",
    "end\n",
    "\n",
    "# Orientation = QuatRotation\n",
    "\n",
    "    \n",
    "mutable struct RigidBody3\n",
    "    position::Position\n",
    "    orientation::QuatRotation\n",
    "    \n",
    "    # default constructor\n",
    "    function RigidBody3()\n",
    "        position = Position(0,0,0);\n",
    "        orientation = QuatRotation(1,0,0,0);\n",
    "        \n",
    "        new(position,orientation)\n",
    "    end\n",
    "    \n",
    "    # position and orientation\n",
    "    function RigidBody3(position_::Position, orientation_::QuatRotation)\n",
    "        \n",
    "        new(position_,orientation_)\n",
    "    end\n",
    "    \n",
    "    # position only\n",
    "    function RigidBody3(position_::Position)\n",
    "\n",
    "        orientation = QuatRotation(1,0,0,0);\n",
    "        \n",
    "        new(position_,orientation)\n",
    "    end\n",
    "    \n",
    "    # orientation only\n",
    "    function RigidBody3(orientation_::QuatRotation)\n",
    "        position = Position(0,0,0);\n",
    "\n",
    "        new(position,orientation_)\n",
    "    end\n",
    "end\n",
    "\n",
    "RigidBody = RigidBody3"
   ]
  },
  {
   "cell_type": "code",
   "execution_count": 55,
   "id": "d55be724",
   "metadata": {},
   "outputs": [
    {
     "data": {
      "text/plain": [
       "RigidBody3(Position(1.0, 1.0, 0.0), [-1.0 0.0 0.0; 0.0 -1.0 0.0; 0.0 0.0 1.0])"
      ]
     },
     "execution_count": 55,
     "metadata": {},
     "output_type": "execute_result"
    }
   ],
   "source": [
    "b1 = RigidBody3()\n",
    "b2 = RigidBody3(Position(1,1,0))\n",
    "b3 = RigidBody3(QuatRotation(0,0,0,1))\n",
    "b4 = RigidBody3(Position(1,1,0), QuatRotation(0,0,0,1))"
   ]
  },
  {
   "cell_type": "code",
   "execution_count": 69,
   "id": "5c3faa0e",
   "metadata": {},
   "outputs": [
    {
     "data": {
      "text/plain": [
       "GLMakie.Screen(...)"
      ]
     },
     "execution_count": 69,
     "metadata": {},
     "output_type": "execute_result"
    }
   ],
   "source": [
    "set_theme!(\n",
    "#     font = \"Arial\", # inherited by layoutables if not overridden\n",
    "    fontsize = 25, # inherited by layoutables if not overridden\n",
    ")\n",
    "\n",
    "f = Figure(resolution = (1080, 720))\n",
    "\n",
    "# Top level\n",
    "g_left = f[1, 1] = GridLayout(alignmode=Outside(50))\n",
    "g_right = f[1, 2] = GridLayout(alignmode=Outside(30))\n",
    "\n",
    "Box(f[1, 2], color = (:red, 0.2), strokewidth = 0)\n",
    "\n",
    "# force 3d visualizer to have an aspect ratio of 1\n",
    "colsize!(f.layout, 1, Aspect(1, 1.0))\n",
    "\n",
    "# # Column size adjust\n",
    "colsize!(g_left, 1,  Auto(1))\n",
    "colsize!(g_right, 1,  Auto(1))\n",
    "\n",
    "# # Left grid\n",
    "# ax_left = Axis3(g_left[1, 1])\n",
    "\n",
    "# axis for airplane visualization\n",
    "ax1 = Axis3(g_left[1, 1],\n",
    "    title = \"Brain activation\",\n",
    "    limits =  (-2,2,-2,2,-2,2),\n",
    "    aspect = (1,1,1),\n",
    "    xlabel=\"x axis\", xlabelsize=40,\n",
    "    ylabel=\"y axis\", ylabelsize=40,\n",
    "    zlabel=\"z axis\", zlabelsize=40,\n",
    "    halign =:left\n",
    ")\n",
    "\n",
    "m = mesh!(ax1, crazyflie_stl , color=:red)\n",
    "\n",
    "scale!(m, 10.5, 10.5, 10.5)\n",
    "\n",
    "# center model at the origin\n",
    "translate!(m, Vec3f(0.0, 0.0, 0.0))\n",
    "\n",
    "# orient along positive x axis\n",
    "rotate!(m, Vec3f(0, 1, 0), 0) # 0.5 rad around the y axis\n",
    "\n",
    "\n",
    "# Right Grids - plots\n",
    "g_right_plots = GridLayout()\n",
    "g_right_widgets = GridLayout()\n",
    "\n",
    "plot_1 = Axis(f)\n",
    "plot_2 = Axis(f)\n",
    "\n",
    "g_right_plots[2,1] = plot_1\n",
    "g_right_plots[3,1] = plot_2\n",
    "g_right[1, 1] = g_right_plots\n",
    "\n",
    "# Right Grids - widgets\n",
    "\n",
    "# slider grid for setting attitude\n",
    "attitude_slider = SliderGrid(\n",
    "    f,\n",
    "    (label = \"Roll\", range = -pi:0.01:pi, format = \"{:.2f} rad\", startvalue = 0.0, linewidth = 25.0),\n",
    "    (label = \"Pitch\", range = -pi:0.01:pi, format = \"{:.2f} rad\", startvalue = 0.0, linewidth = 25.0),\n",
    "    (label = \"Yaw\", range = -pi:0.01:pi, format = \"{:.2f} rad\", startvalue = 0.0, linewidth = 25.0),\n",
    "    width = Auto(),\n",
    "    tellheight = false,\n",
    "    halign =:left\n",
    ")\n",
    "\n",
    "# attitude reset button\n",
    "attitude_reset_btn = Button(f, label = \"Reset Attitude\", tellwidth=false)\n",
    "\n",
    "g_right_widgets[1,1] = attitude_slider\n",
    "g_right_widgets[2,1] = attitude_reset_btn\n",
    "g_right[2, 1] = g_right_widgets\n",
    "\n",
    "# Observables\n",
    "attitude_slider_obs = [s.value for s in attitude_slider.sliders]\n",
    "\n",
    "\n",
    "# events\n",
    "\n",
    "# Attitude button clicked\n",
    "on(attitude_reset_btn.clicks) do clicks\n",
    "    # reset attitude\n",
    "    rotate!(m, Quaternion(1,0,0,0))  \n",
    "    \n",
    "    # reset the attitude control sliders\n",
    "    set_close_to!(attitude_slider.sliders[1], attitude_slider.sliders[1].startvalue[])\n",
    "    set_close_to!(attitude_slider.sliders[2], attitude_slider.sliders[1].startvalue[])\n",
    "    set_close_to!(attitude_slider.sliders[3], attitude_slider.sliders[1].startvalue[])\n",
    "end\n",
    "\n",
    "\n",
    "bars = lift(attitude_slider_obs...) do angles...\n",
    "    \n",
    "    # create ZYX euler angle representation \n",
    "    R_euler = RotZYX(angles[1],angles[2],angles[3])\n",
    "    \n",
    "    # Convert the rotation to unit quaternion\n",
    "    R_quat = QuatRotation(R_euler)\n",
    "    \n",
    "    R_quat_makie = Quaternion(R_quat.q.s, R_quat.q.v1,R_quat.q.v2,R_quat.q.v3)\n",
    "    \n",
    "    # apply rotation\n",
    "    rotate!(m,  R_quat_makie)     \n",
    "end\n",
    "\n",
    "trim!(f.layout)\n",
    "\n",
    "display(f)"
   ]
  },
  {
   "cell_type": "markdown",
   "id": "2fa8409f-eac8-4710-9884-dc10ce8022a6",
   "metadata": {},
   "source": [
    "# Airplane"
   ]
  },
  {
   "cell_type": "code",
   "execution_count": 57,
   "id": "fe184d27",
   "metadata": {},
   "outputs": [
    {
     "data": {
      "text/plain": [
       "GLMakie.Screen(...)"
      ]
     },
     "execution_count": 57,
     "metadata": {},
     "output_type": "execute_result"
    }
   ],
   "source": [
    "set_theme!(\n",
    "#     font = \"Arial\", # inherited by layoutables if not overridden\n",
    "    fontsize = 25, # inherited by layoutables if not overridden\n",
    ")\n",
    "\n",
    "f = Figure(resolution = (1080, 720))\n",
    "\n",
    "# Top level\n",
    "g_left = f[1, 1] = GridLayout(alignmode=Outside(50))\n",
    "g_right = f[1, 2] = GridLayout(alignmode=Outside(30))\n",
    "\n",
    "Box(f[1, 2], color = (:red, 0.2), strokewidth = 0)\n",
    "\n",
    "# force 3d visualizer to have an aspect ratio of 1\n",
    "colsize!(f.layout, 1, Aspect(1, 1.0))\n",
    "\n",
    "# # Column size adjust\n",
    "colsize!(g_left, 1,  Auto(1))\n",
    "colsize!(g_right, 1,  Auto(1))\n",
    "\n",
    "# # Left grid\n",
    "# ax_left = Axis3(g_left[1, 1])\n",
    "\n",
    "# axis for airplane visualization\n",
    "ax1 = Axis3(g_left[1, 1],\n",
    "    title = \"Brain activation\",\n",
    "    limits =  (-2,2,-2,2,-2,2),\n",
    "    aspect = (1,1,1),\n",
    "    xlabel=\"x axis\", xlabelsize=40,\n",
    "    ylabel=\"y axis\", ylabelsize=40,\n",
    "    zlabel=\"z axis\", zlabelsize=40,\n",
    "    halign =:left\n",
    ")\n",
    "\n",
    "tailsitter_mesh = mesh!(ax1, tailsitter_stl , color=:red)\n",
    "\n",
    "scale!(tailsitter_mesh, 0.001, 0.001, 0.001)\n",
    "\n",
    "# orient along positive x axis\n",
    "rotate!(tailsitter_mesh, Vec3f(0, 0, 1), pi) # 0.5 rad around the y axis\n",
    "\n",
    "\n",
    "# Right Grids - plots\n",
    "g_right_plots = GridLayout()\n",
    "g_right_widgets = GridLayout()\n",
    "g_right_display = GridLayout()\n",
    "\n",
    "plot_1 = Axis(f)\n",
    "plot_2 = Axis(f)\n",
    "\n",
    "g_right_plots[2,1] = plot_1\n",
    "g_right_plots[3,1] = plot_2\n",
    "\n",
    "g_right[1, 1] = g_right_plots\n",
    "g_right[2, 1] = g_right_display\n",
    "g_right[3, 1] = g_right_widgets\n",
    "\n",
    "\n",
    "# Right Grids - widgets\n",
    "\n",
    "# slider grid for setting attitude\n",
    "attitude_slider = SliderGrid(\n",
    "    f,\n",
    "    (label = \"Roll\", range = -pi:0.01:pi, format = \"{:.2f} rad\", startvalue = 0.0, linewidth = 25.0),\n",
    "    (label = \"Pitch\", range = -pi:0.01:pi, format = \"{:.2f} rad\", startvalue = 0.0, linewidth = 25.0),\n",
    "    (label = \"Yaw\", range = -pi:0.01:pi, format = \"{:.2f} rad\", startvalue = 0.0, linewidth = 25.0),\n",
    "    width = Auto(),\n",
    "    tellheight = false,\n",
    "    halign =:left\n",
    ")\n",
    "\n",
    "# attitude reset button\n",
    "attitude_reset_btn = Button(f, label = \"Reset Attitude\", tellwidth=false)\n",
    "\n",
    "# Attitude display label\n",
    "\n",
    "attitude_display = Label(f,\n",
    "    \"Quaternion\\n\\nq_w:\\t0.0\\nq_x:\\t0.0\\nq_y:\\t0.0\\nq_z:\\t0.0 \\n\",\n",
    "    justification = :left,\n",
    "    lineheight = 0.9,\n",
    "    fontsize = 30\n",
    ")\n",
    "\n",
    "g_right_display[1,1:2] = attitude_display\n",
    "\n",
    "g_right_widgets[1,1] = attitude_slider\n",
    "g_right_widgets[2,1] = attitude_reset_btn\n",
    "\n",
    "\n",
    "\n",
    "# Observables\n",
    "attitude_slider_obs = [s.value for s in attitude_slider.sliders]\n",
    "\n",
    "\n",
    "# events\n",
    "\n",
    "# Attitude button clicked\n",
    "on(attitude_reset_btn.clicks) do clicks\n",
    "    # reset attitude\n",
    "    rotate!(tailsitter_mesh, Quaternion(1,0,0,0))  \n",
    "    \n",
    "    # reset the attitude control sliders\n",
    "    set_close_to!(attitude_slider.sliders[1], attitude_slider.sliders[1].startvalue[])\n",
    "    set_close_to!(attitude_slider.sliders[2], attitude_slider.sliders[1].startvalue[])\n",
    "    set_close_to!(attitude_slider.sliders[3], attitude_slider.sliders[1].startvalue[])\n",
    "end\n",
    "\n",
    "\n",
    "bars = lift(attitude_slider_obs...) do angles...\n",
    "    \n",
    "    # create ZYX euler angle representation \n",
    "    R_euler = RotZYX(angles[1],angles[2],angles[3])\n",
    "    \n",
    "    # Convert the rotation to unit quaternion\n",
    "    R_quat = QuatRotation(R_euler)\n",
    "    \n",
    "    R_quat_makie = to_makie_quaternion(R_euler)\n",
    "    \n",
    "    # apply rotation\n",
    "    rotate!(tailsitter_mesh,  R_quat_makie)    \n",
    "    \n",
    "    # update attitude display\n",
    "    attitude_display.text = \"Quaternion\\n\\nq_w:\\t\" * string(round(R_quat.q.s,digits=2)) * \"\\nq_x:\\t\" * string(round(R_quat.q.v1,digits=2)) * \"\\nq_y:\\t\" * string(round(R_quat.q.v2,digits=2)) * \"\\nq_z:\\t\" * string(round(R_quat.q.v3,digits=2)) * \"\\n\"\n",
    "end\n",
    " \n",
    "trim!(f.layout)\n",
    "\n",
    "display(f)"
   ]
  },
  {
   "cell_type": "markdown",
   "id": "e1704d83",
   "metadata": {},
   "source": [
    "# Utility function"
   ]
  },
  {
   "cell_type": "code",
   "execution_count": null,
   "id": "60779101",
   "metadata": {},
   "outputs": [],
   "source": []
  },
  {
   "cell_type": "code",
   "execution_count": null,
   "id": "4a747650",
   "metadata": {},
   "outputs": [],
   "source": []
  },
  {
   "cell_type": "code",
   "execution_count": null,
   "id": "591c61b5-054e-4e24-aeaf-c6fef4c2fcae",
   "metadata": {},
   "outputs": [],
   "source": []
  }
 ],
 "metadata": {
  "kernelspec": {
   "display_name": "Julia-sys-plots 1.8.5",
   "language": "julia",
   "name": "julia-sys-plots-1.8"
  },
  "language_info": {
   "file_extension": ".jl",
   "mimetype": "application/julia",
   "name": "julia",
   "version": "1.8.5"
  }
 },
 "nbformat": 4,
 "nbformat_minor": 5
}
