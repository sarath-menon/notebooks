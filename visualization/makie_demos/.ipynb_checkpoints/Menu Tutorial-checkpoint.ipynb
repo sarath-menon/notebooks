{
 "cells": [
  {
   "cell_type": "code",
   "execution_count": 5,
   "id": "90c0e529",
   "metadata": {},
   "outputs": [
    {
     "name": "stderr",
     "output_type": "stream",
     "text": [
      "\u001b[32m\u001b[1m  Activating\u001b[22m\u001b[39m project at `~/Documents/eth_courses/notebooks/visualization/makie_demos`\n",
      "\u001b[33m\u001b[1m┌ \u001b[22m\u001b[39m\u001b[33m\u001b[1mWarning: \u001b[22m\u001b[39mattempting to remove probably stale pidfile\n",
      "\u001b[33m\u001b[1m│ \u001b[22m\u001b[39m  path = \"/Users/sarathmenon/.julia/logs/manifest_usage.toml.pid\"\n",
      "\u001b[33m\u001b[1m└ \u001b[22m\u001b[39m\u001b[90m@ FileWatching.Pidfile /Applications/Julia-1.9.app/Contents/Resources/julia/share/julia/stdlib/v1.9/FileWatching/src/pidfile.jl:244\u001b[39m\n"
     ]
    }
   ],
   "source": [
    "import Pkg; Pkg.activate(@__DIR__); Pkg.instantiate();"
   ]
  },
  {
   "cell_type": "code",
   "execution_count": 1,
   "id": "ecb05bb2-afe5-484f-981e-d2ca7eae5b16",
   "metadata": {},
   "outputs": [],
   "source": [
    "# Pkg.update()"
   ]
  },
  {
   "cell_type": "code",
   "execution_count": 7,
   "id": "1660e620-0fc1-4f55-a7bd-18619511e5f6",
   "metadata": {},
   "outputs": [],
   "source": [
    "using GLMakie\n",
    "GLMakie.activate!(inline=false)"
   ]
  },
  {
   "cell_type": "markdown",
   "id": "6da6ebee-bcb0-48e2-88bb-da6a2f82bdcf",
   "metadata": {},
   "source": [
    "# Demo 1: hiding axes with toggle"
   ]
  },
  {
   "cell_type": "code",
   "execution_count": 144,
   "id": "76afd07f",
   "metadata": {},
   "outputs": [
    {
     "data": {
      "text/plain": [
       "GLMakie.Screen(...)"
      ]
     },
     "execution_count": 144,
     "metadata": {},
     "output_type": "execute_result"
    }
   ],
   "source": [
    "let\n",
    "fig = Figure(resolution = (1080,720))\n",
    "\n",
    "g_left = fig[1, 1] = GridLayout()\n",
    "g_right = fig[1, 2] = GridLayout()\n",
    "\n",
    "g_left_plots = g_left[1, 1]= GridLayout()\n",
    "hiddenlayout = GridLayout(bbox=BBox(-200, -100, 0, 100))\n",
    "\n",
    "g_right_toggles = g_right[1, 1]= GridLayout()\n",
    "    \n",
    "ax1 = Axis(fig, title=\"axis1\")\n",
    "ax2 = Axis(fig, title=\"axis2\")\n",
    "\n",
    "g_left_plots[1,1] = ax1\n",
    "g_left_plots[2,1] = ax2\n",
    "\n",
    "toggles = [Toggle(fig, active = active) for active in [false, false]]\n",
    "labels = [Label(fig, label) for label in [\"sine\", \"cosine\"]]\n",
    "\n",
    "g_right_toggles[1:2,1] = grid!(hcat(toggles, labels), tellheight = false)\n",
    "\n",
    "# g_right_toggles[3:6,1] =  vcat(toggles, labels)\n",
    "    \n",
    "on(toggles[1].active) do state\n",
    "\n",
    "    if state==true\n",
    "        g_left_plots[1,1] = ax1\n",
    "        g_left_plots[2,1] = ax2\n",
    "\n",
    "        rowsize!(g_left_plots, 1,  Auto(1.0))\n",
    "\n",
    "    else\n",
    "       g_left_plots[1,1] = ax1\n",
    "       hiddenlayout[1,1] = ax2\n",
    "       rowsize!(g_left_plots, 1,  Relative(1.0))\n",
    "    end\n",
    "end\n",
    "\n",
    "\n",
    "display(fig)\n",
    "\n",
    "end"
   ]
  },
  {
   "cell_type": "markdown",
   "id": "3cd04fb2-e8db-440d-a706-b74a47c4c4dd",
   "metadata": {},
   "source": [
    "## Demo 2 - hiding axes with toggle"
   ]
  },
  {
   "cell_type": "code",
   "execution_count": 184,
   "id": "a20dd9e3-6a7c-4f20-94bd-e3e71d287361",
   "metadata": {},
   "outputs": [
    {
     "data": {
      "text/plain": [
       "GLMakie.Screen(...)"
      ]
     },
     "execution_count": 184,
     "metadata": {},
     "output_type": "execute_result"
    }
   ],
   "source": [
    "let\n",
    "fig = Figure(resolution = (1080,720))\n",
    "\n",
    "g_left = fig[1, 1] = GridLayout()\n",
    "g_right = fig[1, 2] = GridLayout()\n",
    "\n",
    "g_left_plots = g_left[1, 1]= GridLayout()\n",
    "hiddenlayout = GridLayout(bbox=BBox(-200, -100, 0, 100))\n",
    "\n",
    "plots_vec = Axis[]\n",
    "plot_count = 3\n",
    "\n",
    "\n",
    "for i in 1:plot_count\n",
    "    axis = Axis(fig, title=\"Axis\"*string(i))\n",
    "    push!(plots_vec, axis)\n",
    "\n",
    "    g_left_plots[i,1] = plots_vec[i]\n",
    "end\n",
    "    \n",
    "\n",
    "toggles = [Toggle(fig, active = active) for active in [true, true, true]]\n",
    "labels = [Label(fig, label) for label in [\"axis1\", \"axis2\", \"axis3\"]]\n",
    "fig[1, 2] = grid!(hcat(toggles, labels), tellheight = false)\n",
    "    \n",
    "for i in 1:plot_count\n",
    "    index_vec = collect(1:plot_count)  \n",
    "    deleteat!(index_vec, i)\n",
    "        \n",
    "    on(toggles[i].active) do state\n",
    "    \n",
    "            if state==true\n",
    "                g_left_plots[i,1] =plots_vec[i]\n",
    "                    \n",
    "                for i in index_vec\n",
    "                    rowsize!(g_left_plots, i,  Auto(1.0))\n",
    "                end          \n",
    "        \n",
    "            else\n",
    "\n",
    "                hiddenlayout[1,1] = plots_vec[i]\n",
    "                   \n",
    "                for i in index_vec\n",
    "                    rowsize!(g_left_plots, i,  Relative(1.0 / (plot_count-1)))\n",
    "                end \n",
    "              \n",
    "            end\n",
    "\n",
    "    end\n",
    "    \n",
    "end\n",
    "\n",
    "display(fig)\n",
    "\n",
    "end"
   ]
  },
  {
   "cell_type": "markdown",
   "id": "eabfdfd3-049a-43e5-9a66-0ddf688c8519",
   "metadata": {},
   "source": [
    "## Demo 3 - Add menu"
   ]
  },
  {
   "cell_type": "code",
   "execution_count": 46,
   "id": "4d2bca5e-9f80-4bee-afe6-c9c0609f45a0",
   "metadata": {},
   "outputs": [
    {
     "data": {
      "text/plain": [
       "GLMakie.Screen(...)"
      ]
     },
     "execution_count": 46,
     "metadata": {},
     "output_type": "execute_result"
    }
   ],
   "source": [
    "let \n",
    "\n",
    "let\n",
    "fig = Figure(resolution = (1080,720))\n",
    "\n",
    "# configuration \n",
    "config_dict = Dict(\"xyz\" => [\"x\",\"y\",\"z\"], \"yzθ\" => [\"y\",\"z\",\"θ\"])\n",
    "config_keys =  collect(keys(config_dict))\n",
    "config_values = collect(values(config_dict))\n",
    "    \n",
    "g_left = fig[1, 1] = GridLayout()\n",
    "g_right = fig[1, 2] = GridLayout()\n",
    "\n",
    "g_left_plots = g_left[1, 1]= GridLayout()\n",
    "hiddenlayout = GridLayout(bbox=BBox(-200, -100, 0, 100))\n",
    "\n",
    "g_right_widgets = g_right[1, 1]= GridLayout()\n",
    "\n",
    "\n",
    "plots_vec = Axis[]\n",
    "    \n",
    "plot_count = 3\n",
    "\n",
    "for i in 1:plot_count\n",
    "    axis = Axis(fig, title=config_dict[\"xyz\"][i])\n",
    "    push!(plots_vec, axis)\n",
    "\n",
    "    g_left_plots[i,1] = plots_vec[i]    \n",
    "end\n",
    "\n",
    "\n",
    "# add menu \n",
    "menu = Menu(fig, options = config_keys, default =\"xyz\")\n",
    "g_right_widgets[1,1] = menu\n",
    "\n",
    "on(menu.selection) do config\n",
    "    \n",
    "    # diplayed plots\n",
    "    for (i,title) in enumerate(config_dict[config] )\n",
    "        plots_vec[i].title = title\n",
    "\n",
    "    end\n",
    "end\n",
    "\n",
    "# add toggle buttons\n",
    "toggles = [Toggle(fig, active = active) for active in [true, true, true]]\n",
    "labels = [Label(fig, label) for label in [\"x\", \"y\", \"z\"]]\n",
    "    \n",
    "g_right_widgets[2,1] = grid!(hcat(toggles, labels), tellheight = false)\n",
    "\n",
    "    \n",
    "for i in 1:plot_count\n",
    "    index_vec = collect(1:plot_count)  \n",
    "    deleteat!(index_vec, i)\n",
    "        \n",
    "    on(toggles[i].active) do state\n",
    "    \n",
    "            if state==true\n",
    "                g_left_plots[i,1] =plots_vec[i]\n",
    "                    \n",
    "                for i in index_vec\n",
    "                    rowsize!(g_left_plots, i,  Auto(1.0))\n",
    "                end          \n",
    "        \n",
    "            else\n",
    "\n",
    "                hiddenlayout[1,1] = plots_vec[i]\n",
    "                   \n",
    "                for i in index_vec\n",
    "                    rowsize!(g_left_plots, i,  Relative(1.0 / (plot_count-1)))\n",
    "                end \n",
    "              \n",
    "            end\n",
    "\n",
    "    end\n",
    "    \n",
    "end\n",
    "\n",
    "display(fig)\n",
    "\n",
    "end\n",
    "end"
   ]
  },
  {
   "cell_type": "code",
   "execution_count": null,
   "id": "d9c4a3e7-bef7-423e-b48a-e955f79cda20",
   "metadata": {},
   "outputs": [],
   "source": []
  }
 ],
 "metadata": {
  "kernelspec": {
   "display_name": "control_precompiled 1.9.1",
   "language": "julia",
   "name": "control_precompiled-1.9"
  },
  "language_info": {
   "file_extension": ".jl",
   "mimetype": "application/julia",
   "name": "julia",
   "version": "1.9.1"
  }
 },
 "nbformat": 4,
 "nbformat_minor": 5
}
