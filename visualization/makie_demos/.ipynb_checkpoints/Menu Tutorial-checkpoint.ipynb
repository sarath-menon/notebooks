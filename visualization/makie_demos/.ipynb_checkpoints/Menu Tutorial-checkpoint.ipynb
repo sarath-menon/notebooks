{
 "cells": [
  {
   "cell_type": "code",
   "execution_count": 3,
   "id": "90c0e529",
   "metadata": {},
   "outputs": [
    {
     "name": "stderr",
     "output_type": "stream",
     "text": [
      "\u001b[32m\u001b[1m  Activating\u001b[22m\u001b[39m project at `~/Documents/eth_courses/notebooks/visualization/makie_demos`\n",
      "\u001b[33m\u001b[1m┌ \u001b[22m\u001b[39m\u001b[33m\u001b[1mWarning: \u001b[22m\u001b[39mThe active manifest file has dependencies that were resolved with a different julia version (1.8.5). Unexpected behavior may occur.\n",
      "\u001b[33m\u001b[1m└ \u001b[22m\u001b[39m\u001b[90m@ ~/Documents/eth_courses/notebooks/visualization/makie_demos/Manifest.toml:0\u001b[39m\n",
      "\u001b[32m\u001b[1m   Installed\u001b[22m\u001b[39m FFTW ─────────────── v1.7.0\n",
      "\u001b[32m\u001b[1m   Installed\u001b[22m\u001b[39m GTK4_jll ─────────── v4.8.3+0\n",
      "\u001b[32m\u001b[1m   Installed\u001b[22m\u001b[39m Expat_jll ────────── v2.4.8+0\n",
      "\u001b[32m\u001b[1m   Installed\u001b[22m\u001b[39m Gtk4Makie ────────── v0.1.0\n",
      "\u001b[32m\u001b[1m   Installed\u001b[22m\u001b[39m Compat ───────────── v4.6.1\n",
      "\u001b[32m\u001b[1m   Installed\u001b[22m\u001b[39m Parsers ──────────── v2.7.0\n",
      "\u001b[32m\u001b[1m   Installed\u001b[22m\u001b[39m MKL_jll ──────────── v2022.2.0+0\n",
      "\u001b[32m\u001b[1m   Installed\u001b[22m\u001b[39m SpecialFunctions ─── v2.2.0\n",
      "\u001b[32m\u001b[1m   Installed\u001b[22m\u001b[39m AbstractFFTs ─────── v1.3.1\n",
      "\u001b[32m\u001b[1m   Installed\u001b[22m\u001b[39m InverseFunctions ─── v0.1.9\n",
      "\u001b[32m\u001b[1m   Installed\u001b[22m\u001b[39m FillArrays ───────── v1.2.0\n",
      "\u001b[32m\u001b[1m   Installed\u001b[22m\u001b[39m TransformsBase ───── v0.1.2\n",
      "\u001b[32m\u001b[1m   Installed\u001b[22m\u001b[39m SortingAlgorithms ── v1.1.0\n",
      "\u001b[32m\u001b[1m   Installed\u001b[22m\u001b[39m DensityInterface ─── v0.4.0\n",
      "\u001b[32m\u001b[1m   Installed\u001b[22m\u001b[39m ChangesOfVariables ─ v0.1.7\n",
      "\u001b[32m\u001b[1m   Installed\u001b[22m\u001b[39m Gtk4 ─────────────── v0.4.0\n",
      "\u001b[32m\u001b[1m   Installed\u001b[22m\u001b[39m Meshes ───────────── v0.31.2\n",
      "\u001b[32m\u001b[1m   Installed\u001b[22m\u001b[39m Distributions ────── v0.25.95\n",
      "\u001b[32m\u001b[1mPrecompiling\u001b[22m\u001b[39m project...\n",
      "\u001b[32m  ✓ \u001b[39m\u001b[90mTransformsBase\u001b[39m\n",
      "\u001b[32m  ✓ \u001b[39m\u001b[90mChangesOfVariables\u001b[39m\n",
      "\u001b[32m  ✓ \u001b[39m\u001b[90mGTK4_jll\u001b[39m\n",
      "\u001b[32m  ✓ \u001b[39m\u001b[90mInverseFunctions\u001b[39m\n",
      "\u001b[32m  ✓ \u001b[39m\u001b[90mDensityInterface\u001b[39m\n",
      "\u001b[32m  ✓ \u001b[39mMeshes\n",
      "\u001b[32m  ✓ \u001b[39mGtk4\n",
      "\u001b[32m  ✓ \u001b[39mGtk4Makie\n",
      "  8 dependencies successfully precompiled in 65 seconds. 27 already precompiled.\n"
     ]
    }
   ],
   "source": [
    "import Pkg; Pkg.activate(@__DIR__); Pkg.instantiate();"
   ]
  },
  {
   "cell_type": "code",
   "execution_count": 5,
   "id": "ecb05bb2-afe5-484f-981e-d2ca7eae5b16",
   "metadata": {},
   "outputs": [],
   "source": [
    "# Pkg.update()"
   ]
  },
  {
   "cell_type": "code",
   "execution_count": 6,
   "id": "1660e620-0fc1-4f55-a7bd-18619511e5f6",
   "metadata": {},
   "outputs": [],
   "source": [
    "using GLMakie\n",
    "GLMakie.activate!(inline=false)"
   ]
  },
  {
   "cell_type": "markdown",
   "id": "6da6ebee-bcb0-48e2-88bb-da6a2f82bdcf",
   "metadata": {},
   "source": [
    "# Demo 1: hiding axes with toggle"
   ]
  },
  {
   "cell_type": "code",
   "execution_count": 9,
   "id": "76afd07f",
   "metadata": {},
   "outputs": [
    {
     "data": {
      "image/png": "[encoded data removed]"
     },
     "metadata": {},
     "output_type": "display_data"
    },
    {
     "data": {
      "text/plain": [
       "GLMakie.Screen(...)"
      ]
     },
     "execution_count": 9,
     "metadata": {},
     "output_type": "execute_result"
    }
   ],
   "source": [
    "let\n",
    "fig = Figure()\n",
    "\n",
    "g_left = fig[1, 1] = GridLayout()\n",
    "g_right = fig[1, 2] = GridLayout()\n",
    "\n",
    "g_left_plots = g_left[1, 1]= GridLayout()\n",
    "hiddenlayout = GridLayout(bbox=BBox(-200, -100, 0, 100))\n",
    "    \n",
    "ax1 = Axis(fig, title=\"axis1\")\n",
    "ax2 = Axis(fig, title=\"axis2\")\n",
    "\n",
    "g_left_plots[1,1] = ax1\n",
    "g_left_plots[2,1] = ax2\n",
    "\n",
    "\n",
    "toggles = [Toggle(fig, active = active) for active in [false, false]]\n",
    "labels = [Label(fig, label) for label in [\"sine\", \"cosine\"]]\n",
    "fig[1, 2] = grid!(hcat(toggles, labels), tellheight = false)\n",
    "\n",
    "\n",
    "on(toggles[1].active) do state\n",
    "\n",
    "    if state==true\n",
    "        g_left_plots[1,1] = ax1\n",
    "        g_left_plots[2,1] = ax2\n",
    "\n",
    "        rowsize!(g_left_plots, 1,  Auto(1.0))\n",
    "\n",
    "    else\n",
    "       g_left_plots[1,1] = ax1\n",
    "       hiddenlayout[1,1] = ax2\n",
    "       rowsize!(g_left_plots, 1,  Relative(1.0))\n",
    "    end\n",
    "end\n",
    "\n",
    "\n",
    "display(fig)\n",
    "\n",
    "end"
   ]
  },
  {
   "cell_type": "code",
   "execution_count": null,
   "id": "96614ec9-21e4-4ea0-844d-bbd7af9ca972",
   "metadata": {},
   "outputs": [],
   "source": []
  }
 ],
 "metadata": {
  "kernelspec": {
   "display_name": "control_precompiled 1.9.1",
   "language": "julia",
   "name": "control_precompiled-1.9"
  },
  "language_info": {
   "file_extension": ".jl",
   "mimetype": "application/julia",
   "name": "julia",
   "version": "1.9.1"
  }
 },
 "nbformat": 4,
 "nbformat_minor": 5
}
