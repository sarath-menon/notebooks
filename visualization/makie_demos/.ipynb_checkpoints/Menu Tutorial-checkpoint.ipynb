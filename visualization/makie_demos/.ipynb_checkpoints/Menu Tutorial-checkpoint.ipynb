{
 "cells": [
  {
   "cell_type": "code",
   "execution_count": 5,
   "id": "7c2da62f",
   "metadata": {},
   "outputs": [],
   "source": [
    "using GLMakie\n",
    "GLMakie.activate!()"
   ]
  },
  {
   "cell_type": "code",
   "execution_count": 17,
   "id": "d960a77f",
   "metadata": {},
   "outputs": [
    {
     "data": {
      "text/plain": [
       "GLMakie.Screen(...)"
      ]
     },
     "execution_count": 17,
     "metadata": {},
     "output_type": "execute_result"
    }
   ],
   "source": [
    "fig = Figure(resolution = (1080, 720))\n",
    "\n",
    "menu = Menu(fig, options = [\"viridis\", \"heat\", \"blues\"], default = \"blues\")\n",
    "\n",
    "funcs = [sqrt, x->x^2, sin, cos]\n",
    "\n",
    "menu2 = Menu(fig,\n",
    "    options = zip([\"Square Root\", \"Square\", \"Sine\", \"Cosine\"], funcs),\n",
    "    default = \"Square\")\n",
    "\n",
    "fig[1, 1] = vgrid!(\n",
    "    Label(fig, \"Colormap\", width = nothing),\n",
    "    menu,\n",
    "    Label(fig, \"Function\", width = nothing),\n",
    "    menu2;\n",
    "    tellheight = false, width = 200)\n",
    "\n",
    "func = Observable{Any}(funcs[1])\n",
    "\n",
    "ys = lift(func) do f\n",
    "    f.(0:0.3:10)\n",
    "end\n",
    "scat = scatter!(ax, ys, markersize = 10px, color = ys)\n",
    "\n",
    "cb = Colorbar(fig[1, 3], scat)\n",
    "\n",
    "on(menu.selection) do s\n",
    "    scat.colormap = s\n",
    "end\n",
    "notify(menu.selection)\n",
    "\n",
    "on(menu2.selection) do s\n",
    "    func[] = s\n",
    "    autolimits!(ax)\n",
    "end\n",
    "notify(menu2.selection)\n",
    "\n",
    "menu2.is_open = true\n",
    "\n",
    "display(fig)"
   ]
  },
  {
   "cell_type": "code",
   "execution_count": 59,
   "id": "a5e8f03b",
   "metadata": {},
   "outputs": [
    {
     "data": {
      "text/plain": [
       "GLMakie.Screen(...)"
      ]
     },
     "execution_count": 59,
     "metadata": {},
     "output_type": "execute_result"
    }
   ],
   "source": [
    "fig = Figure(resolution = (1080, 720))\n",
    "\n",
    "# Top level\n",
    "g_right = fig[1, 1] = GridLayout(alignmode=Outside(20))\n",
    "g_left = fig[1, 2] = GridLayout(alignmode=Inside())\n",
    "\n",
    "# force plot to have an aspect ratio of 1\n",
    "colsize!(fig.layout, 1, Aspect(1, 1.0))\n",
    "\n",
    "menu = Menu(fig, options = [\"Line Plot\", \"Scatter Plot\"], default = \"Scatter Plot\")\n",
    "\n",
    "funcs = [sqrt, x->x^2, sin, cos]\n",
    "\n",
    "menu2 = Menu(fig,\n",
    "    options = zip([\"Square Root\", \"Square\", \"Sine\", \"Cosine\"], funcs),\n",
    "    default = \"Square\")\n",
    "\n",
    "g_left[1,1] = vgrid!(\n",
    "    Label(fig, \"Colormap\", width = nothing),\n",
    "    menu,\n",
    "    Label(fig, \"Function\", width = nothing),\n",
    "    menu2;\n",
    "    tellheight = false, width = 200)\n",
    "\n",
    "plot_type_label = Label(g_left[2,1],\n",
    "    \"Plot type: \" * menu.selection[],\n",
    "    justification = :left,\n",
    "    lineheight = 0.9\n",
    ")\n",
    "\n",
    "# Right Grids - plots\n",
    "g_right_plots = GridLayout()\n",
    "\n",
    "plot_1 = Axis(fig)\n",
    "g_right_plots[1,1] = plot_1\n",
    "g_right[1, 1] = g_right_plots\n",
    "\n",
    "func = Observable{Any}(funcs[1])\n",
    "\n",
    "ys = lift(func) do f\n",
    "    f.(0:0.3:10)\n",
    "end\n",
    "\n",
    "# scat = scatter!(plot_1, ys, markersize = 10px, color = ys)\n",
    "scat = lines!(plot_1, ys, color = ys)\n",
    "\n",
    "on(menu.selection) do s\n",
    "    plot_type_label.text = s\n",
    "#      scat = scatter!(plot_1, ys, markersize = 10px, color = ys)\n",
    "end\n",
    "\n",
    "notify(menu.selection)\n",
    "\n",
    "on(menu2.selection) do s\n",
    "    func[] = s\n",
    "    autolimits!(ax)\n",
    "end\n",
    "notify(menu2.selection)\n",
    "\n",
    "menu2.is_open = true\n",
    "\n",
    "display(fig)"
   ]
  },
  {
   "cell_type": "code",
   "execution_count": 60,
   "id": "f76f2420",
   "metadata": {},
   "outputs": [
    {
     "data": {
      "text/plain": [
       "\"selvs\""
      ]
     },
     "execution_count": 60,
     "metadata": {},
     "output_type": "execute_result"
    }
   ],
   "source": []
  },
  {
   "cell_type": "code",
   "execution_count": 55,
   "id": "328df74e",
   "metadata": {},
   "outputs": [
    {
     "data": {
      "text/plain": [
       "String"
      ]
     },
     "execution_count": 55,
     "metadata": {},
     "output_type": "execute_result"
    }
   ],
   "source": [
    "typeof(\"Plot type: \")"
   ]
  },
  {
   "cell_type": "code",
   "execution_count": null,
   "id": "4ebcffeb",
   "metadata": {},
   "outputs": [],
   "source": []
  }
 ],
 "metadata": {
  "kernelspec": {
   "display_name": "Julia 1.8.3",
   "language": "julia",
   "name": "julia-1.8"
  },
  "language_info": {
   "file_extension": ".jl",
   "mimetype": "application/julia",
   "name": "julia",
   "version": "1.8.3"
  }
 },
 "nbformat": 4,
 "nbformat_minor": 5
}
