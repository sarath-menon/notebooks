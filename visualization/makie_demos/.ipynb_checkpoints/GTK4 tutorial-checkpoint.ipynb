{
 "cells": [
  {
   "cell_type": "code",
   "execution_count": 1,
   "id": "db005deb",
   "metadata": {},
   "outputs": [
    {
     "name": "stderr",
     "output_type": "stream",
     "text": [
      "\u001b[32m\u001b[1m  Activating\u001b[22m\u001b[39m project at `~/Downloads/notebooks/makie_demos`\n",
      "\u001b[32m\u001b[1mPrecompiling\u001b[22m\u001b[39m project...\n",
      "\u001b[32m  ✓ \u001b[39m\u001b[90mCircularArrays\u001b[39m\n",
      "\u001b[32m  ✓ \u001b[39m\u001b[90mTransformsBase\u001b[39m\n",
      "\u001b[32m  ✓ \u001b[39m\u001b[90mReferenceFrameRotations\u001b[39m\n",
      "\u001b[32m  ✓ \u001b[39m\u001b[90mNearestNeighbors\u001b[39m\n",
      "\u001b[32m  ✓ \u001b[39m\u001b[90mBessels\u001b[39m\n",
      "\u001b[32m  ✓ \u001b[39mMeshes\n",
      "\u001b[32m  ✓ \u001b[39mGtk4\n",
      "  7 dependencies successfully precompiled in 42 seconds. 224 already precompiled.\n"
     ]
    }
   ],
   "source": [
    "import Pkg; Pkg.activate(@__DIR__); Pkg.instantiate()"
   ]
  },
  {
   "cell_type": "code",
   "execution_count": 4,
   "id": "10e50626",
   "metadata": {},
   "outputs": [
    {
     "name": "stderr",
     "output_type": "stream",
     "text": [
      "\u001b[32m\u001b[1m    Updating\u001b[22m\u001b[39m registry at `~/.julia/registries/General.toml`\n",
      "\u001b[32m\u001b[1m   Resolving\u001b[22m\u001b[39m package versions...\n",
      "\u001b[32m\u001b[1m   Installed\u001b[22m\u001b[39m HypergeometricFunctions ─ v0.3.17\n",
      "\u001b[32m\u001b[1m   Installed\u001b[22m\u001b[39m FFTW ──────────────────── v1.7.0\n",
      "\u001b[32m\u001b[1m   Installed\u001b[22m\u001b[39m Ratios ────────────────── v0.4.5\n",
      "\u001b[32m\u001b[1m   Installed\u001b[22m\u001b[39m Gtk4Makie ─────────────── v0.1.0\n",
      "\u001b[32m\u001b[1m   Installed\u001b[22m\u001b[39m Parsers ───────────────── v2.7.0\n",
      "\u001b[32m\u001b[1m   Installed\u001b[22m\u001b[39m GLMakie ───────────────── v0.8.6\n",
      "\u001b[32m\u001b[1m   Installed\u001b[22m\u001b[39m StaticArrays ──────────── v1.5.26\n",
      "\u001b[32m\u001b[1m   Installed\u001b[22m\u001b[39m LogExpFunctions ───────── v0.3.24\n",
      "\u001b[32m\u001b[1m   Installed\u001b[22m\u001b[39m OpenSSL_jll ───────────── v1.1.21+0\n",
      "\u001b[32m\u001b[1m   Installed\u001b[22m\u001b[39m Pixman_jll ────────────── v0.42.2+0\n",
      "\u001b[32m\u001b[1m   Installed\u001b[22m\u001b[39m CairoMakie ────────────── v0.10.6\n",
      "\u001b[32m\u001b[1m   Installed\u001b[22m\u001b[39m IterTools ─────────────── v1.8.0\n",
      "\u001b[32m\u001b[1m   Installed\u001b[22m\u001b[39m FillArrays ────────────── v1.2.0\n",
      "\u001b[32m\u001b[1m   Installed\u001b[22m\u001b[39m Meshes ────────────────── v0.31.2\n",
      "\u001b[32m\u001b[1m   Installed\u001b[22m\u001b[39m Makie ─────────────────── v0.19.6\n",
      "\u001b[32m\u001b[1m    Updating\u001b[22m\u001b[39m `~/Downloads/notebooks/makie_demos/Project.toml`\n",
      " \u001b[90m [13f3f980] \u001b[39m\u001b[93m↑ CairoMakie v0.10.5 ⇒ v0.10.6\u001b[39m\n",
      " \u001b[90m [e9467ef8] \u001b[39m\u001b[93m↑ GLMakie v0.8.5 ⇒ v0.8.6\u001b[39m\n",
      " \u001b[90m [9db2cae5] \u001b[39m\u001b[93m↑ Gtk4 v0.3.5 ⇒ v0.4.0\u001b[39m\n",
      " \u001b[90m [478199e7] \u001b[39m\u001b[92m+ Gtk4Makie v0.1.0\u001b[39m\n",
      " \u001b[90m [eacbb407] \u001b[39m\u001b[93m↑ Meshes v0.28.1 ⇒ v0.31.2\u001b[39m\n",
      "\u001b[32m\u001b[1m    Updating\u001b[22m\u001b[39m `~/Downloads/notebooks/makie_demos/Manifest.toml`\n",
      " \u001b[90m [13f3f980] \u001b[39m\u001b[93m↑ CairoMakie v0.10.5 ⇒ v0.10.6\u001b[39m\n",
      " \u001b[90m [a8cc5b0e] \u001b[39m\u001b[91m- Crayons v4.1.1\u001b[39m\n",
      " \u001b[90m [31c24e10] \u001b[39m\u001b[93m↑ Distributions v0.25.93 ⇒ v0.25.95\u001b[39m\n",
      " \u001b[90m [7a1cc6ca] \u001b[39m\u001b[93m↑ FFTW v1.6.0 ⇒ v1.7.0\u001b[39m\n",
      " \u001b[90m [1a297f60] \u001b[39m\u001b[93m↑ FillArrays v1.0.1 ⇒ v1.2.0\u001b[39m\n",
      " \u001b[90m [e9467ef8] \u001b[39m\u001b[93m↑ GLMakie v0.8.5 ⇒ v0.8.6\u001b[39m\n",
      " \u001b[90m [46192b85] \u001b[39m\u001b[93m↑ GPUArraysCore v0.1.4 ⇒ v0.1.5\u001b[39m\n",
      " \u001b[90m [9db2cae5] \u001b[39m\u001b[93m↑ Gtk4 v0.3.5 ⇒ v0.4.0\u001b[39m\n",
      " \u001b[90m [478199e7] \u001b[39m\u001b[92m+ Gtk4Makie v0.1.0\u001b[39m\n",
      " \u001b[90m [34004b35] \u001b[39m\u001b[93m↑ HypergeometricFunctions v0.3.16 ⇒ v0.3.17\u001b[39m\n",
      " \u001b[90m [c8e1da08] \u001b[39m\u001b[93m↑ IterTools v1.4.0 ⇒ v1.8.0\u001b[39m\n",
      " \u001b[90m [2ab3a3ac] \u001b[39m\u001b[93m↑ LogExpFunctions v0.3.23 ⇒ v0.3.24\u001b[39m\n",
      " \u001b[90m [ee78f7c6] \u001b[39m\u001b[93m↑ Makie v0.19.5 ⇒ v0.19.6\u001b[39m\n",
      " \u001b[90m [eacbb407] \u001b[39m\u001b[93m↑ Meshes v0.28.1 ⇒ v0.31.2\u001b[39m\n",
      " \u001b[90m [69de0a69] \u001b[39m\u001b[93m↑ Parsers v2.5.10 ⇒ v2.7.0\u001b[39m\n",
      " \u001b[90m [aea7be01] \u001b[39m\u001b[93m↑ PrecompileTools v1.1.1 ⇒ v1.1.2\u001b[39m\n",
      " \u001b[90m [c84ed2f1] \u001b[39m\u001b[93m↑ Ratios v0.4.4 ⇒ v0.4.5\u001b[39m\n",
      " \u001b[90m [74f56ac7] \u001b[39m\u001b[91m- ReferenceFrameRotations v3.0.0\u001b[39m\n",
      " \u001b[90m [90137ffa] \u001b[39m\u001b[93m↑ StaticArrays v1.5.25 ⇒ v1.5.26\u001b[39m\n",
      " \u001b[90m [2913bbd2] \u001b[39m\u001b[93m↑ StatsBase v0.33.21 ⇒ v0.34.0\u001b[39m\n",
      " \u001b[90m [1d63c593] \u001b[39m\u001b[92m+ LLVMOpenMP_jll v15.0.4+0\u001b[39m\n",
      "\u001b[33m⌅\u001b[39m\u001b[90m [458c3c95] \u001b[39m\u001b[93m↑ OpenSSL_jll v1.1.20+0 ⇒ v1.1.21+0\u001b[39m\n",
      " \u001b[90m [30392449] \u001b[39m\u001b[93m↑ Pixman_jll v0.40.1+0 ⇒ v0.42.2+0\u001b[39m\n",
      "\u001b[36m\u001b[1m        Info\u001b[22m\u001b[39m Packages marked with \u001b[33m⌅\u001b[39m have new versions available but compatibility constraints restrict them from upgrading. To see why use `status --outdated -m`\n",
      "\u001b[32m\u001b[1mPrecompiling\u001b[22m\u001b[39m project...\n",
      "\u001b[32m  ✓ \u001b[39m\u001b[90mRatios\u001b[39m\n",
      "\u001b[32m  ✓ \u001b[39m\u001b[90mIterTools\u001b[39m\n",
      "\u001b[32m  ✓ \u001b[39m\u001b[90mOpenSSL_jll\u001b[39m\n",
      "\u001b[32m  ✓ \u001b[39m\u001b[90mFillArrays\u001b[39m\n",
      "\u001b[32m  ✓ \u001b[39m\u001b[90mPixman_jll\u001b[39m\n",
      "\u001b[32m  ✓ \u001b[39m\u001b[90mLogExpFunctions\u001b[39m\n",
      "\u001b[32m  ✓ \u001b[39m\u001b[90mCairo_jll\u001b[39m\n",
      "\u001b[32m  ✓ \u001b[39m\u001b[90mAxisArrays\u001b[39m\n",
      "\u001b[32m  ✓ \u001b[39m\u001b[90mStatsBase\u001b[39m\n",
      "\u001b[32m  ✓ \u001b[39m\u001b[90mHarfBuzz_jll\u001b[39m\n",
      "\u001b[32m  ✓ \u001b[39m\u001b[90mFFTW\u001b[39m\n",
      "\u001b[32m  ✓ \u001b[39m\u001b[90mlibass_jll\u001b[39m\n",
      "\u001b[32m  ✓ \u001b[39m\u001b[90mPango_jll\u001b[39m\n",
      "\u001b[32m  ✓ \u001b[39m\u001b[90mFFMPEG_jll\u001b[39m\n",
      "\u001b[32m  ✓ \u001b[39m\u001b[90mSpecialFunctions\u001b[39m\n",
      "\u001b[32m  ✓ \u001b[39m\u001b[90mLibrsvg_jll\u001b[39m\n",
      "\u001b[32m  ✓ \u001b[39m\u001b[90mGTK4_jll\u001b[39m\n",
      "\u001b[32m  ✓ \u001b[39m\u001b[90mFFMPEG\u001b[39m\n",
      "\u001b[32m  ✓ \u001b[39m\u001b[90mStaticArrays\u001b[39m\n",
      "\u001b[32m  ✓ \u001b[39m\u001b[90mDualNumbers\u001b[39m\n",
      "\u001b[32m  ✓ \u001b[39m\u001b[90mCairo\u001b[39m\n",
      "\u001b[32m  ✓ \u001b[39m\u001b[90mNearestNeighbors\u001b[39m\n",
      "\u001b[32m  ✓ \u001b[39m\u001b[90mColorVectorSpace\u001b[39m\n",
      "\u001b[32m  ✓ \u001b[39mRotations\n",
      "\u001b[32m  ✓ \u001b[39m\u001b[90mInterpolations\u001b[39m\n",
      "\u001b[32m  ✓ \u001b[39m\u001b[90mHypergeometricFunctions\u001b[39m\n",
      "\u001b[33m  ✓ \u001b[39m\u001b[90mParsers\u001b[39m\n",
      "\u001b[32m  ✓ \u001b[39mGeometryBasics\n",
      "\u001b[32m  ✓ \u001b[39m\u001b[90mColorSchemes\u001b[39m\n",
      "\u001b[32m  ✓ \u001b[39mMeshes\n",
      "\u001b[33m  ✓ \u001b[39m\u001b[90mJSON\u001b[39m\n",
      "\u001b[32m  ✓ \u001b[39m\u001b[90mStatsFuns\u001b[39m\n",
      "\u001b[32m  ✓ \u001b[39m\u001b[90mPacking\u001b[39m\n",
      "\u001b[32m  ✓ \u001b[39m\u001b[90mMeshIO\u001b[39m\n",
      "\u001b[32m  ✓ \u001b[39mShaderAbstractions\n",
      "\u001b[32m  ✓ \u001b[39m\u001b[90mGridLayoutBase\u001b[39m\n",
      "\u001b[32m  ✓ \u001b[39m\u001b[90mColorBrewer\u001b[39m\n",
      "\u001b[32m  ✓ \u001b[39m\u001b[90mFreeTypeAbstraction\u001b[39m\n",
      "\u001b[32m  ✓ \u001b[39mGtk4\n",
      "\u001b[32m  ✓ \u001b[39m\u001b[90mPlotUtils\u001b[39m\n",
      "\u001b[32m  ✓ \u001b[39m\u001b[90mDistributions\u001b[39m\n",
      "\u001b[32m  ✓ \u001b[39m\u001b[90mImageCore\u001b[39m\n",
      "\u001b[32m  ✓ \u001b[39m\u001b[90mKernelDensity\u001b[39m\n",
      "\u001b[32m  ✓ \u001b[39m\u001b[90mImageBase\u001b[39m\n",
      "\u001b[32m  ✓ \u001b[39m\u001b[90mSixel\u001b[39m\n",
      "\u001b[32m  ✓ \u001b[39m\u001b[90mJpegTurbo\u001b[39m\n",
      "\u001b[32m  ✓ \u001b[39m\u001b[90mPNGFiles\u001b[39m\n",
      "\u001b[32m  ✓ \u001b[39m\u001b[90mImageAxes\u001b[39m\n",
      "\u001b[32m  ✓ \u001b[39m\u001b[90mImageMetadata\u001b[39m\n",
      "\u001b[32m  ✓ \u001b[39m\u001b[90mMathTeXEngine\u001b[39m\n",
      "\u001b[32m  ✓ \u001b[39m\u001b[90mNetpbm\u001b[39m\n",
      "\u001b[32m  ✓ \u001b[39m\u001b[90mImageIO\u001b[39m\n",
      "\u001b[32m  ✓ \u001b[39m\u001b[90mMakie\u001b[39m\n",
      "\u001b[32m  ✓ \u001b[39mCairoMakie\n",
      "\u001b[32m  ✓ \u001b[39mGLMakie\n",
      "\u001b[32m  ✓ \u001b[39mGtk4Makie\n",
      "  56 dependencies successfully precompiled in 572 seconds. 175 already precompiled.\n",
      "  \u001b[33m2\u001b[39m dependencies precompiled but different versions are currently loaded. Restart julia to access the new versions\n"
     ]
    }
   ],
   "source": [
    "# Pkg.add(\"Gtk4Makie\")"
   ]
  },
  {
   "cell_type": "code",
   "execution_count": 7,
   "id": "b3a4f7a4",
   "metadata": {},
   "outputs": [],
   "source": [
    "using Gtk4, Gtk4.GLib"
   ]
  },
  {
   "cell_type": "markdown",
   "id": "c1680508",
   "metadata": {},
   "source": [
    "## Basic example"
   ]
  },
  {
   "cell_type": "code",
   "execution_count": 3,
   "id": "75088b53",
   "metadata": {},
   "outputs": [
    {
     "data": {
      "text/plain": [
       "true"
      ]
     },
     "execution_count": 3,
     "metadata": {},
     "output_type": "execute_result"
    }
   ],
   "source": [
    "# create window\n",
    "window = GtkWindow(\"My First Gtk4.jl Program\", 400, 200)\n",
    "\n",
    "# set window title\n",
    "set_gtk_property!(window, :title, \"Demo Window\")\n",
    "\n",
    "# # launch on fullscreen\n",
    "# set_gtk_property!(window, :fullscreened, true)\n",
    "\n",
    "# create horizontal layout\n",
    "vbox = GtkBox(:v)\n",
    "push!(window, vbox)\n",
    "\n",
    "# create buttons\n",
    "btn = GtkButton(\"Click Me\")\n",
    "cancel = GtkButton(\"Cancel\")\n",
    "ok = GtkButton(\"OK\")\n",
    "\n",
    "# add spacing btw elements in vertical layout\n",
    "vbox.spacing = 10\n",
    "\n",
    "# insert button into the ui\n",
    "push!(vbox, cancel)\n",
    "push!(vbox,btn)\n",
    "push!(vbox, ok)\n",
    "\n",
    "# make ok button fill available space\n",
    "ok.hexpand = true\n",
    "\n",
    "vbox.homogeneous = true"
   ]
  },
  {
   "cell_type": "markdown",
   "id": "f536f605",
   "metadata": {},
   "source": [
    "### add callback"
   ]
  },
  {
   "cell_type": "code",
   "execution_count": 4,
   "id": "14cc52b2",
   "metadata": {},
   "outputs": [
    {
     "name": "stdout",
     "output_type": "stream",
     "text": [
      "The button has been clicked\n"
     ]
    }
   ],
   "source": [
    "function on_button_clicked(btn)\n",
    "  println(\"The button has been clicked\")\n",
    "end\n",
    "\n",
    "signal_connect(on_button_clicked, btn, \"clicked\");"
   ]
  },
  {
   "cell_type": "markdown",
   "id": "09a76282",
   "metadata": {},
   "source": [
    "# Layouts"
   ]
  },
  {
   "cell_type": "markdown",
   "id": "b0b22def",
   "metadata": {},
   "source": [
    "### Grid layout"
   ]
  },
  {
   "cell_type": "code",
   "execution_count": 5,
   "id": "9cd6d8f5",
   "metadata": {},
   "outputs": [],
   "source": [
    "win = GtkWindow(\"Grid layout example\", 400, 400)\n",
    "g = GtkGrid()\n",
    "a = GtkEntry()  # a widget for entering text\n",
    "a.text = \"This is Gtk!\"\n",
    "b = GtkCheckButton(\"Check me!\")\n",
    "\n",
    "# slider \n",
    "slider1 = GtkScale(:h, 0:10)   \n",
    "slider2 = GtkScale(:h, 0:10)   \n",
    "\n",
    "# label\n",
    "label = GtkLabel(\"Label 1\")\n",
    "\n",
    "# text entry \n",
    "text_entry = GtkEntry()\n",
    "text_entry.text = \"Text entry\"\n",
    "\n",
    "# text view\n",
    "text_buffer = GtkTextBuffer()\n",
    "text_box = GtkTextView(text_buffer)\n",
    "text_buffer.text = \"Selva\"\n",
    "\n",
    "# Level bar\n",
    "level_bar = GtkLevelBar()\n",
    "set_gtk_property!(level_bar, :value, 8)\n",
    "set_gtk_property!(level_bar, :max_value, 10.0)\n",
    "\n",
    "# Now let's place these graphical elements into the Grid:\n",
    "g[1,1] = a    # Cartesian coordinates, g[x,y]\n",
    "g[2,1] = b\n",
    "g[1:2,2] = slider1  # spans both columns\n",
    "g[1:2,3] = label  # spans both columns\n",
    "g[1:2,4] = text_entry  # spans both columns\n",
    "g[1:2,5] = level_bar\n",
    "\n",
    "g.column_homogeneous = true # grid forces columns to have the same width\n",
    "g.column_spacing = 15  # introduce a 15-pixel gap between columns\n",
    "g.row_spacing = 15  # introduce a 15-pixel gap between columns\n",
    "push!(win, g);\n",
    "\n",
    "# push!(win, text_box);"
   ]
  },
  {
   "cell_type": "markdown",
   "id": "5e73c7a5",
   "metadata": {},
   "source": [
    "### Scrollable window"
   ]
  },
  {
   "cell_type": "code",
   "execution_count": 6,
   "id": "e5b74e5c",
   "metadata": {},
   "outputs": [],
   "source": [
    "win = GtkWindow(\"Scroller\", 100, 400)\n",
    "\n",
    "const logwindow = GtkScrolledWindow()\n",
    "const logtxt = GtkTextBuffer()\n",
    "\n",
    "logtxt.text = \"Random text.\"\n",
    "const tview = GtkTextView(logtxt)\n",
    "\n",
    "set_gtk_property!(logwindow, :child, tview)\n",
    "logwindow.child = tview\n",
    "push!(win, logwindow);"
   ]
  },
  {
   "cell_type": "markdown",
   "id": "26aa791b",
   "metadata": {},
   "source": [
    "### Notebook - Overhead tab menu"
   ]
  },
  {
   "cell_type": "code",
   "execution_count": 7,
   "id": "b51aa474",
   "metadata": {},
   "outputs": [],
   "source": [
    "win = GtkWindow(\"A new window\")\n",
    "\n",
    "nb = GtkNotebook()\n",
    "vbox = GtkBox(:v)\n",
    "hbox = GtkBox(:h)\n",
    "push!(nb, vbox, \"Vertical\")  # here \"Vertical\" is the label for the tab\n",
    "push!(nb, hbox, \"Horizontal\")\n",
    "\n",
    "push!(win, nb);"
   ]
  },
  {
   "cell_type": "markdown",
   "id": "157784b6",
   "metadata": {},
   "source": [
    "# Menu"
   ]
  },
  {
   "cell_type": "markdown",
   "id": "81ba0f04",
   "metadata": {},
   "source": [
    "### Stack - Overhead tab menu"
   ]
  },
  {
   "cell_type": "code",
   "execution_count": 8,
   "id": "b41a3b0f",
   "metadata": {},
   "outputs": [],
   "source": [
    "b = GtkBox(:v)\n",
    "w = GtkWindow(b, \"Stack\")\n",
    "sw = GtkStackSwitcher()\n",
    "push!(b,sw)\n",
    "stack = GtkStack()\n",
    "push!(b,stack)\n",
    "Gtk4.stack(sw, stack)\n",
    "\n",
    "label1 = GtkLabel(\"Label 1\")\n",
    "push!(stack, label1, \"titled1\", \"Tab 1\")\n",
    "\n",
    "box = GtkBox(:v)\n",
    "slider2 = GtkScale(:h, 0:10)   \n",
    "slider3 = GtkScale(:h, 0:10)   \n",
    "push!(box,slider2)\n",
    "push!(box,slider3) \n",
    "push!(stack, box, \"titled2\", \"Tab 2\")\n",
    "\n",
    "show(w);"
   ]
  },
  {
   "cell_type": "markdown",
   "id": "80155a2c",
   "metadata": {},
   "source": [
    "### Dropdown"
   ]
  },
  {
   "cell_type": "code",
   "execution_count": 9,
   "id": "426b50cc",
   "metadata": {},
   "outputs": [],
   "source": [
    "choices = [\"one\", \"two\", \"three\", \"four\"]\n",
    "dd = GtkDropDown(choices)\n",
    "# Let's set the active element to be \"two\", keeping in mind that the \"selected\" property uses 0 based indexing\n",
    "dd.selected = 1\n",
    "\n",
    "signal_connect(dd, \"notify::selected\") do widget, others...\n",
    "  # get the active index\n",
    "  idx = dd.selected\n",
    "  # get the active string\n",
    "  str = Gtk4.selected_string(dd)\n",
    "  println(\"Active element is \\\"$str\\\" at index $idx\")\n",
    "end\n",
    "\n",
    "win = GtkWindow(\"DropDown Example\",400,200)\n",
    "push!(win, dd);"
   ]
  },
  {
   "cell_type": "markdown",
   "id": "fa1f1ee0",
   "metadata": {},
   "source": [
    "# Data viewing"
   ]
  },
  {
   "cell_type": "markdown",
   "id": "7a48c766",
   "metadata": {},
   "source": [
    "### List view"
   ]
  },
  {
   "cell_type": "code",
   "execution_count": 10,
   "id": "28b50d70",
   "metadata": {},
   "outputs": [],
   "source": [
    "win = GtkWindow(\"A new window\")\n",
    "\n",
    "vbox = GtkBox(:v)\n",
    "\n",
    "# list to store data\n",
    "ls = GtkListStore(String, Int, Bool)\n",
    "push!(ls,(\"Peter\",20,false))\n",
    "push!(ls,(\"Paul\",30,false))\n",
    "push!(ls,(\"Mary\",25,true))\n",
    "\n",
    "# treeview to display data\n",
    "tv = GtkTreeView(GtkTreeModel(ls))\n",
    "# renderers for each column \n",
    "rTxt = GtkCellRendererText()\n",
    "rTog = GtkCellRendererToggle()\n",
    "\n",
    "# the actual data\n",
    "c1 = GtkTreeViewColumn(\"Name\", rTxt, Dict([(\"text\",0)]))\n",
    "c2 = GtkTreeViewColumn(\"Age\", rTxt, Dict([(\"text\",1)]))\n",
    "c3 = GtkTreeViewColumn(\"Female\", rTog, Dict([(\"active\",2)]))\n",
    "\n",
    "push!(tv, c1, c2, c3)\n",
    "push!(vbox, tv)\n",
    "\n",
    "\n",
    "push!(win, vbox);"
   ]
  },
  {
   "cell_type": "markdown",
   "id": "a74d9d6f",
   "metadata": {},
   "source": [
    "### Tree view"
   ]
  },
  {
   "cell_type": "code",
   "execution_count": 11,
   "id": "89f400c8",
   "metadata": {},
   "outputs": [
    {
     "data": {
      "text/plain": [
       "\"ONE\""
      ]
     },
     "execution_count": 11,
     "metadata": {},
     "output_type": "execute_result"
    }
   ],
   "source": [
    "ts = GtkTreeStore(String)\n",
    "iter1 = push!(ts,(\"one\",))\n",
    "iter2 = push!(ts,(\"two\",),iter1)\n",
    "iter3 = push!(ts,(\"three\",),iter2)\n",
    "tv = GtkTreeView(GtkTreeModel(ts))\n",
    "r1 = GtkCellRendererText()\n",
    "c1 = GtkTreeViewColumn(\"A\", r1, Dict([(\"text\",0)]))\n",
    "push!(tv,c1)\n",
    "win = GtkWindow(tv, \"Tree View\")\n",
    "\n",
    "iter = Gtk4.iter_from_index(ts, [1])\n",
    "ts[iter,1] = \"ONE\""
   ]
  },
  {
   "cell_type": "markdown",
   "id": "20bccf11",
   "metadata": {},
   "source": [
    "# Dialog boxes"
   ]
  },
  {
   "cell_type": "code",
   "execution_count": 12,
   "id": "f7023fe2",
   "metadata": {},
   "outputs": [
    {
     "data": {
      "text/plain": [
       "0x0000000000000543"
      ]
     },
     "execution_count": 12,
     "metadata": {},
     "output_type": "execute_result"
    }
   ],
   "source": [
    "main_window = GtkWindow(\"Dialog example\")\n",
    "box = GtkBox(:v)\n",
    "main_window[]=box\n",
    "info_dialog_button = GtkButton(\"Info dialog\")\n",
    "push!(box,info_dialog_button)\n",
    "\n",
    "function open_info_dialog(b, user_data)\n",
    "    info_dialog(\"Here's some information\",main_window) do\n",
    "        nothing\n",
    "    end\n",
    "    nothing\n",
    "end\n",
    "\n",
    "Gtk4.on_signal_clicked(open_info_dialog, info_dialog_button)\n",
    "\n",
    "## Question dialog\n",
    "\n",
    "question_dialog_button = GtkButton(\"Question dialog\")\n",
    "push!(box,question_dialog_button)\n",
    "\n",
    "function open_question_dialog(b)\n",
    "    ask_dialog(\"May I ask you a question?\",\"No\",\"Yes\",main_window) do ans\n",
    "        @async println(\"You answered $ans\")\n",
    "    end\n",
    "end\n",
    "\n",
    "signal_connect(open_question_dialog,question_dialog_button,\"clicked\")\n",
    "\n",
    "## Input dialog\n",
    "\n",
    "input_dialog_button = GtkButton(\"Input dialog\")\n",
    "push!(box, input_dialog_button)\n",
    "\n",
    "function open_input_dialog(b)\n",
    "    input_dialog(\"Enter your information\", \"\") do t\n",
    "        @async println(\"response was \",t)\n",
    "    end\n",
    "end\n",
    "\n",
    "signal_connect(open_input_dialog,input_dialog_button,\"clicked\")\n",
    "\n",
    "## File open dialog\n",
    "\n",
    "file_open_dialog_button = GtkButton(\"File open dialog\")\n",
    "push!(box,file_open_dialog_button)\n",
    "\n",
    "function open_file_open_dialog(b)\n",
    "    open_dialog(\"Select a file to open\",main_window) do filename\n",
    "        @async println(\"selection was \", filename)\n",
    "    end\n",
    "end\n",
    "\n",
    "signal_connect(open_file_open_dialog,file_open_dialog_button,\"clicked\")\n",
    "\n",
    "## File open dialog (with a *.png filter)\n",
    "\n",
    "png_open_dialog_button = GtkButton(\"PNG open dialog\")\n",
    "push!(box,png_open_dialog_button)\n",
    "\n",
    "function open_png_open_dialog(b)\n",
    "    open_dialog(\"Select a file to open\",main_window,[\"*.png\"]) do filename\n",
    "        @async println(\"selection was \", filename)\n",
    "    end\n",
    "end\n",
    "\n",
    "signal_connect(open_png_open_dialog,png_open_dialog_button,\"clicked\")\n",
    "\n",
    "## File save dialog\n",
    "\n",
    "file_save_dialog_button = GtkButton(\"File save dialog\")\n",
    "push!(box,file_save_dialog_button)\n",
    "\n",
    "function open_file_save_dialog(b)\n",
    "    save_dialog(\"Save file\",main_window) do filename\n",
    "        @async println(\"selection was \", filename)\n",
    "    end\n",
    "end\n",
    "\n",
    "signal_connect(open_file_save_dialog,file_save_dialog_button,\"clicked\")\n",
    "\n",
    "## Color chooser dialog\n",
    "\n",
    "color_dialog_button = GtkButton(\"Color chooser dialog\")\n",
    "push!(box,color_dialog_button)\n",
    "\n",
    "function open_color_dialog(b)\n",
    "    color_dialog(\"Pick a color\",main_window) do selection\n",
    "        @async println(\"selection was \",selection)\n",
    "    end\n",
    "end\n",
    "\n",
    "signal_connect(open_color_dialog,color_dialog_button,\"clicked\")"
   ]
  },
  {
   "cell_type": "markdown",
   "id": "2cd48e21",
   "metadata": {},
   "source": [
    "### Paned window"
   ]
  },
  {
   "cell_type": "code",
   "execution_count": 13,
   "id": "7b4d4af6",
   "metadata": {},
   "outputs": [],
   "source": [
    "pw = GtkPaned(:h)\n",
    "w = GtkWindow(pw,\"Panedwindow\", 400, 400)\n",
    "pw2 = GtkPaned(:v)\n",
    "pw[1]=GtkButton(\"one\")\n",
    "pw[2]=pw2\n",
    "\n",
    "pw2[1]=GtkButton(\"two\")\n",
    "pw2[2]=GtkButton()\n",
    "pw2[2][]=GtkLabel(\"three\")\n",
    "\n",
    "show(w);"
   ]
  },
  {
   "cell_type": "markdown",
   "id": "64167d36",
   "metadata": {},
   "source": [
    "### Menubar"
   ]
  },
  {
   "cell_type": "code",
   "execution_count": 14,
   "id": "2ade641e",
   "metadata": {},
   "outputs": [
    {
     "name": "stdout",
     "output_type": "stream",
     "text": [
      "You answered false\n"
     ]
    }
   ],
   "source": [
    "win = GtkWindow(\"toolbar\", 800, 600)\n",
    "\n",
    "menu = Gtk4.GMenu()\n",
    "label1 = GtkLabel(\"selva\")\n",
    "\n",
    "file = GMenuItem(\"file\")\n",
    "filemenu = GMenu(file)\n",
    "new_ = GMenuItem(\"New\")\n",
    "push!(filemenu, new_)\n",
    "push!(menu, file)\n",
    "\n",
    "menu_bar = Gtk4.G_.PopoverMenuBar_new_from_model(menu)\n",
    "push!(win, menu_bar);"
   ]
  },
  {
   "cell_type": "markdown",
   "id": "55dac05e",
   "metadata": {},
   "source": [
    "# GTKGLArea - GLMakie"
   ]
  },
  {
   "cell_type": "code",
   "execution_count": 23,
   "id": "e772033b",
   "metadata": {},
   "outputs": [],
   "source": [
    "using Gtk4.GLib: GObject, signal_handler_is_connected, signal_handler_disconnect\n",
    "using ModernGL, GLMakie, Colors, GeometryBasics, ShaderAbstractions\n",
    "using GLMakie.GLAbstraction\n",
    "using GLMakie.Makie\n",
    "using GLMakie: empty_postprocessor, fxaa_postprocessor, to_screen_postprocessor"
   ]
  },
  {
   "cell_type": "code",
   "execution_count": 24,
   "id": "62250484",
   "metadata": {},
   "outputs": [],
   "source": [
    "function plot_makie()::Figure\n",
    "    fig = Figure()\n",
    "    ax = Axis(fig[1, 1])\n",
    "    \n",
    "    x = range(0, 10, length=100)\n",
    "    y = sin.(x)\n",
    "    scatter!(ax, x, y)\n",
    "    return fig\n",
    "end\n",
    "\n",
    "fig = plot_makie();"
   ]
  },
  {
   "cell_type": "code",
   "execution_count": 25,
   "id": "fa71be4c",
   "metadata": {},
   "outputs": [
    {
     "name": "stderr",
     "output_type": "stream",
     "text": [
      "WARNING: redefinition of constant screens. This may fail, cause incorrect answers, or produce other errors.\n"
     ]
    },
    {
     "data": {
      "text/plain": [
       "GLMakie.Screen(...)"
      ]
     },
     "execution_count": 25,
     "metadata": {},
     "output_type": "execute_result"
    }
   ],
   "source": [
    "include(\"src/screen.jl\")\n",
    "include(\"src/events.jl\")\n",
    "\n",
    "screen = GTKScreen(resolution=(800, 800))\n",
    "display(screen, fig)"
   ]
  },
  {
   "cell_type": "markdown",
   "id": "7cc861d2",
   "metadata": {},
   "source": [
    "# GTK Builder"
   ]
  },
  {
   "cell_type": "code",
   "execution_count": 26,
   "id": "5c7a2dfd",
   "metadata": {},
   "outputs": [
    {
     "data": {
      "text/plain": [
       "Gtk4.GtkBuilderLeaf(current-object, scope, translation-domain=nothing)"
      ]
     },
     "execution_count": 26,
     "metadata": {},
     "output_type": "execute_result"
    }
   ],
   "source": [
    "b = GtkBuilder(filename=\"myapp.ui\")"
   ]
  },
  {
   "cell_type": "code",
   "execution_count": 27,
   "id": "f532708f",
   "metadata": {},
   "outputs": [],
   "source": [
    "win = b[\"window1\"]\n",
    "show(win);"
   ]
  },
  {
   "cell_type": "code",
   "execution_count": 28,
   "id": "8a5d0813",
   "metadata": {},
   "outputs": [],
   "source": [
    "@load_builder(GtkBuilder(filename=\"myapp.ui\"))"
   ]
  },
  {
   "cell_type": "markdown",
   "id": "50b0b6fa",
   "metadata": {},
   "source": [
    "# Cairomakie plot"
   ]
  },
  {
   "cell_type": "code",
   "execution_count": 29,
   "id": "58e1e19b",
   "metadata": {},
   "outputs": [],
   "source": [
    "using CairoMakie, Makie\n",
    "using FileIO\n",
    "\n",
    "canvas = GtkCanvas()\n",
    "window = GtkWindow(\"Makie\", 500, 500)\n",
    "\n",
    "function drawonto(canvas, figure)\n",
    "    @guarded draw(canvas) do _\n",
    "        scene = figure.scene\n",
    "        resize!(scene, Gtk4.width(canvas), Gtk4.height(canvas))\n",
    "        config = CairoMakie.ScreenConfig(1.0, 1.0, :good, true, true)\n",
    "        screen = CairoMakie.Screen(scene, config, Gtk4.cairo_surface(canvas))\n",
    "        CairoMakie.cairo_draw(screen, scene)\n",
    "    end\n",
    "end\n",
    "\n",
    "# 2d plot\n",
    "# fig, ax, pl = heatmap(rand(50, 50)) # or something\n",
    "\n",
    "# 3d plot\n",
    "brain = load(assetpath(\"brain.stl\"))\n",
    "fig, ax, pl = mesh(\n",
    "    brain,\n",
    "    color = [tri[1][2] for tri in brain for i in 1:3],\n",
    "    colormap = Reverse(:Spectral),\n",
    "    figure = (resolution = (1000, 1000),)\n",
    ");\n",
    "\n",
    "drawonto(canvas, fig)\n",
    "box = GtkBox(:v)\n",
    "slider1 = GtkScale(:h, 0:10)   \n",
    "\n",
    "push!(box, slider1)\n",
    "push!(box, canvas)\n",
    "push!(window,box)\n",
    "\n",
    "set_gtk_property!(canvas,:hexpand,true)\n",
    "set_gtk_property!(canvas,:vexpand,true)\n",
    "\n",
    "show(canvas);\n",
    "show(box);\n",
    "show(window); # trigger rendering"
   ]
  },
  {
   "cell_type": "markdown",
   "id": "fa79bd78",
   "metadata": {},
   "source": [
    "## GLMakie"
   ]
  },
  {
   "cell_type": "code",
   "execution_count": 6,
   "id": "a7a15ade",
   "metadata": {},
   "outputs": [
    {
     "name": "stderr",
     "output_type": "stream",
     "text": [
      "\u001b[36m\u001b[1m[ \u001b[22m\u001b[39m\u001b[36m\u001b[1mInfo: \u001b[22m\u001b[39mPrecompiling Gtk4Makie [478199e7-b407-4926-87ea-7196203a28d8]\n"
     ]
    },
    {
     "ename": "LoadError",
     "evalue": "UndefVarError: scatter not defined",
     "output_type": "error",
     "traceback": [
      "UndefVarError: scatter not defined",
      "",
      "Stacktrace:",
      " [1] top-level scope",
      "   @ In[6]:4"
     ]
    }
   ],
   "source": [
    "using Gtk4Makie\n",
    "\n",
    "screen = Gtk4Makie.GTKScreen(resolution=(800, 800))\n",
    "display(screen, scatter(1:4))"
   ]
  },
  {
   "cell_type": "markdown",
   "id": "ddcff130",
   "metadata": {},
   "source": [
    "### cabvas documentation example with box"
   ]
  },
  {
   "cell_type": "code",
   "execution_count": 32,
   "id": "061d1478",
   "metadata": {},
   "outputs": [],
   "source": [
    "using Graphics\n",
    "height = Graphics.height\n",
    "width = Graphics.width\n",
    "\n",
    "c = GtkCanvas()\n",
    "c.hexpand = c.vexpand = true\n",
    "window = GtkWindow(\"Canvas\")\n",
    "\n",
    "@guarded draw(c) do widget\n",
    "    ctx = getgc(c)\n",
    "    h = height(c)\n",
    "    w = width(c)\n",
    "    # Paint red rectangle\n",
    "    rectangle(ctx, 0, 0, w, h/2)\n",
    "    set_source_rgb(ctx, 1, 0, 0)\n",
    "    fill(ctx)\n",
    "    # Paint blue rectangle\n",
    "    rectangle(ctx, 0, 3h/4, w, h/4)\n",
    "    set_source_rgb(ctx, 0, 0, 1)\n",
    "    fill(ctx)\n",
    "end\n",
    "\n",
    "#\n",
    "box = GtkBox(:v) \n",
    "push!(box, c)\n",
    "\n",
    "slider1 = GtkScale(:h, 0:10)   \n",
    "push!(box, slider1)\n",
    "\n",
    "push!(window,box)\n",
    "\n",
    "show(window); # trigger rendering"
   ]
  },
  {
   "cell_type": "markdown",
   "id": "e1fbc9d9",
   "metadata": {},
   "source": [
    "# GTK Demo App"
   ]
  },
  {
   "cell_type": "code",
   "execution_count": 33,
   "id": "e498e5d9",
   "metadata": {},
   "outputs": [
    {
     "name": "stderr",
     "output_type": "stream",
     "text": [
      "\n",
      "(process:2199): Gtk-WARNING **: 12:45:30.806: Theme parser error: <broken file>:1:1: Error opening file /Users/sarathmenon/Downloads/notebooks/makie_demos/style.css: No such file or directory\n"
     ]
    }
   ],
   "source": [
    "window = GtkWindow(\"A new window\", 800, 800)\n",
    "\n",
    "# add css file\n",
    "style_file = joinpath(dirname(Base.source_path()), \"style.css\")\n",
    "provider = GtkCssProvider(filename = style_file)\n",
    "Gtk4.G_.add_provider_for_display(Gtk4.G_.get_display(window), GtkStyleProvider(provider), 1)\n",
    "\n",
    "hbox = GtkBox(:h)\n",
    "menu_btn = Gtk4.G_.MenuButton_new()\n",
    "menu_btn.icon_name = \"open-menu\"\n",
    "\n",
    "popover = Gtk4.G_.Popover_new()\n",
    "set_gtk_property!(menu_btn, :popover, popover)\n",
    "label1 = GtkLabel(\"selva\")\n",
    "set_gtk_property!(popover, :child, label1)\n",
    "set_gtk_property!(popover, :has_arrow, false)\n",
    "\n",
    "top_stack = GtkStack()\n",
    "top_stack_sw = GtkStackSwitcher()\n",
    "header = GtkHeaderBar()\n",
    "\n",
    "push!(hbox, top_stack_sw)\n",
    "\n",
    "# create dropdown menu\n",
    "choices = [\"plotter\", \"logger\"]\n",
    "dd = GtkDropDown(choices)\n",
    "# Let's set the active element to be \"two\", keeping in mind that the \"selected\" property uses 0 based indexing\n",
    "dd.selected = 0\n",
    "\n",
    "# create menu bar\n",
    "menu = Gtk4.GMenu()\n",
    "file = GMenuItem(\"file\")\n",
    "filemenu = GMenu(file)\n",
    "new_ = GMenuItem(\"New\")\n",
    "push!(filemenu, new_)\n",
    "push!(menu, file)\n",
    "\n",
    "menu_bar = Gtk4.G_.PopoverMenuBar_new_from_model(menu)\n",
    "\n",
    "signal_connect(dd, \"notify::selected\") do widget, others...\n",
    "  # get the active index\n",
    "  idx = dd.selected\n",
    "  # get the active string\n",
    "  str = Gtk4.selected_string(dd)\n",
    "  println(\"Active element is \\\"$str\\\" at index $idx\")\n",
    "end\n",
    "\n",
    "# add menu button to end of the header \n",
    "Gtk4.G_.pack_end(header, menu_btn)\n",
    "Gtk4.G_.pack_end(header, dd)\n",
    "\n",
    "# add dropdown menu to start of the header \n",
    "Gtk4.G_.pack_start(header, menu_bar)\n",
    "\n",
    "header.title_widget = hbox\n",
    "\n",
    "\n",
    "# add clidren to stack \n",
    "slider1 = GtkScale(:h, 0:10)   \n",
    "# Gtk4.G_.add_child(top_stack, slider1)\n",
    "\n",
    "\n",
    "vbox = GtkBox(:v)\n",
    "push!(vbox, header)\n",
    "push!(top_stack, GtkLabel(\"Controller\"), \"id1\", \"Controller\")  # first string is an id, second is a label\n",
    "push!(top_stack, GtkLabel(\"Estimator\"), \"id2\", \"Estimator\") # widget can be retrieved using s[id]\n",
    "\n",
    "# assisgn stack to stackswotcher\n",
    "set_gtk_property!(top_stack_sw, :stack, top_stack)\n",
    "\n",
    "push!(window, vbox);"
   ]
  },
  {
   "cell_type": "markdown",
   "id": "801eddf0",
   "metadata": {},
   "source": [
    "# Changing colours"
   ]
  },
  {
   "cell_type": "markdown",
   "id": "699dc146",
   "metadata": {},
   "source": [
    "### CHange background colour"
   ]
  },
  {
   "cell_type": "code",
   "execution_count": 34,
   "id": "e5bb979d",
   "metadata": {},
   "outputs": [
    {
     "name": "stderr",
     "output_type": "stream",
     "text": [
      "\n",
      "(process:2199): Gtk-WARNING **: 12:46:00.091: Theme parser error: <broken file>:1:1: Error opening file /Users/sarathmenon/Downloads/notebooks/makie_demos/style.css: No such file or directory\n"
     ]
    }
   ],
   "source": [
    "window = GtkWindow()\n",
    "\n",
    "nb = GtkNotebook()\n",
    "set_gtk_property!(nb, :name, \"nb1\")\n",
    "\n",
    "frame = GtkFrame()\n",
    "set_gtk_property!(frame, :name, \"frame1\")\n",
    "\n",
    "\n",
    "style_file = joinpath(dirname(Base.source_path()), \"style.css\")\n",
    "provider = GtkCssProvider(filename = style_file)\n",
    "Gtk4.G_.add_provider_for_display(Gtk4.G_.get_display(window), GtkStyleProvider(provider), 1)\n",
    "\n",
    "push!(window, nb)\n",
    "# push!(window, frame)\n",
    "\n",
    "show(window);"
   ]
  },
  {
   "cell_type": "code",
   "execution_count": null,
   "id": "3a4ff98a",
   "metadata": {},
   "outputs": [],
   "source": []
  }
 ],
 "metadata": {
  "kernelspec": {
   "display_name": "Julia 1.8.5",
   "language": "julia",
   "name": "julia-1.8"
  },
  "language_info": {
   "file_extension": ".jl",
   "mimetype": "application/julia",
   "name": "julia",
   "version": "1.8.5"
  }
 },
 "nbformat": 4,
 "nbformat_minor": 5
}
