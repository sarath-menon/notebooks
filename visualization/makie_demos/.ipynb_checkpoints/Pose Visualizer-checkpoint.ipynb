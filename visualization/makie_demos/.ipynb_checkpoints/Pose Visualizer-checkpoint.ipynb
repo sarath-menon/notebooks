{
 "cells": [
  {
   "cell_type": "code",
   "execution_count": 1,
   "id": "14f38dd7",
   "metadata": {},
   "outputs": [
    {
     "name": "stderr",
     "output_type": "stream",
     "text": [
      "\u001b[32m\u001b[1m  Activating\u001b[22m\u001b[39m project at `~/Documents/eth_courses/notebooks/visualization/makie_demos`\n"
     ]
    }
   ],
   "source": [
    "import Pkg; Pkg.activate(@__DIR__); Pkg.instantiate()"
   ]
  },
  {
   "cell_type": "code",
   "execution_count": 7,
   "id": "9ad1043c",
   "metadata": {},
   "outputs": [],
   "source": [
    "using GLMakie\n",
    "using Colors\n",
    "using GeometryBasics\n",
    "using Rotations\n",
    "using FileIO\n",
    "\n",
    "GLMakie.activate!(inline=false)"
   ]
  },
  {
   "cell_type": "code",
   "execution_count": 6,
   "id": "021ec8ee-2916-4412-a8d2-f728a9c222e2",
   "metadata": {},
   "outputs": [
    {
     "name": "stderr",
     "output_type": "stream",
     "text": [
      "\u001b[32m\u001b[1m   Resolving\u001b[22m\u001b[39m package versions...\n",
      "\u001b[32m\u001b[1m    Updating\u001b[22m\u001b[39m `~/Documents/eth_courses/notebooks/visualization/makie_demos/Project.toml`\n",
      "  \u001b[90m[5ae59095] \u001b[39m\u001b[92m+ Colors v0.12.10\u001b[39m\n",
      "\u001b[32m\u001b[1m  No Changes\u001b[22m\u001b[39m to `~/Documents/eth_courses/notebooks/visualization/makie_demos/Manifest.toml`\n"
     ]
    }
   ],
   "source": [
    "# Pkg.add(\"Colors\")"
   ]
  },
  {
   "cell_type": "code",
   "execution_count": 3,
   "id": "a2b9b789",
   "metadata": {},
   "outputs": [
    {
     "ename": "LoadError",
     "evalue": "UndefVarError: `QuatRotation` not defined",
     "output_type": "error",
     "traceback": [
      "UndefVarError: `QuatRotation` not defined",
      "",
      "Stacktrace:",
      " [1] top-level scope",
      "   @ In[3]:2"
     ]
    }
   ],
   "source": [
    "# convert standrard quaternion, euler angle to makie quaternin type\n",
    "function to_makie_quaternion(R_quat::QuatRotation)::Quaternion\n",
    "    return  Quaternion(R_quat.q.s, R_quat.q.v1,R_quat.q.v2,R_quat.q.v3)\n",
    "end\n",
    "\n",
    "function to_makie_quaternion(R_euler::RotZYX)::Quaternion\n",
    "    \n",
    "    # Convert the rotation to unit quaternion\n",
    "    R_quat = QuatRotation(R_euler)\n",
    "    \n",
    "    return  Quaternion(R_quat.q.s, R_quat.q.v1,R_quat.q.v2,R_quat.q.v3)\n",
    "end"
   ]
  },
  {
   "cell_type": "markdown",
   "id": "c4f82410",
   "metadata": {},
   "source": [
    "### Loading a mesh"
   ]
  },
  {
   "cell_type": "code",
   "execution_count": 4,
   "id": "94cd724e",
   "metadata": {},
   "outputs": [
    {
     "ename": "LoadError",
     "evalue": "UndefVarError: `load` not defined",
     "output_type": "error",
     "traceback": [
      "UndefVarError: `load` not defined",
      "",
      "Stacktrace:",
      " [1] top-level scope",
      "   @ In[4]:2"
     ]
    }
   ],
   "source": [
    "# load the model file\n",
    "airplane_stl = load(assetpath(pwd() * \"/assets/airplane.stl\"));\n",
    "tailsitter_stl = load(assetpath(pwd() * \"/assets/tailsitter.stl\"));\n",
    "crazyflie_stl = load(assetpath(pwd() * \"/assets/cf2_assembly.obj\"));"
   ]
  },
  {
   "cell_type": "code",
   "execution_count": 5,
   "id": "5c3faa0e",
   "metadata": {},
   "outputs": [
    {
     "ename": "LoadError",
     "evalue": "UndefVarError: `crazyflie_stl` not defined",
     "output_type": "error",
     "traceback": [
      "UndefVarError: `crazyflie_stl` not defined",
      "",
      "Stacktrace:",
      " [1] top-level scope",
      "   @ In[5]:50"
     ]
    }
   ],
   "source": [
    "set_theme!(\n",
    "#     font = \"Arial\", # inherited by layoutables if not overridden\n",
    "    fontsize = 25, # inherited by layoutables if not overridden\n",
    ")\n",
    "\n",
    "f = Figure(resolution = (1920, 1080))\n",
    "\n",
    "# Top level\n",
    "g_left = f[1, 1] = GridLayout(alignmode=Outside(50))\n",
    "g_right = f[1, 2] = GridLayout(alignmode=Outside(30))\n",
    "\n",
    "Box(f[1, 2], color = (:red, 0.2), strokewidth = 0)\n",
    "\n",
    "# force 3d visualizer to have an aspect ratio of 1\n",
    "colsize!(f.layout, 1, Aspect(1, 1.0))\n",
    "\n",
    "# # Column size adjust\n",
    "colsize!(g_left, 1,  Auto(1))\n",
    "colsize!(g_right, 1,  Auto(1))\n",
    "\n",
    "# # Left grid\n",
    "# ax_left = Axis3(g_left[1, 1])\n",
    "\n",
    "# axis for 3d visualization\n",
    "vis_ax::Axis3 = Axis3(g_left[1, 1],\n",
    "    title = \"Crazyflie\",\n",
    "    limits =  (-1,1,-1,1,-1,1),\n",
    "    aspect = (1,1,1),\n",
    "    xlabel=\"x axis\", xlabelsize=40,\n",
    "    ylabel=\"y axis\", ylabelsize=40,\n",
    "    zlabel=\"z axis\", zlabelsize=40,\n",
    "    halign =:left,\n",
    "    xspinecolor_1 = :white,\n",
    "    xspinecolor_3 = :white,\n",
    "    yspinecolor_1 = :white,\n",
    "    yspinecolor_3 = :white,\n",
    "    zspinecolor_1 = :white,\n",
    "    zspinecolor_3 = :white,\n",
    "    xspinewidth=2.5,\n",
    "    yspinewidth=2.5,\n",
    "    zspinewidth=2.5,\n",
    "    xlabeloffset=60,\n",
    "    ylabeloffset=60,\n",
    "    zlabeloffset=60,\n",
    "    xgridwidth = 1.5,\n",
    "    ygridwidth = 1.5,\n",
    "    zgridwidth = 1.5,\n",
    ")\n",
    "\n",
    "m = mesh!(vis_ax, crazyflie_stl , color=:red)\n",
    "\n",
    "scale!(m, 1., 1.0, 1.0)\n",
    "\n",
    "# center model at the origin\n",
    "translate!(m, Vec3f(0.0, 0.0, 0.0))\n",
    "\n",
    "# orient along positive x axis\n",
    "rotate!(m, Vec3f(0, 1, 0), 0) \n",
    "\n",
    "\n",
    "# Right Grids - plots\n",
    "g_right_plots = GridLayout()\n",
    "g_right_widgets = GridLayout()\n",
    "\n",
    "plot_1 = Axis(f)\n",
    "plot_2 = Axis(f)\n",
    "\n",
    "g_right_plots[2,1] = plot_1\n",
    "g_right_plots[3,1] = plot_2\n",
    "g_right[1, 1] = g_right_plots\n",
    "\n",
    "# Right Grids - widgets\n",
    "\n",
    "# slider grid for setting position\n",
    "position_slider = SliderGrid(\n",
    "    f,\n",
    "    (label = \"x\", range = -10:0.1:10, format = \"{:.2f} m\", startvalue = 0.0, linewidth = 25.0),\n",
    "    (label = \"y\", range = -10:0.1:10, format = \"{:.2f} m\", startvalue = 0.0, linewidth = 25.0),\n",
    "    (label = \"z\", range = 0:0.1:20, format = \"{:.2f} m\", startvalue = 0.0, linewidth = 25.0),\n",
    "    width = Auto(),\n",
    "    tellheight = false,\n",
    "    halign =:left\n",
    ")\n",
    "\n",
    "# slider grid for setting attitude\n",
    "attitude_slider = SliderGrid(\n",
    "    f,\n",
    "    (label = \"Roll\", range = -pi:0.01:pi, format = \"{:.2f} rad\", startvalue = 0.0, linewidth = 25.0),\n",
    "    (label = \"Pitch\", range = -pi:0.01:pi, format = \"{:.2f} rad\", startvalue = 0.0, linewidth = 25.0),\n",
    "    (label = \"Yaw\", range = -pi:0.01:pi, format = \"{:.2f} rad\", startvalue = 0.0, linewidth = 25.0),\n",
    "    width = Auto(),\n",
    "    tellheight = false,\n",
    "    halign =:left\n",
    ")\n",
    "\n",
    "\n",
    "# attitude reset button\n",
    "attitude_reset_btn = Button(f, label = \"Reset Pose\", tellwidth=false)\n",
    "\n",
    "g_right_widgets[1,1] = position_slider\n",
    "g_right_widgets[2,1] = attitude_slider\n",
    "g_right_widgets[3,1] = attitude_reset_btn\n",
    "g_right[2, 1] = g_right_widgets\n",
    "\n",
    "# Observables\n",
    "position_slider_obs = [s.value for s in position_slider.sliders]\n",
    "attitude_slider_obs = [s.value for s in attitude_slider.sliders]\n",
    "\n",
    "\n",
    "# events\n",
    "\n",
    "# Attitude button clicked\n",
    "on(attitude_reset_btn.clicks) do clicks\n",
    "    # reset attitude\n",
    "    rotate!(m, Quaternion(1,0,0,0))  \n",
    "\n",
    "     # reset position\n",
    "    translate!(m, Vec3f(0,0,0))\n",
    "\n",
    "    # reset the p0sition control sliders\n",
    "    set_close_to!(position_slider.sliders[1], position_slider.sliders[1].startvalue[])\n",
    "    set_close_to!(position_slider.sliders[2], position_slider.sliders[1].startvalue[])\n",
    "    set_close_to!(position_slider.sliders[3], position_slider.sliders[1].startvalue[])\n",
    "    \n",
    "    # reset the attitude control sliders\n",
    "    set_close_to!(attitude_slider.sliders[1], attitude_slider.sliders[1].startvalue[])\n",
    "    set_close_to!(attitude_slider.sliders[2], attitude_slider.sliders[1].startvalue[])\n",
    "    set_close_to!(attitude_slider.sliders[3], attitude_slider.sliders[1].startvalue[])\n",
    "end\n",
    "\n",
    "\n",
    "\n",
    "bars = lift(position_slider_obs...) do position...\n",
    "\n",
    "    max_range = 0.3\n",
    "    dist = max_range/2\n",
    "\n",
    "    x_pos::Float64 = position[1]\n",
    "    y_pos::Float64  = position[2]\n",
    "    z_pos::Float64  = position[3]\n",
    "\n",
    "    x_low::Float64  = x_pos - dist\n",
    "    y_low::Float64  = y_pos - dist\n",
    "    z_low::Float64  = z_pos - dist\n",
    "    \n",
    "    x_high::Float64  = x_pos + dist\n",
    "    y_high::Float64  = y_pos + dist\n",
    "    z_high::Float64  = z_pos + dist\n",
    "\n",
    "    # limits!(ax1, x_low, x_high, y_low, y_high, z_low, z_high)\n",
    "\n",
    "    vis_ax.limits = (x_low, x_high, y_low, y_high, z_low, z_high)\n",
    "    \n",
    "    # apply translation to model\n",
    "    translate!(m, Vec3f(position[1], position[2], position[3]))\n",
    "end\n",
    "\n",
    "bars = lift(attitude_slider_obs...) do angles...\n",
    "    \n",
    "    # create ZYX euler angle representation \n",
    "    R_euler = RotZYX(angles[1],angles[2],angles[3])\n",
    "    \n",
    "    # Convert the rotation to unit quaternion\n",
    "    R_quat = QuatRotation(R_euler)\n",
    "    \n",
    "    R_quat_makie = Quaternion(R_quat.q.s, R_quat.q.v1,R_quat.q.v2,R_quat.q.v3)\n",
    "    \n",
    "    # apply rotation\n",
    "    rotate!(m,  R_quat_makie)     \n",
    "end\n",
    "\n",
    "trim!(f.layout)\n",
    "\n",
    "display(f)"
   ]
  },
  {
   "cell_type": "code",
   "execution_count": null,
   "id": "c2635919-7ad3-4b6a-a610-27f2ed79b2e8",
   "metadata": {},
   "outputs": [],
   "source": [
    "vis_ax.xgridcolor = "
   ]
  }
 ],
 "metadata": {
  "kernelspec": {
   "display_name": "control_precompiled 1.9.1",
   "language": "julia",
   "name": "control_precompiled-1.9"
  },
  "language_info": {
   "file_extension": ".jl",
   "mimetype": "application/julia",
   "name": "julia",
   "version": "1.9.1"
  }
 },
 "nbformat": 4,
 "nbformat_minor": 5
}
