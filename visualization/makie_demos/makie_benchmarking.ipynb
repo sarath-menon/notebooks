{
 "cells": [
  {
   "cell_type": "code",
   "execution_count": 1,
   "id": "9aced514-3b58-4f66-856a-b6c80f5f82bd",
   "metadata": {},
   "outputs": [
    {
     "name": "stderr",
     "output_type": "stream",
     "text": [
      "\u001b[32m\u001b[1m  Activating\u001b[22m\u001b[39m project at `~/Documents/eth_courses/notebooks/visualization/makie_demos`\n"
     ]
    }
   ],
   "source": [
    "import Pkg; Pkg.activate(@__DIR__); Pkg.instantiate()"
   ]
  },
  {
   "cell_type": "code",
   "execution_count": 13,
   "id": "d323335c-948e-489a-86f5-031415d7f7da",
   "metadata": {},
   "outputs": [],
   "source": [
    "using GLMakie\n",
    "GLMakie.activate!(inline=false)"
   ]
  },
  {
   "cell_type": "markdown",
   "id": "d4cd870c-15f3-4f7e-a9d9-79d0afc07721",
   "metadata": {},
   "source": [
    "# Initial Plot"
   ]
  },
  {
   "cell_type": "code",
   "execution_count": 102,
   "id": "75b2c69a-ad30-490b-bf25-d4974be9f393",
   "metadata": {},
   "outputs": [
    {
     "name": "stdout",
     "output_type": "stream",
     "text": [
      "  0.002079 seconds (1.02 k allocations: 51.617 KiB)\n",
      "  0.013934 seconds (33.98 k allocations: 2.148 MiB)\n",
      "  0.000237 seconds (585 allocations: 36.562 KiB)\n",
      "  0.111247 seconds (51.48 k allocations: 4.844 MiB)\n"
     ]
    },
    {
     "data": {
      "text/plain": [
       "GLMakie.Screen(...)"
      ]
     },
     "execution_count": 102,
     "metadata": {},
     "output_type": "execute_result"
    }
   ],
   "source": [
    "@time fig = Figure()\n",
    "@time ax = Axis(fig[1, 1])\n",
    "\n",
    "x = Observable{Vector{Float64}}(zeros(100))\n",
    "y = Observable{Vector{Float64}}(zeros(100))\n",
    "\n",
    "@time lines!(ax, x, y)\n",
    "\n",
    "@time display(fig)"
   ]
  },
  {
   "cell_type": "markdown",
   "id": "02b4f29c-3a29-4337-b61f-33f8e842ef29",
   "metadata": {},
   "source": [
    "#  Subsequent plots "
   ]
  },
  {
   "cell_type": "markdown",
   "id": "0e90adf6-f49f-498a-b313-7a0edb589886",
   "metadata": {},
   "source": [
    "### Changing daya in observable vector"
   ]
  },
  {
   "cell_type": "code",
   "execution_count": 88,
   "id": "433bf1d6-72df-43d9-9533-a6b6de5838d2",
   "metadata": {},
   "outputs": [
    {
     "name": "stdout",
     "output_type": "stream",
     "text": [
      "  0.000332 seconds (78 allocations: 4.922 KiB)\n",
      "  0.000190 seconds (78 allocations: 4.922 KiB)\n"
     ]
    }
   ],
   "source": [
    "@time x[] = rand(100);\n",
    "@time y[] = rand(100);"
   ]
  },
  {
   "cell_type": "code",
   "execution_count": null,
   "id": "731a68aa-36c8-485d-8d3b-9a350d3c594a",
   "metadata": {},
   "outputs": [],
   "source": []
  }
 ],
 "metadata": {
  "kernelspec": {
   "display_name": "control_precompiled 1.9.1",
   "language": "julia",
   "name": "control_precompiled-1.9"
  },
  "language_info": {
   "file_extension": ".jl",
   "mimetype": "application/julia",
   "name": "julia",
   "version": "1.9.1"
  }
 },
 "nbformat": 4,
 "nbformat_minor": 5
}
