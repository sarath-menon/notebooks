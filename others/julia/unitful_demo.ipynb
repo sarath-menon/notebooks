{
 "cells": [
  {
   "cell_type": "code",
   "execution_count": 1,
   "id": "a13d28cd-e204-4302-880e-1e17a1102181",
   "metadata": {},
   "outputs": [
    {
     "name": "stderr",
     "output_type": "stream",
     "text": [
      "\u001b[32m\u001b[1m  Activating\u001b[22m\u001b[39m project at `~/Documents/eth_courses/notebooks/others/julia`\n"
     ]
    }
   ],
   "source": [
    "import Pkg; Pkg.activate(@__DIR__); Pkg.instantiate();"
   ]
  },
  {
   "cell_type": "code",
   "execution_count": 4,
   "id": "b5d99f15-e1df-4c2d-b0a6-d848e6174d07",
   "metadata": {},
   "outputs": [],
   "source": [
    "using Unitful"
   ]
  },
  {
   "cell_type": "code",
   "execution_count": 15,
   "id": "c1dd398b-ea1d-46ca-af5a-0c86adad442b",
   "metadata": {},
   "outputs": [
    {
     "data": {
      "text/plain": [
       "-9.8 m s⁻¹"
      ]
     },
     "execution_count": 15,
     "metadata": {},
     "output_type": "execute_result"
    }
   ],
   "source": [
    "60u\"s\" == 1u\"minute\"   \n",
    "\n",
    "g = -9.8u\"m/s\""
   ]
  },
  {
   "cell_type": "code",
   "execution_count": 18,
   "id": "efb5a698-fe6c-478a-bf24-f25e216319a0",
   "metadata": {},
   "outputs": [
    {
     "data": {
      "text/plain": [
       "60 ns"
      ]
     },
     "execution_count": 18,
     "metadata": {},
     "output_type": "execute_result"
    }
   ],
   "source": [
    "60u\"ns\""
   ]
  },
  {
   "cell_type": "code",
   "execution_count": null,
   "id": "dc9acd8f-985f-4ed7-95f9-d4add1b09553",
   "metadata": {},
   "outputs": [],
   "source": []
  }
 ],
 "metadata": {
  "kernelspec": {
   "display_name": "control_precompiled 1.9.1",
   "language": "julia",
   "name": "control_precompiled-1.9"
  },
  "language_info": {
   "file_extension": ".jl",
   "mimetype": "application/julia",
   "name": "julia",
   "version": "1.9.1"
  }
 },
 "nbformat": 4,
 "nbformat_minor": 5
}
