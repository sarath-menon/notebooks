{
 "cells": [
  {
   "cell_type": "code",
   "execution_count": 1,
   "id": "b51b2cd9-57fe-4fc5-9e56-abbaff11f147",
   "metadata": {},
   "outputs": [
    {
     "name": "stderr",
     "output_type": "stream",
     "text": [
      "\u001b[32m\u001b[1m  Activating\u001b[22m\u001b[39m project at `~/Documents/eth_courses/notebooks/others/julia`\n"
     ]
    }
   ],
   "source": [
    "import Pkg; Pkg.activate(@__DIR__); Pkg.instantiate();"
   ]
  },
  {
   "cell_type": "code",
   "execution_count": 2,
   "id": "df771374-9496-4b5e-9143-06d30dfb2c28",
   "metadata": {},
   "outputs": [],
   "source": [
    "using BenchmarkTools"
   ]
  },
  {
   "cell_type": "markdown",
   "id": "bcfda405-d9ef-48be-89df-79531bb77154",
   "metadata": {},
   "source": [
    "# Compiler optimizes in simple scenarios "
   ]
  },
  {
   "cell_type": "code",
   "execution_count": 12,
   "id": "89d385b2-019c-4139-a723-300f35f8b6e1",
   "metadata": {},
   "outputs": [
    {
     "name": "stdout",
     "output_type": "stream",
     "text": [
      "  1.654 ns (0 allocations: 0 bytes)\n",
      "  1.655 ns (0 allocations: 0 bytes)\n"
     ]
    },
    {
     "data": {
      "text/plain": [
       "type_stable (generic function with 1 method)"
      ]
     },
     "execution_count": 12,
     "metadata": {},
     "output_type": "execute_result"
    }
   ],
   "source": [
    "function type_stable()\n",
    "    val = 1.0\n",
    "    for i in 0:1:10\n",
    "        val /= rand()\n",
    "    end\n",
    "    return val\n",
    "end\n",
    "\n",
    "@btime type_unstable\n",
    "@btime type_stable"
   ]
  },
  {
   "cell_type": "markdown",
   "id": "1d11dd18-c364-4aab-b114-db227eeb0140",
   "metadata": {},
   "source": [
    "# Global Scope\n",
    "\n",
    "Non-const variables in global scope are type  unstable"
   ]
  },
  {
   "cell_type": "code",
   "execution_count": 12,
   "id": "ce31aa89-c438-4c8f-bd57-3f93c3f11004",
   "metadata": {},
   "outputs": [
    {
     "name": "stdout",
     "output_type": "stream",
     "text": [
      "  202.395 μs (7980 allocations: 140.33 KiB)\n",
      "  192.371 μs (7980 allocations: 140.33 KiB)\n",
      "  197.231 μs (7980 allocations: 140.33 KiB)\n",
      "  984.533 ns (0 allocations: 0 bytes)\n",
      "  984.667 ns (0 allocations: 0 bytes)\n"
     ]
    },
    {
     "data": {
      "text/plain": [
       "659.7108774950834"
      ]
     },
     "execution_count": 12,
     "metadata": {},
     "output_type": "execute_result"
    }
   ],
   "source": [
    "# non-const global\n",
    "a = 0.0\n",
    "x,y = rand(1000), rand(1000)\n",
    "\n",
    "# all global without function\n",
    "@btime begin\n",
    "    for i in 1:length(x)\n",
    "        global a += x[i]^2 + y[i]^2\n",
    "    end\n",
    "end\n",
    "\n",
    "# all global with function\n",
    "function global_var_1()\n",
    "    for i in 1:length(x)\n",
    "        global a += x[i]^2 + y[i]^2\n",
    "    end\n",
    "\n",
    "    return a\n",
    "end\n",
    "\n",
    "# a local, x and y global \n",
    "function global_var_2()\n",
    "    a = zero(eltype(x))\n",
    "    for i in 1:length(x)\n",
    "        a += x[i]^2 + y[i]^2\n",
    "    end\n",
    "\n",
    "    return a\n",
    "end\n",
    "\n",
    "# all local, all types defined \n",
    "function local_var_1(x::Vector{Float64}, y::Vector{Float64})\n",
    "    a = zero(eltype(x))\n",
    "    for i in 1:length(x)\n",
    "        a += x[i]^2 + y[i]^2\n",
    "    end\n",
    "\n",
    "    return a\n",
    "end\n",
    "\n",
    "# all local, all types defined except variable a \n",
    "function local_var_2(x::Vector{Float64}, y::Vector{Float64})\n",
    "    a::Float64 = zero(eltype(x))\n",
    "    for i in 1:length(x)\n",
    "        a += x[i]^2 + y[i]^2\n",
    "    end\n",
    "\n",
    "    return a\n",
    "end\n",
    "\n",
    "@btime global_var_1()\n",
    "@btime global_var_2()\n",
    "@btime local_var_1(x,y)\n",
    "@btime local_var_2(x,y)"
   ]
  },
  {
   "cell_type": "markdown",
   "id": "0a08d462-5134-4cd8-8834-c445daa3c31c",
   "metadata": {},
   "source": [
    "## Typed global scope"
   ]
  },
  {
   "cell_type": "code",
   "execution_count": 15,
   "id": "5f995274-638a-4c70-a918-f9e3d8adb3fd",
   "metadata": {},
   "outputs": [
    {
     "name": "stdout",
     "output_type": "stream",
     "text": [
      "  7.590 μs (1000 allocations: 15.62 KiB)\n",
      "  7.910 μs (1000 allocations: 15.62 KiB)\n",
      "  982.133 ns (0 allocations: 0 bytes)\n",
      "  981.250 ns (0 allocations: 0 bytes)\n",
      "  981.188 ns (0 allocations: 0 bytes)\n"
     ]
    },
    {
     "data": {
      "text/plain": [
       "657.4188025475605"
      ]
     },
     "execution_count": 15,
     "metadata": {},
     "output_type": "execute_result"
    }
   ],
   "source": [
    "# non-const global\n",
    "a_::Float64 = 0.0\n",
    "x_::Vector{Float64},y_::Vector{Float64} = rand(1000), rand(1000)\n",
    "    \n",
    "# all global without function\n",
    "@btime begin\n",
    "    for i in 1:length(x_)\n",
    "        global a_ += x_[i]^2 + y_[i]^2\n",
    "    end\n",
    "end\n",
    "\n",
    "# all global with function\n",
    "function global_var_1()\n",
    "    for i in 1:length(x_)\n",
    "        global a_ += x_[i]^2 + y_[i]^2\n",
    "    end\n",
    "\n",
    "    return a_\n",
    "end\n",
    "\n",
    "# a local, x_ and y_ global \n",
    "function global_var_2()\n",
    "    a = zero(eltype(x_))\n",
    "    for i in 1:length(x_)\n",
    "        a += x_[i]^2 + y_[i]^2\n",
    "    end\n",
    "\n",
    "    return a\n",
    "end\n",
    "\n",
    "# all local, all types defined \n",
    "function local_var_1(x_::Vector{Float64}, y_::Vector{Float64})\n",
    "    a = zero(eltype(x_))\n",
    "    for i in 1:length(x_)\n",
    "        a += x_[i]^2 + y_[i]^2\n",
    "    end\n",
    "\n",
    "    return a\n",
    "end\n",
    "\n",
    "# all local, all types defined except variable a \n",
    "function local_var_2(x_::Vector{Float64}, y_::Vector{Float64})\n",
    "    a::Float64 = zero(eltype(x_))\n",
    "    for i in 1:length(x_)\n",
    "        a += x_[i]^2 + y_[i]^2\n",
    "    end\n",
    "\n",
    "    return a\n",
    "end\n",
    "\n",
    "@btime global_var_1()\n",
    "@btime global_var_2()\n",
    "@btime local_var_1(x_,y_)\n",
    "@btime local_var_2(x_,y_)\n"
   ]
  },
  {
   "cell_type": "markdown",
   "id": "be6b5f8e-c5a7-4592-a71f-e0c275f944dd",
   "metadata": {},
   "source": [
    "# Tool to check type stability"
   ]
  },
  {
   "cell_type": "code",
   "execution_count": 50,
   "id": "7d948c07-a8ca-45cb-80d7-35c3ce54bbfe",
   "metadata": {},
   "outputs": [
    {
     "name": "stdout",
     "output_type": "stream",
     "text": [
      "MethodInstance for global_var_1()\n",
      "  from global_var_1()\u001b[90m @\u001b[39m \u001b[90mMain\u001b[39m \u001b[90m\u001b[4mIn[44]:14\u001b[24m\u001b[39m\n",
      "Arguments\n",
      "  #self#\u001b[36m::Core.Const(global_var_1)\u001b[39m\n",
      "Locals\n",
      "  @_2\u001b[91m\u001b[1m::Any\u001b[22m\u001b[39m\n",
      "  i\u001b[91m\u001b[1m::Any\u001b[22m\u001b[39m\n",
      "Body\u001b[91m\u001b[1m::Any\u001b[22m\u001b[39m\n",
      "\u001b[90m1 ─\u001b[39m %1  = Main.length(Main.x)\u001b[91m\u001b[1m::Any\u001b[22m\u001b[39m\n",
      "\u001b[90m│  \u001b[39m %2  = (1:%1)\u001b[91m\u001b[1m::Any\u001b[22m\u001b[39m\n",
      "\u001b[90m│  \u001b[39m       (@_2 = Base.iterate(%2))\n",
      "\u001b[90m│  \u001b[39m %4  = (@_2 === nothing)\u001b[36m::Bool\u001b[39m\n",
      "\u001b[90m│  \u001b[39m %5  = Base.not_int(%4)\u001b[36m::Bool\u001b[39m\n",
      "\u001b[90m└──\u001b[39m       goto #4 if not %5\n",
      "\u001b[90m2 ┄\u001b[39m %7  = @_2\u001b[91m\u001b[1m::Any\u001b[22m\u001b[39m\n",
      "\u001b[90m│  \u001b[39m       (i = Core.getfield(%7, 1))\n",
      "\u001b[90m│  \u001b[39m %9  = Core.getfield(%7, 2)\u001b[91m\u001b[1m::Any\u001b[22m\u001b[39m\n",
      "\u001b[90m│  \u001b[39m       nothing\n",
      "\u001b[90m│  \u001b[39m %11 = Main.a\u001b[91m\u001b[1m::Any\u001b[22m\u001b[39m\n",
      "\u001b[90m│  \u001b[39m %12 = Main.:^\u001b[36m::Core.Const(^)\u001b[39m\n",
      "\u001b[90m│  \u001b[39m %13 = Base.getindex(Main.x, i)\u001b[91m\u001b[1m::Any\u001b[22m\u001b[39m\n",
      "\u001b[90m│  \u001b[39m %14 = Core.apply_type(Base.Val, 2)\u001b[36m::Core.Const(Val{2})\u001b[39m\n",
      "\u001b[90m│  \u001b[39m %15 = (%14)()\u001b[36m::Core.Const(Val{2}())\u001b[39m\n",
      "\u001b[90m│  \u001b[39m %16 = Base.literal_pow(%12, %13, %15)\u001b[91m\u001b[1m::Any\u001b[22m\u001b[39m\n",
      "\u001b[90m│  \u001b[39m %17 = Main.:^\u001b[36m::Core.Const(^)\u001b[39m\n",
      "\u001b[90m│  \u001b[39m %18 = Base.getindex(Main.y, i)\u001b[91m\u001b[1m::Any\u001b[22m\u001b[39m\n",
      "\u001b[90m│  \u001b[39m %19 = Core.apply_type(Base.Val, 2)\u001b[36m::Core.Const(Val{2})\u001b[39m\n",
      "\u001b[90m│  \u001b[39m %20 = (%19)()\u001b[36m::Core.Const(Val{2}())\u001b[39m\n",
      "\u001b[90m│  \u001b[39m %21 = Base.literal_pow(%17, %18, %20)\u001b[91m\u001b[1m::Any\u001b[22m\u001b[39m\n",
      "\u001b[90m│  \u001b[39m %22 = (%16 + %21)\u001b[91m\u001b[1m::Any\u001b[22m\u001b[39m\n",
      "\u001b[90m│  \u001b[39m %23 = (%11 + %22)\u001b[91m\u001b[1m::Any\u001b[22m\u001b[39m\n",
      "\u001b[90m│  \u001b[39m %24 = Core.get_binding_type(Main, :a)\u001b[36m::Core.Const(Any)\u001b[39m\n",
      "\u001b[90m│  \u001b[39m %25 = Base.convert(%24, %23)\u001b[91m\u001b[1m::Any\u001b[22m\u001b[39m\n",
      "\u001b[90m│  \u001b[39m %26 = Core.typeassert(%25, %24)\u001b[91m\u001b[1m::Any\u001b[22m\u001b[39m\n",
      "\u001b[90m│  \u001b[39m       (Main.a = %26)\n",
      "\u001b[90m│  \u001b[39m       (@_2 = Base.iterate(%2, %9))\n",
      "\u001b[90m│  \u001b[39m %29 = (@_2 === nothing)\u001b[36m::Bool\u001b[39m\n",
      "\u001b[90m│  \u001b[39m %30 = Base.not_int(%29)\u001b[36m::Bool\u001b[39m\n",
      "\u001b[90m└──\u001b[39m       goto #4 if not %30\n",
      "\u001b[90m3 ─\u001b[39m       goto #2\n",
      "\u001b[90m4 ┄\u001b[39m       return Main.a\n",
      "\n"
     ]
    }
   ],
   "source": [
    "@code_warntype global_var_1()"
   ]
  },
  {
   "cell_type": "code",
   "execution_count": null,
   "id": "cad1f52d-123a-4b1e-87d4-1adb756ce1e5",
   "metadata": {},
   "outputs": [],
   "source": []
  }
 ],
 "metadata": {
  "kernelspec": {
   "display_name": "control_precompiled 1.9.1",
   "language": "julia",
   "name": "control_precompiled-1.9"
  },
  "language_info": {
   "file_extension": ".jl",
   "mimetype": "application/julia",
   "name": "julia",
   "version": "1.9.1"
  }
 },
 "nbformat": 4,
 "nbformat_minor": 5
}
