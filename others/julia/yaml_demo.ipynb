{
 "cells": [
  {
   "cell_type": "code",
   "execution_count": 1,
   "id": "539afb7a-68ef-483a-8dba-ac9f5fc2ec42",
   "metadata": {},
   "outputs": [
    {
     "name": "stderr",
     "output_type": "stream",
     "text": [
      "\u001b[32m\u001b[1m  Activating\u001b[22m\u001b[39m project at `~/Documents/eth_courses/notebooks/others/julia`\n"
     ]
    }
   ],
   "source": [
    "import Pkg; Pkg.activate(@__DIR__); Pkg.instantiate();"
   ]
  },
  {
   "cell_type": "code",
   "execution_count": 16,
   "id": "eb7a2a2a-f255-4b60-952b-7119e2a094a6",
   "metadata": {},
   "outputs": [],
   "source": [
    "import YAML\n",
    "using DataStructures"
   ]
  },
  {
   "cell_type": "markdown",
   "id": "87c857fe-4ce5-4208-9571-fc33dcb5aa7b",
   "metadata": {},
   "source": [
    "## Utilities "
   ]
  },
  {
   "cell_type": "code",
   "execution_count": 290,
   "id": "ccc5857e-2fc5-4a55-8039-dd6d9fed3ab8",
   "metadata": {},
   "outputs": [
    {
     "data": {
      "text/plain": [
       "recursive_dict_to_namedtuple (generic function with 1 method)"
      ]
     },
     "execution_count": 290,
     "metadata": {},
     "output_type": "execute_result"
    }
   ],
   "source": [
    "# recursive function to converted nested dict to nested NamedTuple\n",
    "\n",
    "function recursive_dict_to_namedtuple(val)\n",
    "    if typeof(val) == Dict{Symbol, Any}\n",
    "        named_tuple =  NamedTuple((Symbol(key), recursive_dict_to_namedtuple(value)) for (key,value) in val)\n",
    "        return named_tuple\n",
    "        \n",
    "    elseif typeof(val) == Vector{Dict{Symbol, Any}}\n",
    "        \n",
    "        named_tuple_vec = NamedTuple[]\n",
    "        for i in val\n",
    "            named_tuple = recursive_dict_to_namedtuple(i)\n",
    "            push!(named_tuple_vec, named_tuple)\n",
    "        end\n",
    "        return named_tuple_vec\n",
    "        \n",
    "    else\n",
    "        return val\n",
    "    end\n",
    "end"
   ]
  },
  {
   "cell_type": "markdown",
   "id": "54ba8119-24d6-412f-9a9a-030f0a286dd6",
   "metadata": {},
   "source": [
    "## Load data"
   ]
  },
  {
   "cell_type": "code",
   "execution_count": 305,
   "id": "60729344-d171-44f0-a40c-ae760a51903f",
   "metadata": {
    "scrolled": true
   },
   "outputs": [],
   "source": [
    "data = YAML.load_file(\"test.yml\"; dicttype=Dict{Symbol,Any});"
   ]
  },
  {
   "cell_type": "markdown",
   "id": "09ed3ff7-8c95-4ad2-9e1a-bf521beea38b",
   "metadata": {},
   "source": [
    "# Convert to NamedTuple"
   ]
  },
  {
   "cell_type": "code",
   "execution_count": 306,
   "id": "55b241ce-f774-4bb4-8375-dfd15a61514d",
   "metadata": {},
   "outputs": [],
   "source": [
    "params = recursive_dict_to_namedtuple(data);"
   ]
  },
  {
   "cell_type": "code",
   "execution_count": 307,
   "id": "51635911-b476-486a-a994-144b09d0234c",
   "metadata": {},
   "outputs": [
    {
     "data": {
      "text/plain": [
       "2-element Vector{NamedTuple}:\n",
       " (name = \"yzθ\", y_axis_names = [\"y\", \"z\", \"θ\"])\n",
       " (name = \"ẏżθ̇\", y_axis_names = [\"y_dot\", \"z_dot\", \"θ_dot\"])"
      ]
     },
     "execution_count": 307,
     "metadata": {},
     "output_type": "execute_result"
    }
   ],
   "source": [
    "params.graph.axis.configs"
   ]
  },
  {
   "cell_type": "code",
   "execution_count": 308,
   "id": "a8674658-180b-4a4d-8328-4afb170181ed",
   "metadata": {},
   "outputs": [
    {
     "data": {
      "text/plain": [
       "3-element Vector{String}:\n",
       " \"y\"\n",
       " \"z\"\n",
       " \"θ\""
      ]
     },
     "execution_count": 308,
     "metadata": {},
     "output_type": "execute_result"
    }
   ],
   "source": [
    "function get_axis_titles(configs_vec::Vector{String}, config::String)\n",
    "    index = findfirst(item -> item == config, configs_vec)\n",
    "    \n",
    "    axis_titles = getindex(params.graph.axis.configs[index], :y_axis_names)\n",
    "\n",
    "    return axis_titles\n",
    "end\n",
    "\n",
    "function get_configs_vec(config_tuple::Vector{NamedTuple})\n",
    "    configs_vec = String[]\n",
    "\n",
    "    for (i, config) in enumerate(config_tuple)\n",
    "        push!(configs_vec, getindex(config, :name))\n",
    "    end\n",
    "\n",
    "    return configs_vec\n",
    "end\n",
    "\n",
    "configs_vec = get_configs_vec(params.graph.axis.configs)\n",
    "get_axis_titles(configs_vec, \"yzθ\")"
   ]
  },
  {
   "cell_type": "code",
   "execution_count": 309,
   "id": "104a167c-fb41-41c1-ac6f-63b0ac2adb07",
   "metadata": {},
   "outputs": [
    {
     "data": {
      "text/plain": [
       "(q_x = 0.0, q_w = 1.0, q_y = 0.0, q_z = 0.0)"
      ]
     },
     "execution_count": 309,
     "metadata": {},
     "output_type": "execute_result"
    }
   ],
   "source": [
    "params.vehicle.initial_state.q_BI"
   ]
  },
  {
   "cell_type": "code",
   "execution_count": null,
   "id": "89229b3e-9f14-4598-a489-d57c54ac5284",
   "metadata": {},
   "outputs": [],
   "source": []
  }
 ],
 "metadata": {
  "kernelspec": {
   "display_name": "control_precompiled 1.9.1",
   "language": "julia",
   "name": "control_precompiled-1.9"
  },
  "language_info": {
   "file_extension": ".jl",
   "mimetype": "application/julia",
   "name": "julia",
   "version": "1.9.1"
  }
 },
 "nbformat": 4,
 "nbformat_minor": 5
}
