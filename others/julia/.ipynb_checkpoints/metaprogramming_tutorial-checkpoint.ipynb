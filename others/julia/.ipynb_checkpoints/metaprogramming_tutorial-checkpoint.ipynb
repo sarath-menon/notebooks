{
 "cells": [
  {
   "cell_type": "code",
   "execution_count": null,
   "id": "41968d9c-ce71-4ec2-ad64-d201ea0f86ee",
   "metadata": {},
   "outputs": [],
   "source": [
    "import Pkg; Pkg.activate(@__DIR__); Pkg.instantiate();"
   ]
  },
  {
   "cell_type": "code",
   "execution_count": 2,
   "id": "d0c2d89e-1f4d-4e90-b850-1243ac076aa1",
   "metadata": {},
   "outputs": [],
   "source": [
    "# Pkg.add(\"NamedTupleTools\")"
   ]
  },
  {
   "cell_type": "code",
   "execution_count": 1,
   "id": "b1637f0f-ab4d-4291-9b40-f2ce05b2a3f3",
   "metadata": {},
   "outputs": [],
   "source": [
    "using NamedTupleTools\n",
    "using StaticArrays\n",
    "using BenchmarkTools"
   ]
  },
  {
   "cell_type": "markdown",
   "id": "86b6f32c-6a76-46a9-8971-eba33f1f45ec",
   "metadata": {},
   "source": [
    "## @show macro"
   ]
  },
  {
   "cell_type": "code",
   "execution_count": 3,
   "id": "87647edf-4004-4482-96ea-30668fa914cf",
   "metadata": {},
   "outputs": [
    {
     "name": "stdout",
     "output_type": "stream",
     "text": [
      "x= 64.0\n",
      "x = 64.0\n"
     ]
    },
    {
     "data": {
      "text/plain": [
       "quote\n",
       "    Base.println(\"x = \", Base.repr(begin\n",
       "                local var\"#30#value\" = x\n",
       "            end))\n",
       "    var\"#30#value\"\n",
       "end"
      ]
     },
     "execution_count": 3,
     "metadata": {},
     "output_type": "execute_result"
    }
   ],
   "source": [
    "let\n",
    "\n",
    "x::Float64 = 64.0\n",
    "\n",
    "function myshow(x::Float64)\n",
    "    println(\"x= \" , x);\n",
    "end\n",
    "\n",
    "myshow(x) # custom  function \n",
    "\n",
    "@show x #macro\n",
    "\n",
    "# show generated code\n",
    "Base.remove_linenums!(@macroexpand @show x) \n",
    "end"
   ]
  },
  {
   "cell_type": "markdown",
   "id": "8e15246f-4af2-4952-95c8-593f70cce5d9",
   "metadata": {},
   "source": [
    " ## Expression tree (computational graph)"
   ]
  },
  {
   "cell_type": "code",
   "execution_count": 4,
   "id": "506d33d0-652a-4e3c-b6e3-52edf3b43d1e",
   "metadata": {},
   "outputs": [
    {
     "data": {
      "text/plain": [
       ":(x + y * z)"
      ]
     },
     "execution_count": 4,
     "metadata": {},
     "output_type": "execute_result"
    }
   ],
   "source": [
    "ex = :(x + y * z)"
   ]
  },
  {
   "cell_type": "code",
   "execution_count": 5,
   "id": "626df834-3b8f-461a-be28-b18aa2484f52",
   "metadata": {},
   "outputs": [
    {
     "name": "stdout",
     "output_type": "stream",
     "text": [
      "Expr\n",
      "  head: Symbol call\n",
      "  args: Array{Any}((3,))\n",
      "    1: Symbol +\n",
      "    2: Symbol x\n",
      "    3: Expr\n",
      "      head: Symbol call\n",
      "      args: Array{Any}((3,))\n",
      "        1: Symbol *\n",
      "        2: Symbol y\n",
      "        3: Symbol z\n"
     ]
    }
   ],
   "source": [
    "dump(ex)"
   ]
  },
  {
   "cell_type": "code",
   "execution_count": 6,
   "id": "ad6591ed-f68d-4a2f-81c3-094fdd31bb1c",
   "metadata": {},
   "outputs": [
    {
     "ename": "LoadError",
     "evalue": "ArgumentError: Package TreeView not found in current path.\n- Run `import Pkg; Pkg.add(\"TreeView\")` to install the TreeView package.",
     "output_type": "error",
     "traceback": [
      "ArgumentError: Package TreeView not found in current path.\n- Run `import Pkg; Pkg.add(\"TreeView\")` to install the TreeView package.",
      "",
      "Stacktrace:",
      " [1] macro expansion",
      "   @ ./loading.jl:1630 [inlined]",
      " [2] macro expansion",
      "   @ ./lock.jl:267 [inlined]",
      " [3] require(into::Module, mod::Symbol)",
      "   @ Base ./loading.jl:1611"
     ]
    }
   ],
   "source": [
    "using TreeView\n",
    "\n",
    "@tree x + y * z"
   ]
  },
  {
   "cell_type": "markdown",
   "id": "cd331b45-240f-4fc3-ae48-79390d5680a0",
   "metadata": {},
   "source": [
    "# Creating Macros"
   ]
  },
  {
   "cell_type": "code",
   "execution_count": 207,
   "id": "83117c74-5607-4efb-aa8b-d6e935b2f909",
   "metadata": {},
   "outputs": [
    {
     "name": "stdout",
     "output_type": "stream",
     "text": [
      "selv\n"
     ]
    }
   ],
   "source": [
    "macro sayhello(str)\n",
    "    return :( println($str) )\n",
    "end\n",
    "\n",
    "@sayhello \"selv\""
   ]
  },
  {
   "cell_type": "markdown",
   "id": "1ee4c7b9-94a7-47be-a19b-b8cce4b27e3c",
   "metadata": {},
   "source": [
    "# Code generation"
   ]
  },
  {
   "cell_type": "code",
   "execution_count": 86,
   "id": "666361a1-041d-4e1e-bccc-d009ad1136c5",
   "metadata": {},
   "outputs": [
    {
     "data": {
      "text/plain": [
       "SampleStruct(1.0, 2.0)"
      ]
     },
     "execution_count": 86,
     "metadata": {},
     "output_type": "execute_result"
    }
   ],
   "source": [
    "struct SampleStruct\n",
    "    x::Float64\n",
    "    y::Float64\n",
    "end\n",
    "\n",
    "obj = SampleStruct(1., 2.)"
   ]
  },
  {
   "cell_type": "code",
   "execution_count": 87,
   "id": "454e4daa-333a-49eb-b35e-27306a78831a",
   "metadata": {},
   "outputs": [
    {
     "data": {
      "text/plain": [
       "1×2 Matrix{Float64}:\n",
       " 0.841471  0.909297"
      ]
     },
     "execution_count": 87,
     "metadata": {},
     "output_type": "execute_result"
    }
   ],
   "source": [
    "for op = (:sin, :cos, :tan, :log, :exp)\n",
    "    eval(quote\n",
    "        Base.$op(a::SampleStruct) = [$op(a.x) $op(a.y)]\n",
    "    end)\n",
    "end\n",
    "\n",
    "sin(obj)"
   ]
  },
  {
   "cell_type": "markdown",
   "id": "0de166b8-c08f-46f7-ae0a-4e144d276f38",
   "metadata": {},
   "source": [
    "# Fieldvector"
   ]
  },
  {
   "cell_type": "code",
   "execution_count": 5,
   "id": "af936465-65c3-4fc3-8bb3-363053ee05b4",
   "metadata": {},
   "outputs": [],
   "source": [
    "struct Point3D <: FieldVector{3, Float64}\n",
    "    x::Float64\n",
    "    y::Float64\n",
    "    z::Float64\n",
    "end\n"
   ]
  },
  {
   "cell_type": "code",
   "execution_count": 621,
   "id": "c306b889-33ce-47b9-9a57-4fe385d5d4be",
   "metadata": {
    "scrolled": true
   },
   "outputs": [],
   "source": [
    "point = Point3D(1.,2.,3.);"
   ]
  },
  {
   "cell_type": "code",
   "execution_count": 664,
   "id": "54a3a9c4-5aa0-41df-9ed8-ea3c48683cac",
   "metadata": {},
   "outputs": [
    {
     "data": {
      "text/plain": [
       "waste (generic function with 1 method)"
      ]
     },
     "execution_count": 664,
     "metadata": {},
     "output_type": "execute_result"
    }
   ],
   "source": [
    "waste(p) =  SVector{3}(p)\n"
   ]
  },
  {
   "cell_type": "code",
   "execution_count": 669,
   "id": "e82625b2-360a-4bfc-aec5-f204e17ead76",
   "metadata": {},
   "outputs": [
    {
     "name": "stdout",
     "output_type": "stream",
     "text": [
      "  0.000004 seconds (1 allocation: 32 bytes)\n"
     ]
    },
    {
     "data": {
      "text/plain": [
       "3-element SVector{3, Float64} with indices SOneTo(3):\n",
       " 1.0\n",
       " 2.0\n",
       " 3.0"
      ]
     },
     "execution_count": 669,
     "metadata": {},
     "output_type": "execute_result"
    }
   ],
   "source": [
    "@time waste(point)"
   ]
  },
  {
   "cell_type": "markdown",
   "id": "9f893b14-46ce-44dc-b4a5-fa624ea30ceb",
   "metadata": {},
   "source": [
    "### Struct to Tuple"
   ]
  },
  {
   "cell_type": "markdown",
   "id": "23147092-7cf3-4c06-910d-439745108ee6",
   "metadata": {},
   "source": [
    "### Struct to array"
   ]
  },
  {
   "cell_type": "code",
   "execution_count": 630,
   "id": "553c3435-3b3c-4697-bfcd-3106e2993638",
   "metadata": {},
   "outputs": [
    {
     "name": "stdout",
     "output_type": "stream",
     "text": [
      "  0.000005 seconds (1 allocation: 80 bytes)\n"
     ]
    },
    {
     "data": {
      "text/plain": [
       "3-element Vector{Float64}:\n",
       " 1.0\n",
       " 2.0\n",
       " 3.0"
      ]
     },
     "execution_count": 630,
     "metadata": {},
     "output_type": "execute_result"
    }
   ],
   "source": [
    "@time waste(point)"
   ]
  },
  {
   "cell_type": "code",
   "execution_count": 63,
   "id": "c91d8bbd-32c4-4075-ad08-f85e69be286b",
   "metadata": {},
   "outputs": [
    {
     "name": "stdout",
     "output_type": "stream",
     "text": [
      "  0.000002 seconds (1 allocation: 80 bytes)\n"
     ]
    },
    {
     "data": {
      "text/plain": [
       "mult (generic function with 3 methods)"
      ]
     },
     "execution_count": 63,
     "metadata": {},
     "output_type": "execute_result"
    }
   ],
   "source": [
    "@time  A = @SMatrix rand(3,3)\n",
    "\n",
    "function mult(A, point)\n",
    "    point2 = A * point\n",
    "    return point2\n",
    "end"
   ]
  },
  {
   "cell_type": "code",
   "execution_count": 65,
   "id": "aa780312-7bc8-4222-8249-e0374a112062",
   "metadata": {},
   "outputs": [
    {
     "name": "stdout",
     "output_type": "stream",
     "text": [
      "  0.000005 seconds (1 allocation: 32 bytes)\n"
     ]
    },
    {
     "data": {
      "text/plain": [
       "3-element Point3D with indices SOneTo(3):\n",
       " 3.2656765334139397\n",
       " 2.114843778462256\n",
       " 3.059474147191788"
      ]
     },
     "execution_count": 65,
     "metadata": {},
     "output_type": "execute_result"
    }
   ],
   "source": [
    "@time mult(A, point)"
   ]
  },
  {
   "cell_type": "markdown",
   "id": "65ae173c-53a4-404c-aa6b-357b09853523",
   "metadata": {},
   "source": [
    "### Static array to struct"
   ]
  },
  {
   "cell_type": "code",
   "execution_count": 85,
   "id": "633d0b34-16e7-42cb-bb4c-19a2d13d4491",
   "metadata": {},
   "outputs": [
    {
     "name": "stdout",
     "output_type": "stream",
     "text": [
      "  0.000001 seconds\n"
     ]
    },
    {
     "data": {
      "text/plain": [
       "3-element Point3D with indices SOneTo(3):\n",
       " 1.0\n",
       " 2.0\n",
       " 3.0"
      ]
     },
     "execution_count": 85,
     "metadata": {},
     "output_type": "execute_result"
    }
   ],
   "source": [
    "@time convert(Point3D, @SVector[1.,2., 3.])"
   ]
  },
  {
   "cell_type": "markdown",
   "id": "dc13f6cd-9d99-4f9b-978f-9bd2fc490541",
   "metadata": {},
   "source": [
    "### view to struct "
   ]
  },
  {
   "cell_type": "code",
   "execution_count": 345,
   "id": "a2040af4-c139-46a4-884e-9b9cfcf22b24",
   "metadata": {},
   "outputs": [
    {
     "data": {
      "text/plain": [
       "Quad2DControlCmd1"
      ]
     },
     "execution_count": 345,
     "metadata": {},
     "output_type": "execute_result"
    }
   ],
   "source": [
    "mutable struct Point3DMutable <: FieldVector{3, Float64}\n",
    "    x::Float64\n",
    "    y::Float64\n",
    "    z::Float64\n",
    "end\n",
    "\n",
    "mutable struct Quad2DControlCmd1 <: FieldVector{2,Float64}\n",
    "    body_thrust::Float64\n",
    "    body_torque::Float64\n",
    "end\n",
    "\n",
    "Quad2DControlCmd = Quad2DControlCmd1"
   ]
  },
  {
   "cell_type": "code",
   "execution_count": 579,
   "id": "c7afaad0-87c4-4631-b79e-5445b291b584",
   "metadata": {},
   "outputs": [
    {
     "data": {
      "text/plain": [
       "selv1 (generic function with 1 method)"
      ]
     },
     "execution_count": 579,
     "metadata": {},
     "output_type": "execute_result"
    }
   ],
   "source": [
    "function selv1(d_state, state, params, t)\n",
    "    nx = 3\n",
    "    #X = @view state[1:nx]\n",
    "    \n",
    "    # state = convert(Point3DMutable, X)\n",
    "    return @SVector[1,2]\n",
    "end"
   ]
  },
  {
   "cell_type": "code",
   "execution_count": 582,
   "id": "63c6fdd6-ca09-4e2e-ac3d-6a79cb03ed43",
   "metadata": {},
   "outputs": [
    {
     "name": "stdout",
     "output_type": "stream",
     "text": [
      "  0.000003 seconds\n"
     ]
    },
    {
     "data": {
      "text/plain": [
       "2-element SVector{2, Int64} with indices SOneTo(2):\n",
       " 1\n",
       " 2"
      ]
     },
     "execution_count": 582,
     "metadata": {},
     "output_type": "execute_result"
    }
   ],
   "source": [
    "state = rand(8)\n",
    "quad_2d_params = (; m=1.0, L=0.1, I_xx=0.003)\n",
    "\n",
    "@time selv1(state,state, quad_2d_params, 0.1)\n",
    "\n"
   ]
  },
  {
   "cell_type": "markdown",
   "id": "b80e192a-a969-4928-8f64-7496c2da7e4d",
   "metadata": {},
   "source": [
    "# Waste"
   ]
  },
  {
   "cell_type": "code",
   "execution_count": 469,
   "id": "ab476e2f-17ea-4c38-8ef7-88f8754e8098",
   "metadata": {},
   "outputs": [
    {
     "data": {
      "text/plain": [
       "selv (generic function with 5 methods)"
      ]
     },
     "execution_count": 469,
     "metadata": {},
     "output_type": "execute_result"
    }
   ],
   "source": [
    "function selv(nx) \n",
    "    return @SVector[1,2]\n",
    "end"
   ]
  },
  {
   "cell_type": "code",
   "execution_count": 470,
   "id": "e42c3f1d-b8c0-4833-9da9-dcbc2cc698e6",
   "metadata": {},
   "outputs": [
    {
     "name": "stdout",
     "output_type": "stream",
     "text": [
      "  0.000001 seconds\n"
     ]
    }
   ],
   "source": [
    "@time selv(3);"
   ]
  },
  {
   "cell_type": "code",
   "execution_count": null,
   "id": "1c4026d3-1fe4-4269-8997-c40a8aa554d0",
   "metadata": {},
   "outputs": [],
   "source": []
  }
 ],
 "metadata": {
  "kernelspec": {
   "display_name": "Julia 1.9.1",
   "language": "julia",
   "name": "julia-1.9"
  },
  "language_info": {
   "file_extension": ".jl",
   "mimetype": "application/julia",
   "name": "julia",
   "version": "1.9.1"
  }
 },
 "nbformat": 4,
 "nbformat_minor": 5
}
