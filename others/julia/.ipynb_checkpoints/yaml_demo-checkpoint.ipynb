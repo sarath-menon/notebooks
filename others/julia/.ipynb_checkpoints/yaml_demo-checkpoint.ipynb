{
 "cells": [
  {
   "cell_type": "code",
   "execution_count": 1,
   "id": "539afb7a-68ef-483a-8dba-ac9f5fc2ec42",
   "metadata": {},
   "outputs": [
    {
     "name": "stderr",
     "output_type": "stream",
     "text": [
      "\u001b[32m\u001b[1m  Activating\u001b[22m\u001b[39m project at `~/Documents/eth_courses/notebooks/others/julia`\n"
     ]
    }
   ],
   "source": [
    "import Pkg; Pkg.activate(@__DIR__); Pkg.instantiate();"
   ]
  },
  {
   "cell_type": "code",
   "execution_count": 16,
   "id": "eb7a2a2a-f255-4b60-952b-7119e2a094a6",
   "metadata": {},
   "outputs": [],
   "source": [
    "import YAML\n",
    "using DataStructures"
   ]
  },
  {
   "cell_type": "markdown",
   "id": "87c857fe-4ce5-4208-9571-fc33dcb5aa7b",
   "metadata": {},
   "source": [
    "## Utilities "
   ]
  },
  {
   "cell_type": "code",
   "execution_count": 78,
   "id": "ccc5857e-2fc5-4a55-8039-dd6d9fed3ab8",
   "metadata": {},
   "outputs": [
    {
     "data": {
      "text/plain": [
       "recursive_dict_to_namedtuple (generic function with 1 method)"
      ]
     },
     "execution_count": 78,
     "metadata": {},
     "output_type": "execute_result"
    }
   ],
   "source": [
    "# recursive function to converted nested dict to nested NamedTuple\n",
    "\n",
    "function recursive_dict_to_namedtuple(val)\n",
    "    if typeof(val) == Dict{Symbol, Any}\n",
    "        tuple =  NamedTuple((Symbol(key), recursive_dict_to_namedtuple(value)) for (key,value) in val)\n",
    "        return tuple\n",
    "    else\n",
    "        return val\n",
    "    end\n",
    "end"
   ]
  },
  {
   "cell_type": "markdown",
   "id": "54ba8119-24d6-412f-9a9a-030f0a286dd6",
   "metadata": {},
   "source": [
    "## Load data"
   ]
  },
  {
   "cell_type": "code",
   "execution_count": 28,
   "id": "60729344-d171-44f0-a40c-ae760a51903f",
   "metadata": {
    "scrolled": true
   },
   "outputs": [
    {
     "name": "stdout",
     "output_type": "stream",
     "text": [
      "Dict{Symbol, Any}(:sim => Dict{Symbol, Any}(:log_file_prefix => \"logs\", :log_file_path => \"logs\", :dt => 0.01, :t_final => 100.0, :seed => 1), :vehicle => Dict{Symbol, Any}(:computers => Dict{Symbol, Any}[Dict(:model => \"microcontroller\")], :initial_state => Dict{Symbol, Any}(:pos => [0.0, 0.0, 0.0], :vel => [0.0, 0.0, 0.0], :ω_BI => [0.0, 0.0, 0.0], :q_BI => Real[1, 0.0, 0.0, 0.0]), :type => \"quadcopter\", :name => \"crazyflie\", :properties => Dict{Symbol, Any}(:I_matrix => [[5.0, 0.0, 0.0], [0.0, 5.0, 0.0], [0.0, 0.0, 5.0]], :mass => 1), :sensors => Dict{Symbol, Any}[Dict(:type => \"gyroscope\", :name => \"gyro\", :constants => Dict{Symbol, Any}(:angular_random_walk => 0.0, :bias_random_walk => 0.0, :initial_bias_magnitude => 0.0), :sampling_rate => 1000)]))\n"
     ]
    }
   ],
   "source": [
    "data = YAML.load_file(\"test.yml\"; dicttype=Dict{Symbol,Any})\n",
    "println(data)"
   ]
  },
  {
   "cell_type": "markdown",
   "id": "09ed3ff7-8c95-4ad2-9e1a-bf521beea38b",
   "metadata": {},
   "source": [
    "# Convert to NamedTuple"
   ]
  },
  {
   "cell_type": "code",
   "execution_count": 88,
   "id": "55b241ce-f774-4bb4-8375-dfd15a61514d",
   "metadata": {},
   "outputs": [
    {
     "data": {
      "text/plain": [
       "(sim = (log_file_prefix = \"logs\", log_file_path = \"logs\", dt = 0.01, t_final = 100.0, seed = 1), vehicle = (computers = Dict{Symbol, Any}[Dict(:model => \"microcontroller\")], initial_state = (pos = [0.0, 0.0, 0.0], vel = [0.0, 0.0, 0.0], ω_BI = [0.0, 0.0, 0.0], q_BI = Real[1, 0.0, 0.0, 0.0]), type = \"quadcopter\", name = \"crazyflie\", properties = (I_matrix = [[5.0, 0.0, 0.0], [0.0, 5.0, 0.0], [0.0, 0.0, 5.0]], mass = 1), sensors = Dict{Symbol, Any}[Dict(:type => \"gyroscope\", :name => \"gyro\", :constants => Dict{Symbol, Any}(:angular_random_walk => 0.0, :bias_random_walk => 0.0, :initial_bias_magnitude => 0.0), :sampling_rate => 1000)]))"
      ]
     },
     "execution_count": 88,
     "metadata": {},
     "output_type": "execute_result"
    }
   ],
   "source": [
    "params = recursive_dict_to_namedtuple(data)"
   ]
  },
  {
   "cell_type": "code",
   "execution_count": 89,
   "id": "58a770db-da34-4d49-9442-70f858fae9af",
   "metadata": {},
   "outputs": [
    {
     "data": {
      "text/plain": [
       "(log_file_prefix = \"logs\", log_file_path = \"logs\", dt = 0.01, t_final = 100.0, seed = 1)"
      ]
     },
     "execution_count": 89,
     "metadata": {},
     "output_type": "execute_result"
    }
   ],
   "source": [
    "\n",
    "sim_params = params.sim"
   ]
  },
  {
   "cell_type": "code",
   "execution_count": 91,
   "id": "51635911-b476-486a-a994-144b09d0234c",
   "metadata": {},
   "outputs": [
    {
     "data": {
      "text/plain": [
       "3-element Vector{Float64}:\n",
       " 0.0\n",
       " 0.0\n",
       " 0.0"
      ]
     },
     "execution_count": 91,
     "metadata": {},
     "output_type": "execute_result"
    }
   ],
   "source": [
    "params.vehicle.initial_state.pos"
   ]
  },
  {
   "cell_type": "code",
   "execution_count": null,
   "id": "1a8556c3-6c69-4c4d-a48d-0fb32c8d09e8",
   "metadata": {},
   "outputs": [],
   "source": []
  }
 ],
 "metadata": {
  "kernelspec": {
   "display_name": "control_precompiled 1.9.1",
   "language": "julia",
   "name": "control_precompiled-1.9"
  },
  "language_info": {
   "file_extension": ".jl",
   "mimetype": "application/julia",
   "name": "julia",
   "version": "1.9.1"
  }
 },
 "nbformat": 4,
 "nbformat_minor": 5
}
