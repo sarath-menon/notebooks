{
 "cells": [
  {
   "cell_type": "code",
   "execution_count": 1,
   "id": "b77770d8-cf88-4aa7-8bc0-234987e0bd36",
   "metadata": {},
   "outputs": [
    {
     "name": "stderr",
     "output_type": "stream",
     "text": [
      "\u001b[32m\u001b[1m  Activating\u001b[22m\u001b[39m project at `~/Documents/eth_courses/notebooks/others/julia`\n"
     ]
    }
   ],
   "source": [
    "import Pkg; Pkg.activate(@__DIR__); Pkg.instantiate();\n",
    "using StaticArrays"
   ]
  },
  {
   "cell_type": "code",
   "execution_count": 3,
   "id": "11806cf2-27f4-4633-bf38-1a247d4adc95",
   "metadata": {},
   "outputs": [],
   "source": [
    "using PropCheck"
   ]
  },
  {
   "cell_type": "markdown",
   "id": "00508b73-c60b-417c-bde4-b6a08230aeaf",
   "metadata": {},
   "source": [
    "## Function "
   ]
  },
  {
   "cell_type": "code",
   "execution_count": 4,
   "id": "35ec1751-7060-4bdd-94aa-42628291613d",
   "metadata": {},
   "outputs": [
    {
     "data": {
      "text/plain": [
       "add (generic function with 1 method)"
      ]
     },
     "execution_count": 4,
     "metadata": {},
     "output_type": "execute_result"
    }
   ],
   "source": [
    "function add(a,b)\n",
    "    a + b\n",
    "end"
   ]
  },
  {
   "cell_type": "markdown",
   "id": "e9bb2ae8-d691-4e77-80d9-ec6d45efdc1d",
   "metadata": {},
   "source": [
    "## Properties"
   ]
  },
  {
   "cell_type": "code",
   "execution_count": 5,
   "id": "ae1e1bfc-a0b8-4218-9d50-3c40dd62fcfa",
   "metadata": {},
   "outputs": [
    {
     "data": {
      "text/plain": [
       "identity_add (generic function with 1 method)"
      ]
     },
     "execution_count": 5,
     "metadata": {},
     "output_type": "execute_result"
    }
   ],
   "source": [
    "commutative(a,b)   =  add(a,b) == add(b,a)\n",
    "associative(a,b,c) =  add(add(a,b), c) == add(a, add(b,c))\n",
    "identity_add(a)    =  add(a,0) == a"
   ]
  },
  {
   "cell_type": "code",
   "execution_count": 8,
   "id": "129238b2-cc0d-490d-b169-ad4ae32c526d",
   "metadata": {},
   "outputs": [],
   "source": [
    "gen = PropCheck.itype(Float64);"
   ]
  },
  {
   "cell_type": "code",
   "execution_count": 9,
   "id": "78c4f155-4c9f-409a-a9da-f0a8217273ae",
   "metadata": {},
   "outputs": [
    {
     "data": {
      "text/plain": [
       "true"
      ]
     },
     "execution_count": 9,
     "metadata": {},
     "output_type": "execute_result"
    }
   ],
   "source": [
    "check(identity_add, gen)"
   ]
  },
  {
   "cell_type": "markdown",
   "id": "e4ba7696-8f38-4d58-a4ad-9da105f1c5f6",
   "metadata": {},
   "source": [
    "# Generating tuples, vectors"
   ]
  },
  {
   "cell_type": "markdown",
   "id": "6c3d026e-be7a-44c1-981f-b88f05a2aac8",
   "metadata": {},
   "source": [
    "### Property "
   ]
  },
  {
   "cell_type": "code",
   "execution_count": 10,
   "id": "01e3276e-a65d-4269-b509-30bf5e8762da",
   "metadata": {},
   "outputs": [
    {
     "data": {
      "text/plain": [
       "prop (generic function with 1 method)"
      ]
     },
     "execution_count": 10,
     "metadata": {},
     "output_type": "execute_result"
    }
   ],
   "source": [
    "prop(x) = all(<(5.0), x)"
   ]
  },
  {
   "cell_type": "markdown",
   "id": "fa413f18-8c6c-4188-9ab0-819c747bff48",
   "metadata": {},
   "source": [
    "### Tuple/ Vector generation"
   ]
  },
  {
   "cell_type": "code",
   "execution_count": 11,
   "id": "9546dbf5-d69f-4fea-8260-1785b9b4a698",
   "metadata": {},
   "outputs": [
    {
     "data": {
      "text/plain": [
       "Tree((-6.728631590328082e-130, 6.091186719920427e-85, 3.4115387051174426e66))"
      ]
     },
     "execution_count": 11,
     "metadata": {},
     "output_type": "execute_result"
    }
   ],
   "source": [
    "const_sized_tuple = PropCheck.tuple(iconst(3), itype(Float64));\n",
    "\n",
    "tree = generate(const_sized_tuple)"
   ]
  },
  {
   "cell_type": "code",
   "execution_count": 12,
   "id": "b5879e0c-0f0b-412d-9400-7059ea3c9e36",
   "metadata": {},
   "outputs": [
    {
     "data": {
      "text/plain": [
       "Tree([-1.3556909538187212e266, 1.2853391639501623e-222, 1.2082108362713708e-167])"
      ]
     },
     "execution_count": 12,
     "metadata": {},
     "output_type": "execute_result"
    }
   ],
   "source": [
    "vec = PropCheck.vector(iconst(3), itype(Float64));\n",
    "\n",
    "tree = generate(vec)"
   ]
  },
  {
   "cell_type": "markdown",
   "id": "83f92605-fee1-41cb-ad58-871dfdf7e5ff",
   "metadata": {},
   "source": [
    "### Checking "
   ]
  },
  {
   "cell_type": "code",
   "execution_count": 14,
   "id": "4777193e-50ca-4f33-99e6-b7c291798188",
   "metadata": {},
   "outputs": [
    {
     "name": "stderr",
     "output_type": "stream",
     "text": [
      "\u001b[36m\u001b[1m┌ \u001b[22m\u001b[39m\u001b[36m\u001b[1mInfo: \u001b[22m\u001b[39mFound counterexample for 'prop', beginning shrinking...\n",
      "\u001b[36m\u001b[1m└ \u001b[22m\u001b[39m  Counterexample = (-0.0032584873886695592, 7.359431498936875e261, 2.0949439509505647e-138)\n",
      "\u001b[36m\u001b[1m[ \u001b[22m\u001b[39m\u001b[36m\u001b[1mInfo: \u001b[22m\u001b[39m120 counterexamples found\n"
     ]
    },
    {
     "data": {
      "text/plain": [
       "(0.0, 8.0, 0.0)"
      ]
     },
     "execution_count": 14,
     "metadata": {},
     "output_type": "execute_result"
    }
   ],
   "source": [
    "check(prop, const_sized_tuple)"
   ]
  },
  {
   "cell_type": "code",
   "execution_count": 15,
   "id": "683cc276-61d3-475d-9bdd-cafcabb09eaa",
   "metadata": {},
   "outputs": [
    {
     "name": "stderr",
     "output_type": "stream",
     "text": [
      "\u001b[36m\u001b[1m┌ \u001b[22m\u001b[39m\u001b[36m\u001b[1mInfo: \u001b[22m\u001b[39mFound counterexample for 'prop', beginning shrinking...\n",
      "\u001b[36m\u001b[1m│ \u001b[22m\u001b[39m  Counterexample =\n",
      "\u001b[36m\u001b[1m│ \u001b[22m\u001b[39m   3-element Vector{Float64}:\n",
      "\u001b[36m\u001b[1m│ \u001b[22m\u001b[39m    -2.1497476434070288e-147\n",
      "\u001b[36m\u001b[1m│ \u001b[22m\u001b[39m     2.125662225149926e15\n",
      "\u001b[36m\u001b[1m└ \u001b[22m\u001b[39m     1.6445875947147834e-279\n",
      "\u001b[36m\u001b[1m[ \u001b[22m\u001b[39m\u001b[36m\u001b[1mInfo: \u001b[22m\u001b[39m180 counterexamples found\n"
     ]
    },
    {
     "data": {
      "text/plain": [
       "3-element Vector{Float64}:\n",
       " 0.0\n",
       " 5.0\n",
       " 0.0"
      ]
     },
     "execution_count": 15,
     "metadata": {},
     "output_type": "execute_result"
    }
   ],
   "source": [
    "check(prop, vec)"
   ]
  },
  {
   "cell_type": "markdown",
   "id": "0acb0613-9b1f-49c5-b10f-8dcb3cb2e5e2",
   "metadata": {},
   "source": [
    "# Example"
   ]
  },
  {
   "cell_type": "code",
   "execution_count": 4,
   "id": "8bb054de-f675-4709-9853-2f0986693879",
   "metadata": {},
   "outputs": [
    {
     "data": {
      "text/plain": [
       "check_bound (generic function with 1 method)"
      ]
     },
     "execution_count": 4,
     "metadata": {},
     "output_type": "execute_result"
    }
   ],
   "source": [
    "struct State3D <: FieldVector{3, Float64}\n",
    "   x::Float64\n",
    "   y::Float64\n",
    "   z::Float64\n",
    "end\n",
    "\n",
    "# Check if all state values are within 5\n",
    "function check_bound(state::State3D)\n",
    "    all(<(5.0), state)\n",
    "end"
   ]
  },
  {
   "cell_type": "code",
   "execution_count": 42,
   "id": "675d69cd-8d50-489a-9be9-b3729e2729b3",
   "metadata": {},
   "outputs": [
    {
     "data": {
      "text/plain": [
       "true"
      ]
     },
     "execution_count": 42,
     "metadata": {},
     "output_type": "execute_result"
    }
   ],
   "source": [
    "state1 = State3D(1,2,3)\n",
    "check_bound(state1)"
   ]
  },
  {
   "cell_type": "code",
   "execution_count": 59,
   "id": "8e0b4fb7-7f28-44d7-bfb9-ecc915a24875",
   "metadata": {},
   "outputs": [],
   "source": [
    "# Range of values for x,y,z\n",
    "val_range = isample(0:0.001:6.0);\n",
    "\n",
    "students = PropCheck.vector(iconst(3), val_range);\n",
    "struct_created = map(State3D, students);"
   ]
  },
  {
   "cell_type": "markdown",
   "id": "d1e709b2-db38-443b-804c-5b5f7b170490",
   "metadata": {},
   "source": [
    "### Sample inputs "
   ]
  },
  {
   "cell_type": "code",
   "execution_count": 57,
   "id": "eb0268f4-bcf7-4737-b3ec-935e78694e4d",
   "metadata": {},
   "outputs": [
    {
     "data": {
      "text/plain": [
       "5-element Vector{PropCheck.Tree{State3D}}:\n",
       " Tree([0.551, 2.489, 4.805])\n",
       " Tree([2.553, 4.516, 3.979])\n",
       " Tree([0.353, 5.996, 1.86])\n",
       " Tree([2.6, 1.928, 0.758])\n",
       " Tree([2.341, 3.039, 5.201])"
      ]
     },
     "execution_count": 57,
     "metadata": {},
     "output_type": "execute_result"
    }
   ],
   "source": [
    "sample_vec = [ generate(struct_created) for _ in 1:5 ]"
   ]
  },
  {
   "cell_type": "code",
   "execution_count": 58,
   "id": "04ae127b-bb41-42db-b85b-843ac96772bf",
   "metadata": {},
   "outputs": [
    {
     "name": "stderr",
     "output_type": "stream",
     "text": [
      "\u001b[36m\u001b[1m┌ \u001b[22m\u001b[39m\u001b[36m\u001b[1mInfo: \u001b[22m\u001b[39mFound counterexample for 'check_bound', beginning shrinking...\n",
      "\u001b[36m\u001b[1m│ \u001b[22m\u001b[39m  Counterexample =\n",
      "\u001b[36m\u001b[1m│ \u001b[22m\u001b[39m   3-element State3D with indices SOneTo(3):\n",
      "\u001b[36m\u001b[1m│ \u001b[22m\u001b[39m    2.032\n",
      "\u001b[36m\u001b[1m│ \u001b[22m\u001b[39m    2.361\n",
      "\u001b[36m\u001b[1m└ \u001b[22m\u001b[39m    5.627\n",
      "\u001b[36m\u001b[1m[ \u001b[22m\u001b[39m\u001b[36m\u001b[1mInfo: \u001b[22m\u001b[39m611 counterexamples found\n"
     ]
    },
    {
     "data": {
      "text/plain": [
       "3-element State3D with indices SOneTo(3):\n",
       " 0.0\n",
       " 0.0\n",
       " 5.0"
      ]
     },
     "execution_count": 58,
     "metadata": {},
     "output_type": "execute_result"
    }
   ],
   "source": [
    "check(check_bound, struct_created)"
   ]
  },
  {
   "cell_type": "markdown",
   "id": "6f72926c-2659-43ca-b21f-a56aa3ccd19f",
   "metadata": {},
   "source": [
    "### Create structs using interleave"
   ]
  },
  {
   "cell_type": "code",
   "execution_count": 70,
   "id": "4213df60-bf8b-4ccd-b7fa-14550babcecc",
   "metadata": {},
   "outputs": [
    {
     "data": {
      "text/plain": [
       "Tree([1.54, 2.23, 0.19])"
      ]
     },
     "execution_count": 70,
     "metadata": {},
     "output_type": "execute_result"
    }
   ],
   "source": [
    "# State Ranges \n",
    "x = isample(1.0:4.0)\n",
    "y = isample(2.0:4.0)\n",
    "z = isample(1.0:2.0)\n",
    "\n",
    "# create state\n",
    "x_range = isample(0:0.01:2.0);\n",
    "y_range = isample(0:0.01:3.0);\n",
    "z_range = isample(0:0.01:6.0);\n",
    "\n",
    "iargs = interleave(x_range, y_range, z_range);\n",
    "\n",
    "istate = map(splat(State3D), iargs);\n",
    "generate(istate)"
   ]
  },
  {
   "cell_type": "code",
   "execution_count": 72,
   "id": "3a2188ac-10c5-46cb-9759-bb57f2516c44",
   "metadata": {},
   "outputs": [
    {
     "name": "stderr",
     "output_type": "stream",
     "text": [
      "\u001b[36m\u001b[1m┌ \u001b[22m\u001b[39m\u001b[36m\u001b[1mInfo: \u001b[22m\u001b[39mFound counterexample for 'check_bound', beginning shrinking...\n",
      "\u001b[36m\u001b[1m│ \u001b[22m\u001b[39m  Counterexample =\n",
      "\u001b[36m\u001b[1m│ \u001b[22m\u001b[39m   3-element State3D with indices SOneTo(3):\n",
      "\u001b[36m\u001b[1m│ \u001b[22m\u001b[39m    0.18\n",
      "\u001b[36m\u001b[1m│ \u001b[22m\u001b[39m    2.07\n",
      "\u001b[36m\u001b[1m└ \u001b[22m\u001b[39m    5.96\n",
      "\u001b[36m\u001b[1m[ \u001b[22m\u001b[39m\u001b[36m\u001b[1mInfo: \u001b[22m\u001b[39m610 counterexamples found\n"
     ]
    },
    {
     "data": {
      "text/plain": [
       "3-element State3D with indices SOneTo(3):\n",
       " 0.0\n",
       " 0.0\n",
       " 5.0"
      ]
     },
     "execution_count": 72,
     "metadata": {},
     "output_type": "execute_result"
    }
   ],
   "source": [
    "check(check_bound, istate)"
   ]
  },
  {
   "cell_type": "code",
   "execution_count": null,
   "id": "19a52e35-4663-4221-8cea-64cf3c24eaac",
   "metadata": {},
   "outputs": [],
   "source": []
  }
 ],
 "metadata": {
  "kernelspec": {
   "display_name": "control_precompiled 1.9.1",
   "language": "julia",
   "name": "control_precompiled-1.9"
  },
  "language_info": {
   "file_extension": ".jl",
   "mimetype": "application/julia",
   "name": "julia",
   "version": "1.9.1"
  }
 },
 "nbformat": 4,
 "nbformat_minor": 5
}
