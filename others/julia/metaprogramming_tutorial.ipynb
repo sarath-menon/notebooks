{
 "cells": [
  {
   "cell_type": "code",
   "execution_count": 17,
   "id": "41968d9c-ce71-4ec2-ad64-d201ea0f86ee",
   "metadata": {},
   "outputs": [
    {
     "name": "stderr",
     "output_type": "stream",
     "text": [
      "\u001b[32m\u001b[1m  Activating\u001b[22m\u001b[39m new project at `~/Documents/eth_courses/notebooks/others`\n",
      "\u001b[32m\u001b[1m  No Changes\u001b[22m\u001b[39m to `~/Documents/eth_courses/notebooks/others/Project.toml`\n",
      "\u001b[32m\u001b[1m  No Changes\u001b[22m\u001b[39m to `~/Documents/eth_courses/notebooks/others/Manifest.toml`\n"
     ]
    }
   ],
   "source": [
    "import Pkg; Pkg.activate(@__DIR__); Pkg.instantiate();"
   ]
  },
  {
   "cell_type": "markdown",
   "id": "86b6f32c-6a76-46a9-8971-eba33f1f45ec",
   "metadata": {},
   "source": [
    "## @show macro"
   ]
  },
  {
   "cell_type": "code",
   "execution_count": 16,
   "id": "87647edf-4004-4482-96ea-30668fa914cf",
   "metadata": {},
   "outputs": [
    {
     "name": "stdout",
     "output_type": "stream",
     "text": [
      "x= 64.0\n",
      "x = 64.0\n"
     ]
    },
    {
     "data": {
      "text/plain": [
       "quote\n",
       "    Base.println(\"x = \", Base.repr(begin\n",
       "                local var\"#35#value\" = x\n",
       "            end))\n",
       "    var\"#35#value\"\n",
       "end"
      ]
     },
     "execution_count": 16,
     "metadata": {},
     "output_type": "execute_result"
    }
   ],
   "source": [
    "let\n",
    "\n",
    "x::Float64 = 64.0\n",
    "\n",
    "function myshow(x::Float64)\n",
    "    println(\"x= \" , x);\n",
    "end\n",
    "\n",
    "myshow(x) # custom  function \n",
    "\n",
    "@show x #macro\n",
    "\n",
    "# show generated code\n",
    "Base.remove_linenums!(@macroexpand @show x) \n",
    "end"
   ]
  },
  {
   "cell_type": "code",
   "execution_count": null,
   "id": "7383fbbb-9545-4d84-b59f-23d051e34212",
   "metadata": {},
   "outputs": [],
   "source": [
    " "
   ]
  },
  {
   "cell_type": "code",
   "execution_count": null,
   "id": "506d33d0-652a-4e3c-b6e3-52edf3b43d1e",
   "metadata": {},
   "outputs": [],
   "source": []
  }
 ],
 "metadata": {
  "kernelspec": {
   "display_name": "Julia 1.9.1",
   "language": "julia",
   "name": "julia-1.9"
  },
  "language_info": {
   "file_extension": ".jl",
   "mimetype": "application/julia",
   "name": "julia",
   "version": "1.9.1"
  }
 },
 "nbformat": 4,
 "nbformat_minor": 5
}
