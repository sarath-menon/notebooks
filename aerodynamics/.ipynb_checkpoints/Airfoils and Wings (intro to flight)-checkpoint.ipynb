{
 "cells": [
  {
   "cell_type": "code",
   "execution_count": 1,
   "id": "40b01900",
   "metadata": {},
   "outputs": [],
   "source": [
    "import numpy as np"
   ]
  },
  {
   "cell_type": "code",
   "execution_count": 42,
   "id": "c9ff3aac",
   "metadata": {},
   "outputs": [],
   "source": [
    "# atmospheric data \n",
    "rho_inf = 1.225 # air density [kg/m^3]\n",
    "mu_inf = 1.789e-5 # viscosity coefficent [kg/m^3]\n",
    "\n",
    "def get_reynolds_number(V_inf, x):\n",
    "    reynolds_no = (rho_inf*V_inf*x) / mu_inf\n",
    "    return reynolds_no\n",
    "\n",
    "def get_dynamic_pressure(v_inf):\n",
    "    q_inf = 0.5*rho_inf*np.square(v_inf)\n",
    "    return q_inf\n",
    "\n",
    "def get_lift_force_pressure(v_inf, S, c_l):\n",
    "    # compute dynamic pressure\n",
    "    q_inf = 0.5*rho_inf*np.square(v_inf)\n",
    "    \n",
    "    # compute lift force \n",
    "    lift_force = q_inf*S*c_l\n",
    "    \n",
    "    return lift_force"
   ]
  },
  {
   "cell_type": "markdown",
   "id": "0aad34a3",
   "metadata": {},
   "source": [
    "## Example 5.1"
   ]
  },
  {
   "cell_type": "code",
   "execution_count": 41,
   "id": "adfd923e",
   "metadata": {},
   "outputs": [
    {
     "name": "stdout",
     "output_type": "stream",
     "text": [
      "Reynold's number at trailing edge: 4.45e+06\n",
      "Dynamic pressure: 1531.25 N/m^2\n"
     ]
    }
   ],
   "source": [
    "# data given in the problem\n",
    "c = 1.3 # chord length [#m]\n",
    "v_inf = 50 # flow velocity [#m/s]\n",
    "alpha = 4 # angle of attack [#degrees]\n",
    "\n",
    "# ~~~~~~~~~~~~~~~~~~~~~~~~~~~~~~~~~~~~~~~~~~~\n",
    "                    # Part 1\n",
    "# ~~~~~~~~~~~~~~~~~~~~~~~~~~~~~~~~~~~~~~~~~~~\n",
    "\n",
    "# info obtained from NACA data for 4 degree angle of attack\n",
    "c_l = 0.63 # lift coefficient \n",
    "c_m = -0.035 # moment coefficient \n",
    "\n",
    "# calculate reynold's number at the trailing edge\n",
    "R = get_reynolds_number(v_inf, c)\n",
    "print(\"Reynold's number at trailing edge:\", np.format_float_scientific(R, precision=2))\n",
    "\n",
    "# now, we can check the value of c_d for required values of c_l and the obtained Reynold's number \n",
    "c_d = 0.0007\n",
    "\n",
    "# ~~~~~~~~~~~~~~~~~~~~~~~~~~~~~~~~~~~~~~~~~~~\n",
    "                    # Part 2\n",
    "# ~~~~~~~~~~~~~~~~~~~~~~~~~~~~~~~~~~~~~~~~~~~\n",
    "\n",
    "# calcuate the dynamic pressure\n",
    "q_inf = get_dynamic_pressure(v_inf)\n",
    "print(\"Dynamic pressure:\", q_inf, 'N/m^2')\n",
    "\n",
    "# calculate the lift force\n",
    "0.5*rho_inf*np.square(v_inf)"
   ]
  },
  {
   "cell_type": "code",
   "execution_count": 38,
   "id": "c043ea4d",
   "metadata": {},
   "outputs": [
    {
     "data": {
      "text/plain": [
       "1531.25"
      ]
     },
     "execution_count": 38,
     "metadata": {},
     "output_type": "execute_result"
    }
   ],
   "source": [
    "0.5*rho_inf*np.square(v_inf)"
   ]
  },
  {
   "cell_type": "code",
   "execution_count": null,
   "id": "aec43e70",
   "metadata": {},
   "outputs": [],
   "source": []
  }
 ],
 "metadata": {
  "kernelspec": {
   "display_name": "Python 3 (ipykernel)",
   "language": "python",
   "name": "python3"
  },
  "language_info": {
   "codemirror_mode": {
    "name": "ipython",
    "version": 3
   },
   "file_extension": ".py",
   "mimetype": "text/x-python",
   "name": "python",
   "nbconvert_exporter": "python",
   "pygments_lexer": "ipython3",
   "version": "3.10.8"
  }
 },
 "nbformat": 4,
 "nbformat_minor": 5
}
