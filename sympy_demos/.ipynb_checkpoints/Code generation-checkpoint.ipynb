{
 "cells": [
  {
   "cell_type": "code",
   "execution_count": 9,
   "id": "ff302755",
   "metadata": {},
   "outputs": [],
   "source": [
    "import sympy as sp\n",
    "sp.init_printing(use_unicode=True)\n",
    "from sympy.abc import a,k,x\n",
    "\n",
    "\n",
    "from sympy.codegen.ast import Assignment\n",
    "from sympy.codegen.ast import real, float80\n",
    "from sympy.utilities.codegen import codegen\n",
    "\n",
    "from sympy.algebras.quaternion import Quaternion "
   ]
  },
  {
   "cell_type": "markdown",
   "id": "df04ba0c",
   "metadata": {},
   "source": [
    "# Highest level"
   ]
  },
  {
   "cell_type": "markdown",
   "id": "c40ba3b5",
   "metadata": {},
   "source": [
    "## Generate C-code"
   ]
  },
  {
   "cell_type": "code",
   "execution_count": 13,
   "id": "b9680380",
   "metadata": {},
   "outputs": [
    {
     "data": {
      "text/plain": [
       "'-1.0/2.0*pow(a, 2)*k*x'"
      ]
     },
     "execution_count": 13,
     "metadata": {},
     "output_type": "execute_result"
    }
   ],
   "source": [
    "expr = (sp.Rational(-1, 2) * x * k * (a**2) )\n",
    "\n",
    "sp.ccode(expr)"
   ]
  },
  {
   "cell_type": "code",
   "execution_count": 14,
   "id": "4fca6706",
   "metadata": {
    "scrolled": true
   },
   "outputs": [
    {
     "data": {
      "text/plain": [
       "'E = -1.0L/2.0L*powl(a, 2)*k*x;'"
      ]
     },
     "execution_count": 14,
     "metadata": {},
     "output_type": "execute_result"
    }
   ],
   "source": [
    "sp.ccode(expr, assign_to=\"E\", type_aliases={real: float80})"
   ]
  },
  {
   "cell_type": "code",
   "execution_count": 16,
   "id": "3f006127",
   "metadata": {},
   "outputs": [
    {
     "name": "stdout",
     "output_type": "stream",
     "text": [
      "#include \"test.h\"\n",
      "#include <math.h>\n",
      "double volume(double breadth, double height, double length) {\n",
      "   double volume_result;\n",
      "   volume_result = breadth*height*length;\n",
      "   return volume_result;\n",
      "}\n",
      "\n"
     ]
    }
   ],
   "source": [
    "length, breadth, height = sp.symbols('length, breadth, height')\n",
    "\n",
    "expr = length*breadth*height\n",
    "\n",
    "[(c_name, c_code), (h_name, c_header)] = \\\n",
    "codegen(('volume', expr), \"C99\", \"test\", header=False, empty=False)\n",
    "\n",
    "print(c_code)"
   ]
  },
  {
   "cell_type": "markdown",
   "id": "a0b0fc66",
   "metadata": {},
   "source": [
    "## Generate julia code"
   ]
  },
  {
   "cell_type": "code",
   "execution_count": 18,
   "id": "08017119",
   "metadata": {},
   "outputs": [
    {
     "name": "stdout",
     "output_type": "stream",
     "text": [
      "H_is = breadth .* height .* length\n"
     ]
    }
   ],
   "source": [
    "print(sp.julia_code(expr, assign_to=\"H_is\"))"
   ]
  },
  {
   "cell_type": "markdown",
   "id": "dc68e384",
   "metadata": {},
   "source": [
    "## Lambdify"
   ]
  },
  {
   "cell_type": "code",
   "execution_count": 19,
   "id": "060b334c",
   "metadata": {},
   "outputs": [
    {
     "data": {
      "image/png": "[encoded data removed]",
      "text/latex": [
       "$\\displaystyle 16 + 64 i + 4 j + 0 k$"
      ],
      "text/plain": [
       "16 + 64*i + 4*j + 0*k"
      ]
     },
     "execution_count": 19,
     "metadata": {},
     "output_type": "execute_result"
    }
   ],
   "source": [
    "from sympy.utilities.lambdify import implemented_function\n",
    "from sympy import lambdify\n",
    "\n",
    "f = implemented_function('f', lambda x: Quaternion(x**2, x**3, x))\n",
    "lam_f = lambdify(x, f(x))\n",
    "lam_f(4)"
   ]
  },
  {
   "cell_type": "markdown",
   "id": "71d7dbce",
   "metadata": {},
   "source": [
    "# Intermediate level"
   ]
  },
  {
   "cell_type": "markdown",
   "id": "8546b7a6",
   "metadata": {},
   "source": [
    "# Demos"
   ]
  },
  {
   "cell_type": "markdown",
   "id": "cc855d7a",
   "metadata": {},
   "source": [
    "### Rotation matrix to quaternion"
   ]
  },
  {
   "cell_type": "code",
   "execution_count": 26,
   "id": "23749838",
   "metadata": {},
   "outputs": [
    {
     "name": "stdout",
     "output_type": "stream",
     "text": [
      "#include \"test.h\"\n",
      "#include <math.h>\n",
      "double quat(double x) {\n",
      "   double quat_result;\n",
      "   quat_result = (1.0/2.0)*M_SQRT2*sqrt(cos(x) + 1);\n",
      "   return quat_result;\n",
      "}\n",
      "\n"
     ]
    }
   ],
   "source": [
    "Rx = sp.rot_axis3(x)\n",
    "\n",
    "q = sp.trigsimp(Quaternion.from_rotation_matrix(Rx))\n",
    "\n",
    "q1 = q.a\n",
    "q2 = q.a\n",
    "q3 = q.a\n",
    "q4 = q.a\n",
    "\n",
    "expr = q.a\n",
    "\n",
    "[(c_name, c_code), (h_name, c_header)] = \\\n",
    "codegen(('quat', expr), \"C99\", \"test\", header=False, empty=False)\n",
    "print(c_code)"
   ]
  },
  {
   "cell_type": "code",
   "execution_count": 27,
   "id": "507b7a56",
   "metadata": {},
   "outputs": [],
   "source": [
    "# # write to file\n",
    "# codegen(('quat', expr), \"C99\", \"test\", header=False, empty=False,  to_files=True)\n",
    "\n",
    "# print(c_code)\n",
    "# !gcc test.c -lm -o run"
   ]
  },
  {
   "cell_type": "markdown",
   "id": "f65157c0",
   "metadata": {},
   "source": [
    "###  quaternion to Rotation matrix"
   ]
  },
  {
   "cell_type": "code",
   "execution_count": 88,
   "id": "7dec21fb",
   "metadata": {},
   "outputs": [
    {
     "name": "stdout",
     "output_type": "stream",
     "text": [
      "#include \"test.h\"\n",
      "#include <math.h>\n",
      "void quat(double qw, double qx, double qy, double qz, double *out_7561800289214134784) {\n",
      "   out_7561800289214134784[0] = -2*(pow(qy, 2) + pow(qz, 2))/(pow(qw, 2) + pow(qx, 2) + pow(qy, 2) + pow(qz, 2)) + 1;\n",
      "   out_7561800289214134784[1] = 2*(-qw*qz + qx*qy)/(pow(qw, 2) + pow(qx, 2) + pow(qy, 2) + pow(qz, 2));\n",
      "   out_7561800289214134784[2] = 2*(qw*qy + qx*qz)/(pow(qw, 2) + pow(qx, 2) + pow(qy, 2) + pow(qz, 2));\n",
      "   out_7561800289214134784[3] = 2*(qw*qz + qx*qy)/(pow(qw, 2) + pow(qx, 2) + pow(qy, 2) + pow(qz, 2));\n",
      "   out_7561800289214134784[4] = -2*(pow(qx, 2) + pow(qz, 2))/(pow(qw, 2) + pow(qx, 2) + pow(qy, 2) + pow(qz, 2)) + 1;\n",
      "   out_7561800289214134784[5] = 2*(-qw*qx + qy*qz)/(pow(qw, 2) + pow(qx, 2) + pow(qy, 2) + pow(qz, 2));\n",
      "   out_7561800289214134784[6] = 2*(-qw*qy + qx*qz)/(pow(qw, 2) + pow(qx, 2) + pow(qy, 2) + pow(qz, 2));\n",
      "   out_7561800289214134784[7] = 2*(qw*qx + qy*qz)/(pow(qw, 2) + pow(qx, 2) + pow(qy, 2) + pow(qz, 2));\n",
      "   out_7561800289214134784[8] = -2*(pow(qx, 2) + pow(qy, 2))/(pow(qw, 2) + pow(qx, 2) + pow(qy, 2) + pow(qz, 2)) + 1;\n",
      "}\n",
      "\n"
     ]
    }
   ],
   "source": [
    "qw, qx, qy, qz = sp.symbols(\"qw qx qy qz\") \n",
    "q = Quaternion(qw, qx, qy, qz)\n",
    "\n",
    "R = trigsimp(q.to_rotation_matrix())\n",
    "expr = R\n",
    "\n",
    "# X = Matrix([[x],[y],[z]])\n",
    "# expr = R*X\n",
    "\n",
    "[(c_name, c_code), (h_name, c_header)] = \\\n",
    "codegen(('quat', expr), \"C99\", \"test\", header=False, empty=False)\n",
    "print(c_code)"
   ]
  },
  {
   "cell_type": "markdown",
   "id": "64a11f46",
   "metadata": {},
   "source": [
    "## quaternion multiplication"
   ]
  },
  {
   "cell_type": "code",
   "execution_count": 91,
   "id": "154500d7",
   "metadata": {},
   "outputs": [
    {
     "name": "stdout",
     "output_type": "stream",
     "text": [
      "#include \"test.h\"\n",
      "#include <math.h>\n",
      "double quat(double qw, double qx, double qy, double qz) {\n",
      "   double quat_result;\n",
      "   quat_result = pow(qw, 2) - pow(qx, 2) - pow(qy, 2) - pow(qz, 2);\n",
      "   return quat_result;\n",
      "}\n",
      "\n"
     ]
    }
   ],
   "source": [
    "qw, qx, qy, qz = sp.symbols(\"qw qx qy qz\") \n",
    "q = Quaternion(qw, qx, qy, qz)\n",
    "\n",
    "q_result = q.mul(q)\n",
    "\n",
    "expr = q_result.a\n",
    "\n",
    "# X = Matrix([[x],[y],[z]])\n",
    "# expr = R*X\n",
    "\n",
    "[(c_name, c_code), (h_name, c_header)] = \\\n",
    "codegen(('quat', expr), \"C99\", \"test\", header=False, empty=False)\n",
    "print(c_code)"
   ]
  },
  {
   "cell_type": "code",
   "execution_count": null,
   "id": "08ea4001",
   "metadata": {},
   "outputs": [],
   "source": []
  }
 ],
 "metadata": {
  "kernelspec": {
   "display_name": "Python 3 (ipykernel)",
   "language": "python",
   "name": "python3"
  },
  "language_info": {
   "codemirror_mode": {
    "name": "ipython",
    "version": 3
   },
   "file_extension": ".py",
   "mimetype": "text/x-python",
   "name": "python",
   "nbconvert_exporter": "python",
   "pygments_lexer": "ipython3",
   "version": "3.10.9"
  }
 },
 "nbformat": 4,
 "nbformat_minor": 5
}
